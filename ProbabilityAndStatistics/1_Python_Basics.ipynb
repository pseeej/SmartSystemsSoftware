{
  "nbformat": 4,
  "nbformat_minor": 0,
  "metadata": {
    "colab": {
      "name": "1. Python Basics.ipynb",
      "provenance": [],
      "collapsed_sections": []
    },
    "kernelspec": {
      "name": "python3",
      "display_name": "Python 3"
    },
    "language_info": {
      "name": "python"
    }
  },
  "cells": [
    {
      "cell_type": "code",
      "metadata": {
        "colab": {
          "base_uri": "https://localhost:8080/"
        },
        "id": "Dv8vZxhuTFv5",
        "outputId": "d7593041-3c9d-4d15-85ae-93a8c3ec5698"
      },
      "source": [
        "import sys # 외부 / 내부 패키지를 import로 불러오기\n",
        "print(sys.version_info) # python v3.7.11"
      ],
      "execution_count": 1,
      "outputs": [
        {
          "output_type": "stream",
          "name": "stdout",
          "text": [
            "sys.version_info(major=3, minor=7, micro=11, releaselevel='final', serial=0)\n"
          ]
        }
      ]
    },
    {
      "cell_type": "code",
      "metadata": {
        "id": "vR3HVMGxVExW"
      },
      "source": [
        "# jupyter -> ipython -> interactive python"
      ],
      "execution_count": 2,
      "outputs": []
    },
    {
      "cell_type": "code",
      "metadata": {
        "colab": {
          "base_uri": "https://localhost:8080/"
        },
        "id": "Mf6KsbbVVStn",
        "outputId": "5221bfe8-07e1-4123-afad-8c015e5999a1"
      },
      "source": [
        "!dir"
      ],
      "execution_count": 3,
      "outputs": [
        {
          "output_type": "stream",
          "name": "stdout",
          "text": [
            "sample_data\n"
          ]
        }
      ]
    },
    {
      "cell_type": "code",
      "metadata": {
        "colab": {
          "base_uri": "https://localhost:8080/"
        },
        "id": "swB9KoIAVXUQ",
        "outputId": "82dca04f-1c20-45f8-87ca-974cd05f64bf"
      },
      "source": [
        "# 주석\n",
        "print(\"Hello world\")    # 주석\n",
        "\n",
        "\"\"\"\n",
        "이것은 docstring.\n",
        "소스코드 실행에는 영향 주지 않음.\n",
        "대신 interpreter가 읽기는 함\n",
        "여러줄\n",
        "주석을\n",
        "달 수\n",
        "있습니다\n",
        "\"\"\"\n",
        "\n",
        "# pypy -> python으로 짠 python -> cpython보다 빠름. pure python code일 때.\n",
        "# cpython -> c로 짠 python (우리가 보통 사용하는 거)\n",
        "\n",
        "print(\"Hello World\")"
      ],
      "execution_count": 4,
      "outputs": [
        {
          "output_type": "stream",
          "name": "stdout",
          "text": [
            "Hello world\n",
            "Hello World\n"
          ]
        }
      ]
    },
    {
      "cell_type": "code",
      "metadata": {
        "id": "Lrg__8v8VkLa"
      },
      "source": [
        "name = \"Park Sejin\" # 변수 선언"
      ],
      "execution_count": 5,
      "outputs": []
    },
    {
      "cell_type": "code",
      "metadata": {
        "id": "-YLHYJRNV_d4"
      },
      "source": [
        "# python에서는 type 지정할 필요 없음\n",
        "var1 = 100  # c++ long\n",
        "var2 = 100.1    # c++ double\n",
        "var3 = \"String\"\n",
        "var4 = [100, 100]   # list (순서 O)\n",
        "var5 = {1: 100, 2: 200} # dictionary dict\n",
        "var6 = {100, 200, 300}  # set"
      ],
      "execution_count": 6,
      "outputs": []
    },
    {
      "cell_type": "code",
      "metadata": {
        "colab": {
          "base_uri": "https://localhost:8080/"
        },
        "id": "FkJb3QSoWS7f",
        "outputId": "ac214549-d866-4690-ec0c-5cdbf321232f"
      },
      "source": [
        "print(10+4)\n",
        "print(10-4)\n",
        "print(10*4)\n",
        "print(10/4)\n",
        "print(10%4)     # 나머지\n",
        "print(10//4)    # 몫\n",
        "print(10**4)"
      ],
      "execution_count": 7,
      "outputs": [
        {
          "output_type": "stream",
          "name": "stdout",
          "text": [
            "14\n",
            "6\n",
            "40\n",
            "2.5\n",
            "2\n",
            "2\n",
            "10000\n"
          ]
        }
      ]
    },
    {
      "cell_type": "code",
      "metadata": {
        "id": "hp4dBVWGWcJD"
      },
      "source": [
        "i = 1\n",
        "i += 1  # i++는 존재하지 않음"
      ],
      "execution_count": 8,
      "outputs": []
    },
    {
      "cell_type": "code",
      "metadata": {
        "colab": {
          "base_uri": "https://localhost:8080/"
        },
        "id": "bbGNT1JtWkwS",
        "outputId": "3bf73ce6-3c51-47aa-acd6-36dcbe30aaca"
      },
      "source": [
        "print((1 + 2 - 3)* 4)"
      ],
      "execution_count": 9,
      "outputs": [
        {
          "output_type": "stream",
          "name": "stdout",
          "text": [
            "0\n"
          ]
        }
      ]
    },
    {
      "cell_type": "code",
      "metadata": {
        "colab": {
          "base_uri": "https://localhost:8080/"
        },
        "id": "arFZDFtPWpGg",
        "outputId": "b67a7a4f-814b-48d5-e8c7-5303c5264c1d"
      },
      "source": [
        "# string -> 줄 -> 줄줄이 있는 거고 -> 문자\"열\"\n",
        "simple_string = \"String, 스트링\"\n",
        "\n",
        "multiline_string = '''\n",
        "여러줄\n",
        "스트링을\n",
        "정의합시다'''\n",
        "\n",
        "multiline_string2 = \"개인적으로는 한 줄에 개행문자\\n을 쓰는 것을 더 선호합니다.\"\n",
        "\n",
        "print(\"%s %s %s %s\" %(\"스트링을 출력합니다\", simple_string, multiline_string, multiline_string2))"
      ],
      "execution_count": 13,
      "outputs": [
        {
          "output_type": "stream",
          "name": "stdout",
          "text": [
            "스트링을 출력합니다 String, 스트링 \n",
            "여러줄\n",
            "스트링을\n",
            "정의합시다 개인적으로는 한 줄에 개행문자\n",
            "을 쓰는 것을 더 선호합니다.\n"
          ]
        }
      ]
    },
    {
      "cell_type": "code",
      "metadata": {
        "colab": {
          "base_uri": "https://localhost:8080/"
        },
        "id": "hc0tjxCGX9ME",
        "outputId": "2ae82fb8-a9de-4893-b174-91f35726e3d4"
      },
      "source": [
        "print(\"hello world\", end=\"\\t\")\n",
        "print(\"hello world\")    # 기본적으로 print에는 개행문자가 마지막에 추가됨"
      ],
      "execution_count": 14,
      "outputs": [
        {
          "output_type": "stream",
          "name": "stdout",
          "text": [
            "hello world\thello world\n"
          ]
        }
      ]
    },
    {
      "cell_type": "code",
      "metadata": {
        "colab": {
          "base_uri": "https://localhost:8080/"
        },
        "id": "HHf3QpmbYJi-",
        "outputId": "538c6661-0ae3-4ac3-95e1-115fc54eba73"
      },
      "source": [
        "print(\"안녕하세요\" + \"안녕하십니까\")    # string에서 연산도 가능함.\n",
        "print(\"안녕하세요\" * 5)"
      ],
      "execution_count": 15,
      "outputs": [
        {
          "output_type": "stream",
          "name": "stdout",
          "text": [
            "안녕하세요안녕하십니까\n",
            "안녕하세요안녕하세요안녕하세요안녕하세요안녕하세요\n"
          ]
        }
      ]
    },
    {
      "cell_type": "code",
      "metadata": {
        "colab": {
          "base_uri": "https://localhost:8080/"
        },
        "id": "mujpFX_xYPaI",
        "outputId": "1525c235-58eb-4110-f3f7-c2edf53ac4d6"
      },
      "source": [
        "class_list = [\"확률및통계\", \"자료구조\", \"알고리즘\", \"이산수학\"]\n",
        "print(class_list[0])"
      ],
      "execution_count": 16,
      "outputs": [
        {
          "output_type": "stream",
          "name": "stdout",
          "text": [
            "확률및통계\n"
          ]
        }
      ]
    },
    {
      "cell_type": "code",
      "metadata": {
        "id": "rruG7r3ZYViq"
      },
      "source": [
        "class_list[0] = \"확통(스시소)\""
      ],
      "execution_count": 17,
      "outputs": []
    },
    {
      "cell_type": "code",
      "metadata": {
        "colab": {
          "base_uri": "https://localhost:8080/"
        },
        "id": "JyKb2K5tYZBj",
        "outputId": "ac5811a5-3438-4623-bf38-262c7b7c29f1"
      },
      "source": [
        "print(class_list[0])"
      ],
      "execution_count": 18,
      "outputs": [
        {
          "output_type": "stream",
          "name": "stdout",
          "text": [
            "확통(스시소)\n"
          ]
        }
      ]
    },
    {
      "cell_type": "code",
      "metadata": {
        "colab": {
          "base_uri": "https://localhost:8080/"
        },
        "id": "dWriMp7XYbOu",
        "outputId": "ab63a189-1046-4bf5-fea0-e712590bc797"
      },
      "source": [
        "print(class_list[1:3])"
      ],
      "execution_count": 19,
      "outputs": [
        {
          "output_type": "stream",
          "name": "stdout",
          "text": [
            "['자료구조', '알고리즘']\n"
          ]
        }
      ]
    },
    {
      "cell_type": "code",
      "metadata": {
        "id": "_Gv7C1HEYfk3"
      },
      "source": [
        "homework_list = [\"Github 가입\", \"Python 설치\", \"문제 1번 풀기\", \"문제 2번 풀기\", \"문제 3번 풀기\"]"
      ],
      "execution_count": 20,
      "outputs": []
    },
    {
      "cell_type": "code",
      "metadata": {
        "id": "fXjPXpMiYnFG"
      },
      "source": [
        "this_week = [class_list, homework_list]"
      ],
      "execution_count": 21,
      "outputs": []
    },
    {
      "cell_type": "code",
      "metadata": {
        "id": "MPVurfTjYpV4"
      },
      "source": [
        "homework_list.append(\"문제 4번 풀기\")"
      ],
      "execution_count": 22,
      "outputs": []
    },
    {
      "cell_type": "code",
      "metadata": {
        "colab": {
          "base_uri": "https://localhost:8080/"
        },
        "id": "KiHgnSupYrEE",
        "outputId": "1bb5b236-d92e-4642-d888-ee59301b9445"
      },
      "source": [
        "this_week"
      ],
      "execution_count": 23,
      "outputs": [
        {
          "output_type": "execute_result",
          "data": {
            "text/plain": [
              "[['확통(스시소)', '자료구조', '알고리즘', '이산수학'],\n",
              " ['Github 가입', 'Python 설치', '문제 1번 풀기', '문제 2번 풀기', '문제 3번 풀기', '문제 4번 풀기']]"
            ]
          },
          "metadata": {},
          "execution_count": 23
        }
      ]
    },
    {
      "cell_type": "code",
      "metadata": {
        "id": "IVEg3pENYr3s"
      },
      "source": [
        "homework_list.insert(1, \"아이디와 이메일 보내기\")"
      ],
      "execution_count": 24,
      "outputs": []
    },
    {
      "cell_type": "code",
      "metadata": {
        "colab": {
          "base_uri": "https://localhost:8080/"
        },
        "id": "gUmdoKtCYwzP",
        "outputId": "e7934211-275f-42b5-c214-e18720e4bd87"
      },
      "source": [
        "this_week"
      ],
      "execution_count": 25,
      "outputs": [
        {
          "output_type": "execute_result",
          "data": {
            "text/plain": [
              "[['확통(스시소)', '자료구조', '알고리즘', '이산수학'],\n",
              " ['Github 가입',\n",
              "  '아이디와 이메일 보내기',\n",
              "  'Python 설치',\n",
              "  '문제 1번 풀기',\n",
              "  '문제 2번 풀기',\n",
              "  '문제 3번 풀기',\n",
              "  '문제 4번 풀기']]"
            ]
          },
          "metadata": {},
          "execution_count": 25
        }
      ]
    },
    {
      "cell_type": "code",
      "metadata": {
        "id": "KOVhf0KiY0yf"
      },
      "source": [
        "homework_list.remove(\"문제 2번 풀기\")"
      ],
      "execution_count": 26,
      "outputs": []
    },
    {
      "cell_type": "code",
      "metadata": {
        "colab": {
          "base_uri": "https://localhost:8080/"
        },
        "id": "rRPDTTqgY3ED",
        "outputId": "f628a530-74bc-4ed2-9bfa-458ef686abf9"
      },
      "source": [
        "this_week"
      ],
      "execution_count": 27,
      "outputs": [
        {
          "output_type": "execute_result",
          "data": {
            "text/plain": [
              "[['확통(스시소)', '자료구조', '알고리즘', '이산수학'],\n",
              " ['Github 가입',\n",
              "  '아이디와 이메일 보내기',\n",
              "  'Python 설치',\n",
              "  '문제 1번 풀기',\n",
              "  '문제 3번 풀기',\n",
              "  '문제 4번 풀기']]"
            ]
          },
          "metadata": {},
          "execution_count": 27
        }
      ]
    },
    {
      "cell_type": "code",
      "metadata": {
        "id": "8Jmhu0hgY39w"
      },
      "source": [
        "sample_list = [\"A\", \"A\", \"B\", \"A\"]"
      ],
      "execution_count": 29,
      "outputs": []
    },
    {
      "cell_type": "code",
      "metadata": {
        "colab": {
          "base_uri": "https://localhost:8080/"
        },
        "id": "yN3-bkUDY-Wb",
        "outputId": "1760c480-ab6a-4093-dd64-fe2c19d3111c"
      },
      "source": [
        "sample_list.remove(\"A\") # 하면 제일 앞의 A 하나만 지워짐\n",
        "sample_list"
      ],
      "execution_count": 30,
      "outputs": [
        {
          "output_type": "execute_result",
          "data": {
            "text/plain": [
              "['A', 'B', 'A']"
            ]
          },
          "metadata": {},
          "execution_count": 30
        }
      ]
    },
    {
      "cell_type": "code",
      "metadata": {
        "id": "N84E2XTRZC8G"
      },
      "source": [
        "sample_list.sort()  # list 안의 내용을 진짜로 바꿔줌"
      ],
      "execution_count": 32,
      "outputs": []
    },
    {
      "cell_type": "code",
      "metadata": {
        "colab": {
          "base_uri": "https://localhost:8080/"
        },
        "id": "0bXYhmatZGJw",
        "outputId": "8598ed82-b110-41d0-8f56-da11adbabc33"
      },
      "source": [
        "sorted(sample_list) # 이거는 sample_list의 내용을 바꾸지 않음"
      ],
      "execution_count": 33,
      "outputs": [
        {
          "output_type": "execute_result",
          "data": {
            "text/plain": [
              "['A', 'A', 'B']"
            ]
          },
          "metadata": {},
          "execution_count": 33
        }
      ]
    },
    {
      "cell_type": "code",
      "metadata": {
        "id": "lY8uFEUvZOgw"
      },
      "source": [
        "sample_list.sort(reverse=True)  # 역순 정렬"
      ],
      "execution_count": 34,
      "outputs": []
    },
    {
      "cell_type": "code",
      "metadata": {
        "id": "4U81oxscZR-7"
      },
      "source": [
        "del sample_list[2]"
      ],
      "execution_count": 37,
      "outputs": []
    },
    {
      "cell_type": "code",
      "metadata": {
        "colab": {
          "base_uri": "https://localhost:8080/"
        },
        "id": "7qljvijqZThv",
        "outputId": "e18453a5-6ba6-4ed8-adbd-3ec0a34d8236"
      },
      "source": [
        "sample_list"
      ],
      "execution_count": 38,
      "outputs": [
        {
          "output_type": "execute_result",
          "data": {
            "text/plain": [
              "['B', 'A']"
            ]
          },
          "metadata": {},
          "execution_count": 38
        }
      ]
    },
    {
      "cell_type": "code",
      "metadata": {
        "id": "Fbxc1FwLZUeM"
      },
      "source": [
        "this_week2 = class_list + homework_list"
      ],
      "execution_count": 39,
      "outputs": []
    },
    {
      "cell_type": "code",
      "metadata": {
        "id": "y4Oyxu3EZa5K"
      },
      "source": [
        "class_list2 = class_list*2"
      ],
      "execution_count": 41,
      "outputs": []
    },
    {
      "cell_type": "code",
      "metadata": {
        "colab": {
          "base_uri": "https://localhost:8080/"
        },
        "id": "2Dv6sey6ZeQ_",
        "outputId": "2f040689-c52f-48cc-a15d-d55ccfab3d95"
      },
      "source": [
        "class_list2"
      ],
      "execution_count": 42,
      "outputs": [
        {
          "output_type": "execute_result",
          "data": {
            "text/plain": [
              "['확통(스시소)', '자료구조', '알고리즘', '이산수학', '확통(스시소)', '자료구조', '알고리즘', '이산수학']"
            ]
          },
          "metadata": {},
          "execution_count": 42
        }
      ]
    },
    {
      "cell_type": "code",
      "metadata": {
        "id": "nL1ZSIU5Zfb3"
      },
      "source": [
        "class_list2 = [class_list]*2"
      ],
      "execution_count": 43,
      "outputs": []
    },
    {
      "cell_type": "code",
      "metadata": {
        "id": "sAJuLFmQZhVv"
      },
      "source": [
        "class_list2[0][1] = \"폐강됨\""
      ],
      "execution_count": 46,
      "outputs": []
    },
    {
      "cell_type": "code",
      "metadata": {
        "colab": {
          "base_uri": "https://localhost:8080/"
        },
        "id": "F25ilnuFZj7e",
        "outputId": "4876bf7b-813b-4398-ef38-d3abfd8eadbd"
      },
      "source": [
        "class_list2     # python의 list는 pointer 형태로 사용됨. 따라서 양쪽이 다 바뀜"
      ],
      "execution_count": 47,
      "outputs": [
        {
          "output_type": "execute_result",
          "data": {
            "text/plain": [
              "[['확통(스시소)', '폐강됨', '알고리즘', '이산수학'], ['확통(스시소)', '폐강됨', '알고리즘', '이산수학']]"
            ]
          },
          "metadata": {},
          "execution_count": 47
        }
      ]
    },
    {
      "cell_type": "code",
      "metadata": {
        "colab": {
          "base_uri": "https://localhost:8080/"
        },
        "id": "V1A9iI0vZuyv",
        "outputId": "d8627c5d-5016-43d5-a885-2fc6ace4dde0"
      },
      "source": [
        "print(len(class_list2))"
      ],
      "execution_count": 48,
      "outputs": [
        {
          "output_type": "stream",
          "name": "stdout",
          "text": [
            "2\n"
          ]
        }
      ]
    },
    {
      "cell_type": "code",
      "metadata": {
        "colab": {
          "base_uri": "https://localhost:8080/"
        },
        "id": "o-7pOJsWZxta",
        "outputId": "be7af125-633a-4e32-dcf9-3514888b6d37"
      },
      "source": [
        "print(max(class_list))"
      ],
      "execution_count": 49,
      "outputs": [
        {
          "output_type": "stream",
          "name": "stdout",
          "text": [
            "확통(스시소)\n"
          ]
        }
      ]
    },
    {
      "cell_type": "code",
      "metadata": {
        "colab": {
          "base_uri": "https://localhost:8080/"
        },
        "id": "hwgs0_LaZzLm",
        "outputId": "1d8d7526-b269-4f09-aa4a-67d57b3451b1"
      },
      "source": [
        "print(min(class_list))"
      ],
      "execution_count": 50,
      "outputs": [
        {
          "output_type": "stream",
          "name": "stdout",
          "text": [
            "알고리즘\n"
          ]
        }
      ]
    },
    {
      "cell_type": "code",
      "metadata": {
        "colab": {
          "base_uri": "https://localhost:8080/"
        },
        "id": "7Ys6fshyZ1KX",
        "outputId": "d02aaf72-ca42-4309-9534-e58d71a63222"
      },
      "source": [
        "[\"확률및통계\", 3, [\"테스트\", 1234], \"선생님\"]   # python의 list에는 다양한 type이 들어갈 수 있음"
      ],
      "execution_count": 51,
      "outputs": [
        {
          "output_type": "execute_result",
          "data": {
            "text/plain": [
              "['확률및통계', 3, ['테스트', 1234], '선생님']"
            ]
          },
          "metadata": {},
          "execution_count": 51
        }
      ]
    },
    {
      "cell_type": "code",
      "metadata": {
        "colab": {
          "base_uri": "https://localhost:8080/"
        },
        "id": "AuvogQL-Z9EZ",
        "outputId": "62e5aef1-2aab-412e-cfee-5d2ef426736c"
      },
      "source": [
        "pi = (3, 1, 4, 1, 5, 9) # tuple\n",
        "print(type(pi))"
      ],
      "execution_count": 52,
      "outputs": [
        {
          "output_type": "stream",
          "name": "stdout",
          "text": [
            "<class 'tuple'>\n"
          ]
        }
      ]
    },
    {
      "cell_type": "code",
      "metadata": {
        "colab": {
          "base_uri": "https://localhost:8080/",
          "height": 169
        },
        "id": "z61fLquXaAXx",
        "outputId": "709deef5-c398-45be-bad0-b5d9c9c3abec"
      },
      "source": [
        "pi[0] = 4   # 변환 불가"
      ],
      "execution_count": 53,
      "outputs": [
        {
          "output_type": "error",
          "ename": "TypeError",
          "evalue": "ignored",
          "traceback": [
            "\u001b[0;31m---------------------------------------------------------------------------\u001b[0m",
            "\u001b[0;31mTypeError\u001b[0m                                 Traceback (most recent call last)",
            "\u001b[0;32m<ipython-input-53-25d9965cc495>\u001b[0m in \u001b[0;36m<module>\u001b[0;34m()\u001b[0m\n\u001b[0;32m----> 1\u001b[0;31m \u001b[0mpi\u001b[0m\u001b[0;34m[\u001b[0m\u001b[0;36m0\u001b[0m\u001b[0;34m]\u001b[0m \u001b[0;34m=\u001b[0m \u001b[0;36m4\u001b[0m   \u001b[0;31m# 변환 불가\u001b[0m\u001b[0;34m\u001b[0m\u001b[0;34m\u001b[0m\u001b[0m\n\u001b[0m",
            "\u001b[0;31mTypeError\u001b[0m: 'tuple' object does not support item assignment"
          ]
        }
      ]
    },
    {
      "cell_type": "code",
      "metadata": {
        "id": "98xt5hqPaC4Q"
      },
      "source": [
        "# tuple을 변환하고 싶으면 list형으로 변환 후에 하삼\n",
        "list_pi = list(pi)\n",
        "tuple_pi = tuple(list_pi)"
      ],
      "execution_count": 55,
      "outputs": []
    },
    {
      "cell_type": "code",
      "metadata": {
        "colab": {
          "base_uri": "https://localhost:8080/"
        },
        "id": "vXesfKySaLJB",
        "outputId": "ab44a306-55cf-4996-8860-6ca6760eab6c"
      },
      "source": [
        "attendance_set = {\"Tom\", \"Mike\", \"Jane\"}\n",
        "print(type(attendance_set))\n",
        "print(attendance_set)\n",
        "\n",
        "# dict에는 순서가 없음. key:value\n",
        "student_number = {\"Tom\" : 20201010, \"Mike\":20191219, \"Jane\":20182193}\n",
        "print(type(student_number))"
      ],
      "execution_count": 56,
      "outputs": [
        {
          "output_type": "stream",
          "name": "stdout",
          "text": [
            "<class 'set'>\n",
            "{'Jane', 'Mike', 'Tom'}\n",
            "<class 'dict'>\n"
          ]
        }
      ]
    },
    {
      "cell_type": "code",
      "metadata": {
        "id": "IKHRvdoSab7D"
      },
      "source": [
        "from collections import OrderedDict # 순서 있는 dict 사용하기 위해서는 OrderedDIct를 사용하라!"
      ],
      "execution_count": 57,
      "outputs": []
    },
    {
      "cell_type": "code",
      "metadata": {
        "colab": {
          "base_uri": "https://localhost:8080/"
        },
        "id": "neg4HOFzamGP",
        "outputId": "c25686ec-043e-414f-816f-67942db43579"
      },
      "source": [
        "print(student_number.keys())\n",
        "print(student_number.values())\n",
        "print(student_number.items())   # (key, value)"
      ],
      "execution_count": 58,
      "outputs": [
        {
          "output_type": "stream",
          "name": "stdout",
          "text": [
            "dict_keys(['Tom', 'Mike', 'Jane'])\n",
            "dict_values([20201010, 20191219, 20182193])\n",
            "dict_items([('Tom', 20201010), ('Mike', 20191219), ('Jane', 20182193)])\n"
          ]
        }
      ]
    }
  ]
}