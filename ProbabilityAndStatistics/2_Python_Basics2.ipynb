{
  "nbformat": 4,
  "nbformat_minor": 0,
  "metadata": {
    "colab": {
      "name": "2_Python_Basics2.ipynb",
      "provenance": [],
      "collapsed_sections": []
    },
    "kernelspec": {
      "name": "python3",
      "display_name": "Python 3"
    },
    "language_info": {
      "name": "python"
    },
    "accelerator": "GPU"
  },
  "cells": [
    {
      "cell_type": "markdown",
      "metadata": {
        "id": "cL_C9ayO24Xu"
      },
      "source": [
        "## 2주 2강 : Python Basics\n"
      ]
    },
    {
      "cell_type": "code",
      "metadata": {
        "colab": {
          "base_uri": "https://localhost:8080/"
        },
        "id": "bR2sEkP22hJD",
        "outputId": "04f83a67-b69b-40cb-a16f-d5f4567c90cb"
      },
      "source": [
        "my_gpa = 3.5\n",
        "my_addmision_year = 2017\n",
        "\n",
        "if (my_gpa > 4.0):\n",
        "    print(\"당신은 최우수 장학금을 수여받을 수 있습니다\")\n",
        "else :\n",
        "    print(\"학업장려 장학금을 수여 받을 수 있습니다.\")"
      ],
      "execution_count": 1,
      "outputs": [
        {
          "output_type": "stream",
          "name": "stdout",
          "text": [
            "학업장려 장학금을 수여 받을 수 있습니다.\n"
          ]
        }
      ]
    },
    {
      "cell_type": "code",
      "metadata": {
        "colab": {
          "base_uri": "https://localhost:8080/"
        },
        "id": "Atg5p4G_3Oel",
        "outputId": "0eb7908f-9ebb-41e4-e91c-f447e2d9a60e"
      },
      "source": [
        "my_gpa = 3.5\n",
        "my_addmision_year = 2017\n",
        "\n",
        "if (my_gpa > 4.0):\n",
        "    print(\"당신은 최우수 장학금을 수여받을 수 있습니다\")\n",
        "elif not my_gpa <= 2.0:\n",
        "    print(\"당신은 힘내요 장학금을 받을 수 있습니다.\")\n",
        "else :\n",
        "    print(\"학업장려 장학금을 수여 받을 수 있습니다.\")"
      ],
      "execution_count": 2,
      "outputs": [
        {
          "output_type": "stream",
          "name": "stdout",
          "text": [
            "당신은 힘내요 장학금을 받을 수 있습니다.\n"
          ]
        }
      ]
    },
    {
      "cell_type": "code",
      "metadata": {
        "colab": {
          "base_uri": "https://localhost:8080/"
        },
        "id": "pi_YxLMs3XDx",
        "outputId": "3efb1127-22b5-4ddd-f0b7-7ce3c0201f0b"
      },
      "source": [
        "# for x in range(0, 10):  # range(a, b) [a, a-1, ..., b-1]\n",
        "print(list(range(0, 10, 2)))   # python 2.x xrange / range"
      ],
      "execution_count": 3,
      "outputs": [
        {
          "output_type": "stream",
          "name": "stdout",
          "text": [
            "[0, 2, 4, 6, 8]\n"
          ]
        }
      ]
    },
    {
      "cell_type": "code",
      "metadata": {
        "colab": {
          "base_uri": "https://localhost:8080/"
        },
        "id": "LOyy1gHS3jcr",
        "outputId": "dfbf9764-6bf4-490a-c771-8729dc88507c"
      },
      "source": [
        "for x in range(0, 10):\n",
        "    print(x, end=\" \")"
      ],
      "execution_count": 4,
      "outputs": [
        {
          "output_type": "stream",
          "name": "stdout",
          "text": [
            "0 1 2 3 4 5 6 7 8 9 "
          ]
        }
      ]
    },
    {
      "cell_type": "code",
      "metadata": {
        "colab": {
          "base_uri": "https://localhost:8080/"
        },
        "id": "2r2V3bN04gjR",
        "outputId": "0038fd29-2b68-49ec-c193-1cdcef0370b7"
      },
      "source": [
        "homework_list = [\"Github 가입\", \"Python 설치\", \"문제 1번 풀기\", \"문제 2번 풀기\"]\n",
        "for item in homework_list:\n",
        "    print(item)\n",
        "\n",
        "for item in [\"Github 가입\", \"Python 설치\", \"문제 1번 풀기\", \"문제 2번 풀기\"]:\n",
        "    print(item)"
      ],
      "execution_count": 5,
      "outputs": [
        {
          "output_type": "stream",
          "name": "stdout",
          "text": [
            "Github 가입\n",
            "Python 설치\n",
            "문제 1번 풀기\n",
            "문제 2번 풀기\n",
            "Github 가입\n",
            "Python 설치\n",
            "문제 1번 풀기\n",
            "문제 2번 풀기\n"
          ]
        }
      ]
    },
    {
      "cell_type": "code",
      "metadata": {
        "colab": {
          "base_uri": "https://localhost:8080/"
        },
        "id": "eToExSdL4wzs",
        "outputId": "7a393b71-1163-4a0d-f193-84368691d633"
      },
      "source": [
        "numbers = [[1, 2, 3], [10, 20, 30], [100, 200, 300]]\n",
        "for i in range(len(numbers)):\n",
        "    for j in range(len(numbers[i])):\n",
        "        print(numbers[i][j])"
      ],
      "execution_count": 8,
      "outputs": [
        {
          "output_type": "stream",
          "name": "stdout",
          "text": [
            "1\n",
            "2\n",
            "3\n",
            "10\n",
            "20\n",
            "30\n",
            "100\n",
            "200\n",
            "300\n"
          ]
        }
      ]
    },
    {
      "cell_type": "code",
      "metadata": {
        "colab": {
          "base_uri": "https://localhost:8080/"
        },
        "id": "yT7cfh7245jK",
        "outputId": "9fcb5bc3-c422-4d6e-ead9-78de40b9d1db"
      },
      "source": [
        "for x in range(0, 10):\n",
        "    if x%2:\n",
        "        continue\n",
        "    print(x, end=\" \")"
      ],
      "execution_count": 10,
      "outputs": [
        {
          "output_type": "stream",
          "name": "stdout",
          "text": [
            "0 2 4 6 8 "
          ]
        }
      ]
    },
    {
      "cell_type": "code",
      "metadata": {
        "id": "A312x-i85EoG"
      },
      "source": [
        "import random"
      ],
      "execution_count": 11,
      "outputs": []
    },
    {
      "cell_type": "code",
      "metadata": {
        "colab": {
          "base_uri": "https://localhost:8080/"
        },
        "id": "50HC92Fn5NvX",
        "outputId": "f066c69a-ed44-4a25-bbb8-efc6bc9995c4"
      },
      "source": [
        "randnum = random.randrange(0, 100)\n",
        "while(randnum<90):\n",
        "    print(randnum)\n",
        "    randnum = random.randrange(0, 100)"
      ],
      "execution_count": 12,
      "outputs": [
        {
          "output_type": "stream",
          "name": "stdout",
          "text": [
            "88\n",
            "61\n",
            "36\n",
            "33\n"
          ]
        }
      ]
    },
    {
      "cell_type": "code",
      "metadata": {
        "colab": {
          "base_uri": "https://localhost:8080/"
        },
        "id": "x_NaI-Zi5S_C",
        "outputId": "9fd33d93-707c-40bb-fa48-8c104c8bb5ac"
      },
      "source": [
        "index = 0\n",
        "while(index < 10):\n",
        "    index += 1\n",
        "    if index%2==0:\n",
        "        continue\n",
        "    elif index == 7:\n",
        "        break\n",
        "    print(index)"
      ],
      "execution_count": 13,
      "outputs": [
        {
          "output_type": "stream",
          "name": "stdout",
          "text": [
            "1\n",
            "3\n",
            "5\n"
          ]
        }
      ]
    },
    {
      "cell_type": "code",
      "metadata": {
        "colab": {
          "base_uri": "https://localhost:8080/"
        },
        "id": "cuYPuNM35ZW4",
        "outputId": "6943a3b1-05ee-4c03-bd1e-3df0ab843fc3"
      },
      "source": [
        "def addNumber(number1, number2):\n",
        "    total = number1+number2\n",
        "    return total\n",
        "print(addNumber(0, 1))"
      ],
      "execution_count": 14,
      "outputs": [
        {
          "output_type": "stream",
          "name": "stdout",
          "text": [
            "1\n"
          ]
        }
      ]
    },
    {
      "cell_type": "code",
      "metadata": {
        "id": "_Cql5Hjw5eDx"
      },
      "source": [
        "ssu_song = \"이상을 우러르는 우리의 기상 저높은 백두산과 다름이 없고\"    # 숭실대 교가...? 가사 처음 봐요"
      ],
      "execution_count": 15,
      "outputs": []
    },
    {
      "cell_type": "code",
      "metadata": {
        "colab": {
          "base_uri": "https://localhost:8080/"
        },
        "id": "FxXzWvPB5nhr",
        "outputId": "176c6e2d-404a-4412-9871-bb82a3f4f3e7"
      },
      "source": [
        "print(ssu_song + \" 진리를 사모하는 우리의 마음\")"
      ],
      "execution_count": 17,
      "outputs": [
        {
          "output_type": "stream",
          "name": "stdout",
          "text": [
            "이상을 우러르는 우리의 기상 저높은 백두산과 다름이 없고 진리를 사모하는 우리의 마음\n"
          ]
        }
      ]
    },
    {
      "cell_type": "code",
      "metadata": {
        "colab": {
          "base_uri": "https://localhost:8080/"
        },
        "id": "F1PRisJH5sfY",
        "outputId": "23ae6b83-c5ef-4d32-9b65-ee755098768a"
      },
      "source": [
        "name = \"박세진\"\n",
        "myclass = \"학생\"\n",
        "mystartingyear = 2018\n",
        "print(\"나는 %s이고, 숭실대학교 %s입니다. %d년부터 숭실대학교를 다녔습니다.\" %(name, myclass, mystartingyear))"
      ],
      "execution_count": 20,
      "outputs": [
        {
          "output_type": "stream",
          "name": "stdout",
          "text": [
            "나는 박세진이고, 숭실대학교 학생입니다. 2018년부터 숭실대학교를 다녔습니다.\n"
          ]
        }
      ]
    },
    {
      "cell_type": "code",
      "metadata": {
        "colab": {
          "base_uri": "https://localhost:8080/"
        },
        "id": "KBL6tmyk55bE",
        "outputId": "5d031ff0-5a38-448e-8b62-6e5c7f08cd43"
      },
      "source": [
        "print(f\"나는 {name}이고, 숭실대학교 {myclass}입니다. {mystartingyear}년부터 숭실대학교를 다녔습니다.\")"
      ],
      "execution_count": 21,
      "outputs": [
        {
          "output_type": "stream",
          "name": "stdout",
          "text": [
            "나는 박세진이고, 숭실대학교 학생입니다. 2018년부터 숭실대학교를 다녔습니다.\n"
          ]
        }
      ]
    },
    {
      "cell_type": "code",
      "metadata": {
        "id": "iS3nXURz6CeS"
      },
      "source": [
        "pop_song = \"Every night in my dreams, I see you, I feel you - my heart will go on\""
      ],
      "execution_count": 22,
      "outputs": []
    },
    {
      "cell_type": "code",
      "metadata": {
        "colab": {
          "base_uri": "https://localhost:8080/",
          "height": 35
        },
        "id": "kP-wKVMQ6Hmi",
        "outputId": "7fe7ed06-2aa4-4f37-a9d4-636e22854eef"
      },
      "source": [
        "pop_song.lower()"
      ],
      "execution_count": 23,
      "outputs": [
        {
          "output_type": "execute_result",
          "data": {
            "application/vnd.google.colaboratory.intrinsic+json": {
              "type": "string"
            },
            "text/plain": [
              "'every night in my dreams, i see you, i feel you - my heart will go on'"
            ]
          },
          "metadata": {},
          "execution_count": 23
        }
      ]
    },
    {
      "cell_type": "code",
      "metadata": {
        "colab": {
          "base_uri": "https://localhost:8080/",
          "height": 35
        },
        "id": "9NDvk5ZC6JU5",
        "outputId": "c4b6c3ce-a339-4994-ab8a-99e414d3dad2"
      },
      "source": [
        "pop_song.capitalize()"
      ],
      "execution_count": 24,
      "outputs": [
        {
          "output_type": "execute_result",
          "data": {
            "application/vnd.google.colaboratory.intrinsic+json": {
              "type": "string"
            },
            "text/plain": [
              "'Every night in my dreams, i see you, i feel you - my heart will go on'"
            ]
          },
          "metadata": {},
          "execution_count": 24
        }
      ]
    },
    {
      "cell_type": "code",
      "metadata": {
        "colab": {
          "base_uri": "https://localhost:8080/"
        },
        "id": "uyzPFUKp6LNW",
        "outputId": "44d363c7-698e-4c5c-c963-7e01a0065c7e"
      },
      "source": [
        "pop_song.isalpha()  # alphabet인지 판별. 다 알파벳이면 true"
      ],
      "execution_count": 26,
      "outputs": [
        {
          "output_type": "execute_result",
          "data": {
            "text/plain": [
              "False"
            ]
          },
          "metadata": {},
          "execution_count": 26
        }
      ]
    },
    {
      "cell_type": "code",
      "metadata": {
        "colab": {
          "base_uri": "https://localhost:8080/"
        },
        "id": "6GdfKVPd6QpM",
        "outputId": "c5639de1-9b63-405b-8b23-ccb617afdc5c"
      },
      "source": [
        "pop_song.isalnum()  # 숫자를 포함한 alphabet이냐."
      ],
      "execution_count": 28,
      "outputs": [
        {
          "output_type": "execute_result",
          "data": {
            "text/plain": [
              "False"
            ]
          },
          "metadata": {},
          "execution_count": 28
        }
      ]
    },
    {
      "cell_type": "code",
      "metadata": {
        "colab": {
          "base_uri": "https://localhost:8080/"
        },
        "id": "MCioYIz-6Vl-",
        "outputId": "5cada744-81b6-4cf5-b475-e905b1e25607"
      },
      "source": [
        "pop_song.find(\"dreams\")"
      ],
      "execution_count": 29,
      "outputs": [
        {
          "output_type": "execute_result",
          "data": {
            "text/plain": [
              "18"
            ]
          },
          "metadata": {},
          "execution_count": 29
        }
      ]
    },
    {
      "cell_type": "code",
      "metadata": {
        "colab": {
          "base_uri": "https://localhost:8080/"
        },
        "id": "wTFO1lwd6Yw5",
        "outputId": "d5452393-3c88-4846-f60f-6432a0175a0f"
      },
      "source": [
        "pop_song.split(\",\")"
      ],
      "execution_count": 31,
      "outputs": [
        {
          "output_type": "execute_result",
          "data": {
            "text/plain": [
              "['Every night in my dreams', ' I see you', ' I feel you - my heart will go on']"
            ]
          },
          "metadata": {},
          "execution_count": 31
        }
      ]
    },
    {
      "cell_type": "code",
      "metadata": {
        "id": "2mhOptRn6aQL"
      },
      "source": [
        "pop_song2 = \"           Everynightinmy123     \""
      ],
      "execution_count": 32,
      "outputs": []
    },
    {
      "cell_type": "code",
      "metadata": {
        "colab": {
          "base_uri": "https://localhost:8080/",
          "height": 35
        },
        "id": "Uv4X13RX6hnP",
        "outputId": "f54648b4-e4ef-4dba-d6c9-a29fec8cbf32"
      },
      "source": [
        "pop_song2.lstrip()"
      ],
      "execution_count": 33,
      "outputs": [
        {
          "output_type": "execute_result",
          "data": {
            "application/vnd.google.colaboratory.intrinsic+json": {
              "type": "string"
            },
            "text/plain": [
              "'Everynightinmy123     '"
            ]
          },
          "metadata": {},
          "execution_count": 33
        }
      ]
    },
    {
      "cell_type": "code",
      "metadata": {
        "colab": {
          "base_uri": "https://localhost:8080/",
          "height": 35
        },
        "id": "N65b_f-v6jcS",
        "outputId": "eec5173a-c49a-48a8-a577-bdb3b866c55d"
      },
      "source": [
        "pop_song2.strip()"
      ],
      "execution_count": 34,
      "outputs": [
        {
          "output_type": "execute_result",
          "data": {
            "application/vnd.google.colaboratory.intrinsic+json": {
              "type": "string"
            },
            "text/plain": [
              "'Everynightinmy123'"
            ]
          },
          "metadata": {},
          "execution_count": 34
        }
      ]
    },
    {
      "cell_type": "code",
      "metadata": {
        "id": "4oZ9FTZG6l31"
      },
      "source": [
        "test_file = open(\"./test.txt\", \"w\")"
      ],
      "execution_count": 40,
      "outputs": []
    },
    {
      "cell_type": "code",
      "metadata": {
        "colab": {
          "base_uri": "https://localhost:8080/"
        },
        "id": "_MNqXgFx6w12",
        "outputId": "8edd8285-c23e-4b52-b026-fb355075d152"
      },
      "source": [
        "print(test_file.mode)   # 읽기/쓰기 모드 확인"
      ],
      "execution_count": 41,
      "outputs": [
        {
          "output_type": "stream",
          "name": "stdout",
          "text": [
            "w\n"
          ]
        }
      ]
    },
    {
      "cell_type": "code",
      "metadata": {
        "colab": {
          "base_uri": "https://localhost:8080/"
        },
        "id": "4h9cuUPi60pi",
        "outputId": "d2371cb0-0a13-470b-c138-57a74f4d0aaa"
      },
      "source": [
        "print(test_file.name)"
      ],
      "execution_count": 42,
      "outputs": [
        {
          "output_type": "stream",
          "name": "stdout",
          "text": [
            "./test.txt\n"
          ]
        }
      ]
    },
    {
      "cell_type": "code",
      "metadata": {
        "colab": {
          "base_uri": "https://localhost:8080/"
        },
        "id": "-dUOftbP63cB",
        "outputId": "87f15e84-56ed-4cbc-fd3a-198034b3b0e3"
      },
      "source": [
        "test_file.write(\"안녕하세요?\")"
      ],
      "execution_count": 43,
      "outputs": [
        {
          "output_type": "execute_result",
          "data": {
            "text/plain": [
              "6"
            ]
          },
          "metadata": {},
          "execution_count": 43
        }
      ]
    },
    {
      "cell_type": "code",
      "metadata": {
        "id": "5O2p_siD61-O"
      },
      "source": [
        "test_file.close()"
      ],
      "execution_count": 44,
      "outputs": []
    },
    {
      "cell_type": "code",
      "metadata": {
        "colab": {
          "base_uri": "https://localhost:8080/"
        },
        "id": "GlcDxV4Y7HVp",
        "outputId": "c720ccbc-3567-4ec9-aade-497b40930c4a"
      },
      "source": [
        "test_file = open(\"./test.txt\", \"r\")\n",
        "text_in_file = test_file.read()\n",
        "print(text_in_file)\n",
        "test_file.close()"
      ],
      "execution_count": 45,
      "outputs": [
        {
          "output_type": "stream",
          "name": "stdout",
          "text": [
            "안녕하세요?\n"
          ]
        }
      ]
    },
    {
      "cell_type": "code",
      "metadata": {
        "id": "lzUHyo8F7PS2"
      },
      "source": [
        "import os\n",
        "os.remove(\"./test.txt\")"
      ],
      "execution_count": 46,
      "outputs": []
    },
    {
      "cell_type": "code",
      "metadata": {
        "id": "02wB51vl7RWB"
      },
      "source": [
        "class Student : \n",
        "    '''학생 정보에 대한 클래스입니다'''\n",
        "    # __var   # private -> 상속해도 못 쓰고\n",
        "    # _ # protected -> 상속하면 사용 가능\n",
        "    __name = \"\"\n",
        "    __id = 0\n",
        "    __gpa = 0.0\n",
        "    __department = \"\"\n",
        "\n",
        "    def __init__(self, name, id, gpa, department):\n",
        "        self.__name = name\n",
        "        self.__id = id\n",
        "        self.__gpa = gpa\n",
        "        self.__department = department\n",
        "\n",
        "    def set_name(self, name):   # self는 c++의 this와 같은 역할\n",
        "        self.__name = name\n",
        "\n",
        "    def set_id(self, id):\n",
        "        self.__id = id\n",
        "    \n",
        "    def set_gpa(self, gpa):\n",
        "        self.__gpa = gpa\n",
        "    \n",
        "    def set_department(self, department):\n",
        "        self.__department = department\n",
        "\n",
        "    def get_name(self):\n",
        "        return self.__name\n",
        "\n",
        "    def get_id(self):\n",
        "        return self.__id\n",
        "\n",
        "    def get_gpa(self):\n",
        "        return self.__gpa\n",
        "\n",
        "    def get_department(self):\n",
        "        return self.__department\n",
        "\n",
        "    def get_type(self):\n",
        "        print(\"Student\")\n",
        "\n",
        "    def toString(self):\n",
        "        return f\"학생 {self.__name}은(는) 학번이 {self.__id}이고, 평균학점은 {self.__gpa}이며 {self.__department}를 다닙니다.\""
      ],
      "execution_count": 54,
      "outputs": []
    },
    {
      "cell_type": "code",
      "metadata": {
        "id": "4duG59GV7Tzd"
      },
      "source": [
        "pseeej = Student(\"박세진\", 20180368, 9.9, \"스시소\")"
      ],
      "execution_count": 56,
      "outputs": []
    },
    {
      "cell_type": "code",
      "metadata": {
        "colab": {
          "base_uri": "https://localhost:8080/",
          "height": 35
        },
        "id": "lEvRqLMg7VhK",
        "outputId": "11778519-0155-4171-9772-a0536b349e60"
      },
      "source": [
        "pseeej.__doc__"
      ],
      "execution_count": 49,
      "outputs": [
        {
          "output_type": "execute_result",
          "data": {
            "application/vnd.google.colaboratory.intrinsic+json": {
              "type": "string"
            },
            "text/plain": [
              "'학생 정보에 대한 클래스입니다'"
            ]
          },
          "metadata": {},
          "execution_count": 49
        }
      ]
    },
    {
      "cell_type": "code",
      "metadata": {
        "colab": {
          "base_uri": "https://localhost:8080/",
          "height": 35
        },
        "id": "CfWtnhny7XNU",
        "outputId": "6ce152a0-98c9-4ba3-b246-bd5b1a2b2bfa"
      },
      "source": [
        "pseeej.toString()"
      ],
      "execution_count": 57,
      "outputs": [
        {
          "output_type": "execute_result",
          "data": {
            "application/vnd.google.colaboratory.intrinsic+json": {
              "type": "string"
            },
            "text/plain": [
              "'학생 박세진은(는) 학번이 20180368이고, 평균학점은 9.9이며 스시소를 다닙니다.'"
            ]
          },
          "metadata": {},
          "execution_count": 57
        }
      ]
    },
    {
      "cell_type": "code",
      "metadata": {
        "id": "FwKMAOMd8W5E"
      },
      "source": [
        "class UnionStudent(Student):\n",
        "    __unionclass = \"\"\n",
        "    def __init__(self, name, id, gpa, department, unionclass):\n",
        "        self.__unionclass = unionclass\n",
        "        super(UnionStudent, self).__init__(name, id, gpa, department)\n",
        "\n",
        "    def set_class(self, unionclass):\n",
        "        self.__unionclass = unionclass\n",
        "\n",
        "    def get_class(self):\n",
        "        return self.__unionclass\n",
        "\n",
        "    def get_type(self):\n",
        "        print(\"Student Union\")\n",
        "\n",
        "    def toString(self):\n",
        "        return f\"학생 {self.get_name()}은 학번이 {self.get_id()}이고, 평균 학점은 {self.get_gpa()}이며, {self.get_department()}학과를 다니는 {self.get_class()}입니다.\""
      ],
      "execution_count": 61,
      "outputs": []
    },
    {
      "cell_type": "code",
      "metadata": {
        "id": "tcy-zNIt9IRF"
      },
      "source": [
        "mike = UnionStudent(\"Mike\", 20142987, 5.4, \"스시소\", \"과대표\")"
      ],
      "execution_count": 62,
      "outputs": []
    },
    {
      "cell_type": "code",
      "metadata": {
        "colab": {
          "base_uri": "https://localhost:8080/",
          "height": 35
        },
        "id": "KzqooTD29Nw4",
        "outputId": "b6fcea2c-252e-42d2-bc5b-ed9f4ac00b92"
      },
      "source": [
        "mike.toString()"
      ],
      "execution_count": 63,
      "outputs": [
        {
          "output_type": "execute_result",
          "data": {
            "application/vnd.google.colaboratory.intrinsic+json": {
              "type": "string"
            },
            "text/plain": [
              "'학생 Mike은 학번이 20142987이고, 평균 학점은 5.4이며, 스시소학과를 다니는 과대표입니다.'"
            ]
          },
          "metadata": {},
          "execution_count": 63
        }
      ]
    },
    {
      "cell_type": "code",
      "metadata": {
        "id": "RuLjQY129PFl"
      },
      "source": [
        "list_sample = []\n",
        "for i in range(10):\n",
        "    list_sample.append(i)"
      ],
      "execution_count": 64,
      "outputs": []
    },
    {
      "cell_type": "code",
      "metadata": {
        "colab": {
          "base_uri": "https://localhost:8080/"
        },
        "id": "TUoow7kr9XCQ",
        "outputId": "f27d5ee9-abfe-46f4-ed00-2e503afe98f6"
      },
      "source": [
        "list_sample"
      ],
      "execution_count": 65,
      "outputs": [
        {
          "output_type": "execute_result",
          "data": {
            "text/plain": [
              "[0, 1, 2, 3, 4, 5, 6, 7, 8, 9]"
            ]
          },
          "metadata": {},
          "execution_count": 65
        }
      ]
    },
    {
      "cell_type": "code",
      "metadata": {
        "id": "zXzFAJWj9X_k"
      },
      "source": [
        "list_sample2 = [i for i in range(10)]"
      ],
      "execution_count": 66,
      "outputs": []
    },
    {
      "cell_type": "code",
      "metadata": {
        "colab": {
          "base_uri": "https://localhost:8080/",
          "height": 35
        },
        "id": "RqFK5YkE9b18",
        "outputId": "e5a7da55-a7c7-4037-b3fd-ab764b6c9c06"
      },
      "source": [
        "str(list_sample2)[2]"
      ],
      "execution_count": 67,
      "outputs": [
        {
          "output_type": "execute_result",
          "data": {
            "application/vnd.google.colaboratory.intrinsic+json": {
              "type": "string"
            },
            "text/plain": [
              "','"
            ]
          },
          "metadata": {},
          "execution_count": 67
        }
      ]
    },
    {
      "cell_type": "code",
      "metadata": {
        "id": "2YFMEWuY9eMK"
      },
      "source": [
        "str_list = [str(item*2) if item%2==0 else str(item) for item in list_sample2]"
      ],
      "execution_count": 72,
      "outputs": []
    },
    {
      "cell_type": "code",
      "metadata": {
        "colab": {
          "base_uri": "https://localhost:8080/"
        },
        "id": "hqifwUFH9jub",
        "outputId": "7e7cbbcb-4f59-4bf0-ab33-4982dffef908"
      },
      "source": [
        "str_list"
      ],
      "execution_count": 73,
      "outputs": [
        {
          "output_type": "execute_result",
          "data": {
            "text/plain": [
              "['0', '1', '4', '3', '8', '5', '12', '7', '16', '9']"
            ]
          },
          "metadata": {},
          "execution_count": 73
        }
      ]
    },
    {
      "cell_type": "code",
      "metadata": {
        "id": "BPm14MZo9keQ"
      },
      "source": [
        "num_dict = {1:100, 2:200, 3:300, 4:400}"
      ],
      "execution_count": 74,
      "outputs": []
    },
    {
      "cell_type": "code",
      "metadata": {
        "id": "oELNekU39wa5"
      },
      "source": [
        "num_dict_filtered = {k: v for k, v in num_dict.items() if k%2==0}"
      ],
      "execution_count": 75,
      "outputs": []
    },
    {
      "cell_type": "code",
      "metadata": {
        "colab": {
          "base_uri": "https://localhost:8080/"
        },
        "id": "lXpYsTVw90zx",
        "outputId": "c3b1d8c5-672b-420d-8a69-8316805957f9"
      },
      "source": [
        "num_dict_filtered"
      ],
      "execution_count": 76,
      "outputs": [
        {
          "output_type": "execute_result",
          "data": {
            "text/plain": [
              "{2: 200, 4: 400}"
            ]
          },
          "metadata": {},
          "execution_count": 76
        }
      ]
    },
    {
      "cell_type": "code",
      "metadata": {
        "id": "kmXOo_CK913z"
      },
      "source": [
        ""
      ],
      "execution_count": null,
      "outputs": []
    }
  ]
}