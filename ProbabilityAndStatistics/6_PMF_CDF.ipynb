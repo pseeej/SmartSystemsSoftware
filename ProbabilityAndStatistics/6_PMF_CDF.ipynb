{
 "cells": [
  {
   "cell_type": "markdown",
   "metadata": {},
   "source": [
    "# Probability Mass Function"
   ]
  },
  {
   "cell_type": "code",
   "execution_count": 3,
   "metadata": {},
   "outputs": [],
   "source": [
    "import numpy as np\n",
    "import pandas as pd\n",
    "from matplotlib import pyplot as plt"
   ]
  },
  {
   "cell_type": "code",
   "execution_count": 5,
   "metadata": {},
   "outputs": [],
   "source": [
    "preg = pd.read_csv(\"./2002FemPreg.tsv\", sep='\\t')\n",
    "live = preg[preg.outcome == 1]"
   ]
  },
  {
   "cell_type": "code",
   "execution_count": 9,
   "metadata": {},
   "outputs": [
    {
     "data": {
      "image/png": "[encoded data removed]",
      "text/plain": [
       "<Figure size 432x288 with 1 Axes>"
      ]
     },
     "metadata": {
      "needs_background": "light"
     },
     "output_type": "display_data"
    }
   ],
   "source": [
    "plt.hist(live[\"birthwgt_lb\"], rwidth=0.8, label=\"birthwgt_lb\",\n",
    "        bins=range(int(live[\"birthwgt_lb\"].min()), int(live[\"birthwgt_lb\"].max()+2)))\n",
    "plt.xlabel(\"Birth Weight (pounds)\")\n",
    "plt.ylabel(\"Frequency\")\n",
    "plt.show()\n",
    "plt.close()"
   ]
  },
  {
   "cell_type": "code",
   "execution_count": 10,
   "metadata": {},
   "outputs": [],
   "source": [
    "hist = {key : val for key, val in enumerate(np.bincount(live[\"birthwgt_lb\"].dropna()))}"
   ]
  },
  {
   "cell_type": "code",
   "execution_count": 11,
   "metadata": {},
   "outputs": [
    {
     "data": {
      "text/plain": [
       "{0: 8,\n",
       " 1: 40,\n",
       " 2: 53,\n",
       " 3: 98,\n",
       " 4: 229,\n",
       " 5: 697,\n",
       " 6: 2223,\n",
       " 7: 3049,\n",
       " 8: 1889,\n",
       " 9: 623,\n",
       " 10: 132,\n",
       " 11: 26,\n",
       " 12: 10,\n",
       " 13: 3,\n",
       " 14: 3,\n",
       " 15: 1}"
      ]
     },
     "execution_count": 11,
     "metadata": {},
     "output_type": "execute_result"
    }
   ],
   "source": [
    "hist"
   ]
  },
  {
   "cell_type": "code",
   "execution_count": 13,
   "metadata": {},
   "outputs": [],
   "source": [
    "n = sum(hist.values())\n",
    "pmf = hist.copy()\n",
    "for x, freq in hist.items():\n",
    "    pmf[x] = freq / n"
   ]
  },
  {
   "cell_type": "code",
   "execution_count": 14,
   "metadata": {},
   "outputs": [
    {
     "data": {
      "text/plain": [
       "{0: 0.0008806693086745927,\n",
       " 1: 0.004403346543372964,\n",
       " 2: 0.005834434169969176,\n",
       " 3: 0.01078819903126376,\n",
       " 4: 0.025209158960810215,\n",
       " 5: 0.07672831351827389,\n",
       " 6: 0.24471598414795245,\n",
       " 7: 0.3356450902686041,\n",
       " 8: 0.2079480405107882,\n",
       " 9: 0.06858212241303391,\n",
       " 10: 0.01453104359313078,\n",
       " 11: 0.0028621752531924264,\n",
       " 12: 0.001100836635843241,\n",
       " 13: 0.00033025099075297226,\n",
       " 14: 0.00033025099075297226,\n",
       " 15: 0.00011008366358432408}"
      ]
     },
     "execution_count": 14,
     "metadata": {},
     "output_type": "execute_result"
    }
   ],
   "source": [
    "pmf"
   ]
  },
  {
   "cell_type": "code",
   "execution_count": 16,
   "metadata": {},
   "outputs": [
    {
     "data": {
      "image/png": "[encoded data removed]",
      "text/plain": [
       "<Figure size 432x288 with 1 Axes>"
      ]
     },
     "metadata": {
      "needs_background": "light"
     },
     "output_type": "display_data"
    }
   ],
   "source": [
    "plt.bar(pmf.keys(), pmf.values())   # bar plot에서 앞이 x축 값, 뒤가 y축 값\n",
    "plt.xlabel(\"Value\")\n",
    "plt.ylabel(\"pmf\")\n",
    "plt.show()\n",
    "plt.close()"
   ]
  },
  {
   "cell_type": "code",
   "execution_count": 17,
   "metadata": {},
   "outputs": [
    {
     "name": "stdout",
     "output_type": "stream",
     "text": [
      "1.0\n"
     ]
    }
   ],
   "source": [
    "print(sum(pmf.values()))"
   ]
  },
  {
   "cell_type": "code",
   "execution_count": 21,
   "metadata": {},
   "outputs": [
    {
     "data": {
      "text/plain": [
       "{1: 0.2, 2: 0.4, 3: 0.2, 5: 0.2}"
      ]
     },
     "execution_count": 21,
     "metadata": {},
     "output_type": "execute_result"
    }
   ],
   "source": [
    "values = [1, 2, 2, 3, 5]\n",
    "pmf = {key : val/len(values) for key, val in enumerate(np.bincount(values)) if val != 0}\n",
    "pmf"
   ]
  },
  {
   "cell_type": "code",
   "execution_count": 22,
   "metadata": {},
   "outputs": [],
   "source": [
    "pmf[2] += 0.2"
   ]
  },
  {
   "cell_type": "code",
   "execution_count": 24,
   "metadata": {},
   "outputs": [],
   "source": [
    "# normalize 진행\n",
    "tot = sum(pmf.values())\n",
    "pmf = {key : val/tot for key, val in pmf.items()}"
   ]
  },
  {
   "cell_type": "code",
   "execution_count": 25,
   "metadata": {},
   "outputs": [
    {
     "data": {
      "text/plain": [
       "1.0000000000000002"
      ]
     },
     "execution_count": 25,
     "metadata": {},
     "output_type": "execute_result"
    }
   ],
   "source": [
    "sum(pmf.values())"
   ]
  },
  {
   "cell_type": "code",
   "execution_count": 26,
   "metadata": {},
   "outputs": [],
   "source": [
    "pmf[2] *= 2"
   ]
  },
  {
   "cell_type": "code",
   "execution_count": 27,
   "metadata": {},
   "outputs": [
    {
     "data": {
      "text/plain": [
       "{1: 0.11111111111111109,\n",
       " 2: 0.6666666666666666,\n",
       " 3: 0.11111111111111109,\n",
       " 5: 0.11111111111111109}"
      ]
     },
     "execution_count": 27,
     "metadata": {},
     "output_type": "execute_result"
    }
   ],
   "source": [
    "tot = sum(pmf.values())\n",
    "pmf = {key : val/tot for key, val in pmf.items()}\n",
    "pmf"
   ]
  },
  {
   "cell_type": "code",
   "execution_count": 29,
   "metadata": {},
   "outputs": [
    {
     "data": {
      "text/plain": [
       "0.9999999999999998"
      ]
     },
     "execution_count": 29,
     "metadata": {},
     "output_type": "execute_result"
    }
   ],
   "source": [
    "sum(pmf.values())   # 1과 거의 동일"
   ]
  },
  {
   "cell_type": "code",
   "execution_count": 30,
   "metadata": {},
   "outputs": [],
   "source": [
    "pmf = {key : val/len(live[\"prglngth\"].dropna()) for key, val in enumerate(np.bincount(live[\"prglngth\"].dropna()))}"
   ]
  },
  {
   "cell_type": "code",
   "execution_count": 31,
   "metadata": {},
   "outputs": [
    {
     "data": {
      "image/png": "[encoded data removed]",
      "text/plain": [
       "<Figure size 432x288 with 1 Axes>"
      ]
     },
     "metadata": {
      "needs_background": "light"
     },
     "output_type": "display_data"
    }
   ],
   "source": [
    "plt.bar(pmf.keys(), pmf.values())\n",
    "plt.xlabel(\"Value\")\n",
    "plt.ylabel(\"pmf\")\n",
    "plt.show()\n",
    "plt.close()"
   ]
  },
  {
   "cell_type": "code",
   "execution_count": 32,
   "metadata": {},
   "outputs": [
    {
     "data": {
      "image/png": "[encoded data removed]",
      "text/plain": [
       "<Figure size 432x288 with 1 Axes>"
      ]
     },
     "metadata": {
      "needs_background": "light"
     },
     "output_type": "display_data"
    }
   ],
   "source": [
    "# step function 사용하기 위해서는 list type으로 형변환 한 번 시켜줘야 함\n",
    "plt.step(list(pmf.keys()), list(pmf.values()))\n",
    "plt.xlabel(\"Value\")\n",
    "plt.ylabel(\"pmf\")\n",
    "plt.show()\n",
    "plt.close()"
   ]
  },
  {
   "cell_type": "code",
   "execution_count": 33,
   "metadata": {},
   "outputs": [],
   "source": [
    "first = live[live.birthord == 1]\n",
    "others = live[live.birthord > 1]\n",
    "first_pmf = {key: val/len(first[\"prglngth\"].dropna()) for key, val in enumerate(np.bincount(first[\"prglngth\"].dropna()))}\n",
    "others_pmf = {key: val/len(others[\"prglngth\"].dropna()) for key, val in enumerate(np.bincount(others[\"prglngth\"].dropna()))}"
   ]
  },
  {
   "cell_type": "code",
   "execution_count": 40,
   "metadata": {},
   "outputs": [
    {
     "data": {
      "image/png": "[encoded data removed]",
      "text/plain": [
       "<Figure size 432x288 with 1 Axes>"
      ]
     },
     "metadata": {
      "needs_background": "light"
     },
     "output_type": "display_data"
    }
   ],
   "source": [
    "plt.bar(first_pmf.keys(), first_pmf.values(), width=0.5, align=\"edge\", label=\"first\")\n",
    "plt.bar(others_pmf.keys(), others_pmf.values(), width=0.5, align=\"center\", label=\"others\")\n",
    "plt.xlabel(\"Value\")\n",
    "plt.ylabel(\"pmf\")\n",
    "plt.xlim(26, 45)\n",
    "plt.legend()    # 범례 나타내기\n",
    "plt.show()\n",
    "plt.close()"
   ]
  },
  {
   "cell_type": "code",
   "execution_count": 41,
   "metadata": {},
   "outputs": [
    {
     "data": {
      "image/png": "[encoded data removed]",
      "text/plain": [
       "<Figure size 432x288 with 1 Axes>"
      ]
     },
     "metadata": {
      "needs_background": "light"
     },
     "output_type": "display_data"
    }
   ],
   "source": [
    "# 위의 결과를 step function으로 나타냄\n",
    "plt.step(list(first_pmf.keys()), list(first_pmf.values()), label=\"first\")\n",
    "plt.step(list(others_pmf.keys()), list(others_pmf.values()), label=\"others\")\n",
    "plt.xlabel(\"Value\")\n",
    "plt.ylabel(\"pmf\")\n",
    "plt.legend()\n",
    "plt.xlim(26, 45)\n",
    "plt.show()\n",
    "plt.close()"
   ]
  },
  {
   "cell_type": "code",
   "execution_count": 42,
   "metadata": {},
   "outputs": [
    {
     "data": {
      "image/png": "[encoded data removed]",
      "text/plain": [
       "<Figure size 432x288 with 1 Axes>"
      ]
     },
     "metadata": {
      "needs_background": "light"
     },
     "output_type": "display_data"
    }
   ],
   "source": [
    "weeks = range(36, 46)\n",
    "diffs = []\n",
    "for week in weeks:\n",
    "    p1 = first_pmf[week]\n",
    "    p2 = others_pmf[week]\n",
    "    diff = 100 * (p1-p2)\n",
    "    diffs.append(diff)\n",
    "\n",
    "plt.bar(weeks, diffs)\n",
    "plt.xlabel(\"prg lngth\")\n",
    "plt.ylabel(\"diff\")\n",
    "plt.show()\n",
    "plt.close()"
   ]
  },
  {
   "cell_type": "markdown",
   "metadata": {},
   "source": [
    "# Cumulative Distribute Function"
   ]
  },
  {
   "cell_type": "code",
   "execution_count": 68,
   "metadata": {},
   "outputs": [],
   "source": [
    "live = preg[preg.outcome == 1]\n",
    "firsts = live[live.birthord == 1]\n",
    "others = live[live.birthord > 1]"
   ]
  },
  {
   "cell_type": "code",
   "execution_count": 69,
   "metadata": {},
   "outputs": [],
   "source": [
    "firsts_wgt_dropna = firsts.totalwgt_lb.dropna()\n",
    "others_wgt_dropna = others.totalwgt_lb.dropna()"
   ]
  },
  {
   "cell_type": "code",
   "execution_count": 70,
   "metadata": {},
   "outputs": [],
   "source": [
    "# 조밀하게 보기 위해... 히스토그램 그리기\n",
    "firsts_hist, firsts_bins = np.histogram(firsts_wgt_dropna, bins=np.arange(0, 16, 0.05))   # bins : 전체를 몇 개로 쪼갤 것인지.\n",
    "others_hist, others_bins = np.histogram(others_wgt_dropna, bins=np.arange(0, 16, 0.05))   # bins : 전체를 몇 개로 쪼갤 것인지.\n",
    "firsts_pmf = {key : val/len(firsts_wgt_dropna) for key, val in zip(firsts_bins, firsts_hist)}\n",
    "others_pmf = {key : val/len(others_wgt_dropna) for key, val in zip(others_bins, others_hist)}"
   ]
  },
  {
   "cell_type": "code",
   "execution_count": 72,
   "metadata": {},
   "outputs": [
    {
     "data": {
      "image/png": "[encoded data removed]",
      "text/plain": [
       "<Figure size 432x288 with 1 Axes>"
      ]
     },
     "metadata": {
      "needs_background": "light"
     },
     "output_type": "display_data"
    }
   ],
   "source": [
    "plt.step(list(firsts_pmf.keys()), list(firsts_pmf.values()), label=\"first\")\n",
    "plt.step(list(others_pmf.keys()), list(others_pmf.values()), label=\"others\")\n",
    "plt.xlabel(\"Value\")\n",
    "plt.ylabel(\"hist\")\n",
    "plt.legend()\n",
    "plt.show()\n",
    "plt.close()"
   ]
  },
  {
   "cell_type": "code",
   "execution_count": 74,
   "metadata": {},
   "outputs": [
    {
     "data": {
      "image/png": "[encoded data removed]",
      "text/plain": [
       "<Figure size 432x288 with 1 Axes>"
      ]
     },
     "metadata": {
      "needs_background": "light"
     },
     "output_type": "display_data"
    }
   ],
   "source": [
    "plt.step(firsts_bins[:-1], firsts_hist, label=\"first\")\n",
    "plt.step(others_bins[:-1], others_hist, label=\"others\")\n",
    "plt.xlabel(\"Value\")\n",
    "plt.ylabel(\"pmf\")\n",
    "plt.legend()\n",
    "plt.show()\n",
    "plt.close()"
   ]
  },
  {
   "cell_type": "code",
   "execution_count": 75,
   "metadata": {},
   "outputs": [],
   "source": [
    "def PercentileRank(scores, your_score): # 값을 주면 rank를 return\n",
    "    count = 0\n",
    "    for score in scores:\n",
    "        if score <= your_score:\n",
    "            count += 1\n",
    "    percentile_rank = 100 * count / len(scores)\n",
    "    return percentile_rank"
   ]
  },
  {
   "cell_type": "code",
   "execution_count": 80,
   "metadata": {},
   "outputs": [
    {
     "data": {
      "text/plain": [
       "80.0"
      ]
     },
     "execution_count": 80,
     "metadata": {},
     "output_type": "execute_result"
    }
   ],
   "source": [
    "t = [55, 66, 77, 88, 99]\n",
    "PercentileRank(t, 88)   "
   ]
  },
  {
   "cell_type": "code",
   "execution_count": 82,
   "metadata": {},
   "outputs": [
    {
     "data": {
      "text/plain": [
       "77"
      ]
     },
     "execution_count": 82,
     "metadata": {},
     "output_type": "execute_result"
    }
   ],
   "source": [
    "# 이렇게 하면 짱느림\n",
    "def Percentile(scores, percentile_rank):    # rank 주면 값을 주는 함수\n",
    "    for score in sorted(scores):\n",
    "        if PercentileRank(scores, score) >= percentile_rank:\n",
    "            return score\n",
    "\n",
    "Percentile(t, 45)"
   ]
  },
  {
   "cell_type": "code",
   "execution_count": 84,
   "metadata": {},
   "outputs": [
    {
     "data": {
      "text/plain": [
       "66"
      ]
     },
     "execution_count": 84,
     "metadata": {},
     "output_type": "execute_result"
    }
   ],
   "source": [
    "# 위의 Percentile보다 조금 더 빠르게 처리하기 위한 함수\n",
    "def Percentile2(scores, percentile_rank):\n",
    "    scores.sort()\n",
    "    index = percentile_rank * (len(scores)-1) // 100    # index 값 알면 rank 바로 구할 수 있음\n",
    "    return scores[index]\n",
    "\n",
    "Percentile2(t, 45)  # 위랑 결과 조금 달라도 답은 같음"
   ]
  },
  {
   "cell_type": "code",
   "execution_count": 85,
   "metadata": {},
   "outputs": [],
   "source": [
    "# PDF는 0부터 1까지, Percentile은 0부터 100까지 줌\n",
    "def evalCDF(sample, x):\n",
    "    count = 0.0\n",
    "    for value in sorted(sample):\n",
    "        if value <= x:\n",
    "            count += 1\n",
    "\n",
    "    prob = count / len(sample)\n",
    "    return prob\n",
    "\n",
    "def getValCDF(sample, cdf_value):\n",
    "    for score in sorted(sample):\n",
    "        if evalCDF(sample, score) >= cdf_value:\n",
    "            return score\n",
    "\n",
    "def evalCDFCDF(cdf, target_val):\n",
    "    for val, score in sorted(cdf.items()):\n",
    "        if val >= target_val:\n",
    "            return score\n",
    "\n",
    "def getValCDFCDF(cdf, cdf_value):\n",
    "    for val, score in sorted(cdf.items):\n",
    "        if score >= cdf_value:\n",
    "            return val\n"
   ]
  },
  {
   "cell_type": "code",
   "execution_count": 87,
   "metadata": {},
   "outputs": [
    {
     "name": "stdout",
     "output_type": "stream",
     "text": [
      "0.8\n"
     ]
    }
   ],
   "source": [
    "t = [1, 2, 2, 3, 5]\n",
    "print(evalCDF(t, 3))"
   ]
  },
  {
   "cell_type": "code",
   "execution_count": 93,
   "metadata": {},
   "outputs": [],
   "source": [
    "# CDF(x) : x보다 작은 값들의 pmf 합\n",
    "\n",
    "def pmf2cdf(pmf_dict):\n",
    "    cdf_dict = {}\n",
    "    now = 0.0\n",
    "    for k, v in sorted(pmf_dict.items()):\n",
    "        now += v\n",
    "        cdf_dict[k] = now\n",
    "    return cdf_dict"
   ]
  },
  {
   "cell_type": "code",
   "execution_count": 94,
   "metadata": {},
   "outputs": [],
   "source": [
    "# 조밀하게 보기 위해... 히스토그램 그리기\n",
    "firsts_hist, firsts_bins = np.histogram(firsts_wgt_dropna, bins=np.arange(0, 16, 0.05))   # bins : 전체를 몇 개로 쪼갤 것인지.\n",
    "others_hist, others_bins = np.histogram(others_wgt_dropna, bins=np.arange(0, 16, 0.05))   # bins : 전체를 몇 개로 쪼갤 것인지.\n",
    "live_wgt_dropna = live.totalwgt_lb.dropna()\n",
    "live_hist, live_bins = np.histogram(live_wgt_dropna, bins = np.arange(0, 16, 0.05))\n",
    "\n",
    "firsts_pmf = {key : val/len(firsts_wgt_dropna) for key, val in zip(firsts_bins, firsts_hist)}\n",
    "others_pmf = {key : val/len(others_wgt_dropna) for key, val in zip(others_bins, others_hist)}\n",
    "live_pmf = {key : val/len(live_wgt_dropna) for key, val in zip(live_bins, live_hist)}\n",
    "\n",
    "firsts_cdf = pmf2cdf(firsts_pmf)\n",
    "others_cdf = pmf2cdf(others_pmf)\n",
    "live_cdf = pmf2cdf(live_pmf)\n"
   ]
  },
  {
   "cell_type": "code",
   "execution_count": 95,
   "metadata": {},
   "outputs": [
    {
     "data": {
      "image/png": "[encoded data removed]",
      "text/plain": [
       "<Figure size 432x288 with 1 Axes>"
      ]
     },
     "metadata": {
      "needs_background": "light"
     },
     "output_type": "display_data"
    }
   ],
   "source": [
    "plt.step(list(live_cdf.keys()), list(live_cdf.values()))\n",
    "plt.xlabel(\"birthwgt\")\n",
    "plt.ylabel(\"CDF\")\n",
    "plt.show()\n",
    "plt.close()"
   ]
  },
  {
   "cell_type": "code",
   "execution_count": 97,
   "metadata": {},
   "outputs": [
    {
     "data": {
      "image/png": "[encoded data removed]",
      "text/plain": [
       "<Figure size 432x288 with 1 Axes>"
      ]
     },
     "metadata": {
      "needs_background": "light"
     },
     "output_type": "display_data"
    }
   ],
   "source": [
    "plt.step(list(others_cdf.keys()), list(others_cdf.values()), label=\"others\")\n",
    "plt.step(list(firsts_cdf.keys()), list(firsts_cdf.values()), label=\"firsts\")\n",
    "plt.xlabel(\"birthwgt\")\n",
    "plt.ylabel(\"CDF\")\n",
    "plt.legend()\n",
    "plt.show()\n",
    "plt.close()"
   ]
  },
  {
   "cell_type": "code",
   "execution_count": 102,
   "metadata": {},
   "outputs": [
    {
     "data": {
      "image/png": "[encoded data removed]",
      "text/plain": [
       "<Figure size 432x288 with 1 Axes>"
      ]
     },
     "metadata": {
      "needs_background": "light"
     },
     "output_type": "display_data"
    }
   ],
   "source": [
    "sample = np.random.choice(live_wgt_dropna, 20, replace=True) # 복원 추출. 같은 거 두 번 뽑을 수 있음.\n",
    "sample_hist, sample_bins = np.histogram(sample, bins=np.arange(0, 16, 0.05))\n",
    "sample_pmf = {key: val/len(sample) for key, val in zip(sample_bins, sample_hist)}\n",
    "sample_cdf = pmf2cdf(sample_pmf)\n",
    "\n",
    "plt.step(list(live_cdf.keys()), list(live_cdf.values()), label=\"all\")\n",
    "plt.step(list(sample_cdf.keys()), list(sample_cdf.values()), label=\"sample\")\n",
    "plt.xlabel(\"birthwgt\")\n",
    "plt.ylabel(\"CDF\")\n",
    "plt.legend()\n",
    "plt.show()\n",
    "plt.close()\n",
    "\n",
    "# bin size랑 전체 sample 개수에 따라 그래프 모양 바뀜. 숫자 클수록 두 개 그래프가 비슷해짐"
   ]
  },
  {
   "cell_type": "markdown",
   "metadata": {},
   "source": [
    "# Pandas indexing"
   ]
  },
  {
   "cell_type": "code",
   "execution_count": 104,
   "metadata": {},
   "outputs": [
    {
     "data": {
      "text/html": [
       "<div>\n",
       "<style scoped>\n",
       "    .dataframe tbody tr th:only-of-type {\n",
       "        vertical-align: middle;\n",
       "    }\n",
       "\n",
       "    .dataframe tbody tr th {\n",
       "        vertical-align: top;\n",
       "    }\n",
       "\n",
       "    .dataframe thead th {\n",
       "        text-align: right;\n",
       "    }\n",
       "</style>\n",
       "<table border=\"1\" class=\"dataframe\">\n",
       "  <thead>\n",
       "    <tr style=\"text-align: right;\">\n",
       "      <th></th>\n",
       "      <th>0</th>\n",
       "      <th>1</th>\n",
       "    </tr>\n",
       "  </thead>\n",
       "  <tbody>\n",
       "    <tr>\n",
       "      <th>0</th>\n",
       "      <td>-1.297508</td>\n",
       "      <td>0.600449</td>\n",
       "    </tr>\n",
       "    <tr>\n",
       "      <th>1</th>\n",
       "      <td>2.515933</td>\n",
       "      <td>0.943519</td>\n",
       "    </tr>\n",
       "    <tr>\n",
       "      <th>2</th>\n",
       "      <td>1.130509</td>\n",
       "      <td>0.075618</td>\n",
       "    </tr>\n",
       "    <tr>\n",
       "      <th>3</th>\n",
       "      <td>-1.170552</td>\n",
       "      <td>0.142617</td>\n",
       "    </tr>\n",
       "  </tbody>\n",
       "</table>\n",
       "</div>"
      ],
      "text/plain": [
       "          0         1\n",
       "0 -1.297508  0.600449\n",
       "1  2.515933  0.943519\n",
       "2  1.130509  0.075618\n",
       "3 -1.170552  0.142617"
      ]
     },
     "execution_count": 104,
     "metadata": {},
     "output_type": "execute_result"
    }
   ],
   "source": [
    "array = np.random.randn(4, 2)    # 이렇게 하면 numpy의 2d array가 return됨\n",
    "df = pd.DataFrame(array)\n",
    "df"
   ]
  },
  {
   "cell_type": "code",
   "execution_count": 106,
   "metadata": {},
   "outputs": [
    {
     "data": {
      "text/html": [
       "<div>\n",
       "<style scoped>\n",
       "    .dataframe tbody tr th:only-of-type {\n",
       "        vertical-align: middle;\n",
       "    }\n",
       "\n",
       "    .dataframe tbody tr th {\n",
       "        vertical-align: top;\n",
       "    }\n",
       "\n",
       "    .dataframe thead th {\n",
       "        text-align: right;\n",
       "    }\n",
       "</style>\n",
       "<table border=\"1\" class=\"dataframe\">\n",
       "  <thead>\n",
       "    <tr style=\"text-align: right;\">\n",
       "      <th></th>\n",
       "      <th>A</th>\n",
       "      <th>B</th>\n",
       "    </tr>\n",
       "  </thead>\n",
       "  <tbody>\n",
       "    <tr>\n",
       "      <th>0</th>\n",
       "      <td>-1.297508</td>\n",
       "      <td>0.600449</td>\n",
       "    </tr>\n",
       "    <tr>\n",
       "      <th>1</th>\n",
       "      <td>2.515933</td>\n",
       "      <td>0.943519</td>\n",
       "    </tr>\n",
       "    <tr>\n",
       "      <th>2</th>\n",
       "      <td>1.130509</td>\n",
       "      <td>0.075618</td>\n",
       "    </tr>\n",
       "    <tr>\n",
       "      <th>3</th>\n",
       "      <td>-1.170552</td>\n",
       "      <td>0.142617</td>\n",
       "    </tr>\n",
       "  </tbody>\n",
       "</table>\n",
       "</div>"
      ],
      "text/plain": [
       "          A         B\n",
       "0 -1.297508  0.600449\n",
       "1  2.515933  0.943519\n",
       "2  1.130509  0.075618\n",
       "3 -1.170552  0.142617"
      ]
     },
     "execution_count": 106,
     "metadata": {},
     "output_type": "execute_result"
    }
   ],
   "source": [
    "columns = [\"A\", \"B\"]\n",
    "df = pd.DataFrame(array, columns = columns)\n",
    "df"
   ]
  },
  {
   "cell_type": "code",
   "execution_count": 114,
   "metadata": {},
   "outputs": [
    {
     "data": {
      "text/html": [
       "<div>\n",
       "<style scoped>\n",
       "    .dataframe tbody tr th:only-of-type {\n",
       "        vertical-align: middle;\n",
       "    }\n",
       "\n",
       "    .dataframe tbody tr th {\n",
       "        vertical-align: top;\n",
       "    }\n",
       "\n",
       "    .dataframe thead th {\n",
       "        text-align: right;\n",
       "    }\n",
       "</style>\n",
       "<table border=\"1\" class=\"dataframe\">\n",
       "  <thead>\n",
       "    <tr style=\"text-align: right;\">\n",
       "      <th></th>\n",
       "      <th>A</th>\n",
       "      <th>B</th>\n",
       "    </tr>\n",
       "  </thead>\n",
       "  <tbody>\n",
       "    <tr>\n",
       "      <th>a</th>\n",
       "      <td>-1.297508</td>\n",
       "      <td>0.600449</td>\n",
       "    </tr>\n",
       "    <tr>\n",
       "      <th>b</th>\n",
       "      <td>2.515933</td>\n",
       "      <td>0.943519</td>\n",
       "    </tr>\n",
       "    <tr>\n",
       "      <th>c</th>\n",
       "      <td>1.130509</td>\n",
       "      <td>0.075618</td>\n",
       "    </tr>\n",
       "    <tr>\n",
       "      <th>d</th>\n",
       "      <td>-1.170552</td>\n",
       "      <td>0.142617</td>\n",
       "    </tr>\n",
       "  </tbody>\n",
       "</table>\n",
       "</div>"
      ],
      "text/plain": [
       "          A         B\n",
       "a -1.297508  0.600449\n",
       "b  2.515933  0.943519\n",
       "c  1.130509  0.075618\n",
       "d -1.170552  0.142617"
      ]
     },
     "execution_count": 114,
     "metadata": {},
     "output_type": "execute_result"
    }
   ],
   "source": [
    "columns = [\"A\", \"B\"]\n",
    "index = [\"a\", \"b\", \"c\", \"d\"]\n",
    "df = pd.DataFrame(array, columns=columns, index=index)\n",
    "df"
   ]
  },
  {
   "cell_type": "code",
   "execution_count": 115,
   "metadata": {},
   "outputs": [
    {
     "data": {
      "text/plain": [
       "a   -1.297508\n",
       "b    2.515933\n",
       "c    1.130509\n",
       "d   -1.170552\n",
       "Name: A, dtype: float64"
      ]
     },
     "execution_count": 115,
     "metadata": {},
     "output_type": "execute_result"
    }
   ],
   "source": [
    "df[\"A\"]"
   ]
  },
  {
   "cell_type": "code",
   "execution_count": 116,
   "metadata": {},
   "outputs": [
    {
     "data": {
      "text/plain": [
       "A   -1.297508\n",
       "B    0.600449\n",
       "Name: a, dtype: float64"
      ]
     },
     "execution_count": 116,
     "metadata": {},
     "output_type": "execute_result"
    }
   ],
   "source": [
    "df.loc[\"a\"]"
   ]
  },
  {
   "cell_type": "code",
   "execution_count": 118,
   "metadata": {},
   "outputs": [
    {
     "data": {
      "text/plain": [
       "A   -1.297508\n",
       "B    0.600449\n",
       "Name: a, dtype: float64"
      ]
     },
     "execution_count": 118,
     "metadata": {},
     "output_type": "execute_result"
    }
   ],
   "source": [
    "df.iloc[0]  # 위랑 똑같은 결과 나옴"
   ]
  },
  {
   "cell_type": "code",
   "execution_count": 119,
   "metadata": {},
   "outputs": [
    {
     "data": {
      "text/html": [
       "<div>\n",
       "<style scoped>\n",
       "    .dataframe tbody tr th:only-of-type {\n",
       "        vertical-align: middle;\n",
       "    }\n",
       "\n",
       "    .dataframe tbody tr th {\n",
       "        vertical-align: top;\n",
       "    }\n",
       "\n",
       "    .dataframe thead th {\n",
       "        text-align: right;\n",
       "    }\n",
       "</style>\n",
       "<table border=\"1\" class=\"dataframe\">\n",
       "  <thead>\n",
       "    <tr style=\"text-align: right;\">\n",
       "      <th></th>\n",
       "      <th>A</th>\n",
       "      <th>B</th>\n",
       "    </tr>\n",
       "  </thead>\n",
       "  <tbody>\n",
       "    <tr>\n",
       "      <th>a</th>\n",
       "      <td>-1.297508</td>\n",
       "      <td>0.600449</td>\n",
       "    </tr>\n",
       "    <tr>\n",
       "      <th>c</th>\n",
       "      <td>1.130509</td>\n",
       "      <td>0.075618</td>\n",
       "    </tr>\n",
       "  </tbody>\n",
       "</table>\n",
       "</div>"
      ],
      "text/plain": [
       "          A         B\n",
       "a -1.297508  0.600449\n",
       "c  1.130509  0.075618"
      ]
     },
     "execution_count": 119,
     "metadata": {},
     "output_type": "execute_result"
    }
   ],
   "source": [
    "df.loc[[\"a\", \"c\"]]"
   ]
  },
  {
   "cell_type": "code",
   "execution_count": 120,
   "metadata": {},
   "outputs": [
    {
     "data": {
      "text/html": [
       "<div>\n",
       "<style scoped>\n",
       "    .dataframe tbody tr th:only-of-type {\n",
       "        vertical-align: middle;\n",
       "    }\n",
       "\n",
       "    .dataframe tbody tr th {\n",
       "        vertical-align: top;\n",
       "    }\n",
       "\n",
       "    .dataframe thead th {\n",
       "        text-align: right;\n",
       "    }\n",
       "</style>\n",
       "<table border=\"1\" class=\"dataframe\">\n",
       "  <thead>\n",
       "    <tr style=\"text-align: right;\">\n",
       "      <th></th>\n",
       "      <th>A</th>\n",
       "      <th>B</th>\n",
       "    </tr>\n",
       "  </thead>\n",
       "  <tbody>\n",
       "    <tr>\n",
       "      <th>a</th>\n",
       "      <td>-1.297508</td>\n",
       "      <td>0.600449</td>\n",
       "    </tr>\n",
       "    <tr>\n",
       "      <th>b</th>\n",
       "      <td>2.515933</td>\n",
       "      <td>0.943519</td>\n",
       "    </tr>\n",
       "    <tr>\n",
       "      <th>c</th>\n",
       "      <td>1.130509</td>\n",
       "      <td>0.075618</td>\n",
       "    </tr>\n",
       "  </tbody>\n",
       "</table>\n",
       "</div>"
      ],
      "text/plain": [
       "          A         B\n",
       "a -1.297508  0.600449\n",
       "b  2.515933  0.943519\n",
       "c  1.130509  0.075618"
      ]
     },
     "execution_count": 120,
     "metadata": {},
     "output_type": "execute_result"
    }
   ],
   "source": [
    "df.loc[\"a\":\"c\"] # slicing 진행... 대신 이렇게 하면 \"a\"부터 \"c\"까지 나옴"
   ]
  },
  {
   "cell_type": "code",
   "execution_count": 121,
   "metadata": {},
   "outputs": [
    {
     "data": {
      "text/html": [
       "<div>\n",
       "<style scoped>\n",
       "    .dataframe tbody tr th:only-of-type {\n",
       "        vertical-align: middle;\n",
       "    }\n",
       "\n",
       "    .dataframe tbody tr th {\n",
       "        vertical-align: top;\n",
       "    }\n",
       "\n",
       "    .dataframe thead th {\n",
       "        text-align: right;\n",
       "    }\n",
       "</style>\n",
       "<table border=\"1\" class=\"dataframe\">\n",
       "  <thead>\n",
       "    <tr style=\"text-align: right;\">\n",
       "      <th></th>\n",
       "      <th>A</th>\n",
       "      <th>B</th>\n",
       "    </tr>\n",
       "  </thead>\n",
       "  <tbody>\n",
       "    <tr>\n",
       "      <th>a</th>\n",
       "      <td>-1.297508</td>\n",
       "      <td>0.600449</td>\n",
       "    </tr>\n",
       "    <tr>\n",
       "      <th>b</th>\n",
       "      <td>2.515933</td>\n",
       "      <td>0.943519</td>\n",
       "    </tr>\n",
       "  </tbody>\n",
       "</table>\n",
       "</div>"
      ],
      "text/plain": [
       "          A         B\n",
       "a -1.297508  0.600449\n",
       "b  2.515933  0.943519"
      ]
     },
     "execution_count": 121,
     "metadata": {},
     "output_type": "execute_result"
    }
   ],
   "source": [
    "df[0:2] # 이거 하면 0번째 index부터 2 전의 index까지 나옴"
   ]
  }
 ],
 "metadata": {
  "interpreter": {
   "hash": "d4d1e4263499bec80672ea0156c357c1ee493ec2b1c70f0acce89fc37c4a6abe"
  },
  "kernelspec": {
   "display_name": "Python 3.8.5 64-bit ('base': conda)",
   "name": "python3"
  },
  "language_info": {
   "codemirror_mode": {
    "name": "ipython",
    "version": 3
   },
   "file_extension": ".py",
   "mimetype": "text/x-python",
   "name": "python",
   "nbconvert_exporter": "python",
   "pygments_lexer": "ipython3",
   "version": "3.8.5"
  },
  "orig_nbformat": 4
 },
 "nbformat": 4,
 "nbformat_minor": 2
}
