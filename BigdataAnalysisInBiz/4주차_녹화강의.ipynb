{
  "nbformat": 4,
  "nbformat_minor": 0,
  "metadata": {
    "colab": {
      "name": "4주차녹화강의.ipynb",
      "provenance": [],
      "collapsed_sections": [],
      "include_colab_link": true
    },
    "kernelspec": {
      "name": "python3",
      "display_name": "Python 3"
    },
    "language_info": {
      "name": "python"
    }
  },
  "cells": [
    {
      "cell_type": "markdown",
      "metadata": {
        "id": "view-in-github",
        "colab_type": "text"
      },
      "source": [
        "<a href=\"https://colab.research.google.com/github/pseeej/SmartSystemsSoftware/blob/master/BigdataAnalysisInBiz/4%EC%A3%BC%EC%B0%A8%EB%85%B9%ED%99%94%EA%B0%95%EC%9D%98.ipynb\" target=\"_parent\"><img src=\"https://colab.research.google.com/assets/colab-badge.svg\" alt=\"Open In Colab\"/></a>"
      ]
    },
    {
      "cell_type": "markdown",
      "metadata": {
        "id": "VQEhLZ_nHjtE"
      },
      "source": [
        "#실습환경 셋업"
      ]
    },
    {
      "cell_type": "markdown",
      "metadata": {
        "id": "LDt13fYuxggr"
      },
      "source": [
        "1) sqlite 업그레이드"
      ]
    },
    {
      "cell_type": "code",
      "metadata": {
        "id": "CAVeWH8HNS-h"
      },
      "source": [
        "!apt-get update\n",
        "!apt-get upgrade sqlite3"
      ],
      "execution_count": null,
      "outputs": []
    },
    {
      "cell_type": "code",
      "metadata": {
        "id": "_l0Sz9vyQjZ5",
        "colab": {
          "base_uri": "https://localhost:8080/"
        },
        "outputId": "0002d968-b13e-455e-9c47-7dd81a53fcb0"
      },
      "source": [
        "!curl https://www.sqlite.org/src/tarball/sqlite.tar.gz?r=release | tar xz\n",
        "%cd sqlite/\n",
        "!./configure\n",
        "!make sqlite3.c\n",
        "%cd /content\n",
        "!npx degit coleifer/pysqlite3 -f\n",
        "!cp sqlite/sqlite3.[ch] .\n",
        "!python setup.py build_static build\n",
        "!cp build/lib.linux-x86_64-3.7/pysqlite3/_sqlite3.cpython-37m-x86_64-linux-gnu.so \\\n",
        "     /usr/lib/python3.7/lib-dynload/\n"
      ],
      "execution_count": 2,
      "outputs": [
        {
          "output_type": "stream",
          "name": "stdout",
          "text": [
            "  % Total    % Received % Xferd  Average Speed   Time    Time     Time  Current\n",
            "                                 Dload  Upload   Total   Spent    Left  Speed\n",
            "100 10.9M  100 10.9M    0     0  9812k      0  0:00:01  0:00:01 --:--:-- 9812k\n",
            "/content/sqlite\n",
            "checking build system type... x86_64-pc-linux-gnu\n",
            "checking host system type... x86_64-pc-linux-gnu\n",
            "checking for gcc... gcc\n",
            "checking whether the C compiler works... yes\n",
            "checking for C compiler default output file name... a.out\n",
            "checking for suffix of executables... \n",
            "checking whether we are cross compiling... no\n",
            "checking for suffix of object files... o\n",
            "checking whether we are using the GNU C compiler... yes\n",
            "checking whether gcc accepts -g... yes\n",
            "checking for gcc option to accept ISO C89... none needed\n",
            "checking for a sed that does not truncate output... /bin/sed\n",
            "checking for grep that handles long lines and -e... /bin/grep\n",
            "checking for egrep... /bin/grep -E\n",
            "checking for fgrep... /bin/grep -F\n",
            "checking for ld used by gcc... /usr/bin/ld\n",
            "checking if the linker (/usr/bin/ld) is GNU ld... yes\n",
            "checking for BSD- or MS-compatible name lister (nm)... /usr/bin/nm -B\n",
            "checking the name lister (/usr/bin/nm -B) interface... BSD nm\n",
            "checking whether ln -s works... yes\n",
            "checking the maximum length of command line arguments... 1572864\n",
            "checking whether the shell understands some XSI constructs... yes\n",
            "checking whether the shell understands \"+=\"... yes\n",
            "checking for /usr/bin/ld option to reload object files... -r\n",
            "checking for objdump... objdump\n",
            "checking how to recognize dependent libraries... pass_all\n",
            "checking for ar... ar\n",
            "checking for strip... strip\n",
            "checking for ranlib... ranlib\n",
            "checking command to parse /usr/bin/nm -B output from gcc object... ok\n",
            "./configure: line 5196: /usr/bin/file: No such file or directory\n",
            "checking how to run the C preprocessor... gcc -E\n",
            "checking for ANSI C header files... yes\n",
            "checking for sys/types.h... yes\n",
            "checking for sys/stat.h... yes\n",
            "checking for stdlib.h... yes\n",
            "checking for string.h... yes\n",
            "checking for memory.h... yes\n",
            "checking for strings.h... yes\n",
            "checking for inttypes.h... yes\n",
            "checking for stdint.h... yes\n",
            "checking for unistd.h... yes\n",
            "checking for dlfcn.h... yes\n",
            "checking for objdir... .libs\n",
            "checking if gcc supports -fno-rtti -fno-exceptions... no\n",
            "checking for gcc option to produce PIC... -fPIC -DPIC\n",
            "checking if gcc PIC flag -fPIC -DPIC works... yes\n",
            "checking if gcc static flag -static works... yes\n",
            "checking if gcc supports -c -o file.o... yes\n",
            "checking if gcc supports -c -o file.o... (cached) yes\n",
            "checking whether the gcc linker (/usr/bin/ld) supports shared libraries... yes\n",
            "checking whether -lc should be explicitly linked in... no\n",
            "checking dynamic linker characteristics... GNU/Linux ld.so\n",
            "checking how to hardcode library paths into programs... immediate\n",
            "checking whether stripping libraries is possible... yes\n",
            "checking if libtool supports shared libraries... yes\n",
            "checking whether to build shared libraries... yes\n",
            "checking whether to build static libraries... yes\n",
            "checking for a BSD-compatible install... /usr/bin/install -c\n",
            "checking for special C compiler options needed for large files... no\n",
            "checking for _FILE_OFFSET_BITS value needed for large files... no\n",
            "checking for int8_t... yes\n",
            "checking for int16_t... yes\n",
            "checking for int32_t... yes\n",
            "checking for int64_t... yes\n",
            "checking for intptr_t... yes\n",
            "checking for uint8_t... yes\n",
            "checking for uint16_t... yes\n",
            "checking for uint32_t... yes\n",
            "checking for uint64_t... yes\n",
            "checking for uintptr_t... yes\n",
            "checking for sys/types.h... (cached) yes\n",
            "checking for stdlib.h... (cached) yes\n",
            "checking for stdint.h... (cached) yes\n",
            "checking for inttypes.h... (cached) yes\n",
            "checking malloc.h usability... yes\n",
            "checking malloc.h presence... yes\n",
            "checking for malloc.h... yes\n",
            "checking for fdatasync... yes\n",
            "checking for gmtime_r... yes\n",
            "checking for isnan... yes\n",
            "checking for localtime_r... yes\n",
            "checking for localtime_s... no\n",
            "checking for malloc_usable_size... yes\n",
            "checking for strchrnul... yes\n",
            "checking for usleep... yes\n",
            "checking for utime... yes\n",
            "checking for pread... yes\n",
            "checking for pread64... yes\n",
            "checking for pwrite... yes\n",
            "checking for pwrite64... yes\n",
            "checking for tclsh8.7... no\n",
            "checking for tclsh8.6... tclsh8.6\n",
            "configure: Version set to 3.36\n",
            "configure: Release set to 3.36.0\n",
            "checking whether to support threadsafe operation... yes\n",
            "checking for library containing pthread_create... -lpthread\n",
            "checking for library containing pthread_mutexattr_init... none required\n",
            "checking whether to support shared library linked as release mode or not... no\n",
            "checking whether to use an in-ram database for temporary tables... no\n",
            "checking if executables have the .exe suffix... unknown\n",
            "checking for Tcl configuration... found /usr/lib/tclConfig.sh\n",
            "checking for existence of /usr/lib/tclConfig.sh... loading\n",
            "checking for library containing readline... no\n",
            "checking for library containing tgetent... -lncurses\n",
            "checking for readline in -lreadline... yes\n",
            "checking readline.h usability... no\n",
            "checking readline.h presence... no\n",
            "checking for readline.h... no\n",
            "checking for /usr/include/readline.h... no\n",
            "checking for /usr/include/readline/readline.h... yes\n",
            "checking for library containing fdatasync... none required\n",
            "checking build type... release\n",
            "checking zlib.h usability... yes\n",
            "checking zlib.h presence... yes\n",
            "checking for zlib.h... yes\n",
            "checking for library containing deflate... -lz\n",
            "checking for library containing dlopen... -ldl\n",
            "checking whether to support math functions... yes\n",
            "checking for library containing ceil... -lm\n",
            "checking whether to support MEMSYS5... no\n",
            "checking whether to support MEMSYS3... no\n",
            "checking whether to support FTS3... no\n",
            "checking whether to support FTS4... no\n",
            "checking whether to support FTS5... no\n",
            "checking whether to support JSON... no\n",
            "checking whether to support LIMIT on UPDATE and DELETE statements... no\n",
            "checking whether to support GEOPOLY... no\n",
            "checking whether to support RTREE... no\n",
            "checking whether to support SESSION... no\n",
            "configure: creating ./config.status\n",
            "config.status: creating Makefile\n",
            "config.status: creating sqlite3.pc\n",
            "config.status: creating config.h\n",
            "config.status: executing libtool commands\n",
            "gcc  -g -O2 -o mkkeywordhash -DSQLITE_ENABLE_MATH_FUNCTIONS  /content/sqlite/tool/mkkeywordhash.c\n",
            "./mkkeywordhash >keywordhash.h\n",
            "gcc  -g -O2 -o lemon /content/sqlite/tool/lemon.c\n",
            "cp /content/sqlite/tool/lempar.c .\n",
            "cp /content/sqlite/src/parse.y .\n",
            "./lemon -DSQLITE_ENABLE_MATH_FUNCTIONS  -S parse.y\n",
            "cat parse.h /content/sqlite/src/vdbe.c | tclsh8.6 /content/sqlite/tool/mkopcodeh.tcl >opcodes.h\n",
            "tclsh8.6 /content/sqlite/tool/mkopcodec.tcl opcodes.h >opcodes.c\n",
            "tclsh8.6 /content/sqlite/tool/mkshellc.tcl >shell.c\n",
            "gcc  -g -O2 -o mksourceid /content/sqlite/tool/mksourceid.c\n",
            "tclsh8.6 /content/sqlite/tool/mksqlite3h.tcl /content/sqlite >sqlite3.h\n",
            "cp /content/sqlite/ext/fts5/fts5parse.y .\n",
            "rm -f fts5parse.h\n",
            "./lemon  -S fts5parse.y\n",
            "tclsh8.6 /content/sqlite/ext/fts5/tool/mkfts5c.tcl\n",
            "cp /content/sqlite/ext/fts5/fts5.h .\n",
            "rm -rf tsrc\n",
            "mkdir tsrc\n",
            "cp -f /content/sqlite/src/alter.c /content/sqlite/src/analyze.c /content/sqlite/src/attach.c /content/sqlite/src/auth.c /content/sqlite/src/backup.c /content/sqlite/src/bitvec.c /content/sqlite/src/btmutex.c /content/sqlite/src/btree.c /content/sqlite/src/btree.h /content/sqlite/src/btreeInt.h /content/sqlite/src/build.c /content/sqlite/src/callback.c /content/sqlite/src/complete.c /content/sqlite/src/ctime.c /content/sqlite/src/date.c /content/sqlite/src/dbpage.c /content/sqlite/src/dbstat.c /content/sqlite/src/delete.c /content/sqlite/src/expr.c /content/sqlite/src/fault.c /content/sqlite/src/fkey.c /content/sqlite/src/func.c /content/sqlite/src/global.c /content/sqlite/src/hash.c /content/sqlite/src/hash.h /content/sqlite/src/hwtime.h /content/sqlite/src/insert.c /content/sqlite/src/legacy.c /content/sqlite/src/loadext.c /content/sqlite/src/main.c /content/sqlite/src/malloc.c /content/sqlite/src/mem0.c /content/sqlite/src/mem1.c /content/sqlite/src/mem2.c /content/sqlite/src/mem3.c /content/sqlite/src/mem5.c /content/sqlite/src/memdb.c /content/sqlite/src/memjournal.c /content/sqlite/src/msvc.h /content/sqlite/src/mutex.c /content/sqlite/src/mutex.h /content/sqlite/src/mutex_noop.c /content/sqlite/src/mutex_unix.c /content/sqlite/src/mutex_w32.c /content/sqlite/src/notify.c /content/sqlite/src/os.c /content/sqlite/src/os.h /content/sqlite/src/os_common.h /content/sqlite/src/os_setup.h /content/sqlite/src/os_unix.c /content/sqlite/src/os_win.c /content/sqlite/src/os_win.h /content/sqlite/src/pager.c /content/sqlite/src/pager.h /content/sqlite/src/parse.y /content/sqlite/src/pcache.c /content/sqlite/src/pcache.h /content/sqlite/src/pcache1.c /content/sqlite/src/pragma.c /content/sqlite/src/pragma.h /content/sqlite/src/prepare.c /content/sqlite/src/printf.c /content/sqlite/src/random.c /content/sqlite/src/resolve.c /content/sqlite/src/rowset.c /content/sqlite/src/select.c /content/sqlite/src/status.c /content/sqlite/src/shell.c.in /content/sqlite/src/sqlite.h.in /content/sqlite/src/sqlite3ext.h /content/sqlite/src/sqliteInt.h /content/sqlite/src/sqliteLimit.h /content/sqlite/src/table.c /content/sqlite/src/tclsqlite.c /content/sqlite/src/threads.c /content/sqlite/src/tokenize.c /content/sqlite/src/treeview.c /content/sqlite/src/trigger.c /content/sqlite/src/utf.c /content/sqlite/src/update.c /content/sqlite/src/upsert.c /content/sqlite/src/util.c /content/sqlite/src/vacuum.c /content/sqlite/src/vdbe.c /content/sqlite/src/vdbe.h /content/sqlite/src/vdbeapi.c /content/sqlite/src/vdbeaux.c /content/sqlite/src/vdbeblob.c /content/sqlite/src/vdbemem.c /content/sqlite/src/vdbesort.c /content/sqlite/src/vdbetrace.c /content/sqlite/src/vdbevtab.c /content/sqlite/src/vdbeInt.h /content/sqlite/src/vtab.c /content/sqlite/src/vxworks.h /content/sqlite/src/wal.c /content/sqlite/src/wal.h /content/sqlite/src/walker.c /content/sqlite/src/where.c /content/sqlite/src/wherecode.c /content/sqlite/src/whereexpr.c /content/sqlite/src/whereInt.h /content/sqlite/src/window.c /content/sqlite/ext/fts1/fts1.c /content/sqlite/ext/fts1/fts1.h /content/sqlite/ext/fts1/fts1_hash.c /content/sqlite/ext/fts1/fts1_hash.h /content/sqlite/ext/fts1/fts1_porter.c /content/sqlite/ext/fts1/fts1_tokenizer.h /content/sqlite/ext/fts1/fts1_tokenizer1.c /content/sqlite/ext/fts2/fts2.c /content/sqlite/ext/fts2/fts2.h /content/sqlite/ext/fts2/fts2_hash.c /content/sqlite/ext/fts2/fts2_hash.h /content/sqlite/ext/fts2/fts2_icu.c /content/sqlite/ext/fts2/fts2_porter.c /content/sqlite/ext/fts2/fts2_tokenizer.h /content/sqlite/ext/fts2/fts2_tokenizer.c /content/sqlite/ext/fts2/fts2_tokenizer1.c /content/sqlite/ext/fts3/fts3.c /content/sqlite/ext/fts3/fts3.h /content/sqlite/ext/fts3/fts3Int.h /content/sqlite/ext/fts3/fts3_aux.c /content/sqlite/ext/fts3/fts3_expr.c /content/sqlite/ext/fts3/fts3_hash.c /content/sqlite/ext/fts3/fts3_hash.h /content/sqlite/ext/fts3/fts3_icu.c /content/sqlite/ext/fts3/fts3_porter.c /content/sqlite/ext/fts3/fts3_snippet.c /content/sqlite/ext/fts3/fts3_tokenizer.h /content/sqlite/ext/fts3/fts3_tokenizer.c /content/sqlite/ext/fts3/fts3_tokenizer1.c /content/sqlite/ext/fts3/fts3_tokenize_vtab.c /content/sqlite/ext/fts3/fts3_unicode.c /content/sqlite/ext/fts3/fts3_unicode2.c /content/sqlite/ext/fts3/fts3_write.c /content/sqlite/ext/icu/sqliteicu.h /content/sqlite/ext/icu/icu.c /content/sqlite/ext/rtree/rtree.h /content/sqlite/ext/rtree/rtree.c /content/sqlite/ext/rtree/geopoly.c /content/sqlite/ext/session/sqlite3session.c /content/sqlite/ext/session/sqlite3session.h /content/sqlite/ext/userauth/userauth.c /content/sqlite/ext/userauth/sqlite3userauth.h /content/sqlite/ext/rbu/sqlite3rbu.h /content/sqlite/ext/rbu/sqlite3rbu.c /content/sqlite/ext/misc/json1.c /content/sqlite/ext/misc/stmt.c keywordhash.h opcodes.c opcodes.h parse.c parse.h config.h shell.c sqlite3.h tsrc\n",
            "rm tsrc/sqlite.h.in tsrc/parse.y\n",
            "tclsh8.6 /content/sqlite/tool/vdbe-compress.tcl  <tsrc/vdbe.c >vdbe.new\n",
            "mv vdbe.new tsrc/vdbe.c\n",
            "cp fts5.c fts5.h tsrc\n",
            "touch .target_source\n",
            "tclsh8.6 /content/sqlite/tool/mksqlite3c.tcl\n",
            "cp tsrc/sqlite3ext.h .\n",
            "cp /content/sqlite/ext/session/sqlite3session.h .\n",
            "/content\n",
            "\u001b[K\u001b[?25hnpx: installed 1 in 2.295s\n",
            "\u001b[36m> destination directory is not empty. Using --force, continuing\u001b[39m\n",
            "\u001b[36m> cloned \u001b[1mcoleifer/pysqlite3\u001b[22m#\u001b[1mHEAD\u001b[22m\u001b[39m\n",
            "running build_static\n",
            "Builds a C extension using a sqlite3 amalgamation\n",
            "building 'pysqlite3._sqlite3' extension\n",
            "creating build\n",
            "creating build/temp.linux-x86_64-3.7\n",
            "creating build/temp.linux-x86_64-3.7/src\n",
            "x86_64-linux-gnu-gcc -pthread -Wno-unused-result -Wsign-compare -DNDEBUG -g -fwrapv -O2 -Wall -g -fdebug-prefix-map=/build/python3.7-Y7dWVB/python3.7-3.7.12=. -fstack-protector-strong -Wformat -Werror=format-security -g -fdebug-prefix-map=/build/python3.7-Y7dWVB/python3.7-3.7.12=. -fstack-protector-strong -Wformat -Werror=format-security -Wdate-time -D_FORTIFY_SOURCE=2 -fPIC -DMODULE_NAME=\"pysqlite3.dbapi2\" -DSQLITE_ALLOW_COVERING_INDEX_SCAN=1 -DSQLITE_ENABLE_FTS3=1 -DSQLITE_ENABLE_FTS3_PARENTHESIS=1 -DSQLITE_ENABLE_FTS4=1 -DSQLITE_ENABLE_FTS5=1 -DSQLITE_ENABLE_JSON1=1 -DSQLITE_ENABLE_LOAD_EXTENSION=1 -DSQLITE_ENABLE_RTREE=1 -DSQLITE_ENABLE_STAT4=1 -DSQLITE_ENABLE_UPDATE_DELETE_LIMIT=1 -DSQLITE_SOUNDEX=1 -DSQLITE_USE_URI=1 -DSQLITE_TEMP_STORE=3 -DSQLITE_MAX_VARIABLE_NUMBER=250000 -DSQLITE_MAX_MMAP_SIZE=1099511627776 -I. -I/usr/include/python3.7m -c src/module.c -o build/temp.linux-x86_64-3.7/src/module.o\n",
            "x86_64-linux-gnu-gcc -pthread -Wno-unused-result -Wsign-compare -DNDEBUG -g -fwrapv -O2 -Wall -g -fdebug-prefix-map=/build/python3.7-Y7dWVB/python3.7-3.7.12=. -fstack-protector-strong -Wformat -Werror=format-security -g -fdebug-prefix-map=/build/python3.7-Y7dWVB/python3.7-3.7.12=. -fstack-protector-strong -Wformat -Werror=format-security -Wdate-time -D_FORTIFY_SOURCE=2 -fPIC -DMODULE_NAME=\"pysqlite3.dbapi2\" -DSQLITE_ALLOW_COVERING_INDEX_SCAN=1 -DSQLITE_ENABLE_FTS3=1 -DSQLITE_ENABLE_FTS3_PARENTHESIS=1 -DSQLITE_ENABLE_FTS4=1 -DSQLITE_ENABLE_FTS5=1 -DSQLITE_ENABLE_JSON1=1 -DSQLITE_ENABLE_LOAD_EXTENSION=1 -DSQLITE_ENABLE_RTREE=1 -DSQLITE_ENABLE_STAT4=1 -DSQLITE_ENABLE_UPDATE_DELETE_LIMIT=1 -DSQLITE_SOUNDEX=1 -DSQLITE_USE_URI=1 -DSQLITE_TEMP_STORE=3 -DSQLITE_MAX_VARIABLE_NUMBER=250000 -DSQLITE_MAX_MMAP_SIZE=1099511627776 -I. -I/usr/include/python3.7m -c src/connection.c -o build/temp.linux-x86_64-3.7/src/connection.o\n",
            "x86_64-linux-gnu-gcc -pthread -Wno-unused-result -Wsign-compare -DNDEBUG -g -fwrapv -O2 -Wall -g -fdebug-prefix-map=/build/python3.7-Y7dWVB/python3.7-3.7.12=. -fstack-protector-strong -Wformat -Werror=format-security -g -fdebug-prefix-map=/build/python3.7-Y7dWVB/python3.7-3.7.12=. -fstack-protector-strong -Wformat -Werror=format-security -Wdate-time -D_FORTIFY_SOURCE=2 -fPIC -DMODULE_NAME=\"pysqlite3.dbapi2\" -DSQLITE_ALLOW_COVERING_INDEX_SCAN=1 -DSQLITE_ENABLE_FTS3=1 -DSQLITE_ENABLE_FTS3_PARENTHESIS=1 -DSQLITE_ENABLE_FTS4=1 -DSQLITE_ENABLE_FTS5=1 -DSQLITE_ENABLE_JSON1=1 -DSQLITE_ENABLE_LOAD_EXTENSION=1 -DSQLITE_ENABLE_RTREE=1 -DSQLITE_ENABLE_STAT4=1 -DSQLITE_ENABLE_UPDATE_DELETE_LIMIT=1 -DSQLITE_SOUNDEX=1 -DSQLITE_USE_URI=1 -DSQLITE_TEMP_STORE=3 -DSQLITE_MAX_VARIABLE_NUMBER=250000 -DSQLITE_MAX_MMAP_SIZE=1099511627776 -I. -I/usr/include/python3.7m -c src/cursor.c -o build/temp.linux-x86_64-3.7/src/cursor.o\n",
            "x86_64-linux-gnu-gcc -pthread -Wno-unused-result -Wsign-compare -DNDEBUG -g -fwrapv -O2 -Wall -g -fdebug-prefix-map=/build/python3.7-Y7dWVB/python3.7-3.7.12=. -fstack-protector-strong -Wformat -Werror=format-security -g -fdebug-prefix-map=/build/python3.7-Y7dWVB/python3.7-3.7.12=. -fstack-protector-strong -Wformat -Werror=format-security -Wdate-time -D_FORTIFY_SOURCE=2 -fPIC -DMODULE_NAME=\"pysqlite3.dbapi2\" -DSQLITE_ALLOW_COVERING_INDEX_SCAN=1 -DSQLITE_ENABLE_FTS3=1 -DSQLITE_ENABLE_FTS3_PARENTHESIS=1 -DSQLITE_ENABLE_FTS4=1 -DSQLITE_ENABLE_FTS5=1 -DSQLITE_ENABLE_JSON1=1 -DSQLITE_ENABLE_LOAD_EXTENSION=1 -DSQLITE_ENABLE_RTREE=1 -DSQLITE_ENABLE_STAT4=1 -DSQLITE_ENABLE_UPDATE_DELETE_LIMIT=1 -DSQLITE_SOUNDEX=1 -DSQLITE_USE_URI=1 -DSQLITE_TEMP_STORE=3 -DSQLITE_MAX_VARIABLE_NUMBER=250000 -DSQLITE_MAX_MMAP_SIZE=1099511627776 -I. -I/usr/include/python3.7m -c src/cache.c -o build/temp.linux-x86_64-3.7/src/cache.o\n",
            "x86_64-linux-gnu-gcc -pthread -Wno-unused-result -Wsign-compare -DNDEBUG -g -fwrapv -O2 -Wall -g -fdebug-prefix-map=/build/python3.7-Y7dWVB/python3.7-3.7.12=. -fstack-protector-strong -Wformat -Werror=format-security -g -fdebug-prefix-map=/build/python3.7-Y7dWVB/python3.7-3.7.12=. -fstack-protector-strong -Wformat -Werror=format-security -Wdate-time -D_FORTIFY_SOURCE=2 -fPIC -DMODULE_NAME=\"pysqlite3.dbapi2\" -DSQLITE_ALLOW_COVERING_INDEX_SCAN=1 -DSQLITE_ENABLE_FTS3=1 -DSQLITE_ENABLE_FTS3_PARENTHESIS=1 -DSQLITE_ENABLE_FTS4=1 -DSQLITE_ENABLE_FTS5=1 -DSQLITE_ENABLE_JSON1=1 -DSQLITE_ENABLE_LOAD_EXTENSION=1 -DSQLITE_ENABLE_RTREE=1 -DSQLITE_ENABLE_STAT4=1 -DSQLITE_ENABLE_UPDATE_DELETE_LIMIT=1 -DSQLITE_SOUNDEX=1 -DSQLITE_USE_URI=1 -DSQLITE_TEMP_STORE=3 -DSQLITE_MAX_VARIABLE_NUMBER=250000 -DSQLITE_MAX_MMAP_SIZE=1099511627776 -I. -I/usr/include/python3.7m -c src/microprotocols.c -o build/temp.linux-x86_64-3.7/src/microprotocols.o\n",
            "x86_64-linux-gnu-gcc -pthread -Wno-unused-result -Wsign-compare -DNDEBUG -g -fwrapv -O2 -Wall -g -fdebug-prefix-map=/build/python3.7-Y7dWVB/python3.7-3.7.12=. -fstack-protector-strong -Wformat -Werror=format-security -g -fdebug-prefix-map=/build/python3.7-Y7dWVB/python3.7-3.7.12=. -fstack-protector-strong -Wformat -Werror=format-security -Wdate-time -D_FORTIFY_SOURCE=2 -fPIC -DMODULE_NAME=\"pysqlite3.dbapi2\" -DSQLITE_ALLOW_COVERING_INDEX_SCAN=1 -DSQLITE_ENABLE_FTS3=1 -DSQLITE_ENABLE_FTS3_PARENTHESIS=1 -DSQLITE_ENABLE_FTS4=1 -DSQLITE_ENABLE_FTS5=1 -DSQLITE_ENABLE_JSON1=1 -DSQLITE_ENABLE_LOAD_EXTENSION=1 -DSQLITE_ENABLE_RTREE=1 -DSQLITE_ENABLE_STAT4=1 -DSQLITE_ENABLE_UPDATE_DELETE_LIMIT=1 -DSQLITE_SOUNDEX=1 -DSQLITE_USE_URI=1 -DSQLITE_TEMP_STORE=3 -DSQLITE_MAX_VARIABLE_NUMBER=250000 -DSQLITE_MAX_MMAP_SIZE=1099511627776 -I. -I/usr/include/python3.7m -c src/prepare_protocol.c -o build/temp.linux-x86_64-3.7/src/prepare_protocol.o\n",
            "x86_64-linux-gnu-gcc -pthread -Wno-unused-result -Wsign-compare -DNDEBUG -g -fwrapv -O2 -Wall -g -fdebug-prefix-map=/build/python3.7-Y7dWVB/python3.7-3.7.12=. -fstack-protector-strong -Wformat -Werror=format-security -g -fdebug-prefix-map=/build/python3.7-Y7dWVB/python3.7-3.7.12=. -fstack-protector-strong -Wformat -Werror=format-security -Wdate-time -D_FORTIFY_SOURCE=2 -fPIC -DMODULE_NAME=\"pysqlite3.dbapi2\" -DSQLITE_ALLOW_COVERING_INDEX_SCAN=1 -DSQLITE_ENABLE_FTS3=1 -DSQLITE_ENABLE_FTS3_PARENTHESIS=1 -DSQLITE_ENABLE_FTS4=1 -DSQLITE_ENABLE_FTS5=1 -DSQLITE_ENABLE_JSON1=1 -DSQLITE_ENABLE_LOAD_EXTENSION=1 -DSQLITE_ENABLE_RTREE=1 -DSQLITE_ENABLE_STAT4=1 -DSQLITE_ENABLE_UPDATE_DELETE_LIMIT=1 -DSQLITE_SOUNDEX=1 -DSQLITE_USE_URI=1 -DSQLITE_TEMP_STORE=3 -DSQLITE_MAX_VARIABLE_NUMBER=250000 -DSQLITE_MAX_MMAP_SIZE=1099511627776 -I. -I/usr/include/python3.7m -c src/statement.c -o build/temp.linux-x86_64-3.7/src/statement.o\n",
            "x86_64-linux-gnu-gcc -pthread -Wno-unused-result -Wsign-compare -DNDEBUG -g -fwrapv -O2 -Wall -g -fdebug-prefix-map=/build/python3.7-Y7dWVB/python3.7-3.7.12=. -fstack-protector-strong -Wformat -Werror=format-security -g -fdebug-prefix-map=/build/python3.7-Y7dWVB/python3.7-3.7.12=. -fstack-protector-strong -Wformat -Werror=format-security -Wdate-time -D_FORTIFY_SOURCE=2 -fPIC -DMODULE_NAME=\"pysqlite3.dbapi2\" -DSQLITE_ALLOW_COVERING_INDEX_SCAN=1 -DSQLITE_ENABLE_FTS3=1 -DSQLITE_ENABLE_FTS3_PARENTHESIS=1 -DSQLITE_ENABLE_FTS4=1 -DSQLITE_ENABLE_FTS5=1 -DSQLITE_ENABLE_JSON1=1 -DSQLITE_ENABLE_LOAD_EXTENSION=1 -DSQLITE_ENABLE_RTREE=1 -DSQLITE_ENABLE_STAT4=1 -DSQLITE_ENABLE_UPDATE_DELETE_LIMIT=1 -DSQLITE_SOUNDEX=1 -DSQLITE_USE_URI=1 -DSQLITE_TEMP_STORE=3 -DSQLITE_MAX_VARIABLE_NUMBER=250000 -DSQLITE_MAX_MMAP_SIZE=1099511627776 -I. -I/usr/include/python3.7m -c src/util.c -o build/temp.linux-x86_64-3.7/src/util.o\n",
            "x86_64-linux-gnu-gcc -pthread -Wno-unused-result -Wsign-compare -DNDEBUG -g -fwrapv -O2 -Wall -g -fdebug-prefix-map=/build/python3.7-Y7dWVB/python3.7-3.7.12=. -fstack-protector-strong -Wformat -Werror=format-security -g -fdebug-prefix-map=/build/python3.7-Y7dWVB/python3.7-3.7.12=. -fstack-protector-strong -Wformat -Werror=format-security -Wdate-time -D_FORTIFY_SOURCE=2 -fPIC -DMODULE_NAME=\"pysqlite3.dbapi2\" -DSQLITE_ALLOW_COVERING_INDEX_SCAN=1 -DSQLITE_ENABLE_FTS3=1 -DSQLITE_ENABLE_FTS3_PARENTHESIS=1 -DSQLITE_ENABLE_FTS4=1 -DSQLITE_ENABLE_FTS5=1 -DSQLITE_ENABLE_JSON1=1 -DSQLITE_ENABLE_LOAD_EXTENSION=1 -DSQLITE_ENABLE_RTREE=1 -DSQLITE_ENABLE_STAT4=1 -DSQLITE_ENABLE_UPDATE_DELETE_LIMIT=1 -DSQLITE_SOUNDEX=1 -DSQLITE_USE_URI=1 -DSQLITE_TEMP_STORE=3 -DSQLITE_MAX_VARIABLE_NUMBER=250000 -DSQLITE_MAX_MMAP_SIZE=1099511627776 -I. -I/usr/include/python3.7m -c src/row.c -o build/temp.linux-x86_64-3.7/src/row.o\n",
            "x86_64-linux-gnu-gcc -pthread -Wno-unused-result -Wsign-compare -DNDEBUG -g -fwrapv -O2 -Wall -g -fdebug-prefix-map=/build/python3.7-Y7dWVB/python3.7-3.7.12=. -fstack-protector-strong -Wformat -Werror=format-security -g -fdebug-prefix-map=/build/python3.7-Y7dWVB/python3.7-3.7.12=. -fstack-protector-strong -Wformat -Werror=format-security -Wdate-time -D_FORTIFY_SOURCE=2 -fPIC -DMODULE_NAME=\"pysqlite3.dbapi2\" -DSQLITE_ALLOW_COVERING_INDEX_SCAN=1 -DSQLITE_ENABLE_FTS3=1 -DSQLITE_ENABLE_FTS3_PARENTHESIS=1 -DSQLITE_ENABLE_FTS4=1 -DSQLITE_ENABLE_FTS5=1 -DSQLITE_ENABLE_JSON1=1 -DSQLITE_ENABLE_LOAD_EXTENSION=1 -DSQLITE_ENABLE_RTREE=1 -DSQLITE_ENABLE_STAT4=1 -DSQLITE_ENABLE_UPDATE_DELETE_LIMIT=1 -DSQLITE_SOUNDEX=1 -DSQLITE_USE_URI=1 -DSQLITE_TEMP_STORE=3 -DSQLITE_MAX_VARIABLE_NUMBER=250000 -DSQLITE_MAX_MMAP_SIZE=1099511627776 -I. -I/usr/include/python3.7m -c src/blob.c -o build/temp.linux-x86_64-3.7/src/blob.o\n",
            "x86_64-linux-gnu-gcc -pthread -Wno-unused-result -Wsign-compare -DNDEBUG -g -fwrapv -O2 -Wall -g -fdebug-prefix-map=/build/python3.7-Y7dWVB/python3.7-3.7.12=. -fstack-protector-strong -Wformat -Werror=format-security -g -fdebug-prefix-map=/build/python3.7-Y7dWVB/python3.7-3.7.12=. -fstack-protector-strong -Wformat -Werror=format-security -Wdate-time -D_FORTIFY_SOURCE=2 -fPIC -DMODULE_NAME=\"pysqlite3.dbapi2\" -DSQLITE_ALLOW_COVERING_INDEX_SCAN=1 -DSQLITE_ENABLE_FTS3=1 -DSQLITE_ENABLE_FTS3_PARENTHESIS=1 -DSQLITE_ENABLE_FTS4=1 -DSQLITE_ENABLE_FTS5=1 -DSQLITE_ENABLE_JSON1=1 -DSQLITE_ENABLE_LOAD_EXTENSION=1 -DSQLITE_ENABLE_RTREE=1 -DSQLITE_ENABLE_STAT4=1 -DSQLITE_ENABLE_UPDATE_DELETE_LIMIT=1 -DSQLITE_SOUNDEX=1 -DSQLITE_USE_URI=1 -DSQLITE_TEMP_STORE=3 -DSQLITE_MAX_VARIABLE_NUMBER=250000 -DSQLITE_MAX_MMAP_SIZE=1099511627776 -I. -I/usr/include/python3.7m -c ./sqlite3.c -o build/temp.linux-x86_64-3.7/./sqlite3.o\n",
            "creating build/lib.linux-x86_64-3.7\n",
            "creating build/lib.linux-x86_64-3.7/pysqlite3\n",
            "x86_64-linux-gnu-gcc -pthread -shared -Wl,-O1 -Wl,-Bsymbolic-functions -Wl,-Bsymbolic-functions -Wl,-z,relro -Wl,-Bsymbolic-functions -Wl,-z,relro -g -fdebug-prefix-map=/build/python3.7-Y7dWVB/python3.7-3.7.12=. -fstack-protector-strong -Wformat -Werror=format-security -Wdate-time -D_FORTIFY_SOURCE=2 build/temp.linux-x86_64-3.7/src/module.o build/temp.linux-x86_64-3.7/src/connection.o build/temp.linux-x86_64-3.7/src/cursor.o build/temp.linux-x86_64-3.7/src/cache.o build/temp.linux-x86_64-3.7/src/microprotocols.o build/temp.linux-x86_64-3.7/src/prepare_protocol.o build/temp.linux-x86_64-3.7/src/statement.o build/temp.linux-x86_64-3.7/src/util.o build/temp.linux-x86_64-3.7/src/row.o build/temp.linux-x86_64-3.7/src/blob.o build/temp.linux-x86_64-3.7/./sqlite3.o -o build/lib.linux-x86_64-3.7/pysqlite3/_sqlite3.cpython-37m-x86_64-linux-gnu.so -lm\n",
            "running build\n",
            "running build_py\n",
            "copying pysqlite3/dbapi2.py -> build/lib.linux-x86_64-3.7/pysqlite3\n",
            "copying pysqlite3/__init__.py -> build/lib.linux-x86_64-3.7/pysqlite3\n",
            "running build_ext\n",
            "Builds a C extension linking against libsqlite3 library\n"
          ]
        }
      ]
    },
    {
      "cell_type": "code",
      "metadata": {
        "id": "hQkqcjL7EXCr",
        "colab": {
          "base_uri": "https://localhost:8080/",
          "height": 35
        },
        "outputId": "bf354845-a884-42dc-d98c-f65416740e7e"
      },
      "source": [
        "# 메뉴 런타임 > 런타임 다시 시작 후 살행\n",
        "import pandas as pd\n",
        "import sqlite3\n",
        "sqlite3.sqlite_version  # 3.36.0"
      ],
      "execution_count": 1,
      "outputs": [
        {
          "output_type": "execute_result",
          "data": {
            "application/vnd.google.colaboratory.intrinsic+json": {
              "type": "string"
            },
            "text/plain": [
              "'3.36.0'"
            ]
          },
          "metadata": {},
          "execution_count": 1
        }
      ]
    },
    {
      "cell_type": "markdown",
      "metadata": {
        "id": "eBD5-kqFxbZC"
      },
      "source": [
        "2) 데이터베이스 다운로드"
      ]
    },
    {
      "cell_type": "code",
      "metadata": {
        "id": "A4DnlgKDf0Ph",
        "colab": {
          "base_uri": "https://localhost:8080/",
          "height": 106
        },
        "outputId": "267faa2f-dee1-4f77-b872-44cf8828247b"
      },
      "source": [
        "import gdown\n",
        "\n",
        "url = 'https://drive.google.com/uc?id=1iTVsBZLU8GtqSIy0iZ1A4Wp4ZZMuNoUM'\n",
        "output = 'classicmodels.db'\n",
        "gdown.download(url, output, quiet=False)"
      ],
      "execution_count": 2,
      "outputs": [
        {
          "output_type": "stream",
          "name": "stderr",
          "text": [
            "Downloading...\n",
            "From: https://drive.google.com/uc?id=1iTVsBZLU8GtqSIy0iZ1A4Wp4ZZMuNoUM\n",
            "To: /content/classicmodels.db\n",
            "100%|██████████| 311k/311k [00:00<00:00, 19.0MB/s]\n"
          ]
        },
        {
          "output_type": "execute_result",
          "data": {
            "application/vnd.google.colaboratory.intrinsic+json": {
              "type": "string"
            },
            "text/plain": [
              "'classicmodels.db'"
            ]
          },
          "metadata": {},
          "execution_count": 2
        }
      ]
    },
    {
      "cell_type": "markdown",
      "metadata": {
        "id": "PL5PJelMxoh_"
      },
      "source": [
        "3) 데이터베이스 연결"
      ]
    },
    {
      "cell_type": "code",
      "metadata": {
        "id": "dAma45DgCvvT"
      },
      "source": [
        "conn = sqlite3.connect(\"classicmodels.db\")\n",
        "cur = conn.cursor()"
      ],
      "execution_count": 3,
      "outputs": []
    },
    {
      "cell_type": "markdown",
      "metadata": {
        "id": "1JuDnthkxx7B"
      },
      "source": [
        "4) 데이터베이스 테이블 조회"
      ]
    },
    {
      "cell_type": "code",
      "metadata": {
        "id": "XgMq8gRBG2ij"
      },
      "source": [
        "def viewlimit(table, cutlimit):\n",
        "  sql = \"SELECT * FROM \" + table + \" LIMIT \" + cutlimit + \";\"\n",
        "  cur.execute(sql)  # 입력한 내용을 sql에서 실행시키기 위한 line\n",
        "  rows = cur.fetchall() # cur로 들어간 내용 가져오기(명령문 가져오기)\n",
        "  print(sql)\n",
        "  for row in rows:\n",
        "    print(row)"
      ],
      "execution_count": 4,
      "outputs": []
    },
    {
      "cell_type": "code",
      "metadata": {
        "id": "W7nPJDRfHXhH",
        "colab": {
          "base_uri": "https://localhost:8080/"
        },
        "outputId": "7357a1e1-4742-421f-9957-f6f3eeb1c0c2"
      },
      "source": [
        "# customers 안의 10개의 data를 조회하겠다.\n",
        "viewlimit(\"customers\",\"10\")"
      ],
      "execution_count": 5,
      "outputs": [
        {
          "output_type": "stream",
          "name": "stdout",
          "text": [
            "SELECT * FROM customers LIMIT 10;\n",
            "(103, 'Atelier graphique', 'Schmitt', 'Carine ', '40.32.2555', '54, rue Royale', None, 'Nantes', None, '44000', 'France', 1370, 21000)\n",
            "(112, 'Signal Gift Stores', 'King', 'Jean', '7025551838', '8489 Strong St.', None, 'Las Vegas', 'NV', '83030', 'USA', 1166, 71800)\n",
            "(114, 'Australian Collectors, Co.', 'Ferguson', 'Peter', '03 9520 4555', '636 St Kilda Road', 'Level 3', 'Melbourne', 'Victoria', '3004', 'Australia', 1611, 117300)\n",
            "(119, 'La Rochelle Gifts', 'Labrune', 'Janine ', '40.67.8555', '67, rue des Cinquante Otages', None, 'Nantes', None, '44000', 'France', 1370, 118200)\n",
            "(121, 'Baane Mini Imports', 'Bergulfsen', 'Jonas ', '07-98 9555', 'Erling Skakkes gate 78', None, 'Stavern', None, '4110', 'Norway', 1504, 81700)\n",
            "(124, 'Mini Gifts Distributors Ltd.', 'Nelson', 'Susan', '4155551450', '5677 Strong St.', None, 'San Rafael', 'CA', '97562', 'USA', 1165, 210500)\n",
            "(125, 'Havel & Zbyszek Co', 'Piestrzeniewicz', 'Zbyszek ', '(26) 642-7555', 'ul. Filtrowa 68', None, 'Warszawa', None, '01-012', 'Poland', None, 0)\n",
            "(128, 'Blauer See Auto, Co.', 'Keitel', 'Roland', '+49 69 66 90 2555', 'Lyonerstr. 34', None, 'Frankfurt', None, '60528', 'Germany', 1504, 59700)\n",
            "(129, 'Mini Wheels Co.', 'Murphy', 'Julie', '6505555787', '5557 North Pendale Street', None, 'San Francisco', 'CA', '94217', 'USA', 1165, 64600)\n",
            "(131, 'Land of Toys Inc.', 'Lee', 'Kwai', '2125557818', '897 Long Airport Avenue', None, 'NYC', 'NY', '10022', 'USA', 1323, 114900)\n"
          ]
        }
      ]
    },
    {
      "cell_type": "markdown",
      "metadata": {
        "id": "NyyTaztcH9cG"
      },
      "source": [
        "5) Pandas 변환 후 결과 확인"
      ]
    },
    {
      "cell_type": "code",
      "metadata": {
        "id": "Kf2cXIMfie_U",
        "colab": {
          "base_uri": "https://localhost:8080/",
          "height": 595
        },
        "outputId": "d76de5ce-83eb-4217-8616-3af695ef9175"
      },
      "source": [
        "window_sql = f\"\"\"\n",
        "select *\n",
        "  from customers\n",
        " limit 100\n",
        "\"\"\" # sql에서는 여기까지만 입력하면 되는데\n",
        "df = pd.read_sql(window_sql, conn, index_col=None)  # python에서 실행시키기 위해 여기 아래의 줄도 사용. index_col은 기준이 되는 column 지정\n",
        "df.head(10) # 위에서부터 몇 개까지만 노출을 시킬 것인가."
      ],
      "execution_count": 11,
      "outputs": [
        {
          "output_type": "execute_result",
          "data": {
            "text/html": [
              "<div>\n",
              "<style scoped>\n",
              "    .dataframe tbody tr th:only-of-type {\n",
              "        vertical-align: middle;\n",
              "    }\n",
              "\n",
              "    .dataframe tbody tr th {\n",
              "        vertical-align: top;\n",
              "    }\n",
              "\n",
              "    .dataframe thead th {\n",
              "        text-align: right;\n",
              "    }\n",
              "</style>\n",
              "<table border=\"1\" class=\"dataframe\">\n",
              "  <thead>\n",
              "    <tr style=\"text-align: right;\">\n",
              "      <th></th>\n",
              "      <th>customerNumber</th>\n",
              "      <th>customerName</th>\n",
              "      <th>contactLastName</th>\n",
              "      <th>contactFirstName</th>\n",
              "      <th>phone</th>\n",
              "      <th>addressLine1</th>\n",
              "      <th>addressLine2</th>\n",
              "      <th>city</th>\n",
              "      <th>state</th>\n",
              "      <th>postalCode</th>\n",
              "      <th>country</th>\n",
              "      <th>salesRepEmployeeNumber</th>\n",
              "      <th>creditLimit</th>\n",
              "    </tr>\n",
              "  </thead>\n",
              "  <tbody>\n",
              "    <tr>\n",
              "      <th>0</th>\n",
              "      <td>103</td>\n",
              "      <td>Atelier graphique</td>\n",
              "      <td>Schmitt</td>\n",
              "      <td>Carine</td>\n",
              "      <td>40.32.2555</td>\n",
              "      <td>54, rue Royale</td>\n",
              "      <td>None</td>\n",
              "      <td>Nantes</td>\n",
              "      <td>None</td>\n",
              "      <td>44000</td>\n",
              "      <td>France</td>\n",
              "      <td>1370.0</td>\n",
              "      <td>21000</td>\n",
              "    </tr>\n",
              "    <tr>\n",
              "      <th>1</th>\n",
              "      <td>112</td>\n",
              "      <td>Signal Gift Stores</td>\n",
              "      <td>King</td>\n",
              "      <td>Jean</td>\n",
              "      <td>7025551838</td>\n",
              "      <td>8489 Strong St.</td>\n",
              "      <td>None</td>\n",
              "      <td>Las Vegas</td>\n",
              "      <td>NV</td>\n",
              "      <td>83030</td>\n",
              "      <td>USA</td>\n",
              "      <td>1166.0</td>\n",
              "      <td>71800</td>\n",
              "    </tr>\n",
              "    <tr>\n",
              "      <th>2</th>\n",
              "      <td>114</td>\n",
              "      <td>Australian Collectors, Co.</td>\n",
              "      <td>Ferguson</td>\n",
              "      <td>Peter</td>\n",
              "      <td>03 9520 4555</td>\n",
              "      <td>636 St Kilda Road</td>\n",
              "      <td>Level 3</td>\n",
              "      <td>Melbourne</td>\n",
              "      <td>Victoria</td>\n",
              "      <td>3004</td>\n",
              "      <td>Australia</td>\n",
              "      <td>1611.0</td>\n",
              "      <td>117300</td>\n",
              "    </tr>\n",
              "    <tr>\n",
              "      <th>3</th>\n",
              "      <td>119</td>\n",
              "      <td>La Rochelle Gifts</td>\n",
              "      <td>Labrune</td>\n",
              "      <td>Janine</td>\n",
              "      <td>40.67.8555</td>\n",
              "      <td>67, rue des Cinquante Otages</td>\n",
              "      <td>None</td>\n",
              "      <td>Nantes</td>\n",
              "      <td>None</td>\n",
              "      <td>44000</td>\n",
              "      <td>France</td>\n",
              "      <td>1370.0</td>\n",
              "      <td>118200</td>\n",
              "    </tr>\n",
              "    <tr>\n",
              "      <th>4</th>\n",
              "      <td>121</td>\n",
              "      <td>Baane Mini Imports</td>\n",
              "      <td>Bergulfsen</td>\n",
              "      <td>Jonas</td>\n",
              "      <td>07-98 9555</td>\n",
              "      <td>Erling Skakkes gate 78</td>\n",
              "      <td>None</td>\n",
              "      <td>Stavern</td>\n",
              "      <td>None</td>\n",
              "      <td>4110</td>\n",
              "      <td>Norway</td>\n",
              "      <td>1504.0</td>\n",
              "      <td>81700</td>\n",
              "    </tr>\n",
              "    <tr>\n",
              "      <th>5</th>\n",
              "      <td>124</td>\n",
              "      <td>Mini Gifts Distributors Ltd.</td>\n",
              "      <td>Nelson</td>\n",
              "      <td>Susan</td>\n",
              "      <td>4155551450</td>\n",
              "      <td>5677 Strong St.</td>\n",
              "      <td>None</td>\n",
              "      <td>San Rafael</td>\n",
              "      <td>CA</td>\n",
              "      <td>97562</td>\n",
              "      <td>USA</td>\n",
              "      <td>1165.0</td>\n",
              "      <td>210500</td>\n",
              "    </tr>\n",
              "    <tr>\n",
              "      <th>6</th>\n",
              "      <td>125</td>\n",
              "      <td>Havel &amp; Zbyszek Co</td>\n",
              "      <td>Piestrzeniewicz</td>\n",
              "      <td>Zbyszek</td>\n",
              "      <td>(26) 642-7555</td>\n",
              "      <td>ul. Filtrowa 68</td>\n",
              "      <td>None</td>\n",
              "      <td>Warszawa</td>\n",
              "      <td>None</td>\n",
              "      <td>01-012</td>\n",
              "      <td>Poland</td>\n",
              "      <td>NaN</td>\n",
              "      <td>0</td>\n",
              "    </tr>\n",
              "    <tr>\n",
              "      <th>7</th>\n",
              "      <td>128</td>\n",
              "      <td>Blauer See Auto, Co.</td>\n",
              "      <td>Keitel</td>\n",
              "      <td>Roland</td>\n",
              "      <td>+49 69 66 90 2555</td>\n",
              "      <td>Lyonerstr. 34</td>\n",
              "      <td>None</td>\n",
              "      <td>Frankfurt</td>\n",
              "      <td>None</td>\n",
              "      <td>60528</td>\n",
              "      <td>Germany</td>\n",
              "      <td>1504.0</td>\n",
              "      <td>59700</td>\n",
              "    </tr>\n",
              "    <tr>\n",
              "      <th>8</th>\n",
              "      <td>129</td>\n",
              "      <td>Mini Wheels Co.</td>\n",
              "      <td>Murphy</td>\n",
              "      <td>Julie</td>\n",
              "      <td>6505555787</td>\n",
              "      <td>5557 North Pendale Street</td>\n",
              "      <td>None</td>\n",
              "      <td>San Francisco</td>\n",
              "      <td>CA</td>\n",
              "      <td>94217</td>\n",
              "      <td>USA</td>\n",
              "      <td>1165.0</td>\n",
              "      <td>64600</td>\n",
              "    </tr>\n",
              "    <tr>\n",
              "      <th>9</th>\n",
              "      <td>131</td>\n",
              "      <td>Land of Toys Inc.</td>\n",
              "      <td>Lee</td>\n",
              "      <td>Kwai</td>\n",
              "      <td>2125557818</td>\n",
              "      <td>897 Long Airport Avenue</td>\n",
              "      <td>None</td>\n",
              "      <td>NYC</td>\n",
              "      <td>NY</td>\n",
              "      <td>10022</td>\n",
              "      <td>USA</td>\n",
              "      <td>1323.0</td>\n",
              "      <td>114900</td>\n",
              "    </tr>\n",
              "  </tbody>\n",
              "</table>\n",
              "</div>"
            ],
            "text/plain": [
              "   customerNumber  ... creditLimit\n",
              "0             103  ...       21000\n",
              "1             112  ...       71800\n",
              "2             114  ...      117300\n",
              "3             119  ...      118200\n",
              "4             121  ...       81700\n",
              "5             124  ...      210500\n",
              "6             125  ...           0\n",
              "7             128  ...       59700\n",
              "8             129  ...       64600\n",
              "9             131  ...      114900\n",
              "\n",
              "[10 rows x 13 columns]"
            ]
          },
          "metadata": {},
          "execution_count": 11
        }
      ]
    },
    {
      "cell_type": "code",
      "metadata": {
        "id": "XyjHksrFSq7Q"
      },
      "source": [
        "#데이터 다운로드\n",
        "df.to_csv('/content/tmp.csv')   # 위의 내용 csv file로 다운받기 가능"
      ],
      "execution_count": 12,
      "outputs": []
    },
    {
      "cell_type": "markdown",
      "metadata": {
        "id": "BRLivRO85KuW"
      },
      "source": [
        "데이터베이스 소개 URL\n",
        "https://www.mysqltutorial.org/mysql-sample-database.aspx"
      ]
    },
    {
      "cell_type": "markdown",
      "metadata": {
        "id": "Ua7hWE4l1zJ5"
      },
      "source": [
        "**데이터베이스 소개**\n",
        "\n",
        "![MySQL-Sample-Database-Schema.png](data:image/png;base64,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)\n",
        "\n",
        "\n",
        "*   Customers: stores customer’s data.\n",
        "*   Products: stores a list of scale model cars.\n",
        "*   ProductLines: stores a list of product line categories.\n",
        "*   Orders: stores sales orders placed by customers.\n",
        "*   OrderDetails: stores sales order line items for each sales order.\n",
        "*   Payments: stores payments made by customers based on their accounts.\n",
        "*   Employees: stores all employee information as well as the organization structure such as who reports to whom.\n",
        "*   Offices: stores sales office data.\n",
        "\n",
        "\n"
      ]
    },
    {
      "cell_type": "markdown",
      "metadata": {
        "id": "jnanxZi3Fqm3"
      },
      "source": [
        "# 1.SQL 문법"
      ]
    },
    {
      "cell_type": "markdown",
      "metadata": {
        "id": "vMKWKSBBFx63"
      },
      "source": [
        "SELECT 칼럼, 계산값 <br>\n",
        "FROM 테이블 명 <br>\n",
        "WHERE 조건 <br>\n",
        "GROUP BY 그룹화 <br>\n",
        "HAVING 그룹화에 사용되는 조건"
      ]
    },
    {
      "cell_type": "markdown",
      "metadata": {
        "id": "7SpLMzQiuexb"
      },
      "source": [
        "#2.SELECT"
      ]
    },
    {
      "cell_type": "markdown",
      "metadata": {
        "id": "S8SLwihrGR_K"
      },
      "source": [
        "\"박 대리님, 의류 상품 번호 좀 조회해 주시겠어요?\"\n",
        "\n",
        "SELECT 상품 번호 <BR>\n",
        "  FROM DB명.PRODUCT;\n",
        "\n",
        "\n",
        "<center>\n",
        "상품테이블 (PRODUCT)\n",
        "\n",
        "|상품 번호|판매 국가|재고|판매 금액|색상|카테고리|\n",
        "|-----|-----|-----|-----|-----|-----|\n",
        "|a001|미국|100|1000|흰색|신발|\n",
        "|a002|한국|30|700|검은색|바지|\n",
        "|a003|일본|40|770|검은색|바지|\n",
        "</center>"
      ]
    },
    {
      "cell_type": "markdown",
      "metadata": {
        "id": "p0H_se1Eui5x"
      },
      "source": [
        "**1) 칼럼 조회**\n",
        "\n",
        "SELECT 호출하려는 칼럼 <br>\n",
        "FROM DB 명.테이블 명;"
      ]
    },
    {
      "cell_type": "code",
      "metadata": {
        "id": "hPY2EuW2iwe5",
        "colab": {
          "base_uri": "https://localhost:8080/",
          "height": 357
        },
        "outputId": "45429d7c-5a59-44b6-9947-914d934489ca"
      },
      "source": [
        "#classicmodels.customers의 customerNumber를 조회하세요.\n",
        "sql = f\"\"\"select customerNumber from customers;\"\"\"\n",
        "df = pd.read_sql(sql, conn, index_col=None)\n",
        "df.head(10)"
      ],
      "execution_count": 13,
      "outputs": [
        {
          "output_type": "execute_result",
          "data": {
            "text/html": [
              "<div>\n",
              "<style scoped>\n",
              "    .dataframe tbody tr th:only-of-type {\n",
              "        vertical-align: middle;\n",
              "    }\n",
              "\n",
              "    .dataframe tbody tr th {\n",
              "        vertical-align: top;\n",
              "    }\n",
              "\n",
              "    .dataframe thead th {\n",
              "        text-align: right;\n",
              "    }\n",
              "</style>\n",
              "<table border=\"1\" class=\"dataframe\">\n",
              "  <thead>\n",
              "    <tr style=\"text-align: right;\">\n",
              "      <th></th>\n",
              "      <th>customerNumber</th>\n",
              "    </tr>\n",
              "  </thead>\n",
              "  <tbody>\n",
              "    <tr>\n",
              "      <th>0</th>\n",
              "      <td>103</td>\n",
              "    </tr>\n",
              "    <tr>\n",
              "      <th>1</th>\n",
              "      <td>112</td>\n",
              "    </tr>\n",
              "    <tr>\n",
              "      <th>2</th>\n",
              "      <td>114</td>\n",
              "    </tr>\n",
              "    <tr>\n",
              "      <th>3</th>\n",
              "      <td>119</td>\n",
              "    </tr>\n",
              "    <tr>\n",
              "      <th>4</th>\n",
              "      <td>121</td>\n",
              "    </tr>\n",
              "    <tr>\n",
              "      <th>5</th>\n",
              "      <td>124</td>\n",
              "    </tr>\n",
              "    <tr>\n",
              "      <th>6</th>\n",
              "      <td>125</td>\n",
              "    </tr>\n",
              "    <tr>\n",
              "      <th>7</th>\n",
              "      <td>128</td>\n",
              "    </tr>\n",
              "    <tr>\n",
              "      <th>8</th>\n",
              "      <td>129</td>\n",
              "    </tr>\n",
              "    <tr>\n",
              "      <th>9</th>\n",
              "      <td>131</td>\n",
              "    </tr>\n",
              "  </tbody>\n",
              "</table>\n",
              "</div>"
            ],
            "text/plain": [
              "   customerNumber\n",
              "0             103\n",
              "1             112\n",
              "2             114\n",
              "3             119\n",
              "4             121\n",
              "5             124\n",
              "6             125\n",
              "7             128\n",
              "8             129\n",
              "9             131"
            ]
          },
          "metadata": {},
          "execution_count": 13
        }
      ]
    },
    {
      "cell_type": "markdown",
      "metadata": {
        "id": "kikZyDFSIvKK"
      },
      "source": [
        "\"박 대리님, 전달해 주신 상품 번호는 잘 받았습니다. 상품 개수도 전달 가능할까요?\"\n",
        "\n",
        "SELECT count(상품 번호) <BR>\n",
        "  FROM DB명.PRODUCT;"
      ]
    },
    {
      "cell_type": "markdown",
      "metadata": {
        "id": "4IIhJGg9vCQo"
      },
      "source": [
        "**2) 집계 함수 count, sum, avg**\n",
        "\n",
        "SELECT 집계 함수 <br>\n",
        "FROM DB 명.테이블 명;"
      ]
    },
    {
      "cell_type": "code",
      "metadata": {
        "id": "qZAjsKwQvSig",
        "colab": {
          "base_uri": "https://localhost:8080/",
          "height": 80
        },
        "outputId": "ad6629c7-15a4-4049-bd9e-0c8b1e3fa61a"
      },
      "source": [
        "#classicmodels.payments의 amount의 총합과 checknumber 개수를 구하세요.\n",
        "sql = f\"\"\"select sum(amount), count(checknumber) from payments;\"\"\"\n",
        "df = pd.read_sql(sql, conn, index_col=None)\n",
        "df.head(10)"
      ],
      "execution_count": 14,
      "outputs": [
        {
          "output_type": "execute_result",
          "data": {
            "text/html": [
              "<div>\n",
              "<style scoped>\n",
              "    .dataframe tbody tr th:only-of-type {\n",
              "        vertical-align: middle;\n",
              "    }\n",
              "\n",
              "    .dataframe tbody tr th {\n",
              "        vertical-align: top;\n",
              "    }\n",
              "\n",
              "    .dataframe thead th {\n",
              "        text-align: right;\n",
              "    }\n",
              "</style>\n",
              "<table border=\"1\" class=\"dataframe\">\n",
              "  <thead>\n",
              "    <tr style=\"text-align: right;\">\n",
              "      <th></th>\n",
              "      <th>sum(amount)</th>\n",
              "      <th>count(checknumber)</th>\n",
              "    </tr>\n",
              "  </thead>\n",
              "  <tbody>\n",
              "    <tr>\n",
              "      <th>0</th>\n",
              "      <td>8853839.23</td>\n",
              "      <td>273</td>\n",
              "    </tr>\n",
              "  </tbody>\n",
              "</table>\n",
              "</div>"
            ],
            "text/plain": [
              "   sum(amount)  count(checknumber)\n",
              "0   8853839.23                 273"
            ]
          },
          "metadata": {},
          "execution_count": 14
        }
      ]
    },
    {
      "cell_type": "markdown",
      "metadata": {
        "id": "n9nHt49ivTIU"
      },
      "source": [
        "**3) * (모든 결과 조회)**\n",
        "<br> 해당 테이블의 모든 칼럼을 출력하고 싶을 때 사용\n",
        "\n",
        "SELECT * <br>\n",
        "FROM DB 명.테이블 명;"
      ]
    },
    {
      "cell_type": "code",
      "metadata": {
        "id": "nDgm4Kq0udw4",
        "colab": {
          "base_uri": "https://localhost:8080/",
          "height": 525
        },
        "outputId": "04b8bbdc-1c08-44c1-8de5-f0812e2477ab"
      },
      "source": [
        "#classicmodels.products의 모든 컬럼을 조회하세요.\n",
        "sql = f\"\"\"select * from products;\"\"\"\n",
        "df = pd.read_sql(sql, conn, index_col=None)\n",
        "df.head(10)"
      ],
      "execution_count": 15,
      "outputs": [
        {
          "output_type": "execute_result",
          "data": {
            "text/html": [
              "<div>\n",
              "<style scoped>\n",
              "    .dataframe tbody tr th:only-of-type {\n",
              "        vertical-align: middle;\n",
              "    }\n",
              "\n",
              "    .dataframe tbody tr th {\n",
              "        vertical-align: top;\n",
              "    }\n",
              "\n",
              "    .dataframe thead th {\n",
              "        text-align: right;\n",
              "    }\n",
              "</style>\n",
              "<table border=\"1\" class=\"dataframe\">\n",
              "  <thead>\n",
              "    <tr style=\"text-align: right;\">\n",
              "      <th></th>\n",
              "      <th>productCode</th>\n",
              "      <th>productName</th>\n",
              "      <th>productLine</th>\n",
              "      <th>productScale</th>\n",
              "      <th>productVendor</th>\n",
              "      <th>productDescription</th>\n",
              "      <th>quantityInStock</th>\n",
              "      <th>buyPrice</th>\n",
              "      <th>MSRP</th>\n",
              "    </tr>\n",
              "  </thead>\n",
              "  <tbody>\n",
              "    <tr>\n",
              "      <th>0</th>\n",
              "      <td>S10_1678</td>\n",
              "      <td>1969 Harley Davidson Ultimate Chopper</td>\n",
              "      <td>Motorcycles</td>\n",
              "      <td>1:10</td>\n",
              "      <td>Min Lin Diecast</td>\n",
              "      <td>This replica features working kickstand, front...</td>\n",
              "      <td>7933</td>\n",
              "      <td>48.81</td>\n",
              "      <td>95.70</td>\n",
              "    </tr>\n",
              "    <tr>\n",
              "      <th>1</th>\n",
              "      <td>S10_1949</td>\n",
              "      <td>1952 Alpine Renault 1300</td>\n",
              "      <td>Classic Cars</td>\n",
              "      <td>1:10</td>\n",
              "      <td>Classic Metal Creations</td>\n",
              "      <td>Turnable front wheels; steering function; deta...</td>\n",
              "      <td>7305</td>\n",
              "      <td>98.58</td>\n",
              "      <td>214.30</td>\n",
              "    </tr>\n",
              "    <tr>\n",
              "      <th>2</th>\n",
              "      <td>S10_2016</td>\n",
              "      <td>1996 Moto Guzzi 1100i</td>\n",
              "      <td>Motorcycles</td>\n",
              "      <td>1:10</td>\n",
              "      <td>Highway 66 Mini Classics</td>\n",
              "      <td>Official Moto Guzzi logos and insignias, saddl...</td>\n",
              "      <td>6625</td>\n",
              "      <td>68.99</td>\n",
              "      <td>118.94</td>\n",
              "    </tr>\n",
              "    <tr>\n",
              "      <th>3</th>\n",
              "      <td>S10_4698</td>\n",
              "      <td>2003 Harley-Davidson Eagle Drag Bike</td>\n",
              "      <td>Motorcycles</td>\n",
              "      <td>1:10</td>\n",
              "      <td>Red Start Diecast</td>\n",
              "      <td>Model features, official Harley Davidson logos...</td>\n",
              "      <td>5582</td>\n",
              "      <td>91.02</td>\n",
              "      <td>193.66</td>\n",
              "    </tr>\n",
              "    <tr>\n",
              "      <th>4</th>\n",
              "      <td>S10_4757</td>\n",
              "      <td>1972 Alfa Romeo GTA</td>\n",
              "      <td>Classic Cars</td>\n",
              "      <td>1:10</td>\n",
              "      <td>Motor City Art Classics</td>\n",
              "      <td>Features include: Turnable front wheels; steer...</td>\n",
              "      <td>3252</td>\n",
              "      <td>85.68</td>\n",
              "      <td>136.00</td>\n",
              "    </tr>\n",
              "    <tr>\n",
              "      <th>5</th>\n",
              "      <td>S10_4962</td>\n",
              "      <td>1962 LanciaA Delta 16V</td>\n",
              "      <td>Classic Cars</td>\n",
              "      <td>1:10</td>\n",
              "      <td>Second Gear Diecast</td>\n",
              "      <td>Features include: Turnable front wheels; steer...</td>\n",
              "      <td>6791</td>\n",
              "      <td>103.42</td>\n",
              "      <td>147.74</td>\n",
              "    </tr>\n",
              "    <tr>\n",
              "      <th>6</th>\n",
              "      <td>S12_1099</td>\n",
              "      <td>1968 Ford Mustang</td>\n",
              "      <td>Classic Cars</td>\n",
              "      <td>1:12</td>\n",
              "      <td>Autoart Studio Design</td>\n",
              "      <td>Hood, doors and trunk all open to reveal highl...</td>\n",
              "      <td>68</td>\n",
              "      <td>95.34</td>\n",
              "      <td>194.57</td>\n",
              "    </tr>\n",
              "    <tr>\n",
              "      <th>7</th>\n",
              "      <td>S12_1108</td>\n",
              "      <td>2001 Ferrari Enzo</td>\n",
              "      <td>Classic Cars</td>\n",
              "      <td>1:12</td>\n",
              "      <td>Second Gear Diecast</td>\n",
              "      <td>Turnable front wheels; steering function; deta...</td>\n",
              "      <td>3619</td>\n",
              "      <td>95.59</td>\n",
              "      <td>207.80</td>\n",
              "    </tr>\n",
              "    <tr>\n",
              "      <th>8</th>\n",
              "      <td>S12_1666</td>\n",
              "      <td>1958 Setra Bus</td>\n",
              "      <td>Trucks and Buses</td>\n",
              "      <td>1:12</td>\n",
              "      <td>Welly Diecast Productions</td>\n",
              "      <td>Model features 30 windows, skylights &amp; glare r...</td>\n",
              "      <td>1579</td>\n",
              "      <td>77.90</td>\n",
              "      <td>136.67</td>\n",
              "    </tr>\n",
              "    <tr>\n",
              "      <th>9</th>\n",
              "      <td>S12_2823</td>\n",
              "      <td>2002 Suzuki XREO</td>\n",
              "      <td>Motorcycles</td>\n",
              "      <td>1:12</td>\n",
              "      <td>Unimax Art Galleries</td>\n",
              "      <td>Official logos and insignias, saddle bags loca...</td>\n",
              "      <td>9997</td>\n",
              "      <td>66.27</td>\n",
              "      <td>150.62</td>\n",
              "    </tr>\n",
              "  </tbody>\n",
              "</table>\n",
              "</div>"
            ],
            "text/plain": [
              "  productCode                            productName  ... buyPrice    MSRP\n",
              "0    S10_1678  1969 Harley Davidson Ultimate Chopper  ...    48.81   95.70\n",
              "1    S10_1949               1952 Alpine Renault 1300  ...    98.58  214.30\n",
              "2    S10_2016                  1996 Moto Guzzi 1100i  ...    68.99  118.94\n",
              "3    S10_4698   2003 Harley-Davidson Eagle Drag Bike  ...    91.02  193.66\n",
              "4    S10_4757                    1972 Alfa Romeo GTA  ...    85.68  136.00\n",
              "5    S10_4962                 1962 LanciaA Delta 16V  ...   103.42  147.74\n",
              "6    S12_1099                      1968 Ford Mustang  ...    95.34  194.57\n",
              "7    S12_1108                      2001 Ferrari Enzo  ...    95.59  207.80\n",
              "8    S12_1666                         1958 Setra Bus  ...    77.90  136.67\n",
              "9    S12_2823                       2002 Suzuki XREO  ...    66.27  150.62\n",
              "\n",
              "[10 rows x 9 columns]"
            ]
          },
          "metadata": {},
          "execution_count": 15
        }
      ]
    },
    {
      "cell_type": "markdown",
      "metadata": {
        "id": "ndIbgX3Fvg5u"
      },
      "source": [
        "**4) AS**\n",
        "<br> 특정 칼럼의 칼럼 명을 변경해 조회할 때 사용\n",
        "\n",
        "SELECT 칼럼 명 as 변경 칼럼 명 <br>\n",
        "FROM DB 명.테이블 명;"
      ]
    },
    {
      "cell_type": "code",
      "metadata": {
        "id": "iKO-zcaiwJ7B",
        "colab": {
          "base_uri": "https://localhost:8080/",
          "height": 80
        },
        "outputId": "2bd2ec20-6185-4761-ce88-a88aa5fd516f"
      },
      "source": [
        "#classicmodels.products의 productCode의 개수를 구하고,\n",
        "#컬럼 명을 n_products로 변경하세요.\n",
        "sql = f\"\"\"select count(productCode) as n_products from products;\"\"\"\n",
        "df = pd.read_sql(sql, conn, index_col=None)\n",
        "df.head(10)"
      ],
      "execution_count": 16,
      "outputs": [
        {
          "output_type": "execute_result",
          "data": {
            "text/html": [
              "<div>\n",
              "<style scoped>\n",
              "    .dataframe tbody tr th:only-of-type {\n",
              "        vertical-align: middle;\n",
              "    }\n",
              "\n",
              "    .dataframe tbody tr th {\n",
              "        vertical-align: top;\n",
              "    }\n",
              "\n",
              "    .dataframe thead th {\n",
              "        text-align: right;\n",
              "    }\n",
              "</style>\n",
              "<table border=\"1\" class=\"dataframe\">\n",
              "  <thead>\n",
              "    <tr style=\"text-align: right;\">\n",
              "      <th></th>\n",
              "      <th>n_products</th>\n",
              "    </tr>\n",
              "  </thead>\n",
              "  <tbody>\n",
              "    <tr>\n",
              "      <th>0</th>\n",
              "      <td>110</td>\n",
              "    </tr>\n",
              "  </tbody>\n",
              "</table>\n",
              "</div>"
            ],
            "text/plain": [
              "   n_products\n",
              "0         110"
            ]
          },
          "metadata": {},
          "execution_count": 16
        }
      ]
    },
    {
      "cell_type": "markdown",
      "metadata": {
        "id": "jD3Qdh7Rv1oo"
      },
      "source": [
        "**5) DISTINCT**\n",
        "<br> 중복을 제외하고 데이터를 조회할 때 사용\n",
        "\n",
        "SELECT DISTINCT 제조 국가 <br>\n",
        "FROM DB 명.상품 테이블;\n",
        "\n",
        "<center>\n",
        "자동차 제조사, 제조 국가 정보\n",
        "\n",
        "|자동차ID|제조사명|제조국가|\n",
        "|-----|-----|-----|\n",
        "|A|벤츠|독일|\n",
        "|B|벤츠|독일|\n",
        "|C|BMW|독일|\n",
        "|D|현대|한국|\n",
        "\n",
        "제조 국가 조회 결과\n",
        "\n",
        "|제조국가|\n",
        "|-----|\n",
        "|독일|\n",
        "|한국|\n",
        "</center>\n"
      ]
    },
    {
      "cell_type": "code",
      "metadata": {
        "id": "khB1t24pwOAP",
        "colab": {
          "base_uri": "https://localhost:8080/",
          "height": 357
        },
        "outputId": "07ad0619-8ea1-4cd9-bf9d-3691ec2eaa50"
      },
      "source": [
        "#classicmodels.orderdetails의 ordernumber의 중복을 제거하고 조회하세요.\n",
        "sql = f\"\"\"select distinct orderNumber from orderdetails;\"\"\"\n",
        "df = pd.read_sql(sql, conn, index_col=None)\n",
        "df.head(10)"
      ],
      "execution_count": 17,
      "outputs": [
        {
          "output_type": "execute_result",
          "data": {
            "text/html": [
              "<div>\n",
              "<style scoped>\n",
              "    .dataframe tbody tr th:only-of-type {\n",
              "        vertical-align: middle;\n",
              "    }\n",
              "\n",
              "    .dataframe tbody tr th {\n",
              "        vertical-align: top;\n",
              "    }\n",
              "\n",
              "    .dataframe thead th {\n",
              "        text-align: right;\n",
              "    }\n",
              "</style>\n",
              "<table border=\"1\" class=\"dataframe\">\n",
              "  <thead>\n",
              "    <tr style=\"text-align: right;\">\n",
              "      <th></th>\n",
              "      <th>orderNumber</th>\n",
              "    </tr>\n",
              "  </thead>\n",
              "  <tbody>\n",
              "    <tr>\n",
              "      <th>0</th>\n",
              "      <td>10100</td>\n",
              "    </tr>\n",
              "    <tr>\n",
              "      <th>1</th>\n",
              "      <td>10101</td>\n",
              "    </tr>\n",
              "    <tr>\n",
              "      <th>2</th>\n",
              "      <td>10102</td>\n",
              "    </tr>\n",
              "    <tr>\n",
              "      <th>3</th>\n",
              "      <td>10103</td>\n",
              "    </tr>\n",
              "    <tr>\n",
              "      <th>4</th>\n",
              "      <td>10104</td>\n",
              "    </tr>\n",
              "    <tr>\n",
              "      <th>5</th>\n",
              "      <td>10105</td>\n",
              "    </tr>\n",
              "    <tr>\n",
              "      <th>6</th>\n",
              "      <td>10106</td>\n",
              "    </tr>\n",
              "    <tr>\n",
              "      <th>7</th>\n",
              "      <td>10107</td>\n",
              "    </tr>\n",
              "    <tr>\n",
              "      <th>8</th>\n",
              "      <td>10108</td>\n",
              "    </tr>\n",
              "    <tr>\n",
              "      <th>9</th>\n",
              "      <td>10109</td>\n",
              "    </tr>\n",
              "  </tbody>\n",
              "</table>\n",
              "</div>"
            ],
            "text/plain": [
              "   orderNumber\n",
              "0        10100\n",
              "1        10101\n",
              "2        10102\n",
              "3        10103\n",
              "4        10104\n",
              "5        10105\n",
              "6        10106\n",
              "7        10107\n",
              "8        10108\n",
              "9        10109"
            ]
          },
          "metadata": {},
          "execution_count": 17
        }
      ]
    },
    {
      "cell_type": "markdown",
      "metadata": {
        "id": "2jNUN0GcwYWm"
      },
      "source": [
        "#3.FROM"
      ]
    },
    {
      "cell_type": "markdown",
      "metadata": {
        "id": "K01gyDQAwjvG"
      },
      "source": [
        "SELECT 계산식 또는 칼럼 명 <br>\n",
        "FROM DB 명.SALES;"
      ]
    },
    {
      "cell_type": "markdown",
      "metadata": {
        "id": "Z0bsPKAMw1Y5"
      },
      "source": [
        "#4.WHERE"
      ]
    },
    {
      "cell_type": "markdown",
      "metadata": {
        "id": "X6MUZ_DpLjID"
      },
      "source": [
        "\"박 대리님, 현재 미국에서 판매되는 상품의 상품 번호 전달 부탁드립니다.\"\n",
        "\n",
        "SELECT 상품 번호 <BR>\n",
        "  FROM DB명.PRODUCT <BR>\n",
        " WHERE 판매국가 = '미국';"
      ]
    },
    {
      "cell_type": "markdown",
      "metadata": {
        "id": "WqAEBSHfw48j"
      },
      "source": [
        "**1) BETWEEN**\n",
        "<br> 특정 칼럼의 값이 시작점 ~ 끝점인 데이터만 출력할 수 있는 조건을 생성할 때 사용\n",
        "\n",
        "SELECT * <br>\n",
        "FROM DB 명.테이블 명 <br>\n",
        "WHERE 칼럼 BETWEEN 시작점 AND 끝점;"
      ]
    },
    {
      "cell_type": "markdown",
      "metadata": {
        "id": "x9IvahC6MVII"
      },
      "source": [
        "\"박 대리님, 전달 주신 상품 번호 잘 받았습니다.\n",
        "<br>그런데 클라이언트에서 2010~2014년에 출시된 상품 번호도 필요하다고 합니다. <br>전달 가능할까요?\"\n",
        "\n",
        "SELECT 상품 번호\n",
        "<br>FROM DB 명.PRODUCT\n",
        "<br>WHERE 출시 연도 BETWEEN 2010 AND 2014;"
      ]
    },
    {
      "cell_type": "code",
      "metadata": {
        "id": "HLvm-qnW5Crg",
        "colab": {
          "base_uri": "https://localhost:8080/",
          "height": 357
        },
        "outputId": "428de39e-89a4-47ff-f737-daf3aacdc1dc"
      },
      "source": [
        "#classicmodels.orderdetails의 priceEach가 30에서 50사이인 데이터를 조회하세요.\n",
        "sql = f\"\"\"select * from orderdetails where priceEach between 30 and 50;\"\"\"\n",
        "df = pd.read_sql(sql, conn, index_col=None)\n",
        "df.head(10)"
      ],
      "execution_count": 18,
      "outputs": [
        {
          "output_type": "execute_result",
          "data": {
            "text/html": [
              "<div>\n",
              "<style scoped>\n",
              "    .dataframe tbody tr th:only-of-type {\n",
              "        vertical-align: middle;\n",
              "    }\n",
              "\n",
              "    .dataframe tbody tr th {\n",
              "        vertical-align: top;\n",
              "    }\n",
              "\n",
              "    .dataframe thead th {\n",
              "        text-align: right;\n",
              "    }\n",
              "</style>\n",
              "<table border=\"1\" class=\"dataframe\">\n",
              "  <thead>\n",
              "    <tr style=\"text-align: right;\">\n",
              "      <th></th>\n",
              "      <th>orderNumber</th>\n",
              "      <th>productCode</th>\n",
              "      <th>quantityOrdered</th>\n",
              "      <th>priceEach</th>\n",
              "      <th>orderLineNumber</th>\n",
              "    </tr>\n",
              "  </thead>\n",
              "  <tbody>\n",
              "    <tr>\n",
              "      <th>0</th>\n",
              "      <td>10100</td>\n",
              "      <td>S24_3969</td>\n",
              "      <td>49</td>\n",
              "      <td>35.29</td>\n",
              "      <td>1</td>\n",
              "    </tr>\n",
              "    <tr>\n",
              "      <th>1</th>\n",
              "      <td>10101</td>\n",
              "      <td>S24_1937</td>\n",
              "      <td>45</td>\n",
              "      <td>32.53</td>\n",
              "      <td>3</td>\n",
              "    </tr>\n",
              "    <tr>\n",
              "      <th>2</th>\n",
              "      <td>10101</td>\n",
              "      <td>S24_2022</td>\n",
              "      <td>46</td>\n",
              "      <td>44.35</td>\n",
              "      <td>2</td>\n",
              "    </tr>\n",
              "    <tr>\n",
              "      <th>3</th>\n",
              "      <td>10102</td>\n",
              "      <td>S18_1367</td>\n",
              "      <td>41</td>\n",
              "      <td>43.13</td>\n",
              "      <td>1</td>\n",
              "    </tr>\n",
              "    <tr>\n",
              "      <th>4</th>\n",
              "      <td>10103</td>\n",
              "      <td>S18_4668</td>\n",
              "      <td>41</td>\n",
              "      <td>40.75</td>\n",
              "      <td>9</td>\n",
              "    </tr>\n",
              "    <tr>\n",
              "      <th>5</th>\n",
              "      <td>10104</td>\n",
              "      <td>S24_2840</td>\n",
              "      <td>44</td>\n",
              "      <td>30.41</td>\n",
              "      <td>10</td>\n",
              "    </tr>\n",
              "    <tr>\n",
              "      <th>6</th>\n",
              "      <td>10105</td>\n",
              "      <td>S72_3212</td>\n",
              "      <td>25</td>\n",
              "      <td>44.77</td>\n",
              "      <td>8</td>\n",
              "    </tr>\n",
              "    <tr>\n",
              "      <th>7</th>\n",
              "      <td>10106</td>\n",
              "      <td>S50_1341</td>\n",
              "      <td>39</td>\n",
              "      <td>35.78</td>\n",
              "      <td>6</td>\n",
              "    </tr>\n",
              "    <tr>\n",
              "      <th>8</th>\n",
              "      <td>10106</td>\n",
              "      <td>S72_1253</td>\n",
              "      <td>48</td>\n",
              "      <td>43.70</td>\n",
              "      <td>15</td>\n",
              "    </tr>\n",
              "    <tr>\n",
              "      <th>9</th>\n",
              "      <td>10108</td>\n",
              "      <td>S32_2206</td>\n",
              "      <td>27</td>\n",
              "      <td>36.21</td>\n",
              "      <td>13</td>\n",
              "    </tr>\n",
              "  </tbody>\n",
              "</table>\n",
              "</div>"
            ],
            "text/plain": [
              "   orderNumber productCode  quantityOrdered  priceEach  orderLineNumber\n",
              "0        10100    S24_3969               49      35.29                1\n",
              "1        10101    S24_1937               45      32.53                3\n",
              "2        10101    S24_2022               46      44.35                2\n",
              "3        10102    S18_1367               41      43.13                1\n",
              "4        10103    S18_4668               41      40.75                9\n",
              "5        10104    S24_2840               44      30.41               10\n",
              "6        10105    S72_3212               25      44.77                8\n",
              "7        10106    S50_1341               39      35.78                6\n",
              "8        10106    S72_1253               48      43.70               15\n",
              "9        10108    S32_2206               27      36.21               13"
            ]
          },
          "metadata": {},
          "execution_count": 18
        }
      ]
    },
    {
      "cell_type": "markdown",
      "metadata": {
        "id": "Dk7dQvVPw-Kv"
      },
      "source": [
        "**2) 대소 관계 표현**\n",
        "<br> 특정 칼럼의 대소 관계를 이용해 출력할 수 있는 조건을 생성할 때 사용\n",
        "\n",
        "<center>\n",
        "자동차 제조사, 제조 국가 정보\n",
        "\n",
        "|연산자|설명|\n",
        "|-----|-----|\n",
        "|=|동일하다|\n",
        "|>|초과|\n",
        "|>=|이상|\n",
        "|<|미만|\n",
        "|<=|이하|\n",
        "|<>|같지 않다|\n",
        "\n",
        "</center>"
      ]
    },
    {
      "cell_type": "markdown",
      "metadata": {
        "id": "UUn0FxwuNYx3"
      },
      "source": [
        "\"박 대리님 이번에는 2010년 이전 출시 상품과 2014년 이후 상품 번호 좀 출력해 주시겠어요?\n",
        "\n",
        "SELECT 상품번호 <br>\n",
        "FROM DB 명.PRODUCT <br>\n",
        "WHERE 출시 연도 < 2010;\n",
        "\n",
        "SELECT 상품번호 <br>\n",
        "FROM DB 명.PRODUCT <br>\n",
        "WHERE 출시 연도 > 2014;"
      ]
    },
    {
      "cell_type": "code",
      "metadata": {
        "id": "28oFDVsz6C3P",
        "colab": {
          "base_uri": "https://localhost:8080/",
          "height": 357
        },
        "outputId": "e208acd6-d2a7-424d-d976-185db5acd056"
      },
      "source": [
        "#classicmodels.orderdetails의 priceEach가 30 이상인 데이터를 조회하세요.\n",
        "sql = f\"\"\"select * from orderdetails where priceEach >= 30 ;\"\"\"\n",
        "df = pd.read_sql(sql, conn, index_col=None)\n",
        "df.head(10)"
      ],
      "execution_count": 19,
      "outputs": [
        {
          "output_type": "execute_result",
          "data": {
            "text/html": [
              "<div>\n",
              "<style scoped>\n",
              "    .dataframe tbody tr th:only-of-type {\n",
              "        vertical-align: middle;\n",
              "    }\n",
              "\n",
              "    .dataframe tbody tr th {\n",
              "        vertical-align: top;\n",
              "    }\n",
              "\n",
              "    .dataframe thead th {\n",
              "        text-align: right;\n",
              "    }\n",
              "</style>\n",
              "<table border=\"1\" class=\"dataframe\">\n",
              "  <thead>\n",
              "    <tr style=\"text-align: right;\">\n",
              "      <th></th>\n",
              "      <th>orderNumber</th>\n",
              "      <th>productCode</th>\n",
              "      <th>quantityOrdered</th>\n",
              "      <th>priceEach</th>\n",
              "      <th>orderLineNumber</th>\n",
              "    </tr>\n",
              "  </thead>\n",
              "  <tbody>\n",
              "    <tr>\n",
              "      <th>0</th>\n",
              "      <td>10100</td>\n",
              "      <td>S18_1749</td>\n",
              "      <td>30</td>\n",
              "      <td>136.00</td>\n",
              "      <td>3</td>\n",
              "    </tr>\n",
              "    <tr>\n",
              "      <th>1</th>\n",
              "      <td>10100</td>\n",
              "      <td>S18_2248</td>\n",
              "      <td>50</td>\n",
              "      <td>55.09</td>\n",
              "      <td>2</td>\n",
              "    </tr>\n",
              "    <tr>\n",
              "      <th>2</th>\n",
              "      <td>10100</td>\n",
              "      <td>S18_4409</td>\n",
              "      <td>22</td>\n",
              "      <td>75.46</td>\n",
              "      <td>4</td>\n",
              "    </tr>\n",
              "    <tr>\n",
              "      <th>3</th>\n",
              "      <td>10100</td>\n",
              "      <td>S24_3969</td>\n",
              "      <td>49</td>\n",
              "      <td>35.29</td>\n",
              "      <td>1</td>\n",
              "    </tr>\n",
              "    <tr>\n",
              "      <th>4</th>\n",
              "      <td>10101</td>\n",
              "      <td>S18_2325</td>\n",
              "      <td>25</td>\n",
              "      <td>108.06</td>\n",
              "      <td>4</td>\n",
              "    </tr>\n",
              "    <tr>\n",
              "      <th>5</th>\n",
              "      <td>10101</td>\n",
              "      <td>S18_2795</td>\n",
              "      <td>26</td>\n",
              "      <td>167.06</td>\n",
              "      <td>1</td>\n",
              "    </tr>\n",
              "    <tr>\n",
              "      <th>6</th>\n",
              "      <td>10101</td>\n",
              "      <td>S24_1937</td>\n",
              "      <td>45</td>\n",
              "      <td>32.53</td>\n",
              "      <td>3</td>\n",
              "    </tr>\n",
              "    <tr>\n",
              "      <th>7</th>\n",
              "      <td>10101</td>\n",
              "      <td>S24_2022</td>\n",
              "      <td>46</td>\n",
              "      <td>44.35</td>\n",
              "      <td>2</td>\n",
              "    </tr>\n",
              "    <tr>\n",
              "      <th>8</th>\n",
              "      <td>10102</td>\n",
              "      <td>S18_1342</td>\n",
              "      <td>39</td>\n",
              "      <td>95.55</td>\n",
              "      <td>2</td>\n",
              "    </tr>\n",
              "    <tr>\n",
              "      <th>9</th>\n",
              "      <td>10102</td>\n",
              "      <td>S18_1367</td>\n",
              "      <td>41</td>\n",
              "      <td>43.13</td>\n",
              "      <td>1</td>\n",
              "    </tr>\n",
              "  </tbody>\n",
              "</table>\n",
              "</div>"
            ],
            "text/plain": [
              "   orderNumber productCode  quantityOrdered  priceEach  orderLineNumber\n",
              "0        10100    S18_1749               30     136.00                3\n",
              "1        10100    S18_2248               50      55.09                2\n",
              "2        10100    S18_4409               22      75.46                4\n",
              "3        10100    S24_3969               49      35.29                1\n",
              "4        10101    S18_2325               25     108.06                4\n",
              "5        10101    S18_2795               26     167.06                1\n",
              "6        10101    S24_1937               45      32.53                3\n",
              "7        10101    S24_2022               46      44.35                2\n",
              "8        10102    S18_1342               39      95.55                2\n",
              "9        10102    S18_1367               41      43.13                1"
            ]
          },
          "metadata": {},
          "execution_count": 19
        }
      ]
    },
    {
      "cell_type": "markdown",
      "metadata": {
        "id": "Ghgi9v22w-C0"
      },
      "source": [
        "**3) IN**\n",
        "\n",
        "특정 값들을 포함한 결과를 출력하고 싶을 때 사용"
      ]
    },
    {
      "cell_type": "markdown",
      "metadata": {
        "id": "MywIv2gyPHFe"
      },
      "source": [
        "\"박 대리님, 미국과 영국에서 출시된 상품 번호 전달 부탁드립니다.\"\n",
        "\n",
        "SELECT 상품 번호\n",
        "<br>FROM DB 명.PRODUCT\n",
        "<br>WHERE 판매 국가 IN ('미국', '영국');"
      ]
    },
    {
      "cell_type": "code",
      "metadata": {
        "id": "Ld6E_w9x6S6F",
        "colab": {
          "base_uri": "https://localhost:8080/",
          "height": 357
        },
        "outputId": "a6ddd76c-7fd4-4c45-a6cd-60176f13851b"
      },
      "source": [
        "#classicmodels.customers의 country가 USA 또는 Canada인 cutomernumber를 조회하세요.\n",
        "sql = f\"\"\"select customerNumber,country from customers where country in ('USA','Canada') ;\"\"\"\n",
        "df = pd.read_sql(sql, conn, index_col=None)\n",
        "df.head(10)"
      ],
      "execution_count": 22,
      "outputs": [
        {
          "output_type": "execute_result",
          "data": {
            "text/html": [
              "<div>\n",
              "<style scoped>\n",
              "    .dataframe tbody tr th:only-of-type {\n",
              "        vertical-align: middle;\n",
              "    }\n",
              "\n",
              "    .dataframe tbody tr th {\n",
              "        vertical-align: top;\n",
              "    }\n",
              "\n",
              "    .dataframe thead th {\n",
              "        text-align: right;\n",
              "    }\n",
              "</style>\n",
              "<table border=\"1\" class=\"dataframe\">\n",
              "  <thead>\n",
              "    <tr style=\"text-align: right;\">\n",
              "      <th></th>\n",
              "      <th>customerNumber</th>\n",
              "      <th>country</th>\n",
              "    </tr>\n",
              "  </thead>\n",
              "  <tbody>\n",
              "    <tr>\n",
              "      <th>0</th>\n",
              "      <td>112</td>\n",
              "      <td>USA</td>\n",
              "    </tr>\n",
              "    <tr>\n",
              "      <th>1</th>\n",
              "      <td>124</td>\n",
              "      <td>USA</td>\n",
              "    </tr>\n",
              "    <tr>\n",
              "      <th>2</th>\n",
              "      <td>129</td>\n",
              "      <td>USA</td>\n",
              "    </tr>\n",
              "    <tr>\n",
              "      <th>3</th>\n",
              "      <td>131</td>\n",
              "      <td>USA</td>\n",
              "    </tr>\n",
              "    <tr>\n",
              "      <th>4</th>\n",
              "      <td>151</td>\n",
              "      <td>USA</td>\n",
              "    </tr>\n",
              "    <tr>\n",
              "      <th>5</th>\n",
              "      <td>157</td>\n",
              "      <td>USA</td>\n",
              "    </tr>\n",
              "    <tr>\n",
              "      <th>6</th>\n",
              "      <td>161</td>\n",
              "      <td>USA</td>\n",
              "    </tr>\n",
              "    <tr>\n",
              "      <th>7</th>\n",
              "      <td>168</td>\n",
              "      <td>USA</td>\n",
              "    </tr>\n",
              "    <tr>\n",
              "      <th>8</th>\n",
              "      <td>173</td>\n",
              "      <td>USA</td>\n",
              "    </tr>\n",
              "    <tr>\n",
              "      <th>9</th>\n",
              "      <td>175</td>\n",
              "      <td>USA</td>\n",
              "    </tr>\n",
              "  </tbody>\n",
              "</table>\n",
              "</div>"
            ],
            "text/plain": [
              "   customerNumber country\n",
              "0             112     USA\n",
              "1             124     USA\n",
              "2             129     USA\n",
              "3             131     USA\n",
              "4             151     USA\n",
              "5             157     USA\n",
              "6             161     USA\n",
              "7             168     USA\n",
              "8             173     USA\n",
              "9             175     USA"
            ]
          },
          "metadata": {},
          "execution_count": 22
        }
      ]
    },
    {
      "cell_type": "markdown",
      "metadata": {
        "id": "2DEqSRQdw95C"
      },
      "source": [
        "**4) NOT IN**\n",
        "\n",
        "특정 값들을 포함한 결과를 출력하고 싶을 때 사용"
      ]
    },
    {
      "cell_type": "markdown",
      "metadata": {
        "id": "B2Qy8aGjQswa"
      },
      "source": [
        "\"박 대리님, 미국과 영국에서 출시되지 않은 상품 번호 전달 부탁드립니다.\"\n",
        "\n",
        "SELECT 상품 번호\n",
        "<br>FROM DB 명.PRODUCT\n",
        "<br>WHERE 판매 국가 NOT IN ('미국', '영국');"
      ]
    },
    {
      "cell_type": "code",
      "metadata": {
        "id": "C9O46YG46zSP",
        "colab": {
          "base_uri": "https://localhost:8080/",
          "height": 357
        },
        "outputId": "563296ff-27b3-403d-f569-4b7a78fc5cbb"
      },
      "source": [
        "#classicmodels.customers의 country가 USA, Canada가 아닌 cutomernumber를 조회하세요.\n",
        "sql = f\"\"\"select customernumber,country from customers where country not in ('USA','Canada') ;\"\"\"\n",
        "df = pd.read_sql(sql, conn, index_col=None)\n",
        "df.head(10)"
      ],
      "execution_count": 23,
      "outputs": [
        {
          "output_type": "execute_result",
          "data": {
            "text/html": [
              "<div>\n",
              "<style scoped>\n",
              "    .dataframe tbody tr th:only-of-type {\n",
              "        vertical-align: middle;\n",
              "    }\n",
              "\n",
              "    .dataframe tbody tr th {\n",
              "        vertical-align: top;\n",
              "    }\n",
              "\n",
              "    .dataframe thead th {\n",
              "        text-align: right;\n",
              "    }\n",
              "</style>\n",
              "<table border=\"1\" class=\"dataframe\">\n",
              "  <thead>\n",
              "    <tr style=\"text-align: right;\">\n",
              "      <th></th>\n",
              "      <th>customerNumber</th>\n",
              "      <th>country</th>\n",
              "    </tr>\n",
              "  </thead>\n",
              "  <tbody>\n",
              "    <tr>\n",
              "      <th>0</th>\n",
              "      <td>103</td>\n",
              "      <td>France</td>\n",
              "    </tr>\n",
              "    <tr>\n",
              "      <th>1</th>\n",
              "      <td>114</td>\n",
              "      <td>Australia</td>\n",
              "    </tr>\n",
              "    <tr>\n",
              "      <th>2</th>\n",
              "      <td>119</td>\n",
              "      <td>France</td>\n",
              "    </tr>\n",
              "    <tr>\n",
              "      <th>3</th>\n",
              "      <td>121</td>\n",
              "      <td>Norway</td>\n",
              "    </tr>\n",
              "    <tr>\n",
              "      <th>4</th>\n",
              "      <td>125</td>\n",
              "      <td>Poland</td>\n",
              "    </tr>\n",
              "    <tr>\n",
              "      <th>5</th>\n",
              "      <td>128</td>\n",
              "      <td>Germany</td>\n",
              "    </tr>\n",
              "    <tr>\n",
              "      <th>6</th>\n",
              "      <td>141</td>\n",
              "      <td>Spain</td>\n",
              "    </tr>\n",
              "    <tr>\n",
              "      <th>7</th>\n",
              "      <td>144</td>\n",
              "      <td>Sweden</td>\n",
              "    </tr>\n",
              "    <tr>\n",
              "      <th>8</th>\n",
              "      <td>145</td>\n",
              "      <td>Denmark</td>\n",
              "    </tr>\n",
              "    <tr>\n",
              "      <th>9</th>\n",
              "      <td>146</td>\n",
              "      <td>France</td>\n",
              "    </tr>\n",
              "  </tbody>\n",
              "</table>\n",
              "</div>"
            ],
            "text/plain": [
              "   customerNumber    country\n",
              "0             103     France\n",
              "1             114  Australia\n",
              "2             119     France\n",
              "3             121     Norway\n",
              "4             125     Poland\n",
              "5             128    Germany\n",
              "6             141      Spain\n",
              "7             144     Sweden\n",
              "8             145    Denmark\n",
              "9             146     France"
            ]
          },
          "metadata": {},
          "execution_count": 23
        }
      ]
    },
    {
      "cell_type": "markdown",
      "metadata": {
        "id": "XXbg6LxFw9nE"
      },
      "source": [
        "**5) IS NULL**\n",
        "<br>특정 값이 비어 있는(NULL) 데이터를 출력하고 싶을 때 사용\n",
        "\n",
        "a002의 재고는 NULL인데, 이는 재고 값이 비어 있다는 의미\n",
        "<br>재고값이 0이라는 의미가 아닌 값 자체가 비어 있는 의미\n",
        "\n",
        "<center>\n",
        "상품테이블 (PRODUCT)\n",
        "\n",
        "|상품 번호|판매 국가|재고|판매 금액|색상|카테고리|\n",
        "|-----|-----|-----|-----|-----|-----|\n",
        "|a001|미국|100|1000|흰색|신발|\n",
        "|a002|한국|NULL|700|검은색|바지|\n",
        "|a003|일본|40|770|검은색|바지|\n",
        "</center>\n",
        "\n"
      ]
    },
    {
      "cell_type": "markdown",
      "metadata": {
        "id": "8sCE0X2vVgrs"
      },
      "source": [
        "*특정 컬럼이 NULL인 데이터 출력*\n",
        "\n",
        "SELECT 칼럼 명 또는 계산식\n",
        "<br>FROM 테이블 명\n",
        "<br>WHERE 칼럼 IS NULL\n",
        "\n",
        "*특정 컬럼이 NULL이 아닌 데이터 출력*\n",
        "\n",
        "SELECT 칼럼 명 또는 계산식\n",
        "<br>FROM 테이블 명\n",
        "<br>WHERE 칼럼 IS NOT NULL"
      ]
    },
    {
      "cell_type": "code",
      "metadata": {
        "id": "Ws77nE7G6_1x",
        "colab": {
          "base_uri": "https://localhost:8080/",
          "height": 80
        },
        "outputId": "c4f636ad-89ff-4efe-8d99-22b6457dbf14"
      },
      "source": [
        "#classicmodels.employees의 reportsTo의 값이 NULL인 employeeNumber를 조회하세요.\n",
        "sql = f\"\"\"select employeeNumber from employees where reportsTo is NULL ;\"\"\"\n",
        "df = pd.read_sql(sql, conn, index_col=None)\n",
        "df.head(10)"
      ],
      "execution_count": 24,
      "outputs": [
        {
          "output_type": "execute_result",
          "data": {
            "text/html": [
              "<div>\n",
              "<style scoped>\n",
              "    .dataframe tbody tr th:only-of-type {\n",
              "        vertical-align: middle;\n",
              "    }\n",
              "\n",
              "    .dataframe tbody tr th {\n",
              "        vertical-align: top;\n",
              "    }\n",
              "\n",
              "    .dataframe thead th {\n",
              "        text-align: right;\n",
              "    }\n",
              "</style>\n",
              "<table border=\"1\" class=\"dataframe\">\n",
              "  <thead>\n",
              "    <tr style=\"text-align: right;\">\n",
              "      <th></th>\n",
              "      <th>employeeNumber</th>\n",
              "    </tr>\n",
              "  </thead>\n",
              "  <tbody>\n",
              "    <tr>\n",
              "      <th>0</th>\n",
              "      <td>1002</td>\n",
              "    </tr>\n",
              "  </tbody>\n",
              "</table>\n",
              "</div>"
            ],
            "text/plain": [
              "   employeeNumber\n",
              "0            1002"
            ]
          },
          "metadata": {},
          "execution_count": 24
        }
      ]
    },
    {
      "cell_type": "markdown",
      "metadata": {
        "id": "SEg2S7H0xLBy"
      },
      "source": [
        "**6) LIKE '%TEXT%'**\n",
        "\n",
        "특정 필드에 어떤 텍스트가 포함 되는 경우를 출력할 때 사용"
      ]
    },
    {
      "cell_type": "markdown",
      "metadata": {
        "id": "RN0s0OIRWcgc"
      },
      "source": [
        "\"박 대리님, 주거지가 부산인 고객 정보를 출력해 주세요\"\n",
        "\n",
        "SELECT *\n",
        "<br>FROM DB 명. CUSTOMERS\n",
        "<br>WHERE 주소 LIKE '%부산%';\n",
        "\n",
        "<center>\n",
        "고객 정보\n",
        "\n",
        "|고객ID|고객명|주소|\n",
        "|-----|-----|-----|\n",
        "|1|A|서울특별시 강남구|\n",
        "|2|B|대전광역시 중구|\n",
        "|3|C|부산광역시 만덕구|\n",
        "|4|D|경기도 수원시 영통구|"
      ]
    },
    {
      "cell_type": "code",
      "metadata": {
        "id": "E6F8rIJf7zzO",
        "colab": {
          "base_uri": "https://localhost:8080/",
          "height": 357
        },
        "outputId": "6630a177-9ecb-4ae7-96e0-2b77ad9c692d"
      },
      "source": [
        "#classicmodels.customers의 addressline1에 ST가 포함된 addressline1을 출력하세요.\n",
        "sql = f\"\"\"select addressline1 from customers where addressline1 like '%ST%' ;\"\"\"\n",
        "df = pd.read_sql(sql, conn, index_col=None)\n",
        "df.head(10)"
      ],
      "execution_count": 25,
      "outputs": [
        {
          "output_type": "execute_result",
          "data": {
            "text/html": [
              "<div>\n",
              "<style scoped>\n",
              "    .dataframe tbody tr th:only-of-type {\n",
              "        vertical-align: middle;\n",
              "    }\n",
              "\n",
              "    .dataframe tbody tr th {\n",
              "        vertical-align: top;\n",
              "    }\n",
              "\n",
              "    .dataframe thead th {\n",
              "        text-align: right;\n",
              "    }\n",
              "</style>\n",
              "<table border=\"1\" class=\"dataframe\">\n",
              "  <thead>\n",
              "    <tr style=\"text-align: right;\">\n",
              "      <th></th>\n",
              "      <th>addressLine1</th>\n",
              "    </tr>\n",
              "  </thead>\n",
              "  <tbody>\n",
              "    <tr>\n",
              "      <th>0</th>\n",
              "      <td>8489 Strong St.</td>\n",
              "    </tr>\n",
              "    <tr>\n",
              "      <th>1</th>\n",
              "      <td>636 St Kilda Road</td>\n",
              "    </tr>\n",
              "    <tr>\n",
              "      <th>2</th>\n",
              "      <td>5677 Strong St.</td>\n",
              "    </tr>\n",
              "    <tr>\n",
              "      <th>3</th>\n",
              "      <td>Lyonerstr. 34</td>\n",
              "    </tr>\n",
              "    <tr>\n",
              "      <th>4</th>\n",
              "      <td>5557 North Pendale Street</td>\n",
              "    </tr>\n",
              "    <tr>\n",
              "      <th>5</th>\n",
              "      <td>7586 Pompton St.</td>\n",
              "    </tr>\n",
              "    <tr>\n",
              "      <th>6</th>\n",
              "      <td>Brehmen St. 121</td>\n",
              "    </tr>\n",
              "    <tr>\n",
              "      <th>7</th>\n",
              "      <td>Estrada da saúde n. 58</td>\n",
              "    </tr>\n",
              "    <tr>\n",
              "      <th>8</th>\n",
              "      <td>2678 Kingston Rd.</td>\n",
              "    </tr>\n",
              "    <tr>\n",
              "      <th>9</th>\n",
              "      <td>16780 Pompton St.</td>\n",
              "    </tr>\n",
              "  </tbody>\n",
              "</table>\n",
              "</div>"
            ],
            "text/plain": [
              "                addressLine1\n",
              "0            8489 Strong St.\n",
              "1          636 St Kilda Road\n",
              "2            5677 Strong St.\n",
              "3              Lyonerstr. 34\n",
              "4  5557 North Pendale Street\n",
              "5           7586 Pompton St.\n",
              "6            Brehmen St. 121\n",
              "7     Estrada da saúde n. 58\n",
              "8          2678 Kingston Rd.\n",
              "9          16780 Pompton St."
            ]
          },
          "metadata": {},
          "execution_count": 25
        }
      ]
    },
    {
      "cell_type": "markdown",
      "metadata": {
        "id": "W96lrOusxQ6L"
      },
      "source": [
        "#5.GROUP BY"
      ]
    },
    {
      "cell_type": "markdown",
      "metadata": {
        "id": "2u-jR_adYE63"
      },
      "source": [
        "**특정 컬럼별 계산된 결과를 구할 때 사용**\n",
        "\n",
        "자주 사용하는 3가지 집계 함수\n",
        "\n",
        "<center>\n",
        "집계 함수\n",
        "\n",
        "|함수|의미|\n",
        "|-----|-----|\n",
        "|AVG()|평균|\n",
        "|COUNT()|데이터 수 구하기|\n",
        "|SUM()|합계|\n",
        "\n",
        "</center>"
      ]
    },
    {
      "cell_type": "markdown",
      "metadata": {
        "id": "XhNyEUHhXo_6"
      },
      "source": [
        "**제조 국가별 자동차 평균 가격을 구할 때**\n",
        "\n",
        "SELECT 제조 국가, AVG(가격)\n",
        "<br>FROM DB 명.cars\n",
        "<br>GROUP BY 제조 국가;\n",
        "\n",
        "**제조 국가별, 제조사별 자동차 평균 가격을 구할 때**\n",
        "\n",
        "SELECT 제조 국가, 제조사명, AVG(가격)\n",
        "<br>FROM DB 명.cars\n",
        "<br>GROUP BY 제조 국가, 제조사명;\n",
        "\n",
        "\n",
        "\n",
        "<center>\n",
        "자동차 정보 (cars)\n",
        "\n",
        "|자동차ID|제조사명|제조국가|가격|\n",
        "|-----|-----|-----|-----|\n",
        "|A|벤츠|독일|2000|\n",
        "|B|벤츠|독일|2500|\n",
        "|C|BMW|독일|3000|\n",
        "|D|현대|한국|1500|\n",
        "\n",
        "</center>"
      ]
    },
    {
      "cell_type": "code",
      "metadata": {
        "id": "ISqPAhjy8P0g",
        "colab": {
          "base_uri": "https://localhost:8080/",
          "height": 357
        },
        "outputId": "5b797b24-3c17-4444-9eb4-9ed8d76be800"
      },
      "source": [
        "#classicmodels.customers 테이블을 이용해 국가, 도시별 고객 수를 구하세요.\n",
        "sql = f\"\"\"select country, city, count(customernumber) as n_customers\n",
        "from customers group by country, city ;\"\"\"\n",
        "df = pd.read_sql(sql, conn, index_col=None)\n",
        "df.head(10)"
      ],
      "execution_count": 27,
      "outputs": [
        {
          "output_type": "execute_result",
          "data": {
            "text/html": [
              "<div>\n",
              "<style scoped>\n",
              "    .dataframe tbody tr th:only-of-type {\n",
              "        vertical-align: middle;\n",
              "    }\n",
              "\n",
              "    .dataframe tbody tr th {\n",
              "        vertical-align: top;\n",
              "    }\n",
              "\n",
              "    .dataframe thead th {\n",
              "        text-align: right;\n",
              "    }\n",
              "</style>\n",
              "<table border=\"1\" class=\"dataframe\">\n",
              "  <thead>\n",
              "    <tr style=\"text-align: right;\">\n",
              "      <th></th>\n",
              "      <th>country</th>\n",
              "      <th>city</th>\n",
              "      <th>n_customers</th>\n",
              "    </tr>\n",
              "  </thead>\n",
              "  <tbody>\n",
              "    <tr>\n",
              "      <th>0</th>\n",
              "      <td>Australia</td>\n",
              "      <td>Chatswood</td>\n",
              "      <td>1</td>\n",
              "    </tr>\n",
              "    <tr>\n",
              "      <th>1</th>\n",
              "      <td>Australia</td>\n",
              "      <td>Glen Waverly</td>\n",
              "      <td>1</td>\n",
              "    </tr>\n",
              "    <tr>\n",
              "      <th>2</th>\n",
              "      <td>Australia</td>\n",
              "      <td>Melbourne</td>\n",
              "      <td>1</td>\n",
              "    </tr>\n",
              "    <tr>\n",
              "      <th>3</th>\n",
              "      <td>Australia</td>\n",
              "      <td>North Sydney</td>\n",
              "      <td>1</td>\n",
              "    </tr>\n",
              "    <tr>\n",
              "      <th>4</th>\n",
              "      <td>Australia</td>\n",
              "      <td>South Brisbane</td>\n",
              "      <td>1</td>\n",
              "    </tr>\n",
              "    <tr>\n",
              "      <th>5</th>\n",
              "      <td>Austria</td>\n",
              "      <td>Graz</td>\n",
              "      <td>1</td>\n",
              "    </tr>\n",
              "    <tr>\n",
              "      <th>6</th>\n",
              "      <td>Austria</td>\n",
              "      <td>Salzburg</td>\n",
              "      <td>1</td>\n",
              "    </tr>\n",
              "    <tr>\n",
              "      <th>7</th>\n",
              "      <td>Belgium</td>\n",
              "      <td>Bruxelles</td>\n",
              "      <td>1</td>\n",
              "    </tr>\n",
              "    <tr>\n",
              "      <th>8</th>\n",
              "      <td>Belgium</td>\n",
              "      <td>Charleroi</td>\n",
              "      <td>1</td>\n",
              "    </tr>\n",
              "    <tr>\n",
              "      <th>9</th>\n",
              "      <td>Canada</td>\n",
              "      <td>Montréal</td>\n",
              "      <td>1</td>\n",
              "    </tr>\n",
              "  </tbody>\n",
              "</table>\n",
              "</div>"
            ],
            "text/plain": [
              "     country            city  n_customers\n",
              "0  Australia       Chatswood            1\n",
              "1  Australia    Glen Waverly            1\n",
              "2  Australia       Melbourne            1\n",
              "3  Australia    North Sydney            1\n",
              "4  Australia  South Brisbane            1\n",
              "5    Austria            Graz            1\n",
              "6    Austria        Salzburg            1\n",
              "7    Belgium       Bruxelles            1\n",
              "8    Belgium       Charleroi            1\n",
              "9     Canada        Montréal            1"
            ]
          },
          "metadata": {},
          "execution_count": 27
        }
      ]
    },
    {
      "cell_type": "markdown",
      "metadata": {
        "id": "VxkI8JEuZgzu"
      },
      "source": [
        "**CASE WHEN 구문을 사용하여 필요한 조건만 집계할 때**\n",
        "\n",
        "다음과 같은 국가 정보가 있다고 할 때, 한국만 COUNT하는 방법\n",
        "\n",
        "SELECT SUM(CASE WHEN 국가 = '한국' TEHN 1 ELSE 0 END) KOREA_CNT\n",
        "<br>FROM TABLE;\n",
        "\n",
        "<center>\n",
        "국가 정보\n",
        "\n",
        "|국가|\n",
        "|-----|\n",
        "|미국|\n",
        "|한국|\n",
        "|중국|\n",
        "|영국|\n",
        "|미국|\n",
        "|한국|\n",
        "|러시아|\n",
        "\n",
        "</center>\n"
      ]
    },
    {
      "cell_type": "code",
      "metadata": {
        "id": "JKcJdQiR80SU",
        "colab": {
          "base_uri": "https://localhost:8080/",
          "height": 80
        },
        "outputId": "bce51b9a-c62c-479d-fd3a-420b231dc851"
      },
      "source": [
        "#classicmodels.customers 테이블을 이용해 USA 거주자의 수를 계산하고, 그 비중을 구하세요.\n",
        "# 맞으면 1로 변환, 아니면 0으로 변환하여 계산\n",
        "# end로 query문 종료\n",
        "sql = f\"\"\"\n",
        "select sum(case when country = 'USA' then 1.00 else 0.00 end) as n_usa \n",
        "     , sum(case when country = 'USA' then 1.00 else 0.00 end) / count(*) as usa_portion\n",
        "  from customers\n",
        ";\"\"\"\n",
        "df = pd.read_sql(sql, conn, index_col=None)\n",
        "df.head(10)"
      ],
      "execution_count": 29,
      "outputs": [
        {
          "output_type": "execute_result",
          "data": {
            "text/html": [
              "<div>\n",
              "<style scoped>\n",
              "    .dataframe tbody tr th:only-of-type {\n",
              "        vertical-align: middle;\n",
              "    }\n",
              "\n",
              "    .dataframe tbody tr th {\n",
              "        vertical-align: top;\n",
              "    }\n",
              "\n",
              "    .dataframe thead th {\n",
              "        text-align: right;\n",
              "    }\n",
              "</style>\n",
              "<table border=\"1\" class=\"dataframe\">\n",
              "  <thead>\n",
              "    <tr style=\"text-align: right;\">\n",
              "      <th></th>\n",
              "      <th>n_usa</th>\n",
              "      <th>usa_portion</th>\n",
              "    </tr>\n",
              "  </thead>\n",
              "  <tbody>\n",
              "    <tr>\n",
              "      <th>0</th>\n",
              "      <td>36.0</td>\n",
              "      <td>0.295082</td>\n",
              "    </tr>\n",
              "  </tbody>\n",
              "</table>\n",
              "</div>"
            ],
            "text/plain": [
              "   n_usa  usa_portion\n",
              "0   36.0     0.295082"
            ]
          },
          "metadata": {},
          "execution_count": 29
        }
      ]
    },
    {
      "cell_type": "markdown",
      "metadata": {
        "id": "WCSUxV_dyFsq"
      },
      "source": [
        "#6.JOIN"
      ]
    },
    {
      "cell_type": "markdown",
      "metadata": {
        "id": "8dcK1AmlyFp5"
      },
      "source": [
        "**1) LEFT JOIN(LEFT OUTER JOIN)**"
      ]
    },
    {
      "cell_type": "markdown",
      "metadata": {
        "id": "tZheTRbyuG0p"
      },
      "source": [
        "![LEFT.png](data:image/png;base64,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)"
      ]
    },
    {
      "cell_type": "markdown",
      "metadata": {
        "id": "qieLttvpn7Jg"
      },
      "source": [
        "\n",
        "SELECT Orders.주문 번호\n",
        "<br>, Orders.고객 ID\n",
        "<br>, Orders.매출액\n",
        "<br>, Customers.성명\n",
        "<br>, Customers.성별\n",
        "<br>FROM orders\n",
        "<br>LEFT JOIN customer\n",
        "<br>ON orders.고객 ID = customer.고객 ID\n",
        "\n",
        "\n",
        "<center>\n",
        "주문 테이블(Orders)\n",
        "\n",
        "|주문 번호|고객ID|매출액|\n",
        "|-----|-----|-----|\n",
        "|A|X|100|\n",
        "|B|Y|200|\n",
        "\n",
        "고객 정보 테이블(Customer)\n",
        "\n",
        "|고객ID|성명|성별|\n",
        "|-----|-----|-----|\n",
        "|X|손흥민|M|\n",
        "|Z|김연아|F|\n",
        "\n",
        "LEFT JOIN 결과\n",
        "\n",
        "|주문 번호|고객ID|매출액|성명|성별|\n",
        "|-----|-----|-----|-----|-----|\n",
        "|A|X|100|손흥민|M|\n",
        "|B|Y|200|NULL|NULL|\n",
        "\n",
        "</center>\n"
      ]
    },
    {
      "cell_type": "code",
      "metadata": {
        "id": "L2-zXWp_-K_K",
        "colab": {
          "base_uri": "https://localhost:8080/",
          "height": 357
        },
        "outputId": "36ff47cc-1b5f-41a5-9823-01ac3c24750b"
      },
      "source": [
        "#classicmodels.customers, classicmodels.orders 테이블을 결합하고\n",
        "#ORDERNUMBER와 COUNTRY를 출력하세요. (LEFT JOIN)\n",
        "# on~으로 customernumber를 기준으로 하겠다. 없으면 그냥 NULL처리.\n",
        "sql = f\"\"\"\n",
        "select a.ordernumber\n",
        "     , b.country\n",
        "  from orders a\n",
        "  left join customers b\n",
        "    on a.customernumber = b.customernumber\n",
        ";\"\"\"\n",
        "df = pd.read_sql(sql, conn, index_col=None)\n",
        "df.head(10)"
      ],
      "execution_count": 31,
      "outputs": [
        {
          "output_type": "execute_result",
          "data": {
            "text/html": [
              "<div>\n",
              "<style scoped>\n",
              "    .dataframe tbody tr th:only-of-type {\n",
              "        vertical-align: middle;\n",
              "    }\n",
              "\n",
              "    .dataframe tbody tr th {\n",
              "        vertical-align: top;\n",
              "    }\n",
              "\n",
              "    .dataframe thead th {\n",
              "        text-align: right;\n",
              "    }\n",
              "</style>\n",
              "<table border=\"1\" class=\"dataframe\">\n",
              "  <thead>\n",
              "    <tr style=\"text-align: right;\">\n",
              "      <th></th>\n",
              "      <th>orderNumber</th>\n",
              "      <th>country</th>\n",
              "    </tr>\n",
              "  </thead>\n",
              "  <tbody>\n",
              "    <tr>\n",
              "      <th>0</th>\n",
              "      <td>10100</td>\n",
              "      <td>USA</td>\n",
              "    </tr>\n",
              "    <tr>\n",
              "      <th>1</th>\n",
              "      <td>10101</td>\n",
              "      <td>Germany</td>\n",
              "    </tr>\n",
              "    <tr>\n",
              "      <th>2</th>\n",
              "      <td>10102</td>\n",
              "      <td>USA</td>\n",
              "    </tr>\n",
              "    <tr>\n",
              "      <th>3</th>\n",
              "      <td>10103</td>\n",
              "      <td>Norway</td>\n",
              "    </tr>\n",
              "    <tr>\n",
              "      <th>4</th>\n",
              "      <td>10104</td>\n",
              "      <td>Spain</td>\n",
              "    </tr>\n",
              "    <tr>\n",
              "      <th>5</th>\n",
              "      <td>10105</td>\n",
              "      <td>Denmark</td>\n",
              "    </tr>\n",
              "    <tr>\n",
              "      <th>6</th>\n",
              "      <td>10106</td>\n",
              "      <td>Italy</td>\n",
              "    </tr>\n",
              "    <tr>\n",
              "      <th>7</th>\n",
              "      <td>10107</td>\n",
              "      <td>USA</td>\n",
              "    </tr>\n",
              "    <tr>\n",
              "      <th>8</th>\n",
              "      <td>10108</td>\n",
              "      <td>Philippines</td>\n",
              "    </tr>\n",
              "    <tr>\n",
              "      <th>9</th>\n",
              "      <td>10109</td>\n",
              "      <td>USA</td>\n",
              "    </tr>\n",
              "  </tbody>\n",
              "</table>\n",
              "</div>"
            ],
            "text/plain": [
              "   orderNumber      country\n",
              "0        10100          USA\n",
              "1        10101      Germany\n",
              "2        10102          USA\n",
              "3        10103       Norway\n",
              "4        10104        Spain\n",
              "5        10105      Denmark\n",
              "6        10106        Italy\n",
              "7        10107          USA\n",
              "8        10108  Philippines\n",
              "9        10109          USA"
            ]
          },
          "metadata": {},
          "execution_count": 31
        }
      ]
    },
    {
      "cell_type": "markdown",
      "metadata": {
        "id": "DscSIC3FyFnW"
      },
      "source": [
        "**2) INNER JOIN**"
      ]
    },
    {
      "cell_type": "markdown",
      "metadata": {
        "id": "IGZViXTEuVXz"
      },
      "source": [
        "![INNER.png](data:image/png;base64,iVBORw0KGgoAAAANSUhEUgAAAPEAAACoCAYAAAAxSgg2AAAAAXNSR0IArs4c6QAAAARnQU1BAACxjwv8YQUAAAAJcEhZcwAADsQAAA7EAZUrDhsAACn7SURBVHhe7Z0HfI3X/8c/gkRCtgRBYsTe1IxRK/YqWquqfrT/qlF7zyiiaKlZlKqtdm2RUGKP2ASxkkgiIXvn+T/fk3O52cPNvc/lvF+v+3qe8z333ue59zyfc75n55Nk8Ing4xsC72ev8czvDV68CkVAcDiCQiLxJiwa8QmJyJcvHwwM8qFAfgPExiWwMP09ZoWNYGFmDBvLIihe1BSlipvDoYQFKjjYoISNKf92QW7xDwrDQzldnsrpQ+niHxSOwJAIli7RMfEsTeSkgGHBAoiJjX+XLsaFCsLKzATWliYobm2KksXMYU/pYl8UZUpa8m//+PloRexx+THOXPHBea9nuO8TJCe2MWpWLIHK5WxRrpQVS+SStuYoZl0E+WXRZkVEVCxevY6AX2AonsqZgM/LENx7Eohb3q+Y4GtVskOjmvZoUb8cGtQozT8lSM2VOy/ldHkCzxvP4XXfF4aGBVi6VJHTpXxpa5YupWQxUmZpJMdlRUxsAsuMKSN45veWZdSU3rce+iNEzgQqlbFBQzldmtcri9aNHPmnPi4+GhF7XH6CA+53cOj0fRQxMUSbxhXQ/LOyaFK7DCxlAec1JG56ME/LmYfbxccoWMAAXT6vim6tqqJ+9U9X1F4P/LHP7Tb2u99FVHQcE1Lzz8rBSU4X8mjymtDwGJaRn5YzDrcLjxASGo32TSuia8uqcG5Skb9Lv9FrEf9z/CbW77mMe48D0cu5hiyYamgm57hK4ei5B/IDfAcH5Qe4qXxfg7p9hg7NKvHYjxf3S4/x597LcDv/CO3l39ujdTWWoSmFC17P5UzlDnYe9ULZklYY1OMzDOhcl8fqH3on4os3n2PeWnfcfOCHob0a4tse9fWiXvrwaRA27LuCTfuvolVDR4wd1By1K9vxWP2H2hkoXQ6cuoO+nWpjsJwu1SsU57HKJSQ0Chv2XsGanRdlV94C4wa1gLOTfpXQeiPihX964Le/z6Jjs8qYMrQlysn1J33FS86AFv55mtXZJ8u/ZVifxjxG/9j87zW4rHKDo701pn7XGk3qOPAY/cP/dTgWbTiNzQevsQLCZYQza0RTPCRipRIeGSt9P2u3ZNdyrrRh72Vu/bhYtvmsZNtstjR+8SEpKSmJW5WPy+qTkk3T2ez4MbL7xC2pXLsFUp9xW6RXr8O4VZkosiSmboRBU3fi5kN/rJzWA583KM9jPl72y27oqPkH5DpzZaya0YNblcfk345go1wt+GVsJwzoor/1yOxy9c5LDHPZBwuzQtji2hdFLQvzGAXBpKwgvpmyQ3Ls4Cp53njKLZ8Wh8/cY57HaNeD3KIMWMkrewxbD13nlk+Lu48DpNo9f5W6/rhBiotP4FZloBgRL/nrDHPPTng+5JZPmx1HbkhWTWZKf+7RbTXioMddydpplrRyuye3fNrIJbNUqtVcadKvh7lF92Q9yiGPkXM4FGvugoTEJAT+N4P17wqAL9vXQvC5WfB+FgT7NvPwMiCUx2gH6tOt0X0J6yJ7fXYmfvhKfxvfNEndqiXxwm0qG0Ri1WQWTl16xGN0h07rxF9P2saG253fMpwNrROkT3hkLOp/tQztnCph6eSu3Jp3LFjnjt+3noPn5h/hYPfpDF/MDV1+3IjomDicXP8dt2gfnZTEdx69knOxmejZtiYubhshBJwFpoWNcP/f8ahZsThsm8+Bb2DelMo0TrlsuwXMK/I9NU0IOBscXDEIc0e2g2XjmWxEmC7Qekk89pd/2Y+9sfsnbhHkhJi4BFTruhjf9W6Iif/7nFs/HOobpbShdClhY8atgpzgPHQdrMyNsX1Rf27RDlotiSt2XAg7+QERAs49hQwL4PHRiWykUYM+v3Prh9F9xF84fOY+As7MEAL+AI6vHYIv2lRH8RYuiI6N51YtQCVxXvPAJ1Ayazhdkt1obhFogjNXnkiWjWdIAcHh3JIz4hMSWXfW1n8/zW6jvCIoJEJOl5mS+6XH3JK35LmIdx27KTm0mcdDAk0TExvPuuZI0Dnh0fPXknnDGZJvQCi3CDRNvd5LpYXr3Xko78jTOvH05cdw5rIPTv/1f9wiyCuqd1+CH/s2wQ9fNeKWjDly9gGGzNjFGq8EecvXk7bLBSWw2bUPt2iePKsT9xu/la2aIQSsHW7vG4Oj/93H+EWHuCV9aLbOtGVHhYC1xN8L+qBmpRJwGrCSWzRPnpTEHf5vPRrWsMesH9tyi0Bb/G/6LnZc79KbHdWZv9Ydbhe8ddqn+amy6cA1LNrggZt7x3CL5tC4iJt/sxo921THqK+bcotA24z75V+2VtWOxe+7OqYtO8ZGx+1ZOpBbBNrmgPtd1o3nfXgCt2gGjYqYSuD2TSth1AAhYF1DbnVwaBT+lEtk1z894Hn9Gfb//g2PFegK6sqbsOQwq/5oCo2JuM+4Lahavhhm/NCGWwS6hkrkB0+D2KqQOxcP4FaBrtl+5AZ+3XQWF7cN55YPQyMNW1OXHYWVuYkQsMKgpYsOnb6LgV0//nm/+kSfDrXRv3Md9Br9N7d8GB8s4h1yrkKu2srpyp3I/ilCS7jW6/0r5k3oh6/GbsHlWy94jEAJjOzvxAq+WStPcEvu+SAR07rLk387CvcN33OLQClU7uSK0UO6oLJjacwe0wdN+v+Ot2HRPFagBP6Y1ZPNI/j39D1uyR0fVCe2aDQTby/M5iGBUqjb61dULO+Ar7o0Q3hkNEyMjfDfpbv459B/8HWfwd8lUArFms/BvYPjWMmcG3JdEju2d8Wl7ZqpmAs0x7A5e1CgYCH07d6CCZiIio5Fy8Y1ULe6Izp8v5bZBMrhybFJqNjxFx7KObkS8ch5+1k/cMUyNtwiUALHPR9i98k7mDisJ8LCIrk1mbCIKAzp64xnryKwarsntwqUQGFjQ2xd2BftvlvHLTkjxyK+fs+XbYsxQq6YC5RF79Gb4Dp5IFtpIr06UlhENGaN7ospS4/h1eswbhUoAVqwntzpHUe9uCX75LhOTOsKhXjO4iGBUqj1xWL06dYaZUvbIi4+gVvTQpvHhUfGYO5vW/FS1I8Vh22zOXhxagqMCma9mZyKHJXE1K+1JQ9nYwhyx9K/z8C+dGlULGeXqYCJxMQkOccvgk5tGuOHOf9wq0ApeG75EY36Lueh7JFtEdOWlDQriRY3FyiHKNl1dlnjjm97t0RkVAy3Zk5MbBw6tqyLI+d8cN8nkFsFSoC2w6FdNLcfvsEtWZNtd9qm6WwEnZ3JQwKl0HzgCnRo7QSHkjZISEzk1qyhxQkjo+Pwy8qdeHR0MrcKlEJRWW+0VHB2yFZJPO+PU5guhlQqDppWGJtYEJXLl8yRgImkJAnWFkVQrYojVu0QrdVKY/OCPmwro+yQLRHTGsQ0TEygLAZN2Y5hX7dHRDbd6NRQ//GA7s0xfdlxbhEoBZoNeO3uSwS8DueWjMlSxH3HbxUzYBTIqu3n0LBeNZgYG9I6adyacxLlErxPtxYYvWAftwiUwtE1Q9Bp2AYeyphMRRwWEQOvB/6K2n1fkMyM5SfxZacmrE/4Q6DW7DZONbD18G3EJ+TMJRfkLXa2Zihe1JTtDpoZmYp4wKTtoktJgSze4IEOLet9UAmsTnRMLAb2/BzD5+7hFoFSoDW6+k/cxkPpk6GIg99G4cWrt6hTpSS3CJSC65+n0bVtfcTGaWaBciqBnepXxgGPh/J55v3MAu1iaWbMNm+7KtePMyJDEY92PSjmCCuQP3aeR+umtdmgDU0SHR2LL7s0xdTfjnCLQCmsmNodI+cd4KG0ZCji/676oHEtBx4SKAWX1SfRpU19xGmoFFZBpXGLhlWxYf91bhEohWJyvZi2HHyVQUt1uiKeueIEXMd04CGBUjjh+QBVK5VFwQIG6U5w+FDi4xPQrkUdrJFLe4Gy+HVSlwzXFE9XxKvlRKRNrgXK4uc1J9G5tebqwqmJi49He1nEC//04BaBUqChmKevPOGhlKQR8cnz3ujboTYPCZRCRGQMXgTFoFRxKzbaKi+gxu5CRgVRzMYGNx/4catAKYz7tjnW7b7EQ+9JI+JfNpzGhMGa2/dWoBlo1Fz7FrURk0elsAqqazs3r43ft5zlFoFSGNm/KRZvPMND70kj4icvQ1gns0BZrN11EU3rV2H11rwkITEJtao6YL/HfW4RKAnSJs0mVCeFiLf8ex3/92VDHhIohScvg2FtbYWCBfJzS95CGUX9WhXlqtVDbhEoBdr1cs2uCzyUTAoR/7n3MltwXKAsNh+4qpVSWAV1NzWpVwl/y9cVKItezjXZ5mzqpBDxU983uV42U5B30LYfn9V01NrYZhpIUsWxFI55enOLQEmUKFoEEVGxPKQm4mPnHuLL9jV5SKAUaD0sycCQtRprE5rdVKl8adFKrUD6dqwjZ+zvF9R7J2LadrF7q2o8JFAK+0/dQb0a5bU+pjlBLvVrVy2Lgx53uUWgFLq3roZ9brd5SE3ER88+QMOa9jwkUArHZQ+pRiUHJCZodqx0VlArdc0qZeTnQrRSKw2ankhThFUwEdOUNhvLwswgUBbulx/DsUxxJCZpV8T0TFiZF8bjl2J9aiXiVKcM6w4mmIhplFbrRo7MIFAONErL3MxMY/OGcwqt21WpvB1uPhT1YqXRsmF5uF96xM6ZiM9c9UGL+uWYQaAczlzzQaVydhqfdphd6LoVytjB8/pTbhEohRaflcOZKz7snIn4gtdzMe1QgVy59QJl7Ytp3ZVWQSIuU9pW7G2sQCqXtcWl28npwkT86HkwTAsbMYNAOVy/7wuHkrZI0lVJLGceZUrZ4to9X24RKInExORqFhNxUUsxwEOJ3HkUgBK2lkjSUZ2YoP7pgDdic3IlUqNCcQSFRMDg8Ytg1KxYgpsFSiI6ToIBLemgQ5Lk0tjW2gJvw6O4RaAUqpa3xf2nQTDwfvYalWT/WqAsAl6HJZfCeTR3OLvQ9YvbWMD76WtuESgFqhc/lqvCBrSiZdmSltwsUArUB2hjZS670rqpD6ug69N9kMcmUBblSlnhmd9bGLwMCIWDnRCx0vCV08XSvLBO68OEJJfEdB++gaHcIlAKpFvSr0HA6wixCIAC8QsKg7lZESYiXUKZiIVZYfjL9yNQFiVk3QaGhMPg9dtI2FoV4Wblki9fPpiYmLBXmTJlYG5uzs7JfvDgQf4uYOfOncwWF5d2exNvb28UKVLk3fdYWVlhyZIlPDaZrVu3okaNGjyUklevXqFw4cLspfoOutahQ+mvQpiaPXv2sPdHRWXdSBQYHAHzIsZs3StdQqPFTOX7CAyJ4JaUbN++/V3aWFhYwMHBIcV/o0737t0z/G8XLFgAU1NT9jljY2NUqFABN2/e5LHJdO7cmb0vPVasWPHu8xldPzUbN25McU17e3t4eOjPIoH060JCo2HwJiwahgW1s2LEh7Bv3z7s3bsX586dw7Nnz+Dq6srEc+DAATRs+H41krFjx7Lj3Llz2VEdEnZkZCQ8PT2ZoEaNHMXeP378eP4OIDQ0FA8fpr+iBU3PIwG6u7u/ux+6foMGDfg7MmccvzcXFxd2zIzwqFgUKmQIKU8Wp80B8uWNCxkhPPL9/FV1WrRowf4DSosZM2bg+fPnOHv2LPtv6KXO/v37cfv2bbx8mXY3A7LZ2NgwEVHGUL16ddSqVYtlvCp8fHwQFBTEQynx9/eX/69C7POqa6e+fmoCAwNZmp45cwY7d+xAmzZt0LJlS5w+fZq/Q/lQJpvPacAK6ezfw7hJP6AcloRGubU6YWGyCyqX0H+sWYPvvv8+zZjju3fvolq1ainss2fPZrl7dHRyX+gff/yBMWPGICIibcnj5+eHkiVLpvne7EDipxJ87dq1GDp0aJbfMXDSVtSsWRPFbcx12kJNhVlcfBI27TyM039l/pxcu3YN9eqlv0fU/PnzsXHDRtg72DMPaIcsGnWGDx+OGzdusAxAhYWclv8bMgSLFy9m4dq1a8PZ2RkLFy5kYXWmT5/OREuZRHb55ZdfsGzZMrx48X5EGmUcFStWxK5du7hF2TT9emXyYA99JCYm7Z6848aNYwk99LvvWJhK3KwgsZYokff95FTaUwYyRH4oiTOn065aqE5cQiIMDHSfPKTHAvnzsxIrK2Jj0y+tiSlTpmD2nNmYOmUqq/KkB/VJqxMqZ8qlS5fmoazJzj2mJnWGQwVBqVKleEj50N3reiyBRqFSTlVnatq06Tv3NT3ogSOXetGiRVpxn1auXIkFchWAIJdtzNgx7DwjEhKSZPHIItZdIfyO/AUMkMCH+OWGx48fs2OfPn3wecvk5ZC3bUu50596/fXNmzf4Ts6IyfbTTz9xa9ZQvTanqK5LmfkMuTR/+vQpfv31V2bTBwzk+5cz+49DxiohtmvXjh1/kxPi/IWUqwKqEoyOVH/q2bMnWn7eMke5PUGfV39lhadcjyc6d+rEjvSQXL2a+SJ0tChefhKxAqDf+CGTMCZMmMDqmyoGDRqUoh2CoMal8+fPs2uRu00ZsuuC5EwvO5CAr1+/niJdyCvLDCMjI1YXp/dSA5fL3LmYOHEij9UPEuWqlkF+A+U3amUHeig6deyI4OBglvNX562gVO9RoXKd6EgvKo2NChmxRMwJqs+T+5eQjWVzxssPMdXlQkJC2L1VqVKF2efNm8eO6ZFfdmF1NfEhNXQfhh+wXC55PIMHD4avry+rf/bv35+dk+uqghocW7du/e6/pRJxwsQJaNWqFX9H5lD1iv5X1efJtSZRZwalf7ly5d59JiAggLWJlCurX5vqG3wsu8NfvnwZhw4fRtGiReHo6MhKWoIarjLC0NAQR44kb+WZG5eaxE9iywqqmx8/fhzW1tbs3qgEIObMmcOO6UFrTNMSOawfQYfQ5akUzmlGp2L3P7vZsV+/fqyuSd04bdu2ZbZZs2axowoSsgrqqrp+/QbrCcgOJEJ1qD0hO/es3rZia2vLWsN95AxEXyBH2kDXI4I0gaq0VeWo6i96MDLqMlKnQIEC/CxZnJqC3HoivXujkuDOnTssPjXGhQoiTnapZceQW3SE/F/QonmFDN//Pzlh1E+j3rXGq7+oxEtd90z9v4e8STvUU5NpQ6T+PqqP6xsG9LDoO5MmTUpTx1JRrmw51mqdHuTaUslAODk5sSOhSljVA6dq9Uyd4BRHLjUdM2LS5MkZNs5QV8b48enfm6W5MSKj5FJCs89sjqGfHCHfh5VFzqerJsiZELnN1DKdGhI2QR4Kof7f0v956tQptG7VGv3lElwFvUf1X9ORXumlTeq4zFD/3AW5Tk7dlurPgtKhf8PASn5YYmLzdpOuvEDVneHl5cWENHXaNBZOzdyf574b0RUfn/w7KeHoRa5t8eLF3z0YBH1veHg4iyeXjF5USt+6dYu/4/3nKY7c6d69e/OYlNyVS1n6vmkZ3Nu8n3+W3fmjPJQSKzMTRMXEsuvoEvIEomPiYGGadcuvqq9dxbeDv2VHGmGXHnXr1kWvXr3YOf1PqoYt+l+pfjxq1Chs3rKFxRPk+pLXlTptVHH37t1LE5dZNyNdU9WwRa/GTZrgm2++SdFXrXTy073/OHefNPabZihbyoqbBUrgj10XcPn+W7R2qsncal1RQK6be917CiMpHHNGtOdWgRKIi09EvwlbYVDCxpTNhBAoi5K2ZngbFslKCF1C138bGgk7W3NuESgF0i2tQW1gX9wCPr7J69cKlIO9nSVevwmX3ULdipgGEwTL9+FgZ8EtAqXwVNZtaVm/BuRG00J5AmVRwb4oAoLeMhHpEspEAoNDUb6UNbcIlAKtylO2pBUMKpYpiruPA7hZoBRogbo3oVQS63bUFl3fLyAEFcUSTorj3pMgkH4NaC7xbe9X3CxQEqWLmbJdEXVZFlOdOI73BAiUBe3MUa18seRZTPo/3OPjpE6VknjuF0RjY7lFu5CAA1+HopqjKIWVyOMXIShYMH+yiD+rVoqtmidQFvWqlsLTl4HIryOXmiZg+MjXryvfh0BZ0O4cpYol9xiwp6NJbQecFfvtKI5GtRzw6Km/zmYzUebx+Jk/GoktbxUH7Z/WtG7yIBr2dHxevxxOX3nCDALlULOSHR4+8WOT8nUBZR4PHvuJzfYUyOnLT2TdlmfnTMTVHIvD41LyxG2BsnAobqrDQR/52HRBsyI5n2wvyFuOnXsIZ6fk5ane+Wl2NmaIjdPd8D5B+jg7VcLtB8+17lKTK+3t44eWDUQprERo9VFVW8m7J6N7m2rYezL7i4wJtEPH5pVx8/4zrbvUNGb65r2n6NgseQEDgXI47/WMPRcq3om4Z5sa+OfE+5k6AmXQsKaDLKYnKFgwd/N5cwtd75KXN3rIz4VAWew5cRs9WlfjITUR0/DL817PeUigJJzqOODJs1daG71F1e/wiGiYmeRn/ZACZbHr2E20aujIQ2oiJr5oUx1nr4muJqXRr1NdnL92ny3Zow1oHu756w8woEtdbhEoBdqjq1qFYjyUTAoRD+5RH+t2X+IhgVLo5VwT5y7fh5GRdlZhMZJd6f8u3sWgbvW5RaAUSJ9DeqbccSSFiOtUscPxcw94SKAkGtawg7ePf56P3qKurFDZlS6QLwHWloW5VaAU1u2+LNeHq/NQMmmeiMFfNMD+U+kv3ibQHcP7N4XbWS8Y5nLBuuxCdWB3z1sY0V9/1pn6VLjl/erdKC110oh48pCWmLvGjYcESqFN44qslZoGYOQlhYwMcfK/GxjSqxG3CJSC6zp3TPxf8g4a6qQRcWETQ9aA8jYs5aJnAt3zXe+GOHPxTp51N9GAkpv3nqFVA/1aPP1TgcZL165sx0PvSbeC5TKyHSb/lryoukA5TBrSCnuPX4RxIUNu0SzGcim899hFTPsheXF3gXJYvPEMpn3fmodSkq6IWzd0xMHT93hIoBRotQ+nmiVx+/4zjQ/DTF6GJwz5pVhUFqt4KI6Ff3owTyw9MnwS5o5oh/lrs7eFhkB7LBjbCdsOnIWJcfJWMJqC6sI7D53DwrGduUWgFHYc9ZIFnHEbRYYiHtT9Myz5K/M9dAXap2xJa1ibFcCT55pbLIC6lcIjo/H8hR9aNUq5cbtA94xxPQiXEc48lJZMn4J5P7XHz6KlWnGsd/kS67efhImJZkpjqmP/vfs0VkzvwS0CpbD9iBe+zmLkXKYiHtqrIX7brD9bWnwqVHCwQUmbQmzC/ofWjWlJ3DehkfB79QrtnN7PjBEog1Hz92PBmI48lD5ZPgGr5Nx5xLz9PCRQCltc+2HFpsMoYvJhE/YLmxTCqs3H8Ne8PtwiUAq/bzmHn75uykMZk6WIadzu0bMPEBb5fh9Xge6xtTZFBydHeFy4DcNc9huz5Xd8/GBhIrEpjwJl4bLaDZOHZr3JerZ8sSOrB6Pd0PU8JFAKf8zujU27T+XapaZSeOm6g9j3+2BuESiFgZO34+8FX/FQ5mQr9R3ti6KMnQUOib5jxbFkfGes3XaSCTInUJfSvqMXMfiLujArkrPPCvKWBz6BuPskEO2cKnFL5uST1DfnzQKrJjMR4jmbhwRKoV6vJej7hTPsbC2RkI2NtWlgR1xcImYt+RvP3aZzq0ApFG/hghduU7I9fzxHftj2Rf3RbcRGHhIoBY+/hsF15e5szzc2LWICl9934sia5N36Bcph4pLDmDK0ZY4WgMiRiJ2bVERSkoRDZ+5zi0AJmBYuhJ9HtcPPv++CuVnmc4DNZAGv2XwMPVtXYUsVC5TDg6dBrMo6ckDWLdLq5MidVmHtNAvB52bxkEAptB68Gra2xfBl56ZsBFZqjAsZwfPKXRx2u4gHhydxq0ApWDeRdeWZc13lqlnzwtbhqNhpIQ8JlILbn/+HQ6eu4OqtR6zhSh2avvjCPwjL/zqCq/+M5laBUmg1+A9s/aUvD+WMXIm4gkNRDO/nhMHTd3GLQClc2fkTFqzcg6DgULZ2NEGrZMbHJ2D6oq04tHoIimhouKZAM9AMpSrlbLLdGp2aXImYGNnfCa9eh2PnMS9uESiBimVssGZWb1mwW9ietTRJgsZGz1i8RU6zpqxdQ6Acrt31xV/7r2LFtNyPW89VnVgd+7bzcGzNEDknEXNQlcTgaTtxzus5fp/zPWb/ug3GBYGT67/jsQIlEBYRgzLOCxCSi3qwOh8sYsKy8Uy8dJvKlvYRKIf2363D81ehKGSYH9f++YlbBUpBU7rRiIgpR7FvOx9vz4uBIEoiKiYOhatPxK0jE1G9guhOUhIlW/2Mk2uHokr5D/dgc10nVoeG7d3Y/ROKOoluJ6WQmJQE+9bz4es5G22HroV/UDiPEeia8u1dsW1hP40ImEElsaa47f1KKtZ8Ng8JdIl5oxmSf1AYO09MTJLMGkyXgt9GsrBAd1Tpskg6dPoeD2kGjYqYuH7PVyradBYPCbRNTGw8E+xz/zfckkw0t7949ZZbBNrGsb2rtO/UbR7SHBoXMfHwaZBk0XiGlJSUxC0CbRASGiWZykJ9/SbjEtdSTpf7TwJ5SKAtSrWaK7lffMRDmiVPREz4BoZKZg2nS74BodwiyEtuPfSXLGQXOiomjlsypsTnLtKR/+7zkCAviY2Ll6yazJSu3XvJLZonz0RMUEls02y25HHpMbcI8oKdR72kMm3n81D2+OzLZdL8tad4SJAXeD97zQqyoEw8I02gkS6mrKjT6zd0b10dM39owy0CTfHj3H247xMIt1wM5Pjf9F0ICA7HvyvFyh6aZtP+q5j2+zE8PzmFW/IOjXQxZcX1f35CeEQMmvRfwS0CTVC16yI42FnkSsDEepfeGNi1Huw+n4u4+KwXExBkjy/HbMYBj7taETCDlcdawu2Ct2TZeCZzMwS559Kt55J5wxmS130/bvkwqCuK6m373DTfcvop8SYsSrL73EXauO8Kt2gHrbjT6tDlqnZdjF7ONeAyoh23CrLL97P34OYDP5zfOpxbNMcXozYhLiER/674llsE2WX1jgtwWX0St/ePhaXZhy0jnFO04k6rQ1uG3Ds4DoWNDWHfZh78AkN5jCAz7jwKgG2zOahfvVSeCJjYs3QghvVpzMb0elx+zK2CzIiMjkP1bktw93EAfN2naV3AhNZLYnXCI2PQoM9ytGtaEb9N7MqtgtQMmLgNj54Hw3PLj2yRO23QdfhGRMfE48Q6sQ5XRsxfewortp3HuS3D4FDCklu1j9ZLYnVobSgqletWKcWW/BFzk1Pyx66LKOo0G3061saFbcO1JmDiwPJB+HlUe7by4lyxH1cK3C89RrHmc9hqKS9PTdWpgBlUEiuFkfP2S+XaLZAu3nzOLZ8mx889ZA0kM1cc5xbdsnzrOcmm6Sxp+5Eb3PJpQiMRa33xq9R3/BZuUQY6dafTg1y4gVN2sDrGFte+qF3Zjsd8/Jy58gTfTN2JNo0qYO3sntyqHGg51U0HrmLVjC/QvVU1bv34eer7Bv3lKk0howJs9pGtdREeowwUJ2IVb8Oj8e20Xbgni3nJxC7o2Ozj3bFPLuFkgRxBywblmXhzsuawLhjtehDbD9/AnBHObOfMj5Wz13zwk/xbzQobYePPX8Je125zRpCIlQyNPR01f79UvPkcadHG09yq/9Bso5nLj8tu6mxpxvJj3KpfLNpwWrJtNlsa+8tB1kf6sbB6x3mpdOufpW+n7WSTSpSOYkvi9Niw9woWrHNH2VJWGD2wGdo56d+ib7tP3MKSv/5j1Yap37dCz7Y1eIz+Qrtm0g5+9JvGDGqOAZ3r8Bj9gaoySzefw9W7LzFuUAsM79eExygfvRKxipcBoWzv1r8PXkPTOmXwTfd66NS8Co9VHrTb+1/7ruDek0AM6dWAPSAWptrvT8xrYuMSWLqs2XkRpUqYY3CP+ujboda7pXOVxvFzD9kzdOK8N75qXxM/9nNCRYeiPFZ/0EsRq+P97DW2/HsdO456waRQQfRoU50ty9qgRmn+Du1DAyWOnX2IfafusHvq27E2BnSpi+JFTfk7Pn5kNxR/H7iGrXLdWXa10a1VNbST06VN4wr8HdqHloc95imni9tt+f6i8WW7mujXqbbeb2ej9yJOzUGPuzjh6Q23C4+QJP+0xrUd2CgnauWuVr6YRrfxDAiOwJ1Hr3Djvh8u3XqBS7dfwFIuYelBdZZd/dYNHfk7BacvP8Hx8w9Z2rx+E8ky2fryq46cLrSIn62V5lp8Q8NjZK8ngKXL5dsvcd7rORvuSw2HbZtUQJfPq6JALvd0ViIfnYhTQ11VV+68hNcDf9z2foXHL4KZvYSNGUramrHS0crchImbSk2DfMkDKhLlvyVOdg+j5HoetZSHvI1iovUNDEWwfG5kWACVy9rKD2Ax1KpUQs4oSsPBTqGtlwrkmd8bJjAS2i05XWg6ZXxCImwsi6BUMXOWLkUtTGBuKqeLsSETXfKTKslueyJbyTM8MpalRVBIBPyCwtlmBjQgxrG0tVy6FkNNOV3qVSvFMu+PmY9exBlBq0H6BYYxYdKDEBEVywRLfwfJmP4Uw4IFUMTEUBa4EaxloRezlh8sy8x3HRR8OCRGegXLLnmonIFSutBunKp0IUHTVjSm8stKFrqtVWGWKX+qfLIiFgg+Fj6eioFA8IkiRCwQ6DlCxAKBniNELBDoOULEGiAuLo6fJZOQkMDP0kLtiKnj4+Pj+VlaUsclJiay71C9kpKS2FEFfbcqjt6bU1L/FhX0fSdOnMCRI0fw8uVLbk0J3Yv6Nekzmf22jK4lyBlCxBrAyMgIly9f5iGgYMGCbBmi9HBxcWHxKpYsWQJDQ0P07t2bW1JCcQcOHOAhoECBAmznf9Urf/78qFPn/Vhl+m5VHL2X7uPo0aM8NnNu377NfktqGjdqxL7P2dkZHTt2ROnSpWFsbJxGhN26dUPjxo15CBg4cCC7f1dXV25JCV3Lz8+PhwS5RYhYQ6R++ElANWqkndxgamoKW9v3u+GRGOhB/+eff3D/3j1uTQm9Rx3KMFSlLb1u3LjBY5JRjxs9ejQ6dOiAmJgYHpsxdB+pod9x8dIlxERHp/jeRrKwU/9mCwsLWFtb81Dyb6V7nzRpUobeiXqGJsgdQsR5xH9nzrCSbf/+/dySPvRwly9fHhPGj0eVqlW5NXOCgoL4WfqEhYXxs+SSnti1axc75gT6LLnH5CYbFUo5XNXd3R1FihRB164Zr40WLQv/qz590NTJCfb29twq0DRCxHlECTs7rFy5Et27d+eWjAkMDITrwoXsfNiwYeyYGemVmFlRtGjOZ+dQCTp16lQeSsumTZtw8OBBHkoff9ld/u/sWfj7+2Pjxo3cKtAkQsR5RHBwMH744QcUkkuwFi1acGv6kHtKkFu8atWqLEtaT09PeHh44NixY6y+HBkZyWOSMTN7PwSxZcuW7EgudU6hRimqA2dE8+bN2TEqKood00PlRq9duxbffivWs84LhIjzGBLzGdm1vnjxIrdkTK1atVjjkHqdOT2ocaxz587o0aMHe/+zZ894TDLUmKV6kauuyiRyQ/HiGU/TU9V/M2rEU2fIkCHsu9Qb4QSaQYg4jzExMcHkyZNZQxCR1QO/b98+dnSZ48KO6UGZQkREBCsBSaBVU9WlQ0NDWV2WRL5+/XpuzRpqgU7NnTt3+FlafHx82DF1w1tGvHjxgnkb5EEINIcQsRaYN28eOw6T3esSJUqw88wgd3nGzBk8lJY3b97ws/ShbicS5J49e5g7n11XOuj1a36WjIO9A5YuXcpDaVm3bl22BUxQS/eypcvQvn17bhFoAiFiLeHr64tVq1ezARMkrMygvlYquevWrYv86ZSOWX1efcDF06dPWT+xt7c3t2TMlUuX+FkyO3fthJubG7xSdWGpoMxpy5YtPJQ9Rowcwe7/66+/5hbBhyJErCGoG0ad1KOl7OzsMG7cOObeUkmpghp+0uvDPX/+PK5fv87mPadm+/btrBSk1u/ly5enafVVrwMXK1YMvXr1QsWKGS8qSN1Pl2QBjxw1CvPnz+dWoEGDBhg1chRqy/VYaqSj+7l58yZmz57NqgVdunRhLrsKagiLjY3loeRweqOyyJPYvHkzO0/9vwlygZzggg+kTJky0qNHj3hIksqXLy89ePCAh1JSv359SS6FeEiSdu/eLXXr1o2HUnLo0CHJ0dFRunr1KrdIUps2baTatWtL1atXZ6/KlStLLVu25LGSJItWkuvLPPSe0qVLS3v37uWhlNBjQK9Ro0ZxS0pk70EqW7bsu/fRNei+UyOXzNKECRN4SJJcXV2lsWPH8lBKZDed/baQkBBuEeQWsSiAQKDnCHdaINBzhIgFAj1HiFgg0HOEiAUCPUeIWCDQc4SIBQI9R4hYINBzhIgFAj1HiFgg0HOEiAUCPUeIWCDQa4D/B6t4dP+fS4b7AAAAAElFTkSuQmCC)"
      ]
    },
    {
      "cell_type": "markdown",
      "metadata": {
        "id": "jN9q0kOfpwld"
      },
      "source": [
        "\n",
        "SELECT Orders.주문 번호\n",
        "<br>, Orders.고객 ID\n",
        "<br>, Orders.매출액\n",
        "<br>, Customers.성명\n",
        "<br>, Customers.성별\n",
        "<br>FROM orders\n",
        "<br>INNER JOIN customer\n",
        "<br>ON orders.고객 ID = customer.고객 ID\n",
        "\n",
        "\n",
        "<center>\n",
        "주문 테이블(Orders)\n",
        "\n",
        "|주문 번호|고객ID|매출액|\n",
        "|-----|-----|-----|\n",
        "|A|X|100|\n",
        "|B|Y|200|\n",
        "\n",
        "고객 정보 테이블(Customer)\n",
        "\n",
        "|고객ID|성명|성별|\n",
        "|-----|-----|-----|\n",
        "|X|손흥민|M|\n",
        "|Z|김연아|F|\n",
        "\n",
        "INNER JOIN 결과\n",
        "\n",
        "|주문 번호|고객ID|매출액|성명|성별|\n",
        "|-----|-----|-----|-----|-----|\n",
        "|A|X|100|손흥민|M|\n",
        "\n",
        "</center>"
      ]
    },
    {
      "cell_type": "code",
      "metadata": {
        "id": "dn7TWM8c-LR_",
        "colab": {
          "base_uri": "https://localhost:8080/",
          "height": 357
        },
        "outputId": "16297cc9-71b8-4e4b-ce34-6358ab4afd62"
      },
      "source": [
        "#classicmodels.customers, classicmodels.orders 테이블을 결합하고\n",
        "#ORDERNUMBER와 COUNTRY를 출력하세요. (INNER JOIN)\n",
        "# 교집합이라고 생각하면 됨\n",
        "sql = f\"\"\"\n",
        "select a.ordernumber\n",
        "     , b.country\n",
        "  from orders a\n",
        " inner join customers b\n",
        "    on a.customernumber = b.customernumber\n",
        ";\"\"\"\n",
        "df = pd.read_sql(sql, conn, index_col=None)\n",
        "df.head(10)"
      ],
      "execution_count": 32,
      "outputs": [
        {
          "output_type": "execute_result",
          "data": {
            "text/html": [
              "<div>\n",
              "<style scoped>\n",
              "    .dataframe tbody tr th:only-of-type {\n",
              "        vertical-align: middle;\n",
              "    }\n",
              "\n",
              "    .dataframe tbody tr th {\n",
              "        vertical-align: top;\n",
              "    }\n",
              "\n",
              "    .dataframe thead th {\n",
              "        text-align: right;\n",
              "    }\n",
              "</style>\n",
              "<table border=\"1\" class=\"dataframe\">\n",
              "  <thead>\n",
              "    <tr style=\"text-align: right;\">\n",
              "      <th></th>\n",
              "      <th>orderNumber</th>\n",
              "      <th>country</th>\n",
              "    </tr>\n",
              "  </thead>\n",
              "  <tbody>\n",
              "    <tr>\n",
              "      <th>0</th>\n",
              "      <td>10100</td>\n",
              "      <td>USA</td>\n",
              "    </tr>\n",
              "    <tr>\n",
              "      <th>1</th>\n",
              "      <td>10101</td>\n",
              "      <td>Germany</td>\n",
              "    </tr>\n",
              "    <tr>\n",
              "      <th>2</th>\n",
              "      <td>10102</td>\n",
              "      <td>USA</td>\n",
              "    </tr>\n",
              "    <tr>\n",
              "      <th>3</th>\n",
              "      <td>10103</td>\n",
              "      <td>Norway</td>\n",
              "    </tr>\n",
              "    <tr>\n",
              "      <th>4</th>\n",
              "      <td>10104</td>\n",
              "      <td>Spain</td>\n",
              "    </tr>\n",
              "    <tr>\n",
              "      <th>5</th>\n",
              "      <td>10105</td>\n",
              "      <td>Denmark</td>\n",
              "    </tr>\n",
              "    <tr>\n",
              "      <th>6</th>\n",
              "      <td>10106</td>\n",
              "      <td>Italy</td>\n",
              "    </tr>\n",
              "    <tr>\n",
              "      <th>7</th>\n",
              "      <td>10107</td>\n",
              "      <td>USA</td>\n",
              "    </tr>\n",
              "    <tr>\n",
              "      <th>8</th>\n",
              "      <td>10108</td>\n",
              "      <td>Philippines</td>\n",
              "    </tr>\n",
              "    <tr>\n",
              "      <th>9</th>\n",
              "      <td>10109</td>\n",
              "      <td>USA</td>\n",
              "    </tr>\n",
              "  </tbody>\n",
              "</table>\n",
              "</div>"
            ],
            "text/plain": [
              "   orderNumber      country\n",
              "0        10100          USA\n",
              "1        10101      Germany\n",
              "2        10102          USA\n",
              "3        10103       Norway\n",
              "4        10104        Spain\n",
              "5        10105      Denmark\n",
              "6        10106        Italy\n",
              "7        10107          USA\n",
              "8        10108  Philippines\n",
              "9        10109          USA"
            ]
          },
          "metadata": {},
          "execution_count": 32
        }
      ]
    },
    {
      "cell_type": "markdown",
      "metadata": {
        "id": "H8lVo3RXyFkz"
      },
      "source": [
        "**3) FULL JOIN**"
      ]
    },
    {
      "cell_type": "markdown",
      "metadata": {
        "id": "c-o_H4zsuYqv"
      },
      "source": [
        "![FULL.png](data:image/png;base64,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)"
      ]
    },
    {
      "cell_type": "markdown",
      "metadata": {
        "id": "Y7y1j7_Rp6YA"
      },
      "source": [
        "\n",
        "SELECT Orders.주문 번호\n",
        "<br>, Orders.고객 ID\n",
        "<br>, Orders.매출액\n",
        "<br>, Customers.성명\n",
        "<br>, Customers.성별\n",
        "<br>FROM orders\n",
        "<br>FULL JOIN customer\n",
        "<br>ON orders.고객 ID = customer.고객 ID\n",
        "\n",
        "\n",
        "<center>\n",
        "주문 테이블(Orders)\n",
        "\n",
        "|주문 번호|고객ID|매출액|\n",
        "|-----|-----|-----|\n",
        "|A|X|100|\n",
        "|B|Y|200|\n",
        "\n",
        "고객 정보 테이블(Customer)\n",
        "\n",
        "|고객ID|성명|성별|\n",
        "|-----|-----|-----|\n",
        "|X|손흥민|M|\n",
        "|Z|김연아|F|\n",
        "\n",
        "FULL JOIN 결과\n",
        "\n",
        "|주문 번호|고객ID|매출액|성명|성별|\n",
        "|-----|-----|-----|-----|-----|\n",
        "|A|X|100|손흥민|M|\n",
        "|B|Y|200|NULL|NULL|\n",
        "|NULL|NULL|NULL|김연아|F|\n",
        "\n",
        "\n",
        "</center>"
      ]
    },
    {
      "cell_type": "markdown",
      "metadata": {
        "id": "PntZq1BVyFiW"
      },
      "source": [
        "# 7.CASE WHEN"
      ]
    },
    {
      "cell_type": "markdown",
      "metadata": {
        "id": "agw8CLw0llph"
      },
      "source": [
        "**CASE WHEN 구문은 조건에 따른 값을 다르게 출력하고 싶을 때 사용**\n",
        "\n",
        "SELECT CASE WHEN 조건1 THEN 결과 1\n",
        "<br> WHEN 조건2 THEM 결과 2\n",
        "<br> ELSE 결과3 END\n",
        "<br> FROM DB 명.테이블 명\n",
        "\n",
        "조건1을 만족하는 경우 결과 1을 출력하게 되고,\n",
        "<br>조건 2를 만족하는 경우 결과 2를 출력하고,\n",
        "<br>조건1, 조건2를 모두 만족하지 않는 경우 결과 3을 출력함\n"
      ]
    },
    {
      "cell_type": "markdown",
      "metadata": {
        "id": "SLr0z175mYfE"
      },
      "source": [
        "\"박 대리님, 고객 정보 테이블에서 고객명과 고객의 연령대(10세 단위)를 출력 부탁드려도 될까요?\"\n",
        "\n",
        "SELECT CASE WHEN 연령 BETWEEN 20 AND 29 THEN '20대'\n",
        "<br>WHEN 연령 BETWEEN 40 AND 49 THEN '40대'\n",
        "<br>WHEN 연령 BETWEEN 50 AND 59 THEN '50대'\n",
        "<br>FROM DB 명.customer;\n",
        "\n",
        "\n",
        "<center>\n",
        "고객 정보 테이블(Customer)\n",
        "\n",
        "|고객ID|고객명|연령|\n",
        "|-----|-----|-----|\n",
        "|A|JHON|28|\n",
        "|B|LINA|58|\n",
        "|C|GREG|48|\n",
        "\n",
        "</center>"
      ]
    },
    {
      "cell_type": "code",
      "metadata": {
        "id": "IJaQQSzW_uAG",
        "colab": {
          "base_uri": "https://localhost:8080/",
          "height": 357
        },
        "outputId": "0f1aec3d-c364-416c-c232-688a13153b87"
      },
      "source": [
        "#classicmodels.customers의 country칼럼을 이용해 북미(Canada, USA),\n",
        "#비북미를 출력하는 칼럼을 생성하세요. (비북미는 OTHERS로 출력)\n",
        "sql = f\"\"\"\n",
        "select country\n",
        "     , case when country in ('USA', 'Canada') then 'North America'\n",
        "            else 'OTHERS' end as region\n",
        "  from customers\n",
        ";\"\"\"\n",
        "df = pd.read_sql(sql, conn, index_col=None)\n",
        "df.head(10)"
      ],
      "execution_count": 33,
      "outputs": [
        {
          "output_type": "execute_result",
          "data": {
            "text/html": [
              "<div>\n",
              "<style scoped>\n",
              "    .dataframe tbody tr th:only-of-type {\n",
              "        vertical-align: middle;\n",
              "    }\n",
              "\n",
              "    .dataframe tbody tr th {\n",
              "        vertical-align: top;\n",
              "    }\n",
              "\n",
              "    .dataframe thead th {\n",
              "        text-align: right;\n",
              "    }\n",
              "</style>\n",
              "<table border=\"1\" class=\"dataframe\">\n",
              "  <thead>\n",
              "    <tr style=\"text-align: right;\">\n",
              "      <th></th>\n",
              "      <th>country</th>\n",
              "      <th>region</th>\n",
              "    </tr>\n",
              "  </thead>\n",
              "  <tbody>\n",
              "    <tr>\n",
              "      <th>0</th>\n",
              "      <td>France</td>\n",
              "      <td>OTHERS</td>\n",
              "    </tr>\n",
              "    <tr>\n",
              "      <th>1</th>\n",
              "      <td>USA</td>\n",
              "      <td>North America</td>\n",
              "    </tr>\n",
              "    <tr>\n",
              "      <th>2</th>\n",
              "      <td>Australia</td>\n",
              "      <td>OTHERS</td>\n",
              "    </tr>\n",
              "    <tr>\n",
              "      <th>3</th>\n",
              "      <td>France</td>\n",
              "      <td>OTHERS</td>\n",
              "    </tr>\n",
              "    <tr>\n",
              "      <th>4</th>\n",
              "      <td>Norway</td>\n",
              "      <td>OTHERS</td>\n",
              "    </tr>\n",
              "    <tr>\n",
              "      <th>5</th>\n",
              "      <td>USA</td>\n",
              "      <td>North America</td>\n",
              "    </tr>\n",
              "    <tr>\n",
              "      <th>6</th>\n",
              "      <td>Poland</td>\n",
              "      <td>OTHERS</td>\n",
              "    </tr>\n",
              "    <tr>\n",
              "      <th>7</th>\n",
              "      <td>Germany</td>\n",
              "      <td>OTHERS</td>\n",
              "    </tr>\n",
              "    <tr>\n",
              "      <th>8</th>\n",
              "      <td>USA</td>\n",
              "      <td>North America</td>\n",
              "    </tr>\n",
              "    <tr>\n",
              "      <th>9</th>\n",
              "      <td>USA</td>\n",
              "      <td>North America</td>\n",
              "    </tr>\n",
              "  </tbody>\n",
              "</table>\n",
              "</div>"
            ],
            "text/plain": [
              "     country         region\n",
              "0     France         OTHERS\n",
              "1        USA  North America\n",
              "2  Australia         OTHERS\n",
              "3     France         OTHERS\n",
              "4     Norway         OTHERS\n",
              "5        USA  North America\n",
              "6     Poland         OTHERS\n",
              "7    Germany         OTHERS\n",
              "8        USA  North America\n",
              "9        USA  North America"
            ]
          },
          "metadata": {},
          "execution_count": 33
        }
      ]
    },
    {
      "cell_type": "code",
      "metadata": {
        "id": "5m3AhmvhAXhB",
        "colab": {
          "base_uri": "https://localhost:8080/",
          "height": 110
        },
        "outputId": "afdbf475-144c-4494-d8bb-4a9a1a43e0c5"
      },
      "source": [
        "#classicmodels.customers의 country칼럼을 이용해 북미(Canada, USA),\n",
        "#비북미를 출력하는 칼럼을 생성하고, 북미, 비북미 거주 고객의 수를 계산하세요.\n",
        "# 여러 개 나열할 때는 , 를 사용하는듯.\n",
        "sql = f\"\"\"\n",
        "select case when country in ('USA', 'Canada') then 'North America' \n",
        "            else 'OTHERS' end as region\n",
        "     , count(customernumber) as n_customers\n",
        "  from customers\n",
        " group by case when country in ('USA', 'Canada') then 'North America'\n",
        "               else 'OTHERS' end\n",
        ";\"\"\"\n",
        "df = pd.read_sql(sql, conn, index_col=None)\n",
        "df.head(10)"
      ],
      "execution_count": 34,
      "outputs": [
        {
          "output_type": "execute_result",
          "data": {
            "text/html": [
              "<div>\n",
              "<style scoped>\n",
              "    .dataframe tbody tr th:only-of-type {\n",
              "        vertical-align: middle;\n",
              "    }\n",
              "\n",
              "    .dataframe tbody tr th {\n",
              "        vertical-align: top;\n",
              "    }\n",
              "\n",
              "    .dataframe thead th {\n",
              "        text-align: right;\n",
              "    }\n",
              "</style>\n",
              "<table border=\"1\" class=\"dataframe\">\n",
              "  <thead>\n",
              "    <tr style=\"text-align: right;\">\n",
              "      <th></th>\n",
              "      <th>region</th>\n",
              "      <th>n_customers</th>\n",
              "    </tr>\n",
              "  </thead>\n",
              "  <tbody>\n",
              "    <tr>\n",
              "      <th>0</th>\n",
              "      <td>North America</td>\n",
              "      <td>39</td>\n",
              "    </tr>\n",
              "    <tr>\n",
              "      <th>1</th>\n",
              "      <td>OTHERS</td>\n",
              "      <td>83</td>\n",
              "    </tr>\n",
              "  </tbody>\n",
              "</table>\n",
              "</div>"
            ],
            "text/plain": [
              "          region  n_customers\n",
              "0  North America           39\n",
              "1         OTHERS           83"
            ]
          },
          "metadata": {},
          "execution_count": 34
        }
      ]
    },
    {
      "cell_type": "code",
      "metadata": {
        "id": "s9_pooabBAN5",
        "colab": {
          "base_uri": "https://localhost:8080/",
          "height": 110
        },
        "outputId": "70e9790b-c2aa-47e7-864f-1238d7aef455"
      },
      "source": [
        "#classicmodels.customers의 country칼럼을 이용해 북미(Canada, USA),\n",
        "#비북미를 출력하는 칼럼을 생성하고, 북미, 비북미 거주 고객의 수를 계산하세요.\n",
        "# group by 1은 첫 번째 열로 그룹화해라 의 의미... 한 번 더 입력하기 번거로워서...\n",
        "# 위랑 똑같은 결과임. 첫 번째 line에 작성한 코드가 그대로 들어감.\n",
        "sql = f\"\"\"\n",
        "select case when country in ('USA', 'Canada') then 'North America'\n",
        "            else 'OTHERS' end as region\n",
        "     , count(customernumber) as n_customers\n",
        "  from customers\n",
        " group by 1\n",
        ";\"\"\"\n",
        "df = pd.read_sql(sql, conn, index_col=None)\n",
        "df.head(10)"
      ],
      "execution_count": 36,
      "outputs": [
        {
          "output_type": "execute_result",
          "data": {
            "text/html": [
              "<div>\n",
              "<style scoped>\n",
              "    .dataframe tbody tr th:only-of-type {\n",
              "        vertical-align: middle;\n",
              "    }\n",
              "\n",
              "    .dataframe tbody tr th {\n",
              "        vertical-align: top;\n",
              "    }\n",
              "\n",
              "    .dataframe thead th {\n",
              "        text-align: right;\n",
              "    }\n",
              "</style>\n",
              "<table border=\"1\" class=\"dataframe\">\n",
              "  <thead>\n",
              "    <tr style=\"text-align: right;\">\n",
              "      <th></th>\n",
              "      <th>region</th>\n",
              "      <th>n_customers</th>\n",
              "    </tr>\n",
              "  </thead>\n",
              "  <tbody>\n",
              "    <tr>\n",
              "      <th>0</th>\n",
              "      <td>North America</td>\n",
              "      <td>39</td>\n",
              "    </tr>\n",
              "    <tr>\n",
              "      <th>1</th>\n",
              "      <td>OTHERS</td>\n",
              "      <td>83</td>\n",
              "    </tr>\n",
              "  </tbody>\n",
              "</table>\n",
              "</div>"
            ],
            "text/plain": [
              "          region  n_customers\n",
              "0  North America           39\n",
              "1         OTHERS           83"
            ]
          },
          "metadata": {},
          "execution_count": 36
        }
      ]
    },
    {
      "cell_type": "markdown",
      "metadata": {
        "id": "H7J-x4nYyFf2"
      },
      "source": [
        "#8.RANK, ROW_NUMBER"
      ]
    },
    {
      "cell_type": "markdown",
      "metadata": {
        "id": "Yb5Bu6xybVIg"
      },
      "source": [
        "**데이터에 순위를 매길 때 사용**\n",
        "\n",
        "두 함수의 차이점은 동점일 때 처리 방법\n",
        "<br>ROW_NUMBER()는 동점인 경우도 서로 다른 등수로 계산\n",
        "<br>RANK()는 동인 경우 같은 등수로 계산\n",
        "\n",
        "<center>\n",
        "고객을 구매 금액으로 순위를 매길 때\n",
        "\n",
        "|고객번호|구매 금액|RANK|ROW_NUMBER|\n",
        "|-----|-----|-----|-----|\n",
        "|A|1000|4|4|\n",
        "|B|400|2|2|\n",
        "|D|200|1|1|\n",
        "|D|200|2|3|\n",
        "\n",
        "</center>"
      ]
    },
    {
      "cell_type": "markdown",
      "metadata": {
        "id": "um7ne1LQj8hm"
      },
      "source": [
        "**구매금액을 기준으로 순위를 매기고 싶을 때**\n",
        "<br>SELECT ROW_NUMBER() OVER (ORDER BY column) FROM...\n",
        "<br>SELECT RANK() OVER (ORDER BY column) FROM...\n",
        "\n",
        "SELECT ROW_NUMBER() OVER (ORDER BY 구매금액) as ROW_NUMBER\n",
        "<br>, RANK() OVER (ORDER BY 구매금액) as RANK\n",
        "<br>FROM TABLE\n",
        "\n",
        "**고객 번호 내에서 순위를 매기고 싶을 때**\n",
        "<br>SELECT ROW_NUMBER() OVER (PARTITION BY column ORDER BY column) FROM...\n",
        "<br>SELECT RANK() OVER (PARTITION BY column ORDER BY column) FROM...\n",
        "\n",
        "SELECT ROW_NUMBER() OVER (PARTITION BY 고객 번호 ORDER BY 구매금액) as ROW_NUMBER\n",
        "<br>, RANK() OVER (PARTITION BY 고객 번호 ORDER BY 구매금액) as RANK\n",
        "<br>FROM TABLE"
      ]
    },
    {
      "cell_type": "code",
      "metadata": {
        "id": "6K0xNexIBOBe",
        "colab": {
          "base_uri": "https://localhost:8080/",
          "height": 357
        },
        "outputId": "c5bdf3fe-15e5-4311-ce4e-a27331ec3e24"
      },
      "source": [
        "#classicmodels.products 테이블에서 buyprice 칼럼으로 순위를 매겨 주세요.\n",
        "#(오름차순)(row_number, rank, dense_rank 사용)\n",
        "# row_number는 동점인 경우도 서로 다른 등수, rank는 같은 등수로.\n",
        "# over안에는 정렬할 기준.\n",
        "sql = f\"\"\"\n",
        "select buyprice\n",
        "     , row_number() over (order by buyprice) rownumber\n",
        "     , rank() over (order by buyprice) rnk\n",
        "  from products\n",
        ";\"\"\"\n",
        "df = pd.read_sql(sql, conn, index_col=None)\n",
        "df.head(10)\n",
        "#22번, 23번 동일 가격"
      ],
      "execution_count": 37,
      "outputs": [
        {
          "output_type": "execute_result",
          "data": {
            "text/html": [
              "<div>\n",
              "<style scoped>\n",
              "    .dataframe tbody tr th:only-of-type {\n",
              "        vertical-align: middle;\n",
              "    }\n",
              "\n",
              "    .dataframe tbody tr th {\n",
              "        vertical-align: top;\n",
              "    }\n",
              "\n",
              "    .dataframe thead th {\n",
              "        text-align: right;\n",
              "    }\n",
              "</style>\n",
              "<table border=\"1\" class=\"dataframe\">\n",
              "  <thead>\n",
              "    <tr style=\"text-align: right;\">\n",
              "      <th></th>\n",
              "      <th>buyPrice</th>\n",
              "      <th>rownumber</th>\n",
              "      <th>rnk</th>\n",
              "    </tr>\n",
              "  </thead>\n",
              "  <tbody>\n",
              "    <tr>\n",
              "      <th>0</th>\n",
              "      <td>15.91</td>\n",
              "      <td>1</td>\n",
              "      <td>1</td>\n",
              "    </tr>\n",
              "    <tr>\n",
              "      <th>1</th>\n",
              "      <td>16.24</td>\n",
              "      <td>2</td>\n",
              "      <td>2</td>\n",
              "    </tr>\n",
              "    <tr>\n",
              "      <th>2</th>\n",
              "      <td>20.61</td>\n",
              "      <td>3</td>\n",
              "      <td>3</td>\n",
              "    </tr>\n",
              "    <tr>\n",
              "      <th>3</th>\n",
              "      <td>21.75</td>\n",
              "      <td>4</td>\n",
              "      <td>4</td>\n",
              "    </tr>\n",
              "    <tr>\n",
              "      <th>4</th>\n",
              "      <td>22.57</td>\n",
              "      <td>5</td>\n",
              "      <td>5</td>\n",
              "    </tr>\n",
              "    <tr>\n",
              "      <th>5</th>\n",
              "      <td>23.14</td>\n",
              "      <td>6</td>\n",
              "      <td>6</td>\n",
              "    </tr>\n",
              "    <tr>\n",
              "      <th>6</th>\n",
              "      <td>24.14</td>\n",
              "      <td>7</td>\n",
              "      <td>7</td>\n",
              "    </tr>\n",
              "    <tr>\n",
              "      <th>7</th>\n",
              "      <td>24.23</td>\n",
              "      <td>8</td>\n",
              "      <td>8</td>\n",
              "    </tr>\n",
              "    <tr>\n",
              "      <th>8</th>\n",
              "      <td>24.26</td>\n",
              "      <td>9</td>\n",
              "      <td>9</td>\n",
              "    </tr>\n",
              "    <tr>\n",
              "      <th>9</th>\n",
              "      <td>24.92</td>\n",
              "      <td>10</td>\n",
              "      <td>10</td>\n",
              "    </tr>\n",
              "  </tbody>\n",
              "</table>\n",
              "</div>"
            ],
            "text/plain": [
              "   buyPrice  rownumber  rnk\n",
              "0     15.91          1    1\n",
              "1     16.24          2    2\n",
              "2     20.61          3    3\n",
              "3     21.75          4    4\n",
              "4     22.57          5    5\n",
              "5     23.14          6    6\n",
              "6     24.14          7    7\n",
              "7     24.23          8    8\n",
              "8     24.26          9    9\n",
              "9     24.92         10   10"
            ]
          },
          "metadata": {},
          "execution_count": 37
        }
      ]
    },
    {
      "cell_type": "code",
      "metadata": {
        "id": "--khN1x8CBd8",
        "colab": {
          "base_uri": "https://localhost:8080/",
          "height": 973
        },
        "outputId": "c7e00d1a-041c-4cb7-ce70-d60e3a5f328e"
      },
      "source": [
        "#classicmodels.products 테이블의 productline별로 순위를 매겨 주세요.\n",
        "#(buyprice칼럼 기준, 오름차순)(row_number, rank 사용)\n",
        "# partition by를 사용함으로써,,, 특정 범위 안에서의 등수 구함.\n",
        "# parition by productline면 productline 내의 category마다 등수가 1등부터 n등까지 저장되는 것...\n",
        "sql = f\"\"\"\n",
        "select productline\n",
        "     , buyprice\n",
        "     , row_number() over (partition by productline order by buyprice) rownumber\n",
        "     , rank() over (partition by productline order by buyprice) rnk\n",
        "  from products\n",
        " where productline <> 'Classic Cars'\n",
        ";\"\"\"\n",
        "df = pd.read_sql(sql, conn, index_col=None)\n",
        "df.head(30)"
      ],
      "execution_count": 39,
      "outputs": [
        {
          "output_type": "execute_result",
          "data": {
            "text/html": [
              "<div>\n",
              "<style scoped>\n",
              "    .dataframe tbody tr th:only-of-type {\n",
              "        vertical-align: middle;\n",
              "    }\n",
              "\n",
              "    .dataframe tbody tr th {\n",
              "        vertical-align: top;\n",
              "    }\n",
              "\n",
              "    .dataframe thead th {\n",
              "        text-align: right;\n",
              "    }\n",
              "</style>\n",
              "<table border=\"1\" class=\"dataframe\">\n",
              "  <thead>\n",
              "    <tr style=\"text-align: right;\">\n",
              "      <th></th>\n",
              "      <th>productLine</th>\n",
              "      <th>buyPrice</th>\n",
              "      <th>rownumber</th>\n",
              "      <th>rnk</th>\n",
              "    </tr>\n",
              "  </thead>\n",
              "  <tbody>\n",
              "    <tr>\n",
              "      <th>0</th>\n",
              "      <td>Motorcycles</td>\n",
              "      <td>24.14</td>\n",
              "      <td>1</td>\n",
              "      <td>1</td>\n",
              "    </tr>\n",
              "    <tr>\n",
              "      <th>1</th>\n",
              "      <td>Motorcycles</td>\n",
              "      <td>24.23</td>\n",
              "      <td>2</td>\n",
              "      <td>2</td>\n",
              "    </tr>\n",
              "    <tr>\n",
              "      <th>2</th>\n",
              "      <td>Motorcycles</td>\n",
              "      <td>32.95</td>\n",
              "      <td>3</td>\n",
              "      <td>3</td>\n",
              "    </tr>\n",
              "    <tr>\n",
              "      <th>3</th>\n",
              "      <td>Motorcycles</td>\n",
              "      <td>34.17</td>\n",
              "      <td>4</td>\n",
              "      <td>4</td>\n",
              "    </tr>\n",
              "    <tr>\n",
              "      <th>4</th>\n",
              "      <td>Motorcycles</td>\n",
              "      <td>37.32</td>\n",
              "      <td>5</td>\n",
              "      <td>5</td>\n",
              "    </tr>\n",
              "    <tr>\n",
              "      <th>5</th>\n",
              "      <td>Motorcycles</td>\n",
              "      <td>47.10</td>\n",
              "      <td>6</td>\n",
              "      <td>6</td>\n",
              "    </tr>\n",
              "    <tr>\n",
              "      <th>6</th>\n",
              "      <td>Motorcycles</td>\n",
              "      <td>48.81</td>\n",
              "      <td>7</td>\n",
              "      <td>7</td>\n",
              "    </tr>\n",
              "    <tr>\n",
              "      <th>7</th>\n",
              "      <td>Motorcycles</td>\n",
              "      <td>56.13</td>\n",
              "      <td>8</td>\n",
              "      <td>8</td>\n",
              "    </tr>\n",
              "    <tr>\n",
              "      <th>8</th>\n",
              "      <td>Motorcycles</td>\n",
              "      <td>60.86</td>\n",
              "      <td>9</td>\n",
              "      <td>9</td>\n",
              "    </tr>\n",
              "    <tr>\n",
              "      <th>9</th>\n",
              "      <td>Motorcycles</td>\n",
              "      <td>66.27</td>\n",
              "      <td>10</td>\n",
              "      <td>10</td>\n",
              "    </tr>\n",
              "    <tr>\n",
              "      <th>10</th>\n",
              "      <td>Motorcycles</td>\n",
              "      <td>66.92</td>\n",
              "      <td>11</td>\n",
              "      <td>11</td>\n",
              "    </tr>\n",
              "    <tr>\n",
              "      <th>11</th>\n",
              "      <td>Motorcycles</td>\n",
              "      <td>68.99</td>\n",
              "      <td>12</td>\n",
              "      <td>12</td>\n",
              "    </tr>\n",
              "    <tr>\n",
              "      <th>12</th>\n",
              "      <td>Motorcycles</td>\n",
              "      <td>91.02</td>\n",
              "      <td>13</td>\n",
              "      <td>13</td>\n",
              "    </tr>\n",
              "    <tr>\n",
              "      <th>13</th>\n",
              "      <td>Planes</td>\n",
              "      <td>29.34</td>\n",
              "      <td>1</td>\n",
              "      <td>1</td>\n",
              "    </tr>\n",
              "    <tr>\n",
              "      <th>14</th>\n",
              "      <td>Planes</td>\n",
              "      <td>32.77</td>\n",
              "      <td>2</td>\n",
              "      <td>2</td>\n",
              "    </tr>\n",
              "    <tr>\n",
              "      <th>15</th>\n",
              "      <td>Planes</td>\n",
              "      <td>34.25</td>\n",
              "      <td>3</td>\n",
              "      <td>3</td>\n",
              "    </tr>\n",
              "    <tr>\n",
              "      <th>16</th>\n",
              "      <td>Planes</td>\n",
              "      <td>36.23</td>\n",
              "      <td>4</td>\n",
              "      <td>4</td>\n",
              "    </tr>\n",
              "    <tr>\n",
              "      <th>17</th>\n",
              "      <td>Planes</td>\n",
              "      <td>36.27</td>\n",
              "      <td>5</td>\n",
              "      <td>5</td>\n",
              "    </tr>\n",
              "    <tr>\n",
              "      <th>18</th>\n",
              "      <td>Planes</td>\n",
              "      <td>49.00</td>\n",
              "      <td>6</td>\n",
              "      <td>6</td>\n",
              "    </tr>\n",
              "    <tr>\n",
              "      <th>19</th>\n",
              "      <td>Planes</td>\n",
              "      <td>51.15</td>\n",
              "      <td>7</td>\n",
              "      <td>7</td>\n",
              "    </tr>\n",
              "    <tr>\n",
              "      <th>20</th>\n",
              "      <td>Planes</td>\n",
              "      <td>54.40</td>\n",
              "      <td>8</td>\n",
              "      <td>8</td>\n",
              "    </tr>\n",
              "    <tr>\n",
              "      <th>21</th>\n",
              "      <td>Planes</td>\n",
              "      <td>59.33</td>\n",
              "      <td>9</td>\n",
              "      <td>9</td>\n",
              "    </tr>\n",
              "    <tr>\n",
              "      <th>22</th>\n",
              "      <td>Planes</td>\n",
              "      <td>66.74</td>\n",
              "      <td>10</td>\n",
              "      <td>10</td>\n",
              "    </tr>\n",
              "    <tr>\n",
              "      <th>23</th>\n",
              "      <td>Planes</td>\n",
              "      <td>68.80</td>\n",
              "      <td>11</td>\n",
              "      <td>11</td>\n",
              "    </tr>\n",
              "    <tr>\n",
              "      <th>24</th>\n",
              "      <td>Planes</td>\n",
              "      <td>77.27</td>\n",
              "      <td>12</td>\n",
              "      <td>12</td>\n",
              "    </tr>\n",
              "    <tr>\n",
              "      <th>25</th>\n",
              "      <td>Ships</td>\n",
              "      <td>33.30</td>\n",
              "      <td>1</td>\n",
              "      <td>1</td>\n",
              "    </tr>\n",
              "    <tr>\n",
              "      <th>26</th>\n",
              "      <td>Ships</td>\n",
              "      <td>33.97</td>\n",
              "      <td>2</td>\n",
              "      <td>2</td>\n",
              "    </tr>\n",
              "    <tr>\n",
              "      <th>27</th>\n",
              "      <td>Ships</td>\n",
              "      <td>34.00</td>\n",
              "      <td>3</td>\n",
              "      <td>3</td>\n",
              "    </tr>\n",
              "    <tr>\n",
              "      <th>28</th>\n",
              "      <td>Ships</td>\n",
              "      <td>39.83</td>\n",
              "      <td>4</td>\n",
              "      <td>4</td>\n",
              "    </tr>\n",
              "    <tr>\n",
              "      <th>29</th>\n",
              "      <td>Ships</td>\n",
              "      <td>43.30</td>\n",
              "      <td>5</td>\n",
              "      <td>5</td>\n",
              "    </tr>\n",
              "  </tbody>\n",
              "</table>\n",
              "</div>"
            ],
            "text/plain": [
              "    productLine  buyPrice  rownumber  rnk\n",
              "0   Motorcycles     24.14          1    1\n",
              "1   Motorcycles     24.23          2    2\n",
              "2   Motorcycles     32.95          3    3\n",
              "3   Motorcycles     34.17          4    4\n",
              "4   Motorcycles     37.32          5    5\n",
              "5   Motorcycles     47.10          6    6\n",
              "6   Motorcycles     48.81          7    7\n",
              "7   Motorcycles     56.13          8    8\n",
              "8   Motorcycles     60.86          9    9\n",
              "9   Motorcycles     66.27         10   10\n",
              "10  Motorcycles     66.92         11   11\n",
              "11  Motorcycles     68.99         12   12\n",
              "12  Motorcycles     91.02         13   13\n",
              "13       Planes     29.34          1    1\n",
              "14       Planes     32.77          2    2\n",
              "15       Planes     34.25          3    3\n",
              "16       Planes     36.23          4    4\n",
              "17       Planes     36.27          5    5\n",
              "18       Planes     49.00          6    6\n",
              "19       Planes     51.15          7    7\n",
              "20       Planes     54.40          8    8\n",
              "21       Planes     59.33          9    9\n",
              "22       Planes     66.74         10   10\n",
              "23       Planes     68.80         11   11\n",
              "24       Planes     77.27         12   12\n",
              "25        Ships     33.30          1    1\n",
              "26        Ships     33.97          2    2\n",
              "27        Ships     34.00          3    3\n",
              "28        Ships     39.83          4    4\n",
              "29        Ships     43.30          5    5"
            ]
          },
          "metadata": {},
          "execution_count": 39
        }
      ]
    },
    {
      "cell_type": "markdown",
      "metadata": {
        "id": "Xcja31SayFdQ"
      },
      "source": [
        "# 9.SUBQUERY"
      ]
    },
    {
      "cell_type": "markdown",
      "metadata": {
        "id": "U13ezOvZa00f"
      },
      "source": [
        "\"박 대리님, NYC(Newyork)에 거주하는 고객들의 주문 번호를 조회해 주세요\""
      ]
    },
    {
      "cell_type": "code",
      "metadata": {
        "id": "2thkPOlEC4D3",
        "colab": {
          "base_uri": "https://localhost:8080/",
          "height": 359
        },
        "outputId": "d293830c-567d-41cb-b3bd-41e41ffcbdbe"
      },
      "source": [
        "#classicmodels.customers와 classicmodels.orders를 이용해 USA 거주자의 주문 번호를 출력하세요.\n",
        "# orders의 customernumber에서 미국에 사는 사람들의 주문번호만을 가져오기...\n",
        "# where customernumber in으로! customernumber를 기준으로 있는 것만 조회를 함...\n",
        "sql = f\"\"\"\n",
        "select ordernumber\n",
        "  from orders\n",
        " where customernumber in (select customernumber\n",
        "  from customers\n",
        " where country = 'USA')\n",
        ";\"\"\"\n",
        "df = pd.read_sql(sql, conn, index_col=None)\n",
        "df.head(10)"
      ],
      "execution_count": null,
      "outputs": [
        {
          "output_type": "execute_result",
          "data": {
            "text/html": [
              "<div>\n",
              "<style scoped>\n",
              "    .dataframe tbody tr th:only-of-type {\n",
              "        vertical-align: middle;\n",
              "    }\n",
              "\n",
              "    .dataframe tbody tr th {\n",
              "        vertical-align: top;\n",
              "    }\n",
              "\n",
              "    .dataframe thead th {\n",
              "        text-align: right;\n",
              "    }\n",
              "</style>\n",
              "<table border=\"1\" class=\"dataframe\">\n",
              "  <thead>\n",
              "    <tr style=\"text-align: right;\">\n",
              "      <th></th>\n",
              "      <th>orderNumber</th>\n",
              "    </tr>\n",
              "  </thead>\n",
              "  <tbody>\n",
              "    <tr>\n",
              "      <th>0</th>\n",
              "      <td>10100</td>\n",
              "    </tr>\n",
              "    <tr>\n",
              "      <th>1</th>\n",
              "      <td>10102</td>\n",
              "    </tr>\n",
              "    <tr>\n",
              "      <th>2</th>\n",
              "      <td>10107</td>\n",
              "    </tr>\n",
              "    <tr>\n",
              "      <th>3</th>\n",
              "      <td>10109</td>\n",
              "    </tr>\n",
              "    <tr>\n",
              "      <th>4</th>\n",
              "      <td>10111</td>\n",
              "    </tr>\n",
              "    <tr>\n",
              "      <th>5</th>\n",
              "      <td>10113</td>\n",
              "    </tr>\n",
              "    <tr>\n",
              "      <th>6</th>\n",
              "      <td>10115</td>\n",
              "    </tr>\n",
              "    <tr>\n",
              "      <th>7</th>\n",
              "      <td>10124</td>\n",
              "    </tr>\n",
              "    <tr>\n",
              "      <th>8</th>\n",
              "      <td>10127</td>\n",
              "    </tr>\n",
              "    <tr>\n",
              "      <th>9</th>\n",
              "      <td>10130</td>\n",
              "    </tr>\n",
              "  </tbody>\n",
              "</table>\n",
              "</div>"
            ],
            "text/plain": [
              "   orderNumber\n",
              "0        10100\n",
              "1        10102\n",
              "2        10107\n",
              "3        10109\n",
              "4        10111\n",
              "5        10113\n",
              "6        10115\n",
              "7        10124\n",
              "8        10127\n",
              "9        10130"
            ]
          },
          "metadata": {},
          "execution_count": 28
        }
      ]
    },
    {
      "cell_type": "markdown",
      "metadata": {
        "id": "AFpvMIRg6McL"
      },
      "source": [
        "# 10.Finish"
      ]
    },
    {
      "cell_type": "code",
      "metadata": {
        "id": "knF5cfFm6VaS"
      },
      "source": [
        ""
      ],
      "execution_count": null,
      "outputs": []
    }
  ]
}
