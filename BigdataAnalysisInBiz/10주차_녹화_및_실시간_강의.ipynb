{
  "nbformat": 4,
  "nbformat_minor": 0,
  "metadata": {
    "colab": {
      "name": "10주차_녹화_및_실시간_강의.ipynb",
      "provenance": [],
      "collapsed_sections": [
        "L1uzya_Zh-6c",
        "lVAAAZ31iA4l",
        "RX05IXVciFr2"
      ],
      "include_colab_link": true
    },
    "kernelspec": {
      "name": "python3",
      "display_name": "Python 3"
    },
    "language_info": {
      "name": "python"
    }
  },
  "cells": [
    {
      "cell_type": "markdown",
      "metadata": {
        "id": "view-in-github",
        "colab_type": "text"
      },
      "source": [
        "<a href=\"https://colab.research.google.com/github/pseeej/SmartSystemsSoftware/blob/master/BigdataAnalysisInBiz/10%EC%A3%BC%EC%B0%A8_%EB%85%B9%ED%99%94_%EB%B0%8F_%EC%8B%A4%EC%8B%9C%EA%B0%84_%EA%B0%95%EC%9D%98.ipynb\" target=\"_parent\"><img src=\"https://colab.research.google.com/assets/colab-badge.svg\" alt=\"Open In Colab\"/></a>"
      ]
    },
    {
      "cell_type": "markdown",
      "metadata": {
        "id": "IXlJgUWPt1ry"
      },
      "source": [
        "**데이터마이닝 프로세스**\n",
        "\n",
        "> *  1.데이터마이닝 프로젝트의 목적을 정확히 설정\n",
        "> *  2.분석에 필요한 데이터의 획득 (데이터 수집)\n",
        "> *  3.데이터의 탐색, 정제, 전처리 (이상치, 결측치 처리 등)\n",
        "> *  4.필요시 데이터 축소 (변수 제거, 변수 값의 변환)\n",
        "> *  5.데이터마이닝 문제 결정 (분류, 예측, 군집 등)\n",
        "> *  6.데이터 분할 (지도학습의 경우 - 학습데이터, 검증데이터, 평가데이터)\n",
        "> *  7.사용할 데이터마이닝 기법 선택 (회귀분석, 인공신경망, 계층군집 등등)\n",
        "> *  8.알고리즘을 사용하여 과제를 수행 (데이터마이닝 프로세스의 여러 단계를 반복적으로 수행)\n",
        "> *  9.알고리즘 결과의 해석\n",
        "> *  10.모델적용(구축된 모델을 운용시스템에 탑재하여 활용)"
      ]
    },
    {
      "cell_type": "markdown",
      "metadata": {
        "id": "opHzSzcl4uZ1"
      },
      "source": [
        "# **10.1 데이터 전처리란 무엇인가?**"
      ]
    },
    {
      "cell_type": "markdown",
      "metadata": {
        "id": "Zan1yoXof2gW"
      },
      "source": [
        "## **10.1.1 데이터의 기본 구조**"
      ]
    },
    {
      "cell_type": "markdown",
      "metadata": {
        "id": "85s0s2NYgHCX"
      },
      "source": [
        "\n",
        "\n",
        "*   데이터는 기본적으로 관측치와 변수들로 구성되어 있음\n",
        "\n"
      ]
    },
    {
      "cell_type": "code",
      "metadata": {
        "id": "kvGZRybZ5yCz"
      },
      "source": [
        "#파이썬 패키지 로드\n",
        "%matplotlib inline\n",
        "from pathlib import Path\n",
        "import os\n",
        "import calendar\n",
        "import numpy as np\n",
        "import pandas as pd\n",
        "from sklearn.model_selection import train_test_split\n",
        "from sklearn.metrics import r2_score\n",
        "from sklearn.linear_model import LinearRegression\n",
        "from pandas.plotting import scatter_matrix, parallel_coordinates\n",
        "import matplotlib.pylab as plt\n",
        "import seaborn as sns\n",
        "from sklearn import preprocessing\n",
        "import matplotlib.pyplot as plt"
      ],
      "execution_count": 1,
      "outputs": []
    },
    {
      "cell_type": "markdown",
      "metadata": {
        "id": "HbCL4iiMpC_6"
      },
      "source": [
        "**웨스트 록스베리 주택 가격 실습데이터**\n",
        "> *  (반응변수)TOTAL_VALUE : 주택가격(단위: 1,000달러)\n",
        "> *  TAX : 세금, 주택가격에 세율을 곱한 값에 근거한 세금 계산서 금액(단위: 달러)\n",
        "> *  LOT_SQFT : 총 부지 면적(단위: 제곱 피트)\n",
        "> *  YR_BUILT : 건축 연도\n",
        "> *  GROSS_AREA : 총 바닥 면적\n",
        "> *  LIVING_AREA : 주거 공간 총 면적(단위: 제곱 피트)\n",
        "> *  FLOORS : 층 수\n",
        "> *  ROOMS : 총 방 수\n",
        "> *  BEDROOMS : 총 침실 수\n",
        "> *  FULL_BATH : 총 욕실 개수\n",
        "> *  HALF_BATH : 총 보조욕실 개수\n",
        "> *  KITCHEN : 총 주방 개수\n",
        "> *  FIREPLACE : 총 벽난로 개수\n",
        "> *  REMODEL : 언제 리모델링을 했는지(최근/오래전/안 함)"
      ]
    },
    {
      "cell_type": "code",
      "metadata": {
        "colab": {
          "base_uri": "https://localhost:8080/",
          "height": 108
        },
        "id": "ATK2mDE_4qzN",
        "outputId": "eadf92c9-7ffc-48ad-b215-becf968769b6"
      },
      "source": [
        "#보스턴시에서 공개한 웨스트 록스베리 주택 가격 실습데이터 다운로드\n",
        "import gdown\n",
        "\n",
        "url = 'https://drive.google.com/uc?id=1yYHWZDMildHPFL4I4f7hhJd8BMDr5MRn'\n",
        "output = 'WestRoxbury.csv'\n",
        "gdown.download(url, output, quiet=False)"
      ],
      "execution_count": 2,
      "outputs": [
        {
          "output_type": "stream",
          "name": "stderr",
          "text": [
            "Downloading...\n",
            "From: https://drive.google.com/uc?id=1yYHWZDMildHPFL4I4f7hhJd8BMDr5MRn\n",
            "To: /content/WestRoxbury.csv\n",
            "100%|██████████| 298k/298k [00:00<00:00, 37.2MB/s]\n"
          ]
        },
        {
          "output_type": "execute_result",
          "data": {
            "application/vnd.google.colaboratory.intrinsic+json": {
              "type": "string"
            },
            "text/plain": [
              "'WestRoxbury.csv'"
            ]
          },
          "metadata": {},
          "execution_count": 2
        }
      ]
    },
    {
      "cell_type": "code",
      "metadata": {
        "id": "bYGTHdzb4so4"
      },
      "source": [
        "#다운로드 받은 csv 파일 불러오기\n",
        "housing_df = pd.read_csv('WestRoxbury.csv')"
      ],
      "execution_count": 3,
      "outputs": []
    },
    {
      "cell_type": "code",
      "metadata": {
        "colab": {
          "base_uri": "https://localhost:8080/"
        },
        "id": "EWlRh6PV6Hia",
        "outputId": "51d7732a-5363-433b-f68f-f216127cf0ae"
      },
      "source": [
        "#관측치와 변수확인\n",
        "#5,000여개의 주택 관측치와 14개의 변수를 포함 \n",
        "#반응변수(TOTAL_VALUE)\n",
        "housing_df.shape"
      ],
      "execution_count": 4,
      "outputs": [
        {
          "output_type": "execute_result",
          "data": {
            "text/plain": [
              "(5802, 14)"
            ]
          },
          "metadata": {},
          "execution_count": 4
        }
      ]
    },
    {
      "cell_type": "code",
      "metadata": {
        "colab": {
          "base_uri": "https://localhost:8080/"
        },
        "id": "3tWs372K6cOD",
        "outputId": "e6bbd7ed-9b8b-46bd-d604-b677cffcdd70"
      },
      "source": [
        "#공백이 있는 변수명 변경하기\n",
        "housing_df = housing_df.rename(columns={'TOTAL VALUE ': 'TOTAL_VALUE'})\n",
        "housing_df.columns"
      ],
      "execution_count": 5,
      "outputs": [
        {
          "output_type": "execute_result",
          "data": {
            "text/plain": [
              "Index(['TOTAL_VALUE', 'TAX', 'LOT SQFT ', 'YR BUILT', 'GROSS AREA ',\n",
              "       'LIVING AREA', 'FLOORS ', 'ROOMS', 'BEDROOMS ', 'FULL BATH',\n",
              "       'HALF BATH', 'KITCHEN', 'FIREPLACE', 'REMODEL'],\n",
              "      dtype='object')"
            ]
          },
          "metadata": {},
          "execution_count": 5
        }
      ]
    },
    {
      "cell_type": "code",
      "metadata": {
        "colab": {
          "base_uri": "https://localhost:8080/"
        },
        "id": "WO7fdwBL6lI6",
        "outputId": "b7992a02-a814-4d45-da47-7804d8c07160"
      },
      "source": [
        "#공백이 있는 변수명 모두 변경하기(참고)\n",
        "housing_df.columns = [s.strip().replace(' ', '_') for s in housing_df.columns]\n",
        "housing_df.columns"
      ],
      "execution_count": 6,
      "outputs": [
        {
          "output_type": "execute_result",
          "data": {
            "text/plain": [
              "Index(['TOTAL_VALUE', 'TAX', 'LOT_SQFT', 'YR_BUILT', 'GROSS_AREA',\n",
              "       'LIVING_AREA', 'FLOORS', 'ROOMS', 'BEDROOMS', 'FULL_BATH', 'HALF_BATH',\n",
              "       'KITCHEN', 'FIREPLACE', 'REMODEL'],\n",
              "      dtype='object')"
            ]
          },
          "metadata": {},
          "execution_count": 6
        }
      ]
    },
    {
      "cell_type": "code",
      "metadata": {
        "colab": {
          "base_uri": "https://localhost:8080/",
          "height": 363
        },
        "id": "GZTINSgn6_zE",
        "outputId": "f47627a2-76c9-44d7-982f-b5925edc2974"
      },
      "source": [
        "#관측치 10개 조회하기\n",
        "housing_df.head(10)"
      ],
      "execution_count": 7,
      "outputs": [
        {
          "output_type": "execute_result",
          "data": {
            "text/html": [
              "<div>\n",
              "<style scoped>\n",
              "    .dataframe tbody tr th:only-of-type {\n",
              "        vertical-align: middle;\n",
              "    }\n",
              "\n",
              "    .dataframe tbody tr th {\n",
              "        vertical-align: top;\n",
              "    }\n",
              "\n",
              "    .dataframe thead th {\n",
              "        text-align: right;\n",
              "    }\n",
              "</style>\n",
              "<table border=\"1\" class=\"dataframe\">\n",
              "  <thead>\n",
              "    <tr style=\"text-align: right;\">\n",
              "      <th></th>\n",
              "      <th>TOTAL_VALUE</th>\n",
              "      <th>TAX</th>\n",
              "      <th>LOT_SQFT</th>\n",
              "      <th>YR_BUILT</th>\n",
              "      <th>GROSS_AREA</th>\n",
              "      <th>LIVING_AREA</th>\n",
              "      <th>FLOORS</th>\n",
              "      <th>ROOMS</th>\n",
              "      <th>BEDROOMS</th>\n",
              "      <th>FULL_BATH</th>\n",
              "      <th>HALF_BATH</th>\n",
              "      <th>KITCHEN</th>\n",
              "      <th>FIREPLACE</th>\n",
              "      <th>REMODEL</th>\n",
              "    </tr>\n",
              "  </thead>\n",
              "  <tbody>\n",
              "    <tr>\n",
              "      <th>0</th>\n",
              "      <td>344.2</td>\n",
              "      <td>4330</td>\n",
              "      <td>9965</td>\n",
              "      <td>1880</td>\n",
              "      <td>2436</td>\n",
              "      <td>1352</td>\n",
              "      <td>2.0</td>\n",
              "      <td>6</td>\n",
              "      <td>3</td>\n",
              "      <td>1</td>\n",
              "      <td>1</td>\n",
              "      <td>1</td>\n",
              "      <td>0</td>\n",
              "      <td>None</td>\n",
              "    </tr>\n",
              "    <tr>\n",
              "      <th>1</th>\n",
              "      <td>412.6</td>\n",
              "      <td>5190</td>\n",
              "      <td>6590</td>\n",
              "      <td>1945</td>\n",
              "      <td>3108</td>\n",
              "      <td>1976</td>\n",
              "      <td>2.0</td>\n",
              "      <td>10</td>\n",
              "      <td>4</td>\n",
              "      <td>2</td>\n",
              "      <td>1</td>\n",
              "      <td>1</td>\n",
              "      <td>0</td>\n",
              "      <td>Recent</td>\n",
              "    </tr>\n",
              "    <tr>\n",
              "      <th>2</th>\n",
              "      <td>330.1</td>\n",
              "      <td>4152</td>\n",
              "      <td>7500</td>\n",
              "      <td>1890</td>\n",
              "      <td>2294</td>\n",
              "      <td>1371</td>\n",
              "      <td>2.0</td>\n",
              "      <td>8</td>\n",
              "      <td>4</td>\n",
              "      <td>1</td>\n",
              "      <td>1</td>\n",
              "      <td>1</td>\n",
              "      <td>0</td>\n",
              "      <td>None</td>\n",
              "    </tr>\n",
              "    <tr>\n",
              "      <th>3</th>\n",
              "      <td>498.6</td>\n",
              "      <td>6272</td>\n",
              "      <td>13773</td>\n",
              "      <td>1957</td>\n",
              "      <td>5032</td>\n",
              "      <td>2608</td>\n",
              "      <td>1.0</td>\n",
              "      <td>9</td>\n",
              "      <td>5</td>\n",
              "      <td>1</td>\n",
              "      <td>1</td>\n",
              "      <td>1</td>\n",
              "      <td>1</td>\n",
              "      <td>None</td>\n",
              "    </tr>\n",
              "    <tr>\n",
              "      <th>4</th>\n",
              "      <td>331.5</td>\n",
              "      <td>4170</td>\n",
              "      <td>5000</td>\n",
              "      <td>1910</td>\n",
              "      <td>2370</td>\n",
              "      <td>1438</td>\n",
              "      <td>2.0</td>\n",
              "      <td>7</td>\n",
              "      <td>3</td>\n",
              "      <td>2</td>\n",
              "      <td>0</td>\n",
              "      <td>1</td>\n",
              "      <td>0</td>\n",
              "      <td>None</td>\n",
              "    </tr>\n",
              "    <tr>\n",
              "      <th>5</th>\n",
              "      <td>337.4</td>\n",
              "      <td>4244</td>\n",
              "      <td>5142</td>\n",
              "      <td>1950</td>\n",
              "      <td>2124</td>\n",
              "      <td>1060</td>\n",
              "      <td>1.0</td>\n",
              "      <td>6</td>\n",
              "      <td>3</td>\n",
              "      <td>1</td>\n",
              "      <td>0</td>\n",
              "      <td>1</td>\n",
              "      <td>1</td>\n",
              "      <td>Old</td>\n",
              "    </tr>\n",
              "    <tr>\n",
              "      <th>6</th>\n",
              "      <td>359.4</td>\n",
              "      <td>4521</td>\n",
              "      <td>5000</td>\n",
              "      <td>1954</td>\n",
              "      <td>3220</td>\n",
              "      <td>1916</td>\n",
              "      <td>2.0</td>\n",
              "      <td>7</td>\n",
              "      <td>3</td>\n",
              "      <td>1</td>\n",
              "      <td>1</td>\n",
              "      <td>1</td>\n",
              "      <td>0</td>\n",
              "      <td>None</td>\n",
              "    </tr>\n",
              "    <tr>\n",
              "      <th>7</th>\n",
              "      <td>320.4</td>\n",
              "      <td>4030</td>\n",
              "      <td>10000</td>\n",
              "      <td>1950</td>\n",
              "      <td>2208</td>\n",
              "      <td>1200</td>\n",
              "      <td>1.0</td>\n",
              "      <td>6</td>\n",
              "      <td>3</td>\n",
              "      <td>1</td>\n",
              "      <td>0</td>\n",
              "      <td>1</td>\n",
              "      <td>0</td>\n",
              "      <td>None</td>\n",
              "    </tr>\n",
              "    <tr>\n",
              "      <th>8</th>\n",
              "      <td>333.5</td>\n",
              "      <td>4195</td>\n",
              "      <td>6835</td>\n",
              "      <td>1958</td>\n",
              "      <td>2582</td>\n",
              "      <td>1092</td>\n",
              "      <td>1.0</td>\n",
              "      <td>5</td>\n",
              "      <td>3</td>\n",
              "      <td>1</td>\n",
              "      <td>0</td>\n",
              "      <td>1</td>\n",
              "      <td>1</td>\n",
              "      <td>Recent</td>\n",
              "    </tr>\n",
              "    <tr>\n",
              "      <th>9</th>\n",
              "      <td>409.4</td>\n",
              "      <td>5150</td>\n",
              "      <td>5093</td>\n",
              "      <td>1900</td>\n",
              "      <td>4818</td>\n",
              "      <td>2992</td>\n",
              "      <td>2.0</td>\n",
              "      <td>8</td>\n",
              "      <td>4</td>\n",
              "      <td>2</td>\n",
              "      <td>0</td>\n",
              "      <td>1</td>\n",
              "      <td>0</td>\n",
              "      <td>None</td>\n",
              "    </tr>\n",
              "  </tbody>\n",
              "</table>\n",
              "</div>"
            ],
            "text/plain": [
              "   TOTAL_VALUE   TAX  LOT_SQFT  YR_BUILT  ...  HALF_BATH  KITCHEN  FIREPLACE  REMODEL\n",
              "0        344.2  4330      9965      1880  ...          1        1          0     None\n",
              "1        412.6  5190      6590      1945  ...          1        1          0   Recent\n",
              "2        330.1  4152      7500      1890  ...          1        1          0     None\n",
              "3        498.6  6272     13773      1957  ...          1        1          1     None\n",
              "4        331.5  4170      5000      1910  ...          0        1          0     None\n",
              "5        337.4  4244      5142      1950  ...          0        1          1      Old\n",
              "6        359.4  4521      5000      1954  ...          1        1          0     None\n",
              "7        320.4  4030     10000      1950  ...          0        1          0     None\n",
              "8        333.5  4195      6835      1958  ...          0        1          1   Recent\n",
              "9        409.4  5150      5093      1900  ...          0        1          0     None\n",
              "\n",
              "[10 rows x 14 columns]"
            ]
          },
          "metadata": {},
          "execution_count": 7
        }
      ]
    },
    {
      "cell_type": "code",
      "metadata": {
        "colab": {
          "base_uri": "https://localhost:8080/"
        },
        "id": "EeLJfUhA7b56",
        "outputId": "c0363c43-ec92-40f2-abe5-b1923fb3054a"
      },
      "source": [
        "#반응변수 요약하기\n",
        "# describe는 요약하는 함수인가봥\n",
        "housing_df['TOTAL_VALUE'].describe()"
      ],
      "execution_count": 9,
      "outputs": [
        {
          "output_type": "execute_result",
          "data": {
            "text/plain": [
              "count    5802.000000\n",
              "mean      392.685715\n",
              "std        99.177414\n",
              "min       105.000000\n",
              "25%       325.125000\n",
              "50%       375.900000\n",
              "75%       438.775000\n",
              "max      1217.800000\n",
              "Name: TOTAL_VALUE, dtype: float64"
            ]
          },
          "metadata": {},
          "execution_count": 9
        }
      ]
    },
    {
      "cell_type": "code",
      "metadata": {
        "colab": {
          "base_uri": "https://localhost:8080/",
          "height": 300
        },
        "id": "bdodg9Xd71aa",
        "outputId": "95efb493-fff7-475c-e796-39658c74a29f"
      },
      "source": [
        "#변수 전체 요약하기\n",
        "housing_df.describe()"
      ],
      "execution_count": 10,
      "outputs": [
        {
          "output_type": "execute_result",
          "data": {
            "text/html": [
              "<div>\n",
              "<style scoped>\n",
              "    .dataframe tbody tr th:only-of-type {\n",
              "        vertical-align: middle;\n",
              "    }\n",
              "\n",
              "    .dataframe tbody tr th {\n",
              "        vertical-align: top;\n",
              "    }\n",
              "\n",
              "    .dataframe thead th {\n",
              "        text-align: right;\n",
              "    }\n",
              "</style>\n",
              "<table border=\"1\" class=\"dataframe\">\n",
              "  <thead>\n",
              "    <tr style=\"text-align: right;\">\n",
              "      <th></th>\n",
              "      <th>TOTAL_VALUE</th>\n",
              "      <th>TAX</th>\n",
              "      <th>LOT_SQFT</th>\n",
              "      <th>YR_BUILT</th>\n",
              "      <th>GROSS_AREA</th>\n",
              "      <th>LIVING_AREA</th>\n",
              "      <th>FLOORS</th>\n",
              "      <th>ROOMS</th>\n",
              "      <th>BEDROOMS</th>\n",
              "      <th>FULL_BATH</th>\n",
              "      <th>HALF_BATH</th>\n",
              "      <th>KITCHEN</th>\n",
              "      <th>FIREPLACE</th>\n",
              "    </tr>\n",
              "  </thead>\n",
              "  <tbody>\n",
              "    <tr>\n",
              "      <th>count</th>\n",
              "      <td>5802.000000</td>\n",
              "      <td>5802.000000</td>\n",
              "      <td>5802.000000</td>\n",
              "      <td>5802.000000</td>\n",
              "      <td>5802.000000</td>\n",
              "      <td>5802.000000</td>\n",
              "      <td>5802.000000</td>\n",
              "      <td>5802.000000</td>\n",
              "      <td>5802.000000</td>\n",
              "      <td>5802.000000</td>\n",
              "      <td>5802.000000</td>\n",
              "      <td>5802.00000</td>\n",
              "      <td>5802.000000</td>\n",
              "    </tr>\n",
              "    <tr>\n",
              "      <th>mean</th>\n",
              "      <td>392.685715</td>\n",
              "      <td>4939.485867</td>\n",
              "      <td>6278.083764</td>\n",
              "      <td>1936.744916</td>\n",
              "      <td>2924.842123</td>\n",
              "      <td>1657.065322</td>\n",
              "      <td>1.683730</td>\n",
              "      <td>6.994829</td>\n",
              "      <td>3.230093</td>\n",
              "      <td>1.296794</td>\n",
              "      <td>0.613926</td>\n",
              "      <td>1.01534</td>\n",
              "      <td>0.739917</td>\n",
              "    </tr>\n",
              "    <tr>\n",
              "      <th>std</th>\n",
              "      <td>99.177414</td>\n",
              "      <td>1247.649118</td>\n",
              "      <td>2669.707974</td>\n",
              "      <td>35.989910</td>\n",
              "      <td>883.984726</td>\n",
              "      <td>540.456726</td>\n",
              "      <td>0.444884</td>\n",
              "      <td>1.437657</td>\n",
              "      <td>0.846607</td>\n",
              "      <td>0.522040</td>\n",
              "      <td>0.533839</td>\n",
              "      <td>0.12291</td>\n",
              "      <td>0.565108</td>\n",
              "    </tr>\n",
              "    <tr>\n",
              "      <th>min</th>\n",
              "      <td>105.000000</td>\n",
              "      <td>1320.000000</td>\n",
              "      <td>997.000000</td>\n",
              "      <td>0.000000</td>\n",
              "      <td>821.000000</td>\n",
              "      <td>504.000000</td>\n",
              "      <td>1.000000</td>\n",
              "      <td>3.000000</td>\n",
              "      <td>1.000000</td>\n",
              "      <td>1.000000</td>\n",
              "      <td>0.000000</td>\n",
              "      <td>1.00000</td>\n",
              "      <td>0.000000</td>\n",
              "    </tr>\n",
              "    <tr>\n",
              "      <th>25%</th>\n",
              "      <td>325.125000</td>\n",
              "      <td>4089.500000</td>\n",
              "      <td>4772.000000</td>\n",
              "      <td>1920.000000</td>\n",
              "      <td>2347.000000</td>\n",
              "      <td>1308.000000</td>\n",
              "      <td>1.000000</td>\n",
              "      <td>6.000000</td>\n",
              "      <td>3.000000</td>\n",
              "      <td>1.000000</td>\n",
              "      <td>0.000000</td>\n",
              "      <td>1.00000</td>\n",
              "      <td>0.000000</td>\n",
              "    </tr>\n",
              "    <tr>\n",
              "      <th>50%</th>\n",
              "      <td>375.900000</td>\n",
              "      <td>4728.000000</td>\n",
              "      <td>5683.000000</td>\n",
              "      <td>1935.000000</td>\n",
              "      <td>2700.000000</td>\n",
              "      <td>1548.500000</td>\n",
              "      <td>2.000000</td>\n",
              "      <td>7.000000</td>\n",
              "      <td>3.000000</td>\n",
              "      <td>1.000000</td>\n",
              "      <td>1.000000</td>\n",
              "      <td>1.00000</td>\n",
              "      <td>1.000000</td>\n",
              "    </tr>\n",
              "    <tr>\n",
              "      <th>75%</th>\n",
              "      <td>438.775000</td>\n",
              "      <td>5519.500000</td>\n",
              "      <td>7022.250000</td>\n",
              "      <td>1955.000000</td>\n",
              "      <td>3239.000000</td>\n",
              "      <td>1873.750000</td>\n",
              "      <td>2.000000</td>\n",
              "      <td>8.000000</td>\n",
              "      <td>4.000000</td>\n",
              "      <td>2.000000</td>\n",
              "      <td>1.000000</td>\n",
              "      <td>1.00000</td>\n",
              "      <td>1.000000</td>\n",
              "    </tr>\n",
              "    <tr>\n",
              "      <th>max</th>\n",
              "      <td>1217.800000</td>\n",
              "      <td>15319.000000</td>\n",
              "      <td>46411.000000</td>\n",
              "      <td>2011.000000</td>\n",
              "      <td>8154.000000</td>\n",
              "      <td>5289.000000</td>\n",
              "      <td>3.000000</td>\n",
              "      <td>14.000000</td>\n",
              "      <td>9.000000</td>\n",
              "      <td>5.000000</td>\n",
              "      <td>3.000000</td>\n",
              "      <td>2.00000</td>\n",
              "      <td>4.000000</td>\n",
              "    </tr>\n",
              "  </tbody>\n",
              "</table>\n",
              "</div>"
            ],
            "text/plain": [
              "       TOTAL_VALUE           TAX  ...     KITCHEN    FIREPLACE\n",
              "count  5802.000000   5802.000000  ...  5802.00000  5802.000000\n",
              "mean    392.685715   4939.485867  ...     1.01534     0.739917\n",
              "std      99.177414   1247.649118  ...     0.12291     0.565108\n",
              "min     105.000000   1320.000000  ...     1.00000     0.000000\n",
              "25%     325.125000   4089.500000  ...     1.00000     0.000000\n",
              "50%     375.900000   4728.000000  ...     1.00000     1.000000\n",
              "75%     438.775000   5519.500000  ...     1.00000     1.000000\n",
              "max    1217.800000  15319.000000  ...     2.00000     4.000000\n",
              "\n",
              "[8 rows x 13 columns]"
            ]
          },
          "metadata": {},
          "execution_count": 10
        }
      ]
    },
    {
      "cell_type": "markdown",
      "metadata": {
        "id": "AFuaI9JQgeNX"
      },
      "source": [
        "## **10.1.2 데이터베이스로부터 샘플링**"
      ]
    },
    {
      "cell_type": "markdown",
      "metadata": {
        "id": "UVnwM22xgeF2"
      },
      "source": [
        "*  많은 경우 모델 구축 시 모든 관측치를 사용하지는 않음\n",
        "*  보통 컴퓨터용량과 소프트웨어 자체 한계와 관련이 있을 수 있음\n",
        "*  적은 데이터로도 모든 데이터를 사용했을 때와 비슷한 효과를 볼 수 있다면 최대한 적은 양의 데이터를 사용하는 것이 계산 속도 면에서 훨씬 효과적임"
      ]
    },
    {
      "cell_type": "code",
      "metadata": {
        "colab": {
          "base_uri": "https://localhost:8080/",
          "height": 206
        },
        "id": "PXQYA8CV75BK",
        "outputId": "8f59ef62-1a10-4e00-a5e4-bfa60b870782"
      },
      "source": [
        "#데이터 샘플링\n",
        "housing_df.sample(5)"
      ],
      "execution_count": 11,
      "outputs": [
        {
          "output_type": "execute_result",
          "data": {
            "text/html": [
              "<div>\n",
              "<style scoped>\n",
              "    .dataframe tbody tr th:only-of-type {\n",
              "        vertical-align: middle;\n",
              "    }\n",
              "\n",
              "    .dataframe tbody tr th {\n",
              "        vertical-align: top;\n",
              "    }\n",
              "\n",
              "    .dataframe thead th {\n",
              "        text-align: right;\n",
              "    }\n",
              "</style>\n",
              "<table border=\"1\" class=\"dataframe\">\n",
              "  <thead>\n",
              "    <tr style=\"text-align: right;\">\n",
              "      <th></th>\n",
              "      <th>TOTAL_VALUE</th>\n",
              "      <th>TAX</th>\n",
              "      <th>LOT_SQFT</th>\n",
              "      <th>YR_BUILT</th>\n",
              "      <th>GROSS_AREA</th>\n",
              "      <th>LIVING_AREA</th>\n",
              "      <th>FLOORS</th>\n",
              "      <th>ROOMS</th>\n",
              "      <th>BEDROOMS</th>\n",
              "      <th>FULL_BATH</th>\n",
              "      <th>HALF_BATH</th>\n",
              "      <th>KITCHEN</th>\n",
              "      <th>FIREPLACE</th>\n",
              "      <th>REMODEL</th>\n",
              "    </tr>\n",
              "  </thead>\n",
              "  <tbody>\n",
              "    <tr>\n",
              "      <th>2696</th>\n",
              "      <td>285.7</td>\n",
              "      <td>3594</td>\n",
              "      <td>7475</td>\n",
              "      <td>1955</td>\n",
              "      <td>1882</td>\n",
              "      <td>861</td>\n",
              "      <td>1.0</td>\n",
              "      <td>6</td>\n",
              "      <td>3</td>\n",
              "      <td>1</td>\n",
              "      <td>1</td>\n",
              "      <td>1</td>\n",
              "      <td>0</td>\n",
              "      <td>None</td>\n",
              "    </tr>\n",
              "    <tr>\n",
              "      <th>3498</th>\n",
              "      <td>328.9</td>\n",
              "      <td>4137</td>\n",
              "      <td>4000</td>\n",
              "      <td>1934</td>\n",
              "      <td>2122</td>\n",
              "      <td>1318</td>\n",
              "      <td>2.0</td>\n",
              "      <td>6</td>\n",
              "      <td>3</td>\n",
              "      <td>1</td>\n",
              "      <td>1</td>\n",
              "      <td>1</td>\n",
              "      <td>1</td>\n",
              "      <td>None</td>\n",
              "    </tr>\n",
              "    <tr>\n",
              "      <th>503</th>\n",
              "      <td>220.4</td>\n",
              "      <td>2772</td>\n",
              "      <td>2644</td>\n",
              "      <td>1920</td>\n",
              "      <td>1730</td>\n",
              "      <td>1063</td>\n",
              "      <td>2.0</td>\n",
              "      <td>6</td>\n",
              "      <td>3</td>\n",
              "      <td>1</td>\n",
              "      <td>1</td>\n",
              "      <td>1</td>\n",
              "      <td>0</td>\n",
              "      <td>None</td>\n",
              "    </tr>\n",
              "    <tr>\n",
              "      <th>415</th>\n",
              "      <td>259.1</td>\n",
              "      <td>3259</td>\n",
              "      <td>5273</td>\n",
              "      <td>1945</td>\n",
              "      <td>2796</td>\n",
              "      <td>1155</td>\n",
              "      <td>1.0</td>\n",
              "      <td>6</td>\n",
              "      <td>2</td>\n",
              "      <td>1</td>\n",
              "      <td>0</td>\n",
              "      <td>1</td>\n",
              "      <td>1</td>\n",
              "      <td>None</td>\n",
              "    </tr>\n",
              "    <tr>\n",
              "      <th>3426</th>\n",
              "      <td>443.3</td>\n",
              "      <td>5576</td>\n",
              "      <td>8492</td>\n",
              "      <td>1900</td>\n",
              "      <td>4829</td>\n",
              "      <td>2680</td>\n",
              "      <td>2.0</td>\n",
              "      <td>10</td>\n",
              "      <td>5</td>\n",
              "      <td>1</td>\n",
              "      <td>1</td>\n",
              "      <td>1</td>\n",
              "      <td>1</td>\n",
              "      <td>None</td>\n",
              "    </tr>\n",
              "  </tbody>\n",
              "</table>\n",
              "</div>"
            ],
            "text/plain": [
              "      TOTAL_VALUE   TAX  LOT_SQFT  ...  KITCHEN  FIREPLACE  REMODEL\n",
              "2696        285.7  3594      7475  ...        1          0     None\n",
              "3498        328.9  4137      4000  ...        1          1     None\n",
              "503         220.4  2772      2644  ...        1          0     None\n",
              "415         259.1  3259      5273  ...        1          1     None\n",
              "3426        443.3  5576      8492  ...        1          1     None\n",
              "\n",
              "[5 rows x 14 columns]"
            ]
          },
          "metadata": {},
          "execution_count": 11
        }
      ]
    },
    {
      "cell_type": "markdown",
      "metadata": {
        "id": "2h3rLd1RgwHG"
      },
      "source": [
        "## **10.1.3 데이터 전처리와 데이터 정제**"
      ]
    },
    {
      "cell_type": "markdown",
      "metadata": {
        "id": "_BMTWei0g0-2"
      },
      "source": [
        "### **변수의 종류**\n",
        "*  연속형 번수 : 실수, 정수\n",
        "*  범주형 번수 : 숫자 혹은 문자로 표현함\n",
        "> *  명목형 변수 : 특별히 순위가 없는 경우\n",
        "> *  순서형 변수 : 큰 값, 작은 값 등 순위로 표현할 수 있는 경우"
      ]
    },
    {
      "cell_type": "code",
      "metadata": {
        "colab": {
          "base_uri": "https://localhost:8080/"
        },
        "id": "q108EGXX8h-i",
        "outputId": "c7c89f0d-516e-4d0b-e6c0-b513caec7f02"
      },
      "source": [
        "#변수 확인\n",
        "housing_df.columns"
      ],
      "execution_count": 12,
      "outputs": [
        {
          "output_type": "execute_result",
          "data": {
            "text/plain": [
              "Index(['TOTAL_VALUE', 'TAX', 'LOT_SQFT', 'YR_BUILT', 'GROSS_AREA',\n",
              "       'LIVING_AREA', 'FLOORS', 'ROOMS', 'BEDROOMS', 'FULL_BATH', 'HALF_BATH',\n",
              "       'KITCHEN', 'FIREPLACE', 'REMODEL'],\n",
              "      dtype='object')"
            ]
          },
          "metadata": {},
          "execution_count": 12
        }
      ]
    },
    {
      "cell_type": "code",
      "metadata": {
        "colab": {
          "base_uri": "https://localhost:8080/"
        },
        "id": "EwwTSa4h9NTq",
        "outputId": "1b93b928-dd58-402a-9b6e-2e10f9cc34dc"
      },
      "source": [
        "#변수 타입 확인\n",
        "housing_df.dtypes"
      ],
      "execution_count": 13,
      "outputs": [
        {
          "output_type": "execute_result",
          "data": {
            "text/plain": [
              "TOTAL_VALUE    float64\n",
              "TAX              int64\n",
              "LOT_SQFT         int64\n",
              "YR_BUILT         int64\n",
              "GROSS_AREA       int64\n",
              "LIVING_AREA      int64\n",
              "FLOORS         float64\n",
              "ROOMS            int64\n",
              "BEDROOMS         int64\n",
              "FULL_BATH        int64\n",
              "HALF_BATH        int64\n",
              "KITCHEN          int64\n",
              "FIREPLACE        int64\n",
              "REMODEL         object\n",
              "dtype: object"
            ]
          },
          "metadata": {},
          "execution_count": 13
        }
      ]
    },
    {
      "cell_type": "markdown",
      "metadata": {
        "id": "k3rhtJRXhqzV"
      },
      "source": [
        "### **범주형 변수의 처리**\n",
        "*  범주형 변수 값에 순위가 있는 경우는 연속형 변수로 간주함\n",
        "*  범주에 순위가 없을 경우에는 범주를 가변수로 바꿔서 사용함"
      ]
    },
    {
      "cell_type": "code",
      "metadata": {
        "colab": {
          "base_uri": "https://localhost:8080/"
        },
        "id": "gdT6g6crEDUC",
        "outputId": "34d9e8a6-b0b5-429e-83de-f84f07cd91a5"
      },
      "source": [
        "# REMODEL 범주 수 확인\n",
        "housing_df.groupby(\"REMODEL\").size()"
      ],
      "execution_count": 14,
      "outputs": [
        {
          "output_type": "execute_result",
          "data": {
            "text/plain": [
              "REMODEL\n",
              "None      4346\n",
              "Old        581\n",
              "Recent     875\n",
              "dtype: int64"
            ]
          },
          "metadata": {},
          "execution_count": 14
        }
      ]
    },
    {
      "cell_type": "code",
      "metadata": {
        "colab": {
          "base_uri": "https://localhost:8080/"
        },
        "id": "de4Ku0Vh9hw5",
        "outputId": "88163bec-1e57-405f-d96c-396f70500995"
      },
      "source": [
        "#REMODEL 가변수 생성 ('REMODEL_Old', 'REMODEL_Recent')\n",
        "# 위에서 REMODEL로 groupby를 했기 때문에 이렇게가 가능한가봐\n",
        "housing_df = pd.get_dummies(housing_df, prefix_sep='_', drop_first=True)\n",
        "housing_df.columns"
      ],
      "execution_count": 16,
      "outputs": [
        {
          "output_type": "execute_result",
          "data": {
            "text/plain": [
              "Index(['TOTAL_VALUE', 'TAX', 'LOT_SQFT', 'YR_BUILT', 'GROSS_AREA',\n",
              "       'LIVING_AREA', 'FLOORS', 'ROOMS', 'BEDROOMS', 'FULL_BATH', 'HALF_BATH',\n",
              "       'KITCHEN', 'FIREPLACE', 'REMODEL_Old', 'REMODEL_Recent'],\n",
              "      dtype='object')"
            ]
          },
          "metadata": {},
          "execution_count": 16
        }
      ]
    },
    {
      "cell_type": "code",
      "metadata": {
        "colab": {
          "base_uri": "https://localhost:8080/",
          "height": 206
        },
        "id": "gy_f3Nro9vYp",
        "outputId": "a37eea4b-e2e7-4cba-bb55-f24331bd47f4"
      },
      "source": [
        "#'REMODEL_Old', 'REMODEL_Recent' 관측치 5개 조회하기\n",
        "housing_df[['REMODEL_Old', 'REMODEL_Recent']].head(5)"
      ],
      "execution_count": 17,
      "outputs": [
        {
          "output_type": "execute_result",
          "data": {
            "text/html": [
              "<div>\n",
              "<style scoped>\n",
              "    .dataframe tbody tr th:only-of-type {\n",
              "        vertical-align: middle;\n",
              "    }\n",
              "\n",
              "    .dataframe tbody tr th {\n",
              "        vertical-align: top;\n",
              "    }\n",
              "\n",
              "    .dataframe thead th {\n",
              "        text-align: right;\n",
              "    }\n",
              "</style>\n",
              "<table border=\"1\" class=\"dataframe\">\n",
              "  <thead>\n",
              "    <tr style=\"text-align: right;\">\n",
              "      <th></th>\n",
              "      <th>REMODEL_Old</th>\n",
              "      <th>REMODEL_Recent</th>\n",
              "    </tr>\n",
              "  </thead>\n",
              "  <tbody>\n",
              "    <tr>\n",
              "      <th>0</th>\n",
              "      <td>0</td>\n",
              "      <td>0</td>\n",
              "    </tr>\n",
              "    <tr>\n",
              "      <th>1</th>\n",
              "      <td>0</td>\n",
              "      <td>1</td>\n",
              "    </tr>\n",
              "    <tr>\n",
              "      <th>2</th>\n",
              "      <td>0</td>\n",
              "      <td>0</td>\n",
              "    </tr>\n",
              "    <tr>\n",
              "      <th>3</th>\n",
              "      <td>0</td>\n",
              "      <td>0</td>\n",
              "    </tr>\n",
              "    <tr>\n",
              "      <th>4</th>\n",
              "      <td>0</td>\n",
              "      <td>0</td>\n",
              "    </tr>\n",
              "  </tbody>\n",
              "</table>\n",
              "</div>"
            ],
            "text/plain": [
              "   REMODEL_Old  REMODEL_Recent\n",
              "0            0               0\n",
              "1            0               1\n",
              "2            0               0\n",
              "3            0               0\n",
              "4            0               0"
            ]
          },
          "metadata": {},
          "execution_count": 17
        }
      ]
    },
    {
      "cell_type": "markdown",
      "metadata": {
        "id": "L1uzya_Zh-6c"
      },
      "source": [
        "### **변수선택 (-> 10.3 차원축소)**\n",
        "*  모델 구축 시 무작정 많은 변수를 사용하는 것이 항상 더 나은 결과를 보장하지는 않음\n",
        "*  신뢰성이 높은 모델을 구축하기 위해서는 꼭 필요한 변수만을 사용하는 것이 바람직함\n",
        "*  너무 많은 변수는 미래값을 예측하는 데 있어 많은 데이터가 필요함"
      ]
    },
    {
      "cell_type": "markdown",
      "metadata": {
        "id": "lVAAAZ31iA4l"
      },
      "source": [
        "### **얼마나 많은 변수와 관측치가 필요한가?**\n",
        "*  가장 간단한 방법 변수당 10개의 관측치로 적정 관측치의 개수를 정함\n",
        "*  분류 문제에서 6 x m(클래스 수) x p(변수의 개수)로 계산함\t(Delmaster & Hancock, 2001)\n",
        "*  훌륭한 모델은 간결해야 하며 꼭 필요한 변수만을 사용하는 것이 중요함\n",
        "*  (실질적인 어려움) 변수의 포함여부를 결정할 때 도메인 지식을 반영해야 모델의 정확도를 높이고 오차를 줄일 수 있음 \n",
        "> *  배달음식의 총 구매액을 예측하는 문제에서 x1, x2, x3, … 등의 예측변수가 존재한다고 가정했을 때 x1이 배달비용이라면 중요한 변수가 될 수 있으나 배달비용은 최종 거래가 끝나야 알 수 있으므로 사용이 어려움 \n"
      ]
    },
    {
      "cell_type": "markdown",
      "metadata": {
        "id": "RX05IXVciFr2"
      },
      "source": [
        "### **이상치 (-> 10.2.2 박스플롯)**\n",
        "*  측정오류나 잘못된 입력으로 인해 이상치가 포함될 수 있음\n",
        "*  이상치를 처리하지 않은 채 구축된 모델은 정확한 결과를 낼 수 없음\n",
        "*  기존 데이터들로 멀리 떨어진 데이터를 이상치라고 함 (이상치 결정기준은 임의적)\n",
        "*  통상 '평균적으로부터 표준편차의 세 배가 넘는 범위의 데이터'를 이상치로 보기도 함\n",
        "*  통계기법은 이상치의 후보를 제공하는 역할이며, 최종 이상치 판정은 실무자들이 하는 것이 바람직함"
      ]
    },
    {
      "cell_type": "markdown",
      "metadata": {
        "id": "FDRD-0APh4D9"
      },
      "source": [
        "### **결측치**\n",
        "*  일반적으로 데이터에는 결측치가 포함됨\n",
        "*  결측치가 몇 개 없다면 이들을 삭제하고 분석할 수 있음(너무 많으면 분석이 어려움)\n",
        "*  결측치를 다른 관측치의 해당값들을 기반으로 대체할 수 있음\n",
        "> *  예) 가족 구성원의 수입 -> 가족 구성원의 수입의 평균값\n",
        "> *  분산이 작아지는 문제가 있지만 최종 성능은 검증데이터를 이용하여 검증\n",
        "> *  주로 중앙값(예 정수형태), 평균값을 사용함\n",
        "* 결측치가 너무 많을 경우 변수의 중요도를 측정하여 변수를 삭제함\n",
        "* 근본적인 방법은 시간과 돈을 투자해서 실제값을 얻음"
      ]
    },
    {
      "cell_type": "code",
      "metadata": {
        "colab": {
          "base_uri": "https://localhost:8080/"
        },
        "id": "ky9QYbVp-SbZ",
        "outputId": "e05ccb13-7d21-41ee-c645-a48a0a274cd9"
      },
      "source": [
        "#결측치수 확인\n",
        "# 결과로 나온 값이 다 똑같으니깐 뭐 잘못된 값은 없다고 볼 수 있지!\n",
        "housing_df.count()"
      ],
      "execution_count": 20,
      "outputs": [
        {
          "output_type": "execute_result",
          "data": {
            "text/plain": [
              "TOTAL_VALUE       5802\n",
              "TAX               5802\n",
              "LOT_SQFT          5802\n",
              "YR_BUILT          5802\n",
              "GROSS_AREA        5802\n",
              "LIVING_AREA       5802\n",
              "FLOORS            5802\n",
              "ROOMS             5802\n",
              "BEDROOMS          5802\n",
              "FULL_BATH         5802\n",
              "HALF_BATH         5802\n",
              "KITCHEN           5802\n",
              "FIREPLACE         5802\n",
              "REMODEL_Old       5802\n",
              "REMODEL_Recent    5802\n",
              "dtype: int64"
            ]
          },
          "metadata": {},
          "execution_count": 20
        }
      ]
    },
    {
      "cell_type": "code",
      "metadata": {
        "id": "bsCWaIw0-1Lq"
      },
      "source": [
        "#housing_df copy\n",
        "tmp_housing_df = housing_df.copy()"
      ],
      "execution_count": 21,
      "outputs": []
    },
    {
      "cell_type": "code",
      "metadata": {
        "id": "Eg_vBZvmtuoX"
      },
      "source": [
        "#결측치 10개 임의 생성\n",
        "# missingRows로 임의의 index들을 구해와\n",
        "# .loc에서 BEDROOMS의 missingRows 값들을 np.nan으로 변경\n",
        "missingRows = tmp_housing_df.sample(10).index\n",
        "tmp_housing_df.loc[missingRows, 'BEDROOMS'] = np.nan"
      ],
      "execution_count": 24,
      "outputs": []
    },
    {
      "cell_type": "code",
      "metadata": {
        "colab": {
          "base_uri": "https://localhost:8080/"
        },
        "id": "tB7Wc9Jo--2i",
        "outputId": "d7fa3cfe-22ac-46a4-bee3-17e27d286464"
      },
      "source": [
        "#결측치 10개 임의 생성 결과 확인\n",
        "tmp_housing_df.count()"
      ],
      "execution_count": 25,
      "outputs": [
        {
          "output_type": "execute_result",
          "data": {
            "text/plain": [
              "TOTAL_VALUE       5802\n",
              "TAX               5802\n",
              "LOT_SQFT          5802\n",
              "YR_BUILT          5802\n",
              "GROSS_AREA        5802\n",
              "LIVING_AREA       5802\n",
              "FLOORS            5802\n",
              "ROOMS             5802\n",
              "BEDROOMS          5782\n",
              "FULL_BATH         5802\n",
              "HALF_BATH         5802\n",
              "KITCHEN           5802\n",
              "FIREPLACE         5802\n",
              "REMODEL_Old       5802\n",
              "REMODEL_Recent    5802\n",
              "dtype: int64"
            ]
          },
          "metadata": {},
          "execution_count": 25
        }
      ]
    },
    {
      "cell_type": "code",
      "metadata": {
        "colab": {
          "base_uri": "https://localhost:8080/"
        },
        "id": "x9iIniuO_Pp4",
        "outputId": "b97e4839-15de-401e-ee78-3d68652ac429"
      },
      "source": [
        "# 결측치가 있는 관측치 제거\n",
        "# 전체적으로 값을 맞춰주기 위해서 nan이 있는 행을 지워줌\n",
        "reduced_df = tmp_housing_df.dropna()\n",
        "reduced_df.count()"
      ],
      "execution_count": 27,
      "outputs": [
        {
          "output_type": "execute_result",
          "data": {
            "text/plain": [
              "TOTAL_VALUE       5782\n",
              "TAX               5782\n",
              "LOT_SQFT          5782\n",
              "YR_BUILT          5782\n",
              "GROSS_AREA        5782\n",
              "LIVING_AREA       5782\n",
              "FLOORS            5782\n",
              "ROOMS             5782\n",
              "BEDROOMS          5782\n",
              "FULL_BATH         5782\n",
              "HALF_BATH         5782\n",
              "KITCHEN           5782\n",
              "FIREPLACE         5782\n",
              "REMODEL_Old       5782\n",
              "REMODEL_Recent    5782\n",
              "dtype: int64"
            ]
          },
          "metadata": {},
          "execution_count": 27
        }
      ]
    },
    {
      "cell_type": "code",
      "metadata": {
        "colab": {
          "base_uri": "https://localhost:8080/"
        },
        "id": "XvOr1BnDAKBn",
        "outputId": "5360bd5f-aa2c-4444-bcec-712185ff94c8"
      },
      "source": [
        "# 결측치 중위수 대체\n",
        "# 그냥 nan으로 채워져있던 값들을 임의로 해당 열? type의 중위수로 채워줌\n",
        "medianBedrooms = tmp_housing_df['BEDROOMS'].median()\n",
        "tmp_housing_df.BEDROOMS = tmp_housing_df.BEDROOMS.fillna(value=medianBedrooms)\n",
        "tmp_housing_df.count()"
      ],
      "execution_count": 29,
      "outputs": [
        {
          "output_type": "execute_result",
          "data": {
            "text/plain": [
              "TOTAL_VALUE       5802\n",
              "TAX               5802\n",
              "LOT_SQFT          5802\n",
              "YR_BUILT          5802\n",
              "GROSS_AREA        5802\n",
              "LIVING_AREA       5802\n",
              "FLOORS            5802\n",
              "ROOMS             5802\n",
              "BEDROOMS          5802\n",
              "FULL_BATH         5802\n",
              "HALF_BATH         5802\n",
              "KITCHEN           5802\n",
              "FIREPLACE         5802\n",
              "REMODEL_Old       5802\n",
              "REMODEL_Recent    5802\n",
              "dtype: int64"
            ]
          },
          "metadata": {},
          "execution_count": 29
        }
      ]
    },
    {
      "cell_type": "markdown",
      "metadata": {
        "id": "ZNk9H9RTiWnm"
      },
      "source": [
        "### **데이터 정규화(표준화) 및 리스케일링**\n",
        "*  몇몇 알고리즘은 신뢰성 있는 결과를 얻기 위해 데이터의 정규화 작업이 필수적임\n",
        "*  정규화(z-score) : 각 관측치에서 해당 변수의 평균값을 빼주고 표준편차값으로 나누어 줌\n",
        "*  정규화는 변수의 스케일을 동일하게 맞추어 주는 하나의 표준화 방법\n",
        "*  또 다른 방법은 모든 변수를[0,1]의 스케일로 바꾸어 주는 방법\n",
        "> *  예) 주문금액 : 200,000원 , 주문횟수: 10회라면 변수의 단위 차이 때문에 군집분석에서 평균과의 거리를 계산할 때 주문금액이 전체 거리계산을 지배할 수 있음"
      ]
    },
    {
      "cell_type": "code",
      "metadata": {
        "id": "RVqDyODfBIRX"
      },
      "source": [
        "#housing_df copy\n",
        "df = housing_df.copy()"
      ],
      "execution_count": 30,
      "outputs": []
    },
    {
      "cell_type": "code",
      "metadata": {
        "colab": {
          "base_uri": "https://localhost:8080/",
          "height": 423
        },
        "id": "QU1Z4_Z_BK9u",
        "outputId": "a8f30a1a-712f-4e48-faf7-ddc3b08fdf47"
      },
      "source": [
        "# 데이터 정규화 (z-score)\n",
        "# (원래 값 - 평균) / 표준편차\n",
        "norm_df = (housing_df - housing_df.mean()) / housing_df.std()\n",
        "norm_df"
      ],
      "execution_count": 32,
      "outputs": [
        {
          "output_type": "execute_result",
          "data": {
            "text/html": [
              "<div>\n",
              "<style scoped>\n",
              "    .dataframe tbody tr th:only-of-type {\n",
              "        vertical-align: middle;\n",
              "    }\n",
              "\n",
              "    .dataframe tbody tr th {\n",
              "        vertical-align: top;\n",
              "    }\n",
              "\n",
              "    .dataframe thead th {\n",
              "        text-align: right;\n",
              "    }\n",
              "</style>\n",
              "<table border=\"1\" class=\"dataframe\">\n",
              "  <thead>\n",
              "    <tr style=\"text-align: right;\">\n",
              "      <th></th>\n",
              "      <th>TOTAL_VALUE</th>\n",
              "      <th>TAX</th>\n",
              "      <th>LOT_SQFT</th>\n",
              "      <th>YR_BUILT</th>\n",
              "      <th>GROSS_AREA</th>\n",
              "      <th>LIVING_AREA</th>\n",
              "      <th>FLOORS</th>\n",
              "      <th>ROOMS</th>\n",
              "      <th>BEDROOMS</th>\n",
              "      <th>FULL_BATH</th>\n",
              "      <th>HALF_BATH</th>\n",
              "      <th>KITCHEN</th>\n",
              "      <th>FIREPLACE</th>\n",
              "      <th>REMODEL_Old</th>\n",
              "      <th>REMODEL_Recent</th>\n",
              "    </tr>\n",
              "  </thead>\n",
              "  <tbody>\n",
              "    <tr>\n",
              "      <th>0</th>\n",
              "      <td>-0.488879</td>\n",
              "      <td>-0.488507</td>\n",
              "      <td>1.381019</td>\n",
              "      <td>-1.576690</td>\n",
              "      <td>-0.552998</td>\n",
              "      <td>-0.564458</td>\n",
              "      <td>0.710905</td>\n",
              "      <td>-0.691980</td>\n",
              "      <td>-0.271783</td>\n",
              "      <td>-0.568528</td>\n",
              "      <td>0.723202</td>\n",
              "      <td>-0.124803</td>\n",
              "      <td>-1.309337</td>\n",
              "      <td>-0.33356</td>\n",
              "      <td>-0.421381</td>\n",
              "    </tr>\n",
              "    <tr>\n",
              "      <th>1</th>\n",
              "      <td>0.200795</td>\n",
              "      <td>0.200789</td>\n",
              "      <td>0.116835</td>\n",
              "      <td>0.229372</td>\n",
              "      <td>0.207196</td>\n",
              "      <td>0.590121</td>\n",
              "      <td>0.710905</td>\n",
              "      <td>2.090325</td>\n",
              "      <td>0.909403</td>\n",
              "      <td>1.347035</td>\n",
              "      <td>0.723202</td>\n",
              "      <td>-0.124803</td>\n",
              "      <td>-1.309337</td>\n",
              "      <td>-0.33356</td>\n",
              "      <td>2.372738</td>\n",
              "    </tr>\n",
              "    <tr>\n",
              "      <th>2</th>\n",
              "      <td>-0.631048</td>\n",
              "      <td>-0.631176</td>\n",
              "      <td>0.457697</td>\n",
              "      <td>-1.298834</td>\n",
              "      <td>-0.713635</td>\n",
              "      <td>-0.529303</td>\n",
              "      <td>0.710905</td>\n",
              "      <td>0.699173</td>\n",
              "      <td>0.909403</td>\n",
              "      <td>-0.568528</td>\n",
              "      <td>0.723202</td>\n",
              "      <td>-0.124803</td>\n",
              "      <td>-1.309337</td>\n",
              "      <td>-0.33356</td>\n",
              "      <td>-0.421381</td>\n",
              "    </tr>\n",
              "    <tr>\n",
              "      <th>3</th>\n",
              "      <td>1.067927</td>\n",
              "      <td>1.068020</td>\n",
              "      <td>2.807392</td>\n",
              "      <td>0.562799</td>\n",
              "      <td>2.383704</td>\n",
              "      <td>1.759502</td>\n",
              "      <td>-1.536872</td>\n",
              "      <td>1.394749</td>\n",
              "      <td>2.090589</td>\n",
              "      <td>-0.568528</td>\n",
              "      <td>0.723202</td>\n",
              "      <td>-0.124803</td>\n",
              "      <td>0.460235</td>\n",
              "      <td>-0.33356</td>\n",
              "      <td>-0.421381</td>\n",
              "    </tr>\n",
              "    <tr>\n",
              "      <th>4</th>\n",
              "      <td>-0.616932</td>\n",
              "      <td>-0.616749</td>\n",
              "      <td>-0.478735</td>\n",
              "      <td>-0.743123</td>\n",
              "      <td>-0.627660</td>\n",
              "      <td>-0.405334</td>\n",
              "      <td>0.710905</td>\n",
              "      <td>0.003597</td>\n",
              "      <td>-0.271783</td>\n",
              "      <td>1.347035</td>\n",
              "      <td>-1.150021</td>\n",
              "      <td>-0.124803</td>\n",
              "      <td>-1.309337</td>\n",
              "      <td>-0.33356</td>\n",
              "      <td>-0.421381</td>\n",
              "    </tr>\n",
              "    <tr>\n",
              "      <th>...</th>\n",
              "      <td>...</td>\n",
              "      <td>...</td>\n",
              "      <td>...</td>\n",
              "      <td>...</td>\n",
              "      <td>...</td>\n",
              "      <td>...</td>\n",
              "      <td>...</td>\n",
              "      <td>...</td>\n",
              "      <td>...</td>\n",
              "      <td>...</td>\n",
              "      <td>...</td>\n",
              "      <td>...</td>\n",
              "      <td>...</td>\n",
              "      <td>...</td>\n",
              "      <td>...</td>\n",
              "    </tr>\n",
              "    <tr>\n",
              "      <th>5797</th>\n",
              "      <td>0.122148</td>\n",
              "      <td>0.122241</td>\n",
              "      <td>0.181262</td>\n",
              "      <td>0.034873</td>\n",
              "      <td>-0.374262</td>\n",
              "      <td>0.105345</td>\n",
              "      <td>0.710905</td>\n",
              "      <td>1.394749</td>\n",
              "      <td>-0.271783</td>\n",
              "      <td>1.347035</td>\n",
              "      <td>0.723202</td>\n",
              "      <td>-0.124803</td>\n",
              "      <td>0.460235</td>\n",
              "      <td>-0.33356</td>\n",
              "      <td>2.372738</td>\n",
              "    </tr>\n",
              "    <tr>\n",
              "      <th>5798</th>\n",
              "      <td>0.153405</td>\n",
              "      <td>0.153500</td>\n",
              "      <td>1.172381</td>\n",
              "      <td>0.368300</td>\n",
              "      <td>-0.577886</td>\n",
              "      <td>-0.599614</td>\n",
              "      <td>0.710905</td>\n",
              "      <td>-0.691980</td>\n",
              "      <td>-0.271783</td>\n",
              "      <td>-0.568528</td>\n",
              "      <td>0.723202</td>\n",
              "      <td>-0.124803</td>\n",
              "      <td>0.460235</td>\n",
              "      <td>-0.33356</td>\n",
              "      <td>-0.421381</td>\n",
              "    </tr>\n",
              "    <tr>\n",
              "      <th>5799</th>\n",
              "      <td>0.139289</td>\n",
              "      <td>0.139073</td>\n",
              "      <td>0.344576</td>\n",
              "      <td>1.396366</td>\n",
              "      <td>-0.503224</td>\n",
              "      <td>0.031334</td>\n",
              "      <td>0.710905</td>\n",
              "      <td>0.003597</td>\n",
              "      <td>-0.271783</td>\n",
              "      <td>-0.568528</td>\n",
              "      <td>0.723202</td>\n",
              "      <td>-0.124803</td>\n",
              "      <td>0.460235</td>\n",
              "      <td>-0.33356</td>\n",
              "      <td>-0.421381</td>\n",
              "    </tr>\n",
              "    <tr>\n",
              "      <th>5800</th>\n",
              "      <td>-0.846823</td>\n",
              "      <td>-0.846781</td>\n",
              "      <td>0.229207</td>\n",
              "      <td>0.257158</td>\n",
              "      <td>-1.046220</td>\n",
              "      <td>-1.215759</td>\n",
              "      <td>-1.536872</td>\n",
              "      <td>-1.387556</td>\n",
              "      <td>-1.452969</td>\n",
              "      <td>-0.568528</td>\n",
              "      <td>-1.150021</td>\n",
              "      <td>-0.124803</td>\n",
              "      <td>-1.309337</td>\n",
              "      <td>-0.33356</td>\n",
              "      <td>-0.421381</td>\n",
              "    </tr>\n",
              "    <tr>\n",
              "      <th>5801</th>\n",
              "      <td>0.553697</td>\n",
              "      <td>0.553452</td>\n",
              "      <td>0.422487</td>\n",
              "      <td>0.368300</td>\n",
              "      <td>-0.469287</td>\n",
              "      <td>-0.105587</td>\n",
              "      <td>0.710905</td>\n",
              "      <td>0.003597</td>\n",
              "      <td>-0.271783</td>\n",
              "      <td>-0.568528</td>\n",
              "      <td>0.723202</td>\n",
              "      <td>-0.124803</td>\n",
              "      <td>0.460235</td>\n",
              "      <td>-0.33356</td>\n",
              "      <td>-0.421381</td>\n",
              "    </tr>\n",
              "  </tbody>\n",
              "</table>\n",
              "<p>5802 rows × 15 columns</p>\n",
              "</div>"
            ],
            "text/plain": [
              "      TOTAL_VALUE       TAX  LOT_SQFT  ...  FIREPLACE  REMODEL_Old  REMODEL_Recent\n",
              "0       -0.488879 -0.488507  1.381019  ...  -1.309337     -0.33356       -0.421381\n",
              "1        0.200795  0.200789  0.116835  ...  -1.309337     -0.33356        2.372738\n",
              "2       -0.631048 -0.631176  0.457697  ...  -1.309337     -0.33356       -0.421381\n",
              "3        1.067927  1.068020  2.807392  ...   0.460235     -0.33356       -0.421381\n",
              "4       -0.616932 -0.616749 -0.478735  ...  -1.309337     -0.33356       -0.421381\n",
              "...           ...       ...       ...  ...        ...          ...             ...\n",
              "5797     0.122148  0.122241  0.181262  ...   0.460235     -0.33356        2.372738\n",
              "5798     0.153405  0.153500  1.172381  ...   0.460235     -0.33356       -0.421381\n",
              "5799     0.139289  0.139073  0.344576  ...   0.460235     -0.33356       -0.421381\n",
              "5800    -0.846823 -0.846781  0.229207  ...  -1.309337     -0.33356       -0.421381\n",
              "5801     0.553697  0.553452  0.422487  ...   0.460235     -0.33356       -0.421381\n",
              "\n",
              "[5802 rows x 15 columns]"
            ]
          },
          "metadata": {},
          "execution_count": 32
        }
      ]
    },
    {
      "cell_type": "code",
      "metadata": {
        "colab": {
          "base_uri": "https://localhost:8080/",
          "height": 423
        },
        "id": "aouOk2x_BK0_",
        "outputId": "35b0e1bd-b837-4ca9-8df6-e987b8af20b6"
      },
      "source": [
        "# 데이터 Min Max Scaling (변수를[0,1]의 스케일로 바꾸어 주는 방법)\n",
        "rescaled_df = (housing_df - housing_df.min()) / (housing_df.max() - housing_df.min())\n",
        "rescaled_df"
      ],
      "execution_count": 33,
      "outputs": [
        {
          "output_type": "execute_result",
          "data": {
            "text/html": [
              "<div>\n",
              "<style scoped>\n",
              "    .dataframe tbody tr th:only-of-type {\n",
              "        vertical-align: middle;\n",
              "    }\n",
              "\n",
              "    .dataframe tbody tr th {\n",
              "        vertical-align: top;\n",
              "    }\n",
              "\n",
              "    .dataframe thead th {\n",
              "        text-align: right;\n",
              "    }\n",
              "</style>\n",
              "<table border=\"1\" class=\"dataframe\">\n",
              "  <thead>\n",
              "    <tr style=\"text-align: right;\">\n",
              "      <th></th>\n",
              "      <th>TOTAL_VALUE</th>\n",
              "      <th>TAX</th>\n",
              "      <th>LOT_SQFT</th>\n",
              "      <th>YR_BUILT</th>\n",
              "      <th>GROSS_AREA</th>\n",
              "      <th>LIVING_AREA</th>\n",
              "      <th>FLOORS</th>\n",
              "      <th>ROOMS</th>\n",
              "      <th>BEDROOMS</th>\n",
              "      <th>FULL_BATH</th>\n",
              "      <th>HALF_BATH</th>\n",
              "      <th>KITCHEN</th>\n",
              "      <th>FIREPLACE</th>\n",
              "      <th>REMODEL_Old</th>\n",
              "      <th>REMODEL_Recent</th>\n",
              "    </tr>\n",
              "  </thead>\n",
              "  <tbody>\n",
              "    <tr>\n",
              "      <th>0</th>\n",
              "      <td>0.214953</td>\n",
              "      <td>0.215015</td>\n",
              "      <td>0.197472</td>\n",
              "      <td>0.934858</td>\n",
              "      <td>0.220237</td>\n",
              "      <td>0.177220</td>\n",
              "      <td>0.5</td>\n",
              "      <td>0.272727</td>\n",
              "      <td>0.250</td>\n",
              "      <td>0.00</td>\n",
              "      <td>0.333333</td>\n",
              "      <td>0.0</td>\n",
              "      <td>0.00</td>\n",
              "      <td>0.0</td>\n",
              "      <td>0.0</td>\n",
              "    </tr>\n",
              "    <tr>\n",
              "      <th>1</th>\n",
              "      <td>0.276420</td>\n",
              "      <td>0.276448</td>\n",
              "      <td>0.123156</td>\n",
              "      <td>0.967181</td>\n",
              "      <td>0.311878</td>\n",
              "      <td>0.307628</td>\n",
              "      <td>0.5</td>\n",
              "      <td>0.636364</td>\n",
              "      <td>0.375</td>\n",
              "      <td>0.25</td>\n",
              "      <td>0.333333</td>\n",
              "      <td>0.0</td>\n",
              "      <td>0.00</td>\n",
              "      <td>0.0</td>\n",
              "      <td>1.0</td>\n",
              "    </tr>\n",
              "    <tr>\n",
              "      <th>2</th>\n",
              "      <td>0.202283</td>\n",
              "      <td>0.202300</td>\n",
              "      <td>0.143194</td>\n",
              "      <td>0.939831</td>\n",
              "      <td>0.200873</td>\n",
              "      <td>0.181191</td>\n",
              "      <td>0.5</td>\n",
              "      <td>0.454545</td>\n",
              "      <td>0.375</td>\n",
              "      <td>0.00</td>\n",
              "      <td>0.333333</td>\n",
              "      <td>0.0</td>\n",
              "      <td>0.00</td>\n",
              "      <td>0.0</td>\n",
              "      <td>0.0</td>\n",
              "    </tr>\n",
              "    <tr>\n",
              "      <th>3</th>\n",
              "      <td>0.353702</td>\n",
              "      <td>0.353740</td>\n",
              "      <td>0.281323</td>\n",
              "      <td>0.973148</td>\n",
              "      <td>0.574253</td>\n",
              "      <td>0.439707</td>\n",
              "      <td>0.0</td>\n",
              "      <td>0.545455</td>\n",
              "      <td>0.500</td>\n",
              "      <td>0.00</td>\n",
              "      <td>0.333333</td>\n",
              "      <td>0.0</td>\n",
              "      <td>0.25</td>\n",
              "      <td>0.0</td>\n",
              "      <td>0.0</td>\n",
              "    </tr>\n",
              "    <tr>\n",
              "      <th>4</th>\n",
              "      <td>0.203541</td>\n",
              "      <td>0.203586</td>\n",
              "      <td>0.088145</td>\n",
              "      <td>0.949776</td>\n",
              "      <td>0.211237</td>\n",
              "      <td>0.195193</td>\n",
              "      <td>0.5</td>\n",
              "      <td>0.363636</td>\n",
              "      <td>0.250</td>\n",
              "      <td>0.25</td>\n",
              "      <td>0.000000</td>\n",
              "      <td>0.0</td>\n",
              "      <td>0.00</td>\n",
              "      <td>0.0</td>\n",
              "      <td>0.0</td>\n",
              "    </tr>\n",
              "    <tr>\n",
              "      <th>...</th>\n",
              "      <td>...</td>\n",
              "      <td>...</td>\n",
              "      <td>...</td>\n",
              "      <td>...</td>\n",
              "      <td>...</td>\n",
              "      <td>...</td>\n",
              "      <td>...</td>\n",
              "      <td>...</td>\n",
              "      <td>...</td>\n",
              "      <td>...</td>\n",
              "      <td>...</td>\n",
              "      <td>...</td>\n",
              "      <td>...</td>\n",
              "      <td>...</td>\n",
              "      <td>...</td>\n",
              "    </tr>\n",
              "    <tr>\n",
              "      <th>5797</th>\n",
              "      <td>0.269410</td>\n",
              "      <td>0.269448</td>\n",
              "      <td>0.126943</td>\n",
              "      <td>0.963700</td>\n",
              "      <td>0.241784</td>\n",
              "      <td>0.252874</td>\n",
              "      <td>0.5</td>\n",
              "      <td>0.545455</td>\n",
              "      <td>0.250</td>\n",
              "      <td>0.25</td>\n",
              "      <td>0.333333</td>\n",
              "      <td>0.0</td>\n",
              "      <td>0.25</td>\n",
              "      <td>0.0</td>\n",
              "      <td>1.0</td>\n",
              "    </tr>\n",
              "    <tr>\n",
              "      <th>5798</th>\n",
              "      <td>0.272196</td>\n",
              "      <td>0.272234</td>\n",
              "      <td>0.185207</td>\n",
              "      <td>0.969667</td>\n",
              "      <td>0.217237</td>\n",
              "      <td>0.173250</td>\n",
              "      <td>0.5</td>\n",
              "      <td>0.272727</td>\n",
              "      <td>0.250</td>\n",
              "      <td>0.00</td>\n",
              "      <td>0.333333</td>\n",
              "      <td>0.0</td>\n",
              "      <td>0.25</td>\n",
              "      <td>0.0</td>\n",
              "      <td>0.0</td>\n",
              "    </tr>\n",
              "    <tr>\n",
              "      <th>5799</th>\n",
              "      <td>0.270938</td>\n",
              "      <td>0.270948</td>\n",
              "      <td>0.136544</td>\n",
              "      <td>0.988066</td>\n",
              "      <td>0.226238</td>\n",
              "      <td>0.244514</td>\n",
              "      <td>0.5</td>\n",
              "      <td>0.363636</td>\n",
              "      <td>0.250</td>\n",
              "      <td>0.00</td>\n",
              "      <td>0.333333</td>\n",
              "      <td>0.0</td>\n",
              "      <td>0.25</td>\n",
              "      <td>0.0</td>\n",
              "      <td>0.0</td>\n",
              "    </tr>\n",
              "    <tr>\n",
              "      <th>5800</th>\n",
              "      <td>0.183052</td>\n",
              "      <td>0.183085</td>\n",
              "      <td>0.129762</td>\n",
              "      <td>0.967678</td>\n",
              "      <td>0.160780</td>\n",
              "      <td>0.103657</td>\n",
              "      <td>0.0</td>\n",
              "      <td>0.181818</td>\n",
              "      <td>0.125</td>\n",
              "      <td>0.00</td>\n",
              "      <td>0.000000</td>\n",
              "      <td>0.0</td>\n",
              "      <td>0.00</td>\n",
              "      <td>0.0</td>\n",
              "      <td>0.0</td>\n",
              "    </tr>\n",
              "    <tr>\n",
              "      <th>5801</th>\n",
              "      <td>0.307872</td>\n",
              "      <td>0.307879</td>\n",
              "      <td>0.141124</td>\n",
              "      <td>0.969667</td>\n",
              "      <td>0.230329</td>\n",
              "      <td>0.229049</td>\n",
              "      <td>0.5</td>\n",
              "      <td>0.363636</td>\n",
              "      <td>0.250</td>\n",
              "      <td>0.00</td>\n",
              "      <td>0.333333</td>\n",
              "      <td>0.0</td>\n",
              "      <td>0.25</td>\n",
              "      <td>0.0</td>\n",
              "      <td>0.0</td>\n",
              "    </tr>\n",
              "  </tbody>\n",
              "</table>\n",
              "<p>5802 rows × 15 columns</p>\n",
              "</div>"
            ],
            "text/plain": [
              "      TOTAL_VALUE       TAX  LOT_SQFT  ...  FIREPLACE  REMODEL_Old  REMODEL_Recent\n",
              "0        0.214953  0.215015  0.197472  ...       0.00          0.0             0.0\n",
              "1        0.276420  0.276448  0.123156  ...       0.00          0.0             1.0\n",
              "2        0.202283  0.202300  0.143194  ...       0.00          0.0             0.0\n",
              "3        0.353702  0.353740  0.281323  ...       0.25          0.0             0.0\n",
              "4        0.203541  0.203586  0.088145  ...       0.00          0.0             0.0\n",
              "...           ...       ...       ...  ...        ...          ...             ...\n",
              "5797     0.269410  0.269448  0.126943  ...       0.25          0.0             1.0\n",
              "5798     0.272196  0.272234  0.185207  ...       0.25          0.0             0.0\n",
              "5799     0.270938  0.270948  0.136544  ...       0.25          0.0             0.0\n",
              "5800     0.183052  0.183085  0.129762  ...       0.00          0.0             0.0\n",
              "5801     0.307872  0.307879  0.141124  ...       0.25          0.0             0.0\n",
              "\n",
              "[5802 rows x 15 columns]"
            ]
          },
          "metadata": {},
          "execution_count": 33
        }
      ]
    },
    {
      "cell_type": "markdown",
      "metadata": {
        "id": "3OGR6yTm_9xn"
      },
      "source": [
        "\n",
        "\n",
        "---\n",
        "\n"
      ]
    },
    {
      "cell_type": "markdown",
      "metadata": {
        "id": "ov4cnG0BufF3"
      },
      "source": [
        "### **데이터 분할**"
      ]
    },
    {
      "cell_type": "code",
      "metadata": {
        "id": "wmdFXdhpCCF2"
      },
      "source": [
        "# 학습데이터(60%), 검증데이터(40%) 생성하기\n",
        "# trainData는 housing_df에서 랜덤하게 60% 떼오는거고\n",
        "trainData= housing_df.sample(frac=0.6, random_state=1)\n",
        "# validData는 housing_df에서 trainData를 뺀 나머지\n",
        "validData = housing_df.drop(trainData.index)"
      ],
      "execution_count": 36,
      "outputs": []
    },
    {
      "cell_type": "code",
      "metadata": {
        "colab": {
          "base_uri": "https://localhost:8080/"
        },
        "id": "aFLjXDWjCSBO",
        "outputId": "a9dc5507-70ab-44d8-915d-41767c650e1d"
      },
      "source": [
        "#학습데이터셋 관측치수 확인\n",
        "trainData.count()"
      ],
      "execution_count": 37,
      "outputs": [
        {
          "output_type": "execute_result",
          "data": {
            "text/plain": [
              "TOTAL_VALUE       3481\n",
              "TAX               3481\n",
              "LOT_SQFT          3481\n",
              "YR_BUILT          3481\n",
              "GROSS_AREA        3481\n",
              "LIVING_AREA       3481\n",
              "FLOORS            3481\n",
              "ROOMS             3481\n",
              "BEDROOMS          3481\n",
              "FULL_BATH         3481\n",
              "HALF_BATH         3481\n",
              "KITCHEN           3481\n",
              "FIREPLACE         3481\n",
              "REMODEL_Old       3481\n",
              "REMODEL_Recent    3481\n",
              "dtype: int64"
            ]
          },
          "metadata": {},
          "execution_count": 37
        }
      ]
    },
    {
      "cell_type": "code",
      "metadata": {
        "colab": {
          "base_uri": "https://localhost:8080/"
        },
        "id": "pY0taKUuCRp2",
        "outputId": "2097c7e1-2489-4b2b-8462-20e182653f5d"
      },
      "source": [
        "#검증데이터셋 관측치수 확인\n",
        "validData.count()"
      ],
      "execution_count": 38,
      "outputs": [
        {
          "output_type": "execute_result",
          "data": {
            "text/plain": [
              "TOTAL_VALUE       2321\n",
              "TAX               2321\n",
              "LOT_SQFT          2321\n",
              "YR_BUILT          2321\n",
              "GROSS_AREA        2321\n",
              "LIVING_AREA       2321\n",
              "FLOORS            2321\n",
              "ROOMS             2321\n",
              "BEDROOMS          2321\n",
              "FULL_BATH         2321\n",
              "HALF_BATH         2321\n",
              "KITCHEN           2321\n",
              "FIREPLACE         2321\n",
              "REMODEL_Old       2321\n",
              "REMODEL_Recent    2321\n",
              "dtype: int64"
            ]
          },
          "metadata": {},
          "execution_count": 38
        }
      ]
    },
    {
      "cell_type": "code",
      "metadata": {
        "id": "hZMDzdm0BKrH"
      },
      "source": [
        "# 학습데이터(50%), 검증데이터(30%), 평가데이터(20%) 생성하기\n",
        "trainData = housing_df.sample(frac=0.5, random_state=1)\n",
        "# trainData를 뺀 나머지에서 30%\n",
        "validData = housing_df.drop(trainData.index).sample(frac=0.6, random_state=1)  \n",
        "# trainData와 validData를 모두 뺀 것들\n",
        "testData = housing_df.drop(trainData.index).drop(validData.index)"
      ],
      "execution_count": 40,
      "outputs": []
    },
    {
      "cell_type": "markdown",
      "metadata": {
        "id": "yxaiRnjbFdal"
      },
      "source": [
        "# **10.2 데이터마이닝에서 시각화는 왜 중요한가?**"
      ]
    },
    {
      "cell_type": "markdown",
      "metadata": {
        "id": "1KmzOYk0jCju"
      },
      "source": [
        "## **10.2.1 데이터 시각화 용도**"
      ]
    },
    {
      "cell_type": "markdown",
      "metadata": {
        "id": "Yy839c2gjHbu"
      },
      "source": [
        "*  \"한 장의 사진은 천 마디 말보다 낫다\"\n",
        "> * 복잡한 언어 정보를 간결하고 이해하기 쉬운 이미지로 압축하는 능력을 의미함\n",
        "*  숫자의 경우 데이터 시각화나 집계표를 만들면 데이터를 탐색하기 매우 용이함\n",
        "*  결과를 효과적으로 전달함\n",
        "*  시각화는 주로 데이터마이닝의 전처리 단계에 사용함\n",
        "*  시각화는 틀린 수치들, 결측치, 중복 행, 중복 열을 등을 찾아 줌으로 써 데이터 정제를 도와줌\n",
        "*  시각화는 변수 도출과 선택에도 유용함 (어떤 변수들을 분석에 포함할지 어떤 변수가 불필요한지 결정하는 데 도움을 줌)\n",
        "*  구간의 크기가 적당한지, 수치형 변수들의 구간화가 필요한지 여부를 결정하는데 유용함"
      ]
    },
    {
      "cell_type": "markdown",
      "metadata": {
        "id": "Bl9QoyKijJ-u"
      },
      "source": [
        "## **10.2.2 기본 차트: 막대차트, 선 그래프, 산점도 (2차원)**"
      ]
    },
    {
      "cell_type": "markdown",
      "metadata": {
        "id": "1UetvPWTjLmX"
      },
      "source": [
        "*  가장 유용한 차트\n",
        "*  동시에 하나 또는 두개의 데이터 열을 표시하여 데이터 탐색을 도움\n",
        "*  데이터분석 초기 단계에서 데이터의 구조, 변수의 양과 유형, 결측값의 크기와 유형 등을 파악하는 데 유용함\n",
        "*  지도학습 : 결과변수 중심으로 표현. 보통 결과변수가 y축에 할당\n",
        "*  비지도학습 : 데이터 간의 관계(군집화)를 보여주는 기본 차트(산점도)들이 선호됨"
      ]
    },
    {
      "cell_type": "code",
      "metadata": {
        "id": "Txibsm7JFgYo"
      },
      "source": [
        "#패키지 로드\n",
        "%matplotlib inline\n",
        "import os\n",
        "import calendar\n",
        "from pathlib import Path\n",
        "import numpy as np\n",
        "import pandas as pd\n",
        "from pandas.plotting import scatter_matrix, parallel_coordinates\n",
        "import seaborn as sns\n",
        "from sklearn import preprocessing\n",
        "import matplotlib.pyplot as plt"
      ],
      "execution_count": 41,
      "outputs": []
    },
    {
      "cell_type": "markdown",
      "metadata": {
        "id": "Yo-N7HZFwYL2"
      },
      "source": [
        "**보스턴 주택 데이터**\n",
        "> *  CRIM : 범죄율\n",
        "> *  ZN : 25,000평방피트 기준 거주지 비율\n",
        "> *  INDUS : 비소매업종 점유 구역 비율\n",
        "> *  CHAS : 찰스강 인접 여부(1=인접, 0=비인접)\n",
        "> *  NOX : 일산화 질소 농도(천만 개당)\n",
        "> *  RM : 거주지의 평균 방 개수\n",
        "> *  AGE : 1940년 이전에 건축된 주택에 사는 비율\n",
        "> *  DIS : 보스턴 5대 사업지구와의 거리\n",
        "> *  RAD : 고속도로 진입용이성 정도\n",
        "> *  TAX : 재산세율(10,000달러당)\n",
        "> *  PTRATIO : 학생 대 교사 비율\n",
        "> *  LSTAT : 저소득층 비율\n",
        "> *  (반응)MEDV : 주택가격의 중앙값(단위: 1,000달러)\n",
        "> *  (반응)CAT_MEDV : 주택가격의 중앙값이 3만 달러 이상 여부(1=이상, 0=이하)\n"
      ]
    },
    {
      "cell_type": "code",
      "metadata": {
        "colab": {
          "base_uri": "https://localhost:8080/",
          "height": 108
        },
        "id": "mXrljsP2F4g0",
        "outputId": "50897b69-d727-439b-8d9c-add89c30f663"
      },
      "source": [
        "#보스턴 주택 데이터\n",
        "import gdown\n",
        "\n",
        "url = 'https://drive.google.com/uc?id=1_FlDFZ4EzJ7dV28HVNE3_Q-YI-2PnvrK'\n",
        "output = 'BostonHousing.csv'\n",
        "gdown.download(url, output, quiet=False)"
      ],
      "execution_count": 42,
      "outputs": [
        {
          "output_type": "stream",
          "name": "stderr",
          "text": [
            "Downloading...\n",
            "From: https://drive.google.com/uc?id=1_FlDFZ4EzJ7dV28HVNE3_Q-YI-2PnvrK\n",
            "To: /content/BostonHousing.csv\n",
            "100%|██████████| 32.9k/32.9k [00:00<00:00, 35.3MB/s]\n"
          ]
        },
        {
          "output_type": "execute_result",
          "data": {
            "application/vnd.google.colaboratory.intrinsic+json": {
              "type": "string"
            },
            "text/plain": [
              "'BostonHousing.csv'"
            ]
          },
          "metadata": {},
          "execution_count": 42
        }
      ]
    },
    {
      "cell_type": "code",
      "metadata": {
        "id": "eFfwDVd2yctt"
      },
      "source": [
        "#보스턴 주택 데이터 불러오기\n",
        "housing_df = pd.read_csv('BostonHousing.csv')"
      ],
      "execution_count": 43,
      "outputs": []
    },
    {
      "cell_type": "code",
      "metadata": {
        "colab": {
          "base_uri": "https://localhost:8080/",
          "height": 331
        },
        "id": "cSLD4mueFz3Y",
        "outputId": "5d303b27-59ac-4fc5-c742-ad120ff35a32"
      },
      "source": [
        "#공백이 있는 변수명 변경하기\n",
        "housing_df = housing_df.rename(columns={'CAT. MEDV': 'CAT_MEDV'})\n",
        "housing_df.head(9)"
      ],
      "execution_count": 44,
      "outputs": [
        {
          "output_type": "execute_result",
          "data": {
            "text/html": [
              "<div>\n",
              "<style scoped>\n",
              "    .dataframe tbody tr th:only-of-type {\n",
              "        vertical-align: middle;\n",
              "    }\n",
              "\n",
              "    .dataframe tbody tr th {\n",
              "        vertical-align: top;\n",
              "    }\n",
              "\n",
              "    .dataframe thead th {\n",
              "        text-align: right;\n",
              "    }\n",
              "</style>\n",
              "<table border=\"1\" class=\"dataframe\">\n",
              "  <thead>\n",
              "    <tr style=\"text-align: right;\">\n",
              "      <th></th>\n",
              "      <th>CRIM</th>\n",
              "      <th>ZN</th>\n",
              "      <th>INDUS</th>\n",
              "      <th>CHAS</th>\n",
              "      <th>NOX</th>\n",
              "      <th>RM</th>\n",
              "      <th>AGE</th>\n",
              "      <th>DIS</th>\n",
              "      <th>RAD</th>\n",
              "      <th>TAX</th>\n",
              "      <th>PTRATIO</th>\n",
              "      <th>LSTAT</th>\n",
              "      <th>MEDV</th>\n",
              "      <th>CAT_MEDV</th>\n",
              "    </tr>\n",
              "  </thead>\n",
              "  <tbody>\n",
              "    <tr>\n",
              "      <th>0</th>\n",
              "      <td>0.00632</td>\n",
              "      <td>18.0</td>\n",
              "      <td>2.31</td>\n",
              "      <td>0</td>\n",
              "      <td>0.538</td>\n",
              "      <td>6.575</td>\n",
              "      <td>65.2</td>\n",
              "      <td>4.0900</td>\n",
              "      <td>1</td>\n",
              "      <td>296</td>\n",
              "      <td>15.3</td>\n",
              "      <td>4.98</td>\n",
              "      <td>24.0</td>\n",
              "      <td>0</td>\n",
              "    </tr>\n",
              "    <tr>\n",
              "      <th>1</th>\n",
              "      <td>0.02731</td>\n",
              "      <td>0.0</td>\n",
              "      <td>7.07</td>\n",
              "      <td>0</td>\n",
              "      <td>0.469</td>\n",
              "      <td>6.421</td>\n",
              "      <td>78.9</td>\n",
              "      <td>4.9671</td>\n",
              "      <td>2</td>\n",
              "      <td>242</td>\n",
              "      <td>17.8</td>\n",
              "      <td>9.14</td>\n",
              "      <td>21.6</td>\n",
              "      <td>0</td>\n",
              "    </tr>\n",
              "    <tr>\n",
              "      <th>2</th>\n",
              "      <td>0.02729</td>\n",
              "      <td>0.0</td>\n",
              "      <td>7.07</td>\n",
              "      <td>0</td>\n",
              "      <td>0.469</td>\n",
              "      <td>7.185</td>\n",
              "      <td>61.1</td>\n",
              "      <td>4.9671</td>\n",
              "      <td>2</td>\n",
              "      <td>242</td>\n",
              "      <td>17.8</td>\n",
              "      <td>4.03</td>\n",
              "      <td>34.7</td>\n",
              "      <td>1</td>\n",
              "    </tr>\n",
              "    <tr>\n",
              "      <th>3</th>\n",
              "      <td>0.03237</td>\n",
              "      <td>0.0</td>\n",
              "      <td>2.18</td>\n",
              "      <td>0</td>\n",
              "      <td>0.458</td>\n",
              "      <td>6.998</td>\n",
              "      <td>45.8</td>\n",
              "      <td>6.0622</td>\n",
              "      <td>3</td>\n",
              "      <td>222</td>\n",
              "      <td>18.7</td>\n",
              "      <td>2.94</td>\n",
              "      <td>33.4</td>\n",
              "      <td>1</td>\n",
              "    </tr>\n",
              "    <tr>\n",
              "      <th>4</th>\n",
              "      <td>0.06905</td>\n",
              "      <td>0.0</td>\n",
              "      <td>2.18</td>\n",
              "      <td>0</td>\n",
              "      <td>0.458</td>\n",
              "      <td>7.147</td>\n",
              "      <td>54.2</td>\n",
              "      <td>6.0622</td>\n",
              "      <td>3</td>\n",
              "      <td>222</td>\n",
              "      <td>18.7</td>\n",
              "      <td>5.33</td>\n",
              "      <td>36.2</td>\n",
              "      <td>1</td>\n",
              "    </tr>\n",
              "    <tr>\n",
              "      <th>5</th>\n",
              "      <td>0.02985</td>\n",
              "      <td>0.0</td>\n",
              "      <td>2.18</td>\n",
              "      <td>0</td>\n",
              "      <td>0.458</td>\n",
              "      <td>6.430</td>\n",
              "      <td>58.7</td>\n",
              "      <td>6.0622</td>\n",
              "      <td>3</td>\n",
              "      <td>222</td>\n",
              "      <td>18.7</td>\n",
              "      <td>5.21</td>\n",
              "      <td>28.7</td>\n",
              "      <td>0</td>\n",
              "    </tr>\n",
              "    <tr>\n",
              "      <th>6</th>\n",
              "      <td>0.08829</td>\n",
              "      <td>12.5</td>\n",
              "      <td>7.87</td>\n",
              "      <td>0</td>\n",
              "      <td>0.524</td>\n",
              "      <td>6.012</td>\n",
              "      <td>66.6</td>\n",
              "      <td>5.5605</td>\n",
              "      <td>5</td>\n",
              "      <td>311</td>\n",
              "      <td>15.2</td>\n",
              "      <td>12.43</td>\n",
              "      <td>22.9</td>\n",
              "      <td>0</td>\n",
              "    </tr>\n",
              "    <tr>\n",
              "      <th>7</th>\n",
              "      <td>0.14455</td>\n",
              "      <td>12.5</td>\n",
              "      <td>7.87</td>\n",
              "      <td>0</td>\n",
              "      <td>0.524</td>\n",
              "      <td>6.172</td>\n",
              "      <td>96.1</td>\n",
              "      <td>5.9505</td>\n",
              "      <td>5</td>\n",
              "      <td>311</td>\n",
              "      <td>15.2</td>\n",
              "      <td>19.15</td>\n",
              "      <td>27.1</td>\n",
              "      <td>0</td>\n",
              "    </tr>\n",
              "    <tr>\n",
              "      <th>8</th>\n",
              "      <td>0.21124</td>\n",
              "      <td>12.5</td>\n",
              "      <td>7.87</td>\n",
              "      <td>0</td>\n",
              "      <td>0.524</td>\n",
              "      <td>5.631</td>\n",
              "      <td>100.0</td>\n",
              "      <td>6.0821</td>\n",
              "      <td>5</td>\n",
              "      <td>311</td>\n",
              "      <td>15.2</td>\n",
              "      <td>29.93</td>\n",
              "      <td>16.5</td>\n",
              "      <td>0</td>\n",
              "    </tr>\n",
              "  </tbody>\n",
              "</table>\n",
              "</div>"
            ],
            "text/plain": [
              "      CRIM    ZN  INDUS  CHAS    NOX  ...  TAX  PTRATIO  LSTAT  MEDV  CAT_MEDV\n",
              "0  0.00632  18.0   2.31     0  0.538  ...  296     15.3   4.98  24.0         0\n",
              "1  0.02731   0.0   7.07     0  0.469  ...  242     17.8   9.14  21.6         0\n",
              "2  0.02729   0.0   7.07     0  0.469  ...  242     17.8   4.03  34.7         1\n",
              "3  0.03237   0.0   2.18     0  0.458  ...  222     18.7   2.94  33.4         1\n",
              "4  0.06905   0.0   2.18     0  0.458  ...  222     18.7   5.33  36.2         1\n",
              "5  0.02985   0.0   2.18     0  0.458  ...  222     18.7   5.21  28.7         0\n",
              "6  0.08829  12.5   7.87     0  0.524  ...  311     15.2  12.43  22.9         0\n",
              "7  0.14455  12.5   7.87     0  0.524  ...  311     15.2  19.15  27.1         0\n",
              "8  0.21124  12.5   7.87     0  0.524  ...  311     15.2  29.93  16.5         0\n",
              "\n",
              "[9 rows x 14 columns]"
            ]
          },
          "metadata": {},
          "execution_count": 44
        }
      ]
    },
    {
      "cell_type": "markdown",
      "metadata": {
        "id": "MHvVjDYeKLGp"
      },
      "source": [
        "### **선차트(시간에 따른 변화)**"
      ]
    },
    {
      "cell_type": "markdown",
      "metadata": {
        "id": "xKKIyb8sjasH"
      },
      "source": [
        "*  선그래프는 주로 시계열을 보여주기 위해 사용함\n",
        "*  차트를 그리기 위한 시간 프레임의 크기는 예측과제의 규모와 데이터의 속성에 따라 달라짐"
      ]
    },
    {
      "cell_type": "code",
      "metadata": {
        "colab": {
          "base_uri": "https://localhost:8080/",
          "height": 108
        },
        "id": "GXgR31YTGUa7",
        "outputId": "151659ff-a3f7-4f81-c95a-63c456a8587b"
      },
      "source": [
        "#앰트랙 기차 이용 승객 데이터\n",
        "import gdown\n",
        "\n",
        "url = 'https://drive.google.com/uc?id=1OtsyNsHPgJI2a0bDhL5pt83eOpYBkZa4'\n",
        "output = 'Amtrak.csv'\n",
        "gdown.download(url, output, quiet=False)"
      ],
      "execution_count": 45,
      "outputs": [
        {
          "output_type": "stream",
          "name": "stderr",
          "text": [
            "Downloading...\n",
            "From: https://drive.google.com/uc?id=1OtsyNsHPgJI2a0bDhL5pt83eOpYBkZa4\n",
            "To: /content/Amtrak.csv\n",
            "100%|██████████| 3.34k/3.34k [00:00<00:00, 7.52MB/s]\n"
          ]
        },
        {
          "output_type": "execute_result",
          "data": {
            "application/vnd.google.colaboratory.intrinsic+json": {
              "type": "string"
            },
            "text/plain": [
              "'Amtrak.csv'"
            ]
          },
          "metadata": {},
          "execution_count": 45
        }
      ]
    },
    {
      "cell_type": "code",
      "metadata": {
        "colab": {
          "base_uri": "https://localhost:8080/",
          "height": 423
        },
        "id": "01wHypA9G0Am",
        "outputId": "94507b0e-5055-4869-8f17-9829a0d4f036"
      },
      "source": [
        "#앰트랙 기차 이용 승객 데이터 불러오기\n",
        "Amtrak_df = pd.read_csv('Amtrak.csv')\n",
        "Amtrak_df"
      ],
      "execution_count": 46,
      "outputs": [
        {
          "output_type": "execute_result",
          "data": {
            "text/html": [
              "<div>\n",
              "<style scoped>\n",
              "    .dataframe tbody tr th:only-of-type {\n",
              "        vertical-align: middle;\n",
              "    }\n",
              "\n",
              "    .dataframe tbody tr th {\n",
              "        vertical-align: top;\n",
              "    }\n",
              "\n",
              "    .dataframe thead th {\n",
              "        text-align: right;\n",
              "    }\n",
              "</style>\n",
              "<table border=\"1\" class=\"dataframe\">\n",
              "  <thead>\n",
              "    <tr style=\"text-align: right;\">\n",
              "      <th></th>\n",
              "      <th>Month</th>\n",
              "      <th>Ridership</th>\n",
              "    </tr>\n",
              "  </thead>\n",
              "  <tbody>\n",
              "    <tr>\n",
              "      <th>0</th>\n",
              "      <td>01/01/1991</td>\n",
              "      <td>1708.917</td>\n",
              "    </tr>\n",
              "    <tr>\n",
              "      <th>1</th>\n",
              "      <td>01/02/1991</td>\n",
              "      <td>1620.586</td>\n",
              "    </tr>\n",
              "    <tr>\n",
              "      <th>2</th>\n",
              "      <td>01/03/1991</td>\n",
              "      <td>1972.715</td>\n",
              "    </tr>\n",
              "    <tr>\n",
              "      <th>3</th>\n",
              "      <td>01/04/1991</td>\n",
              "      <td>1811.665</td>\n",
              "    </tr>\n",
              "    <tr>\n",
              "      <th>4</th>\n",
              "      <td>01/05/1991</td>\n",
              "      <td>1974.964</td>\n",
              "    </tr>\n",
              "    <tr>\n",
              "      <th>...</th>\n",
              "      <td>...</td>\n",
              "      <td>...</td>\n",
              "    </tr>\n",
              "    <tr>\n",
              "      <th>154</th>\n",
              "      <td>01/11/2003</td>\n",
              "      <td>2076.054</td>\n",
              "    </tr>\n",
              "    <tr>\n",
              "      <th>155</th>\n",
              "      <td>01/12/2003</td>\n",
              "      <td>2140.677</td>\n",
              "    </tr>\n",
              "    <tr>\n",
              "      <th>156</th>\n",
              "      <td>01/01/2004</td>\n",
              "      <td>1831.508</td>\n",
              "    </tr>\n",
              "    <tr>\n",
              "      <th>157</th>\n",
              "      <td>01/02/2004</td>\n",
              "      <td>1838.006</td>\n",
              "    </tr>\n",
              "    <tr>\n",
              "      <th>158</th>\n",
              "      <td>01/03/2004</td>\n",
              "      <td>2132.446</td>\n",
              "    </tr>\n",
              "  </tbody>\n",
              "</table>\n",
              "<p>159 rows × 2 columns</p>\n",
              "</div>"
            ],
            "text/plain": [
              "          Month  Ridership\n",
              "0    01/01/1991   1708.917\n",
              "1    01/02/1991   1620.586\n",
              "2    01/03/1991   1972.715\n",
              "3    01/04/1991   1811.665\n",
              "4    01/05/1991   1974.964\n",
              "..          ...        ...\n",
              "154  01/11/2003   2076.054\n",
              "155  01/12/2003   2140.677\n",
              "156  01/01/2004   1831.508\n",
              "157  01/02/2004   1838.006\n",
              "158  01/03/2004   2132.446\n",
              "\n",
              "[159 rows x 2 columns]"
            ]
          },
          "metadata": {},
          "execution_count": 46
        }
      ]
    },
    {
      "cell_type": "code",
      "metadata": {
        "id": "1qCARo-dGz8j"
      },
      "source": [
        "#시계열 그래프 단위 설정을 위해서 pd.Series 생성\n",
        "Amtrak_df['Date'] = pd.to_datetime(Amtrak_df.Month, format='%d/%m/%Y')\n",
        "ridership_ts = pd.Series(Amtrak_df.Ridership.values, index=Amtrak_df.Date)"
      ],
      "execution_count": 47,
      "outputs": []
    },
    {
      "cell_type": "code",
      "metadata": {
        "colab": {
          "base_uri": "https://localhost:8080/",
          "height": 283
        },
        "id": "WDHzpMP2Gzzb",
        "outputId": "86cd96d3-9673-42b6-ba6c-ef62f238c7e6"
      },
      "source": [
        "# 선 그래프 그리기\n",
        "plt.plot(ridership_ts.index, ridership_ts)"
      ],
      "execution_count": 48,
      "outputs": [
        {
          "output_type": "execute_result",
          "data": {
            "text/plain": [
              "[<matplotlib.lines.Line2D at 0x7f41bd3a3c10>]"
            ]
          },
          "metadata": {},
          "execution_count": 48
        },
        {
          "output_type": "display_data",
          "data": {
            "image/png": "[encoded data removed]",
            "text/plain": [
              "<Figure size 432x288 with 1 Axes>"
            ]
          },
          "metadata": {
            "needs_background": "light"
          }
        }
      ]
    },
    {
      "cell_type": "markdown",
      "metadata": {
        "id": "KWb1rghcKGrS"
      },
      "source": [
        "### **산점도(수치형 변수 간의 관계)**"
      ]
    },
    {
      "cell_type": "markdown",
      "metadata": {
        "id": "_g0xkkDQjm_t"
      },
      "source": [
        "*  기본 산점도에서 두 변수는 수치형이어야 함\n",
        "*  비지도학습에 있어서 산점도는 두 가지 수치형 변수 간의 정보 중복이나 군집 발견과 같은 연관성을 밝히는 데 도움이 됨"
      ]
    },
    {
      "cell_type": "code",
      "metadata": {
        "colab": {
          "base_uri": "https://localhost:8080/",
          "height": 297
        },
        "id": "6iqjYuswGzqn",
        "outputId": "883eeaaa-d69b-475d-995f-209792c1e138"
      },
      "source": [
        "#보스턴 주택 데이터 LSTAT(저소득층 비율), MEDV(주택가격의 중앙값) 산점도 그리기\n",
        "housing_df.plot.scatter(x='LSTAT', y='MEDV', legend=False)"
      ],
      "execution_count": 49,
      "outputs": [
        {
          "output_type": "execute_result",
          "data": {
            "text/plain": [
              "<matplotlib.axes._subplots.AxesSubplot at 0x7f41bce93650>"
            ]
          },
          "metadata": {},
          "execution_count": 49
        },
        {
          "output_type": "display_data",
          "data": {
            "image/png": "[encoded data removed]",
            "text/plain": [
              "<Figure size 432x288 with 1 Axes>"
            ]
          },
          "metadata": {
            "needs_background": "light"
          }
        }
      ]
    },
    {
      "cell_type": "markdown",
      "metadata": {
        "id": "F9W67vDWKBAC"
      },
      "source": [
        "### **막대차트(하위집단 간의 차이점)**"
      ]
    },
    {
      "cell_type": "markdown",
      "metadata": {
        "id": "Xpzkl6SsjtVE"
      },
      "source": [
        "*  평균, 개수, 비율과 같은 단일 통계치를 그룹별로 비교하는 데 유용함\n",
        "*  막대의 높이는 통계값을 나타냄\n",
        "*  각 막대는 각 집단을 표시함"
      ]
    },
    {
      "cell_type": "code",
      "metadata": {
        "colab": {
          "base_uri": "https://localhost:8080/",
          "height": 143
        },
        "id": "vmODZ2VBJe96",
        "outputId": "b4236a29-6d36-4a10-cdbc-3d1e5ac278fc"
      },
      "source": [
        "# CHAS (찰스강 인접여부)별 변수 평균값 확인하기\n",
        "housing_df.groupby('CHAS').mean()"
      ],
      "execution_count": 50,
      "outputs": [
        {
          "output_type": "execute_result",
          "data": {
            "text/html": [
              "<div>\n",
              "<style scoped>\n",
              "    .dataframe tbody tr th:only-of-type {\n",
              "        vertical-align: middle;\n",
              "    }\n",
              "\n",
              "    .dataframe tbody tr th {\n",
              "        vertical-align: top;\n",
              "    }\n",
              "\n",
              "    .dataframe thead th {\n",
              "        text-align: right;\n",
              "    }\n",
              "</style>\n",
              "<table border=\"1\" class=\"dataframe\">\n",
              "  <thead>\n",
              "    <tr style=\"text-align: right;\">\n",
              "      <th></th>\n",
              "      <th>CRIM</th>\n",
              "      <th>ZN</th>\n",
              "      <th>INDUS</th>\n",
              "      <th>NOX</th>\n",
              "      <th>RM</th>\n",
              "      <th>AGE</th>\n",
              "      <th>DIS</th>\n",
              "      <th>RAD</th>\n",
              "      <th>TAX</th>\n",
              "      <th>PTRATIO</th>\n",
              "      <th>LSTAT</th>\n",
              "      <th>MEDV</th>\n",
              "      <th>CAT_MEDV</th>\n",
              "    </tr>\n",
              "    <tr>\n",
              "      <th>CHAS</th>\n",
              "      <th></th>\n",
              "      <th></th>\n",
              "      <th></th>\n",
              "      <th></th>\n",
              "      <th></th>\n",
              "      <th></th>\n",
              "      <th></th>\n",
              "      <th></th>\n",
              "      <th></th>\n",
              "      <th></th>\n",
              "      <th></th>\n",
              "      <th></th>\n",
              "      <th></th>\n",
              "    </tr>\n",
              "  </thead>\n",
              "  <tbody>\n",
              "    <tr>\n",
              "      <th>0</th>\n",
              "      <td>3.744447</td>\n",
              "      <td>11.634820</td>\n",
              "      <td>11.019193</td>\n",
              "      <td>0.551817</td>\n",
              "      <td>6.267174</td>\n",
              "      <td>67.911677</td>\n",
              "      <td>3.851915</td>\n",
              "      <td>9.566879</td>\n",
              "      <td>409.870488</td>\n",
              "      <td>18.527176</td>\n",
              "      <td>12.757941</td>\n",
              "      <td>22.093843</td>\n",
              "      <td>0.154989</td>\n",
              "    </tr>\n",
              "    <tr>\n",
              "      <th>1</th>\n",
              "      <td>1.851670</td>\n",
              "      <td>7.714286</td>\n",
              "      <td>12.719143</td>\n",
              "      <td>0.593426</td>\n",
              "      <td>6.519600</td>\n",
              "      <td>77.500000</td>\n",
              "      <td>3.029709</td>\n",
              "      <td>9.314286</td>\n",
              "      <td>386.257143</td>\n",
              "      <td>17.491429</td>\n",
              "      <td>11.241714</td>\n",
              "      <td>28.440000</td>\n",
              "      <td>0.314286</td>\n",
              "    </tr>\n",
              "  </tbody>\n",
              "</table>\n",
              "</div>"
            ],
            "text/plain": [
              "          CRIM         ZN      INDUS  ...      LSTAT       MEDV  CAT_MEDV\n",
              "CHAS                                  ...                                \n",
              "0     3.744447  11.634820  11.019193  ...  12.757941  22.093843  0.154989\n",
              "1     1.851670   7.714286  12.719143  ...  11.241714  28.440000  0.314286\n",
              "\n",
              "[2 rows x 13 columns]"
            ]
          },
          "metadata": {},
          "execution_count": 50
        }
      ]
    },
    {
      "cell_type": "code",
      "metadata": {
        "colab": {
          "base_uri": "https://localhost:8080/",
          "height": 294
        },
        "id": "zw9v6TOfGzh2",
        "outputId": "f9638d57-f611-4309-94c0-26a3a0b804fe"
      },
      "source": [
        "#CHAS(찰스강 인접여부)별 MEDV(주택가격의 중앙값) 그래프\n",
        "dataForPlot = housing_df.groupby('CHAS').mean()\n",
        "dataForPlot.MEDV.plot(kind='bar').set_ylabel('Avg. MEDV')"
      ],
      "execution_count": 51,
      "outputs": [
        {
          "output_type": "execute_result",
          "data": {
            "text/plain": [
              "Text(0, 0.5, 'Avg. MEDV')"
            ]
          },
          "metadata": {},
          "execution_count": 51
        },
        {
          "output_type": "display_data",
          "data": {
            "image/png": "[encoded data removed]",
            "text/plain": [
              "<Figure size 432x288 with 1 Axes>"
            ]
          },
          "metadata": {
            "needs_background": "light"
          }
        }
      ]
    },
    {
      "cell_type": "code",
      "metadata": {
        "colab": {
          "base_uri": "https://localhost:8080/",
          "height": 294
        },
        "id": "w1R9npYLGzdO",
        "outputId": "cfdab371-811c-4324-a354-2a8000df4cd0"
      },
      "source": [
        "#CHAS(찰스강 인접여부)별 CAT_MEDV(주택가격의 중앙값이 3만 달러 이상 여부) 그래프 \n",
        "dataForPlot = housing_df.groupby('CHAS').mean()['CAT_MEDV'] * 100 # %단위로 변경\n",
        "dataForPlot.plot(kind='bar')"
      ],
      "execution_count": 52,
      "outputs": [
        {
          "output_type": "execute_result",
          "data": {
            "text/plain": [
              "<matplotlib.axes._subplots.AxesSubplot at 0x7f41bce3dd10>"
            ]
          },
          "metadata": {},
          "execution_count": 52
        },
        {
          "output_type": "display_data",
          "data": {
            "image/png": "[encoded data removed]",
            "text/plain": [
              "<Figure size 432x288 with 1 Axes>"
            ]
          },
          "metadata": {
            "needs_background": "light"
          }
        }
      ]
    },
    {
      "cell_type": "markdown",
      "metadata": {
        "id": "-6Fuc4gWjxgv"
      },
      "source": [
        "### **분포도: 박스플롯과 히스토그램**"
      ]
    },
    {
      "cell_type": "markdown",
      "metadata": {
        "id": "mMaPTA8vjxcr"
      },
      "source": [
        "*  수치형 변수의 전반적인 분포를 표시해주는 차트\n",
        "*  평균값이 인기 있고, 용도가 큰 요약 통계이지만, 변수의 중앙값이나 표준편차와 같은 추가적인 통계치를 보게 되면 더 많은 정보를 얻을 수 있고 전체 분포를 관찰한다면 더욱 유용할 수 있음\n",
        "*  막대차트가 단일 변량을 표시하는 데 사용되는 반면, '박스플롯'과 '히스토그램'은 수치형 변수의 전체 분포를 나타냄\n",
        "*  여러 개의 '박스플롯'을 시간변화로 비교하거나 하위그룹간 비교하면 분포를 관찰하는 데 유용함\n",
        "*  히스토그램은 모든 x값의 출현 빈도를 나타냄\n",
        "*  박스플롯은 y축 위에 그리는 변수를 대표함\n",
        "*  히스토그램과 박스플롯은 수치형 변수에 적합하게 되어 있으므로 기본적으로 예측과제에 유용함\n",
        "*  박스플롯도 수치형 변수(y축)와 범주형 변수(x축) 사이의 관계를 표시하여 비지도학습을 지원해 줌\n",
        "*  박스플롯과 히스토그램은 수치형 변수의 구간을 설정하는 방법을 보여주기 때문에 새로운 변수를 도출하는 데 도움이 됨\n",
        "*  X축에 범주형 결과값, y축에 수치형 예측변수를 사용한 병렬 박스플롯은 분류과제에서 수치형 변수의 잠재성을 평가하기 좋음\n"
      ]
    },
    {
      "cell_type": "code",
      "metadata": {
        "colab": {
          "base_uri": "https://localhost:8080/",
          "height": 299
        },
        "id": "SwEsccpFGzYu",
        "outputId": "b2a6681a-26fe-4a1c-e3ff-c729ae60ede8"
      },
      "source": [
        "#MEDV(주택가격의 중앙값) 히스토그램\n",
        "ax = housing_df.MEDV.hist()\n",
        "ax.set_xlabel('MEDV')\n",
        "ax.set_ylabel('count')"
      ],
      "execution_count": 53,
      "outputs": [
        {
          "output_type": "execute_result",
          "data": {
            "text/plain": [
              "Text(0, 0.5, 'count')"
            ]
          },
          "metadata": {},
          "execution_count": 53
        },
        {
          "output_type": "display_data",
          "data": {
            "image/png": "[encoded data removed]",
            "text/plain": [
              "<Figure size 432x288 with 1 Axes>"
            ]
          },
          "metadata": {
            "needs_background": "light"
          }
        }
      ]
    },
    {
      "cell_type": "code",
      "metadata": {
        "colab": {
          "base_uri": "https://localhost:8080/",
          "height": 375
        },
        "id": "oH9GepauGzUM",
        "outputId": "bbddca36-76ae-4820-ab83-caec43b8b949"
      },
      "source": [
        "#CHAS(찰스강 인접여부)별 MEDV(주택가격의 중앙값) 박스플롯\n",
        "ax = housing_df.boxplot(column='MEDV', by='CHAS')\n",
        "ax.set_ylabel('MEDV')"
      ],
      "execution_count": 54,
      "outputs": [
        {
          "output_type": "stream",
          "name": "stderr",
          "text": [
            "/usr/local/lib/python3.7/dist-packages/numpy/core/_asarray.py:83: VisibleDeprecationWarning: Creating an ndarray from ragged nested sequences (which is a list-or-tuple of lists-or-tuples-or ndarrays with different lengths or shapes) is deprecated. If you meant to do this, you must specify 'dtype=object' when creating the ndarray\n",
            "  return array(a, dtype, copy=False, order=order)\n"
          ]
        },
        {
          "output_type": "execute_result",
          "data": {
            "text/plain": [
              "Text(0, 0.5, 'MEDV')"
            ]
          },
          "metadata": {},
          "execution_count": 54
        },
        {
          "output_type": "display_data",
          "data": {
            "image/png": "[encoded data removed]",
            "text/plain": [
              "<Figure size 432x288 with 1 Axes>"
            ]
          },
          "metadata": {
            "needs_background": "light"
          }
        }
      ]
    },
    {
      "cell_type": "code",
      "metadata": {
        "colab": {
          "base_uri": "https://localhost:8080/",
          "height": 586
        },
        "id": "TPzRrhdYXT8L",
        "outputId": "025b2ef4-b420-449e-cbad-9bc24bc24f71"
      },
      "source": [
        "#CAT_MEDV(주택가격의 중앙값이 3만 달러 이상 여부)별 박스플롯\n",
        "#NOX(일산화 질소 농도) 분포\n",
        "#LSTAT(저소득층 비율) 분포\n",
        "#PTRATIO(학생 대 교사 비율) 분포\n",
        "#INDUS(비소매업종 점유 구역 비율)  분포\n",
        "fig, ax = plt.subplots(nrows=1, ncols=4)\n",
        "fig.set_size_inches(14, 6)\n",
        "housing_df.boxplot(column='NOX', by='CAT_MEDV', ax=ax[0])\n",
        "housing_df.boxplot(column='LSTAT', by='CAT_MEDV', ax=ax[1])\n",
        "housing_df.boxplot(column='PTRATIO', by='CAT_MEDV', ax=ax[2])\n",
        "housing_df.boxplot(column='INDUS', by='CAT_MEDV', ax=ax[3])\n",
        "\n",
        "plt.show()"
      ],
      "execution_count": 55,
      "outputs": [
        {
          "output_type": "stream",
          "name": "stderr",
          "text": [
            "/usr/local/lib/python3.7/dist-packages/numpy/core/_asarray.py:83: VisibleDeprecationWarning: Creating an ndarray from ragged nested sequences (which is a list-or-tuple of lists-or-tuples-or ndarrays with different lengths or shapes) is deprecated. If you meant to do this, you must specify 'dtype=object' when creating the ndarray\n",
            "  return array(a, dtype, copy=False, order=order)\n",
            "/usr/local/lib/python3.7/dist-packages/numpy/core/_asarray.py:83: VisibleDeprecationWarning: Creating an ndarray from ragged nested sequences (which is a list-or-tuple of lists-or-tuples-or ndarrays with different lengths or shapes) is deprecated. If you meant to do this, you must specify 'dtype=object' when creating the ndarray\n",
            "  return array(a, dtype, copy=False, order=order)\n",
            "/usr/local/lib/python3.7/dist-packages/numpy/core/_asarray.py:83: VisibleDeprecationWarning: Creating an ndarray from ragged nested sequences (which is a list-or-tuple of lists-or-tuples-or ndarrays with different lengths or shapes) is deprecated. If you meant to do this, you must specify 'dtype=object' when creating the ndarray\n",
            "  return array(a, dtype, copy=False, order=order)\n",
            "/usr/local/lib/python3.7/dist-packages/numpy/core/_asarray.py:83: VisibleDeprecationWarning: Creating an ndarray from ragged nested sequences (which is a list-or-tuple of lists-or-tuples-or ndarrays with different lengths or shapes) is deprecated. If you meant to do this, you must specify 'dtype=object' when creating the ndarray\n",
            "  return array(a, dtype, copy=False, order=order)\n"
          ]
        },
        {
          "output_type": "display_data",
          "data": {
            "image/png": "[encoded data removed]",
            "text/plain": [
              "<Figure size 1008x432 with 4 Axes>"
            ]
          },
          "metadata": {
            "needs_background": "light"
          }
        }
      ]
    },
    {
      "cell_type": "markdown",
      "metadata": {
        "id": "f1ZfhYDAj4Sw"
      },
      "source": [
        "### **히트맵: 상관관계와 결측치 시각화**"
      ]
    },
    {
      "cell_type": "markdown",
      "metadata": {
        "id": "EHRukRLaj4PL"
      },
      "source": [
        "*  히트맵이란 수치형 데이터를 그래픽으로 나타내는 차트로 주로 색상을 사용하여 값을 나타냄\n",
        "*  데이터마이닝에서 히트맵은 상관관계 표의 시각화와 결측값의 시각화에 유용함\n",
        "*  인간의 색상차이 인지한계로 히트맵은 큰 숫자 값을 검토하는 데 유용하지만 막대차트 같이 정확한 그래픽 디스플레이들을 대체할 수 없음\n",
        "*  상관관계 히트맵에서 색상이 짙을수록 더 강한 상관관계를 의미하기 때문에 높거나 낮은 상관관계를 신속하게 찾을 수 있음\n"
      ]
    },
    {
      "cell_type": "code",
      "metadata": {
        "colab": {
          "base_uri": "https://localhost:8080/",
          "height": 488
        },
        "id": "wzMb06E25cow",
        "outputId": "263bfc44-f898-4b53-c715-26fbb58560d8"
      },
      "source": [
        "# 보스턴 주택 데이터 상관관계\n",
        "housing_df.corr()"
      ],
      "execution_count": 56,
      "outputs": [
        {
          "output_type": "execute_result",
          "data": {
            "text/html": [
              "<div>\n",
              "<style scoped>\n",
              "    .dataframe tbody tr th:only-of-type {\n",
              "        vertical-align: middle;\n",
              "    }\n",
              "\n",
              "    .dataframe tbody tr th {\n",
              "        vertical-align: top;\n",
              "    }\n",
              "\n",
              "    .dataframe thead th {\n",
              "        text-align: right;\n",
              "    }\n",
              "</style>\n",
              "<table border=\"1\" class=\"dataframe\">\n",
              "  <thead>\n",
              "    <tr style=\"text-align: right;\">\n",
              "      <th></th>\n",
              "      <th>CRIM</th>\n",
              "      <th>ZN</th>\n",
              "      <th>INDUS</th>\n",
              "      <th>CHAS</th>\n",
              "      <th>NOX</th>\n",
              "      <th>RM</th>\n",
              "      <th>AGE</th>\n",
              "      <th>DIS</th>\n",
              "      <th>RAD</th>\n",
              "      <th>TAX</th>\n",
              "      <th>PTRATIO</th>\n",
              "      <th>LSTAT</th>\n",
              "      <th>MEDV</th>\n",
              "      <th>CAT_MEDV</th>\n",
              "    </tr>\n",
              "  </thead>\n",
              "  <tbody>\n",
              "    <tr>\n",
              "      <th>CRIM</th>\n",
              "      <td>1.000000</td>\n",
              "      <td>-0.200469</td>\n",
              "      <td>0.406583</td>\n",
              "      <td>-0.055892</td>\n",
              "      <td>0.420972</td>\n",
              "      <td>-0.219247</td>\n",
              "      <td>0.352734</td>\n",
              "      <td>-0.379670</td>\n",
              "      <td>0.625505</td>\n",
              "      <td>0.582764</td>\n",
              "      <td>0.289946</td>\n",
              "      <td>0.455621</td>\n",
              "      <td>-0.388305</td>\n",
              "      <td>-0.151987</td>\n",
              "    </tr>\n",
              "    <tr>\n",
              "      <th>ZN</th>\n",
              "      <td>-0.200469</td>\n",
              "      <td>1.000000</td>\n",
              "      <td>-0.533828</td>\n",
              "      <td>-0.042697</td>\n",
              "      <td>-0.516604</td>\n",
              "      <td>0.311991</td>\n",
              "      <td>-0.569537</td>\n",
              "      <td>0.664408</td>\n",
              "      <td>-0.311948</td>\n",
              "      <td>-0.314563</td>\n",
              "      <td>-0.391679</td>\n",
              "      <td>-0.412995</td>\n",
              "      <td>0.360445</td>\n",
              "      <td>0.365296</td>\n",
              "    </tr>\n",
              "    <tr>\n",
              "      <th>INDUS</th>\n",
              "      <td>0.406583</td>\n",
              "      <td>-0.533828</td>\n",
              "      <td>1.000000</td>\n",
              "      <td>0.062938</td>\n",
              "      <td>0.763651</td>\n",
              "      <td>-0.391676</td>\n",
              "      <td>0.644779</td>\n",
              "      <td>-0.708027</td>\n",
              "      <td>0.595129</td>\n",
              "      <td>0.720760</td>\n",
              "      <td>0.383248</td>\n",
              "      <td>0.603800</td>\n",
              "      <td>-0.483725</td>\n",
              "      <td>-0.366276</td>\n",
              "    </tr>\n",
              "    <tr>\n",
              "      <th>CHAS</th>\n",
              "      <td>-0.055892</td>\n",
              "      <td>-0.042697</td>\n",
              "      <td>0.062938</td>\n",
              "      <td>1.000000</td>\n",
              "      <td>0.091203</td>\n",
              "      <td>0.091251</td>\n",
              "      <td>0.086518</td>\n",
              "      <td>-0.099176</td>\n",
              "      <td>-0.007368</td>\n",
              "      <td>-0.035587</td>\n",
              "      <td>-0.121515</td>\n",
              "      <td>-0.053929</td>\n",
              "      <td>0.175260</td>\n",
              "      <td>0.108631</td>\n",
              "    </tr>\n",
              "    <tr>\n",
              "      <th>NOX</th>\n",
              "      <td>0.420972</td>\n",
              "      <td>-0.516604</td>\n",
              "      <td>0.763651</td>\n",
              "      <td>0.091203</td>\n",
              "      <td>1.000000</td>\n",
              "      <td>-0.302188</td>\n",
              "      <td>0.731470</td>\n",
              "      <td>-0.769230</td>\n",
              "      <td>0.611441</td>\n",
              "      <td>0.668023</td>\n",
              "      <td>0.188933</td>\n",
              "      <td>0.590879</td>\n",
              "      <td>-0.427321</td>\n",
              "      <td>-0.232502</td>\n",
              "    </tr>\n",
              "    <tr>\n",
              "      <th>RM</th>\n",
              "      <td>-0.219247</td>\n",
              "      <td>0.311991</td>\n",
              "      <td>-0.391676</td>\n",
              "      <td>0.091251</td>\n",
              "      <td>-0.302188</td>\n",
              "      <td>1.000000</td>\n",
              "      <td>-0.240265</td>\n",
              "      <td>0.205246</td>\n",
              "      <td>-0.209847</td>\n",
              "      <td>-0.292048</td>\n",
              "      <td>-0.355501</td>\n",
              "      <td>-0.613808</td>\n",
              "      <td>0.695360</td>\n",
              "      <td>0.641265</td>\n",
              "    </tr>\n",
              "    <tr>\n",
              "      <th>AGE</th>\n",
              "      <td>0.352734</td>\n",
              "      <td>-0.569537</td>\n",
              "      <td>0.644779</td>\n",
              "      <td>0.086518</td>\n",
              "      <td>0.731470</td>\n",
              "      <td>-0.240265</td>\n",
              "      <td>1.000000</td>\n",
              "      <td>-0.747881</td>\n",
              "      <td>0.456022</td>\n",
              "      <td>0.506456</td>\n",
              "      <td>0.261515</td>\n",
              "      <td>0.602339</td>\n",
              "      <td>-0.376955</td>\n",
              "      <td>-0.191196</td>\n",
              "    </tr>\n",
              "    <tr>\n",
              "      <th>DIS</th>\n",
              "      <td>-0.379670</td>\n",
              "      <td>0.664408</td>\n",
              "      <td>-0.708027</td>\n",
              "      <td>-0.099176</td>\n",
              "      <td>-0.769230</td>\n",
              "      <td>0.205246</td>\n",
              "      <td>-0.747881</td>\n",
              "      <td>1.000000</td>\n",
              "      <td>-0.494588</td>\n",
              "      <td>-0.534432</td>\n",
              "      <td>-0.232471</td>\n",
              "      <td>-0.496996</td>\n",
              "      <td>0.249929</td>\n",
              "      <td>0.118887</td>\n",
              "    </tr>\n",
              "    <tr>\n",
              "      <th>RAD</th>\n",
              "      <td>0.625505</td>\n",
              "      <td>-0.311948</td>\n",
              "      <td>0.595129</td>\n",
              "      <td>-0.007368</td>\n",
              "      <td>0.611441</td>\n",
              "      <td>-0.209847</td>\n",
              "      <td>0.456022</td>\n",
              "      <td>-0.494588</td>\n",
              "      <td>1.000000</td>\n",
              "      <td>0.910228</td>\n",
              "      <td>0.464741</td>\n",
              "      <td>0.488676</td>\n",
              "      <td>-0.381626</td>\n",
              "      <td>-0.197924</td>\n",
              "    </tr>\n",
              "    <tr>\n",
              "      <th>TAX</th>\n",
              "      <td>0.582764</td>\n",
              "      <td>-0.314563</td>\n",
              "      <td>0.720760</td>\n",
              "      <td>-0.035587</td>\n",
              "      <td>0.668023</td>\n",
              "      <td>-0.292048</td>\n",
              "      <td>0.506456</td>\n",
              "      <td>-0.534432</td>\n",
              "      <td>0.910228</td>\n",
              "      <td>1.000000</td>\n",
              "      <td>0.460853</td>\n",
              "      <td>0.543993</td>\n",
              "      <td>-0.468536</td>\n",
              "      <td>-0.273687</td>\n",
              "    </tr>\n",
              "    <tr>\n",
              "      <th>PTRATIO</th>\n",
              "      <td>0.289946</td>\n",
              "      <td>-0.391679</td>\n",
              "      <td>0.383248</td>\n",
              "      <td>-0.121515</td>\n",
              "      <td>0.188933</td>\n",
              "      <td>-0.355501</td>\n",
              "      <td>0.261515</td>\n",
              "      <td>-0.232471</td>\n",
              "      <td>0.464741</td>\n",
              "      <td>0.460853</td>\n",
              "      <td>1.000000</td>\n",
              "      <td>0.374044</td>\n",
              "      <td>-0.507787</td>\n",
              "      <td>-0.443425</td>\n",
              "    </tr>\n",
              "    <tr>\n",
              "      <th>LSTAT</th>\n",
              "      <td>0.455621</td>\n",
              "      <td>-0.412995</td>\n",
              "      <td>0.603800</td>\n",
              "      <td>-0.053929</td>\n",
              "      <td>0.590879</td>\n",
              "      <td>-0.613808</td>\n",
              "      <td>0.602339</td>\n",
              "      <td>-0.496996</td>\n",
              "      <td>0.488676</td>\n",
              "      <td>0.543993</td>\n",
              "      <td>0.374044</td>\n",
              "      <td>1.000000</td>\n",
              "      <td>-0.737663</td>\n",
              "      <td>-0.469911</td>\n",
              "    </tr>\n",
              "    <tr>\n",
              "      <th>MEDV</th>\n",
              "      <td>-0.388305</td>\n",
              "      <td>0.360445</td>\n",
              "      <td>-0.483725</td>\n",
              "      <td>0.175260</td>\n",
              "      <td>-0.427321</td>\n",
              "      <td>0.695360</td>\n",
              "      <td>-0.376955</td>\n",
              "      <td>0.249929</td>\n",
              "      <td>-0.381626</td>\n",
              "      <td>-0.468536</td>\n",
              "      <td>-0.507787</td>\n",
              "      <td>-0.737663</td>\n",
              "      <td>1.000000</td>\n",
              "      <td>0.789789</td>\n",
              "    </tr>\n",
              "    <tr>\n",
              "      <th>CAT_MEDV</th>\n",
              "      <td>-0.151987</td>\n",
              "      <td>0.365296</td>\n",
              "      <td>-0.366276</td>\n",
              "      <td>0.108631</td>\n",
              "      <td>-0.232502</td>\n",
              "      <td>0.641265</td>\n",
              "      <td>-0.191196</td>\n",
              "      <td>0.118887</td>\n",
              "      <td>-0.197924</td>\n",
              "      <td>-0.273687</td>\n",
              "      <td>-0.443425</td>\n",
              "      <td>-0.469911</td>\n",
              "      <td>0.789789</td>\n",
              "      <td>1.000000</td>\n",
              "    </tr>\n",
              "  </tbody>\n",
              "</table>\n",
              "</div>"
            ],
            "text/plain": [
              "              CRIM        ZN     INDUS  ...     LSTAT      MEDV  CAT_MEDV\n",
              "CRIM      1.000000 -0.200469  0.406583  ...  0.455621 -0.388305 -0.151987\n",
              "ZN       -0.200469  1.000000 -0.533828  ... -0.412995  0.360445  0.365296\n",
              "INDUS     0.406583 -0.533828  1.000000  ...  0.603800 -0.483725 -0.366276\n",
              "CHAS     -0.055892 -0.042697  0.062938  ... -0.053929  0.175260  0.108631\n",
              "NOX       0.420972 -0.516604  0.763651  ...  0.590879 -0.427321 -0.232502\n",
              "RM       -0.219247  0.311991 -0.391676  ... -0.613808  0.695360  0.641265\n",
              "AGE       0.352734 -0.569537  0.644779  ...  0.602339 -0.376955 -0.191196\n",
              "DIS      -0.379670  0.664408 -0.708027  ... -0.496996  0.249929  0.118887\n",
              "RAD       0.625505 -0.311948  0.595129  ...  0.488676 -0.381626 -0.197924\n",
              "TAX       0.582764 -0.314563  0.720760  ...  0.543993 -0.468536 -0.273687\n",
              "PTRATIO   0.289946 -0.391679  0.383248  ...  0.374044 -0.507787 -0.443425\n",
              "LSTAT     0.455621 -0.412995  0.603800  ...  1.000000 -0.737663 -0.469911\n",
              "MEDV     -0.388305  0.360445 -0.483725  ... -0.737663  1.000000  0.789789\n",
              "CAT_MEDV -0.151987  0.365296 -0.366276  ... -0.469911  0.789789  1.000000\n",
              "\n",
              "[14 rows x 14 columns]"
            ]
          },
          "metadata": {},
          "execution_count": 56
        }
      ]
    },
    {
      "cell_type": "code",
      "metadata": {
        "colab": {
          "base_uri": "https://localhost:8080/",
          "height": 476
        },
        "id": "2w4rXchFWLNV",
        "outputId": "afde5dbd-9d8a-494f-e42b-3fbfd889503a"
      },
      "source": [
        "# 보스턴 주택 데이터 상관관계 히트맵\n",
        "corr = housing_df.corr()\n",
        "fig, ax = plt.subplots()\n",
        "fig.set_size_inches(11, 7)\n",
        "sns.heatmap(corr, annot=True, fmt=\".1f\", cmap=\"RdBu\", center=0, ax=ax)\n",
        "\n",
        "plt.show()"
      ],
      "execution_count": 57,
      "outputs": [
        {
          "output_type": "display_data",
          "data": {
            "image/png": "[encoded data removed]",
            "text/plain": [
              "<Figure size 792x504 with 2 Axes>"
            ]
          },
          "metadata": {
            "needs_background": "light"
          }
        }
      ]
    },
    {
      "cell_type": "markdown",
      "metadata": {
        "id": "uXO_o9pyY_M-"
      },
      "source": [
        "# **10.3 차원축소란 무엇인가?**"
      ]
    },
    {
      "cell_type": "markdown",
      "metadata": {
        "id": "zlcFpLwjkkqP"
      },
      "source": [
        "*  데이터 차원은 변수의 개수로 정해짐\n",
        "*  모델의 차원은 모델에 의해 사용된 독립변수 또는 입력변수의 개수\n",
        "*  차원축소 = 요인선택 = 특성추출\n",
        "*  데이터마이닝 알고리즘을 효율적으로 수행하기 위해서는 변수의 개수를 축소할 필요가 있음\n",
        "*  상관문제 : 데이터 준비 단계에서 변수의 개수가 늘어남 -> 이변수들 간의 서로 높은 상관관계가 존재할 가능성이 높아짐 -> 모델 과적합 ->모델의 정확도 신뢰도 하락\n",
        "*  계산문제(차원의 저주) : 지나치게 많은 변수로 계산량 기하급수적 증가"
      ]
    },
    {
      "cell_type": "markdown",
      "metadata": {
        "id": "-EIrOLSKkn3V"
      },
      "source": [
        "### **차원 축소 접근법**"
      ]
    },
    {
      "cell_type": "markdown",
      "metadata": {
        "id": "2fJMkJKdko2b"
      },
      "source": [
        "*  범주를 제거하거나 결합하기 위해서는 주어진 자료와 관련된 특정 분야의 지식을 도입\n",
        "*  변수 간 중복되는 정보를 검출하기 위해서 자료 요약을 사용함\n",
        "*  범주형 변수를 수치형 변수로 변환하는 등 자료변환 기술을 사용함\n",
        "*  주성분 분석(PCA)과 같은 자동화된 차원 축소 (생략)\n",
        "*  회귀모델, 분류모델, 회귀나무와 같은 데이터마이닝 방법들을 이용한 차원축소 (생략)"
      ]
    },
    {
      "cell_type": "markdown",
      "metadata": {
        "id": "qjvzC0Vzkrii"
      },
      "source": [
        "## **10.3.1 데이터 요약**"
      ]
    },
    {
      "cell_type": "code",
      "metadata": {
        "id": "YpZqEV9fZO40"
      },
      "source": [
        "#보스턴 주택 데이터 copy\n",
        "bostonHousing_df = housing_df.copy()"
      ],
      "execution_count": 58,
      "outputs": []
    },
    {
      "cell_type": "code",
      "metadata": {
        "colab": {
          "base_uri": "https://localhost:8080/",
          "height": 363
        },
        "id": "r1-x0_ghZCd5",
        "outputId": "f500f3f6-6a2d-4e7d-ce94-dfbfbc1e8de7"
      },
      "source": [
        "#보스턴 주택 데이터 관측치 10개 조회하기\n",
        "bostonHousing_df.head(10)"
      ],
      "execution_count": 59,
      "outputs": [
        {
          "output_type": "execute_result",
          "data": {
            "text/html": [
              "<div>\n",
              "<style scoped>\n",
              "    .dataframe tbody tr th:only-of-type {\n",
              "        vertical-align: middle;\n",
              "    }\n",
              "\n",
              "    .dataframe tbody tr th {\n",
              "        vertical-align: top;\n",
              "    }\n",
              "\n",
              "    .dataframe thead th {\n",
              "        text-align: right;\n",
              "    }\n",
              "</style>\n",
              "<table border=\"1\" class=\"dataframe\">\n",
              "  <thead>\n",
              "    <tr style=\"text-align: right;\">\n",
              "      <th></th>\n",
              "      <th>CRIM</th>\n",
              "      <th>ZN</th>\n",
              "      <th>INDUS</th>\n",
              "      <th>CHAS</th>\n",
              "      <th>NOX</th>\n",
              "      <th>RM</th>\n",
              "      <th>AGE</th>\n",
              "      <th>DIS</th>\n",
              "      <th>RAD</th>\n",
              "      <th>TAX</th>\n",
              "      <th>PTRATIO</th>\n",
              "      <th>LSTAT</th>\n",
              "      <th>MEDV</th>\n",
              "      <th>CAT_MEDV</th>\n",
              "    </tr>\n",
              "  </thead>\n",
              "  <tbody>\n",
              "    <tr>\n",
              "      <th>0</th>\n",
              "      <td>0.00632</td>\n",
              "      <td>18.0</td>\n",
              "      <td>2.31</td>\n",
              "      <td>0</td>\n",
              "      <td>0.538</td>\n",
              "      <td>6.575</td>\n",
              "      <td>65.2</td>\n",
              "      <td>4.0900</td>\n",
              "      <td>1</td>\n",
              "      <td>296</td>\n",
              "      <td>15.3</td>\n",
              "      <td>4.98</td>\n",
              "      <td>24.0</td>\n",
              "      <td>0</td>\n",
              "    </tr>\n",
              "    <tr>\n",
              "      <th>1</th>\n",
              "      <td>0.02731</td>\n",
              "      <td>0.0</td>\n",
              "      <td>7.07</td>\n",
              "      <td>0</td>\n",
              "      <td>0.469</td>\n",
              "      <td>6.421</td>\n",
              "      <td>78.9</td>\n",
              "      <td>4.9671</td>\n",
              "      <td>2</td>\n",
              "      <td>242</td>\n",
              "      <td>17.8</td>\n",
              "      <td>9.14</td>\n",
              "      <td>21.6</td>\n",
              "      <td>0</td>\n",
              "    </tr>\n",
              "    <tr>\n",
              "      <th>2</th>\n",
              "      <td>0.02729</td>\n",
              "      <td>0.0</td>\n",
              "      <td>7.07</td>\n",
              "      <td>0</td>\n",
              "      <td>0.469</td>\n",
              "      <td>7.185</td>\n",
              "      <td>61.1</td>\n",
              "      <td>4.9671</td>\n",
              "      <td>2</td>\n",
              "      <td>242</td>\n",
              "      <td>17.8</td>\n",
              "      <td>4.03</td>\n",
              "      <td>34.7</td>\n",
              "      <td>1</td>\n",
              "    </tr>\n",
              "    <tr>\n",
              "      <th>3</th>\n",
              "      <td>0.03237</td>\n",
              "      <td>0.0</td>\n",
              "      <td>2.18</td>\n",
              "      <td>0</td>\n",
              "      <td>0.458</td>\n",
              "      <td>6.998</td>\n",
              "      <td>45.8</td>\n",
              "      <td>6.0622</td>\n",
              "      <td>3</td>\n",
              "      <td>222</td>\n",
              "      <td>18.7</td>\n",
              "      <td>2.94</td>\n",
              "      <td>33.4</td>\n",
              "      <td>1</td>\n",
              "    </tr>\n",
              "    <tr>\n",
              "      <th>4</th>\n",
              "      <td>0.06905</td>\n",
              "      <td>0.0</td>\n",
              "      <td>2.18</td>\n",
              "      <td>0</td>\n",
              "      <td>0.458</td>\n",
              "      <td>7.147</td>\n",
              "      <td>54.2</td>\n",
              "      <td>6.0622</td>\n",
              "      <td>3</td>\n",
              "      <td>222</td>\n",
              "      <td>18.7</td>\n",
              "      <td>5.33</td>\n",
              "      <td>36.2</td>\n",
              "      <td>1</td>\n",
              "    </tr>\n",
              "    <tr>\n",
              "      <th>5</th>\n",
              "      <td>0.02985</td>\n",
              "      <td>0.0</td>\n",
              "      <td>2.18</td>\n",
              "      <td>0</td>\n",
              "      <td>0.458</td>\n",
              "      <td>6.430</td>\n",
              "      <td>58.7</td>\n",
              "      <td>6.0622</td>\n",
              "      <td>3</td>\n",
              "      <td>222</td>\n",
              "      <td>18.7</td>\n",
              "      <td>5.21</td>\n",
              "      <td>28.7</td>\n",
              "      <td>0</td>\n",
              "    </tr>\n",
              "    <tr>\n",
              "      <th>6</th>\n",
              "      <td>0.08829</td>\n",
              "      <td>12.5</td>\n",
              "      <td>7.87</td>\n",
              "      <td>0</td>\n",
              "      <td>0.524</td>\n",
              "      <td>6.012</td>\n",
              "      <td>66.6</td>\n",
              "      <td>5.5605</td>\n",
              "      <td>5</td>\n",
              "      <td>311</td>\n",
              "      <td>15.2</td>\n",
              "      <td>12.43</td>\n",
              "      <td>22.9</td>\n",
              "      <td>0</td>\n",
              "    </tr>\n",
              "    <tr>\n",
              "      <th>7</th>\n",
              "      <td>0.14455</td>\n",
              "      <td>12.5</td>\n",
              "      <td>7.87</td>\n",
              "      <td>0</td>\n",
              "      <td>0.524</td>\n",
              "      <td>6.172</td>\n",
              "      <td>96.1</td>\n",
              "      <td>5.9505</td>\n",
              "      <td>5</td>\n",
              "      <td>311</td>\n",
              "      <td>15.2</td>\n",
              "      <td>19.15</td>\n",
              "      <td>27.1</td>\n",
              "      <td>0</td>\n",
              "    </tr>\n",
              "    <tr>\n",
              "      <th>8</th>\n",
              "      <td>0.21124</td>\n",
              "      <td>12.5</td>\n",
              "      <td>7.87</td>\n",
              "      <td>0</td>\n",
              "      <td>0.524</td>\n",
              "      <td>5.631</td>\n",
              "      <td>100.0</td>\n",
              "      <td>6.0821</td>\n",
              "      <td>5</td>\n",
              "      <td>311</td>\n",
              "      <td>15.2</td>\n",
              "      <td>29.93</td>\n",
              "      <td>16.5</td>\n",
              "      <td>0</td>\n",
              "    </tr>\n",
              "    <tr>\n",
              "      <th>9</th>\n",
              "      <td>0.17004</td>\n",
              "      <td>12.5</td>\n",
              "      <td>7.87</td>\n",
              "      <td>0</td>\n",
              "      <td>0.524</td>\n",
              "      <td>6.004</td>\n",
              "      <td>85.9</td>\n",
              "      <td>6.5921</td>\n",
              "      <td>5</td>\n",
              "      <td>311</td>\n",
              "      <td>15.2</td>\n",
              "      <td>17.10</td>\n",
              "      <td>18.9</td>\n",
              "      <td>0</td>\n",
              "    </tr>\n",
              "  </tbody>\n",
              "</table>\n",
              "</div>"
            ],
            "text/plain": [
              "      CRIM    ZN  INDUS  CHAS    NOX  ...  TAX  PTRATIO  LSTAT  MEDV  CAT_MEDV\n",
              "0  0.00632  18.0   2.31     0  0.538  ...  296     15.3   4.98  24.0         0\n",
              "1  0.02731   0.0   7.07     0  0.469  ...  242     17.8   9.14  21.6         0\n",
              "2  0.02729   0.0   7.07     0  0.469  ...  242     17.8   4.03  34.7         1\n",
              "3  0.03237   0.0   2.18     0  0.458  ...  222     18.7   2.94  33.4         1\n",
              "4  0.06905   0.0   2.18     0  0.458  ...  222     18.7   5.33  36.2         1\n",
              "5  0.02985   0.0   2.18     0  0.458  ...  222     18.7   5.21  28.7         0\n",
              "6  0.08829  12.5   7.87     0  0.524  ...  311     15.2  12.43  22.9         0\n",
              "7  0.14455  12.5   7.87     0  0.524  ...  311     15.2  19.15  27.1         0\n",
              "8  0.21124  12.5   7.87     0  0.524  ...  311     15.2  29.93  16.5         0\n",
              "9  0.17004  12.5   7.87     0  0.524  ...  311     15.2  17.10  18.9         0\n",
              "\n",
              "[10 rows x 14 columns]"
            ]
          },
          "metadata": {},
          "execution_count": 59
        }
      ]
    },
    {
      "cell_type": "markdown",
      "metadata": {
        "id": "xlSeqt0lkwbU"
      },
      "source": [
        "### **요약 통계량**"
      ]
    },
    {
      "cell_type": "markdown",
      "metadata": {
        "id": "6o3ShLbekx38"
      },
      "source": [
        "*  데이터에 대한 개요를 확인하는 것으로 각 변수의 특징을 학습하는 데 매우 유용함\n",
        "*  변수가 취하는 값의 스케일과 형태에 관한 정보를 제공함\n",
        "*  최솟값 최대값은 오류일 가능성이 높은 극단값을 검출함\n",
        "*  평균과 중앙값 함수는 해당 변수의 중심값에 대한 정보를 제공함\n",
        "*  평균과 중앙값 사이의 큰 편차는 데이터의 치우침을 암시함"
      ]
    },
    {
      "cell_type": "code",
      "metadata": {
        "colab": {
          "base_uri": "https://localhost:8080/",
          "height": 300
        },
        "id": "jtov7x2NZGtD",
        "outputId": "25399af9-4bdb-4a4c-efd2-748296411d40"
      },
      "source": [
        "#보스턴 주택 데이터 요약 통계량 describe() 함수\n",
        "bostonHousing_df.describe()"
      ],
      "execution_count": 60,
      "outputs": [
        {
          "output_type": "execute_result",
          "data": {
            "text/html": [
              "<div>\n",
              "<style scoped>\n",
              "    .dataframe tbody tr th:only-of-type {\n",
              "        vertical-align: middle;\n",
              "    }\n",
              "\n",
              "    .dataframe tbody tr th {\n",
              "        vertical-align: top;\n",
              "    }\n",
              "\n",
              "    .dataframe thead th {\n",
              "        text-align: right;\n",
              "    }\n",
              "</style>\n",
              "<table border=\"1\" class=\"dataframe\">\n",
              "  <thead>\n",
              "    <tr style=\"text-align: right;\">\n",
              "      <th></th>\n",
              "      <th>CRIM</th>\n",
              "      <th>ZN</th>\n",
              "      <th>INDUS</th>\n",
              "      <th>CHAS</th>\n",
              "      <th>NOX</th>\n",
              "      <th>RM</th>\n",
              "      <th>AGE</th>\n",
              "      <th>DIS</th>\n",
              "      <th>RAD</th>\n",
              "      <th>TAX</th>\n",
              "      <th>PTRATIO</th>\n",
              "      <th>LSTAT</th>\n",
              "      <th>MEDV</th>\n",
              "      <th>CAT_MEDV</th>\n",
              "    </tr>\n",
              "  </thead>\n",
              "  <tbody>\n",
              "    <tr>\n",
              "      <th>count</th>\n",
              "      <td>506.000000</td>\n",
              "      <td>506.000000</td>\n",
              "      <td>506.000000</td>\n",
              "      <td>506.000000</td>\n",
              "      <td>506.000000</td>\n",
              "      <td>506.000000</td>\n",
              "      <td>506.000000</td>\n",
              "      <td>506.000000</td>\n",
              "      <td>506.000000</td>\n",
              "      <td>506.000000</td>\n",
              "      <td>506.000000</td>\n",
              "      <td>506.000000</td>\n",
              "      <td>506.000000</td>\n",
              "      <td>506.000000</td>\n",
              "    </tr>\n",
              "    <tr>\n",
              "      <th>mean</th>\n",
              "      <td>3.613524</td>\n",
              "      <td>11.363636</td>\n",
              "      <td>11.136779</td>\n",
              "      <td>0.069170</td>\n",
              "      <td>0.554695</td>\n",
              "      <td>6.284634</td>\n",
              "      <td>68.574901</td>\n",
              "      <td>3.795043</td>\n",
              "      <td>9.549407</td>\n",
              "      <td>408.237154</td>\n",
              "      <td>18.455534</td>\n",
              "      <td>12.653063</td>\n",
              "      <td>22.532806</td>\n",
              "      <td>0.166008</td>\n",
              "    </tr>\n",
              "    <tr>\n",
              "      <th>std</th>\n",
              "      <td>8.601545</td>\n",
              "      <td>23.322453</td>\n",
              "      <td>6.860353</td>\n",
              "      <td>0.253994</td>\n",
              "      <td>0.115878</td>\n",
              "      <td>0.702617</td>\n",
              "      <td>28.148861</td>\n",
              "      <td>2.105710</td>\n",
              "      <td>8.707259</td>\n",
              "      <td>168.537116</td>\n",
              "      <td>2.164946</td>\n",
              "      <td>7.141062</td>\n",
              "      <td>9.197104</td>\n",
              "      <td>0.372456</td>\n",
              "    </tr>\n",
              "    <tr>\n",
              "      <th>min</th>\n",
              "      <td>0.006320</td>\n",
              "      <td>0.000000</td>\n",
              "      <td>0.460000</td>\n",
              "      <td>0.000000</td>\n",
              "      <td>0.385000</td>\n",
              "      <td>3.561000</td>\n",
              "      <td>2.900000</td>\n",
              "      <td>1.129600</td>\n",
              "      <td>1.000000</td>\n",
              "      <td>187.000000</td>\n",
              "      <td>12.600000</td>\n",
              "      <td>1.730000</td>\n",
              "      <td>5.000000</td>\n",
              "      <td>0.000000</td>\n",
              "    </tr>\n",
              "    <tr>\n",
              "      <th>25%</th>\n",
              "      <td>0.082045</td>\n",
              "      <td>0.000000</td>\n",
              "      <td>5.190000</td>\n",
              "      <td>0.000000</td>\n",
              "      <td>0.449000</td>\n",
              "      <td>5.885500</td>\n",
              "      <td>45.025000</td>\n",
              "      <td>2.100175</td>\n",
              "      <td>4.000000</td>\n",
              "      <td>279.000000</td>\n",
              "      <td>17.400000</td>\n",
              "      <td>6.950000</td>\n",
              "      <td>17.025000</td>\n",
              "      <td>0.000000</td>\n",
              "    </tr>\n",
              "    <tr>\n",
              "      <th>50%</th>\n",
              "      <td>0.256510</td>\n",
              "      <td>0.000000</td>\n",
              "      <td>9.690000</td>\n",
              "      <td>0.000000</td>\n",
              "      <td>0.538000</td>\n",
              "      <td>6.208500</td>\n",
              "      <td>77.500000</td>\n",
              "      <td>3.207450</td>\n",
              "      <td>5.000000</td>\n",
              "      <td>330.000000</td>\n",
              "      <td>19.050000</td>\n",
              "      <td>11.360000</td>\n",
              "      <td>21.200000</td>\n",
              "      <td>0.000000</td>\n",
              "    </tr>\n",
              "    <tr>\n",
              "      <th>75%</th>\n",
              "      <td>3.677082</td>\n",
              "      <td>12.500000</td>\n",
              "      <td>18.100000</td>\n",
              "      <td>0.000000</td>\n",
              "      <td>0.624000</td>\n",
              "      <td>6.623500</td>\n",
              "      <td>94.075000</td>\n",
              "      <td>5.188425</td>\n",
              "      <td>24.000000</td>\n",
              "      <td>666.000000</td>\n",
              "      <td>20.200000</td>\n",
              "      <td>16.955000</td>\n",
              "      <td>25.000000</td>\n",
              "      <td>0.000000</td>\n",
              "    </tr>\n",
              "    <tr>\n",
              "      <th>max</th>\n",
              "      <td>88.976200</td>\n",
              "      <td>100.000000</td>\n",
              "      <td>27.740000</td>\n",
              "      <td>1.000000</td>\n",
              "      <td>0.871000</td>\n",
              "      <td>8.780000</td>\n",
              "      <td>100.000000</td>\n",
              "      <td>12.126500</td>\n",
              "      <td>24.000000</td>\n",
              "      <td>711.000000</td>\n",
              "      <td>22.000000</td>\n",
              "      <td>37.970000</td>\n",
              "      <td>50.000000</td>\n",
              "      <td>1.000000</td>\n",
              "    </tr>\n",
              "  </tbody>\n",
              "</table>\n",
              "</div>"
            ],
            "text/plain": [
              "             CRIM          ZN       INDUS  ...       LSTAT        MEDV    CAT_MEDV\n",
              "count  506.000000  506.000000  506.000000  ...  506.000000  506.000000  506.000000\n",
              "mean     3.613524   11.363636   11.136779  ...   12.653063   22.532806    0.166008\n",
              "std      8.601545   23.322453    6.860353  ...    7.141062    9.197104    0.372456\n",
              "min      0.006320    0.000000    0.460000  ...    1.730000    5.000000    0.000000\n",
              "25%      0.082045    0.000000    5.190000  ...    6.950000   17.025000    0.000000\n",
              "50%      0.256510    0.000000    9.690000  ...   11.360000   21.200000    0.000000\n",
              "75%      3.677082   12.500000   18.100000  ...   16.955000   25.000000    0.000000\n",
              "max     88.976200  100.000000   27.740000  ...   37.970000   50.000000    1.000000\n",
              "\n",
              "[8 rows x 14 columns]"
            ]
          },
          "metadata": {},
          "execution_count": 60
        }
      ]
    },
    {
      "cell_type": "code",
      "metadata": {
        "colab": {
          "base_uri": "https://localhost:8080/",
          "height": 488
        },
        "id": "qMgtwEE9ZwPT",
        "outputId": "f73f2ac6-7c88-47af-b6e7-3b29c2e93923"
      },
      "source": [
        "#보스턴 주택 데이터 각각의 함수를 이용하여 데이터 요약하기 (참고)\n",
        "pd.DataFrame({'mean': bostonHousing_df.mean(),\n",
        "              'sd': bostonHousing_df.std(),\n",
        "              'min': bostonHousing_df.min(),\n",
        "              'max': bostonHousing_df.max(),\n",
        "              'median': bostonHousing_df.median(),\n",
        "              'length': len(bostonHousing_df),\n",
        "              'miss.val': bostonHousing_df.isnull().sum(),\n",
        "             })"
      ],
      "execution_count": 61,
      "outputs": [
        {
          "output_type": "execute_result",
          "data": {
            "text/html": [
              "<div>\n",
              "<style scoped>\n",
              "    .dataframe tbody tr th:only-of-type {\n",
              "        vertical-align: middle;\n",
              "    }\n",
              "\n",
              "    .dataframe tbody tr th {\n",
              "        vertical-align: top;\n",
              "    }\n",
              "\n",
              "    .dataframe thead th {\n",
              "        text-align: right;\n",
              "    }\n",
              "</style>\n",
              "<table border=\"1\" class=\"dataframe\">\n",
              "  <thead>\n",
              "    <tr style=\"text-align: right;\">\n",
              "      <th></th>\n",
              "      <th>mean</th>\n",
              "      <th>sd</th>\n",
              "      <th>min</th>\n",
              "      <th>max</th>\n",
              "      <th>median</th>\n",
              "      <th>length</th>\n",
              "      <th>miss.val</th>\n",
              "    </tr>\n",
              "  </thead>\n",
              "  <tbody>\n",
              "    <tr>\n",
              "      <th>CRIM</th>\n",
              "      <td>3.613524</td>\n",
              "      <td>8.601545</td>\n",
              "      <td>0.00632</td>\n",
              "      <td>88.9762</td>\n",
              "      <td>0.25651</td>\n",
              "      <td>506</td>\n",
              "      <td>0</td>\n",
              "    </tr>\n",
              "    <tr>\n",
              "      <th>ZN</th>\n",
              "      <td>11.363636</td>\n",
              "      <td>23.322453</td>\n",
              "      <td>0.00000</td>\n",
              "      <td>100.0000</td>\n",
              "      <td>0.00000</td>\n",
              "      <td>506</td>\n",
              "      <td>0</td>\n",
              "    </tr>\n",
              "    <tr>\n",
              "      <th>INDUS</th>\n",
              "      <td>11.136779</td>\n",
              "      <td>6.860353</td>\n",
              "      <td>0.46000</td>\n",
              "      <td>27.7400</td>\n",
              "      <td>9.69000</td>\n",
              "      <td>506</td>\n",
              "      <td>0</td>\n",
              "    </tr>\n",
              "    <tr>\n",
              "      <th>CHAS</th>\n",
              "      <td>0.069170</td>\n",
              "      <td>0.253994</td>\n",
              "      <td>0.00000</td>\n",
              "      <td>1.0000</td>\n",
              "      <td>0.00000</td>\n",
              "      <td>506</td>\n",
              "      <td>0</td>\n",
              "    </tr>\n",
              "    <tr>\n",
              "      <th>NOX</th>\n",
              "      <td>0.554695</td>\n",
              "      <td>0.115878</td>\n",
              "      <td>0.38500</td>\n",
              "      <td>0.8710</td>\n",
              "      <td>0.53800</td>\n",
              "      <td>506</td>\n",
              "      <td>0</td>\n",
              "    </tr>\n",
              "    <tr>\n",
              "      <th>RM</th>\n",
              "      <td>6.284634</td>\n",
              "      <td>0.702617</td>\n",
              "      <td>3.56100</td>\n",
              "      <td>8.7800</td>\n",
              "      <td>6.20850</td>\n",
              "      <td>506</td>\n",
              "      <td>0</td>\n",
              "    </tr>\n",
              "    <tr>\n",
              "      <th>AGE</th>\n",
              "      <td>68.574901</td>\n",
              "      <td>28.148861</td>\n",
              "      <td>2.90000</td>\n",
              "      <td>100.0000</td>\n",
              "      <td>77.50000</td>\n",
              "      <td>506</td>\n",
              "      <td>0</td>\n",
              "    </tr>\n",
              "    <tr>\n",
              "      <th>DIS</th>\n",
              "      <td>3.795043</td>\n",
              "      <td>2.105710</td>\n",
              "      <td>1.12960</td>\n",
              "      <td>12.1265</td>\n",
              "      <td>3.20745</td>\n",
              "      <td>506</td>\n",
              "      <td>0</td>\n",
              "    </tr>\n",
              "    <tr>\n",
              "      <th>RAD</th>\n",
              "      <td>9.549407</td>\n",
              "      <td>8.707259</td>\n",
              "      <td>1.00000</td>\n",
              "      <td>24.0000</td>\n",
              "      <td>5.00000</td>\n",
              "      <td>506</td>\n",
              "      <td>0</td>\n",
              "    </tr>\n",
              "    <tr>\n",
              "      <th>TAX</th>\n",
              "      <td>408.237154</td>\n",
              "      <td>168.537116</td>\n",
              "      <td>187.00000</td>\n",
              "      <td>711.0000</td>\n",
              "      <td>330.00000</td>\n",
              "      <td>506</td>\n",
              "      <td>0</td>\n",
              "    </tr>\n",
              "    <tr>\n",
              "      <th>PTRATIO</th>\n",
              "      <td>18.455534</td>\n",
              "      <td>2.164946</td>\n",
              "      <td>12.60000</td>\n",
              "      <td>22.0000</td>\n",
              "      <td>19.05000</td>\n",
              "      <td>506</td>\n",
              "      <td>0</td>\n",
              "    </tr>\n",
              "    <tr>\n",
              "      <th>LSTAT</th>\n",
              "      <td>12.653063</td>\n",
              "      <td>7.141062</td>\n",
              "      <td>1.73000</td>\n",
              "      <td>37.9700</td>\n",
              "      <td>11.36000</td>\n",
              "      <td>506</td>\n",
              "      <td>0</td>\n",
              "    </tr>\n",
              "    <tr>\n",
              "      <th>MEDV</th>\n",
              "      <td>22.532806</td>\n",
              "      <td>9.197104</td>\n",
              "      <td>5.00000</td>\n",
              "      <td>50.0000</td>\n",
              "      <td>21.20000</td>\n",
              "      <td>506</td>\n",
              "      <td>0</td>\n",
              "    </tr>\n",
              "    <tr>\n",
              "      <th>CAT_MEDV</th>\n",
              "      <td>0.166008</td>\n",
              "      <td>0.372456</td>\n",
              "      <td>0.00000</td>\n",
              "      <td>1.0000</td>\n",
              "      <td>0.00000</td>\n",
              "      <td>506</td>\n",
              "      <td>0</td>\n",
              "    </tr>\n",
              "  </tbody>\n",
              "</table>\n",
              "</div>"
            ],
            "text/plain": [
              "                mean          sd        min  ...     median  length  miss.val\n",
              "CRIM        3.613524    8.601545    0.00632  ...    0.25651     506         0\n",
              "ZN         11.363636   23.322453    0.00000  ...    0.00000     506         0\n",
              "INDUS      11.136779    6.860353    0.46000  ...    9.69000     506         0\n",
              "CHAS        0.069170    0.253994    0.00000  ...    0.00000     506         0\n",
              "NOX         0.554695    0.115878    0.38500  ...    0.53800     506         0\n",
              "RM          6.284634    0.702617    3.56100  ...    6.20850     506         0\n",
              "AGE        68.574901   28.148861    2.90000  ...   77.50000     506         0\n",
              "DIS         3.795043    2.105710    1.12960  ...    3.20745     506         0\n",
              "RAD         9.549407    8.707259    1.00000  ...    5.00000     506         0\n",
              "TAX       408.237154  168.537116  187.00000  ...  330.00000     506         0\n",
              "PTRATIO    18.455534    2.164946   12.60000  ...   19.05000     506         0\n",
              "LSTAT      12.653063    7.141062    1.73000  ...   11.36000     506         0\n",
              "MEDV       22.532806    9.197104    5.00000  ...   21.20000     506         0\n",
              "CAT_MEDV    0.166008    0.372456    0.00000  ...    0.00000     506         0\n",
              "\n",
              "[14 rows x 7 columns]"
            ]
          },
          "metadata": {},
          "execution_count": 61
        }
      ]
    },
    {
      "cell_type": "markdown",
      "metadata": {
        "id": "uhzONJOzk1Tj"
      },
      "source": [
        "### **취합과 피벗 테이블**"
      ]
    },
    {
      "cell_type": "markdown",
      "metadata": {
        "id": "XkiotNwIk3Qf"
      },
      "source": [
        "*  하나 또는 여러 개의 변수에 대해 레코드를 취합하고 요약 통계량(빈도수, 평균, 비율 등)을 계산함\n",
        "*  분류문제에서 예측변수들을 찾을 때 매우 유용함\n",
        "> *  각 클래스별로 예측변수들의 기술 통계량들을 요약하는 방법"
      ]
    },
    {
      "cell_type": "code",
      "metadata": {
        "colab": {
          "base_uri": "https://localhost:8080/",
          "height": 206
        },
        "id": "UyjvZDN2aPd1",
        "outputId": "8b40c1e4-40d0-4005-d766-6d06ffa97e0a"
      },
      "source": [
        "# RM(거주지의 평균 방 개수) 구간화 (CASE WHEN 떠올리기)\n",
        "# RM 값의 범위?를 알기 위한 것... pd.cut으로 소수점 잘라내기\n",
        "bostonHousing_df['RM_bin'] = pd.cut(bostonHousing_df.RM, bins=range(0, 10), labels=False)\n",
        "bostonHousing_df.head(5)"
      ],
      "execution_count": 63,
      "outputs": [
        {
          "output_type": "execute_result",
          "data": {
            "text/html": [
              "<div>\n",
              "<style scoped>\n",
              "    .dataframe tbody tr th:only-of-type {\n",
              "        vertical-align: middle;\n",
              "    }\n",
              "\n",
              "    .dataframe tbody tr th {\n",
              "        vertical-align: top;\n",
              "    }\n",
              "\n",
              "    .dataframe thead th {\n",
              "        text-align: right;\n",
              "    }\n",
              "</style>\n",
              "<table border=\"1\" class=\"dataframe\">\n",
              "  <thead>\n",
              "    <tr style=\"text-align: right;\">\n",
              "      <th></th>\n",
              "      <th>CRIM</th>\n",
              "      <th>ZN</th>\n",
              "      <th>INDUS</th>\n",
              "      <th>CHAS</th>\n",
              "      <th>NOX</th>\n",
              "      <th>RM</th>\n",
              "      <th>AGE</th>\n",
              "      <th>DIS</th>\n",
              "      <th>RAD</th>\n",
              "      <th>TAX</th>\n",
              "      <th>PTRATIO</th>\n",
              "      <th>LSTAT</th>\n",
              "      <th>MEDV</th>\n",
              "      <th>CAT_MEDV</th>\n",
              "      <th>RM_bin</th>\n",
              "    </tr>\n",
              "  </thead>\n",
              "  <tbody>\n",
              "    <tr>\n",
              "      <th>0</th>\n",
              "      <td>0.00632</td>\n",
              "      <td>18.0</td>\n",
              "      <td>2.31</td>\n",
              "      <td>0</td>\n",
              "      <td>0.538</td>\n",
              "      <td>6.575</td>\n",
              "      <td>65.2</td>\n",
              "      <td>4.0900</td>\n",
              "      <td>1</td>\n",
              "      <td>296</td>\n",
              "      <td>15.3</td>\n",
              "      <td>4.98</td>\n",
              "      <td>24.0</td>\n",
              "      <td>0</td>\n",
              "      <td>6</td>\n",
              "    </tr>\n",
              "    <tr>\n",
              "      <th>1</th>\n",
              "      <td>0.02731</td>\n",
              "      <td>0.0</td>\n",
              "      <td>7.07</td>\n",
              "      <td>0</td>\n",
              "      <td>0.469</td>\n",
              "      <td>6.421</td>\n",
              "      <td>78.9</td>\n",
              "      <td>4.9671</td>\n",
              "      <td>2</td>\n",
              "      <td>242</td>\n",
              "      <td>17.8</td>\n",
              "      <td>9.14</td>\n",
              "      <td>21.6</td>\n",
              "      <td>0</td>\n",
              "      <td>6</td>\n",
              "    </tr>\n",
              "    <tr>\n",
              "      <th>2</th>\n",
              "      <td>0.02729</td>\n",
              "      <td>0.0</td>\n",
              "      <td>7.07</td>\n",
              "      <td>0</td>\n",
              "      <td>0.469</td>\n",
              "      <td>7.185</td>\n",
              "      <td>61.1</td>\n",
              "      <td>4.9671</td>\n",
              "      <td>2</td>\n",
              "      <td>242</td>\n",
              "      <td>17.8</td>\n",
              "      <td>4.03</td>\n",
              "      <td>34.7</td>\n",
              "      <td>1</td>\n",
              "      <td>7</td>\n",
              "    </tr>\n",
              "    <tr>\n",
              "      <th>3</th>\n",
              "      <td>0.03237</td>\n",
              "      <td>0.0</td>\n",
              "      <td>2.18</td>\n",
              "      <td>0</td>\n",
              "      <td>0.458</td>\n",
              "      <td>6.998</td>\n",
              "      <td>45.8</td>\n",
              "      <td>6.0622</td>\n",
              "      <td>3</td>\n",
              "      <td>222</td>\n",
              "      <td>18.7</td>\n",
              "      <td>2.94</td>\n",
              "      <td>33.4</td>\n",
              "      <td>1</td>\n",
              "      <td>6</td>\n",
              "    </tr>\n",
              "    <tr>\n",
              "      <th>4</th>\n",
              "      <td>0.06905</td>\n",
              "      <td>0.0</td>\n",
              "      <td>2.18</td>\n",
              "      <td>0</td>\n",
              "      <td>0.458</td>\n",
              "      <td>7.147</td>\n",
              "      <td>54.2</td>\n",
              "      <td>6.0622</td>\n",
              "      <td>3</td>\n",
              "      <td>222</td>\n",
              "      <td>18.7</td>\n",
              "      <td>5.33</td>\n",
              "      <td>36.2</td>\n",
              "      <td>1</td>\n",
              "      <td>7</td>\n",
              "    </tr>\n",
              "  </tbody>\n",
              "</table>\n",
              "</div>"
            ],
            "text/plain": [
              "      CRIM    ZN  INDUS  CHAS    NOX  ...  PTRATIO  LSTAT  MEDV  CAT_MEDV  RM_bin\n",
              "0  0.00632  18.0   2.31     0  0.538  ...     15.3   4.98  24.0         0       6\n",
              "1  0.02731   0.0   7.07     0  0.469  ...     17.8   9.14  21.6         0       6\n",
              "2  0.02729   0.0   7.07     0  0.469  ...     17.8   4.03  34.7         1       7\n",
              "3  0.03237   0.0   2.18     0  0.458  ...     18.7   2.94  33.4         1       6\n",
              "4  0.06905   0.0   2.18     0  0.458  ...     18.7   5.33  36.2         1       7\n",
              "\n",
              "[5 rows x 15 columns]"
            ]
          },
          "metadata": {},
          "execution_count": 63
        }
      ]
    },
    {
      "cell_type": "code",
      "metadata": {
        "colab": {
          "base_uri": "https://localhost:8080/"
        },
        "id": "i7KNGL4McMax",
        "outputId": "c661a40e-636a-46ec-b956-998e40033501"
      },
      "source": [
        "#RM_bin(거주지의 평균 방 개수구간)별, CHAS(찰스강 인접 여부)별 MEDV(주택가격의 중앙값) 계산하기\n",
        "bostonHousing_df.groupby(['RM_bin', 'CHAS'])['MEDV'].mean()"
      ],
      "execution_count": 64,
      "outputs": [
        {
          "output_type": "execute_result",
          "data": {
            "text/plain": [
              "RM_bin  CHAS\n",
              "3       0       25.300000\n",
              "4       0       15.407143\n",
              "5       0       17.200000\n",
              "        1       22.218182\n",
              "6       0       21.769170\n",
              "        1       25.918750\n",
              "7       0       35.964444\n",
              "        1       44.066667\n",
              "8       0       45.700000\n",
              "        1       35.950000\n",
              "Name: MEDV, dtype: float64"
            ]
          },
          "metadata": {},
          "execution_count": 64
        }
      ]
    },
    {
      "cell_type": "code",
      "metadata": {
        "colab": {
          "base_uri": "https://localhost:8080/",
          "height": 426
        },
        "id": "xefwxeJWdWZ-",
        "outputId": "10cda922-5254-46a9-9542-c659bc8caced"
      },
      "source": [
        "#RM_bin(거주지의 평균 방 개수구간)별, CHAS(찰스강 인접 여부)별 MEDV(주택가격의 중앙값) 계산하기 (참고)\n",
        "# 위랑 동일한 결과임\n",
        "bostonHousing_df.groupby(['RM_bin', 'CHAS']).agg({\"MEDV\": [np.mean]})"
      ],
      "execution_count": 66,
      "outputs": [
        {
          "output_type": "execute_result",
          "data": {
            "text/html": [
              "<div>\n",
              "<style scoped>\n",
              "    .dataframe tbody tr th:only-of-type {\n",
              "        vertical-align: middle;\n",
              "    }\n",
              "\n",
              "    .dataframe tbody tr th {\n",
              "        vertical-align: top;\n",
              "    }\n",
              "\n",
              "    .dataframe thead tr th {\n",
              "        text-align: left;\n",
              "    }\n",
              "\n",
              "    .dataframe thead tr:last-of-type th {\n",
              "        text-align: right;\n",
              "    }\n",
              "</style>\n",
              "<table border=\"1\" class=\"dataframe\">\n",
              "  <thead>\n",
              "    <tr>\n",
              "      <th></th>\n",
              "      <th></th>\n",
              "      <th>MEDV</th>\n",
              "    </tr>\n",
              "    <tr>\n",
              "      <th></th>\n",
              "      <th></th>\n",
              "      <th>mean</th>\n",
              "    </tr>\n",
              "    <tr>\n",
              "      <th>RM_bin</th>\n",
              "      <th>CHAS</th>\n",
              "      <th></th>\n",
              "    </tr>\n",
              "  </thead>\n",
              "  <tbody>\n",
              "    <tr>\n",
              "      <th>3</th>\n",
              "      <th>0</th>\n",
              "      <td>25.300000</td>\n",
              "    </tr>\n",
              "    <tr>\n",
              "      <th>4</th>\n",
              "      <th>0</th>\n",
              "      <td>15.407143</td>\n",
              "    </tr>\n",
              "    <tr>\n",
              "      <th rowspan=\"2\" valign=\"top\">5</th>\n",
              "      <th>0</th>\n",
              "      <td>17.200000</td>\n",
              "    </tr>\n",
              "    <tr>\n",
              "      <th>1</th>\n",
              "      <td>22.218182</td>\n",
              "    </tr>\n",
              "    <tr>\n",
              "      <th rowspan=\"2\" valign=\"top\">6</th>\n",
              "      <th>0</th>\n",
              "      <td>21.769170</td>\n",
              "    </tr>\n",
              "    <tr>\n",
              "      <th>1</th>\n",
              "      <td>25.918750</td>\n",
              "    </tr>\n",
              "    <tr>\n",
              "      <th rowspan=\"2\" valign=\"top\">7</th>\n",
              "      <th>0</th>\n",
              "      <td>35.964444</td>\n",
              "    </tr>\n",
              "    <tr>\n",
              "      <th>1</th>\n",
              "      <td>44.066667</td>\n",
              "    </tr>\n",
              "    <tr>\n",
              "      <th rowspan=\"2\" valign=\"top\">8</th>\n",
              "      <th>0</th>\n",
              "      <td>45.700000</td>\n",
              "    </tr>\n",
              "    <tr>\n",
              "      <th>1</th>\n",
              "      <td>35.950000</td>\n",
              "    </tr>\n",
              "  </tbody>\n",
              "</table>\n",
              "</div>"
            ],
            "text/plain": [
              "                  MEDV\n",
              "                  mean\n",
              "RM_bin CHAS           \n",
              "3      0     25.300000\n",
              "4      0     15.407143\n",
              "5      0     17.200000\n",
              "       1     22.218182\n",
              "6      0     21.769170\n",
              "       1     25.918750\n",
              "7      0     35.964444\n",
              "       1     44.066667\n",
              "8      0     45.700000\n",
              "       1     35.950000"
            ]
          },
          "metadata": {},
          "execution_count": 66
        }
      ]
    },
    {
      "cell_type": "code",
      "metadata": {
        "colab": {
          "base_uri": "https://localhost:8080/",
          "height": 206
        },
        "id": "rGqx1mcmaxMq",
        "outputId": "0ce7d12a-9a36-4a9d-8ba5-12989063b0b8"
      },
      "source": [
        "#RM_bin(거주지의 평균 방 개수구간)별, CHAS(찰스강 인접 여부)별 MEDV(주택가격의 중앙값) 값 형태로 데이터 변환하기 (참고)\n",
        "mlt = pd.melt(bostonHousing_df, id_vars=['RM_bin', 'CHAS'], \n",
        "              value_vars=['MEDV'])\n",
        "mlt.head()"
      ],
      "execution_count": 67,
      "outputs": [
        {
          "output_type": "execute_result",
          "data": {
            "text/html": [
              "<div>\n",
              "<style scoped>\n",
              "    .dataframe tbody tr th:only-of-type {\n",
              "        vertical-align: middle;\n",
              "    }\n",
              "\n",
              "    .dataframe tbody tr th {\n",
              "        vertical-align: top;\n",
              "    }\n",
              "\n",
              "    .dataframe thead th {\n",
              "        text-align: right;\n",
              "    }\n",
              "</style>\n",
              "<table border=\"1\" class=\"dataframe\">\n",
              "  <thead>\n",
              "    <tr style=\"text-align: right;\">\n",
              "      <th></th>\n",
              "      <th>RM_bin</th>\n",
              "      <th>CHAS</th>\n",
              "      <th>variable</th>\n",
              "      <th>value</th>\n",
              "    </tr>\n",
              "  </thead>\n",
              "  <tbody>\n",
              "    <tr>\n",
              "      <th>0</th>\n",
              "      <td>6</td>\n",
              "      <td>0</td>\n",
              "      <td>MEDV</td>\n",
              "      <td>24.0</td>\n",
              "    </tr>\n",
              "    <tr>\n",
              "      <th>1</th>\n",
              "      <td>6</td>\n",
              "      <td>0</td>\n",
              "      <td>MEDV</td>\n",
              "      <td>21.6</td>\n",
              "    </tr>\n",
              "    <tr>\n",
              "      <th>2</th>\n",
              "      <td>7</td>\n",
              "      <td>0</td>\n",
              "      <td>MEDV</td>\n",
              "      <td>34.7</td>\n",
              "    </tr>\n",
              "    <tr>\n",
              "      <th>3</th>\n",
              "      <td>6</td>\n",
              "      <td>0</td>\n",
              "      <td>MEDV</td>\n",
              "      <td>33.4</td>\n",
              "    </tr>\n",
              "    <tr>\n",
              "      <th>4</th>\n",
              "      <td>7</td>\n",
              "      <td>0</td>\n",
              "      <td>MEDV</td>\n",
              "      <td>36.2</td>\n",
              "    </tr>\n",
              "  </tbody>\n",
              "</table>\n",
              "</div>"
            ],
            "text/plain": [
              "   RM_bin  CHAS variable  value\n",
              "0       6     0     MEDV   24.0\n",
              "1       6     0     MEDV   21.6\n",
              "2       7     0     MEDV   34.7\n",
              "3       6     0     MEDV   33.4\n",
              "4       7     0     MEDV   36.2"
            ]
          },
          "metadata": {},
          "execution_count": 67
        }
      ]
    },
    {
      "cell_type": "code",
      "metadata": {
        "colab": {
          "base_uri": "https://localhost:8080/",
          "height": 300
        },
        "id": "BBCswUohduL-",
        "outputId": "b448d985-edf7-4245-bc65-c253360c2f13"
      },
      "source": [
        "#RM_bin(거주지의 평균 방 개수구간)별, CHAS(찰스강 인접 여부)별 MEDV(주택가격의 중앙값) 평균값 계산하기\n",
        "pd.pivot_table(bostonHousing_df, values='MEDV', index=['RM_bin'], columns=['CHAS'], aggfunc=np.mean, margins=True)"
      ],
      "execution_count": 68,
      "outputs": [
        {
          "output_type": "execute_result",
          "data": {
            "text/html": [
              "<div>\n",
              "<style scoped>\n",
              "    .dataframe tbody tr th:only-of-type {\n",
              "        vertical-align: middle;\n",
              "    }\n",
              "\n",
              "    .dataframe tbody tr th {\n",
              "        vertical-align: top;\n",
              "    }\n",
              "\n",
              "    .dataframe thead th {\n",
              "        text-align: right;\n",
              "    }\n",
              "</style>\n",
              "<table border=\"1\" class=\"dataframe\">\n",
              "  <thead>\n",
              "    <tr style=\"text-align: right;\">\n",
              "      <th>CHAS</th>\n",
              "      <th>0</th>\n",
              "      <th>1</th>\n",
              "      <th>All</th>\n",
              "    </tr>\n",
              "    <tr>\n",
              "      <th>RM_bin</th>\n",
              "      <th></th>\n",
              "      <th></th>\n",
              "      <th></th>\n",
              "    </tr>\n",
              "  </thead>\n",
              "  <tbody>\n",
              "    <tr>\n",
              "      <th>3</th>\n",
              "      <td>25.300000</td>\n",
              "      <td>NaN</td>\n",
              "      <td>25.300000</td>\n",
              "    </tr>\n",
              "    <tr>\n",
              "      <th>4</th>\n",
              "      <td>15.407143</td>\n",
              "      <td>NaN</td>\n",
              "      <td>15.407143</td>\n",
              "    </tr>\n",
              "    <tr>\n",
              "      <th>5</th>\n",
              "      <td>17.200000</td>\n",
              "      <td>22.218182</td>\n",
              "      <td>17.551592</td>\n",
              "    </tr>\n",
              "    <tr>\n",
              "      <th>6</th>\n",
              "      <td>21.769170</td>\n",
              "      <td>25.918750</td>\n",
              "      <td>22.015985</td>\n",
              "    </tr>\n",
              "    <tr>\n",
              "      <th>7</th>\n",
              "      <td>35.964444</td>\n",
              "      <td>44.066667</td>\n",
              "      <td>36.917647</td>\n",
              "    </tr>\n",
              "    <tr>\n",
              "      <th>8</th>\n",
              "      <td>45.700000</td>\n",
              "      <td>35.950000</td>\n",
              "      <td>44.200000</td>\n",
              "    </tr>\n",
              "    <tr>\n",
              "      <th>All</th>\n",
              "      <td>22.093843</td>\n",
              "      <td>28.440000</td>\n",
              "      <td>22.532806</td>\n",
              "    </tr>\n",
              "  </tbody>\n",
              "</table>\n",
              "</div>"
            ],
            "text/plain": [
              "CHAS            0          1        All\n",
              "RM_bin                                 \n",
              "3       25.300000        NaN  25.300000\n",
              "4       15.407143        NaN  15.407143\n",
              "5       17.200000  22.218182  17.551592\n",
              "6       21.769170  25.918750  22.015985\n",
              "7       35.964444  44.066667  36.917647\n",
              "8       45.700000  35.950000  44.200000\n",
              "All     22.093843  28.440000  22.532806"
            ]
          },
          "metadata": {},
          "execution_count": 68
        }
      ]
    },
    {
      "cell_type": "code",
      "metadata": {
        "id": "5Xx-Oo5B8rNR"
      },
      "source": [
        "#sql비교 (참고)\n",
        "from sqlalchemy import create_engine #패키지 내 특정함수\n",
        "engine = create_engine('sqlite:///:memory:')\n",
        "bostonHousing_df.to_sql('bostonHousing_df', engine)"
      ],
      "execution_count": 69,
      "outputs": []
    },
    {
      "cell_type": "code",
      "metadata": {
        "colab": {
          "base_uri": "https://localhost:8080/",
          "height": 363
        },
        "id": "MUMF1Udv83GB",
        "outputId": "11cb0809-a724-442b-99eb-5b86dd61de9c"
      },
      "source": [
        "#sql (참고)\n",
        "pd.read_sql(f\"\"\"\n",
        "SELECT RM_bin, CHAS, avg(MEDV)\n",
        "FROM bostonHousing_df\n",
        "GROUP BY 1,2;\n",
        "\"\"\"\n",
        ", engine)"
      ],
      "execution_count": 70,
      "outputs": [
        {
          "output_type": "execute_result",
          "data": {
            "text/html": [
              "<div>\n",
              "<style scoped>\n",
              "    .dataframe tbody tr th:only-of-type {\n",
              "        vertical-align: middle;\n",
              "    }\n",
              "\n",
              "    .dataframe tbody tr th {\n",
              "        vertical-align: top;\n",
              "    }\n",
              "\n",
              "    .dataframe thead th {\n",
              "        text-align: right;\n",
              "    }\n",
              "</style>\n",
              "<table border=\"1\" class=\"dataframe\">\n",
              "  <thead>\n",
              "    <tr style=\"text-align: right;\">\n",
              "      <th></th>\n",
              "      <th>RM_bin</th>\n",
              "      <th>CHAS</th>\n",
              "      <th>avg(MEDV)</th>\n",
              "    </tr>\n",
              "  </thead>\n",
              "  <tbody>\n",
              "    <tr>\n",
              "      <th>0</th>\n",
              "      <td>3</td>\n",
              "      <td>0</td>\n",
              "      <td>25.300000</td>\n",
              "    </tr>\n",
              "    <tr>\n",
              "      <th>1</th>\n",
              "      <td>4</td>\n",
              "      <td>0</td>\n",
              "      <td>15.407143</td>\n",
              "    </tr>\n",
              "    <tr>\n",
              "      <th>2</th>\n",
              "      <td>5</td>\n",
              "      <td>0</td>\n",
              "      <td>17.200000</td>\n",
              "    </tr>\n",
              "    <tr>\n",
              "      <th>3</th>\n",
              "      <td>5</td>\n",
              "      <td>1</td>\n",
              "      <td>22.218182</td>\n",
              "    </tr>\n",
              "    <tr>\n",
              "      <th>4</th>\n",
              "      <td>6</td>\n",
              "      <td>0</td>\n",
              "      <td>21.769170</td>\n",
              "    </tr>\n",
              "    <tr>\n",
              "      <th>5</th>\n",
              "      <td>6</td>\n",
              "      <td>1</td>\n",
              "      <td>25.918750</td>\n",
              "    </tr>\n",
              "    <tr>\n",
              "      <th>6</th>\n",
              "      <td>7</td>\n",
              "      <td>0</td>\n",
              "      <td>35.964444</td>\n",
              "    </tr>\n",
              "    <tr>\n",
              "      <th>7</th>\n",
              "      <td>7</td>\n",
              "      <td>1</td>\n",
              "      <td>44.066667</td>\n",
              "    </tr>\n",
              "    <tr>\n",
              "      <th>8</th>\n",
              "      <td>8</td>\n",
              "      <td>0</td>\n",
              "      <td>45.700000</td>\n",
              "    </tr>\n",
              "    <tr>\n",
              "      <th>9</th>\n",
              "      <td>8</td>\n",
              "      <td>1</td>\n",
              "      <td>35.950000</td>\n",
              "    </tr>\n",
              "  </tbody>\n",
              "</table>\n",
              "</div>"
            ],
            "text/plain": [
              "   RM_bin  CHAS  avg(MEDV)\n",
              "0       3     0  25.300000\n",
              "1       4     0  15.407143\n",
              "2       5     0  17.200000\n",
              "3       5     1  22.218182\n",
              "4       6     0  21.769170\n",
              "5       6     1  25.918750\n",
              "6       7     0  35.964444\n",
              "7       7     1  44.066667\n",
              "8       8     0  45.700000\n",
              "9       8     1  35.950000"
            ]
          },
          "metadata": {},
          "execution_count": 70
        }
      ]
    },
    {
      "cell_type": "markdown",
      "metadata": {
        "id": "8eHHqXbfk_B9"
      },
      "source": [
        "## **10.3.2 상관분석**"
      ]
    },
    {
      "cell_type": "markdown",
      "metadata": {
        "id": "M-AfcMSclAmM"
      },
      "source": [
        "*  많은 수의 변수가 있는 데이터세트에서 변수들 간의 중복을 찾을 수 있는 간단한 방법\n",
        "*  매우 강한 (양의 또는 음의) 상관이 있는 변수 쌍은 정보의 많은 부분이 겹치게 되어, 이들 변수 중 하나를 제거함으로써 데이터 축소를 할 수 있음\n"
      ]
    },
    {
      "cell_type": "code",
      "metadata": {
        "colab": {
          "base_uri": "https://localhost:8080/",
          "height": 520
        },
        "id": "I-EL7gQ5aLb4",
        "outputId": "a5550aec-0b07-4953-85d4-6eb678167096"
      },
      "source": [
        "# 보스턴 주택 데이터 상관관계\n",
        "# .corr로 피어슨 상관계수 계산함. round로는 반올림\n",
        "bostonHousing_df.corr().round(2)"
      ],
      "execution_count": 72,
      "outputs": [
        {
          "output_type": "execute_result",
          "data": {
            "text/html": [
              "<div>\n",
              "<style scoped>\n",
              "    .dataframe tbody tr th:only-of-type {\n",
              "        vertical-align: middle;\n",
              "    }\n",
              "\n",
              "    .dataframe tbody tr th {\n",
              "        vertical-align: top;\n",
              "    }\n",
              "\n",
              "    .dataframe thead th {\n",
              "        text-align: right;\n",
              "    }\n",
              "</style>\n",
              "<table border=\"1\" class=\"dataframe\">\n",
              "  <thead>\n",
              "    <tr style=\"text-align: right;\">\n",
              "      <th></th>\n",
              "      <th>CRIM</th>\n",
              "      <th>ZN</th>\n",
              "      <th>INDUS</th>\n",
              "      <th>CHAS</th>\n",
              "      <th>NOX</th>\n",
              "      <th>RM</th>\n",
              "      <th>AGE</th>\n",
              "      <th>DIS</th>\n",
              "      <th>RAD</th>\n",
              "      <th>TAX</th>\n",
              "      <th>PTRATIO</th>\n",
              "      <th>LSTAT</th>\n",
              "      <th>MEDV</th>\n",
              "      <th>CAT_MEDV</th>\n",
              "      <th>RM_bin</th>\n",
              "    </tr>\n",
              "  </thead>\n",
              "  <tbody>\n",
              "    <tr>\n",
              "      <th>CRIM</th>\n",
              "      <td>1.00</td>\n",
              "      <td>-0.20</td>\n",
              "      <td>0.41</td>\n",
              "      <td>-0.06</td>\n",
              "      <td>0.42</td>\n",
              "      <td>-0.22</td>\n",
              "      <td>0.35</td>\n",
              "      <td>-0.38</td>\n",
              "      <td>0.63</td>\n",
              "      <td>0.58</td>\n",
              "      <td>0.29</td>\n",
              "      <td>0.46</td>\n",
              "      <td>-0.39</td>\n",
              "      <td>-0.15</td>\n",
              "      <td>-0.22</td>\n",
              "    </tr>\n",
              "    <tr>\n",
              "      <th>ZN</th>\n",
              "      <td>-0.20</td>\n",
              "      <td>1.00</td>\n",
              "      <td>-0.53</td>\n",
              "      <td>-0.04</td>\n",
              "      <td>-0.52</td>\n",
              "      <td>0.31</td>\n",
              "      <td>-0.57</td>\n",
              "      <td>0.66</td>\n",
              "      <td>-0.31</td>\n",
              "      <td>-0.31</td>\n",
              "      <td>-0.39</td>\n",
              "      <td>-0.41</td>\n",
              "      <td>0.36</td>\n",
              "      <td>0.37</td>\n",
              "      <td>0.27</td>\n",
              "    </tr>\n",
              "    <tr>\n",
              "      <th>INDUS</th>\n",
              "      <td>0.41</td>\n",
              "      <td>-0.53</td>\n",
              "      <td>1.00</td>\n",
              "      <td>0.06</td>\n",
              "      <td>0.76</td>\n",
              "      <td>-0.39</td>\n",
              "      <td>0.64</td>\n",
              "      <td>-0.71</td>\n",
              "      <td>0.60</td>\n",
              "      <td>0.72</td>\n",
              "      <td>0.38</td>\n",
              "      <td>0.60</td>\n",
              "      <td>-0.48</td>\n",
              "      <td>-0.37</td>\n",
              "      <td>-0.36</td>\n",
              "    </tr>\n",
              "    <tr>\n",
              "      <th>CHAS</th>\n",
              "      <td>-0.06</td>\n",
              "      <td>-0.04</td>\n",
              "      <td>0.06</td>\n",
              "      <td>1.00</td>\n",
              "      <td>0.09</td>\n",
              "      <td>0.09</td>\n",
              "      <td>0.09</td>\n",
              "      <td>-0.10</td>\n",
              "      <td>-0.01</td>\n",
              "      <td>-0.04</td>\n",
              "      <td>-0.12</td>\n",
              "      <td>-0.05</td>\n",
              "      <td>0.18</td>\n",
              "      <td>0.11</td>\n",
              "      <td>0.07</td>\n",
              "    </tr>\n",
              "    <tr>\n",
              "      <th>NOX</th>\n",
              "      <td>0.42</td>\n",
              "      <td>-0.52</td>\n",
              "      <td>0.76</td>\n",
              "      <td>0.09</td>\n",
              "      <td>1.00</td>\n",
              "      <td>-0.30</td>\n",
              "      <td>0.73</td>\n",
              "      <td>-0.77</td>\n",
              "      <td>0.61</td>\n",
              "      <td>0.67</td>\n",
              "      <td>0.19</td>\n",
              "      <td>0.59</td>\n",
              "      <td>-0.43</td>\n",
              "      <td>-0.23</td>\n",
              "      <td>-0.26</td>\n",
              "    </tr>\n",
              "    <tr>\n",
              "      <th>RM</th>\n",
              "      <td>-0.22</td>\n",
              "      <td>0.31</td>\n",
              "      <td>-0.39</td>\n",
              "      <td>0.09</td>\n",
              "      <td>-0.30</td>\n",
              "      <td>1.00</td>\n",
              "      <td>-0.24</td>\n",
              "      <td>0.21</td>\n",
              "      <td>-0.21</td>\n",
              "      <td>-0.29</td>\n",
              "      <td>-0.36</td>\n",
              "      <td>-0.61</td>\n",
              "      <td>0.70</td>\n",
              "      <td>0.64</td>\n",
              "      <td>0.92</td>\n",
              "    </tr>\n",
              "    <tr>\n",
              "      <th>AGE</th>\n",
              "      <td>0.35</td>\n",
              "      <td>-0.57</td>\n",
              "      <td>0.64</td>\n",
              "      <td>0.09</td>\n",
              "      <td>0.73</td>\n",
              "      <td>-0.24</td>\n",
              "      <td>1.00</td>\n",
              "      <td>-0.75</td>\n",
              "      <td>0.46</td>\n",
              "      <td>0.51</td>\n",
              "      <td>0.26</td>\n",
              "      <td>0.60</td>\n",
              "      <td>-0.38</td>\n",
              "      <td>-0.19</td>\n",
              "      <td>-0.20</td>\n",
              "    </tr>\n",
              "    <tr>\n",
              "      <th>DIS</th>\n",
              "      <td>-0.38</td>\n",
              "      <td>0.66</td>\n",
              "      <td>-0.71</td>\n",
              "      <td>-0.10</td>\n",
              "      <td>-0.77</td>\n",
              "      <td>0.21</td>\n",
              "      <td>-0.75</td>\n",
              "      <td>1.00</td>\n",
              "      <td>-0.49</td>\n",
              "      <td>-0.53</td>\n",
              "      <td>-0.23</td>\n",
              "      <td>-0.50</td>\n",
              "      <td>0.25</td>\n",
              "      <td>0.12</td>\n",
              "      <td>0.18</td>\n",
              "    </tr>\n",
              "    <tr>\n",
              "      <th>RAD</th>\n",
              "      <td>0.63</td>\n",
              "      <td>-0.31</td>\n",
              "      <td>0.60</td>\n",
              "      <td>-0.01</td>\n",
              "      <td>0.61</td>\n",
              "      <td>-0.21</td>\n",
              "      <td>0.46</td>\n",
              "      <td>-0.49</td>\n",
              "      <td>1.00</td>\n",
              "      <td>0.91</td>\n",
              "      <td>0.46</td>\n",
              "      <td>0.49</td>\n",
              "      <td>-0.38</td>\n",
              "      <td>-0.20</td>\n",
              "      <td>-0.19</td>\n",
              "    </tr>\n",
              "    <tr>\n",
              "      <th>TAX</th>\n",
              "      <td>0.58</td>\n",
              "      <td>-0.31</td>\n",
              "      <td>0.72</td>\n",
              "      <td>-0.04</td>\n",
              "      <td>0.67</td>\n",
              "      <td>-0.29</td>\n",
              "      <td>0.51</td>\n",
              "      <td>-0.53</td>\n",
              "      <td>0.91</td>\n",
              "      <td>1.00</td>\n",
              "      <td>0.46</td>\n",
              "      <td>0.54</td>\n",
              "      <td>-0.47</td>\n",
              "      <td>-0.27</td>\n",
              "      <td>-0.26</td>\n",
              "    </tr>\n",
              "    <tr>\n",
              "      <th>PTRATIO</th>\n",
              "      <td>0.29</td>\n",
              "      <td>-0.39</td>\n",
              "      <td>0.38</td>\n",
              "      <td>-0.12</td>\n",
              "      <td>0.19</td>\n",
              "      <td>-0.36</td>\n",
              "      <td>0.26</td>\n",
              "      <td>-0.23</td>\n",
              "      <td>0.46</td>\n",
              "      <td>0.46</td>\n",
              "      <td>1.00</td>\n",
              "      <td>0.37</td>\n",
              "      <td>-0.51</td>\n",
              "      <td>-0.44</td>\n",
              "      <td>-0.34</td>\n",
              "    </tr>\n",
              "    <tr>\n",
              "      <th>LSTAT</th>\n",
              "      <td>0.46</td>\n",
              "      <td>-0.41</td>\n",
              "      <td>0.60</td>\n",
              "      <td>-0.05</td>\n",
              "      <td>0.59</td>\n",
              "      <td>-0.61</td>\n",
              "      <td>0.60</td>\n",
              "      <td>-0.50</td>\n",
              "      <td>0.49</td>\n",
              "      <td>0.54</td>\n",
              "      <td>0.37</td>\n",
              "      <td>1.00</td>\n",
              "      <td>-0.74</td>\n",
              "      <td>-0.47</td>\n",
              "      <td>-0.56</td>\n",
              "    </tr>\n",
              "    <tr>\n",
              "      <th>MEDV</th>\n",
              "      <td>-0.39</td>\n",
              "      <td>0.36</td>\n",
              "      <td>-0.48</td>\n",
              "      <td>0.18</td>\n",
              "      <td>-0.43</td>\n",
              "      <td>0.70</td>\n",
              "      <td>-0.38</td>\n",
              "      <td>0.25</td>\n",
              "      <td>-0.38</td>\n",
              "      <td>-0.47</td>\n",
              "      <td>-0.51</td>\n",
              "      <td>-0.74</td>\n",
              "      <td>1.00</td>\n",
              "      <td>0.79</td>\n",
              "      <td>0.62</td>\n",
              "    </tr>\n",
              "    <tr>\n",
              "      <th>CAT_MEDV</th>\n",
              "      <td>-0.15</td>\n",
              "      <td>0.37</td>\n",
              "      <td>-0.37</td>\n",
              "      <td>0.11</td>\n",
              "      <td>-0.23</td>\n",
              "      <td>0.64</td>\n",
              "      <td>-0.19</td>\n",
              "      <td>0.12</td>\n",
              "      <td>-0.20</td>\n",
              "      <td>-0.27</td>\n",
              "      <td>-0.44</td>\n",
              "      <td>-0.47</td>\n",
              "      <td>0.79</td>\n",
              "      <td>1.00</td>\n",
              "      <td>0.58</td>\n",
              "    </tr>\n",
              "    <tr>\n",
              "      <th>RM_bin</th>\n",
              "      <td>-0.22</td>\n",
              "      <td>0.27</td>\n",
              "      <td>-0.36</td>\n",
              "      <td>0.07</td>\n",
              "      <td>-0.26</td>\n",
              "      <td>0.92</td>\n",
              "      <td>-0.20</td>\n",
              "      <td>0.18</td>\n",
              "      <td>-0.19</td>\n",
              "      <td>-0.26</td>\n",
              "      <td>-0.34</td>\n",
              "      <td>-0.56</td>\n",
              "      <td>0.62</td>\n",
              "      <td>0.58</td>\n",
              "      <td>1.00</td>\n",
              "    </tr>\n",
              "  </tbody>\n",
              "</table>\n",
              "</div>"
            ],
            "text/plain": [
              "          CRIM    ZN  INDUS  CHAS   NOX  ...  PTRATIO  LSTAT  MEDV  CAT_MEDV  RM_bin\n",
              "CRIM      1.00 -0.20   0.41 -0.06  0.42  ...     0.29   0.46 -0.39     -0.15   -0.22\n",
              "ZN       -0.20  1.00  -0.53 -0.04 -0.52  ...    -0.39  -0.41  0.36      0.37    0.27\n",
              "INDUS     0.41 -0.53   1.00  0.06  0.76  ...     0.38   0.60 -0.48     -0.37   -0.36\n",
              "CHAS     -0.06 -0.04   0.06  1.00  0.09  ...    -0.12  -0.05  0.18      0.11    0.07\n",
              "NOX       0.42 -0.52   0.76  0.09  1.00  ...     0.19   0.59 -0.43     -0.23   -0.26\n",
              "RM       -0.22  0.31  -0.39  0.09 -0.30  ...    -0.36  -0.61  0.70      0.64    0.92\n",
              "AGE       0.35 -0.57   0.64  0.09  0.73  ...     0.26   0.60 -0.38     -0.19   -0.20\n",
              "DIS      -0.38  0.66  -0.71 -0.10 -0.77  ...    -0.23  -0.50  0.25      0.12    0.18\n",
              "RAD       0.63 -0.31   0.60 -0.01  0.61  ...     0.46   0.49 -0.38     -0.20   -0.19\n",
              "TAX       0.58 -0.31   0.72 -0.04  0.67  ...     0.46   0.54 -0.47     -0.27   -0.26\n",
              "PTRATIO   0.29 -0.39   0.38 -0.12  0.19  ...     1.00   0.37 -0.51     -0.44   -0.34\n",
              "LSTAT     0.46 -0.41   0.60 -0.05  0.59  ...     0.37   1.00 -0.74     -0.47   -0.56\n",
              "MEDV     -0.39  0.36  -0.48  0.18 -0.43  ...    -0.51  -0.74  1.00      0.79    0.62\n",
              "CAT_MEDV -0.15  0.37  -0.37  0.11 -0.23  ...    -0.44  -0.47  0.79      1.00    0.58\n",
              "RM_bin   -0.22  0.27  -0.36  0.07 -0.26  ...    -0.34  -0.56  0.62      0.58    1.00\n",
              "\n",
              "[15 rows x 15 columns]"
            ]
          },
          "metadata": {},
          "execution_count": 72
        }
      ]
    },
    {
      "cell_type": "markdown",
      "metadata": {
        "id": "jnv0sGw2lSKG"
      },
      "source": [
        "## **10.3.3 범주형 변수의 범주 개수 축소**"
      ]
    },
    {
      "cell_type": "markdown",
      "metadata": {
        "id": "96aYX6I3lUxs"
      },
      "source": [
        "*  범주형 변수가 예측변수인 경우 다수의 가변수로 변환을 하게 됨\n",
        "*  M개의 범주를 갖는 예측변수는 분석법에 따라 m또는 m-1개의 가변수로 변환됨\n",
        "*  매우 적은 수의 범주형 변수가 데이터세트의 차원을 크게 늘릴 수 있음\n",
        "*  해결방법은 가깝거나 유사한 범주들을 하나로 합침으로써 범주의 수를 줄이는 것임\n",
        "*  범주를 합칠 경우 전문가의 지식이 요구됨\n",
        "*  관측치 개수가 적은 범주들은 다른 범주와 결합하기에 좋은 후보가 됨\n",
        "*  분석과 가장 관련이 있는 범주들만 사용하고 나머지 범주들은 '기타'로 병합"
      ]
    },
    {
      "cell_type": "code",
      "metadata": {
        "colab": {
          "base_uri": "https://localhost:8080/",
          "height": 143
        },
        "id": "P12MpYSkeKgY",
        "outputId": "3190c720-6a5b-4d05-8463-3b96b1ec6bd7"
      },
      "source": [
        "# 보스턴 주택 데이터 ZN(25,000평방피트 기준 거주지 비율)별 CAT_MEDV(주택가격의 중앙값이 3만 달러 이상 여부) 관측치 수\n",
        "tbl = pd.crosstab(bostonHousing_df.CAT_MEDV, bostonHousing_df.ZN)\n",
        "tbl"
      ],
      "execution_count": 73,
      "outputs": [
        {
          "output_type": "execute_result",
          "data": {
            "text/html": [
              "<div>\n",
              "<style scoped>\n",
              "    .dataframe tbody tr th:only-of-type {\n",
              "        vertical-align: middle;\n",
              "    }\n",
              "\n",
              "    .dataframe tbody tr th {\n",
              "        vertical-align: top;\n",
              "    }\n",
              "\n",
              "    .dataframe thead th {\n",
              "        text-align: right;\n",
              "    }\n",
              "</style>\n",
              "<table border=\"1\" class=\"dataframe\">\n",
              "  <thead>\n",
              "    <tr style=\"text-align: right;\">\n",
              "      <th>ZN</th>\n",
              "      <th>0.0</th>\n",
              "      <th>12.5</th>\n",
              "      <th>17.5</th>\n",
              "      <th>18.0</th>\n",
              "      <th>20.0</th>\n",
              "      <th>21.0</th>\n",
              "      <th>22.0</th>\n",
              "      <th>25.0</th>\n",
              "      <th>28.0</th>\n",
              "      <th>30.0</th>\n",
              "      <th>33.0</th>\n",
              "      <th>34.0</th>\n",
              "      <th>35.0</th>\n",
              "      <th>40.0</th>\n",
              "      <th>45.0</th>\n",
              "      <th>52.5</th>\n",
              "      <th>55.0</th>\n",
              "      <th>60.0</th>\n",
              "      <th>70.0</th>\n",
              "      <th>75.0</th>\n",
              "      <th>80.0</th>\n",
              "      <th>82.5</th>\n",
              "      <th>85.0</th>\n",
              "      <th>90.0</th>\n",
              "      <th>95.0</th>\n",
              "      <th>100.0</th>\n",
              "    </tr>\n",
              "    <tr>\n",
              "      <th>CAT_MEDV</th>\n",
              "      <th></th>\n",
              "      <th></th>\n",
              "      <th></th>\n",
              "      <th></th>\n",
              "      <th></th>\n",
              "      <th></th>\n",
              "      <th></th>\n",
              "      <th></th>\n",
              "      <th></th>\n",
              "      <th></th>\n",
              "      <th></th>\n",
              "      <th></th>\n",
              "      <th></th>\n",
              "      <th></th>\n",
              "      <th></th>\n",
              "      <th></th>\n",
              "      <th></th>\n",
              "      <th></th>\n",
              "      <th></th>\n",
              "      <th></th>\n",
              "      <th></th>\n",
              "      <th></th>\n",
              "      <th></th>\n",
              "      <th></th>\n",
              "      <th></th>\n",
              "      <th></th>\n",
              "    </tr>\n",
              "  </thead>\n",
              "  <tbody>\n",
              "    <tr>\n",
              "      <th>0</th>\n",
              "      <td>339</td>\n",
              "      <td>10</td>\n",
              "      <td>0</td>\n",
              "      <td>1</td>\n",
              "      <td>5</td>\n",
              "      <td>4</td>\n",
              "      <td>9</td>\n",
              "      <td>10</td>\n",
              "      <td>3</td>\n",
              "      <td>6</td>\n",
              "      <td>2</td>\n",
              "      <td>2</td>\n",
              "      <td>2</td>\n",
              "      <td>3</td>\n",
              "      <td>1</td>\n",
              "      <td>3</td>\n",
              "      <td>2</td>\n",
              "      <td>3</td>\n",
              "      <td>3</td>\n",
              "      <td>1</td>\n",
              "      <td>10</td>\n",
              "      <td>1</td>\n",
              "      <td>2</td>\n",
              "      <td>0</td>\n",
              "      <td>0</td>\n",
              "      <td>0</td>\n",
              "    </tr>\n",
              "    <tr>\n",
              "      <th>1</th>\n",
              "      <td>33</td>\n",
              "      <td>0</td>\n",
              "      <td>1</td>\n",
              "      <td>0</td>\n",
              "      <td>16</td>\n",
              "      <td>0</td>\n",
              "      <td>1</td>\n",
              "      <td>0</td>\n",
              "      <td>0</td>\n",
              "      <td>0</td>\n",
              "      <td>2</td>\n",
              "      <td>1</td>\n",
              "      <td>1</td>\n",
              "      <td>4</td>\n",
              "      <td>5</td>\n",
              "      <td>0</td>\n",
              "      <td>1</td>\n",
              "      <td>1</td>\n",
              "      <td>0</td>\n",
              "      <td>2</td>\n",
              "      <td>5</td>\n",
              "      <td>1</td>\n",
              "      <td>0</td>\n",
              "      <td>5</td>\n",
              "      <td>4</td>\n",
              "      <td>1</td>\n",
              "    </tr>\n",
              "  </tbody>\n",
              "</table>\n",
              "</div>"
            ],
            "text/plain": [
              "ZN        0.0    12.5   17.5   18.0   20.0   ...  82.5   85.0   90.0   95.0   100.0\n",
              "CAT_MEDV                                     ...                                   \n",
              "0           339     10      0      1      5  ...      1      2      0      0      0\n",
              "1            33      0      1      0     16  ...      1      0      5      4      1\n",
              "\n",
              "[2 rows x 26 columns]"
            ]
          },
          "metadata": {},
          "execution_count": 73
        }
      ]
    },
    {
      "cell_type": "code",
      "metadata": {
        "colab": {
          "base_uri": "https://localhost:8080/",
          "height": 143
        },
        "id": "tbrRaNkV-Djd",
        "outputId": "3ce73ad1-e91c-48c8-a03f-2b478ee75a8f"
      },
      "source": [
        "# 보스턴 주택 데이터 ZN(25,000평방피트 기준 거주지 비율)별 CAT_MEDV(주택가격의 중앙값이 3만 달러 이상 여부) 관측치 수 비율(%)\n",
        "propTbl = tbl / tbl.sum()\n",
        "propTbl.round(2)"
      ],
      "execution_count": 74,
      "outputs": [
        {
          "output_type": "execute_result",
          "data": {
            "text/html": [
              "<div>\n",
              "<style scoped>\n",
              "    .dataframe tbody tr th:only-of-type {\n",
              "        vertical-align: middle;\n",
              "    }\n",
              "\n",
              "    .dataframe tbody tr th {\n",
              "        vertical-align: top;\n",
              "    }\n",
              "\n",
              "    .dataframe thead th {\n",
              "        text-align: right;\n",
              "    }\n",
              "</style>\n",
              "<table border=\"1\" class=\"dataframe\">\n",
              "  <thead>\n",
              "    <tr style=\"text-align: right;\">\n",
              "      <th>ZN</th>\n",
              "      <th>0.0</th>\n",
              "      <th>12.5</th>\n",
              "      <th>17.5</th>\n",
              "      <th>18.0</th>\n",
              "      <th>20.0</th>\n",
              "      <th>21.0</th>\n",
              "      <th>22.0</th>\n",
              "      <th>25.0</th>\n",
              "      <th>28.0</th>\n",
              "      <th>30.0</th>\n",
              "      <th>33.0</th>\n",
              "      <th>34.0</th>\n",
              "      <th>35.0</th>\n",
              "      <th>40.0</th>\n",
              "      <th>45.0</th>\n",
              "      <th>52.5</th>\n",
              "      <th>55.0</th>\n",
              "      <th>60.0</th>\n",
              "      <th>70.0</th>\n",
              "      <th>75.0</th>\n",
              "      <th>80.0</th>\n",
              "      <th>82.5</th>\n",
              "      <th>85.0</th>\n",
              "      <th>90.0</th>\n",
              "      <th>95.0</th>\n",
              "      <th>100.0</th>\n",
              "    </tr>\n",
              "    <tr>\n",
              "      <th>CAT_MEDV</th>\n",
              "      <th></th>\n",
              "      <th></th>\n",
              "      <th></th>\n",
              "      <th></th>\n",
              "      <th></th>\n",
              "      <th></th>\n",
              "      <th></th>\n",
              "      <th></th>\n",
              "      <th></th>\n",
              "      <th></th>\n",
              "      <th></th>\n",
              "      <th></th>\n",
              "      <th></th>\n",
              "      <th></th>\n",
              "      <th></th>\n",
              "      <th></th>\n",
              "      <th></th>\n",
              "      <th></th>\n",
              "      <th></th>\n",
              "      <th></th>\n",
              "      <th></th>\n",
              "      <th></th>\n",
              "      <th></th>\n",
              "      <th></th>\n",
              "      <th></th>\n",
              "      <th></th>\n",
              "    </tr>\n",
              "  </thead>\n",
              "  <tbody>\n",
              "    <tr>\n",
              "      <th>0</th>\n",
              "      <td>0.91</td>\n",
              "      <td>1.0</td>\n",
              "      <td>0.0</td>\n",
              "      <td>1.0</td>\n",
              "      <td>0.24</td>\n",
              "      <td>1.0</td>\n",
              "      <td>0.9</td>\n",
              "      <td>1.0</td>\n",
              "      <td>1.0</td>\n",
              "      <td>1.0</td>\n",
              "      <td>0.5</td>\n",
              "      <td>0.67</td>\n",
              "      <td>0.67</td>\n",
              "      <td>0.43</td>\n",
              "      <td>0.17</td>\n",
              "      <td>1.0</td>\n",
              "      <td>0.67</td>\n",
              "      <td>0.75</td>\n",
              "      <td>1.0</td>\n",
              "      <td>0.33</td>\n",
              "      <td>0.67</td>\n",
              "      <td>0.5</td>\n",
              "      <td>1.0</td>\n",
              "      <td>0.0</td>\n",
              "      <td>0.0</td>\n",
              "      <td>0.0</td>\n",
              "    </tr>\n",
              "    <tr>\n",
              "      <th>1</th>\n",
              "      <td>0.09</td>\n",
              "      <td>0.0</td>\n",
              "      <td>1.0</td>\n",
              "      <td>0.0</td>\n",
              "      <td>0.76</td>\n",
              "      <td>0.0</td>\n",
              "      <td>0.1</td>\n",
              "      <td>0.0</td>\n",
              "      <td>0.0</td>\n",
              "      <td>0.0</td>\n",
              "      <td>0.5</td>\n",
              "      <td>0.33</td>\n",
              "      <td>0.33</td>\n",
              "      <td>0.57</td>\n",
              "      <td>0.83</td>\n",
              "      <td>0.0</td>\n",
              "      <td>0.33</td>\n",
              "      <td>0.25</td>\n",
              "      <td>0.0</td>\n",
              "      <td>0.67</td>\n",
              "      <td>0.33</td>\n",
              "      <td>0.5</td>\n",
              "      <td>0.0</td>\n",
              "      <td>1.0</td>\n",
              "      <td>1.0</td>\n",
              "      <td>1.0</td>\n",
              "    </tr>\n",
              "  </tbody>\n",
              "</table>\n",
              "</div>"
            ],
            "text/plain": [
              "ZN        0.0    12.5   17.5   18.0   20.0   ...  82.5   85.0   90.0   95.0   100.0\n",
              "CAT_MEDV                                     ...                                   \n",
              "0          0.91    1.0    0.0    1.0   0.24  ...    0.5    1.0    0.0    0.0    0.0\n",
              "1          0.09    0.0    1.0    0.0   0.76  ...    0.5    0.0    1.0    1.0    1.0\n",
              "\n",
              "[2 rows x 26 columns]"
            ]
          },
          "metadata": {},
          "execution_count": 74
        }
      ]
    },
    {
      "cell_type": "code",
      "metadata": {
        "colab": {
          "base_uri": "https://localhost:8080/",
          "height": 316
        },
        "id": "SV6emLNcenR_",
        "outputId": "3f917495-ed30-4042-b2e7-e9e44756d177"
      },
      "source": [
        "# 시각화를 통한 범주 개수 축소\n",
        "#17.5, 90.0, 95.0, 100.0 그룹\n",
        "#12.5, 18.0, 21.0, 25.0, 28.0, 30.0, 52.5, 70.0 그룹\n",
        "#그외 기타 그룹\n",
        "propTbl.transpose().plot(kind='bar', stacked=True, width=0.9)"
      ],
      "execution_count": 75,
      "outputs": [
        {
          "output_type": "execute_result",
          "data": {
            "text/plain": [
              "<matplotlib.axes._subplots.AxesSubplot at 0x7f41b1ad99d0>"
            ]
          },
          "metadata": {},
          "execution_count": 75
        },
        {
          "output_type": "display_data",
          "data": {
            "image/png": "[encoded data removed]",
            "text/plain": [
              "<Figure size 432x288 with 1 Axes>"
            ]
          },
          "metadata": {
            "needs_background": "light"
          }
        }
      ]
    },
    {
      "cell_type": "markdown",
      "metadata": {
        "id": "gXG4e1uwlX7c"
      },
      "source": [
        "## **10.3.4 범주형 변수에서 수치형 변수로의 변환**"
      ]
    },
    {
      "cell_type": "markdown",
      "metadata": {
        "id": "K8Lgf7zrlXw1"
      },
      "source": [
        "*  범주형 변수의 범주들은 때때로 구간을 나타냄\n",
        "*  예: 나이 범주 2가 20-30인 경우 범주형 값(2)을 구간의 중간값(25)로 대체함 "
      ]
    }
  ]
}