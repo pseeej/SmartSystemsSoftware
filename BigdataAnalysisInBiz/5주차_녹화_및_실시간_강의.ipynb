{
  "nbformat": 4,
  "nbformat_minor": 0,
  "metadata": {
    "colab": {
      "name": "5주차녹화및실시간강의.ipynb",
      "provenance": [],
      "collapsed_sections": [],
      "toc_visible": true,
      "include_colab_link": true
    },
    "kernelspec": {
      "name": "python3",
      "display_name": "Python 3"
    },
    "language_info": {
      "name": "python"
    },
    "accelerator": "GPU"
  },
  "cells": [
    {
      "cell_type": "markdown",
      "metadata": {
        "id": "view-in-github",
        "colab_type": "text"
      },
      "source": [
        "<a href=\"https://colab.research.google.com/github/pseeej/SmartSystemsSoftware/blob/master/BigdataAnalysisInBiz/5%EC%A3%BC%EC%B0%A8_%EB%85%B9%ED%99%94_%EB%B0%8F_%EC%8B%A4%EC%8B%9C%EA%B0%84_%EA%B0%95%EC%9D%98.ipynb\" target=\"_parent\"><img src=\"https://colab.research.google.com/assets/colab-badge.svg\" alt=\"Open In Colab\"/></a>"
      ]
    },
    {
      "cell_type": "markdown",
      "metadata": {
        "id": "AGC5j0NaT0i_"
      },
      "source": [
        "교재 : SQL로 맛보는 데이터 전처리 분석, 노수영"
      ]
    },
    {
      "cell_type": "markdown",
      "metadata": {
        "id": "jk98ESXE6NvU"
      },
      "source": [
        "**실습 참고자료**\n",
        "\n",
        "https://www.sqlitetutorial.net/\n",
        "<br>https://www.w3schools.com/sql/default.asp"
      ]
    },
    {
      "cell_type": "markdown",
      "metadata": {
        "id": "VQEhLZ_nHjtE"
      },
      "source": [
        "#실습환경 셋업"
      ]
    },
    {
      "cell_type": "markdown",
      "metadata": {
        "id": "LDt13fYuxggr"
      },
      "source": [
        "## 1) sqlite 업그레이드"
      ]
    },
    {
      "cell_type": "code",
      "metadata": {
        "id": "CAVeWH8HNS-h",
        "colab": {
          "base_uri": "https://localhost:8080/"
        },
        "outputId": "d0f3030f-2aa8-458c-832e-bd5145017db1"
      },
      "source": [
        "!apt-get update\n",
        "!apt-get upgrade sqlite3\n",
        "!sudo apt-get install python3-dev default-libmysqlclient-dev\n",
        "!pip install pymysql"
      ],
      "execution_count": 2,
      "outputs": [
        {
          "output_type": "stream",
          "name": "stdout",
          "text": [
            "\r0% [Working]\r            \rGet:1 http://security.ubuntu.com/ubuntu bionic-security InRelease [88.7 kB]\n",
            "\r0% [Connecting to archive.ubuntu.com (91.189.88.142)] [1 InRelease 14.2 kB/88.7\r                                                                               \rGet:2 https://cloud.r-project.org/bin/linux/ubuntu bionic-cran40/ InRelease [3,626 B]\n",
            "Ign:3 https://developer.download.nvidia.com/compute/cuda/repos/ubuntu1804/x86_64  InRelease\n",
            "Ign:4 https://developer.download.nvidia.com/compute/machine-learning/repos/ubuntu1804/x86_64  InRelease\n",
            "Hit:5 http://ppa.launchpad.net/c2d4u.team/c2d4u4.0+/ubuntu bionic InRelease\n",
            "Hit:6 https://developer.download.nvidia.com/compute/cuda/repos/ubuntu1804/x86_64  Release\n",
            "Hit:7 http://archive.ubuntu.com/ubuntu bionic InRelease\n",
            "Hit:8 https://developer.download.nvidia.com/compute/machine-learning/repos/ubuntu1804/x86_64  Release\n",
            "Get:9 http://archive.ubuntu.com/ubuntu bionic-updates InRelease [88.7 kB]\n",
            "Hit:10 http://ppa.launchpad.net/cran/libgit2/ubuntu bionic InRelease\n",
            "Get:11 http://security.ubuntu.com/ubuntu bionic-security/restricted amd64 Packages [607 kB]\n",
            "Hit:12 http://ppa.launchpad.net/deadsnakes/ppa/ubuntu bionic InRelease\n",
            "Get:13 http://archive.ubuntu.com/ubuntu bionic-backports InRelease [74.6 kB]\n",
            "Get:14 http://security.ubuntu.com/ubuntu bionic-security/universe amd64 Packages [1,431 kB]\n",
            "Hit:15 http://ppa.launchpad.net/graphics-drivers/ppa/ubuntu bionic InRelease\n",
            "Get:16 http://security.ubuntu.com/ubuntu bionic-security/main amd64 Packages [2,367 kB]\n",
            "Get:19 http://archive.ubuntu.com/ubuntu bionic-updates/universe amd64 Packages [2,210 kB]\n",
            "Get:20 http://archive.ubuntu.com/ubuntu bionic-updates/main amd64 Packages [2,803 kB]\n",
            "Get:21 http://archive.ubuntu.com/ubuntu bionic-updates/restricted amd64 Packages [640 kB]\n",
            "Fetched 10.3 MB in 3s (2,989 kB/s)\n",
            "Reading package lists... Done\n",
            "Reading package lists... Done\n",
            "Building dependency tree       \n",
            "Reading state information... Done\n",
            "Calculating upgrade... Done\n",
            "The following NEW packages will be installed:\n",
            "  sqlite3\n",
            "The following packages have been kept back:\n",
            "  libcudnn8 libcudnn8-dev libnccl-dev libnccl2\n",
            "The following packages will be upgraded:\n",
            "  base-files binutils binutils-common binutils-x86-64-linux-gnu gnupg2 gzip\n",
            "  libaudit-common libaudit1 libbinutils libc-bin libcublas-dev libcublas10\n",
            "  libcudnn7 libcudnn7-dev libgnutls30 libhogweed4 libldap-2.4-2 libldap-common\n",
            "  liblz4-1 libnettle6 libp11-kit0 libpam-modules libpam-modules-bin\n",
            "  libpam-runtime libpam0g libsasl2-2 libsasl2-modules-db libseccomp2 libzstd1\n",
            "  linux-libc-dev openssl tar ubuntu-keyring\n",
            "33 upgraded, 1 newly installed, 0 to remove and 4 not upgraded.\n",
            "Need to get 448 MB of archives.\n",
            "After this operation, 72.1 MB of additional disk space will be used.\n",
            "Get:1 https://developer.download.nvidia.com/compute/cuda/repos/ubuntu1804/x86_64  libcublas10 10.2.3.254-1 [43.1 MB]\n",
            "Get:2 http://archive.ubuntu.com/ubuntu bionic-updates/main amd64 base-files amd64 10.1ubuntu2.11 [60.4 kB]\n",
            "Get:3 http://archive.ubuntu.com/ubuntu bionic-updates/main amd64 gzip amd64 1.6-5ubuntu1.1 [89.8 kB]\n",
            "Get:4 http://archive.ubuntu.com/ubuntu bionic-updates/main amd64 tar amd64 1.29b-2ubuntu0.2 [234 kB]\n",
            "Get:5 http://archive.ubuntu.com/ubuntu bionic-updates/main amd64 libc-bin amd64 2.27-3ubuntu1.4 [643 kB]\n",
            "Get:6 https://developer.download.nvidia.com/compute/cuda/repos/ubuntu1804/x86_64  libcublas-dev 10.2.3.254-1 [42.4 MB]\n",
            "Get:7 http://archive.ubuntu.com/ubuntu bionic-updates/main amd64 libaudit-common all 1:2.8.2-1ubuntu1.1 [4,068 B]\n",
            "Get:8 http://archive.ubuntu.com/ubuntu bionic-updates/main amd64 libaudit1 amd64 1:2.8.2-1ubuntu1.1 [38.7 kB]\n",
            "Get:9 http://archive.ubuntu.com/ubuntu bionic-updates/main amd64 libpam0g amd64 1.1.8-3.6ubuntu2.18.04.3 [55.0 kB]\n",
            "Get:10 http://archive.ubuntu.com/ubuntu bionic-updates/main amd64 libpam-modules-bin amd64 1.1.8-3.6ubuntu2.18.04.3 [40.3 kB]\n",
            "Get:11 http://archive.ubuntu.com/ubuntu bionic-updates/main amd64 libpam-modules amd64 1.1.8-3.6ubuntu2.18.04.3 [252 kB]\n",
            "Get:12 http://archive.ubuntu.com/ubuntu bionic-updates/main amd64 liblz4-1 amd64 0.0~r131-2ubuntu3.1 [48.5 kB]\n",
            "Get:13 http://archive.ubuntu.com/ubuntu bionic-updates/main amd64 libpam-runtime all 1.1.8-3.6ubuntu2.18.04.3 [37.1 kB]\n",
            "Get:14 http://archive.ubuntu.com/ubuntu bionic-updates/main amd64 libzstd1 amd64 1.3.3+dfsg-2ubuntu1.2 [189 kB]\n",
            "Get:15 http://archive.ubuntu.com/ubuntu bionic-updates/main amd64 libnettle6 amd64 3.4.1-0ubuntu0.18.04.1 [111 kB]\n",
            "Get:16 http://archive.ubuntu.com/ubuntu bionic-updates/main amd64 libhogweed4 amd64 3.4.1-0ubuntu0.18.04.1 [140 kB]\n",
            "Get:17 http://archive.ubuntu.com/ubuntu bionic-updates/main amd64 libp11-kit0 amd64 0.23.9-2ubuntu0.1 [187 kB]\n",
            "Get:18 http://archive.ubuntu.com/ubuntu bionic-updates/main amd64 libgnutls30 amd64 3.5.18-1ubuntu1.5 [646 kB]\n",
            "Get:19 http://archive.ubuntu.com/ubuntu bionic-updates/main amd64 libseccomp2 amd64 2.5.1-1ubuntu1~18.04.1 [43.1 kB]\n",
            "Get:20 http://archive.ubuntu.com/ubuntu bionic-updates/main amd64 ubuntu-keyring all 2018.09.18.1~18.04.2 [22.3 kB]\n",
            "Get:21 http://archive.ubuntu.com/ubuntu bionic-updates/main amd64 openssl amd64 1.1.1-1ubuntu2.1~18.04.13 [614 kB]\n",
            "Get:22 http://archive.ubuntu.com/ubuntu bionic-updates/main amd64 binutils-x86-64-linux-gnu amd64 2.30-21ubuntu1~18.04.5 [1,839 kB]\n",
            "Get:23 http://archive.ubuntu.com/ubuntu bionic-updates/main amd64 binutils-common amd64 2.30-21ubuntu1~18.04.5 [197 kB]\n",
            "Get:24 http://archive.ubuntu.com/ubuntu bionic-updates/main amd64 binutils amd64 2.30-21ubuntu1~18.04.5 [3,388 B]\n",
            "Get:25 http://archive.ubuntu.com/ubuntu bionic-updates/main amd64 libbinutils amd64 2.30-21ubuntu1~18.04.5 [489 kB]\n",
            "Get:26 http://archive.ubuntu.com/ubuntu bionic-updates/main amd64 libsasl2-modules-db amd64 2.1.27~101-g0780600+dfsg-3ubuntu2.3 [15.0 kB]\n",
            "Get:27 http://archive.ubuntu.com/ubuntu bionic-updates/main amd64 libsasl2-2 amd64 2.1.27~101-g0780600+dfsg-3ubuntu2.3 [49.2 kB]\n",
            "Get:28 http://archive.ubuntu.com/ubuntu bionic-updates/main amd64 libldap-common all 2.4.45+dfsg-1ubuntu1.10 [15.8 kB]\n",
            "Get:29 http://archive.ubuntu.com/ubuntu bionic-updates/main amd64 libldap-2.4-2 amd64 2.4.45+dfsg-1ubuntu1.10 [154 kB]\n",
            "Get:30 http://archive.ubuntu.com/ubuntu bionic-updates/main amd64 linux-libc-dev amd64 4.15.0-159.167 [995 kB]\n",
            "Get:31 http://archive.ubuntu.com/ubuntu bionic-updates/main amd64 sqlite3 amd64 3.22.0-1ubuntu0.4 [752 kB]\n",
            "Get:32 http://archive.ubuntu.com/ubuntu bionic-updates/universe amd64 gnupg2 all 2.2.4-1ubuntu1.4 [5,292 B]\n",
            "Get:33 https://developer.download.nvidia.com/compute/machine-learning/repos/ubuntu1804/x86_64  libcudnn7-dev 7.6.5.32-1+cuda10.2 [165 MB]\n",
            "Get:34 https://developer.download.nvidia.com/compute/machine-learning/repos/ubuntu1804/x86_64  libcudnn7 7.6.5.32-1+cuda10.2 [189 MB]\n",
            "Fetched 448 MB in 10s (46.8 MB/s)\n",
            "Extracting templates from packages: 100%\n",
            "Preconfiguring packages ...\n",
            "(Reading database ... 155047 files and directories currently installed.)\n",
            "Preparing to unpack .../base-files_10.1ubuntu2.11_amd64.deb ...\n",
            "Unpacking base-files (10.1ubuntu2.11) over (10.1ubuntu2.10) ...\n",
            "Setting up base-files (10.1ubuntu2.11) ...\n",
            "Installing new version of config file /etc/issue ...\n",
            "Installing new version of config file /etc/issue.net ...\n",
            "Installing new version of config file /etc/lsb-release ...\n",
            "(Reading database ... 155047 files and directories currently installed.)\n",
            "Preparing to unpack .../gzip_1.6-5ubuntu1.1_amd64.deb ...\n",
            "Unpacking gzip (1.6-5ubuntu1.1) over (1.6-5ubuntu1) ...\n",
            "Setting up gzip (1.6-5ubuntu1.1) ...\n",
            "(Reading database ... 155047 files and directories currently installed.)\n",
            "Preparing to unpack .../tar_1.29b-2ubuntu0.2_amd64.deb ...\n",
            "Unpacking tar (1.29b-2ubuntu0.2) over (1.29b-2ubuntu0.1) ...\n",
            "Setting up tar (1.29b-2ubuntu0.2) ...\n",
            "update-alternatives: warning: forcing reinstallation of alternative /usr/sbin/rmt-tar because link group rmt is broken\n",
            "(Reading database ... 155047 files and directories currently installed.)\n",
            "Preparing to unpack .../libc-bin_2.27-3ubuntu1.4_amd64.deb ...\n",
            "Unpacking libc-bin (2.27-3ubuntu1.4) over (2.27-3ubuntu1.3) ...\n",
            "Setting up libc-bin (2.27-3ubuntu1.4) ...\n",
            "/sbin/ldconfig.real: /usr/local/lib/python3.7/dist-packages/ideep4py/lib/libmkldnn.so.0 is not a symbolic link\n",
            "\n",
            "(Reading database ... 155047 files and directories currently installed.)\n",
            "Preparing to unpack .../libaudit-common_1%3a2.8.2-1ubuntu1.1_all.deb ...\n",
            "Unpacking libaudit-common (1:2.8.2-1ubuntu1.1) over (1:2.8.2-1ubuntu1) ...\n",
            "Setting up libaudit-common (1:2.8.2-1ubuntu1.1) ...\n",
            "(Reading database ... 155047 files and directories currently installed.)\n",
            "Preparing to unpack .../libaudit1_1%3a2.8.2-1ubuntu1.1_amd64.deb ...\n",
            "Unpacking libaudit1:amd64 (1:2.8.2-1ubuntu1.1) over (1:2.8.2-1ubuntu1) ...\n",
            "Setting up libaudit1:amd64 (1:2.8.2-1ubuntu1.1) ...\n",
            "(Reading database ... 155047 files and directories currently installed.)\n",
            "Preparing to unpack .../libpam0g_1.1.8-3.6ubuntu2.18.04.3_amd64.deb ...\n",
            "Unpacking libpam0g:amd64 (1.1.8-3.6ubuntu2.18.04.3) over (1.1.8-3.6ubuntu2.18.04.2) ...\n",
            "Setting up libpam0g:amd64 (1.1.8-3.6ubuntu2.18.04.3) ...\n",
            "(Reading database ... 155047 files and directories currently installed.)\n",
            "Preparing to unpack .../libpam-modules-bin_1.1.8-3.6ubuntu2.18.04.3_amd64.deb ...\n",
            "Unpacking libpam-modules-bin (1.1.8-3.6ubuntu2.18.04.3) over (1.1.8-3.6ubuntu2.18.04.2) ...\n",
            "Setting up libpam-modules-bin (1.1.8-3.6ubuntu2.18.04.3) ...\n",
            "(Reading database ... 155049 files and directories currently installed.)\n",
            "Preparing to unpack .../libpam-modules_1.1.8-3.6ubuntu2.18.04.3_amd64.deb ...\n",
            "Unpacking libpam-modules:amd64 (1.1.8-3.6ubuntu2.18.04.3) over (1.1.8-3.6ubuntu2.18.04.2) ...\n",
            "Setting up libpam-modules:amd64 (1.1.8-3.6ubuntu2.18.04.3) ...\n",
            "(Reading database ... 155053 files and directories currently installed.)\n",
            "Preparing to unpack .../liblz4-1_0.0~r131-2ubuntu3.1_amd64.deb ...\n",
            "Unpacking liblz4-1:amd64 (0.0~r131-2ubuntu3.1) over (0.0~r131-2ubuntu3) ...\n",
            "Setting up liblz4-1:amd64 (0.0~r131-2ubuntu3.1) ...\n",
            "(Reading database ... 155053 files and directories currently installed.)\n",
            "Preparing to unpack .../libpam-runtime_1.1.8-3.6ubuntu2.18.04.3_all.deb ...\n",
            "Unpacking libpam-runtime (1.1.8-3.6ubuntu2.18.04.3) over (1.1.8-3.6ubuntu2.18.04.2) ...\n",
            "Setting up libpam-runtime (1.1.8-3.6ubuntu2.18.04.3) ...\n",
            "(Reading database ... 155053 files and directories currently installed.)\n",
            "Preparing to unpack .../libzstd1_1.3.3+dfsg-2ubuntu1.2_amd64.deb ...\n",
            "Unpacking libzstd1:amd64 (1.3.3+dfsg-2ubuntu1.2) over (1.3.3+dfsg-2ubuntu1.1) ...\n",
            "Setting up libzstd1:amd64 (1.3.3+dfsg-2ubuntu1.2) ...\n",
            "(Reading database ... 155053 files and directories currently installed.)\n",
            "Preparing to unpack .../libnettle6_3.4.1-0ubuntu0.18.04.1_amd64.deb ...\n",
            "Unpacking libnettle6:amd64 (3.4.1-0ubuntu0.18.04.1) over (3.4-1) ...\n",
            "Setting up libnettle6:amd64 (3.4.1-0ubuntu0.18.04.1) ...\n",
            "(Reading database ... 155053 files and directories currently installed.)\n",
            "Preparing to unpack .../libhogweed4_3.4.1-0ubuntu0.18.04.1_amd64.deb ...\n",
            "Unpacking libhogweed4:amd64 (3.4.1-0ubuntu0.18.04.1) over (3.4-1) ...\n",
            "Setting up libhogweed4:amd64 (3.4.1-0ubuntu0.18.04.1) ...\n",
            "(Reading database ... 155053 files and directories currently installed.)\n",
            "Preparing to unpack .../libp11-kit0_0.23.9-2ubuntu0.1_amd64.deb ...\n",
            "Unpacking libp11-kit0:amd64 (0.23.9-2ubuntu0.1) over (0.23.9-2) ...\n",
            "Setting up libp11-kit0:amd64 (0.23.9-2ubuntu0.1) ...\n",
            "(Reading database ... 155053 files and directories currently installed.)\n",
            "Preparing to unpack .../libgnutls30_3.5.18-1ubuntu1.5_amd64.deb ...\n",
            "Unpacking libgnutls30:amd64 (3.5.18-1ubuntu1.5) over (3.5.18-1ubuntu1.4) ...\n",
            "Setting up libgnutls30:amd64 (3.5.18-1ubuntu1.5) ...\n",
            "(Reading database ... 155053 files and directories currently installed.)\n",
            "Preparing to unpack .../libseccomp2_2.5.1-1ubuntu1~18.04.1_amd64.deb ...\n",
            "Unpacking libseccomp2:amd64 (2.5.1-1ubuntu1~18.04.1) over (2.4.3-1ubuntu3.18.04.3) ...\n",
            "Setting up libseccomp2:amd64 (2.5.1-1ubuntu1~18.04.1) ...\n",
            "(Reading database ... 155053 files and directories currently installed.)\n",
            "Preparing to unpack .../ubuntu-keyring_2018.09.18.1~18.04.2_all.deb ...\n",
            "Unpacking ubuntu-keyring (2018.09.18.1~18.04.2) over (2018.09.18.1~18.04.0) ...\n",
            "Setting up ubuntu-keyring (2018.09.18.1~18.04.2) ...\n",
            "(Reading database ... 155053 files and directories currently installed.)\n",
            "Preparing to unpack .../00-openssl_1.1.1-1ubuntu2.1~18.04.13_amd64.deb ...\n",
            "Unpacking openssl (1.1.1-1ubuntu2.1~18.04.13) over (1.1.1-1ubuntu2.1~18.04.7) ...\n",
            "Preparing to unpack .../01-binutils-x86-64-linux-gnu_2.30-21ubuntu1~18.04.5_amd64.deb ...\n",
            "Unpacking binutils-x86-64-linux-gnu (2.30-21ubuntu1~18.04.5) over (2.30-21ubuntu1~18.04.4) ...\n",
            "Preparing to unpack .../02-binutils-common_2.30-21ubuntu1~18.04.5_amd64.deb ...\n",
            "Unpacking binutils-common:amd64 (2.30-21ubuntu1~18.04.5) over (2.30-21ubuntu1~18.04.4) ...\n",
            "Preparing to unpack .../03-binutils_2.30-21ubuntu1~18.04.5_amd64.deb ...\n",
            "Unpacking binutils (2.30-21ubuntu1~18.04.5) over (2.30-21ubuntu1~18.04.4) ...\n",
            "Preparing to unpack .../04-libbinutils_2.30-21ubuntu1~18.04.5_amd64.deb ...\n",
            "Unpacking libbinutils:amd64 (2.30-21ubuntu1~18.04.5) over (2.30-21ubuntu1~18.04.4) ...\n",
            "Preparing to unpack .../05-libcublas10_10.2.3.254-1_amd64.deb ...\n",
            "Unpacking libcublas10 (10.2.3.254-1) over (10.2.1.243-1) ...\n",
            "Preparing to unpack .../06-libcublas-dev_10.2.3.254-1_amd64.deb ...\n",
            "Unpacking libcublas-dev (10.2.3.254-1) over (10.2.1.243-1) ...\n",
            "Preparing to unpack .../07-libcudnn7-dev_7.6.5.32-1+cuda10.2_amd64.deb ...\n",
            "update-alternatives: removing manually selected alternative - switching libcudnn to auto mode\n",
            "update-alternatives: using /usr/include/x86_64-linux-gnu/cudnn_v8.h to provide /usr/include/cudnn.h (libcudnn) in auto mode\n",
            "Unpacking libcudnn7-dev (7.6.5.32-1+cuda10.2) over (7.6.5.32-1+cuda10.1) ...\n",
            "Preparing to unpack .../08-libcudnn7_7.6.5.32-1+cuda10.2_amd64.deb ...\n",
            "Unpacking libcudnn7 (7.6.5.32-1+cuda10.2) over (7.6.5.32-1+cuda10.1) ...\n",
            "Preparing to unpack .../09-libsasl2-modules-db_2.1.27~101-g0780600+dfsg-3ubuntu2.3_amd64.deb ...\n",
            "Unpacking libsasl2-modules-db:amd64 (2.1.27~101-g0780600+dfsg-3ubuntu2.3) over (2.1.27~101-g0780600+dfsg-3ubuntu2.1) ...\n",
            "Preparing to unpack .../10-libsasl2-2_2.1.27~101-g0780600+dfsg-3ubuntu2.3_amd64.deb ...\n",
            "Unpacking libsasl2-2:amd64 (2.1.27~101-g0780600+dfsg-3ubuntu2.3) over (2.1.27~101-g0780600+dfsg-3ubuntu2.1) ...\n",
            "Preparing to unpack .../11-libldap-common_2.4.45+dfsg-1ubuntu1.10_all.deb ...\n",
            "Unpacking libldap-common (2.4.45+dfsg-1ubuntu1.10) over (2.4.45+dfsg-1ubuntu1.8) ...\n",
            "Preparing to unpack .../12-libldap-2.4-2_2.4.45+dfsg-1ubuntu1.10_amd64.deb ...\n",
            "Unpacking libldap-2.4-2:amd64 (2.4.45+dfsg-1ubuntu1.10) over (2.4.45+dfsg-1ubuntu1.8) ...\n",
            "Preparing to unpack .../13-linux-libc-dev_4.15.0-159.167_amd64.deb ...\n",
            "Unpacking linux-libc-dev:amd64 (4.15.0-159.167) over (4.15.0-128.131) ...\n",
            "Selecting previously unselected package sqlite3.\n",
            "Preparing to unpack .../14-sqlite3_3.22.0-1ubuntu0.4_amd64.deb ...\n",
            "Unpacking sqlite3 (3.22.0-1ubuntu0.4) ...\n",
            "Preparing to unpack .../15-gnupg2_2.2.4-1ubuntu1.4_all.deb ...\n",
            "Unpacking gnupg2 (2.2.4-1ubuntu1.4) over (2.2.4-1ubuntu1.3) ...\n",
            "Setting up libcudnn7 (7.6.5.32-1+cuda10.2) ...\n",
            "Setting up libldap-common (2.4.45+dfsg-1ubuntu1.10) ...\n",
            "Setting up libsasl2-modules-db:amd64 (2.1.27~101-g0780600+dfsg-3ubuntu2.3) ...\n",
            "Setting up linux-libc-dev:amd64 (4.15.0-159.167) ...\n",
            "Setting up libsasl2-2:amd64 (2.1.27~101-g0780600+dfsg-3ubuntu2.3) ...\n",
            "Setting up libcudnn7-dev (7.6.5.32-1+cuda10.2) ...\n",
            "update-alternatives: using /usr/include/x86_64-linux-gnu/cudnn_v7.h to provide /usr/include/cudnn.h (libcudnn) in manual mode\n",
            "Setting up sqlite3 (3.22.0-1ubuntu0.4) ...\n",
            "Setting up binutils-common:amd64 (2.30-21ubuntu1~18.04.5) ...\n",
            "Setting up gnupg2 (2.2.4-1ubuntu1.4) ...\n",
            "Setting up libcublas10 (10.2.3.254-1) ...\n",
            "Setting up libcublas-dev (10.2.3.254-1) ...\n",
            "Setting up libldap-2.4-2:amd64 (2.4.45+dfsg-1ubuntu1.10) ...\n",
            "Setting up openssl (1.1.1-1ubuntu2.1~18.04.13) ...\n",
            "Setting up libbinutils:amd64 (2.30-21ubuntu1~18.04.5) ...\n",
            "Setting up binutils-x86-64-linux-gnu (2.30-21ubuntu1~18.04.5) ...\n",
            "Setting up binutils (2.30-21ubuntu1~18.04.5) ...\n",
            "Processing triggers for libc-bin (2.27-3ubuntu1.4) ...\n",
            "/sbin/ldconfig.real: /usr/local/lib/python3.7/dist-packages/ideep4py/lib/libmkldnn.so.0 is not a symbolic link\n",
            "\n",
            "Processing triggers for man-db (2.8.3-2ubuntu0.1) ...\n",
            "Processing triggers for mime-support (3.60ubuntu1) ...\n",
            "Reading package lists... Done\n",
            "Building dependency tree       \n",
            "Reading state information... Done\n",
            "default-libmysqlclient-dev is already the newest version (1.0.4).\n",
            "default-libmysqlclient-dev set to manually installed.\n",
            "python3-dev is already the newest version (3.6.7-1~18.04).\n",
            "python3-dev set to manually installed.\n",
            "0 upgraded, 0 newly installed, 0 to remove and 4 not upgraded.\n",
            "Collecting pymysql\n",
            "  Downloading PyMySQL-1.0.2-py3-none-any.whl (43 kB)\n",
            "\u001b[K     |████████████████████████████████| 43 kB 1.1 MB/s \n",
            "\u001b[?25hInstalling collected packages: pymysql\n",
            "Successfully installed pymysql-1.0.2\n"
          ]
        }
      ]
    },
    {
      "cell_type": "code",
      "metadata": {
        "id": "_l0Sz9vyQjZ5",
        "colab": {
          "base_uri": "https://localhost:8080/"
        },
        "outputId": "5cbaa5b0-084c-447b-cb4a-c91965038eee"
      },
      "source": [
        "!curl https://www.sqlite.org/src/tarball/sqlite.tar.gz?r=release | tar xz\n",
        "%cd sqlite/\n",
        "!./configure\n",
        "!make sqlite3.c\n",
        "%cd /content\n",
        "!npx degit coleifer/pysqlite3 -f\n",
        "!cp sqlite/sqlite3.[ch] .\n",
        "!python setup.py build_static build\n",
        "!cp build/lib.linux-x86_64-3.7/pysqlite3/_sqlite3.cpython-37m-x86_64-linux-gnu.so \\\n",
        "     /usr/lib/python3.7/lib-dynload/\n"
      ],
      "execution_count": 3,
      "outputs": [
        {
          "output_type": "stream",
          "name": "stdout",
          "text": [
            "  % Total    % Received % Xferd  Average Speed   Time    Time     Time  Current\n",
            "                                 Dload  Upload   Total   Spent    Left  Speed\n",
            "100 10.9M  100 10.9M    0     0   9.9M      0  0:00:01  0:00:01 --:--:--  9.9M\n",
            "/content/sqlite\n",
            "checking build system type... x86_64-pc-linux-gnu\n",
            "checking host system type... x86_64-pc-linux-gnu\n",
            "checking for gcc... gcc\n",
            "checking whether the C compiler works... yes\n",
            "checking for C compiler default output file name... a.out\n",
            "checking for suffix of executables... \n",
            "checking whether we are cross compiling... no\n",
            "checking for suffix of object files... o\n",
            "checking whether we are using the GNU C compiler... yes\n",
            "checking whether gcc accepts -g... yes\n",
            "checking for gcc option to accept ISO C89... none needed\n",
            "checking for a sed that does not truncate output... /bin/sed\n",
            "checking for grep that handles long lines and -e... /bin/grep\n",
            "checking for egrep... /bin/grep -E\n",
            "checking for fgrep... /bin/grep -F\n",
            "checking for ld used by gcc... /usr/bin/ld\n",
            "checking if the linker (/usr/bin/ld) is GNU ld... yes\n",
            "checking for BSD- or MS-compatible name lister (nm)... /usr/bin/nm -B\n",
            "checking the name lister (/usr/bin/nm -B) interface... BSD nm\n",
            "checking whether ln -s works... yes\n",
            "checking the maximum length of command line arguments... 1572864\n",
            "checking whether the shell understands some XSI constructs... yes\n",
            "checking whether the shell understands \"+=\"... yes\n",
            "checking for /usr/bin/ld option to reload object files... -r\n",
            "checking for objdump... objdump\n",
            "checking how to recognize dependent libraries... pass_all\n",
            "checking for ar... ar\n",
            "checking for strip... strip\n",
            "checking for ranlib... ranlib\n",
            "checking command to parse /usr/bin/nm -B output from gcc object... ok\n",
            "./configure: line 5196: /usr/bin/file: No such file or directory\n",
            "checking how to run the C preprocessor... gcc -E\n",
            "checking for ANSI C header files... yes\n",
            "checking for sys/types.h... yes\n",
            "checking for sys/stat.h... yes\n",
            "checking for stdlib.h... yes\n",
            "checking for string.h... yes\n",
            "checking for memory.h... yes\n",
            "checking for strings.h... yes\n",
            "checking for inttypes.h... yes\n",
            "checking for stdint.h... yes\n",
            "checking for unistd.h... yes\n",
            "checking for dlfcn.h... yes\n",
            "checking for objdir... .libs\n",
            "checking if gcc supports -fno-rtti -fno-exceptions... no\n",
            "checking for gcc option to produce PIC... -fPIC -DPIC\n",
            "checking if gcc PIC flag -fPIC -DPIC works... yes\n",
            "checking if gcc static flag -static works... yes\n",
            "checking if gcc supports -c -o file.o... yes\n",
            "checking if gcc supports -c -o file.o... (cached) yes\n",
            "checking whether the gcc linker (/usr/bin/ld) supports shared libraries... yes\n",
            "checking whether -lc should be explicitly linked in... no\n",
            "checking dynamic linker characteristics... GNU/Linux ld.so\n",
            "checking how to hardcode library paths into programs... immediate\n",
            "checking whether stripping libraries is possible... yes\n",
            "checking if libtool supports shared libraries... yes\n",
            "checking whether to build shared libraries... yes\n",
            "checking whether to build static libraries... yes\n",
            "checking for a BSD-compatible install... /usr/bin/install -c\n",
            "checking for special C compiler options needed for large files... no\n",
            "checking for _FILE_OFFSET_BITS value needed for large files... no\n",
            "checking for int8_t... yes\n",
            "checking for int16_t... yes\n",
            "checking for int32_t... yes\n",
            "checking for int64_t... yes\n",
            "checking for intptr_t... yes\n",
            "checking for uint8_t... yes\n",
            "checking for uint16_t... yes\n",
            "checking for uint32_t... yes\n",
            "checking for uint64_t... yes\n",
            "checking for uintptr_t... yes\n",
            "checking for sys/types.h... (cached) yes\n",
            "checking for stdlib.h... (cached) yes\n",
            "checking for stdint.h... (cached) yes\n",
            "checking for inttypes.h... (cached) yes\n",
            "checking malloc.h usability... yes\n",
            "checking malloc.h presence... yes\n",
            "checking for malloc.h... yes\n",
            "checking for fdatasync... yes\n",
            "checking for gmtime_r... yes\n",
            "checking for isnan... yes\n",
            "checking for localtime_r... yes\n",
            "checking for localtime_s... no\n",
            "checking for malloc_usable_size... yes\n",
            "checking for strchrnul... yes\n",
            "checking for usleep... yes\n",
            "checking for utime... yes\n",
            "checking for pread... yes\n",
            "checking for pread64... yes\n",
            "checking for pwrite... yes\n",
            "checking for pwrite64... yes\n",
            "checking for tclsh8.7... no\n",
            "checking for tclsh8.6... tclsh8.6\n",
            "configure: Version set to 3.36\n",
            "configure: Release set to 3.36.0\n",
            "checking whether to support threadsafe operation... yes\n",
            "checking for library containing pthread_create... -lpthread\n",
            "checking for library containing pthread_mutexattr_init... none required\n",
            "checking whether to support shared library linked as release mode or not... no\n",
            "checking whether to use an in-ram database for temporary tables... no\n",
            "checking if executables have the .exe suffix... unknown\n",
            "checking for Tcl configuration... found /usr/lib/tclConfig.sh\n",
            "checking for existence of /usr/lib/tclConfig.sh... loading\n",
            "checking for library containing readline... no\n",
            "checking for library containing tgetent... -lncurses\n",
            "checking for readline in -lreadline... yes\n",
            "checking readline.h usability... no\n",
            "checking readline.h presence... no\n",
            "checking for readline.h... no\n",
            "checking for /usr/include/readline.h... no\n",
            "checking for /usr/include/readline/readline.h... yes\n",
            "checking for library containing fdatasync... none required\n",
            "checking build type... release\n",
            "checking zlib.h usability... yes\n",
            "checking zlib.h presence... yes\n",
            "checking for zlib.h... yes\n",
            "checking for library containing deflate... -lz\n",
            "checking for library containing dlopen... -ldl\n",
            "checking whether to support math functions... yes\n",
            "checking for library containing ceil... -lm\n",
            "checking whether to support MEMSYS5... no\n",
            "checking whether to support MEMSYS3... no\n",
            "checking whether to support FTS3... no\n",
            "checking whether to support FTS4... no\n",
            "checking whether to support FTS5... no\n",
            "checking whether to support JSON... no\n",
            "checking whether to support LIMIT on UPDATE and DELETE statements... no\n",
            "checking whether to support GEOPOLY... no\n",
            "checking whether to support RTREE... no\n",
            "checking whether to support SESSION... no\n",
            "configure: creating ./config.status\n",
            "config.status: creating Makefile\n",
            "config.status: creating sqlite3.pc\n",
            "config.status: creating config.h\n",
            "config.status: executing libtool commands\n",
            "gcc  -g -O2 -o mkkeywordhash -DSQLITE_ENABLE_MATH_FUNCTIONS  /content/sqlite/tool/mkkeywordhash.c\n",
            "./mkkeywordhash >keywordhash.h\n",
            "gcc  -g -O2 -o lemon /content/sqlite/tool/lemon.c\n",
            "cp /content/sqlite/tool/lempar.c .\n",
            "cp /content/sqlite/src/parse.y .\n",
            "./lemon -DSQLITE_ENABLE_MATH_FUNCTIONS  -S parse.y\n",
            "cat parse.h /content/sqlite/src/vdbe.c | tclsh8.6 /content/sqlite/tool/mkopcodeh.tcl >opcodes.h\n",
            "tclsh8.6 /content/sqlite/tool/mkopcodec.tcl opcodes.h >opcodes.c\n",
            "tclsh8.6 /content/sqlite/tool/mkshellc.tcl >shell.c\n",
            "gcc  -g -O2 -o mksourceid /content/sqlite/tool/mksourceid.c\n",
            "tclsh8.6 /content/sqlite/tool/mksqlite3h.tcl /content/sqlite >sqlite3.h\n",
            "cp /content/sqlite/ext/fts5/fts5parse.y .\n",
            "rm -f fts5parse.h\n",
            "./lemon  -S fts5parse.y\n",
            "tclsh8.6 /content/sqlite/ext/fts5/tool/mkfts5c.tcl\n",
            "cp /content/sqlite/ext/fts5/fts5.h .\n",
            "rm -rf tsrc\n",
            "mkdir tsrc\n",
            "cp -f /content/sqlite/src/alter.c /content/sqlite/src/analyze.c /content/sqlite/src/attach.c /content/sqlite/src/auth.c /content/sqlite/src/backup.c /content/sqlite/src/bitvec.c /content/sqlite/src/btmutex.c /content/sqlite/src/btree.c /content/sqlite/src/btree.h /content/sqlite/src/btreeInt.h /content/sqlite/src/build.c /content/sqlite/src/callback.c /content/sqlite/src/complete.c /content/sqlite/src/ctime.c /content/sqlite/src/date.c /content/sqlite/src/dbpage.c /content/sqlite/src/dbstat.c /content/sqlite/src/delete.c /content/sqlite/src/expr.c /content/sqlite/src/fault.c /content/sqlite/src/fkey.c /content/sqlite/src/func.c /content/sqlite/src/global.c /content/sqlite/src/hash.c /content/sqlite/src/hash.h /content/sqlite/src/hwtime.h /content/sqlite/src/insert.c /content/sqlite/src/legacy.c /content/sqlite/src/loadext.c /content/sqlite/src/main.c /content/sqlite/src/malloc.c /content/sqlite/src/mem0.c /content/sqlite/src/mem1.c /content/sqlite/src/mem2.c /content/sqlite/src/mem3.c /content/sqlite/src/mem5.c /content/sqlite/src/memdb.c /content/sqlite/src/memjournal.c /content/sqlite/src/msvc.h /content/sqlite/src/mutex.c /content/sqlite/src/mutex.h /content/sqlite/src/mutex_noop.c /content/sqlite/src/mutex_unix.c /content/sqlite/src/mutex_w32.c /content/sqlite/src/notify.c /content/sqlite/src/os.c /content/sqlite/src/os.h /content/sqlite/src/os_common.h /content/sqlite/src/os_setup.h /content/sqlite/src/os_unix.c /content/sqlite/src/os_win.c /content/sqlite/src/os_win.h /content/sqlite/src/pager.c /content/sqlite/src/pager.h /content/sqlite/src/parse.y /content/sqlite/src/pcache.c /content/sqlite/src/pcache.h /content/sqlite/src/pcache1.c /content/sqlite/src/pragma.c /content/sqlite/src/pragma.h /content/sqlite/src/prepare.c /content/sqlite/src/printf.c /content/sqlite/src/random.c /content/sqlite/src/resolve.c /content/sqlite/src/rowset.c /content/sqlite/src/select.c /content/sqlite/src/status.c /content/sqlite/src/shell.c.in /content/sqlite/src/sqlite.h.in /content/sqlite/src/sqlite3ext.h /content/sqlite/src/sqliteInt.h /content/sqlite/src/sqliteLimit.h /content/sqlite/src/table.c /content/sqlite/src/tclsqlite.c /content/sqlite/src/threads.c /content/sqlite/src/tokenize.c /content/sqlite/src/treeview.c /content/sqlite/src/trigger.c /content/sqlite/src/utf.c /content/sqlite/src/update.c /content/sqlite/src/upsert.c /content/sqlite/src/util.c /content/sqlite/src/vacuum.c /content/sqlite/src/vdbe.c /content/sqlite/src/vdbe.h /content/sqlite/src/vdbeapi.c /content/sqlite/src/vdbeaux.c /content/sqlite/src/vdbeblob.c /content/sqlite/src/vdbemem.c /content/sqlite/src/vdbesort.c /content/sqlite/src/vdbetrace.c /content/sqlite/src/vdbevtab.c /content/sqlite/src/vdbeInt.h /content/sqlite/src/vtab.c /content/sqlite/src/vxworks.h /content/sqlite/src/wal.c /content/sqlite/src/wal.h /content/sqlite/src/walker.c /content/sqlite/src/where.c /content/sqlite/src/wherecode.c /content/sqlite/src/whereexpr.c /content/sqlite/src/whereInt.h /content/sqlite/src/window.c /content/sqlite/ext/fts1/fts1.c /content/sqlite/ext/fts1/fts1.h /content/sqlite/ext/fts1/fts1_hash.c /content/sqlite/ext/fts1/fts1_hash.h /content/sqlite/ext/fts1/fts1_porter.c /content/sqlite/ext/fts1/fts1_tokenizer.h /content/sqlite/ext/fts1/fts1_tokenizer1.c /content/sqlite/ext/fts2/fts2.c /content/sqlite/ext/fts2/fts2.h /content/sqlite/ext/fts2/fts2_hash.c /content/sqlite/ext/fts2/fts2_hash.h /content/sqlite/ext/fts2/fts2_icu.c /content/sqlite/ext/fts2/fts2_porter.c /content/sqlite/ext/fts2/fts2_tokenizer.h /content/sqlite/ext/fts2/fts2_tokenizer.c /content/sqlite/ext/fts2/fts2_tokenizer1.c /content/sqlite/ext/fts3/fts3.c /content/sqlite/ext/fts3/fts3.h /content/sqlite/ext/fts3/fts3Int.h /content/sqlite/ext/fts3/fts3_aux.c /content/sqlite/ext/fts3/fts3_expr.c /content/sqlite/ext/fts3/fts3_hash.c /content/sqlite/ext/fts3/fts3_hash.h /content/sqlite/ext/fts3/fts3_icu.c /content/sqlite/ext/fts3/fts3_porter.c /content/sqlite/ext/fts3/fts3_snippet.c /content/sqlite/ext/fts3/fts3_tokenizer.h /content/sqlite/ext/fts3/fts3_tokenizer.c /content/sqlite/ext/fts3/fts3_tokenizer1.c /content/sqlite/ext/fts3/fts3_tokenize_vtab.c /content/sqlite/ext/fts3/fts3_unicode.c /content/sqlite/ext/fts3/fts3_unicode2.c /content/sqlite/ext/fts3/fts3_write.c /content/sqlite/ext/icu/sqliteicu.h /content/sqlite/ext/icu/icu.c /content/sqlite/ext/rtree/rtree.h /content/sqlite/ext/rtree/rtree.c /content/sqlite/ext/rtree/geopoly.c /content/sqlite/ext/session/sqlite3session.c /content/sqlite/ext/session/sqlite3session.h /content/sqlite/ext/userauth/userauth.c /content/sqlite/ext/userauth/sqlite3userauth.h /content/sqlite/ext/rbu/sqlite3rbu.h /content/sqlite/ext/rbu/sqlite3rbu.c /content/sqlite/ext/misc/json1.c /content/sqlite/ext/misc/stmt.c keywordhash.h opcodes.c opcodes.h parse.c parse.h config.h shell.c sqlite3.h tsrc\n",
            "rm tsrc/sqlite.h.in tsrc/parse.y\n",
            "tclsh8.6 /content/sqlite/tool/vdbe-compress.tcl  <tsrc/vdbe.c >vdbe.new\n",
            "mv vdbe.new tsrc/vdbe.c\n",
            "cp fts5.c fts5.h tsrc\n",
            "touch .target_source\n",
            "tclsh8.6 /content/sqlite/tool/mksqlite3c.tcl\n",
            "cp tsrc/sqlite3ext.h .\n",
            "cp /content/sqlite/ext/session/sqlite3session.h .\n",
            "/content\n",
            "\u001b[K\u001b[?25hnpx: installed 1 in 2.385s\n",
            "\u001b[36m> destination directory is not empty. Using --force, continuing\u001b[39m\n",
            "\u001b[36m> cloned \u001b[1mcoleifer/pysqlite3\u001b[22m#\u001b[1mHEAD\u001b[22m\u001b[39m\n",
            "running build_static\n",
            "Builds a C extension using a sqlite3 amalgamation\n",
            "building 'pysqlite3._sqlite3' extension\n",
            "creating build\n",
            "creating build/temp.linux-x86_64-3.7\n",
            "creating build/temp.linux-x86_64-3.7/src\n",
            "x86_64-linux-gnu-gcc -pthread -Wno-unused-result -Wsign-compare -DNDEBUG -g -fwrapv -O2 -Wall -g -fdebug-prefix-map=/build/python3.7-Y7dWVB/python3.7-3.7.12=. -fstack-protector-strong -Wformat -Werror=format-security -g -fdebug-prefix-map=/build/python3.7-Y7dWVB/python3.7-3.7.12=. -fstack-protector-strong -Wformat -Werror=format-security -Wdate-time -D_FORTIFY_SOURCE=2 -fPIC -DMODULE_NAME=\"pysqlite3.dbapi2\" -DSQLITE_ALLOW_COVERING_INDEX_SCAN=1 -DSQLITE_ENABLE_FTS3=1 -DSQLITE_ENABLE_FTS3_PARENTHESIS=1 -DSQLITE_ENABLE_FTS4=1 -DSQLITE_ENABLE_FTS5=1 -DSQLITE_ENABLE_JSON1=1 -DSQLITE_ENABLE_LOAD_EXTENSION=1 -DSQLITE_ENABLE_RTREE=1 -DSQLITE_ENABLE_STAT4=1 -DSQLITE_ENABLE_UPDATE_DELETE_LIMIT=1 -DSQLITE_SOUNDEX=1 -DSQLITE_USE_URI=1 -DSQLITE_TEMP_STORE=3 -DSQLITE_MAX_VARIABLE_NUMBER=250000 -DSQLITE_MAX_MMAP_SIZE=1099511627776 -I. -I/usr/include/python3.7m -c src/module.c -o build/temp.linux-x86_64-3.7/src/module.o\n",
            "x86_64-linux-gnu-gcc -pthread -Wno-unused-result -Wsign-compare -DNDEBUG -g -fwrapv -O2 -Wall -g -fdebug-prefix-map=/build/python3.7-Y7dWVB/python3.7-3.7.12=. -fstack-protector-strong -Wformat -Werror=format-security -g -fdebug-prefix-map=/build/python3.7-Y7dWVB/python3.7-3.7.12=. -fstack-protector-strong -Wformat -Werror=format-security -Wdate-time -D_FORTIFY_SOURCE=2 -fPIC -DMODULE_NAME=\"pysqlite3.dbapi2\" -DSQLITE_ALLOW_COVERING_INDEX_SCAN=1 -DSQLITE_ENABLE_FTS3=1 -DSQLITE_ENABLE_FTS3_PARENTHESIS=1 -DSQLITE_ENABLE_FTS4=1 -DSQLITE_ENABLE_FTS5=1 -DSQLITE_ENABLE_JSON1=1 -DSQLITE_ENABLE_LOAD_EXTENSION=1 -DSQLITE_ENABLE_RTREE=1 -DSQLITE_ENABLE_STAT4=1 -DSQLITE_ENABLE_UPDATE_DELETE_LIMIT=1 -DSQLITE_SOUNDEX=1 -DSQLITE_USE_URI=1 -DSQLITE_TEMP_STORE=3 -DSQLITE_MAX_VARIABLE_NUMBER=250000 -DSQLITE_MAX_MMAP_SIZE=1099511627776 -I. -I/usr/include/python3.7m -c src/connection.c -o build/temp.linux-x86_64-3.7/src/connection.o\n",
            "x86_64-linux-gnu-gcc -pthread -Wno-unused-result -Wsign-compare -DNDEBUG -g -fwrapv -O2 -Wall -g -fdebug-prefix-map=/build/python3.7-Y7dWVB/python3.7-3.7.12=. -fstack-protector-strong -Wformat -Werror=format-security -g -fdebug-prefix-map=/build/python3.7-Y7dWVB/python3.7-3.7.12=. -fstack-protector-strong -Wformat -Werror=format-security -Wdate-time -D_FORTIFY_SOURCE=2 -fPIC -DMODULE_NAME=\"pysqlite3.dbapi2\" -DSQLITE_ALLOW_COVERING_INDEX_SCAN=1 -DSQLITE_ENABLE_FTS3=1 -DSQLITE_ENABLE_FTS3_PARENTHESIS=1 -DSQLITE_ENABLE_FTS4=1 -DSQLITE_ENABLE_FTS5=1 -DSQLITE_ENABLE_JSON1=1 -DSQLITE_ENABLE_LOAD_EXTENSION=1 -DSQLITE_ENABLE_RTREE=1 -DSQLITE_ENABLE_STAT4=1 -DSQLITE_ENABLE_UPDATE_DELETE_LIMIT=1 -DSQLITE_SOUNDEX=1 -DSQLITE_USE_URI=1 -DSQLITE_TEMP_STORE=3 -DSQLITE_MAX_VARIABLE_NUMBER=250000 -DSQLITE_MAX_MMAP_SIZE=1099511627776 -I. -I/usr/include/python3.7m -c src/cursor.c -o build/temp.linux-x86_64-3.7/src/cursor.o\n",
            "x86_64-linux-gnu-gcc -pthread -Wno-unused-result -Wsign-compare -DNDEBUG -g -fwrapv -O2 -Wall -g -fdebug-prefix-map=/build/python3.7-Y7dWVB/python3.7-3.7.12=. -fstack-protector-strong -Wformat -Werror=format-security -g -fdebug-prefix-map=/build/python3.7-Y7dWVB/python3.7-3.7.12=. -fstack-protector-strong -Wformat -Werror=format-security -Wdate-time -D_FORTIFY_SOURCE=2 -fPIC -DMODULE_NAME=\"pysqlite3.dbapi2\" -DSQLITE_ALLOW_COVERING_INDEX_SCAN=1 -DSQLITE_ENABLE_FTS3=1 -DSQLITE_ENABLE_FTS3_PARENTHESIS=1 -DSQLITE_ENABLE_FTS4=1 -DSQLITE_ENABLE_FTS5=1 -DSQLITE_ENABLE_JSON1=1 -DSQLITE_ENABLE_LOAD_EXTENSION=1 -DSQLITE_ENABLE_RTREE=1 -DSQLITE_ENABLE_STAT4=1 -DSQLITE_ENABLE_UPDATE_DELETE_LIMIT=1 -DSQLITE_SOUNDEX=1 -DSQLITE_USE_URI=1 -DSQLITE_TEMP_STORE=3 -DSQLITE_MAX_VARIABLE_NUMBER=250000 -DSQLITE_MAX_MMAP_SIZE=1099511627776 -I. -I/usr/include/python3.7m -c src/cache.c -o build/temp.linux-x86_64-3.7/src/cache.o\n",
            "x86_64-linux-gnu-gcc -pthread -Wno-unused-result -Wsign-compare -DNDEBUG -g -fwrapv -O2 -Wall -g -fdebug-prefix-map=/build/python3.7-Y7dWVB/python3.7-3.7.12=. -fstack-protector-strong -Wformat -Werror=format-security -g -fdebug-prefix-map=/build/python3.7-Y7dWVB/python3.7-3.7.12=. -fstack-protector-strong -Wformat -Werror=format-security -Wdate-time -D_FORTIFY_SOURCE=2 -fPIC -DMODULE_NAME=\"pysqlite3.dbapi2\" -DSQLITE_ALLOW_COVERING_INDEX_SCAN=1 -DSQLITE_ENABLE_FTS3=1 -DSQLITE_ENABLE_FTS3_PARENTHESIS=1 -DSQLITE_ENABLE_FTS4=1 -DSQLITE_ENABLE_FTS5=1 -DSQLITE_ENABLE_JSON1=1 -DSQLITE_ENABLE_LOAD_EXTENSION=1 -DSQLITE_ENABLE_RTREE=1 -DSQLITE_ENABLE_STAT4=1 -DSQLITE_ENABLE_UPDATE_DELETE_LIMIT=1 -DSQLITE_SOUNDEX=1 -DSQLITE_USE_URI=1 -DSQLITE_TEMP_STORE=3 -DSQLITE_MAX_VARIABLE_NUMBER=250000 -DSQLITE_MAX_MMAP_SIZE=1099511627776 -I. -I/usr/include/python3.7m -c src/microprotocols.c -o build/temp.linux-x86_64-3.7/src/microprotocols.o\n",
            "x86_64-linux-gnu-gcc -pthread -Wno-unused-result -Wsign-compare -DNDEBUG -g -fwrapv -O2 -Wall -g -fdebug-prefix-map=/build/python3.7-Y7dWVB/python3.7-3.7.12=. -fstack-protector-strong -Wformat -Werror=format-security -g -fdebug-prefix-map=/build/python3.7-Y7dWVB/python3.7-3.7.12=. -fstack-protector-strong -Wformat -Werror=format-security -Wdate-time -D_FORTIFY_SOURCE=2 -fPIC -DMODULE_NAME=\"pysqlite3.dbapi2\" -DSQLITE_ALLOW_COVERING_INDEX_SCAN=1 -DSQLITE_ENABLE_FTS3=1 -DSQLITE_ENABLE_FTS3_PARENTHESIS=1 -DSQLITE_ENABLE_FTS4=1 -DSQLITE_ENABLE_FTS5=1 -DSQLITE_ENABLE_JSON1=1 -DSQLITE_ENABLE_LOAD_EXTENSION=1 -DSQLITE_ENABLE_RTREE=1 -DSQLITE_ENABLE_STAT4=1 -DSQLITE_ENABLE_UPDATE_DELETE_LIMIT=1 -DSQLITE_SOUNDEX=1 -DSQLITE_USE_URI=1 -DSQLITE_TEMP_STORE=3 -DSQLITE_MAX_VARIABLE_NUMBER=250000 -DSQLITE_MAX_MMAP_SIZE=1099511627776 -I. -I/usr/include/python3.7m -c src/prepare_protocol.c -o build/temp.linux-x86_64-3.7/src/prepare_protocol.o\n",
            "x86_64-linux-gnu-gcc -pthread -Wno-unused-result -Wsign-compare -DNDEBUG -g -fwrapv -O2 -Wall -g -fdebug-prefix-map=/build/python3.7-Y7dWVB/python3.7-3.7.12=. -fstack-protector-strong -Wformat -Werror=format-security -g -fdebug-prefix-map=/build/python3.7-Y7dWVB/python3.7-3.7.12=. -fstack-protector-strong -Wformat -Werror=format-security -Wdate-time -D_FORTIFY_SOURCE=2 -fPIC -DMODULE_NAME=\"pysqlite3.dbapi2\" -DSQLITE_ALLOW_COVERING_INDEX_SCAN=1 -DSQLITE_ENABLE_FTS3=1 -DSQLITE_ENABLE_FTS3_PARENTHESIS=1 -DSQLITE_ENABLE_FTS4=1 -DSQLITE_ENABLE_FTS5=1 -DSQLITE_ENABLE_JSON1=1 -DSQLITE_ENABLE_LOAD_EXTENSION=1 -DSQLITE_ENABLE_RTREE=1 -DSQLITE_ENABLE_STAT4=1 -DSQLITE_ENABLE_UPDATE_DELETE_LIMIT=1 -DSQLITE_SOUNDEX=1 -DSQLITE_USE_URI=1 -DSQLITE_TEMP_STORE=3 -DSQLITE_MAX_VARIABLE_NUMBER=250000 -DSQLITE_MAX_MMAP_SIZE=1099511627776 -I. -I/usr/include/python3.7m -c src/statement.c -o build/temp.linux-x86_64-3.7/src/statement.o\n",
            "x86_64-linux-gnu-gcc -pthread -Wno-unused-result -Wsign-compare -DNDEBUG -g -fwrapv -O2 -Wall -g -fdebug-prefix-map=/build/python3.7-Y7dWVB/python3.7-3.7.12=. -fstack-protector-strong -Wformat -Werror=format-security -g -fdebug-prefix-map=/build/python3.7-Y7dWVB/python3.7-3.7.12=. -fstack-protector-strong -Wformat -Werror=format-security -Wdate-time -D_FORTIFY_SOURCE=2 -fPIC -DMODULE_NAME=\"pysqlite3.dbapi2\" -DSQLITE_ALLOW_COVERING_INDEX_SCAN=1 -DSQLITE_ENABLE_FTS3=1 -DSQLITE_ENABLE_FTS3_PARENTHESIS=1 -DSQLITE_ENABLE_FTS4=1 -DSQLITE_ENABLE_FTS5=1 -DSQLITE_ENABLE_JSON1=1 -DSQLITE_ENABLE_LOAD_EXTENSION=1 -DSQLITE_ENABLE_RTREE=1 -DSQLITE_ENABLE_STAT4=1 -DSQLITE_ENABLE_UPDATE_DELETE_LIMIT=1 -DSQLITE_SOUNDEX=1 -DSQLITE_USE_URI=1 -DSQLITE_TEMP_STORE=3 -DSQLITE_MAX_VARIABLE_NUMBER=250000 -DSQLITE_MAX_MMAP_SIZE=1099511627776 -I. -I/usr/include/python3.7m -c src/util.c -o build/temp.linux-x86_64-3.7/src/util.o\n",
            "x86_64-linux-gnu-gcc -pthread -Wno-unused-result -Wsign-compare -DNDEBUG -g -fwrapv -O2 -Wall -g -fdebug-prefix-map=/build/python3.7-Y7dWVB/python3.7-3.7.12=. -fstack-protector-strong -Wformat -Werror=format-security -g -fdebug-prefix-map=/build/python3.7-Y7dWVB/python3.7-3.7.12=. -fstack-protector-strong -Wformat -Werror=format-security -Wdate-time -D_FORTIFY_SOURCE=2 -fPIC -DMODULE_NAME=\"pysqlite3.dbapi2\" -DSQLITE_ALLOW_COVERING_INDEX_SCAN=1 -DSQLITE_ENABLE_FTS3=1 -DSQLITE_ENABLE_FTS3_PARENTHESIS=1 -DSQLITE_ENABLE_FTS4=1 -DSQLITE_ENABLE_FTS5=1 -DSQLITE_ENABLE_JSON1=1 -DSQLITE_ENABLE_LOAD_EXTENSION=1 -DSQLITE_ENABLE_RTREE=1 -DSQLITE_ENABLE_STAT4=1 -DSQLITE_ENABLE_UPDATE_DELETE_LIMIT=1 -DSQLITE_SOUNDEX=1 -DSQLITE_USE_URI=1 -DSQLITE_TEMP_STORE=3 -DSQLITE_MAX_VARIABLE_NUMBER=250000 -DSQLITE_MAX_MMAP_SIZE=1099511627776 -I. -I/usr/include/python3.7m -c src/row.c -o build/temp.linux-x86_64-3.7/src/row.o\n",
            "x86_64-linux-gnu-gcc -pthread -Wno-unused-result -Wsign-compare -DNDEBUG -g -fwrapv -O2 -Wall -g -fdebug-prefix-map=/build/python3.7-Y7dWVB/python3.7-3.7.12=. -fstack-protector-strong -Wformat -Werror=format-security -g -fdebug-prefix-map=/build/python3.7-Y7dWVB/python3.7-3.7.12=. -fstack-protector-strong -Wformat -Werror=format-security -Wdate-time -D_FORTIFY_SOURCE=2 -fPIC -DMODULE_NAME=\"pysqlite3.dbapi2\" -DSQLITE_ALLOW_COVERING_INDEX_SCAN=1 -DSQLITE_ENABLE_FTS3=1 -DSQLITE_ENABLE_FTS3_PARENTHESIS=1 -DSQLITE_ENABLE_FTS4=1 -DSQLITE_ENABLE_FTS5=1 -DSQLITE_ENABLE_JSON1=1 -DSQLITE_ENABLE_LOAD_EXTENSION=1 -DSQLITE_ENABLE_RTREE=1 -DSQLITE_ENABLE_STAT4=1 -DSQLITE_ENABLE_UPDATE_DELETE_LIMIT=1 -DSQLITE_SOUNDEX=1 -DSQLITE_USE_URI=1 -DSQLITE_TEMP_STORE=3 -DSQLITE_MAX_VARIABLE_NUMBER=250000 -DSQLITE_MAX_MMAP_SIZE=1099511627776 -I. -I/usr/include/python3.7m -c src/blob.c -o build/temp.linux-x86_64-3.7/src/blob.o\n",
            "x86_64-linux-gnu-gcc -pthread -Wno-unused-result -Wsign-compare -DNDEBUG -g -fwrapv -O2 -Wall -g -fdebug-prefix-map=/build/python3.7-Y7dWVB/python3.7-3.7.12=. -fstack-protector-strong -Wformat -Werror=format-security -g -fdebug-prefix-map=/build/python3.7-Y7dWVB/python3.7-3.7.12=. -fstack-protector-strong -Wformat -Werror=format-security -Wdate-time -D_FORTIFY_SOURCE=2 -fPIC -DMODULE_NAME=\"pysqlite3.dbapi2\" -DSQLITE_ALLOW_COVERING_INDEX_SCAN=1 -DSQLITE_ENABLE_FTS3=1 -DSQLITE_ENABLE_FTS3_PARENTHESIS=1 -DSQLITE_ENABLE_FTS4=1 -DSQLITE_ENABLE_FTS5=1 -DSQLITE_ENABLE_JSON1=1 -DSQLITE_ENABLE_LOAD_EXTENSION=1 -DSQLITE_ENABLE_RTREE=1 -DSQLITE_ENABLE_STAT4=1 -DSQLITE_ENABLE_UPDATE_DELETE_LIMIT=1 -DSQLITE_SOUNDEX=1 -DSQLITE_USE_URI=1 -DSQLITE_TEMP_STORE=3 -DSQLITE_MAX_VARIABLE_NUMBER=250000 -DSQLITE_MAX_MMAP_SIZE=1099511627776 -I. -I/usr/include/python3.7m -c ./sqlite3.c -o build/temp.linux-x86_64-3.7/./sqlite3.o\n",
            "creating build/lib.linux-x86_64-3.7\n",
            "creating build/lib.linux-x86_64-3.7/pysqlite3\n",
            "x86_64-linux-gnu-gcc -pthread -shared -Wl,-O1 -Wl,-Bsymbolic-functions -Wl,-Bsymbolic-functions -Wl,-z,relro -Wl,-Bsymbolic-functions -Wl,-z,relro -g -fdebug-prefix-map=/build/python3.7-Y7dWVB/python3.7-3.7.12=. -fstack-protector-strong -Wformat -Werror=format-security -Wdate-time -D_FORTIFY_SOURCE=2 build/temp.linux-x86_64-3.7/src/module.o build/temp.linux-x86_64-3.7/src/connection.o build/temp.linux-x86_64-3.7/src/cursor.o build/temp.linux-x86_64-3.7/src/cache.o build/temp.linux-x86_64-3.7/src/microprotocols.o build/temp.linux-x86_64-3.7/src/prepare_protocol.o build/temp.linux-x86_64-3.7/src/statement.o build/temp.linux-x86_64-3.7/src/util.o build/temp.linux-x86_64-3.7/src/row.o build/temp.linux-x86_64-3.7/src/blob.o build/temp.linux-x86_64-3.7/./sqlite3.o -o build/lib.linux-x86_64-3.7/pysqlite3/_sqlite3.cpython-37m-x86_64-linux-gnu.so -lm\n",
            "running build\n",
            "running build_py\n",
            "copying pysqlite3/__init__.py -> build/lib.linux-x86_64-3.7/pysqlite3\n",
            "copying pysqlite3/dbapi2.py -> build/lib.linux-x86_64-3.7/pysqlite3\n",
            "running build_ext\n",
            "Builds a C extension linking against libsqlite3 library\n"
          ]
        }
      ]
    },
    {
      "cell_type": "code",
      "metadata": {
        "id": "hQkqcjL7EXCr",
        "colab": {
          "base_uri": "https://localhost:8080/",
          "height": 35
        },
        "outputId": "0f8de531-74ef-4458-a742-a85f2c491992"
      },
      "source": [
        "# 메뉴 런타임 > 런타임 다시 시작 후 셀 실행\n",
        "import pandas as pd\n",
        "import sqlite3\n",
        "sqlite3.sqlite_version  # 3.36.0"
      ],
      "execution_count": 4,
      "outputs": [
        {
          "output_type": "execute_result",
          "data": {
            "application/vnd.google.colaboratory.intrinsic+json": {
              "type": "string"
            },
            "text/plain": [
              "'3.22.0'"
            ]
          },
          "metadata": {},
          "execution_count": 4
        }
      ]
    },
    {
      "cell_type": "markdown",
      "metadata": {
        "id": "eBD5-kqFxbZC"
      },
      "source": [
        "## 2) 데이터베이스 다운로드"
      ]
    },
    {
      "cell_type": "code",
      "metadata": {
        "id": "A4DnlgKDf0Ph",
        "colab": {
          "base_uri": "https://localhost:8080/",
          "height": 106
        },
        "outputId": "92dd92c8-dbc7-4f49-f7d9-237fa07bddac"
      },
      "source": [
        "import gdown\n",
        "\n",
        "url = 'https://drive.google.com/uc?id=1iTVsBZLU8GtqSIy0iZ1A4Wp4ZZMuNoUM'\n",
        "output = 'classicmodels.db'\n",
        "gdown.download(url, output, quiet=False)"
      ],
      "execution_count": 5,
      "outputs": [
        {
          "output_type": "stream",
          "name": "stderr",
          "text": [
            "Downloading...\n",
            "From: https://drive.google.com/uc?id=1iTVsBZLU8GtqSIy0iZ1A4Wp4ZZMuNoUM\n",
            "To: /content/classicmodels.db\n",
            "100%|██████████| 311k/311k [00:00<00:00, 49.4MB/s]\n"
          ]
        },
        {
          "output_type": "execute_result",
          "data": {
            "application/vnd.google.colaboratory.intrinsic+json": {
              "type": "string"
            },
            "text/plain": [
              "'classicmodels.db'"
            ]
          },
          "metadata": {},
          "execution_count": 5
        }
      ]
    },
    {
      "cell_type": "markdown",
      "metadata": {
        "id": "PL5PJelMxoh_"
      },
      "source": [
        "## 3) 데이터베이스 연결"
      ]
    },
    {
      "cell_type": "code",
      "metadata": {
        "id": "dAma45DgCvvT"
      },
      "source": [
        "conn = sqlite3.connect(\"classicmodels.db\")\n",
        "cur = conn.cursor()"
      ],
      "execution_count": 6,
      "outputs": []
    },
    {
      "cell_type": "markdown",
      "metadata": {
        "id": "1JuDnthkxx7B"
      },
      "source": [
        "## 4) 데이터베이스 테이블 조회 테스트"
      ]
    },
    {
      "cell_type": "code",
      "metadata": {
        "id": "XgMq8gRBG2ij"
      },
      "source": [
        "def viewlimit(table, cutlimit):\n",
        "  sql = \"SELECT * FROM \" + table + \" LIMIT \" + cutlimit + \";\"\n",
        "  cur.execute(sql)\n",
        "  rows = cur.fetchall()\n",
        "  print(sql)\n",
        "  for row in rows:\n",
        "    print(row)"
      ],
      "execution_count": 7,
      "outputs": []
    },
    {
      "cell_type": "code",
      "metadata": {
        "id": "W7nPJDRfHXhH",
        "colab": {
          "base_uri": "https://localhost:8080/"
        },
        "outputId": "e19d13d3-8d2c-451a-bcae-fa6d7ab63380"
      },
      "source": [
        "viewlimit(\"customers\",\"10\")"
      ],
      "execution_count": 8,
      "outputs": [
        {
          "output_type": "stream",
          "name": "stdout",
          "text": [
            "SELECT * FROM customers LIMIT 10;\n",
            "(103, 'Atelier graphique', 'Schmitt', 'Carine ', '40.32.2555', '54, rue Royale', None, 'Nantes', None, '44000', 'France', 1370, 21000)\n",
            "(112, 'Signal Gift Stores', 'King', 'Jean', '7025551838', '8489 Strong St.', None, 'Las Vegas', 'NV', '83030', 'USA', 1166, 71800)\n",
            "(114, 'Australian Collectors, Co.', 'Ferguson', 'Peter', '03 9520 4555', '636 St Kilda Road', 'Level 3', 'Melbourne', 'Victoria', '3004', 'Australia', 1611, 117300)\n",
            "(119, 'La Rochelle Gifts', 'Labrune', 'Janine ', '40.67.8555', '67, rue des Cinquante Otages', None, 'Nantes', None, '44000', 'France', 1370, 118200)\n",
            "(121, 'Baane Mini Imports', 'Bergulfsen', 'Jonas ', '07-98 9555', 'Erling Skakkes gate 78', None, 'Stavern', None, '4110', 'Norway', 1504, 81700)\n",
            "(124, 'Mini Gifts Distributors Ltd.', 'Nelson', 'Susan', '4155551450', '5677 Strong St.', None, 'San Rafael', 'CA', '97562', 'USA', 1165, 210500)\n",
            "(125, 'Havel & Zbyszek Co', 'Piestrzeniewicz', 'Zbyszek ', '(26) 642-7555', 'ul. Filtrowa 68', None, 'Warszawa', None, '01-012', 'Poland', None, 0)\n",
            "(128, 'Blauer See Auto, Co.', 'Keitel', 'Roland', '+49 69 66 90 2555', 'Lyonerstr. 34', None, 'Frankfurt', None, '60528', 'Germany', 1504, 59700)\n",
            "(129, 'Mini Wheels Co.', 'Murphy', 'Julie', '6505555787', '5557 North Pendale Street', None, 'San Francisco', 'CA', '94217', 'USA', 1165, 64600)\n",
            "(131, 'Land of Toys Inc.', 'Lee', 'Kwai', '2125557818', '897 Long Airport Avenue', None, 'NYC', 'NY', '10022', 'USA', 1323, 114900)\n"
          ]
        }
      ]
    },
    {
      "cell_type": "markdown",
      "metadata": {
        "id": "NyyTaztcH9cG"
      },
      "source": [
        "## 5) Pandas 함수로 데이터 조회 및 결과 확인"
      ]
    },
    {
      "cell_type": "code",
      "metadata": {
        "id": "Kf2cXIMfie_U",
        "colab": {
          "base_uri": "https://localhost:8080/",
          "height": 595
        },
        "outputId": "2cfa3be9-9610-42d7-c4af-082edc5fc4d1"
      },
      "source": [
        "window_sql = f\"\"\"\n",
        "select *\n",
        "  from customers\n",
        " limit 100\n",
        "\"\"\"\n",
        "df = pd.read_sql(window_sql, conn, index_col=None)\n",
        "df.head(10)"
      ],
      "execution_count": 9,
      "outputs": [
        {
          "output_type": "execute_result",
          "data": {
            "text/html": [
              "<div>\n",
              "<style scoped>\n",
              "    .dataframe tbody tr th:only-of-type {\n",
              "        vertical-align: middle;\n",
              "    }\n",
              "\n",
              "    .dataframe tbody tr th {\n",
              "        vertical-align: top;\n",
              "    }\n",
              "\n",
              "    .dataframe thead th {\n",
              "        text-align: right;\n",
              "    }\n",
              "</style>\n",
              "<table border=\"1\" class=\"dataframe\">\n",
              "  <thead>\n",
              "    <tr style=\"text-align: right;\">\n",
              "      <th></th>\n",
              "      <th>customerNumber</th>\n",
              "      <th>customerName</th>\n",
              "      <th>contactLastName</th>\n",
              "      <th>contactFirstName</th>\n",
              "      <th>phone</th>\n",
              "      <th>addressLine1</th>\n",
              "      <th>addressLine2</th>\n",
              "      <th>city</th>\n",
              "      <th>state</th>\n",
              "      <th>postalCode</th>\n",
              "      <th>country</th>\n",
              "      <th>salesRepEmployeeNumber</th>\n",
              "      <th>creditLimit</th>\n",
              "    </tr>\n",
              "  </thead>\n",
              "  <tbody>\n",
              "    <tr>\n",
              "      <th>0</th>\n",
              "      <td>103</td>\n",
              "      <td>Atelier graphique</td>\n",
              "      <td>Schmitt</td>\n",
              "      <td>Carine</td>\n",
              "      <td>40.32.2555</td>\n",
              "      <td>54, rue Royale</td>\n",
              "      <td>None</td>\n",
              "      <td>Nantes</td>\n",
              "      <td>None</td>\n",
              "      <td>44000</td>\n",
              "      <td>France</td>\n",
              "      <td>1370.0</td>\n",
              "      <td>21000</td>\n",
              "    </tr>\n",
              "    <tr>\n",
              "      <th>1</th>\n",
              "      <td>112</td>\n",
              "      <td>Signal Gift Stores</td>\n",
              "      <td>King</td>\n",
              "      <td>Jean</td>\n",
              "      <td>7025551838</td>\n",
              "      <td>8489 Strong St.</td>\n",
              "      <td>None</td>\n",
              "      <td>Las Vegas</td>\n",
              "      <td>NV</td>\n",
              "      <td>83030</td>\n",
              "      <td>USA</td>\n",
              "      <td>1166.0</td>\n",
              "      <td>71800</td>\n",
              "    </tr>\n",
              "    <tr>\n",
              "      <th>2</th>\n",
              "      <td>114</td>\n",
              "      <td>Australian Collectors, Co.</td>\n",
              "      <td>Ferguson</td>\n",
              "      <td>Peter</td>\n",
              "      <td>03 9520 4555</td>\n",
              "      <td>636 St Kilda Road</td>\n",
              "      <td>Level 3</td>\n",
              "      <td>Melbourne</td>\n",
              "      <td>Victoria</td>\n",
              "      <td>3004</td>\n",
              "      <td>Australia</td>\n",
              "      <td>1611.0</td>\n",
              "      <td>117300</td>\n",
              "    </tr>\n",
              "    <tr>\n",
              "      <th>3</th>\n",
              "      <td>119</td>\n",
              "      <td>La Rochelle Gifts</td>\n",
              "      <td>Labrune</td>\n",
              "      <td>Janine</td>\n",
              "      <td>40.67.8555</td>\n",
              "      <td>67, rue des Cinquante Otages</td>\n",
              "      <td>None</td>\n",
              "      <td>Nantes</td>\n",
              "      <td>None</td>\n",
              "      <td>44000</td>\n",
              "      <td>France</td>\n",
              "      <td>1370.0</td>\n",
              "      <td>118200</td>\n",
              "    </tr>\n",
              "    <tr>\n",
              "      <th>4</th>\n",
              "      <td>121</td>\n",
              "      <td>Baane Mini Imports</td>\n",
              "      <td>Bergulfsen</td>\n",
              "      <td>Jonas</td>\n",
              "      <td>07-98 9555</td>\n",
              "      <td>Erling Skakkes gate 78</td>\n",
              "      <td>None</td>\n",
              "      <td>Stavern</td>\n",
              "      <td>None</td>\n",
              "      <td>4110</td>\n",
              "      <td>Norway</td>\n",
              "      <td>1504.0</td>\n",
              "      <td>81700</td>\n",
              "    </tr>\n",
              "    <tr>\n",
              "      <th>5</th>\n",
              "      <td>124</td>\n",
              "      <td>Mini Gifts Distributors Ltd.</td>\n",
              "      <td>Nelson</td>\n",
              "      <td>Susan</td>\n",
              "      <td>4155551450</td>\n",
              "      <td>5677 Strong St.</td>\n",
              "      <td>None</td>\n",
              "      <td>San Rafael</td>\n",
              "      <td>CA</td>\n",
              "      <td>97562</td>\n",
              "      <td>USA</td>\n",
              "      <td>1165.0</td>\n",
              "      <td>210500</td>\n",
              "    </tr>\n",
              "    <tr>\n",
              "      <th>6</th>\n",
              "      <td>125</td>\n",
              "      <td>Havel &amp; Zbyszek Co</td>\n",
              "      <td>Piestrzeniewicz</td>\n",
              "      <td>Zbyszek</td>\n",
              "      <td>(26) 642-7555</td>\n",
              "      <td>ul. Filtrowa 68</td>\n",
              "      <td>None</td>\n",
              "      <td>Warszawa</td>\n",
              "      <td>None</td>\n",
              "      <td>01-012</td>\n",
              "      <td>Poland</td>\n",
              "      <td>NaN</td>\n",
              "      <td>0</td>\n",
              "    </tr>\n",
              "    <tr>\n",
              "      <th>7</th>\n",
              "      <td>128</td>\n",
              "      <td>Blauer See Auto, Co.</td>\n",
              "      <td>Keitel</td>\n",
              "      <td>Roland</td>\n",
              "      <td>+49 69 66 90 2555</td>\n",
              "      <td>Lyonerstr. 34</td>\n",
              "      <td>None</td>\n",
              "      <td>Frankfurt</td>\n",
              "      <td>None</td>\n",
              "      <td>60528</td>\n",
              "      <td>Germany</td>\n",
              "      <td>1504.0</td>\n",
              "      <td>59700</td>\n",
              "    </tr>\n",
              "    <tr>\n",
              "      <th>8</th>\n",
              "      <td>129</td>\n",
              "      <td>Mini Wheels Co.</td>\n",
              "      <td>Murphy</td>\n",
              "      <td>Julie</td>\n",
              "      <td>6505555787</td>\n",
              "      <td>5557 North Pendale Street</td>\n",
              "      <td>None</td>\n",
              "      <td>San Francisco</td>\n",
              "      <td>CA</td>\n",
              "      <td>94217</td>\n",
              "      <td>USA</td>\n",
              "      <td>1165.0</td>\n",
              "      <td>64600</td>\n",
              "    </tr>\n",
              "    <tr>\n",
              "      <th>9</th>\n",
              "      <td>131</td>\n",
              "      <td>Land of Toys Inc.</td>\n",
              "      <td>Lee</td>\n",
              "      <td>Kwai</td>\n",
              "      <td>2125557818</td>\n",
              "      <td>897 Long Airport Avenue</td>\n",
              "      <td>None</td>\n",
              "      <td>NYC</td>\n",
              "      <td>NY</td>\n",
              "      <td>10022</td>\n",
              "      <td>USA</td>\n",
              "      <td>1323.0</td>\n",
              "      <td>114900</td>\n",
              "    </tr>\n",
              "  </tbody>\n",
              "</table>\n",
              "</div>"
            ],
            "text/plain": [
              "   customerNumber  ... creditLimit\n",
              "0             103  ...       21000\n",
              "1             112  ...       71800\n",
              "2             114  ...      117300\n",
              "3             119  ...      118200\n",
              "4             121  ...       81700\n",
              "5             124  ...      210500\n",
              "6             125  ...           0\n",
              "7             128  ...       59700\n",
              "8             129  ...       64600\n",
              "9             131  ...      114900\n",
              "\n",
              "[10 rows x 13 columns]"
            ]
          },
          "metadata": {},
          "execution_count": 9
        }
      ]
    },
    {
      "cell_type": "code",
      "metadata": {
        "colab": {
          "base_uri": "https://localhost:8080/",
          "height": 612
        },
        "id": "pe4pZD9mzqjy",
        "outputId": "b052a769-9a32-4d2a-f2bc-fef6298d686e"
      },
      "source": [
        "df.tail(10)"
      ],
      "execution_count": 10,
      "outputs": [
        {
          "output_type": "execute_result",
          "data": {
            "text/html": [
              "<div>\n",
              "<style scoped>\n",
              "    .dataframe tbody tr th:only-of-type {\n",
              "        vertical-align: middle;\n",
              "    }\n",
              "\n",
              "    .dataframe tbody tr th {\n",
              "        vertical-align: top;\n",
              "    }\n",
              "\n",
              "    .dataframe thead th {\n",
              "        text-align: right;\n",
              "    }\n",
              "</style>\n",
              "<table border=\"1\" class=\"dataframe\">\n",
              "  <thead>\n",
              "    <tr style=\"text-align: right;\">\n",
              "      <th></th>\n",
              "      <th>customerNumber</th>\n",
              "      <th>customerName</th>\n",
              "      <th>contactLastName</th>\n",
              "      <th>contactFirstName</th>\n",
              "      <th>phone</th>\n",
              "      <th>addressLine1</th>\n",
              "      <th>addressLine2</th>\n",
              "      <th>city</th>\n",
              "      <th>state</th>\n",
              "      <th>postalCode</th>\n",
              "      <th>country</th>\n",
              "      <th>salesRepEmployeeNumber</th>\n",
              "      <th>creditLimit</th>\n",
              "    </tr>\n",
              "  </thead>\n",
              "  <tbody>\n",
              "    <tr>\n",
              "      <th>90</th>\n",
              "      <td>382</td>\n",
              "      <td>Salzburg Collectables</td>\n",
              "      <td>Pipps</td>\n",
              "      <td>Georg</td>\n",
              "      <td>6562-9555</td>\n",
              "      <td>Geislweg 14</td>\n",
              "      <td>None</td>\n",
              "      <td>Salzburg</td>\n",
              "      <td>None</td>\n",
              "      <td>5020</td>\n",
              "      <td>Austria</td>\n",
              "      <td>1401.0</td>\n",
              "      <td>71700</td>\n",
              "    </tr>\n",
              "    <tr>\n",
              "      <th>91</th>\n",
              "      <td>385</td>\n",
              "      <td>Cruz &amp; Sons Co.</td>\n",
              "      <td>Cruz</td>\n",
              "      <td>Arnold</td>\n",
              "      <td>+63 2 555 3587</td>\n",
              "      <td>15 McCallum Street</td>\n",
              "      <td>NatWest Center #13-03</td>\n",
              "      <td>Makati City</td>\n",
              "      <td>None</td>\n",
              "      <td>1227 MM</td>\n",
              "      <td>Philippines</td>\n",
              "      <td>1621.0</td>\n",
              "      <td>81500</td>\n",
              "    </tr>\n",
              "    <tr>\n",
              "      <th>92</th>\n",
              "      <td>386</td>\n",
              "      <td>L'ordine Souveniers</td>\n",
              "      <td>Moroni</td>\n",
              "      <td>Maurizio</td>\n",
              "      <td>0522-556555</td>\n",
              "      <td>Strada Provinciale 124</td>\n",
              "      <td>None</td>\n",
              "      <td>Reggio Emilia</td>\n",
              "      <td>None</td>\n",
              "      <td>42100</td>\n",
              "      <td>Italy</td>\n",
              "      <td>1401.0</td>\n",
              "      <td>121400</td>\n",
              "    </tr>\n",
              "    <tr>\n",
              "      <th>93</th>\n",
              "      <td>398</td>\n",
              "      <td>Tokyo Collectables, Ltd</td>\n",
              "      <td>Shimamura</td>\n",
              "      <td>Akiko</td>\n",
              "      <td>+81 3 3584 0555</td>\n",
              "      <td>2-2-8 Roppongi</td>\n",
              "      <td>None</td>\n",
              "      <td>Minato-ku</td>\n",
              "      <td>Tokyo</td>\n",
              "      <td>106-0032</td>\n",
              "      <td>Japan</td>\n",
              "      <td>1621.0</td>\n",
              "      <td>94400</td>\n",
              "    </tr>\n",
              "    <tr>\n",
              "      <th>94</th>\n",
              "      <td>406</td>\n",
              "      <td>Auto Canal+ Petit</td>\n",
              "      <td>Perrier</td>\n",
              "      <td>Dominique</td>\n",
              "      <td>(1) 47.55.6555</td>\n",
              "      <td>25, rue Lauriston</td>\n",
              "      <td>None</td>\n",
              "      <td>Paris</td>\n",
              "      <td>None</td>\n",
              "      <td>75016</td>\n",
              "      <td>France</td>\n",
              "      <td>1337.0</td>\n",
              "      <td>95000</td>\n",
              "    </tr>\n",
              "    <tr>\n",
              "      <th>95</th>\n",
              "      <td>409</td>\n",
              "      <td>Stuttgart Collectable Exchange</td>\n",
              "      <td>Müller</td>\n",
              "      <td>Rita</td>\n",
              "      <td>0711-555361</td>\n",
              "      <td>Adenauerallee 900</td>\n",
              "      <td>None</td>\n",
              "      <td>Stuttgart</td>\n",
              "      <td>None</td>\n",
              "      <td>70563</td>\n",
              "      <td>Germany</td>\n",
              "      <td>NaN</td>\n",
              "      <td>0</td>\n",
              "    </tr>\n",
              "    <tr>\n",
              "      <th>96</th>\n",
              "      <td>412</td>\n",
              "      <td>Extreme Desk Decorations, Ltd</td>\n",
              "      <td>McRoy</td>\n",
              "      <td>Sarah</td>\n",
              "      <td>04 499 9555</td>\n",
              "      <td>101 Lambton Quay</td>\n",
              "      <td>Level 11</td>\n",
              "      <td>Wellington</td>\n",
              "      <td>None</td>\n",
              "      <td>None</td>\n",
              "      <td>New Zealand</td>\n",
              "      <td>1612.0</td>\n",
              "      <td>86800</td>\n",
              "    </tr>\n",
              "    <tr>\n",
              "      <th>97</th>\n",
              "      <td>415</td>\n",
              "      <td>Bavarian Collectables Imports, Co.</td>\n",
              "      <td>Donnermeyer</td>\n",
              "      <td>Michael</td>\n",
              "      <td>+49 89 61 08 9555</td>\n",
              "      <td>Hansastr. 15</td>\n",
              "      <td>None</td>\n",
              "      <td>Munich</td>\n",
              "      <td>None</td>\n",
              "      <td>80686</td>\n",
              "      <td>Germany</td>\n",
              "      <td>1504.0</td>\n",
              "      <td>77000</td>\n",
              "    </tr>\n",
              "    <tr>\n",
              "      <th>98</th>\n",
              "      <td>424</td>\n",
              "      <td>Classic Legends Inc.</td>\n",
              "      <td>Hernandez</td>\n",
              "      <td>Maria</td>\n",
              "      <td>2125558493</td>\n",
              "      <td>5905 Pompton St.</td>\n",
              "      <td>Suite 750</td>\n",
              "      <td>NYC</td>\n",
              "      <td>NY</td>\n",
              "      <td>10022</td>\n",
              "      <td>USA</td>\n",
              "      <td>1286.0</td>\n",
              "      <td>67500</td>\n",
              "    </tr>\n",
              "    <tr>\n",
              "      <th>99</th>\n",
              "      <td>443</td>\n",
              "      <td>Feuer Online Stores, Inc</td>\n",
              "      <td>Feuer</td>\n",
              "      <td>Alexander</td>\n",
              "      <td>0342-555176</td>\n",
              "      <td>Heerstr. 22</td>\n",
              "      <td>None</td>\n",
              "      <td>Leipzig</td>\n",
              "      <td>None</td>\n",
              "      <td>04179</td>\n",
              "      <td>Germany</td>\n",
              "      <td>NaN</td>\n",
              "      <td>0</td>\n",
              "    </tr>\n",
              "  </tbody>\n",
              "</table>\n",
              "</div>"
            ],
            "text/plain": [
              "    customerNumber  ... creditLimit\n",
              "90             382  ...       71700\n",
              "91             385  ...       81500\n",
              "92             386  ...      121400\n",
              "93             398  ...       94400\n",
              "94             406  ...       95000\n",
              "95             409  ...           0\n",
              "96             412  ...       86800\n",
              "97             415  ...       77000\n",
              "98             424  ...       67500\n",
              "99             443  ...           0\n",
              "\n",
              "[10 rows x 13 columns]"
            ]
          },
          "metadata": {},
          "execution_count": 10
        }
      ]
    },
    {
      "cell_type": "code",
      "metadata": {
        "id": "XyjHksrFSq7Q"
      },
      "source": [
        "#db조회 결과 다운로드\n",
        "df.to_csv('/content/tmp.csv')"
      ],
      "execution_count": 11,
      "outputs": []
    },
    {
      "cell_type": "markdown",
      "metadata": {
        "id": "wXnK-AJHVDpv"
      },
      "source": [
        "## 6) 구글 드라이브 마운트 및 파일 저장"
      ]
    },
    {
      "cell_type": "code",
      "metadata": {
        "colab": {
          "base_uri": "https://localhost:8080/"
        },
        "id": "gGz6qF2LZF27",
        "outputId": "466151d2-84e8-4606-db40-38fe34a88676"
      },
      "source": [
        "from google.colab import drive\n",
        "drive.mount('/content/drive')"
      ],
      "execution_count": 12,
      "outputs": [
        {
          "output_type": "stream",
          "name": "stdout",
          "text": [
            "Mounted at /content/drive\n"
          ]
        }
      ]
    },
    {
      "cell_type": "code",
      "metadata": {
        "id": "ZQYop_VuWWsc"
      },
      "source": [
        "def sql_result(sql,file):\n",
        "  print(sql)\n",
        "  df = pd.read_sql(sql, conn, index_col=None)\n",
        "  print(df.head(10))\n",
        "  file_name = './result/5w/' + file + '.csv'\n",
        "  print(file_name)\n",
        "  df.to_csv(file_name, index=False)"
      ],
      "execution_count": 13,
      "outputs": []
    },
    {
      "cell_type": "code",
      "metadata": {
        "colab": {
          "base_uri": "https://localhost:8080/"
        },
        "id": "I-ycEOhmL4Tf",
        "outputId": "0f484c90-05ea-472c-8b2e-a739d168cd78"
      },
      "source": [
        "!mkdir ./result/5w"
      ],
      "execution_count": 20,
      "outputs": [
        {
          "output_type": "stream",
          "name": "stdout",
          "text": [
            "mkdir: cannot create directory ‘./result/5w’: File exists\n"
          ]
        }
      ]
    },
    {
      "cell_type": "code",
      "metadata": {
        "id": "NbXxClBFWZxN"
      },
      "source": [
        "sql = f\"\"\"\n",
        "select *\n",
        "  from customers\n",
        " limit 10\n",
        "\"\"\"\n",
        "file = 'result_5w_1_1'"
      ],
      "execution_count": 14,
      "outputs": []
    },
    {
      "cell_type": "code",
      "metadata": {
        "colab": {
          "base_uri": "https://localhost:8080/"
        },
        "id": "3VDb1CRtWZn2",
        "outputId": "d8aff048-05cb-4e4d-d186-9be0d487b0df"
      },
      "source": [
        "sql_result(sql,file)"
      ],
      "execution_count": 21,
      "outputs": [
        {
          "output_type": "stream",
          "name": "stdout",
          "text": [
            "\n",
            "select *\n",
            "  from customers\n",
            " limit 10\n",
            "\n",
            "   customerNumber  ... creditLimit\n",
            "0             103  ...       21000\n",
            "1             112  ...       71800\n",
            "2             114  ...      117300\n",
            "3             119  ...      118200\n",
            "4             121  ...       81700\n",
            "5             124  ...      210500\n",
            "6             125  ...           0\n",
            "7             128  ...       59700\n",
            "8             129  ...       64600\n",
            "9             131  ...      114900\n",
            "\n",
            "[10 rows x 13 columns]\n",
            "./result/5w/result_5w_1_1.csv\n"
          ]
        }
      ]
    },
    {
      "cell_type": "markdown",
      "metadata": {
        "id": "jnanxZi3Fqm3"
      },
      "source": [
        "# 1.데이터 생성"
      ]
    },
    {
      "cell_type": "markdown",
      "metadata": {
        "id": "BRLivRO85KuW"
      },
      "source": [
        "데이터베이스 소개 URL\n",
        "https://www.mysqltutorial.org/mysql-sample-database.aspx"
      ]
    },
    {
      "cell_type": "markdown",
      "metadata": {
        "id": "Ua7hWE4l1zJ5"
      },
      "source": [
        "**데이터베이스 소개**\n",
        "\n",
        "![MySQL-Sample-Database-Schema.png](data:image/png;base64,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)\n",
        "\n",
        "\n",
        "*   Customers: stores customer’s data.\n",
        "*   Products: stores a list of scale model cars.\n",
        "*   ProductLines: stores a list of product line categories.\n",
        "*   Orders: stores sales orders placed by customers.\n",
        "*   OrderDetails: stores sales order line items for each sales order.\n",
        "*   Payments: stores payments made by customers based on their accounts.\n",
        "*   Employees: stores all employee information as well as the organization structure such as who reports to whom.\n",
        "*   Offices: stores sales office data.\n",
        "\n",
        "\n"
      ]
    },
    {
      "cell_type": "markdown",
      "metadata": {
        "id": "7SpLMzQiuexb"
      },
      "source": [
        "#2.구매 지표 추출 (사전녹화)"
      ]
    },
    {
      "cell_type": "markdown",
      "metadata": {
        "id": "S8SLwihrGR_K"
      },
      "source": [
        "## 1)매출액(일자별, 월별, 연도별)"
      ]
    },
    {
      "cell_type": "markdown",
      "metadata": {
        "id": "BURoV-vZTtOo"
      },
      "source": [
        "*   일별 매출액을 조회하려면 주문의 주문일과 판매액을 사용함\n",
        "*   ERD를 보면 주문 일자(orderdate)는 orders 테이블에 존재하고, 판매액(priceEach * quantityOrdered)은 orderdetails에 존재함\n",
        "*   orders 테이블의 주문 정보에 orderdetails의 주문 상품 가격을 결합함\n",
        "\n",
        "\n",
        "\n"
      ]
    },
    {
      "cell_type": "markdown",
      "metadata": {
        "id": "R7j2PxE4ODYA"
      },
      "source": [
        "### a) 일별 매출액 조회"
      ]
    },
    {
      "cell_type": "markdown",
      "metadata": {
        "id": "K0X2SQSmtlQw"
      },
      "source": [
        "\n",
        "\n",
        "*   2개의 테이블(orders, orderdetails)을 조합한 뒤, ORDERDATE와 PRICEEACH x QUANTITYORDERED(매출액)를 조회한 결과\n",
        "\n"
      ]
    },
    {
      "cell_type": "code",
      "metadata": {
        "id": "9rtO9DCkRWqP",
        "colab": {
          "base_uri": "https://localhost:8080/"
        },
        "outputId": "69587d1c-7683-437d-c539-cb6ca27e3e12"
      },
      "source": [
        "sql = f\"\"\"\n",
        "SELECT A.ORDERDATE\n",
        "     , PRICEEACH*QUANTITYORDERED\n",
        "  FROM ORDERS A\n",
        "  LEFT JOIN ORDERDETAILS B\n",
        "    ON A.ORDERNUMBER = B.ORDERNUMBER\n",
        "\"\"\"\n",
        "sql_result(sql,'2_1_A_1일별매출액조회')"
      ],
      "execution_count": 22,
      "outputs": [
        {
          "output_type": "stream",
          "name": "stdout",
          "text": [
            "\n",
            "SELECT A.ORDERDATE\n",
            "     , PRICEEACH*QUANTITYORDERED\n",
            "  FROM ORDERS A\n",
            "  LEFT JOIN ORDERDETAILS B\n",
            "    ON A.ORDERNUMBER = B.ORDERNUMBER\n",
            "\n",
            "    orderDate  PRICEEACH*QUANTITYORDERED\n",
            "0  2003-01-06                    4080.00\n",
            "1  2003-01-06                    2754.50\n",
            "2  2003-01-06                    1660.12\n",
            "3  2003-01-06                    1729.21\n",
            "4  2003-01-09                    2701.50\n",
            "5  2003-01-09                    4343.56\n",
            "6  2003-01-09                    1463.85\n",
            "7  2003-01-09                    2040.10\n",
            "8  2003-01-10                    3726.45\n",
            "9  2003-01-10                    1768.33\n",
            "./result/5w/2_1_A_1일별매출액조회.csv\n"
          ]
        }
      ]
    },
    {
      "cell_type": "markdown",
      "metadata": {
        "id": "7O4abtFetvpk"
      },
      "source": [
        "*   ORDERDATE로 그룹핑한 뒤, PRICEEACH x QUANTITYORDERED(매출액)의 합을 집계하면 일별 매출액을 계산"
      ]
    },
    {
      "cell_type": "code",
      "metadata": {
        "id": "Tr8PI4A1RWis",
        "colab": {
          "base_uri": "https://localhost:8080/"
        },
        "outputId": "bca68df5-10b7-4501-8701-aa90f3297919"
      },
      "source": [
        "# GROUP BY 1, ORDER BY 1은 이름에 관계 없이 첫 번째 열로 그룹화\n",
        "sql = f\"\"\"\n",
        "SELECT A.ORDERDATE\n",
        "     , SUM(PRICEEACH*QUANTITYORDERED) AS SALES\n",
        "  FROM ORDERS A\n",
        "  LEFT JOIN ORDERDETAILS B\n",
        "    ON A.ORDERNUMBER = B.ORDERNUMBER\n",
        " GROUP BY 1\n",
        " ORDER BY 1;\n",
        "\"\"\"\n",
        "sql_result(sql,'2_1_A_2일별매출액조회')"
      ],
      "execution_count": 23,
      "outputs": [
        {
          "output_type": "stream",
          "name": "stdout",
          "text": [
            "\n",
            "SELECT A.ORDERDATE\n",
            "     , SUM(PRICEEACH*QUANTITYORDERED) AS SALES\n",
            "  FROM ORDERS A\n",
            "  LEFT JOIN ORDERDETAILS B\n",
            "    ON A.ORDERNUMBER = B.ORDERNUMBER\n",
            " GROUP BY 1\n",
            " ORDER BY 1;\n",
            "\n",
            "    orderDate     SALES\n",
            "0  2003-01-06  10223.83\n",
            "1  2003-01-09  10549.01\n",
            "2  2003-01-10   5494.78\n",
            "3  2003-01-29  50218.95\n",
            "4  2003-01-31  40206.20\n",
            "5  2003-02-11  53959.21\n",
            "6  2003-02-17  52151.81\n",
            "7  2003-02-24  22292.62\n",
            "8  2003-03-03  51001.22\n",
            "9  2003-03-10  25833.14\n",
            "./result/5w/2_1_A_2일별매출액조회.csv\n"
          ]
        }
      ]
    },
    {
      "cell_type": "markdown",
      "metadata": {
        "id": "SBXRqPIwOKqs"
      },
      "source": [
        "### b) 월별 매출액 조회"
      ]
    },
    {
      "cell_type": "markdown",
      "metadata": {
        "id": "8cWEpAxZ63LN"
      },
      "source": [
        "*   판매일(orderdate)은 'yyyy-mm-dd'의 형태로 구성됨\n",
        "*   orderdate에서 'yyyy-mm'만 가져올 수 있다면, 월별 매출액을 조회할 수 있음\n",
        "*   문자열에서 원하는 텍스트만 호출하는 함수는 substr()"
      ]
    },
    {
      "cell_type": "markdown",
      "metadata": {
        "id": "uT1WZc3J7YcW"
      },
      "source": [
        "**문자열에서 원하는 부분만 가져오기 substr()**\n",
        "<br>substr(칼럼, 위치, 길이)\n",
        "<br>칼럼 : 문자열\n",
        "<br>위치 : 시작 텍스트의 위치를 나타냄\n",
        "<br>길이 : 몇 개의 텍스트를 가지고 올지 정함"
      ]
    },
    {
      "cell_type": "code",
      "metadata": {
        "id": "vA9szAwpRT3T",
        "colab": {
          "base_uri": "https://localhost:8080/",
          "height": 80
        },
        "outputId": "8901efad-d9eb-4bd5-99fa-411cc41ff518"
      },
      "source": [
        "#substr 명령어\n",
        "sql = f\"\"\"\n",
        "SELECT SUBSTR('ABCDE',2,3);\n",
        "\"\"\"\n",
        "df = pd.read_sql(sql, conn, index_col=None)\n",
        "df.head()"
      ],
      "execution_count": 24,
      "outputs": [
        {
          "output_type": "execute_result",
          "data": {
            "text/html": [
              "<div>\n",
              "<style scoped>\n",
              "    .dataframe tbody tr th:only-of-type {\n",
              "        vertical-align: middle;\n",
              "    }\n",
              "\n",
              "    .dataframe tbody tr th {\n",
              "        vertical-align: top;\n",
              "    }\n",
              "\n",
              "    .dataframe thead th {\n",
              "        text-align: right;\n",
              "    }\n",
              "</style>\n",
              "<table border=\"1\" class=\"dataframe\">\n",
              "  <thead>\n",
              "    <tr style=\"text-align: right;\">\n",
              "      <th></th>\n",
              "      <th>SUBSTR('ABCDE',2,3)</th>\n",
              "    </tr>\n",
              "  </thead>\n",
              "  <tbody>\n",
              "    <tr>\n",
              "      <th>0</th>\n",
              "      <td>BCD</td>\n",
              "    </tr>\n",
              "  </tbody>\n",
              "</table>\n",
              "</div>"
            ],
            "text/plain": [
              "  SUBSTR('ABCDE',2,3)\n",
              "0                 BCD"
            ]
          },
          "metadata": {},
          "execution_count": 24
        }
      ]
    },
    {
      "cell_type": "markdown",
      "metadata": {
        "id": "WUlUcE7C7xWn"
      },
      "source": [
        "*   substr()을 이용해 월별 매출을 구하는 방법"
      ]
    },
    {
      "cell_type": "code",
      "metadata": {
        "id": "HIgOgvy8RRqP",
        "colab": {
          "base_uri": "https://localhost:8080/"
        },
        "outputId": "f7d42a0d-ad22-4b90-8c77-bbe4dfb957ba"
      },
      "source": [
        "# ORDERDATE에서 1번째부터 7번째까지의 값을 month로 (2021-10)\n",
        "sql = f\"\"\"\n",
        "SELECT SUBSTR(A.ORDERDATE,1,7) AS MONTH\n",
        "     , SUM(PRICEEACH*QUANTITYORDERED) AS SALES\n",
        "  FROM ORDERS A\n",
        "  LEFT JOIN ORDERDETAILS B\n",
        "  ON A.ORDERNUMBER = B.ORDERNUMBER\n",
        " GROUP BY 1\n",
        " ORDER BY 1;\n",
        "\"\"\"\n",
        "sql_result(sql,'2_1_B월별매출')"
      ],
      "execution_count": 25,
      "outputs": [
        {
          "output_type": "stream",
          "name": "stdout",
          "text": [
            "\n",
            "SELECT SUBSTR(A.ORDERDATE,1,7) AS MONTH\n",
            "     , SUM(PRICEEACH*QUANTITYORDERED) AS SALES\n",
            "  FROM ORDERS A\n",
            "  LEFT JOIN ORDERDETAILS B\n",
            "  ON A.ORDERNUMBER = B.ORDERNUMBER\n",
            " GROUP BY 1\n",
            " ORDER BY 1;\n",
            "\n",
            "     MONTH      SALES\n",
            "0  2003-01  116692.77\n",
            "1  2003-02  128403.64\n",
            "2  2003-03  160517.14\n",
            "3  2003-04  185848.59\n",
            "4  2003-05  179435.55\n",
            "5  2003-06  150470.77\n",
            "6  2003-07  201940.36\n",
            "7  2003-08  178257.11\n",
            "8  2003-09  236697.85\n",
            "9  2003-10  514336.21\n",
            "./result/5w/2_1_B월별매출.csv\n"
          ]
        }
      ]
    },
    {
      "cell_type": "markdown",
      "metadata": {
        "id": "o9dfJrU5Ob33"
      },
      "source": [
        "### c) 연도별 매출액 조회"
      ]
    },
    {
      "cell_type": "markdown",
      "metadata": {
        "id": "yeCUC2AU76M1"
      },
      "source": [
        "*   연도별 매출액은 월별 매출액과 동일한 방법으로 산출함"
      ]
    },
    {
      "cell_type": "code",
      "metadata": {
        "id": "zmq91REgRPCx",
        "colab": {
          "base_uri": "https://localhost:8080/"
        },
        "outputId": "524d764c-4dab-4dcc-917b-7a47efacafb0"
      },
      "source": [
        "# SUBSTR(A.ORDERDATE, 1, 4)로 2021별로 조회 진행\n",
        "sql = f\"\"\"\n",
        "SELECT SUBSTR(A.ORDERDATE,1,4) AS YEAR\n",
        "     , SUM(PRICEEACH*QUANTITYORDERED) AS SALES\n",
        "  FROM ORDERS A\n",
        "  LEFT JOIN ORDERDETAILS B \n",
        "    ON A.ORDERNUMBER = B.ORDERNUMBER\n",
        " GROUP BY 1\n",
        " ORDER BY 1;\n",
        "\"\"\"\n",
        "sql_result(sql,'2_1_C연도별매출')"
      ],
      "execution_count": 26,
      "outputs": [
        {
          "output_type": "stream",
          "name": "stdout",
          "text": [
            "\n",
            "SELECT SUBSTR(A.ORDERDATE,1,4) AS YEAR\n",
            "     , SUM(PRICEEACH*QUANTITYORDERED) AS SALES\n",
            "  FROM ORDERS A\n",
            "  LEFT JOIN ORDERDETAILS B \n",
            "    ON A.ORDERNUMBER = B.ORDERNUMBER\n",
            " GROUP BY 1\n",
            " ORDER BY 1;\n",
            "\n",
            "   YEAR       SALES\n",
            "0  2003  3317348.39\n",
            "1  2004  4515905.51\n",
            "2  2005  1770936.71\n",
            "./result/5w/2_1_C연도별매출.csv\n"
          ]
        }
      ]
    },
    {
      "cell_type": "markdown",
      "metadata": {
        "id": "xbV5KqpPOb11"
      },
      "source": [
        "## 2) 구매자 수, 구매 건수(일자별, 월별, 연도별)"
      ]
    },
    {
      "cell_type": "markdown",
      "metadata": {
        "id": "fUE4oYX18hVs"
      },
      "source": [
        "*   일자별, 월별, 연도별 구매자 수를 추출함\n",
        "*   ERD를 살펴보면 ORDERS테이블에 판매일(ORDERDATR), 구매 고객 번호(CUSTOMERNUMBER)가 존재함\n",
        "*   판매일(ORDERDATE)로 그룹핑한 후 고객 번호를 COUNT해야 함\n",
        "*   구매자 수, 구매 건수를 산출할 때 보통 UNIQUE하게 필드를 COUNT해 줘야 함"
      ]
    },
    {
      "cell_type": "code",
      "metadata": {
        "id": "Gme7jkILRLtv",
        "colab": {
          "base_uri": "https://localhost:8080/"
        },
        "outputId": "a9b68de3-85f2-4573-bd67-bdcc4e01d8c5"
      },
      "source": [
        "#CUSTOMERNUMBER 중복이 존재함\n",
        "sql = f\"\"\"\n",
        "SELECT ORDERDATE\n",
        "     , CUSTOMERNUMBER\n",
        "     , ORDERNUMBER\n",
        "  FROM ORDERS;\n",
        "\"\"\"\n",
        "sql_result(sql,'2_2_1구매자수구매건수')"
      ],
      "execution_count": 27,
      "outputs": [
        {
          "output_type": "stream",
          "name": "stdout",
          "text": [
            "\n",
            "SELECT ORDERDATE\n",
            "     , CUSTOMERNUMBER\n",
            "     , ORDERNUMBER\n",
            "  FROM ORDERS;\n",
            "\n",
            "    orderDate  customerNumber  orderNumber\n",
            "0  2003-01-06             363        10100\n",
            "1  2003-01-09             128        10101\n",
            "2  2003-01-10             181        10102\n",
            "3  2003-01-29             121        10103\n",
            "4  2003-01-31             141        10104\n",
            "5  2003-02-11             145        10105\n",
            "6  2003-02-17             278        10106\n",
            "7  2003-02-24             131        10107\n",
            "8  2003-03-03             385        10108\n",
            "9  2003-03-10             486        10109\n",
            "./result/5w/2_2_1구매자수구매건수.csv\n"
          ]
        }
      ]
    },
    {
      "cell_type": "markdown",
      "metadata": {
        "id": "8Kb0Cdzi9zcv"
      },
      "source": [
        "*   주문 번호의 경우 중복이 존재하지 않아 DISTINCT를 사용하지 않아도 됨\n",
        "*   정확히는 테이블 컬럼 속성을 보고 PK로 중복을 허용하지 않는지 확인함\n",
        "*   만약 테이블의 구조를 모른다면 아래와 같이 확인해 볼 수 있음"
      ]
    },
    {
      "cell_type": "code",
      "metadata": {
        "id": "aDmQzwjtRLkw",
        "colab": {
          "base_uri": "https://localhost:8080/"
        },
        "outputId": "0f167b23-dedc-45cd-fe67-28880c9ffb1e"
      },
      "source": [
        "# PK는 Primary Key. 테이블에서 유일한 값.\n",
        "# 이 과정을 통해 ORDERNUMBER에는 중복되는 값이 없음을 확인할 수 있음.\n",
        "sql = f\"\"\"\n",
        "SELECT COUNT(ORDERNUMBER) AS N_ORDERS\n",
        "     , COUNT(DISTINCT ORDERNUMBER) AS N_ORDERS_DISTINCT\n",
        "  FROM ORDERS;\n",
        "\"\"\"\n",
        "sql_result(sql,'2_2_2구매자수구매건수')"
      ],
      "execution_count": 28,
      "outputs": [
        {
          "output_type": "stream",
          "name": "stdout",
          "text": [
            "\n",
            "SELECT COUNT(ORDERNUMBER) AS N_ORDERS\n",
            "     , COUNT(DISTINCT ORDERNUMBER) AS N_ORDERS_DISTINCT\n",
            "  FROM ORDERS;\n",
            "\n",
            "   N_ORDERS  N_ORDERS_DISTINCT\n",
            "0       326                326\n",
            "./result/5w/2_2_2구매자수구매건수.csv\n"
          ]
        }
      ]
    },
    {
      "cell_type": "markdown",
      "metadata": {
        "id": "-37kZrBg-Bdm"
      },
      "source": [
        "*   일별 구매자 수는 UNIQUE 고객수 COUNT와 주문번호 COUNT로 조회함"
      ]
    },
    {
      "cell_type": "code",
      "metadata": {
        "id": "2U0iauQtRLQM",
        "colab": {
          "base_uri": "https://localhost:8080/"
        },
        "outputId": "73400954-b2cc-451a-a24e-c20deefd76f4"
      },
      "source": [
        "# 구매자 번호는 중복되는 값 나올 수 있기 때문에 distinct 사용\n",
        "\n",
        "sql = f\"\"\"\n",
        "SELECT ORDERDATE\n",
        "     , COUNT(DISTINCT CUSTOMERNUMBER) AS N_PURCHASER\n",
        "     , COUNT(ORDERNUMBER) AS N_ORDERS\n",
        "  FROM ORDERS\n",
        " GROUP BY 1\n",
        " ORDER BY 1;\n",
        "\"\"\"\n",
        "sql_result(sql,'2_2_3구매자수구매건수')"
      ],
      "execution_count": 29,
      "outputs": [
        {
          "output_type": "stream",
          "name": "stdout",
          "text": [
            "\n",
            "SELECT ORDERDATE\n",
            "     , COUNT(DISTINCT CUSTOMERNUMBER) AS N_PURCHASER\n",
            "     , COUNT(ORDERNUMBER) AS N_ORDERS\n",
            "  FROM ORDERS\n",
            " GROUP BY 1\n",
            " ORDER BY 1;\n",
            "\n",
            "    orderDate  N_PURCHASER  N_ORDERS\n",
            "0  2003-01-06            1         1\n",
            "1  2003-01-09            1         1\n",
            "2  2003-01-10            1         1\n",
            "3  2003-01-29            1         1\n",
            "4  2003-01-31            1         1\n",
            "5  2003-02-11            1         1\n",
            "6  2003-02-17            1         1\n",
            "7  2003-02-24            1         1\n",
            "8  2003-03-03            1         1\n",
            "9  2003-03-10            1         1\n",
            "./result/5w/2_2_3구매자수구매건수.csv\n"
          ]
        }
      ]
    },
    {
      "cell_type": "markdown",
      "metadata": {
        "id": "tgDYVJhAvwTT"
      },
      "source": [
        "**QUIZ? 월별 구매자수 산출, 연도별 구매자수 산출**"
      ]
    },
    {
      "cell_type": "code",
      "metadata": {
        "colab": {
          "base_uri": "https://localhost:8080/"
        },
        "id": "hMywMu0TAuak",
        "outputId": "454b5174-502e-4a8a-949d-18415201b4ed"
      },
      "source": [
        "sql = f\"\"\"\n",
        "    SELECT SUBSTR(ORDERDATE, 1, 7) AS MONTH,\n",
        "    COUNT(DISTINCT CUSTOMERNUMBER) AS N_CUST\n",
        "    FROM ORDERS\n",
        "    GROUP BY 1\n",
        "    ORDER BY 1;\n",
        "\"\"\"\n",
        "sql_result(sql,'2_2_4월별구매자수')"
      ],
      "execution_count": 30,
      "outputs": [
        {
          "output_type": "stream",
          "name": "stdout",
          "text": [
            "\n",
            "    SELECT SUBSTR(ORDERDATE, 1, 7) AS MONTH,\n",
            "    COUNT(DISTINCT CUSTOMERNUMBER) AS N_CUST\n",
            "    FROM ORDERS\n",
            "    GROUP BY 1\n",
            "    ORDER BY 1;\n",
            "\n",
            "     MONTH  N_CUST\n",
            "0  2003-01       5\n",
            "1  2003-02       3\n",
            "2  2003-03       6\n",
            "3  2003-04       7\n",
            "4  2003-05       6\n",
            "5  2003-06       6\n",
            "6  2003-07       7\n",
            "7  2003-08       5\n",
            "8  2003-09       8\n",
            "9  2003-10      17\n",
            "./result/5w/2_2_4월별구매자수.csv\n"
          ]
        }
      ]
    },
    {
      "cell_type": "code",
      "metadata": {
        "colab": {
          "base_uri": "https://localhost:8080/"
        },
        "id": "raLmJlX4BmWp",
        "outputId": "09318766-b612-4499-d080-b556eb01a6e1"
      },
      "source": [
        "sql = f\"\"\"\n",
        "    SELECT SUBSTR(ORDERDATE, 1, 4) AS YEAR,\n",
        "    COUNT(DISTINCT CUSTOMERNUMBER) AS N_CUST\n",
        "    FROM ORDERS\n",
        "    GROUP BY 1\n",
        "    ORDER BY 1;\n",
        "\"\"\"\n",
        "sql_result(sql,'2_2_4연도별구매건수')"
      ],
      "execution_count": 31,
      "outputs": [
        {
          "output_type": "stream",
          "name": "stdout",
          "text": [
            "\n",
            "    SELECT SUBSTR(ORDERDATE, 1, 4) AS YEAR,\n",
            "    COUNT(DISTINCT CUSTOMERNUMBER) AS N_CUST\n",
            "    FROM ORDERS\n",
            "    GROUP BY 1\n",
            "    ORDER BY 1;\n",
            "\n",
            "   YEAR  N_CUST\n",
            "0  2003      74\n",
            "1  2004      89\n",
            "2  2005      44\n",
            "./result/5w/2_2_4연도별구매건수.csv\n"
          ]
        }
      ]
    },
    {
      "cell_type": "markdown",
      "metadata": {
        "id": "1duQvoeuObzf"
      },
      "source": [
        "## 3) 인당 매출액(연도별)"
      ]
    },
    {
      "cell_type": "markdown",
      "metadata": {
        "id": "JbZdKJnd-554"
      },
      "source": [
        "*   고객의 인당 매출액은 고객의 Loyalty를 측정하는 요인으로 사용될 수 있음\n",
        "*   기간 별로 평균 인당 고객 매출액을 비교하면, 고객 1명이 우리의 서비스에 얼마를 지불하는 지 그 변화를 파악할 수 있음"
      ]
    },
    {
      "cell_type": "markdown",
      "metadata": {
        "id": "dShm2Yg8vcCg"
      },
      "source": [
        "일자별 매출액과 구매자 수를 응용한 연도별 인당 매출액 산출\n",
        "*   STEP1 : 먼저 연도별 매출액과 구매자 수를 산출함"
      ]
    },
    {
      "cell_type": "code",
      "metadata": {
        "id": "sS28X_bTRHRe",
        "colab": {
          "base_uri": "https://localhost:8080/"
        },
        "outputId": "2f17bfa9-19b0-41f4-d7d7-d75737625f3b"
      },
      "source": [
        "sql = f\"\"\"\n",
        "SELECT SUBSTR(A.ORDERDATE,1,4) AS YEAR\n",
        "     , COUNT(DISTINCT A.CUSTOMERNUMBER) AS N_PURCHASER\n",
        "     , SUM(PRICEEACH*QUANTITYORDERED) AS SALES\n",
        "  FROM ORDERS A\n",
        "  LEFT JOIN ORDERDETAILS B \n",
        "    ON A.ORDERNUMBER = B.ORDERNUMBER\n",
        " GROUP BY 1\n",
        " ORDER BY 1;\n",
        "\"\"\"\n",
        "sql_result(sql,'2_3_1인당매출액(연도별)')"
      ],
      "execution_count": 32,
      "outputs": [
        {
          "output_type": "stream",
          "name": "stdout",
          "text": [
            "\n",
            "SELECT SUBSTR(A.ORDERDATE,1,4) AS YEAR\n",
            "     , COUNT(DISTINCT A.CUSTOMERNUMBER) AS N_PURCHASER\n",
            "     , SUM(PRICEEACH*QUANTITYORDERED) AS SALES\n",
            "  FROM ORDERS A\n",
            "  LEFT JOIN ORDERDETAILS B \n",
            "    ON A.ORDERNUMBER = B.ORDERNUMBER\n",
            " GROUP BY 1\n",
            " ORDER BY 1;\n",
            "\n",
            "   YEAR  N_PURCHASER       SALES\n",
            "0  2003           74  3317348.39\n",
            "1  2004           89  4515905.51\n",
            "2  2005           44  1770936.71\n",
            "./result/5w/2_3_1인당매출액(연도별).csv\n"
          ]
        }
      ]
    },
    {
      "cell_type": "markdown",
      "metadata": {
        "id": "XbSSk7v_I3Yt"
      },
      "source": [
        "*   STEP2 : 매출액을 구매자 수로 나누기\n",
        "*   SELECT 구문에 SUM(PRICEEACH*QUANTITYORDERED)/ COUNT(DISTINCT A.CUSTOMERNUMBER) 추가함"
      ]
    },
    {
      "cell_type": "code",
      "metadata": {
        "id": "KPFtCDAKRIG6",
        "colab": {
          "base_uri": "https://localhost:8080/"
        },
        "outputId": "d6f3f06c-d872-4d57-a726-ca643322acde"
      },
      "source": [
        "sql = f\"\"\"\n",
        "SELECT SUBSTR(A.ORDERDATE,1,4) AS YEAR\n",
        "     , COUNT(DISTINCT A.CUSTOMERNUMBER) AS N_PURCHASER\n",
        "     , SUM(PRICEEACH*QUANTITYORDERED) AS SALES\n",
        "     -- 매출액을 구매자 수로 나누기 추가\n",
        "     , SUM(PRICEEACH*QUANTITYORDERED)/ COUNT(DISTINCT A.CUSTOMERNUMBER) AS AMV\n",
        "  FROM ORDERS A\n",
        "  LEFT JOIN ORDERDETAILS B\n",
        "    ON A.ORDERNUMBER = B.ORDERNUMBER\n",
        " GROUP BY 1\n",
        " ORDER BY 1;\n",
        "\"\"\"\n",
        "sql_result(sql,'2_3_2인당매출액(연도별)')"
      ],
      "execution_count": 33,
      "outputs": [
        {
          "output_type": "stream",
          "name": "stdout",
          "text": [
            "\n",
            "SELECT SUBSTR(A.ORDERDATE,1,4) AS YEAR\n",
            "     , COUNT(DISTINCT A.CUSTOMERNUMBER) AS N_PURCHASER\n",
            "     , SUM(PRICEEACH*QUANTITYORDERED) AS SALES\n",
            "     -- 매출액을 구매자 수로 나누기 추가\n",
            "     , SUM(PRICEEACH*QUANTITYORDERED)/ COUNT(DISTINCT A.CUSTOMERNUMBER) AS AMV\n",
            "  FROM ORDERS A\n",
            "  LEFT JOIN ORDERDETAILS B\n",
            "    ON A.ORDERNUMBER = B.ORDERNUMBER\n",
            " GROUP BY 1\n",
            " ORDER BY 1;\n",
            "\n",
            "   YEAR  N_PURCHASER       SALES           AMV\n",
            "0  2003           74  3317348.39  44829.032297\n",
            "1  2004           89  4515905.51  50740.511348\n",
            "2  2005           44  1770936.71  40248.561591\n",
            "./result/5w/2_3_2인당매출액(연도별).csv\n"
          ]
        }
      ]
    },
    {
      "cell_type": "markdown",
      "metadata": {
        "id": "vZVE89XOObwt"
      },
      "source": [
        "## 4) 건당 구매 금액(ATV)(연도별)"
      ]
    },
    {
      "cell_type": "markdown",
      "metadata": {
        "id": "9ufnNwrrJHd6"
      },
      "source": [
        "*   ATV(Average Transaction Value) : 1건의 거래가 평균적으로 발생시키는 매출\n",
        "*   인당 구매 금액 (AMV)을 구하는 방법과 유사함\n",
        "*   매출을 구매자 수가 아닌 구매 건수로 나누면 건당 금액을 산출함"
      ]
    },
    {
      "cell_type": "code",
      "metadata": {
        "id": "PVAL8pzIRE3_",
        "colab": {
          "base_uri": "https://localhost:8080/"
        },
        "outputId": "2e0ec85d-f2f9-4387-d95d-386264b4a897"
      },
      "source": [
        "# 위랑 다른 점은 그냥 어떤 값으로 나눴냐. 이 차이임\n",
        "sql = f\"\"\"\n",
        "SELECT SUBSTR(A.ORDERDATE,1,4) AS YEAR\n",
        "     , COUNT(DISTINCT A.ORDERNUMBER) AS N_ORDERS\n",
        "     , SUM(PRICEEACH*QUANTITYORDERED) AS SALES\n",
        "     -- 매출액을 구매 건수로 나누기 추가\n",
        "     , SUM(PRICEEACH*QUANTITYORDERED)/ COUNT(DISTINCT A.ORDERNUMBER) AS ATV\n",
        "  FROM ORDERS A\n",
        "  LEFT JOIN ORDERDETAILS B ON A.ORDERNUMBER = B.ORDERNUMBER\n",
        " GROUP BY 1\n",
        " ORDER BY 1;\n",
        "\"\"\"\n",
        "sql_result(sql,'2_4_1건당구매금액(ATV)')"
      ],
      "execution_count": 34,
      "outputs": [
        {
          "output_type": "stream",
          "name": "stdout",
          "text": [
            "\n",
            "SELECT SUBSTR(A.ORDERDATE,1,4) AS YEAR\n",
            "     , COUNT(DISTINCT A.ORDERNUMBER) AS N_ORDERS\n",
            "     , SUM(PRICEEACH*QUANTITYORDERED) AS SALES\n",
            "     -- 매출액을 구매 건수로 나누기 추가\n",
            "     , SUM(PRICEEACH*QUANTITYORDERED)/ COUNT(DISTINCT A.ORDERNUMBER) AS ATV\n",
            "  FROM ORDERS A\n",
            "  LEFT JOIN ORDERDETAILS B ON A.ORDERNUMBER = B.ORDERNUMBER\n",
            " GROUP BY 1\n",
            " ORDER BY 1;\n",
            "\n",
            "   YEAR  N_ORDERS       SALES           ATV\n",
            "0  2003       111  3317348.39  29886.021532\n",
            "1  2004       151  4515905.51  29906.659007\n",
            "2  2005        64  1770936.71  27670.886094\n",
            "./result/5w/2_4_1건당구매금액(ATV).csv\n"
          ]
        }
      ]
    },
    {
      "cell_type": "markdown",
      "metadata": {
        "id": "AwewY6zlO5XW"
      },
      "source": [
        "# 3.그룹별 구매 지표 구하기 (사전녹화)"
      ]
    },
    {
      "cell_type": "markdown",
      "metadata": {
        "id": "HIWvKhDPJlVK"
      },
      "source": [
        "*   국가별 도시별로 매출 지표를 계산해 더 상세하게 비즈니스를 이해함"
      ]
    },
    {
      "cell_type": "markdown",
      "metadata": {
        "id": "ttk-BvVXObrn"
      },
      "source": [
        "## 1) 국가별, 도시별 매출액"
      ]
    },
    {
      "cell_type": "markdown",
      "metadata": {
        "id": "igEBrwvOJ0WZ"
      },
      "source": [
        "*   해당 주문 건이 발생한 국가, 도시를 파악하기 위해서 CUSTOMERS 테이블의 COUNTRY를 이용함\n",
        "*   ORDERS, CUSTOMERS, ORDERDETAILS를 모두 사용해야 국가별, 도시별 매출액 산출 가능함"
      ]
    },
    {
      "cell_type": "markdown",
      "metadata": {
        "id": "Od47tTwbKcAH"
      },
      "source": [
        "*   STEP1 : ORDERS, CUSTOMERS, ORDERDETAILS 3가지 테이블을 결합함\n",
        "*   각 테이블을 연결하는 필드는 ORDERNUMBER, CUSTOMERNUMBER"
      ]
    },
    {
      "cell_type": "code",
      "metadata": {
        "id": "jJRBw6mHQ6za",
        "colab": {
          "base_uri": "https://localhost:8080/"
        },
        "outputId": "1d9098b9-164a-4997-b24c-1ac89b196ce0"
      },
      "source": [
        "# A는 ORDERS, B는 CUSTOMERS, C는 ORDERDETAILS의 테이블임.\n",
        "sql = f\"\"\"\n",
        "SELECT *\n",
        "  FROM ORDERS A\n",
        "  LEFT JOIN ORDERDETAILS B \n",
        "    ON A.ORDERNUMBER = B.ORDERNUMBER\n",
        "  LEFT JOIN CUSTOMERS C\n",
        "    ON A.CUSTOMERNUMBER = C.CUSTOMERNUMBER;\n",
        "\"\"\"\n",
        "sql_result(sql,'3_1_1국가별도시별매출액')"
      ],
      "execution_count": 35,
      "outputs": [
        {
          "output_type": "stream",
          "name": "stdout",
          "text": [
            "\n",
            "SELECT *\n",
            "  FROM ORDERS A\n",
            "  LEFT JOIN ORDERDETAILS B \n",
            "    ON A.ORDERNUMBER = B.ORDERNUMBER\n",
            "  LEFT JOIN CUSTOMERS C\n",
            "    ON A.CUSTOMERNUMBER = C.CUSTOMERNUMBER;\n",
            "\n",
            "   orderNumber   orderDate  ... salesRepEmployeeNumber creditLimit\n",
            "0        10100  2003-01-06  ...                   1216      114200\n",
            "1        10100  2003-01-06  ...                   1216      114200\n",
            "2        10100  2003-01-06  ...                   1216      114200\n",
            "3        10100  2003-01-06  ...                   1216      114200\n",
            "4        10101  2003-01-09  ...                   1504       59700\n",
            "5        10101  2003-01-09  ...                   1504       59700\n",
            "6        10101  2003-01-09  ...                   1504       59700\n",
            "7        10101  2003-01-09  ...                   1504       59700\n",
            "8        10102  2003-01-10  ...                   1286       76400\n",
            "9        10102  2003-01-10  ...                   1286       76400\n",
            "\n",
            "[10 rows x 25 columns]\n",
            "./result/5w/3_1_1국가별도시별매출액.csv\n"
          ]
        }
      ]
    },
    {
      "cell_type": "markdown",
      "metadata": {
        "id": "e6XOHFj4Kj4R"
      },
      "source": [
        "*   STEP2 : 3개의 테이블을 조합한 뒤 COUNTRY, CITY, PRICEEACH*QUANTITYORDERED을 조회함"
      ]
    },
    {
      "cell_type": "code",
      "metadata": {
        "id": "jw8DmHEDQ9ly",
        "colab": {
          "base_uri": "https://localhost:8080/"
        },
        "outputId": "4bf6c163-35b2-4494-d8e8-1fe5f9969a08"
      },
      "source": [
        "sql = f\"\"\"\n",
        "SELECT COUNTRY\n",
        "     , CITY\n",
        "     , PRICEEACH*QUANTITYORDERED\n",
        "  FROM ORDERS A\n",
        "  LEFT JOIN ORDERDETAILS B\n",
        "    ON A.ORDERNUMBER = B.ORDERNUMBER\n",
        "  LEFT JOIN CUSTOMERS C\n",
        "    ON A.CUSTOMERNUMBER = C.CUSTOMERNUMBER;\n",
        "\"\"\"\n",
        "sql_result(sql,'3_1_2국가별도시별매출액')"
      ],
      "execution_count": 36,
      "outputs": [
        {
          "output_type": "stream",
          "name": "stdout",
          "text": [
            "\n",
            "SELECT COUNTRY\n",
            "     , CITY\n",
            "     , PRICEEACH*QUANTITYORDERED\n",
            "  FROM ORDERS A\n",
            "  LEFT JOIN ORDERDETAILS B\n",
            "    ON A.ORDERNUMBER = B.ORDERNUMBER\n",
            "  LEFT JOIN CUSTOMERS C\n",
            "    ON A.CUSTOMERNUMBER = C.CUSTOMERNUMBER;\n",
            "\n",
            "   country       city  PRICEEACH*QUANTITYORDERED\n",
            "0      USA     Nashua                    4080.00\n",
            "1      USA     Nashua                    2754.50\n",
            "2      USA     Nashua                    1660.12\n",
            "3      USA     Nashua                    1729.21\n",
            "4  Germany  Frankfurt                    2701.50\n",
            "5  Germany  Frankfurt                    4343.56\n",
            "6  Germany  Frankfurt                    1463.85\n",
            "7  Germany  Frankfurt                    2040.10\n",
            "8      USA        NYC                    3726.45\n",
            "9      USA        NYC                    1768.33\n",
            "./result/5w/3_1_2국가별도시별매출액.csv\n"
          ]
        }
      ]
    },
    {
      "cell_type": "markdown",
      "metadata": {
        "id": "do09EfPRLDW2"
      },
      "source": [
        "*   STEP3-1 : CUSTOMERS 테이블에서 국가(COUNTRY), 도시(CITY)를 불러오고, 2가지 칼럼으로 그룹핑함\n",
        "*   STEP3-2 : 이후 ORDERDETAILS 테이블의 PRICEEACH*QUANTITYORDERED를 합해 국가별, 도시별 매출액을 산출함"
      ]
    },
    {
      "cell_type": "code",
      "metadata": {
        "id": "BOjM8N9GQ9d4",
        "colab": {
          "base_uri": "https://localhost:8080/"
        },
        "outputId": "c85cbb40-434a-4b67-b2bb-43ed77f6d405"
      },
      "source": [
        "# 여기서 두 가지 칼럼으로 그룹핑해서 GROUP BY 1, 2인가봐\n",
        "sql = f\"\"\"\n",
        "SELECT C.COUNTRY\n",
        "     , C.CITY\n",
        "     , SUM(PRICEEACH*QUANTITYORDERED) SALES\n",
        "  FROM ORDERS A\n",
        "  LEFT JOIN ORDERDETAILS B\n",
        "    ON A.ORDERNUMBER = B.ORDERNUMBER\n",
        "  LEFT JOIN CUSTOMERS C\n",
        "    ON A.CUSTOMERNUMBER = C.CUSTOMERNUMBER\n",
        " GROUP BY 1,2;\n",
        "\"\"\"\n",
        "sql_result(sql,'3_1_3국가별도시별매출액')"
      ],
      "execution_count": 37,
      "outputs": [
        {
          "output_type": "stream",
          "name": "stdout",
          "text": [
            "\n",
            "SELECT C.COUNTRY\n",
            "     , C.CITY\n",
            "     , SUM(PRICEEACH*QUANTITYORDERED) SALES\n",
            "  FROM ORDERS A\n",
            "  LEFT JOIN ORDERDETAILS B\n",
            "    ON A.ORDERNUMBER = B.ORDERNUMBER\n",
            "  LEFT JOIN CUSTOMERS C\n",
            "    ON A.CUSTOMERNUMBER = C.CUSTOMERNUMBER\n",
            " GROUP BY 1,2;\n",
            "\n",
            "     country            city      SALES\n",
            "0  Australia       Chatswood  133907.12\n",
            "1  Australia    Glen Waverly   55866.02\n",
            "2  Australia       Melbourne  180585.07\n",
            "3  Australia    North Sydney  137034.22\n",
            "4  Australia  South Brisbane   55190.16\n",
            "5    Austria            Graz   51059.99\n",
            "6    Austria        Salzburg  137480.07\n",
            "7    Belgium       Bruxelles   70851.58\n",
            "8    Belgium       Charleroi   29217.18\n",
            "9     Canada        Montréal   68977.67\n",
            "./result/5w/3_1_3국가별도시별매출액.csv\n"
          ]
        }
      ]
    },
    {
      "cell_type": "markdown",
      "metadata": {
        "id": "n593ZowILR5c"
      },
      "source": [
        "*   STEP4: COUNTRY, CITY로 데이터를 정렬하면 데이터를 가독성 있게 구조화할 수 있음"
      ]
    },
    {
      "cell_type": "code",
      "metadata": {
        "id": "AlkVCDJgQ9Uv",
        "colab": {
          "base_uri": "https://localhost:8080/"
        },
        "outputId": "ef021c12-be2c-4ca0-92e1-f32ec2dab6d3"
      },
      "source": [
        "# ORDER BY 1, 2는 1열과 2열로 데이터 정렬해라.\n",
        "sql = f\"\"\"\n",
        "SELECT C.COUNTRY\n",
        "     , C.CITY\n",
        "     , SUM(PRICEEACH*QUANTITYORDERED) AS SALES\n",
        "  FROM ORDERS A\n",
        "\n",
        "  LEFT JOIN ORDERDETAILS B\n",
        "    ON A.ORDERNUMBER = B.ORDERNUMBER\n",
        "\n",
        "  LEFT JOIN CUSTOMERS C\n",
        "    ON A.CUSTOMERNUMBER = C.CUSTOMERNUMBER\n",
        "    \n",
        " GROUP BY 1,2\n",
        " ORDER BY 1,2;\n",
        "\"\"\"\n",
        "sql_result(sql,'3_1_3국가별도시별매출액')"
      ],
      "execution_count": 38,
      "outputs": [
        {
          "output_type": "stream",
          "name": "stdout",
          "text": [
            "\n",
            "SELECT C.COUNTRY\n",
            "     , C.CITY\n",
            "     , SUM(PRICEEACH*QUANTITYORDERED) AS SALES\n",
            "  FROM ORDERS A\n",
            "\n",
            "  LEFT JOIN ORDERDETAILS B\n",
            "    ON A.ORDERNUMBER = B.ORDERNUMBER\n",
            "\n",
            "  LEFT JOIN CUSTOMERS C\n",
            "    ON A.CUSTOMERNUMBER = C.CUSTOMERNUMBER\n",
            "    \n",
            " GROUP BY 1,2\n",
            " ORDER BY 1,2;\n",
            "\n",
            "     country            city      SALES\n",
            "0  Australia       Chatswood  133907.12\n",
            "1  Australia    Glen Waverly   55866.02\n",
            "2  Australia       Melbourne  180585.07\n",
            "3  Australia    North Sydney  137034.22\n",
            "4  Australia  South Brisbane   55190.16\n",
            "5    Austria            Graz   51059.99\n",
            "6    Austria        Salzburg  137480.07\n",
            "7    Belgium       Bruxelles   70851.58\n",
            "8    Belgium       Charleroi   29217.18\n",
            "9     Canada        Montréal   68977.67\n",
            "./result/5w/3_1_3국가별도시별매출액.csv\n"
          ]
        }
      ]
    },
    {
      "cell_type": "markdown",
      "metadata": {
        "id": "umAq-9JnObo7"
      },
      "source": [
        "## 2) 북미(USA, Canada) VS 비북미 매출액 비교"
      ]
    },
    {
      "cell_type": "markdown",
      "metadata": {
        "id": "j2nO8wPtMEnq"
      },
      "source": [
        "도시가 아닌 북미와 비북미 지역 2가지로 구분해 매출을 조회함"
      ]
    },
    {
      "cell_type": "markdown",
      "metadata": {
        "id": "KyhoP9WvMId8"
      },
      "source": [
        "**CASE WHEN 구문**\n",
        "*   CASE WHEN은 조건에 따라 원하는 결과를 출력하는 구문\n",
        "*   CASE WHEN을 이용해 북미와 비북미 지역으로 구분할 수 있음"
      ]
    },
    {
      "cell_type": "markdown",
      "metadata": {
        "id": "04f0Q_LPNX8q"
      },
      "source": [
        "**CASE WHEN 조건 THEN 결과 END**\n",
        "*   북미(USA, Canada)와 비북미를 구분하는 CASE WHEN 구문"
      ]
    },
    {
      "cell_type": "code",
      "metadata": {
        "id": "we13QgPiQ3FA",
        "colab": {
          "base_uri": "https://localhost:8080/"
        },
        "outputId": "23aeefae-8b98-4d3b-edc4-03ad7ff721c8"
      },
      "source": [
        "#case when 구문\n",
        "# END는 조건문이 끝났다는 뜻.\n",
        "sql = f\"\"\"\n",
        "SELECT CASE WHEN COUNTRY IN ('USA','Canada') THEN 'North America'\n",
        "            ELSE 'Others'\n",
        "        END AS COUNTRY_GRP\n",
        "  FROM CUSTOMERS;\n",
        "\"\"\"\n",
        "sql_result(sql,'3_2_1북미비북미매출액비교')"
      ],
      "execution_count": 39,
      "outputs": [
        {
          "output_type": "stream",
          "name": "stdout",
          "text": [
            "\n",
            "SELECT CASE WHEN COUNTRY IN ('USA','Canada') THEN 'North America'\n",
            "            ELSE 'Others'\n",
            "        END AS COUNTRY_GRP\n",
            "  FROM CUSTOMERS;\n",
            "\n",
            "     COUNTRY_GRP\n",
            "0         Others\n",
            "1  North America\n",
            "2         Others\n",
            "3         Others\n",
            "4         Others\n",
            "5  North America\n",
            "6         Others\n",
            "7         Others\n",
            "8  North America\n",
            "9  North America\n",
            "./result/5w/3_2_1북미비북미매출액비교.csv\n"
          ]
        }
      ]
    },
    {
      "cell_type": "markdown",
      "metadata": {
        "id": "P_jwhDPPOBJt"
      },
      "source": [
        "**국가별 도시별 매출액**\n",
        "*   국가별 도시별 매출액을 구하는 쿼리에 case when 구문을 응용하면 북미, 비북미 매출액을 구할 수 있음"
      ]
    },
    {
      "cell_type": "code",
      "metadata": {
        "id": "eBO1t8kfQ29m",
        "colab": {
          "base_uri": "https://localhost:8080/"
        },
        "outputId": "5ce2c03d-d73f-4190-ffee-0cd1f964bd58"
      },
      "source": [
        "# 기존 국가별 도시별 매출액\n",
        "sql = f\"\"\"\n",
        "SELECT C.COUNTRY  --국가별\n",
        "     , C.CITY  --도시별\n",
        "     , SUM(PRICEEACH*QUANTITYORDERED) AS SALES\n",
        "  FROM ORDERS A\n",
        "  LEFT JOIN ORDERDETAILS B\n",
        "    ON A.ORDERNUMBER = B.ORDERNUMBER\n",
        "  LEFT JOIN CUSTOMERS C\n",
        "    ON A.CUSTOMERNUMBER = C.CUSTOMERNUMBER\n",
        " GROUP BY 1,2\n",
        " ORDER BY 3 DESC\n",
        ";\n",
        "\"\"\"\n",
        "sql_result(sql,'3_2_2북미비북미매출액비교')"
      ],
      "execution_count": 40,
      "outputs": [
        {
          "output_type": "stream",
          "name": "stdout",
          "text": [
            "\n",
            "SELECT C.COUNTRY  --국가별\n",
            "     , C.CITY  --도시별\n",
            "     , SUM(PRICEEACH*QUANTITYORDERED) AS SALES\n",
            "  FROM ORDERS A\n",
            "  LEFT JOIN ORDERDETAILS B\n",
            "    ON A.ORDERNUMBER = B.ORDERNUMBER\n",
            "  LEFT JOIN CUSTOMERS C\n",
            "    ON A.CUSTOMERNUMBER = C.CUSTOMERNUMBER\n",
            " GROUP BY 1,2\n",
            " ORDER BY 3 DESC\n",
            ";\n",
            "\n",
            "       country           city      SALES\n",
            "0        Spain         Madrid  979880.77\n",
            "1          USA     San Rafael  591827.34\n",
            "2          USA            NYC  497941.50\n",
            "3  New Zealand     Auckland    292082.87\n",
            "4    Singapore      Singapore  263997.78\n",
            "5       France          Paris  240649.68\n",
            "6          USA  San Francisco  199051.34\n",
            "7          USA    New Bedford  190500.01\n",
            "8       France         Nantes  180887.48\n",
            "9    Australia      Melbourne  180585.07\n",
            "./result/5w/3_2_2북미비북미매출액비교.csv\n"
          ]
        }
      ]
    },
    {
      "cell_type": "markdown",
      "metadata": {
        "id": "gNyy-mvuOdUo"
      },
      "source": [
        "*   위 쿼리에서 COUNTRY와 CITY를 CASE WHEN 구문으로 변경하면 북미, 비북미의 매출을 구분해 조회할 수 있음"
      ]
    },
    {
      "cell_type": "markdown",
      "metadata": {
        "id": "0dyB5RM9Oyr9"
      },
      "source": [
        "**북미, 비북미 매출액**"
      ]
    },
    {
      "cell_type": "code",
      "metadata": {
        "id": "TLeE33GIQ2y5",
        "colab": {
          "base_uri": "https://localhost:8080/"
        },
        "outputId": "12de3481-8393-418e-eb8f-68231e3eaa6c"
      },
      "source": [
        "# 북미, 비북미 매출액\n",
        "# 여기서는 C.COUNTRY 말고 그냥 COUNTRY를 사용했음\n",
        "sql = f\"\"\"\n",
        "SELECT CASE WHEN COUNTRY IN ('USA','Canada') THEN 'North America'\n",
        "            ELSE 'Others'\n",
        "        END COUNTRY_GRP -- 북미, 비북미\n",
        "     , SUM(PRICEEACH*QUANTITYORDERED) AS SALES\n",
        "  FROM ORDERS A\n",
        "  LEFT JOIN ORDERDETAILS B\n",
        "    ON A.ORDERNUMBER = B.ORDERNUMBER\n",
        "  LEFT JOIN CUSTOMERS C\n",
        "    ON A.CUSTOMERNUMBER = C.CUSTOMERNUMBER\n",
        " GROUP BY 1\n",
        " ORDER BY 2 DESC\n",
        ";\n",
        "\"\"\"\n",
        "sql_result(sql,'3_2_3북미비북미매출액비교')"
      ],
      "execution_count": 41,
      "outputs": [
        {
          "output_type": "stream",
          "name": "stdout",
          "text": [
            "\n",
            "SELECT CASE WHEN COUNTRY IN ('USA','Canada') THEN 'North America'\n",
            "            ELSE 'Others'\n",
            "        END COUNTRY_GRP -- 북미, 비북미\n",
            "     , SUM(PRICEEACH*QUANTITYORDERED) AS SALES\n",
            "  FROM ORDERS A\n",
            "  LEFT JOIN ORDERDETAILS B\n",
            "    ON A.ORDERNUMBER = B.ORDERNUMBER\n",
            "  LEFT JOIN CUSTOMERS C\n",
            "    ON A.CUSTOMERNUMBER = C.CUSTOMERNUMBER\n",
            " GROUP BY 1\n",
            " ORDER BY 2 DESC\n",
            ";\n",
            "\n",
            "     COUNTRY_GRP       SALES\n",
            "0         Others  6124998.70\n",
            "1  North America  3479191.91\n",
            "./result/5w/3_2_3북미비북미매출액비교.csv\n"
          ]
        }
      ]
    },
    {
      "cell_type": "markdown",
      "metadata": {
        "id": "jbhytgWlPH8r"
      },
      "source": [
        "## 3) 매출 Top5 국가 및 매출"
      ]
    },
    {
      "cell_type": "markdown",
      "metadata": {
        "id": "_zw9xGYoPS5-"
      },
      "source": [
        "*   그룹별로 집계한 데이터를 이용해 매출 상위 국가를 출력함"
      ]
    },
    {
      "cell_type": "markdown",
      "metadata": {
        "id": "K8qFLHZdQ2tC"
      },
      "source": [
        "* STEP : 국가별 매출을 모두 출력한 후 매출이 높은 순위부터 등수를 매겨 상위 5개의 국가만 출력함\n",
        "*   데이터의 값에 따라 등수를 매기는 함수 **row_number, rank**"
      ]
    },
    {
      "cell_type": "markdown",
      "metadata": {
        "id": "VhxiK246RPeq"
      },
      "source": [
        "[테이블 생성 방식]\n",
        "*   국가별 매출액을 다른 이름의 테이블로 생성한 후, 매출에 따라 RANK를 매기면 우리가 원하는 Top5 국가를 산출할 수 있음"
      ]
    },
    {
      "cell_type": "code",
      "metadata": {
        "id": "3U5FKtxGQr8y",
        "colab": {
          "base_uri": "https://localhost:8080/"
        },
        "outputId": "d1f54394-76a0-402d-9bbc-0a24e25f0b44"
      },
      "source": [
        "#만약 STAT테이블이 존재하는 경우 삭제\n",
        "sql = f\"\"\"\n",
        "DROP TABLE IF EXISTS STAT;\n",
        "\"\"\"\n",
        "conn.execute(sql)"
      ],
      "execution_count": 42,
      "outputs": [
        {
          "output_type": "execute_result",
          "data": {
            "text/plain": [
              "<sqlite3.Cursor at 0x7fe95ad28f80>"
            ]
          },
          "metadata": {},
          "execution_count": 42
        }
      ]
    },
    {
      "cell_type": "code",
      "metadata": {
        "id": "jFg6Q1Uvxk18",
        "colab": {
          "base_uri": "https://localhost:8080/",
          "height": 295
        },
        "outputId": "3669f4e6-8254-46e0-db5c-9f43376b323c"
      },
      "source": [
        "#테이블 리스트 조회\n",
        "sql = f\"\"\"\n",
        "SELECT name\n",
        "  FROM sqlite_master\n",
        " WHERE type='table';\n",
        "\"\"\"\n",
        "df = pd.read_sql(sql, conn, index_col=None)\n",
        "df.head(100)"
      ],
      "execution_count": 43,
      "outputs": [
        {
          "output_type": "execute_result",
          "data": {
            "text/html": [
              "<div>\n",
              "<style scoped>\n",
              "    .dataframe tbody tr th:only-of-type {\n",
              "        vertical-align: middle;\n",
              "    }\n",
              "\n",
              "    .dataframe tbody tr th {\n",
              "        vertical-align: top;\n",
              "    }\n",
              "\n",
              "    .dataframe thead th {\n",
              "        text-align: right;\n",
              "    }\n",
              "</style>\n",
              "<table border=\"1\" class=\"dataframe\">\n",
              "  <thead>\n",
              "    <tr style=\"text-align: right;\">\n",
              "      <th></th>\n",
              "      <th>name</th>\n",
              "    </tr>\n",
              "  </thead>\n",
              "  <tbody>\n",
              "    <tr>\n",
              "      <th>0</th>\n",
              "      <td>customers</td>\n",
              "    </tr>\n",
              "    <tr>\n",
              "      <th>1</th>\n",
              "      <td>employees</td>\n",
              "    </tr>\n",
              "    <tr>\n",
              "      <th>2</th>\n",
              "      <td>offices</td>\n",
              "    </tr>\n",
              "    <tr>\n",
              "      <th>3</th>\n",
              "      <td>orderdetails</td>\n",
              "    </tr>\n",
              "    <tr>\n",
              "      <th>4</th>\n",
              "      <td>orders</td>\n",
              "    </tr>\n",
              "    <tr>\n",
              "      <th>5</th>\n",
              "      <td>payments</td>\n",
              "    </tr>\n",
              "    <tr>\n",
              "      <th>6</th>\n",
              "      <td>productlines</td>\n",
              "    </tr>\n",
              "    <tr>\n",
              "      <th>7</th>\n",
              "      <td>products</td>\n",
              "    </tr>\n",
              "  </tbody>\n",
              "</table>\n",
              "</div>"
            ],
            "text/plain": [
              "           name\n",
              "0     customers\n",
              "1     employees\n",
              "2       offices\n",
              "3  orderdetails\n",
              "4        orders\n",
              "5      payments\n",
              "6  productlines\n",
              "7      products"
            ]
          },
          "metadata": {},
          "execution_count": 43
        }
      ]
    },
    {
      "cell_type": "markdown",
      "metadata": {
        "id": "Doj9sRhxSHzG"
      },
      "source": [
        "*   STEP1: STAT(국가별 매출액) 테이블 생성"
      ]
    },
    {
      "cell_type": "code",
      "metadata": {
        "id": "uSzjTu-dvcml",
        "colab": {
          "base_uri": "https://localhost:8080/"
        },
        "outputId": "e0722c55-8fe5-467c-b900-e5e70c1e440e"
      },
      "source": [
        "sql = f\"\"\"\n",
        "CREATE TABLE STAT AS\n",
        "SELECT C.COUNTRY\n",
        "     , SUM(PRICEEACH*QUANTITYORDERED) AS SALES\n",
        "  FROM ORDERS A\n",
        "  LEFT JOIN ORDERDETAILS B\n",
        "    ON A.ORDERNUMBER = B.ORDERNUMBER\n",
        "  LEFT JOIN CUSTOMERS C\n",
        "    ON A.CUSTOMERNUMBER = C.CUSTOMERNUMBER\n",
        " GROUP BY 1\n",
        " ORDER BY 2 DESC\n",
        ";\n",
        "\"\"\"\n",
        "conn.execute(sql)"
      ],
      "execution_count": 44,
      "outputs": [
        {
          "output_type": "execute_result",
          "data": {
            "text/plain": [
              "<sqlite3.Cursor at 0x7fe95ad289d0>"
            ]
          },
          "metadata": {},
          "execution_count": 44
        }
      ]
    },
    {
      "cell_type": "markdown",
      "metadata": {
        "id": "yb7vRJPbSQhx"
      },
      "source": [
        "*   테이블 리스트 조회"
      ]
    },
    {
      "cell_type": "code",
      "metadata": {
        "id": "qilmxA6zxM3l",
        "colab": {
          "base_uri": "https://localhost:8080/",
          "height": 326
        },
        "outputId": "68114f95-047b-460e-a2b3-583781ddf8ae"
      },
      "source": [
        "#테이블 리스트 조회\n",
        "sql = f\"\"\"\n",
        "SELECT name\n",
        "  FROM sqlite_master\n",
        " WHERE type='table';\n",
        "\"\"\"\n",
        "df = pd.read_sql(sql, conn, index_col=None)\n",
        "df.head(100)"
      ],
      "execution_count": 45,
      "outputs": [
        {
          "output_type": "execute_result",
          "data": {
            "text/html": [
              "<div>\n",
              "<style scoped>\n",
              "    .dataframe tbody tr th:only-of-type {\n",
              "        vertical-align: middle;\n",
              "    }\n",
              "\n",
              "    .dataframe tbody tr th {\n",
              "        vertical-align: top;\n",
              "    }\n",
              "\n",
              "    .dataframe thead th {\n",
              "        text-align: right;\n",
              "    }\n",
              "</style>\n",
              "<table border=\"1\" class=\"dataframe\">\n",
              "  <thead>\n",
              "    <tr style=\"text-align: right;\">\n",
              "      <th></th>\n",
              "      <th>name</th>\n",
              "    </tr>\n",
              "  </thead>\n",
              "  <tbody>\n",
              "    <tr>\n",
              "      <th>0</th>\n",
              "      <td>customers</td>\n",
              "    </tr>\n",
              "    <tr>\n",
              "      <th>1</th>\n",
              "      <td>employees</td>\n",
              "    </tr>\n",
              "    <tr>\n",
              "      <th>2</th>\n",
              "      <td>offices</td>\n",
              "    </tr>\n",
              "    <tr>\n",
              "      <th>3</th>\n",
              "      <td>orderdetails</td>\n",
              "    </tr>\n",
              "    <tr>\n",
              "      <th>4</th>\n",
              "      <td>orders</td>\n",
              "    </tr>\n",
              "    <tr>\n",
              "      <th>5</th>\n",
              "      <td>payments</td>\n",
              "    </tr>\n",
              "    <tr>\n",
              "      <th>6</th>\n",
              "      <td>productlines</td>\n",
              "    </tr>\n",
              "    <tr>\n",
              "      <th>7</th>\n",
              "      <td>products</td>\n",
              "    </tr>\n",
              "    <tr>\n",
              "      <th>8</th>\n",
              "      <td>STAT</td>\n",
              "    </tr>\n",
              "  </tbody>\n",
              "</table>\n",
              "</div>"
            ],
            "text/plain": [
              "           name\n",
              "0     customers\n",
              "1     employees\n",
              "2       offices\n",
              "3  orderdetails\n",
              "4        orders\n",
              "5      payments\n",
              "6  productlines\n",
              "7      products\n",
              "8          STAT"
            ]
          },
          "metadata": {},
          "execution_count": 45
        }
      ]
    },
    {
      "cell_type": "markdown",
      "metadata": {
        "id": "jRd5Arm5Spxt"
      },
      "source": [
        "*   STAT테이블 조회 결과"
      ]
    },
    {
      "cell_type": "code",
      "metadata": {
        "id": "FHohixBmQr0x",
        "colab": {
          "base_uri": "https://localhost:8080/"
        },
        "outputId": "d3cd1879-68df-4855-a6f3-323f53128476"
      },
      "source": [
        "sql = f\"\"\"\n",
        "SELECT *\n",
        "  FROM STAT;\n",
        "\"\"\"\n",
        "sql_result(sql,'3_3_2매출TOP5국가및매출')"
      ],
      "execution_count": 46,
      "outputs": [
        {
          "output_type": "stream",
          "name": "stdout",
          "text": [
            "\n",
            "SELECT *\n",
            "  FROM STAT;\n",
            "\n",
            "       country       SALES\n",
            "0          USA  3273280.05\n",
            "1        Spain  1099389.09\n",
            "2       France  1007374.02\n",
            "3    Australia   562582.59\n",
            "4  New Zealand   476847.01\n",
            "5           UK   436947.44\n",
            "6        Italy   360616.81\n",
            "7      Finland   295149.35\n",
            "8    Singapore   263997.78\n",
            "9      Denmark   218994.92\n",
            "./result/5w/3_3_2매출TOP5국가및매출.csv\n"
          ]
        }
      ]
    },
    {
      "cell_type": "markdown",
      "metadata": {
        "id": "lguD2S3rS1nI"
      },
      "source": [
        "*   STAT 테이블에서 RANK를 이용해 매출액 등수 부여함"
      ]
    },
    {
      "cell_type": "code",
      "metadata": {
        "colab": {
          "base_uri": "https://localhost:8080/"
        },
        "id": "gs2FtI1KJpz5",
        "outputId": "696364cd-6106-4a45-8aa4-1dec35ef0bc8"
      },
      "source": [
        "!pip install mysql"
      ],
      "execution_count": 47,
      "outputs": [
        {
          "output_type": "stream",
          "name": "stdout",
          "text": [
            "Collecting mysql\n",
            "  Downloading mysql-0.0.3-py3-none-any.whl (1.2 kB)\n",
            "Collecting mysqlclient\n",
            "  Downloading mysqlclient-2.0.3.tar.gz (88 kB)\n",
            "\u001b[K     |████████████████████████████████| 88 kB 3.8 MB/s \n",
            "\u001b[?25hBuilding wheels for collected packages: mysqlclient\n",
            "  Building wheel for mysqlclient (setup.py) ... \u001b[?25l\u001b[?25hdone\n",
            "  Created wheel for mysqlclient: filename=mysqlclient-2.0.3-cp37-cp37m-linux_x86_64.whl size=100151 sha256=354753aa203191bc31992086ad4b59082f4695f29111a6ed2158b52c37e859ea\n",
            "  Stored in directory: /root/.cache/pip/wheels/79/1c/f8/11fafab45fe6696eea63794a5d747b9c6b54990ac6f1885fb7\n",
            "Successfully built mysqlclient\n",
            "Installing collected packages: mysqlclient, mysql\n",
            "Successfully installed mysql-0.0.3 mysqlclient-2.0.3\n"
          ]
        }
      ]
    },
    {
      "cell_type": "code",
      "metadata": {
        "colab": {
          "base_uri": "https://localhost:8080/",
          "height": 633
        },
        "id": "XJmADeR6ItFQ",
        "outputId": "8687155b-8b96-4c66-a50a-6027cb59a4d6"
      },
      "source": [
        "sql = f\"\"\"\n",
        "SELECT COUNTRY\n",
        "    , SALES\n",
        "    , RANK() OVER (ORDER BY SALES DESC) AS RNK\n",
        "    FROM STAT;\n",
        "\"\"\"\n",
        "sql_result(sql, '3_3_3매출TOP5국가및매출')"
      ],
      "execution_count": 48,
      "outputs": [
        {
          "output_type": "stream",
          "name": "stdout",
          "text": [
            "\n",
            "SELECT COUNTRY\n",
            "    , SALES\n",
            "    , RANK() OVER (ORDER BY SALES DESC) AS RNK\n",
            "    FROM STAT;\n",
            "\n"
          ]
        },
        {
          "output_type": "error",
          "ename": "DatabaseError",
          "evalue": "ignored",
          "traceback": [
            "\u001b[0;31m---------------------------------------------------------------------------\u001b[0m",
            "\u001b[0;31mOperationalError\u001b[0m                          Traceback (most recent call last)",
            "\u001b[0;32m/usr/local/lib/python3.7/dist-packages/pandas/io/sql.py\u001b[0m in \u001b[0;36mexecute\u001b[0;34m(self, *args, **kwargs)\u001b[0m\n\u001b[1;32m   1680\u001b[0m         \u001b[0;32mtry\u001b[0m\u001b[0;34m:\u001b[0m\u001b[0;34m\u001b[0m\u001b[0;34m\u001b[0m\u001b[0m\n\u001b[0;32m-> 1681\u001b[0;31m             \u001b[0mcur\u001b[0m\u001b[0;34m.\u001b[0m\u001b[0mexecute\u001b[0m\u001b[0;34m(\u001b[0m\u001b[0;34m*\u001b[0m\u001b[0margs\u001b[0m\u001b[0;34m,\u001b[0m \u001b[0;34m**\u001b[0m\u001b[0mkwargs\u001b[0m\u001b[0;34m)\u001b[0m\u001b[0;34m\u001b[0m\u001b[0;34m\u001b[0m\u001b[0m\n\u001b[0m\u001b[1;32m   1682\u001b[0m             \u001b[0;32mreturn\u001b[0m \u001b[0mcur\u001b[0m\u001b[0;34m\u001b[0m\u001b[0;34m\u001b[0m\u001b[0m\n",
            "\u001b[0;31mOperationalError\u001b[0m: near \"(\": syntax error",
            "\nThe above exception was the direct cause of the following exception:\n",
            "\u001b[0;31mDatabaseError\u001b[0m                             Traceback (most recent call last)",
            "\u001b[0;32m<ipython-input-48-2b1bfd05a249>\u001b[0m in \u001b[0;36m<module>\u001b[0;34m()\u001b[0m\n\u001b[1;32m      5\u001b[0m     \u001b[0mFROM\u001b[0m \u001b[0mSTAT\u001b[0m\u001b[0;34m;\u001b[0m\u001b[0;34m\u001b[0m\u001b[0;34m\u001b[0m\u001b[0m\n\u001b[1;32m      6\u001b[0m \"\"\"\n\u001b[0;32m----> 7\u001b[0;31m \u001b[0msql_result\u001b[0m\u001b[0;34m(\u001b[0m\u001b[0msql\u001b[0m\u001b[0;34m,\u001b[0m \u001b[0;34m'3_3_3매출TOP5국가및매출'\u001b[0m\u001b[0;34m)\u001b[0m\u001b[0;34m\u001b[0m\u001b[0;34m\u001b[0m\u001b[0m\n\u001b[0m",
            "\u001b[0;32m<ipython-input-13-ffa25f9b7dfd>\u001b[0m in \u001b[0;36msql_result\u001b[0;34m(sql, file)\u001b[0m\n\u001b[1;32m      1\u001b[0m \u001b[0;32mdef\u001b[0m \u001b[0msql_result\u001b[0m\u001b[0;34m(\u001b[0m\u001b[0msql\u001b[0m\u001b[0;34m,\u001b[0m\u001b[0mfile\u001b[0m\u001b[0;34m)\u001b[0m\u001b[0;34m:\u001b[0m\u001b[0;34m\u001b[0m\u001b[0;34m\u001b[0m\u001b[0m\n\u001b[1;32m      2\u001b[0m   \u001b[0mprint\u001b[0m\u001b[0;34m(\u001b[0m\u001b[0msql\u001b[0m\u001b[0;34m)\u001b[0m\u001b[0;34m\u001b[0m\u001b[0;34m\u001b[0m\u001b[0m\n\u001b[0;32m----> 3\u001b[0;31m   \u001b[0mdf\u001b[0m \u001b[0;34m=\u001b[0m \u001b[0mpd\u001b[0m\u001b[0;34m.\u001b[0m\u001b[0mread_sql\u001b[0m\u001b[0;34m(\u001b[0m\u001b[0msql\u001b[0m\u001b[0;34m,\u001b[0m \u001b[0mconn\u001b[0m\u001b[0;34m,\u001b[0m \u001b[0mindex_col\u001b[0m\u001b[0;34m=\u001b[0m\u001b[0;32mNone\u001b[0m\u001b[0;34m)\u001b[0m\u001b[0;34m\u001b[0m\u001b[0;34m\u001b[0m\u001b[0m\n\u001b[0m\u001b[1;32m      4\u001b[0m   \u001b[0mprint\u001b[0m\u001b[0;34m(\u001b[0m\u001b[0mdf\u001b[0m\u001b[0;34m.\u001b[0m\u001b[0mhead\u001b[0m\u001b[0;34m(\u001b[0m\u001b[0;36m10\u001b[0m\u001b[0;34m)\u001b[0m\u001b[0;34m)\u001b[0m\u001b[0;34m\u001b[0m\u001b[0;34m\u001b[0m\u001b[0m\n\u001b[1;32m      5\u001b[0m   \u001b[0mfile_name\u001b[0m \u001b[0;34m=\u001b[0m \u001b[0;34m'./result/5w/'\u001b[0m \u001b[0;34m+\u001b[0m \u001b[0mfile\u001b[0m \u001b[0;34m+\u001b[0m \u001b[0;34m'.csv'\u001b[0m\u001b[0;34m\u001b[0m\u001b[0;34m\u001b[0m\u001b[0m\n",
            "\u001b[0;32m/usr/local/lib/python3.7/dist-packages/pandas/io/sql.py\u001b[0m in \u001b[0;36mread_sql\u001b[0;34m(sql, con, index_col, coerce_float, params, parse_dates, columns, chunksize)\u001b[0m\n\u001b[1;32m    487\u001b[0m             \u001b[0mcoerce_float\u001b[0m\u001b[0;34m=\u001b[0m\u001b[0mcoerce_float\u001b[0m\u001b[0;34m,\u001b[0m\u001b[0;34m\u001b[0m\u001b[0;34m\u001b[0m\u001b[0m\n\u001b[1;32m    488\u001b[0m             \u001b[0mparse_dates\u001b[0m\u001b[0;34m=\u001b[0m\u001b[0mparse_dates\u001b[0m\u001b[0;34m,\u001b[0m\u001b[0;34m\u001b[0m\u001b[0;34m\u001b[0m\u001b[0m\n\u001b[0;32m--> 489\u001b[0;31m             \u001b[0mchunksize\u001b[0m\u001b[0;34m=\u001b[0m\u001b[0mchunksize\u001b[0m\u001b[0;34m,\u001b[0m\u001b[0;34m\u001b[0m\u001b[0;34m\u001b[0m\u001b[0m\n\u001b[0m\u001b[1;32m    490\u001b[0m         )\n\u001b[1;32m    491\u001b[0m \u001b[0;34m\u001b[0m\u001b[0m\n",
            "\u001b[0;32m/usr/local/lib/python3.7/dist-packages/pandas/io/sql.py\u001b[0m in \u001b[0;36mread_query\u001b[0;34m(self, sql, index_col, coerce_float, params, parse_dates, chunksize)\u001b[0m\n\u001b[1;32m   1725\u001b[0m \u001b[0;34m\u001b[0m\u001b[0m\n\u001b[1;32m   1726\u001b[0m         \u001b[0margs\u001b[0m \u001b[0;34m=\u001b[0m \u001b[0m_convert_params\u001b[0m\u001b[0;34m(\u001b[0m\u001b[0msql\u001b[0m\u001b[0;34m,\u001b[0m \u001b[0mparams\u001b[0m\u001b[0;34m)\u001b[0m\u001b[0;34m\u001b[0m\u001b[0;34m\u001b[0m\u001b[0m\n\u001b[0;32m-> 1727\u001b[0;31m         \u001b[0mcursor\u001b[0m \u001b[0;34m=\u001b[0m \u001b[0mself\u001b[0m\u001b[0;34m.\u001b[0m\u001b[0mexecute\u001b[0m\u001b[0;34m(\u001b[0m\u001b[0;34m*\u001b[0m\u001b[0margs\u001b[0m\u001b[0;34m)\u001b[0m\u001b[0;34m\u001b[0m\u001b[0;34m\u001b[0m\u001b[0m\n\u001b[0m\u001b[1;32m   1728\u001b[0m         \u001b[0mcolumns\u001b[0m \u001b[0;34m=\u001b[0m \u001b[0;34m[\u001b[0m\u001b[0mcol_desc\u001b[0m\u001b[0;34m[\u001b[0m\u001b[0;36m0\u001b[0m\u001b[0;34m]\u001b[0m \u001b[0;32mfor\u001b[0m \u001b[0mcol_desc\u001b[0m \u001b[0;32min\u001b[0m \u001b[0mcursor\u001b[0m\u001b[0;34m.\u001b[0m\u001b[0mdescription\u001b[0m\u001b[0;34m]\u001b[0m\u001b[0;34m\u001b[0m\u001b[0;34m\u001b[0m\u001b[0m\n\u001b[1;32m   1729\u001b[0m \u001b[0;34m\u001b[0m\u001b[0m\n",
            "\u001b[0;32m/usr/local/lib/python3.7/dist-packages/pandas/io/sql.py\u001b[0m in \u001b[0;36mexecute\u001b[0;34m(self, *args, **kwargs)\u001b[0m\n\u001b[1;32m   1691\u001b[0m \u001b[0;34m\u001b[0m\u001b[0m\n\u001b[1;32m   1692\u001b[0m             \u001b[0mex\u001b[0m \u001b[0;34m=\u001b[0m \u001b[0mDatabaseError\u001b[0m\u001b[0;34m(\u001b[0m\u001b[0;34mf\"Execution failed on sql '{args[0]}': {exc}\"\u001b[0m\u001b[0;34m)\u001b[0m\u001b[0;34m\u001b[0m\u001b[0;34m\u001b[0m\u001b[0m\n\u001b[0;32m-> 1693\u001b[0;31m             \u001b[0;32mraise\u001b[0m \u001b[0mex\u001b[0m \u001b[0;32mfrom\u001b[0m \u001b[0mexc\u001b[0m\u001b[0;34m\u001b[0m\u001b[0;34m\u001b[0m\u001b[0m\n\u001b[0m\u001b[1;32m   1694\u001b[0m \u001b[0;34m\u001b[0m\u001b[0m\n\u001b[1;32m   1695\u001b[0m     \u001b[0;34m@\u001b[0m\u001b[0mstaticmethod\u001b[0m\u001b[0;34m\u001b[0m\u001b[0;34m\u001b[0m\u001b[0m\n",
            "\u001b[0;31mDatabaseError\u001b[0m: Execution failed on sql '\nSELECT COUNTRY\n    , SALES\n    , RANK() OVER (ORDER BY SALES DESC) AS RNK\n    FROM STAT;\n': near \"(\": syntax error"
          ]
        }
      ]
    },
    {
      "cell_type": "markdown",
      "metadata": {
        "id": "feQzbLsJTPTf"
      },
      "source": [
        "*   STEP2: 등수를 부여한 결과를 다시 STAT_RNK 테이블로 생성함"
      ]
    },
    {
      "cell_type": "code",
      "metadata": {
        "id": "6l6WqyIwzvxO",
        "colab": {
          "base_uri": "https://localhost:8080/"
        },
        "outputId": "17166eb9-7ce9-40c1-b5fb-99e3f2d38f55"
      },
      "source": [
        "#만약 STAT_RNK 테이블이 존재하는 경우 삭제\n",
        "sql = f\"\"\"\n",
        "DROP TABLE IF EXISTS STAT_RNK;\n",
        "\"\"\"\n",
        "conn.execute(sql)"
      ],
      "execution_count": 49,
      "outputs": [
        {
          "output_type": "execute_result",
          "data": {
            "text/plain": [
              "<sqlite3.Cursor at 0x7fe95af35880>"
            ]
          },
          "metadata": {},
          "execution_count": 49
        }
      ]
    },
    {
      "cell_type": "markdown",
      "metadata": {
        "id": "Xz4kdeq51oui"
      },
      "source": [
        "*   STAT_RNK(국가, 매출액, 순위) 테이블 생성"
      ]
    },
    {
      "cell_type": "code",
      "metadata": {
        "id": "N83uCg41zkY6"
      },
      "source": [
        "#STAT_RNK 테이블 생성\n",
        "sql = f\"\"\"\n",
        "CREATE TABLE STAT_RNK AS\n",
        "SELECT COUNTRY\n",
        "     , SALES\n",
        "     , RANK() OVER (ORDER BY SALES DESC) AS RNK\n",
        "  FROM STAT;\n",
        "\"\"\"\n",
        "conn.execute(sql)"
      ],
      "execution_count": null,
      "outputs": []
    },
    {
      "cell_type": "markdown",
      "metadata": {
        "id": "ygVVNdTATjTI"
      },
      "source": [
        "*   STAT_RNK 테이블 조회 결과"
      ]
    },
    {
      "cell_type": "code",
      "metadata": {
        "id": "60mt5B0LQri2",
        "colab": {
          "base_uri": "https://localhost:8080/",
          "height": 562
        },
        "outputId": "db6f097c-4d30-42c7-f58f-bb82958efb73"
      },
      "source": [
        "#STAT_RNK 테이블 조회\n",
        "sql = f\"\"\"\n",
        "SELECT *\n",
        "  FROM STAT_RNK;\n",
        "\"\"\"\n",
        "sql_result(sql,'3_3_4매출TOP5국가및매출')"
      ],
      "execution_count": 50,
      "outputs": [
        {
          "output_type": "stream",
          "name": "stdout",
          "text": [
            "\n",
            "SELECT *\n",
            "  FROM STAT_RNK;\n",
            "\n"
          ]
        },
        {
          "output_type": "error",
          "ename": "DatabaseError",
          "evalue": "ignored",
          "traceback": [
            "\u001b[0;31m---------------------------------------------------------------------------\u001b[0m",
            "\u001b[0;31mOperationalError\u001b[0m                          Traceback (most recent call last)",
            "\u001b[0;32m/usr/local/lib/python3.7/dist-packages/pandas/io/sql.py\u001b[0m in \u001b[0;36mexecute\u001b[0;34m(self, *args, **kwargs)\u001b[0m\n\u001b[1;32m   1680\u001b[0m         \u001b[0;32mtry\u001b[0m\u001b[0;34m:\u001b[0m\u001b[0;34m\u001b[0m\u001b[0;34m\u001b[0m\u001b[0m\n\u001b[0;32m-> 1681\u001b[0;31m             \u001b[0mcur\u001b[0m\u001b[0;34m.\u001b[0m\u001b[0mexecute\u001b[0m\u001b[0;34m(\u001b[0m\u001b[0;34m*\u001b[0m\u001b[0margs\u001b[0m\u001b[0;34m,\u001b[0m \u001b[0;34m**\u001b[0m\u001b[0mkwargs\u001b[0m\u001b[0;34m)\u001b[0m\u001b[0;34m\u001b[0m\u001b[0;34m\u001b[0m\u001b[0m\n\u001b[0m\u001b[1;32m   1682\u001b[0m             \u001b[0;32mreturn\u001b[0m \u001b[0mcur\u001b[0m\u001b[0;34m\u001b[0m\u001b[0;34m\u001b[0m\u001b[0m\n",
            "\u001b[0;31mOperationalError\u001b[0m: no such table: STAT_RNK",
            "\nThe above exception was the direct cause of the following exception:\n",
            "\u001b[0;31mDatabaseError\u001b[0m                             Traceback (most recent call last)",
            "\u001b[0;32m<ipython-input-50-3422ab95abb4>\u001b[0m in \u001b[0;36m<module>\u001b[0;34m()\u001b[0m\n\u001b[1;32m      4\u001b[0m   \u001b[0mFROM\u001b[0m \u001b[0mSTAT_RNK\u001b[0m\u001b[0;34m;\u001b[0m\u001b[0;34m\u001b[0m\u001b[0;34m\u001b[0m\u001b[0m\n\u001b[1;32m      5\u001b[0m \"\"\"\n\u001b[0;32m----> 6\u001b[0;31m \u001b[0msql_result\u001b[0m\u001b[0;34m(\u001b[0m\u001b[0msql\u001b[0m\u001b[0;34m,\u001b[0m\u001b[0;34m'3_3_4매출TOP5국가및매출'\u001b[0m\u001b[0;34m)\u001b[0m\u001b[0;34m\u001b[0m\u001b[0;34m\u001b[0m\u001b[0m\n\u001b[0m",
            "\u001b[0;32m<ipython-input-13-ffa25f9b7dfd>\u001b[0m in \u001b[0;36msql_result\u001b[0;34m(sql, file)\u001b[0m\n\u001b[1;32m      1\u001b[0m \u001b[0;32mdef\u001b[0m \u001b[0msql_result\u001b[0m\u001b[0;34m(\u001b[0m\u001b[0msql\u001b[0m\u001b[0;34m,\u001b[0m\u001b[0mfile\u001b[0m\u001b[0;34m)\u001b[0m\u001b[0;34m:\u001b[0m\u001b[0;34m\u001b[0m\u001b[0;34m\u001b[0m\u001b[0m\n\u001b[1;32m      2\u001b[0m   \u001b[0mprint\u001b[0m\u001b[0;34m(\u001b[0m\u001b[0msql\u001b[0m\u001b[0;34m)\u001b[0m\u001b[0;34m\u001b[0m\u001b[0;34m\u001b[0m\u001b[0m\n\u001b[0;32m----> 3\u001b[0;31m   \u001b[0mdf\u001b[0m \u001b[0;34m=\u001b[0m \u001b[0mpd\u001b[0m\u001b[0;34m.\u001b[0m\u001b[0mread_sql\u001b[0m\u001b[0;34m(\u001b[0m\u001b[0msql\u001b[0m\u001b[0;34m,\u001b[0m \u001b[0mconn\u001b[0m\u001b[0;34m,\u001b[0m \u001b[0mindex_col\u001b[0m\u001b[0;34m=\u001b[0m\u001b[0;32mNone\u001b[0m\u001b[0;34m)\u001b[0m\u001b[0;34m\u001b[0m\u001b[0;34m\u001b[0m\u001b[0m\n\u001b[0m\u001b[1;32m      4\u001b[0m   \u001b[0mprint\u001b[0m\u001b[0;34m(\u001b[0m\u001b[0mdf\u001b[0m\u001b[0;34m.\u001b[0m\u001b[0mhead\u001b[0m\u001b[0;34m(\u001b[0m\u001b[0;36m10\u001b[0m\u001b[0;34m)\u001b[0m\u001b[0;34m)\u001b[0m\u001b[0;34m\u001b[0m\u001b[0;34m\u001b[0m\u001b[0m\n\u001b[1;32m      5\u001b[0m   \u001b[0mfile_name\u001b[0m \u001b[0;34m=\u001b[0m \u001b[0;34m'./result/5w/'\u001b[0m \u001b[0;34m+\u001b[0m \u001b[0mfile\u001b[0m \u001b[0;34m+\u001b[0m \u001b[0;34m'.csv'\u001b[0m\u001b[0;34m\u001b[0m\u001b[0;34m\u001b[0m\u001b[0m\n",
            "\u001b[0;32m/usr/local/lib/python3.7/dist-packages/pandas/io/sql.py\u001b[0m in \u001b[0;36mread_sql\u001b[0;34m(sql, con, index_col, coerce_float, params, parse_dates, columns, chunksize)\u001b[0m\n\u001b[1;32m    487\u001b[0m             \u001b[0mcoerce_float\u001b[0m\u001b[0;34m=\u001b[0m\u001b[0mcoerce_float\u001b[0m\u001b[0;34m,\u001b[0m\u001b[0;34m\u001b[0m\u001b[0;34m\u001b[0m\u001b[0m\n\u001b[1;32m    488\u001b[0m             \u001b[0mparse_dates\u001b[0m\u001b[0;34m=\u001b[0m\u001b[0mparse_dates\u001b[0m\u001b[0;34m,\u001b[0m\u001b[0;34m\u001b[0m\u001b[0;34m\u001b[0m\u001b[0m\n\u001b[0;32m--> 489\u001b[0;31m             \u001b[0mchunksize\u001b[0m\u001b[0;34m=\u001b[0m\u001b[0mchunksize\u001b[0m\u001b[0;34m,\u001b[0m\u001b[0;34m\u001b[0m\u001b[0;34m\u001b[0m\u001b[0m\n\u001b[0m\u001b[1;32m    490\u001b[0m         )\n\u001b[1;32m    491\u001b[0m \u001b[0;34m\u001b[0m\u001b[0m\n",
            "\u001b[0;32m/usr/local/lib/python3.7/dist-packages/pandas/io/sql.py\u001b[0m in \u001b[0;36mread_query\u001b[0;34m(self, sql, index_col, coerce_float, params, parse_dates, chunksize)\u001b[0m\n\u001b[1;32m   1725\u001b[0m \u001b[0;34m\u001b[0m\u001b[0m\n\u001b[1;32m   1726\u001b[0m         \u001b[0margs\u001b[0m \u001b[0;34m=\u001b[0m \u001b[0m_convert_params\u001b[0m\u001b[0;34m(\u001b[0m\u001b[0msql\u001b[0m\u001b[0;34m,\u001b[0m \u001b[0mparams\u001b[0m\u001b[0;34m)\u001b[0m\u001b[0;34m\u001b[0m\u001b[0;34m\u001b[0m\u001b[0m\n\u001b[0;32m-> 1727\u001b[0;31m         \u001b[0mcursor\u001b[0m \u001b[0;34m=\u001b[0m \u001b[0mself\u001b[0m\u001b[0;34m.\u001b[0m\u001b[0mexecute\u001b[0m\u001b[0;34m(\u001b[0m\u001b[0;34m*\u001b[0m\u001b[0margs\u001b[0m\u001b[0;34m)\u001b[0m\u001b[0;34m\u001b[0m\u001b[0;34m\u001b[0m\u001b[0m\n\u001b[0m\u001b[1;32m   1728\u001b[0m         \u001b[0mcolumns\u001b[0m \u001b[0;34m=\u001b[0m \u001b[0;34m[\u001b[0m\u001b[0mcol_desc\u001b[0m\u001b[0;34m[\u001b[0m\u001b[0;36m0\u001b[0m\u001b[0;34m]\u001b[0m \u001b[0;32mfor\u001b[0m \u001b[0mcol_desc\u001b[0m \u001b[0;32min\u001b[0m \u001b[0mcursor\u001b[0m\u001b[0;34m.\u001b[0m\u001b[0mdescription\u001b[0m\u001b[0;34m]\u001b[0m\u001b[0;34m\u001b[0m\u001b[0;34m\u001b[0m\u001b[0m\n\u001b[1;32m   1729\u001b[0m \u001b[0;34m\u001b[0m\u001b[0m\n",
            "\u001b[0;32m/usr/local/lib/python3.7/dist-packages/pandas/io/sql.py\u001b[0m in \u001b[0;36mexecute\u001b[0;34m(self, *args, **kwargs)\u001b[0m\n\u001b[1;32m   1691\u001b[0m \u001b[0;34m\u001b[0m\u001b[0m\n\u001b[1;32m   1692\u001b[0m             \u001b[0mex\u001b[0m \u001b[0;34m=\u001b[0m \u001b[0mDatabaseError\u001b[0m\u001b[0;34m(\u001b[0m\u001b[0;34mf\"Execution failed on sql '{args[0]}': {exc}\"\u001b[0m\u001b[0;34m)\u001b[0m\u001b[0;34m\u001b[0m\u001b[0;34m\u001b[0m\u001b[0m\n\u001b[0;32m-> 1693\u001b[0;31m             \u001b[0;32mraise\u001b[0m \u001b[0mex\u001b[0m \u001b[0;32mfrom\u001b[0m \u001b[0mexc\u001b[0m\u001b[0;34m\u001b[0m\u001b[0;34m\u001b[0m\u001b[0m\n\u001b[0m\u001b[1;32m   1694\u001b[0m \u001b[0;34m\u001b[0m\u001b[0m\n\u001b[1;32m   1695\u001b[0m     \u001b[0;34m@\u001b[0m\u001b[0mstaticmethod\u001b[0m\u001b[0;34m\u001b[0m\u001b[0;34m\u001b[0m\u001b[0m\n",
            "\u001b[0;31mDatabaseError\u001b[0m: Execution failed on sql '\nSELECT *\n  FROM STAT_RNK;\n': no such table: STAT_RNK"
          ]
        }
      ]
    },
    {
      "cell_type": "markdown",
      "metadata": {
        "id": "AmDnClwbTt3W"
      },
      "source": [
        "*   STEP3: 상위 5개 국가를 추출하기 위한 쿼리"
      ]
    },
    {
      "cell_type": "code",
      "metadata": {
        "id": "quLjw21QQrZV",
        "colab": {
          "base_uri": "https://localhost:8080/",
          "height": 598
        },
        "outputId": "69b6ec2a-275a-4ff0-f358-148e0c70667f"
      },
      "source": [
        "sql = f\"\"\"\n",
        "SELECT *\n",
        "  FROM STAT_RNK\n",
        " WHERE RNK BETWEEN 1 AND 5;\n",
        "\"\"\"\n",
        "sql_result(sql,'3_3_5매출TOP5국가및매출')"
      ],
      "execution_count": 51,
      "outputs": [
        {
          "output_type": "stream",
          "name": "stdout",
          "text": [
            "\n",
            "SELECT *\n",
            "  FROM STAT_RNK\n",
            " WHERE RNK BETWEEN 1 AND 5;\n",
            "\n"
          ]
        },
        {
          "output_type": "error",
          "ename": "DatabaseError",
          "evalue": "ignored",
          "traceback": [
            "\u001b[0;31m---------------------------------------------------------------------------\u001b[0m",
            "\u001b[0;31mOperationalError\u001b[0m                          Traceback (most recent call last)",
            "\u001b[0;32m/usr/local/lib/python3.7/dist-packages/pandas/io/sql.py\u001b[0m in \u001b[0;36mexecute\u001b[0;34m(self, *args, **kwargs)\u001b[0m\n\u001b[1;32m   1680\u001b[0m         \u001b[0;32mtry\u001b[0m\u001b[0;34m:\u001b[0m\u001b[0;34m\u001b[0m\u001b[0;34m\u001b[0m\u001b[0m\n\u001b[0;32m-> 1681\u001b[0;31m             \u001b[0mcur\u001b[0m\u001b[0;34m.\u001b[0m\u001b[0mexecute\u001b[0m\u001b[0;34m(\u001b[0m\u001b[0;34m*\u001b[0m\u001b[0margs\u001b[0m\u001b[0;34m,\u001b[0m \u001b[0;34m**\u001b[0m\u001b[0mkwargs\u001b[0m\u001b[0;34m)\u001b[0m\u001b[0;34m\u001b[0m\u001b[0;34m\u001b[0m\u001b[0m\n\u001b[0m\u001b[1;32m   1682\u001b[0m             \u001b[0;32mreturn\u001b[0m \u001b[0mcur\u001b[0m\u001b[0;34m\u001b[0m\u001b[0;34m\u001b[0m\u001b[0m\n",
            "\u001b[0;31mOperationalError\u001b[0m: no such table: STAT_RNK",
            "\nThe above exception was the direct cause of the following exception:\n",
            "\u001b[0;31mDatabaseError\u001b[0m                             Traceback (most recent call last)",
            "\u001b[0;32m<ipython-input-51-1db606b9bc66>\u001b[0m in \u001b[0;36m<module>\u001b[0;34m()\u001b[0m\n\u001b[1;32m      4\u001b[0m  \u001b[0mWHERE\u001b[0m \u001b[0mRNK\u001b[0m \u001b[0mBETWEEN\u001b[0m \u001b[0;36m1\u001b[0m \u001b[0mAND\u001b[0m \u001b[0;36m5\u001b[0m\u001b[0;34m;\u001b[0m\u001b[0;34m\u001b[0m\u001b[0;34m\u001b[0m\u001b[0m\n\u001b[1;32m      5\u001b[0m \"\"\"\n\u001b[0;32m----> 6\u001b[0;31m \u001b[0msql_result\u001b[0m\u001b[0;34m(\u001b[0m\u001b[0msql\u001b[0m\u001b[0;34m,\u001b[0m\u001b[0;34m'3_3_5매출TOP5국가및매출'\u001b[0m\u001b[0;34m)\u001b[0m\u001b[0;34m\u001b[0m\u001b[0;34m\u001b[0m\u001b[0m\n\u001b[0m",
            "\u001b[0;32m<ipython-input-13-ffa25f9b7dfd>\u001b[0m in \u001b[0;36msql_result\u001b[0;34m(sql, file)\u001b[0m\n\u001b[1;32m      1\u001b[0m \u001b[0;32mdef\u001b[0m \u001b[0msql_result\u001b[0m\u001b[0;34m(\u001b[0m\u001b[0msql\u001b[0m\u001b[0;34m,\u001b[0m\u001b[0mfile\u001b[0m\u001b[0;34m)\u001b[0m\u001b[0;34m:\u001b[0m\u001b[0;34m\u001b[0m\u001b[0;34m\u001b[0m\u001b[0m\n\u001b[1;32m      2\u001b[0m   \u001b[0mprint\u001b[0m\u001b[0;34m(\u001b[0m\u001b[0msql\u001b[0m\u001b[0;34m)\u001b[0m\u001b[0;34m\u001b[0m\u001b[0;34m\u001b[0m\u001b[0m\n\u001b[0;32m----> 3\u001b[0;31m   \u001b[0mdf\u001b[0m \u001b[0;34m=\u001b[0m \u001b[0mpd\u001b[0m\u001b[0;34m.\u001b[0m\u001b[0mread_sql\u001b[0m\u001b[0;34m(\u001b[0m\u001b[0msql\u001b[0m\u001b[0;34m,\u001b[0m \u001b[0mconn\u001b[0m\u001b[0;34m,\u001b[0m \u001b[0mindex_col\u001b[0m\u001b[0;34m=\u001b[0m\u001b[0;32mNone\u001b[0m\u001b[0;34m)\u001b[0m\u001b[0;34m\u001b[0m\u001b[0;34m\u001b[0m\u001b[0m\n\u001b[0m\u001b[1;32m      4\u001b[0m   \u001b[0mprint\u001b[0m\u001b[0;34m(\u001b[0m\u001b[0mdf\u001b[0m\u001b[0;34m.\u001b[0m\u001b[0mhead\u001b[0m\u001b[0;34m(\u001b[0m\u001b[0;36m10\u001b[0m\u001b[0;34m)\u001b[0m\u001b[0;34m)\u001b[0m\u001b[0;34m\u001b[0m\u001b[0;34m\u001b[0m\u001b[0m\n\u001b[1;32m      5\u001b[0m   \u001b[0mfile_name\u001b[0m \u001b[0;34m=\u001b[0m \u001b[0;34m'./result/5w/'\u001b[0m \u001b[0;34m+\u001b[0m \u001b[0mfile\u001b[0m \u001b[0;34m+\u001b[0m \u001b[0;34m'.csv'\u001b[0m\u001b[0;34m\u001b[0m\u001b[0;34m\u001b[0m\u001b[0m\n",
            "\u001b[0;32m/usr/local/lib/python3.7/dist-packages/pandas/io/sql.py\u001b[0m in \u001b[0;36mread_sql\u001b[0;34m(sql, con, index_col, coerce_float, params, parse_dates, columns, chunksize)\u001b[0m\n\u001b[1;32m    487\u001b[0m             \u001b[0mcoerce_float\u001b[0m\u001b[0;34m=\u001b[0m\u001b[0mcoerce_float\u001b[0m\u001b[0;34m,\u001b[0m\u001b[0;34m\u001b[0m\u001b[0;34m\u001b[0m\u001b[0m\n\u001b[1;32m    488\u001b[0m             \u001b[0mparse_dates\u001b[0m\u001b[0;34m=\u001b[0m\u001b[0mparse_dates\u001b[0m\u001b[0;34m,\u001b[0m\u001b[0;34m\u001b[0m\u001b[0;34m\u001b[0m\u001b[0m\n\u001b[0;32m--> 489\u001b[0;31m             \u001b[0mchunksize\u001b[0m\u001b[0;34m=\u001b[0m\u001b[0mchunksize\u001b[0m\u001b[0;34m,\u001b[0m\u001b[0;34m\u001b[0m\u001b[0;34m\u001b[0m\u001b[0m\n\u001b[0m\u001b[1;32m    490\u001b[0m         )\n\u001b[1;32m    491\u001b[0m \u001b[0;34m\u001b[0m\u001b[0m\n",
            "\u001b[0;32m/usr/local/lib/python3.7/dist-packages/pandas/io/sql.py\u001b[0m in \u001b[0;36mread_query\u001b[0;34m(self, sql, index_col, coerce_float, params, parse_dates, chunksize)\u001b[0m\n\u001b[1;32m   1725\u001b[0m \u001b[0;34m\u001b[0m\u001b[0m\n\u001b[1;32m   1726\u001b[0m         \u001b[0margs\u001b[0m \u001b[0;34m=\u001b[0m \u001b[0m_convert_params\u001b[0m\u001b[0;34m(\u001b[0m\u001b[0msql\u001b[0m\u001b[0;34m,\u001b[0m \u001b[0mparams\u001b[0m\u001b[0;34m)\u001b[0m\u001b[0;34m\u001b[0m\u001b[0;34m\u001b[0m\u001b[0m\n\u001b[0;32m-> 1727\u001b[0;31m         \u001b[0mcursor\u001b[0m \u001b[0;34m=\u001b[0m \u001b[0mself\u001b[0m\u001b[0;34m.\u001b[0m\u001b[0mexecute\u001b[0m\u001b[0;34m(\u001b[0m\u001b[0;34m*\u001b[0m\u001b[0margs\u001b[0m\u001b[0;34m)\u001b[0m\u001b[0;34m\u001b[0m\u001b[0;34m\u001b[0m\u001b[0m\n\u001b[0m\u001b[1;32m   1728\u001b[0m         \u001b[0mcolumns\u001b[0m \u001b[0;34m=\u001b[0m \u001b[0;34m[\u001b[0m\u001b[0mcol_desc\u001b[0m\u001b[0;34m[\u001b[0m\u001b[0;36m0\u001b[0m\u001b[0;34m]\u001b[0m \u001b[0;32mfor\u001b[0m \u001b[0mcol_desc\u001b[0m \u001b[0;32min\u001b[0m \u001b[0mcursor\u001b[0m\u001b[0;34m.\u001b[0m\u001b[0mdescription\u001b[0m\u001b[0;34m]\u001b[0m\u001b[0;34m\u001b[0m\u001b[0;34m\u001b[0m\u001b[0m\n\u001b[1;32m   1729\u001b[0m \u001b[0;34m\u001b[0m\u001b[0m\n",
            "\u001b[0;32m/usr/local/lib/python3.7/dist-packages/pandas/io/sql.py\u001b[0m in \u001b[0;36mexecute\u001b[0;34m(self, *args, **kwargs)\u001b[0m\n\u001b[1;32m   1691\u001b[0m \u001b[0;34m\u001b[0m\u001b[0m\n\u001b[1;32m   1692\u001b[0m             \u001b[0mex\u001b[0m \u001b[0;34m=\u001b[0m \u001b[0mDatabaseError\u001b[0m\u001b[0;34m(\u001b[0m\u001b[0;34mf\"Execution failed on sql '{args[0]}': {exc}\"\u001b[0m\u001b[0;34m)\u001b[0m\u001b[0;34m\u001b[0m\u001b[0;34m\u001b[0m\u001b[0m\n\u001b[0;32m-> 1693\u001b[0;31m             \u001b[0;32mraise\u001b[0m \u001b[0mex\u001b[0m \u001b[0;32mfrom\u001b[0m \u001b[0mexc\u001b[0m\u001b[0;34m\u001b[0m\u001b[0;34m\u001b[0m\u001b[0m\n\u001b[0m\u001b[1;32m   1694\u001b[0m \u001b[0;34m\u001b[0m\u001b[0m\n\u001b[1;32m   1695\u001b[0m     \u001b[0;34m@\u001b[0m\u001b[0mstaticmethod\u001b[0m\u001b[0;34m\u001b[0m\u001b[0;34m\u001b[0m\u001b[0m\n",
            "\u001b[0;31mDatabaseError\u001b[0m: Execution failed on sql '\nSELECT *\n  FROM STAT_RNK\n WHERE RNK BETWEEN 1 AND 5;\n': no such table: STAT_RNK"
          ]
        }
      ]
    },
    {
      "cell_type": "markdown",
      "metadata": {
        "id": "Mcbk_EO3T0cW"
      },
      "source": [
        "[테이블 생성 방식]\n",
        "*   원하는 결과를 출력했지만, 2개의 테이블을 생성해 원하는 결과를 출력함\n",
        "*   데이터를 조회할 때마다 이렇게 테이블을 생성한다면, DB 관리 어려움"
      ]
    },
    {
      "cell_type": "markdown",
      "metadata": {
        "id": "nOPSk4yeUSK9"
      },
      "source": [
        "**SUBQUERY**\n",
        "*   서브 쿼리를 이용하면 여러 개의 테이블을 만들지 않고도 원하는 결과를 조회할 수 있음"
      ]
    },
    {
      "cell_type": "code",
      "metadata": {
        "id": "PGmOsMmwQrQB"
      },
      "source": [
        "sql = f\"\"\"\n",
        "SELECT *\n",
        "\n",
        "--STAT_RNK 테이블\n",
        "  FROM (\n",
        "SELECT COUNTRY\n",
        "     , SALES\n",
        "     , RANK() OVER (ORDER BY SALES DESC) AS RNK\n",
        "\n",
        "--RNK 테이블\n",
        "  FROM (\n",
        "SELECT C.COUNTRY\n",
        "     , SUM(PRICEEACH*QUANTITYORDERED) AS SALES\n",
        "  FROM ORDERS A\n",
        "\n",
        "  LEFT JOIN ORDERDETAILS B\n",
        "    ON A.ORDERNUMBER = B.ORDERNUMBER\n",
        "\n",
        "  LEFT JOIN CUSTOMERS C\n",
        "    ON A.CUSTOMERNUMBER = C.CUSTOMERNUMBER\n",
        "    \n",
        " GROUP BY 1\n",
        "     ) RNK\n",
        "\n",
        "     ) STAT_RNK\n",
        " WHERE RNK <= 5\n",
        ";\n",
        "\"\"\"\n",
        "sql_result(sql,'3_3_6매출TOP5국가및매출')"
      ],
      "execution_count": null,
      "outputs": []
    },
    {
      "cell_type": "markdown",
      "metadata": {
        "id": "Z0bsPKAMw1Y5"
      },
      "source": [
        "#4.재구매율 (실시간)"
      ]
    },
    {
      "cell_type": "markdown",
      "metadata": {
        "id": "BBebfW6dcPMF"
      },
      "source": [
        "*   재구매율: 특정 기간1(ex. 2018년) 구매자 중 특정 기간 2(ex. 2019년)에 연달아 구매한 구매자의 비중을 의미함"
      ]
    },
    {
      "cell_type": "markdown",
      "metadata": {
        "id": "2KRHVljEcPJc"
      },
      "source": [
        "*   재구매율을 만들기 위해 orders & orders 테이블 JOIN"
      ]
    },
    {
      "cell_type": "markdown",
      "metadata": {
        "id": "Vui4gGDpcYhA"
      },
      "source": [
        "[Orders 테이블 결합조건]\n",
        "*   ORDERS 테이블을 결합하는 데 CUSTOMERNUMBER와 ODERDATE로 데이터를 결합함 \n",
        "*   ORDER(A)의 SUBSTR(A.ODERDATE,1,4)+0와 B의 SUBSTR(B.ORDERDATE,1,4)-1을 결합함"
      ]
    },
    {
      "cell_type": "markdown",
      "metadata": {
        "id": "-A2OPu3eccm7"
      },
      "source": [
        "[Orders 테이블 매칭결과]\n",
        "*   ORDER(A)의 CUSTOMER A의 2003년도 거래 건에는 2004년도 거래가 매칭됨\n",
        "*   2004년 거래 건에는 2005년 거래가 없어 어떤 값도 매칭되지 않음"
      ]
    },
    {
      "cell_type": "markdown",
      "metadata": {
        "id": "sYaCc487jlly"
      },
      "source": [
        "[재구매율 계산]\n",
        "*   A의 주문 연도로 그룹핑 후 A의 CUSTOMERNUMBER를 COUNT하면 해당 연도의 구매자 수가 계산됨\n",
        "*   B의 CUSTOMERNUMBER를 COUNT하면 이후 연도 구매자 수가 계산됨\n",
        "*   두 값을 나누면 최종적으로 각 연도의 Retention Rate(%)를 구할 수 있음"
      ]
    },
    {
      "cell_type": "code",
      "metadata": {
        "id": "w13mB1ZLQaLq",
        "colab": {
          "base_uri": "https://localhost:8080/"
        },
        "outputId": "91610166-167f-4a39-bd2c-4a0ce032705f"
      },
      "source": [
        "sql = f\"\"\"\n",
        "\n",
        "SELECT A.CUSTOMERNUMBER\n",
        "     , A.ORDERDATE\n",
        "     , B.CUSTOMERNUMBER AS CUSTOMERNUMBER_RE\n",
        "     , B.ORDERDATE AS ORDERDATE_RE\n",
        "  FROM ORDERS A\n",
        "  LEFT JOIN ORDERS B\n",
        "    ON A.CUSTOMERNUMBER = B.CUSTOMERNUMBER\n",
        "   AND SUBSTR(A.ORDERDATE,1,4)+0 = SUBSTR(B.ORDERDATE,1,4)-1\n",
        " ;\n",
        "\"\"\"\n",
        "sql_result(sql,'4_0재구매율')"
      ],
      "execution_count": 52,
      "outputs": [
        {
          "output_type": "stream",
          "name": "stdout",
          "text": [
            "\n",
            "\n",
            "SELECT A.CUSTOMERNUMBER\n",
            "     , A.ORDERDATE\n",
            "     , B.CUSTOMERNUMBER AS CUSTOMERNUMBER_RE\n",
            "     , B.ORDERDATE AS ORDERDATE_RE\n",
            "  FROM ORDERS A\n",
            "  LEFT JOIN ORDERS B\n",
            "    ON A.CUSTOMERNUMBER = B.CUSTOMERNUMBER\n",
            "   AND SUBSTR(A.ORDERDATE,1,4)+0 = SUBSTR(B.ORDERDATE,1,4)-1\n",
            " ;\n",
            "\n",
            "   customerNumber   orderDate  CUSTOMERNUMBER_RE ORDERDATE_RE\n",
            "0             363  2003-01-06              363.0   2004-11-04\n",
            "1             128  2003-01-09              128.0   2004-03-15\n",
            "2             128  2003-01-09              128.0   2004-11-05\n",
            "3             181  2003-01-10              181.0   2004-04-05\n",
            "4             181  2003-01-10              181.0   2004-11-05\n",
            "5             121  2003-01-29              121.0   2004-10-15\n",
            "6             121  2003-01-29              121.0   2004-11-05\n",
            "7             141  2003-01-31              141.0   2004-01-16\n",
            "8             141  2003-01-31              141.0   2004-04-29\n",
            "9             141  2003-01-31              141.0   2004-05-05\n",
            "./result/5w/4_0재구매율.csv\n"
          ]
        }
      ]
    },
    {
      "cell_type": "markdown",
      "metadata": {
        "id": "X3MeEZxePcFt"
      },
      "source": [
        "## 1) 국가별 2004, 2005 Retention Rate(%)"
      ]
    },
    {
      "cell_type": "markdown",
      "metadata": {
        "id": "jhnGDG6Wjs1X"
      },
      "source": [
        "국가별 Retention Rate(%) 산출 방법"
      ]
    },
    {
      "cell_type": "markdown",
      "metadata": {
        "id": "ja3a5r8Tjuwm"
      },
      "source": [
        "*   국가별 Retention Rate(%) : A 국가 거주 구매자 중 다음 연도에도 구매를 한 구매자의 비중으로 정의함\n",
        "*   재구매율 계산 쿼리에 \"고객의 거주 국가 정보\"를 결합한 후 거주 국가로 그룹핑해 산출함"
      ]
    },
    {
      "cell_type": "code",
      "metadata": {
        "id": "Ki9VCgeOQYvB",
        "colab": {
          "base_uri": "https://localhost:8080/"
        },
        "outputId": "92558d32-d91e-405b-8ba4-19c8899360a6"
      },
      "source": [
        "sql = f\"\"\"\n",
        "SELECT C.COUNTRY --국가정보\n",
        "     , SUBSTR(A.ORDERDATE,1,4) AS YEAR\n",
        "     , COUNT(DISTINCT A.CUSTOMERNUMBER) AS BU_1\n",
        "     , COUNT(DISTINCT B.CUSTOMERNUMBER) AS BU_2\n",
        "     , (COUNT(DISTINCT B.CUSTOMERNUMBER) + 0.0)/(COUNT(DISTINCT A.CUSTOMERNUMBER) + 0.0) AS RETENTION_RATE --소수점 변환 위해 0.0 붙임\n",
        "\n",
        "  FROM ORDERS A\n",
        "\n",
        "  LEFT JOIN ORDERS B\n",
        "    ON A.CUSTOMERNUMBER = B.CUSTOMERNUMBER\n",
        "   AND SUBSTR(A.ORDERDATE,1,4)+0 = SUBSTR(B.ORDERDATE,1,4)-1\n",
        "\n",
        "  LEFT JOIN CUSTOMERS C -- 거주정보\n",
        "    ON A.CUSTOMERNUMBER = C.CUSTOMERNUMBER\n",
        " GROUP BY 1,2\n",
        ";\n",
        "\"\"\"\n",
        "sql_result(sql,'4_1국가별RetentionRate')"
      ],
      "execution_count": 53,
      "outputs": [
        {
          "output_type": "stream",
          "name": "stdout",
          "text": [
            "\n",
            "SELECT C.COUNTRY --국가정보\n",
            "     , SUBSTR(A.ORDERDATE,1,4) AS YEAR\n",
            "     , COUNT(DISTINCT A.CUSTOMERNUMBER) AS BU_1\n",
            "     , COUNT(DISTINCT B.CUSTOMERNUMBER) AS BU_2\n",
            "     , (COUNT(DISTINCT B.CUSTOMERNUMBER) + 0.0)/(COUNT(DISTINCT A.CUSTOMERNUMBER) + 0.0) AS RETENTION_RATE --소수점 변환 위해 0.0 붙임\n",
            "\n",
            "  FROM ORDERS A\n",
            "\n",
            "  LEFT JOIN ORDERS B\n",
            "    ON A.CUSTOMERNUMBER = B.CUSTOMERNUMBER\n",
            "   AND SUBSTR(A.ORDERDATE,1,4)+0 = SUBSTR(B.ORDERDATE,1,4)-1\n",
            "\n",
            "  LEFT JOIN CUSTOMERS C -- 거주정보\n",
            "    ON A.CUSTOMERNUMBER = C.CUSTOMERNUMBER\n",
            " GROUP BY 1,2\n",
            ";\n",
            "\n",
            "     country  YEAR  BU_1  BU_2  RETENTION_RATE\n",
            "0  Australia  2003     5     3        0.600000\n",
            "1  Australia  2004     3     2        0.666667\n",
            "2  Australia  2005     4     0        0.000000\n",
            "3    Austria  2003     2     1        0.500000\n",
            "4    Austria  2004     1     1        1.000000\n",
            "5    Austria  2005     2     0        0.000000\n",
            "6    Belgium  2003     1     1        1.000000\n",
            "7    Belgium  2004     2     2        1.000000\n",
            "8    Belgium  2005     2     0        0.000000\n",
            "9     Canada  2003     2     2        1.000000\n",
            "./result/5w/4_1국가별RetentionRate.csv\n"
          ]
        }
      ]
    },
    {
      "cell_type": "markdown",
      "metadata": {
        "id": "tVhPfAuoPcDd"
      },
      "source": [
        "# 5.Best Seller (실시간)"
      ]
    },
    {
      "cell_type": "markdown",
      "metadata": {
        "id": "9_W5f3btj1CP"
      },
      "source": [
        "미국의 연도별 매출 Top5 차량 모델 추출\n",
        "<br>4개의 테이블의 데이터를 결합하여 추출함"
      ]
    },
    {
      "cell_type": "markdown",
      "metadata": {
        "id": "Rs7NrLorj12U"
      },
      "source": [
        "*   미국 정보 : Customers\n",
        "*   판매 정보 : Orders\n",
        "*   매출 정보 : OrderDetails\n",
        "*   차량 정보 : Products\n"
      ]
    },
    {
      "cell_type": "code",
      "metadata": {
        "id": "3XZKNHcxywky",
        "colab": {
          "base_uri": "https://localhost:8080/"
        },
        "outputId": "9b619e16-3911-4beb-ce8f-a91d59671ec5"
      },
      "source": [
        "sql = f\"\"\"\n",
        "DROP TABLE IF EXISTS PRODUCT_SALES;\n",
        "\"\"\"\n",
        "conn.execute(sql)"
      ],
      "execution_count": 54,
      "outputs": [
        {
          "output_type": "execute_result",
          "data": {
            "text/plain": [
              "<sqlite3.Cursor at 0x7fe95c463a40>"
            ]
          },
          "metadata": {},
          "execution_count": 54
        }
      ]
    },
    {
      "cell_type": "code",
      "metadata": {
        "id": "KnSFez21QXBK",
        "colab": {
          "base_uri": "https://localhost:8080/"
        },
        "outputId": "53aabe8c-82b0-48c0-c6d5-48f078d04fb9"
      },
      "source": [
        "sql = f\"\"\"\n",
        "CREATE TABLE PRODUCT_SALES AS\n",
        "SELECT D.PRODUCTNAME\n",
        "     , SUM(QUANTITYORDERED*PRICEEACH) AS SALES\n",
        "\n",
        "  FROM ORDERS A\n",
        "\n",
        "  LEFT JOIN CUSTOMERS B\n",
        "    ON A.CUSTOMERNUMBER = B.CUSTOMERNUMBER\n",
        "\n",
        "  LEFT JOIN ORDERDETAILS C\n",
        "    ON A.ORDERNUMBER = C.ORDERNUMBER\n",
        "\n",
        "  LEFT JOIN PRODUCTS D\n",
        "    ON C.PRODUCTCODE = D.PRODUCTCODE\n",
        "    \n",
        " WHERE B.COUNTRY = 'USA'\n",
        " GROUP BY 1\n",
        ";\n",
        "\"\"\"\n",
        "conn.execute(sql)"
      ],
      "execution_count": 55,
      "outputs": [
        {
          "output_type": "execute_result",
          "data": {
            "text/plain": [
              "<sqlite3.Cursor at 0x7fe95bddf8f0>"
            ]
          },
          "metadata": {},
          "execution_count": 55
        }
      ]
    },
    {
      "cell_type": "code",
      "metadata": {
        "id": "MjlDsEBvQVNH",
        "colab": {
          "base_uri": "https://localhost:8080/",
          "height": 809
        },
        "outputId": "0b41c90d-8525-49ae-81d0-fd85ed7c5719"
      },
      "source": [
        "sql = f\"\"\"\n",
        "SELECT A.*\n",
        "  FROM (\n",
        "SELECT *\n",
        "     , ROW_NUMBER() OVER(ORDER BY SALES DESC) RNK\n",
        "  FROM PRODUCT_SALES\n",
        "     ) A\n",
        " WHERE A.RNK <=5\n",
        " ORDER BY A.RNK\n",
        ";\n",
        "\"\"\"\n",
        "sql_result(sql,'6_0ChurnRate')"
      ],
      "execution_count": 56,
      "outputs": [
        {
          "output_type": "stream",
          "name": "stdout",
          "text": [
            "\n",
            "SELECT A.*\n",
            "  FROM (\n",
            "SELECT *\n",
            "     , ROW_NUMBER() OVER(ORDER BY SALES DESC) RNK\n",
            "  FROM PRODUCT_SALES\n",
            "     ) A\n",
            " WHERE A.RNK <=5\n",
            " ORDER BY A.RNK\n",
            ";\n",
            "\n"
          ]
        },
        {
          "output_type": "error",
          "ename": "DatabaseError",
          "evalue": "ignored",
          "traceback": [
            "\u001b[0;31m---------------------------------------------------------------------------\u001b[0m",
            "\u001b[0;31mOperationalError\u001b[0m                          Traceback (most recent call last)",
            "\u001b[0;32m/usr/local/lib/python3.7/dist-packages/pandas/io/sql.py\u001b[0m in \u001b[0;36mexecute\u001b[0;34m(self, *args, **kwargs)\u001b[0m\n\u001b[1;32m   1680\u001b[0m         \u001b[0;32mtry\u001b[0m\u001b[0;34m:\u001b[0m\u001b[0;34m\u001b[0m\u001b[0;34m\u001b[0m\u001b[0m\n\u001b[0;32m-> 1681\u001b[0;31m             \u001b[0mcur\u001b[0m\u001b[0;34m.\u001b[0m\u001b[0mexecute\u001b[0m\u001b[0;34m(\u001b[0m\u001b[0;34m*\u001b[0m\u001b[0margs\u001b[0m\u001b[0;34m,\u001b[0m \u001b[0;34m**\u001b[0m\u001b[0mkwargs\u001b[0m\u001b[0;34m)\u001b[0m\u001b[0;34m\u001b[0m\u001b[0;34m\u001b[0m\u001b[0m\n\u001b[0m\u001b[1;32m   1682\u001b[0m             \u001b[0;32mreturn\u001b[0m \u001b[0mcur\u001b[0m\u001b[0;34m\u001b[0m\u001b[0;34m\u001b[0m\u001b[0m\n",
            "\u001b[0;31mOperationalError\u001b[0m: near \"(\": syntax error",
            "\nThe above exception was the direct cause of the following exception:\n",
            "\u001b[0;31mDatabaseError\u001b[0m                             Traceback (most recent call last)",
            "\u001b[0;32m<ipython-input-56-9945d3afcab7>\u001b[0m in \u001b[0;36m<module>\u001b[0;34m()\u001b[0m\n\u001b[1;32m     10\u001b[0m \u001b[0;34m;\u001b[0m\u001b[0;34m\u001b[0m\u001b[0;34m\u001b[0m\u001b[0m\n\u001b[1;32m     11\u001b[0m \"\"\"\n\u001b[0;32m---> 12\u001b[0;31m \u001b[0msql_result\u001b[0m\u001b[0;34m(\u001b[0m\u001b[0msql\u001b[0m\u001b[0;34m,\u001b[0m\u001b[0;34m'6_0ChurnRate'\u001b[0m\u001b[0;34m)\u001b[0m\u001b[0;34m\u001b[0m\u001b[0;34m\u001b[0m\u001b[0m\n\u001b[0m",
            "\u001b[0;32m<ipython-input-13-ffa25f9b7dfd>\u001b[0m in \u001b[0;36msql_result\u001b[0;34m(sql, file)\u001b[0m\n\u001b[1;32m      1\u001b[0m \u001b[0;32mdef\u001b[0m \u001b[0msql_result\u001b[0m\u001b[0;34m(\u001b[0m\u001b[0msql\u001b[0m\u001b[0;34m,\u001b[0m\u001b[0mfile\u001b[0m\u001b[0;34m)\u001b[0m\u001b[0;34m:\u001b[0m\u001b[0;34m\u001b[0m\u001b[0;34m\u001b[0m\u001b[0m\n\u001b[1;32m      2\u001b[0m   \u001b[0mprint\u001b[0m\u001b[0;34m(\u001b[0m\u001b[0msql\u001b[0m\u001b[0;34m)\u001b[0m\u001b[0;34m\u001b[0m\u001b[0;34m\u001b[0m\u001b[0m\n\u001b[0;32m----> 3\u001b[0;31m   \u001b[0mdf\u001b[0m \u001b[0;34m=\u001b[0m \u001b[0mpd\u001b[0m\u001b[0;34m.\u001b[0m\u001b[0mread_sql\u001b[0m\u001b[0;34m(\u001b[0m\u001b[0msql\u001b[0m\u001b[0;34m,\u001b[0m \u001b[0mconn\u001b[0m\u001b[0;34m,\u001b[0m \u001b[0mindex_col\u001b[0m\u001b[0;34m=\u001b[0m\u001b[0;32mNone\u001b[0m\u001b[0;34m)\u001b[0m\u001b[0;34m\u001b[0m\u001b[0;34m\u001b[0m\u001b[0m\n\u001b[0m\u001b[1;32m      4\u001b[0m   \u001b[0mprint\u001b[0m\u001b[0;34m(\u001b[0m\u001b[0mdf\u001b[0m\u001b[0;34m.\u001b[0m\u001b[0mhead\u001b[0m\u001b[0;34m(\u001b[0m\u001b[0;36m10\u001b[0m\u001b[0;34m)\u001b[0m\u001b[0;34m)\u001b[0m\u001b[0;34m\u001b[0m\u001b[0;34m\u001b[0m\u001b[0m\n\u001b[1;32m      5\u001b[0m   \u001b[0mfile_name\u001b[0m \u001b[0;34m=\u001b[0m \u001b[0;34m'./result/5w/'\u001b[0m \u001b[0;34m+\u001b[0m \u001b[0mfile\u001b[0m \u001b[0;34m+\u001b[0m \u001b[0;34m'.csv'\u001b[0m\u001b[0;34m\u001b[0m\u001b[0;34m\u001b[0m\u001b[0m\n",
            "\u001b[0;32m/usr/local/lib/python3.7/dist-packages/pandas/io/sql.py\u001b[0m in \u001b[0;36mread_sql\u001b[0;34m(sql, con, index_col, coerce_float, params, parse_dates, columns, chunksize)\u001b[0m\n\u001b[1;32m    487\u001b[0m             \u001b[0mcoerce_float\u001b[0m\u001b[0;34m=\u001b[0m\u001b[0mcoerce_float\u001b[0m\u001b[0;34m,\u001b[0m\u001b[0;34m\u001b[0m\u001b[0;34m\u001b[0m\u001b[0m\n\u001b[1;32m    488\u001b[0m             \u001b[0mparse_dates\u001b[0m\u001b[0;34m=\u001b[0m\u001b[0mparse_dates\u001b[0m\u001b[0;34m,\u001b[0m\u001b[0;34m\u001b[0m\u001b[0;34m\u001b[0m\u001b[0m\n\u001b[0;32m--> 489\u001b[0;31m             \u001b[0mchunksize\u001b[0m\u001b[0;34m=\u001b[0m\u001b[0mchunksize\u001b[0m\u001b[0;34m,\u001b[0m\u001b[0;34m\u001b[0m\u001b[0;34m\u001b[0m\u001b[0m\n\u001b[0m\u001b[1;32m    490\u001b[0m         )\n\u001b[1;32m    491\u001b[0m \u001b[0;34m\u001b[0m\u001b[0m\n",
            "\u001b[0;32m/usr/local/lib/python3.7/dist-packages/pandas/io/sql.py\u001b[0m in \u001b[0;36mread_query\u001b[0;34m(self, sql, index_col, coerce_float, params, parse_dates, chunksize)\u001b[0m\n\u001b[1;32m   1725\u001b[0m \u001b[0;34m\u001b[0m\u001b[0m\n\u001b[1;32m   1726\u001b[0m         \u001b[0margs\u001b[0m \u001b[0;34m=\u001b[0m \u001b[0m_convert_params\u001b[0m\u001b[0;34m(\u001b[0m\u001b[0msql\u001b[0m\u001b[0;34m,\u001b[0m \u001b[0mparams\u001b[0m\u001b[0;34m)\u001b[0m\u001b[0;34m\u001b[0m\u001b[0;34m\u001b[0m\u001b[0m\n\u001b[0;32m-> 1727\u001b[0;31m         \u001b[0mcursor\u001b[0m \u001b[0;34m=\u001b[0m \u001b[0mself\u001b[0m\u001b[0;34m.\u001b[0m\u001b[0mexecute\u001b[0m\u001b[0;34m(\u001b[0m\u001b[0;34m*\u001b[0m\u001b[0margs\u001b[0m\u001b[0;34m)\u001b[0m\u001b[0;34m\u001b[0m\u001b[0;34m\u001b[0m\u001b[0m\n\u001b[0m\u001b[1;32m   1728\u001b[0m         \u001b[0mcolumns\u001b[0m \u001b[0;34m=\u001b[0m \u001b[0;34m[\u001b[0m\u001b[0mcol_desc\u001b[0m\u001b[0;34m[\u001b[0m\u001b[0;36m0\u001b[0m\u001b[0;34m]\u001b[0m \u001b[0;32mfor\u001b[0m \u001b[0mcol_desc\u001b[0m \u001b[0;32min\u001b[0m \u001b[0mcursor\u001b[0m\u001b[0;34m.\u001b[0m\u001b[0mdescription\u001b[0m\u001b[0;34m]\u001b[0m\u001b[0;34m\u001b[0m\u001b[0;34m\u001b[0m\u001b[0m\n\u001b[1;32m   1729\u001b[0m \u001b[0;34m\u001b[0m\u001b[0m\n",
            "\u001b[0;32m/usr/local/lib/python3.7/dist-packages/pandas/io/sql.py\u001b[0m in \u001b[0;36mexecute\u001b[0;34m(self, *args, **kwargs)\u001b[0m\n\u001b[1;32m   1691\u001b[0m \u001b[0;34m\u001b[0m\u001b[0m\n\u001b[1;32m   1692\u001b[0m             \u001b[0mex\u001b[0m \u001b[0;34m=\u001b[0m \u001b[0mDatabaseError\u001b[0m\u001b[0;34m(\u001b[0m\u001b[0;34mf\"Execution failed on sql '{args[0]}': {exc}\"\u001b[0m\u001b[0;34m)\u001b[0m\u001b[0;34m\u001b[0m\u001b[0;34m\u001b[0m\u001b[0m\n\u001b[0;32m-> 1693\u001b[0;31m             \u001b[0;32mraise\u001b[0m \u001b[0mex\u001b[0m \u001b[0;32mfrom\u001b[0m \u001b[0mexc\u001b[0m\u001b[0;34m\u001b[0m\u001b[0;34m\u001b[0m\u001b[0m\n\u001b[0m\u001b[1;32m   1694\u001b[0m \u001b[0;34m\u001b[0m\u001b[0m\n\u001b[1;32m   1695\u001b[0m     \u001b[0;34m@\u001b[0m\u001b[0mstaticmethod\u001b[0m\u001b[0;34m\u001b[0m\u001b[0;34m\u001b[0m\u001b[0m\n",
            "\u001b[0;31mDatabaseError\u001b[0m: Execution failed on sql '\nSELECT A.*\n  FROM (\nSELECT *\n     , ROW_NUMBER() OVER(ORDER BY SALES DESC) RNK\n  FROM PRODUCT_SALES\n     ) A\n WHERE A.RNK <=5\n ORDER BY A.RNK\n;\n': near \"(\": syntax error"
          ]
        }
      ]
    },
    {
      "cell_type": "markdown",
      "metadata": {
        "id": "qHbvw-M_PcA9"
      },
      "source": [
        "# 6.Churn Rate(%) (실시간)"
      ]
    },
    {
      "cell_type": "markdown",
      "metadata": {
        "id": "WSWSNqT7kGFG"
      },
      "source": [
        "*   Churn Rate: 활동 고객 중 얼마나 많은 고객이 비활동 고객으로 전환되었는지를 의미하는 지표\n",
        "*   기업들은 광고, 프로모션 등을 통해 신규 고객을 유치하는 데 생각보다 큰  Acquisition Cost을 사용함\n",
        "*   한 번 획득한 고객을 Active로 유지하는 것은 굉장히 중요함"
      ]
    },
    {
      "cell_type": "markdown",
      "metadata": {
        "id": "Lao1TC3Ekguz"
      },
      "source": [
        "[Churn Rate정의]\n",
        "*   Churn Rate를 구하기 전에 Churn에 대한 정의가 필요함\n",
        "*   Churn: max(구매일, 접속일) 이후 일정 기간(ex.3개월) 구매, 접속하지 않은 상태\n",
        "*   마지막 구매, 접속일이 현재 시점 기준으로 3개월 이상 지난 고객을 의미함\n",
        "*   전체 고객 중에 Churn에 해당하는 고객의 비중을 Churn Rate(%)라고 함"
      ]
    },
    {
      "cell_type": "markdown",
      "metadata": {
        "id": "cDDMjp4gPb-h"
      },
      "source": [
        "## 1)Churn Rate(%) 구하기"
      ]
    },
    {
      "cell_type": "markdown",
      "metadata": {
        "id": "-efa9B6OlkNk"
      },
      "source": [
        "*   STEP1 : orders 테이블에서 마지막 구매일을 확인함"
      ]
    },
    {
      "cell_type": "code",
      "metadata": {
        "id": "f9FuTBd9QMt-",
        "colab": {
          "base_uri": "https://localhost:8080/",
          "height": 80
        },
        "outputId": "e22534be-aad3-42a0-b5bf-64a19d0494d5"
      },
      "source": [
        "sql = f\"\"\"\n",
        "SELECT MAX(ORDERDATE) AS MX_ORDER\n",
        "  FROM ORDERS;\n",
        "\"\"\"\n",
        "df = pd.read_sql(sql, conn, index_col=None)\n",
        "df.head(10)"
      ],
      "execution_count": 57,
      "outputs": [
        {
          "output_type": "execute_result",
          "data": {
            "text/html": [
              "<div>\n",
              "<style scoped>\n",
              "    .dataframe tbody tr th:only-of-type {\n",
              "        vertical-align: middle;\n",
              "    }\n",
              "\n",
              "    .dataframe tbody tr th {\n",
              "        vertical-align: top;\n",
              "    }\n",
              "\n",
              "    .dataframe thead th {\n",
              "        text-align: right;\n",
              "    }\n",
              "</style>\n",
              "<table border=\"1\" class=\"dataframe\">\n",
              "  <thead>\n",
              "    <tr style=\"text-align: right;\">\n",
              "      <th></th>\n",
              "      <th>MX_ORDER</th>\n",
              "    </tr>\n",
              "  </thead>\n",
              "  <tbody>\n",
              "    <tr>\n",
              "      <th>0</th>\n",
              "      <td>2005-05-31</td>\n",
              "    </tr>\n",
              "  </tbody>\n",
              "</table>\n",
              "</div>"
            ],
            "text/plain": [
              "     MX_ORDER\n",
              "0  2005-05-31"
            ]
          },
          "metadata": {},
          "execution_count": 57
        }
      ]
    },
    {
      "cell_type": "markdown",
      "metadata": {
        "id": "F63zERMvl7X1"
      },
      "source": [
        "*   STEP2 : 각 고객의 마지막 구매일이 며칠 소요되었는지 산출함"
      ]
    },
    {
      "cell_type": "code",
      "metadata": {
        "id": "2TwbPLtSQMl1",
        "colab": {
          "base_uri": "https://localhost:8080/"
        },
        "outputId": "cfe09bb8-71ab-4c8b-e155-75ff450512aa"
      },
      "source": [
        "sql = f\"\"\"\n",
        "SELECT CUSTOMERNUMBER\n",
        "     , MAX(ORDERDATE) MX_ORDER\n",
        "  FROM ORDERS\n",
        " GROUP BY 1;\n",
        "\"\"\"\n",
        "sql_result(sql,'6_1_2ChurnRate')"
      ],
      "execution_count": 58,
      "outputs": [
        {
          "output_type": "stream",
          "name": "stdout",
          "text": [
            "\n",
            "SELECT CUSTOMERNUMBER\n",
            "     , MAX(ORDERDATE) MX_ORDER\n",
            "  FROM ORDERS\n",
            " GROUP BY 1;\n",
            "\n",
            "   customerNumber    MX_ORDER\n",
            "0             103  2004-11-25\n",
            "1             112  2004-11-29\n",
            "2             114  2004-11-29\n",
            "3             119  2005-05-31\n",
            "4             121  2004-11-05\n",
            "5             124  2005-05-29\n",
            "6             128  2004-11-05\n",
            "7             129  2004-11-18\n",
            "8             131  2004-11-15\n",
            "9             141  2005-05-31\n",
            "./result/5w/6_1_2ChurnRate.csv\n"
          ]
        }
      ]
    },
    {
      "cell_type": "markdown",
      "metadata": {
        "id": "BNj7RSfvmFBR"
      },
      "source": [
        "*   STEP3 : 2005-06-01 기준으로 며칠이 소요되었는지 계산함\n",
        "*   날짜 차이 계산은 JulianDay('yyyy-mm-dd') - JulianDay('yyyy-mm-dd') 함수를 사용함"
      ]
    },
    {
      "cell_type": "code",
      "metadata": {
        "id": "apb6PEhQQMdP",
        "colab": {
          "base_uri": "https://localhost:8080/"
        },
        "outputId": "7b29b17a-e503-4dd4-a011-938484afbe47"
      },
      "source": [
        "sql = f\"\"\"\n",
        "SELECT CUSTOMERNUMBER\n",
        "     , '2005-06-01' AS END_POINT\n",
        "     , MX_ORDER\n",
        "     , JulianDay('2005-06-01') - JulianDay(MX_ORDER) AS DIFF\n",
        "  FROM (\n",
        "SELECT CUSTOMERNUMBER\n",
        "     , MAX(ORDERDATE) MX_ORDER\n",
        "  FROM ORDERS\n",
        " GROUP BY 1\n",
        "     ) BASE\n",
        ";\n",
        "\"\"\"\n",
        "sql_result(sql,'6_1_3ChurnRate')"
      ],
      "execution_count": 59,
      "outputs": [
        {
          "output_type": "stream",
          "name": "stdout",
          "text": [
            "\n",
            "SELECT CUSTOMERNUMBER\n",
            "     , '2005-06-01' AS END_POINT\n",
            "     , MX_ORDER\n",
            "     , JulianDay('2005-06-01') - JulianDay(MX_ORDER) AS DIFF\n",
            "  FROM (\n",
            "SELECT CUSTOMERNUMBER\n",
            "     , MAX(ORDERDATE) MX_ORDER\n",
            "  FROM ORDERS\n",
            " GROUP BY 1\n",
            "     ) BASE\n",
            ";\n",
            "\n",
            "   CUSTOMERNUMBER   END_POINT    MX_ORDER   DIFF\n",
            "0             103  2005-06-01  2004-11-25  188.0\n",
            "1             112  2005-06-01  2004-11-29  184.0\n",
            "2             114  2005-06-01  2004-11-29  184.0\n",
            "3             119  2005-06-01  2005-05-31    1.0\n",
            "4             121  2005-06-01  2004-11-05  208.0\n",
            "5             124  2005-06-01  2005-05-29    3.0\n",
            "6             128  2005-06-01  2004-11-05  208.0\n",
            "7             129  2005-06-01  2004-11-18  195.0\n",
            "8             131  2005-06-01  2004-11-15  198.0\n",
            "9             141  2005-06-01  2005-05-31    1.0\n",
            "./result/5w/6_1_3ChurnRate.csv\n"
          ]
        }
      ]
    },
    {
      "cell_type": "markdown",
      "metadata": {
        "id": "AF3_CeuMmil2"
      },
      "source": [
        "*   DIFF(날짜 차이)는 MX_ORDER와 END_POINT의 차이를 나타냄\n",
        "*   STEP4 : DIFF가 90일 이상인 경우를 Churn이라 가정함"
      ]
    },
    {
      "cell_type": "code",
      "metadata": {
        "id": "MkrFgVO9QMVr",
        "colab": {
          "base_uri": "https://localhost:8080/"
        },
        "outputId": "f2951f91-013b-4ca6-dc65-7e458a0677d3"
      },
      "source": [
        "sql = f\"\"\"\n",
        "SELECT *\n",
        "     , CASE WHEN DIFF >= 90 THEN 'CHURN' ELSE 'NON-CHURN' END AS CHURN_TYPE\n",
        "  FROM (\n",
        "SELECT CUSTOMERNUMBER\n",
        "     , MX_ORDER\n",
        "     , '2005-06-01' AS END_POINT\n",
        "     , JulianDay('2005-06-01') - JulianDay(MX_ORDER) AS DIFF\n",
        "  FROM (\n",
        "SELECT CUSTOMERNUMBER\n",
        "     , MAX(ORDERDATE) AS MX_ORDER\n",
        "  FROM ORDERS\n",
        " GROUP BY 1\n",
        "     ) BASE\n",
        "     ) BASE\n",
        ";\n",
        "\"\"\"\n",
        "sql_result(sql,'6_1_4ChurnRate')"
      ],
      "execution_count": 60,
      "outputs": [
        {
          "output_type": "stream",
          "name": "stdout",
          "text": [
            "\n",
            "SELECT *\n",
            "     , CASE WHEN DIFF >= 90 THEN 'CHURN' ELSE 'NON-CHURN' END AS CHURN_TYPE\n",
            "  FROM (\n",
            "SELECT CUSTOMERNUMBER\n",
            "     , MX_ORDER\n",
            "     , '2005-06-01' AS END_POINT\n",
            "     , JulianDay('2005-06-01') - JulianDay(MX_ORDER) AS DIFF\n",
            "  FROM (\n",
            "SELECT CUSTOMERNUMBER\n",
            "     , MAX(ORDERDATE) AS MX_ORDER\n",
            "  FROM ORDERS\n",
            " GROUP BY 1\n",
            "     ) BASE\n",
            "     ) BASE\n",
            ";\n",
            "\n",
            "   CUSTOMERNUMBER    MX_ORDER   END_POINT   DIFF CHURN_TYPE\n",
            "0             103  2004-11-25  2005-06-01  188.0      CHURN\n",
            "1             112  2004-11-29  2005-06-01  184.0      CHURN\n",
            "2             114  2004-11-29  2005-06-01  184.0      CHURN\n",
            "3             119  2005-05-31  2005-06-01    1.0  NON-CHURN\n",
            "4             121  2004-11-05  2005-06-01  208.0      CHURN\n",
            "5             124  2005-05-29  2005-06-01    3.0  NON-CHURN\n",
            "6             128  2004-11-05  2005-06-01  208.0      CHURN\n",
            "7             129  2004-11-18  2005-06-01  195.0      CHURN\n",
            "8             131  2004-11-15  2005-06-01  198.0      CHURN\n",
            "9             141  2005-05-31  2005-06-01    1.0  NON-CHURN\n",
            "./result/5w/6_1_4ChurnRate.csv\n"
          ]
        }
      ]
    },
    {
      "cell_type": "markdown",
      "metadata": {
        "id": "lO5TuubhnGz8"
      },
      "source": [
        "*   STEP5 : DIFF가 90이상이면 CHURN, 그렇지 않은 경우는 NON-CHURN으로 구분한 결과를 가지고 CHURN RATE(%)를 산출함"
      ]
    },
    {
      "cell_type": "markdown",
      "metadata": {
        "id": "rzjpecFenZyE"
      },
      "source": [
        "*   Churn Rate(%) : 69/(69+29) = 0.70408163265로, 약 70%로 나타남"
      ]
    },
    {
      "cell_type": "code",
      "metadata": {
        "id": "fe8EC8gKQMOG",
        "colab": {
          "base_uri": "https://localhost:8080/",
          "height": 110
        },
        "outputId": "280b2f5c-5cab-4f0d-c992-d8e2987eac18"
      },
      "source": [
        "sql = f\"\"\"\n",
        "SELECT CASE WHEN DIFF >= 90 THEN 'CHURN' ELSE 'NON-CHURN' END AS CHURN_TYPE\n",
        "     , COUNT(DISTINCT CUSTOMERNUMBER) AS N_CUS\n",
        "\n",
        "  FROM (\n",
        "SELECT CUSTOMERNUMBER\n",
        "     , MX_ORDER\n",
        "     , '2005-06-01' AS END_POINT\n",
        "     , JulianDay('2005-06-01') - JulianDay(MX_ORDER) AS DIFF\n",
        "\n",
        "  FROM (\n",
        "SELECT CUSTOMERNUMBER\n",
        "     , MAX(ORDERDATE) AS MX_ORDER\n",
        "  FROM ORDERS\n",
        " GROUP BY 1\n",
        "     ) BASE\n",
        "\n",
        "     ) BASE\n",
        " GROUP BY 1\n",
        ";\n",
        "\"\"\"\n",
        "df = pd.read_sql(sql, conn, index_col=None)\n",
        "df.head(10)"
      ],
      "execution_count": 61,
      "outputs": [
        {
          "output_type": "execute_result",
          "data": {
            "text/html": [
              "<div>\n",
              "<style scoped>\n",
              "    .dataframe tbody tr th:only-of-type {\n",
              "        vertical-align: middle;\n",
              "    }\n",
              "\n",
              "    .dataframe tbody tr th {\n",
              "        vertical-align: top;\n",
              "    }\n",
              "\n",
              "    .dataframe thead th {\n",
              "        text-align: right;\n",
              "    }\n",
              "</style>\n",
              "<table border=\"1\" class=\"dataframe\">\n",
              "  <thead>\n",
              "    <tr style=\"text-align: right;\">\n",
              "      <th></th>\n",
              "      <th>CHURN_TYPE</th>\n",
              "      <th>N_CUS</th>\n",
              "    </tr>\n",
              "  </thead>\n",
              "  <tbody>\n",
              "    <tr>\n",
              "      <th>0</th>\n",
              "      <td>CHURN</td>\n",
              "      <td>69</td>\n",
              "    </tr>\n",
              "    <tr>\n",
              "      <th>1</th>\n",
              "      <td>NON-CHURN</td>\n",
              "      <td>29</td>\n",
              "    </tr>\n",
              "  </tbody>\n",
              "</table>\n",
              "</div>"
            ],
            "text/plain": [
              "  CHURN_TYPE  N_CUS\n",
              "0      CHURN     69\n",
              "1  NON-CHURN     29"
            ]
          },
          "metadata": {},
          "execution_count": 61
        }
      ]
    },
    {
      "cell_type": "markdown",
      "metadata": {
        "id": "0Mknoa2FPb73"
      },
      "source": [
        "## 2) Churn 고객이 가장 많이 구매한 Productline"
      ]
    },
    {
      "cell_type": "markdown",
      "metadata": {
        "id": "3FzrnMwbnnOu"
      },
      "source": [
        "*   Churn 고객의 특성을 파악함\n",
        "*   Churn 고객은 어떤 카테고리의 상품을 많이 구매했는지 파악함"
      ]
    },
    {
      "cell_type": "markdown",
      "metadata": {
        "id": "T1bAtCDcpWF6"
      },
      "source": [
        "*   STEP1 : 고객별 Churn Table을 생성함"
      ]
    },
    {
      "cell_type": "code",
      "metadata": {
        "id": "1w2J7ec6y3zz",
        "colab": {
          "base_uri": "https://localhost:8080/"
        },
        "outputId": "b08420cc-9a92-42a6-a2e2-4ad2f024c8f4"
      },
      "source": [
        "sql = f\"\"\"\n",
        "DROP TABLE IF EXISTS CHURN_LIST;\n",
        "\"\"\"\n",
        "conn.execute(sql)"
      ],
      "execution_count": 62,
      "outputs": [
        {
          "output_type": "execute_result",
          "data": {
            "text/plain": [
              "<sqlite3.Cursor at 0x7fe95acb6f80>"
            ]
          },
          "metadata": {},
          "execution_count": 62
        }
      ]
    },
    {
      "cell_type": "code",
      "metadata": {
        "id": "J5y-dql-P-QN",
        "colab": {
          "base_uri": "https://localhost:8080/"
        },
        "outputId": "b87437aa-e6af-4b27-ff65-8a4a4c72016b"
      },
      "source": [
        "sql = f\"\"\"\n",
        "CREATE TABLE CHURN_LIST AS\n",
        "\n",
        "SELECT CASE WHEN DIFF >= 90 THEN 'CHURN' ELSE 'NON-CHURN' END CHURN_TYPE\n",
        "     , CUSTOMERNUMBER\n",
        "\n",
        "  FROM (\n",
        "SELECT CUSTOMERNUMBER\n",
        "     , MX_ORDER\n",
        "     , '2005-06-01' END_POINT\n",
        "     , JulianDay('2005-06-01') - JulianDay(MX_ORDER) AS DIFF\n",
        "\n",
        "  FROM (\n",
        "SELECT CUSTOMERNUMBER\n",
        "     , MAX(ORDERDATE) AS MX_ORDER\n",
        "  FROM ORDERS\n",
        " GROUP BY 1\n",
        "     ) BASE\n",
        "\n",
        "     ) BASE\n",
        ";\n",
        "\"\"\"\n",
        "conn.execute(sql)"
      ],
      "execution_count": 63,
      "outputs": [
        {
          "output_type": "execute_result",
          "data": {
            "text/plain": [
              "<sqlite3.Cursor at 0x7fe95bdf9340>"
            ]
          },
          "metadata": {},
          "execution_count": 63
        }
      ]
    },
    {
      "cell_type": "markdown",
      "metadata": {
        "id": "SvfwdGGyppOm"
      },
      "source": [
        "*   STEP2 : ②ORDERDETAILS - ORDERS - PRODUCTS를 결합해 ①PRODUCTLINE별 구매자 수 산출함\n",
        "*   ①PRODUCTLINE별 구매자수는 아래와 같이 산출함\n",
        "\n"
      ]
    },
    {
      "cell_type": "code",
      "metadata": {
        "id": "TU2uBTiWP-Jr",
        "colab": {
          "base_uri": "https://localhost:8080/"
        },
        "outputId": "be17b96f-21d3-4a8d-86d6-26d887273208"
      },
      "source": [
        "sql = f\"\"\"\n",
        "SELECT C.PRODUCTLINE\n",
        "     , COUNT(DISTINCT B.CUSTOMERNUMBER) AS BU\n",
        "  FROM ORDERDETAILS A\n",
        "  LEFT JOIN ORDERS B\n",
        "    ON A.ORDERNUMBER = B.ORDERNUMBER\n",
        "  LEFT JOIN PRODUCTS C\n",
        "    ON A.PRODUCTCODE = C.PRODUCTCODE\n",
        " GROUP BY 1\n",
        ";\n",
        "\"\"\"\n",
        "sql_result(sql,'6_2_2ChurnRate구매제품')"
      ],
      "execution_count": 64,
      "outputs": [
        {
          "output_type": "stream",
          "name": "stdout",
          "text": [
            "\n",
            "SELECT C.PRODUCTLINE\n",
            "     , COUNT(DISTINCT B.CUSTOMERNUMBER) AS BU\n",
            "  FROM ORDERDETAILS A\n",
            "  LEFT JOIN ORDERS B\n",
            "    ON A.ORDERNUMBER = B.ORDERNUMBER\n",
            "  LEFT JOIN PRODUCTS C\n",
            "    ON A.PRODUCTCODE = C.PRODUCTCODE\n",
            " GROUP BY 1\n",
            ";\n",
            "\n",
            "        productLine  BU\n",
            "0      Classic Cars  94\n",
            "1       Motorcycles  55\n",
            "2            Planes  52\n",
            "3             Ships  51\n",
            "4            Trains  36\n",
            "5  Trucks and Buses  50\n",
            "6      Vintage Cars  90\n",
            "./result/5w/6_2_2ChurnRate구매제품.csv\n"
          ]
        }
      ]
    },
    {
      "cell_type": "markdown",
      "metadata": {
        "id": "bQMCRSQRqLIF"
      },
      "source": [
        "*   ② PRODUCTLINE별 구매자수 결과에 CHURN_LIST를 결합 후 Churn Type으로 데이터를 한번 더 그룹함"
      ]
    },
    {
      "cell_type": "code",
      "metadata": {
        "id": "pcZ0I6z0Paq6",
        "colab": {
          "base_uri": "https://localhost:8080/"
        },
        "outputId": "d41ae858-3d0b-4072-ce75-de22f8202da6"
      },
      "source": [
        "sql = f\"\"\"\n",
        "SELECT D.CHURN_TYPE\n",
        "     , C.PRODUCTLINE\n",
        "     , COUNT(DISTINCT B.CUSTOMERNUMBER) AS BU\n",
        "  FROM ORDERDETAILS A\n",
        "\n",
        "  LEFT JOIN ORDERS B\n",
        "    ON A.ORDERNUMBER = B.ORDERNUMBER\n",
        "\n",
        "  LEFT JOIN PRODUCTS C\n",
        "    ON A.PRODUCTCODE = C.PRODUCTCODE\n",
        "\n",
        "  LEFT JOIN CHURN_LIST D\n",
        "    ON B.CUSTOMERNUMBER = D.CUSTOMERNUMBER\n",
        "    \n",
        " GROUP BY 1,2\n",
        " ORDER BY 1,3 DESC\n",
        ";\n",
        "\"\"\"\n",
        "sql_result(sql,'6_2_3ChurnRate구매제품')"
      ],
      "execution_count": 65,
      "outputs": [
        {
          "output_type": "stream",
          "name": "stdout",
          "text": [
            "\n",
            "SELECT D.CHURN_TYPE\n",
            "     , C.PRODUCTLINE\n",
            "     , COUNT(DISTINCT B.CUSTOMERNUMBER) AS BU\n",
            "  FROM ORDERDETAILS A\n",
            "\n",
            "  LEFT JOIN ORDERS B\n",
            "    ON A.ORDERNUMBER = B.ORDERNUMBER\n",
            "\n",
            "  LEFT JOIN PRODUCTS C\n",
            "    ON A.PRODUCTCODE = C.PRODUCTCODE\n",
            "\n",
            "  LEFT JOIN CHURN_LIST D\n",
            "    ON B.CUSTOMERNUMBER = D.CUSTOMERNUMBER\n",
            "    \n",
            " GROUP BY 1,2\n",
            " ORDER BY 1,3 DESC\n",
            ";\n",
            "\n",
            "  CHURN_TYPE       productLine  BU\n",
            "0      CHURN      Classic Cars  66\n",
            "1      CHURN      Vintage Cars  63\n",
            "2      CHURN  Trucks and Buses  36\n",
            "3      CHURN            Planes  35\n",
            "4      CHURN       Motorcycles  34\n",
            "5      CHURN             Ships  33\n",
            "6      CHURN            Trains  23\n",
            "7  NON-CHURN      Classic Cars  28\n",
            "8  NON-CHURN      Vintage Cars  27\n",
            "9  NON-CHURN       Motorcycles  21\n",
            "./result/5w/6_2_3ChurnRate구매제품.csv\n"
          ]
        }
      ]
    }
  ]
}