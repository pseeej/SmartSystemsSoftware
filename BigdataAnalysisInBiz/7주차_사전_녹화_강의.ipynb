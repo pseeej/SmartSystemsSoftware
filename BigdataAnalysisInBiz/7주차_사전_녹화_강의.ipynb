{
  "nbformat": 4,
  "nbformat_minor": 0,
  "metadata": {
    "colab": {
      "name": "7주차사전녹화강의.ipynb",
      "provenance": [],
      "collapsed_sections": [],
      "toc_visible": true,
      "include_colab_link": true
    },
    "kernelspec": {
      "name": "python3",
      "display_name": "Python 3"
    },
    "language_info": {
      "name": "python"
    }
  },
  "cells": [
    {
      "cell_type": "markdown",
      "metadata": {
        "id": "view-in-github",
        "colab_type": "text"
      },
      "source": [
        "<a href=\"https://colab.research.google.com/github/pseeej/SmartSystemsSoftware/blob/master/BigdataAnalysisInBiz/7%EC%A3%BC%EC%B0%A8_%EC%82%AC%EC%A0%84_%EB%85%B9%ED%99%94_%EA%B0%95%EC%9D%98.ipynb\" target=\"_parent\"><img src=\"https://colab.research.google.com/assets/colab-badge.svg\" alt=\"Open In Colab\"/></a>"
      ]
    },
    {
      "cell_type": "markdown",
      "metadata": {
        "id": "AGC5j0NaT0i_"
      },
      "source": [
        "교재 : SQL로 맛보는 데이터 전처리 분석, 노수영"
      ]
    },
    {
      "cell_type": "markdown",
      "metadata": {
        "id": "jk98ESXE6NvU"
      },
      "source": [
        "**실습 참고자료**\n",
        "\n",
        "https://www.sqlitetutorial.net/\n",
        "<br>https://www.w3schools.com/sql/default.asp"
      ]
    },
    {
      "cell_type": "markdown",
      "metadata": {
        "id": "VQEhLZ_nHjtE"
      },
      "source": [
        "#실습환경 셋업"
      ]
    },
    {
      "cell_type": "markdown",
      "metadata": {
        "id": "LDt13fYuxggr"
      },
      "source": [
        "## 1) sqlite 업그레이드"
      ]
    },
    {
      "cell_type": "code",
      "metadata": {
        "id": "CAVeWH8HNS-h",
        "colab": {
          "base_uri": "https://localhost:8080/"
        },
        "outputId": "abff5c96-7549-4dc9-f2eb-2bcee688b348"
      },
      "source": [
        "!apt-get update\n",
        "!apt-get upgrade sqlite3"
      ],
      "execution_count": 1,
      "outputs": [
        {
          "output_type": "stream",
          "name": "stdout",
          "text": [
            "\r0% [Working]\r            \rGet:1 https://cloud.r-project.org/bin/linux/ubuntu bionic-cran40/ InRelease [3,626 B]\n",
            "\r0% [Connecting to archive.ubuntu.com] [Connecting to security.ubuntu.com (91.18\r0% [Connecting to archive.ubuntu.com] [Connecting to security.ubuntu.com (91.18\r0% [1 InRelease gpgv 3,626 B] [Connecting to archive.ubuntu.com] [Connecting to\r                                                                               \rIgn:2 https://developer.download.nvidia.com/compute/cuda/repos/ubuntu1804/x86_64  InRelease\n",
            "Ign:3 https://developer.download.nvidia.com/compute/machine-learning/repos/ubuntu1804/x86_64  InRelease\n",
            "Get:4 http://security.ubuntu.com/ubuntu bionic-security InRelease [88.7 kB]\n",
            "Hit:5 https://developer.download.nvidia.com/compute/cuda/repos/ubuntu1804/x86_64  Release\n",
            "Hit:6 https://developer.download.nvidia.com/compute/machine-learning/repos/ubuntu1804/x86_64  Release\n",
            "Hit:7 http://ppa.launchpad.net/c2d4u.team/c2d4u4.0+/ubuntu bionic InRelease\n",
            "Get:8 https://cloud.r-project.org/bin/linux/ubuntu bionic-cran40/ Packages [69.5 kB]\n",
            "Hit:9 http://archive.ubuntu.com/ubuntu bionic InRelease\n",
            "Hit:11 http://ppa.launchpad.net/cran/libgit2/ubuntu bionic InRelease\n",
            "Get:12 http://archive.ubuntu.com/ubuntu bionic-updates InRelease [88.7 kB]\n",
            "Hit:14 http://ppa.launchpad.net/deadsnakes/ppa/ubuntu bionic InRelease\n",
            "Get:15 http://archive.ubuntu.com/ubuntu bionic-backports InRelease [74.6 kB]\n",
            "Hit:16 http://ppa.launchpad.net/graphics-drivers/ppa/ubuntu bionic InRelease\n",
            "Get:17 http://security.ubuntu.com/ubuntu bionic-security/restricted amd64 Packages [607 kB]\n",
            "Get:18 http://security.ubuntu.com/ubuntu bionic-security/universe amd64 Packages [1,431 kB]\n",
            "Get:19 http://security.ubuntu.com/ubuntu bionic-security/main amd64 Packages [2,367 kB]\n",
            "Get:20 http://archive.ubuntu.com/ubuntu bionic-updates/universe amd64 Packages [2,210 kB]\n",
            "Get:21 http://archive.ubuntu.com/ubuntu bionic-updates/main amd64 Packages [2,803 kB]\n",
            "Get:22 http://archive.ubuntu.com/ubuntu bionic-updates/restricted amd64 Packages [640 kB]\n",
            "Fetched 10.4 MB in 4s (2,964 kB/s)\n",
            "Reading package lists... Done\n",
            "Reading package lists... Done\n",
            "Building dependency tree       \n",
            "Reading state information... Done\n",
            "Calculating upgrade... Done\n",
            "The following NEW packages will be installed:\n",
            "  sqlite3\n",
            "The following packages have been kept back:\n",
            "  libcudnn8 libcudnn8-dev libnccl-dev libnccl2\n",
            "The following packages will be upgraded:\n",
            "  base-files binutils binutils-common binutils-x86-64-linux-gnu\n",
            "  distro-info-data gnupg2 gzip libaudit-common libaudit1 libbinutils libc-bin\n",
            "  libcublas-dev libcublas10 libcudnn7 libcudnn7-dev libgnutls30 libhogweed4\n",
            "  libldap-2.4-2 libldap-common liblz4-1 libnettle6 libp11-kit0 libpam-modules\n",
            "  libpam-modules-bin libpam-runtime libpam0g libsasl2-2 libsasl2-modules-db\n",
            "  libseccomp2 libzstd1 linux-libc-dev openssl r-cran-mgcv tar ubuntu-keyring\n",
            "35 upgraded, 1 newly installed, 0 to remove and 4 not upgraded.\n",
            "Need to get 451 MB of archives.\n",
            "After this operation, 72.2 MB of additional disk space will be used.\n",
            "Get:1 https://developer.download.nvidia.com/compute/cuda/repos/ubuntu1804/x86_64  libcublas10 10.2.3.254-1 [43.1 MB]\n",
            "Get:2 https://cloud.r-project.org/bin/linux/ubuntu bionic-cran40/ r-cran-mgcv 1.8-38-1.1804.0 [2,971 kB]\n",
            "Get:3 http://archive.ubuntu.com/ubuntu bionic-updates/main amd64 base-files amd64 10.1ubuntu2.11 [60.4 kB]\n",
            "Get:4 http://archive.ubuntu.com/ubuntu bionic-updates/main amd64 gzip amd64 1.6-5ubuntu1.1 [89.8 kB]\n",
            "Get:5 http://archive.ubuntu.com/ubuntu bionic-updates/main amd64 tar amd64 1.29b-2ubuntu0.2 [234 kB]\n",
            "Get:6 https://developer.download.nvidia.com/compute/cuda/repos/ubuntu1804/x86_64  libcublas-dev 10.2.3.254-1 [42.4 MB]\n",
            "Get:7 http://archive.ubuntu.com/ubuntu bionic-updates/main amd64 libc-bin amd64 2.27-3ubuntu1.4 [643 kB]\n",
            "Get:8 http://archive.ubuntu.com/ubuntu bionic-updates/main amd64 libaudit-common all 1:2.8.2-1ubuntu1.1 [4,068 B]\n",
            "Get:9 http://archive.ubuntu.com/ubuntu bionic-updates/main amd64 libaudit1 amd64 1:2.8.2-1ubuntu1.1 [38.7 kB]\n",
            "Get:10 http://archive.ubuntu.com/ubuntu bionic-updates/main amd64 libpam0g amd64 1.1.8-3.6ubuntu2.18.04.3 [55.0 kB]\n",
            "Get:11 http://archive.ubuntu.com/ubuntu bionic-updates/main amd64 libpam-modules-bin amd64 1.1.8-3.6ubuntu2.18.04.3 [40.3 kB]\n",
            "Get:12 http://archive.ubuntu.com/ubuntu bionic-updates/main amd64 libpam-modules amd64 1.1.8-3.6ubuntu2.18.04.3 [252 kB]\n",
            "Get:13 http://archive.ubuntu.com/ubuntu bionic-updates/main amd64 liblz4-1 amd64 0.0~r131-2ubuntu3.1 [48.5 kB]\n",
            "Get:14 http://archive.ubuntu.com/ubuntu bionic-updates/main amd64 libpam-runtime all 1.1.8-3.6ubuntu2.18.04.3 [37.1 kB]\n",
            "Get:15 http://archive.ubuntu.com/ubuntu bionic-updates/main amd64 libzstd1 amd64 1.3.3+dfsg-2ubuntu1.2 [189 kB]\n",
            "Get:16 http://archive.ubuntu.com/ubuntu bionic-updates/main amd64 libnettle6 amd64 3.4.1-0ubuntu0.18.04.1 [111 kB]\n",
            "Get:17 http://archive.ubuntu.com/ubuntu bionic-updates/main amd64 libhogweed4 amd64 3.4.1-0ubuntu0.18.04.1 [140 kB]\n",
            "Get:18 http://archive.ubuntu.com/ubuntu bionic-updates/main amd64 libp11-kit0 amd64 0.23.9-2ubuntu0.1 [187 kB]\n",
            "Get:19 http://archive.ubuntu.com/ubuntu bionic-updates/main amd64 libgnutls30 amd64 3.5.18-1ubuntu1.5 [646 kB]\n",
            "Get:20 http://archive.ubuntu.com/ubuntu bionic-updates/main amd64 libseccomp2 amd64 2.5.1-1ubuntu1~18.04.1 [43.1 kB]\n",
            "Get:21 http://archive.ubuntu.com/ubuntu bionic-updates/main amd64 ubuntu-keyring all 2018.09.18.1~18.04.2 [22.3 kB]\n",
            "Get:22 http://archive.ubuntu.com/ubuntu bionic-updates/main amd64 distro-info-data all 0.37ubuntu0.13 [4,656 B]\n",
            "Get:23 http://archive.ubuntu.com/ubuntu bionic-updates/main amd64 openssl amd64 1.1.1-1ubuntu2.1~18.04.13 [614 kB]\n",
            "Get:24 http://archive.ubuntu.com/ubuntu bionic-updates/main amd64 binutils-x86-64-linux-gnu amd64 2.30-21ubuntu1~18.04.5 [1,839 kB]\n",
            "Get:25 http://archive.ubuntu.com/ubuntu bionic-updates/main amd64 binutils-common amd64 2.30-21ubuntu1~18.04.5 [197 kB]\n",
            "Get:26 http://archive.ubuntu.com/ubuntu bionic-updates/main amd64 binutils amd64 2.30-21ubuntu1~18.04.5 [3,388 B]\n",
            "Get:27 http://archive.ubuntu.com/ubuntu bionic-updates/main amd64 libbinutils amd64 2.30-21ubuntu1~18.04.5 [489 kB]\n",
            "Get:28 http://archive.ubuntu.com/ubuntu bionic-updates/main amd64 libsasl2-modules-db amd64 2.1.27~101-g0780600+dfsg-3ubuntu2.3 [15.0 kB]\n",
            "Get:29 http://archive.ubuntu.com/ubuntu bionic-updates/main amd64 libsasl2-2 amd64 2.1.27~101-g0780600+dfsg-3ubuntu2.3 [49.2 kB]\n",
            "Get:30 http://archive.ubuntu.com/ubuntu bionic-updates/main amd64 libldap-common all 2.4.45+dfsg-1ubuntu1.10 [15.8 kB]\n",
            "Get:31 http://archive.ubuntu.com/ubuntu bionic-updates/main amd64 libldap-2.4-2 amd64 2.4.45+dfsg-1ubuntu1.10 [154 kB]\n",
            "Get:32 http://archive.ubuntu.com/ubuntu bionic-updates/main amd64 linux-libc-dev amd64 4.15.0-159.167 [995 kB]\n",
            "Get:33 http://archive.ubuntu.com/ubuntu bionic-updates/main amd64 sqlite3 amd64 3.22.0-1ubuntu0.4 [752 kB]\n",
            "Get:34 https://developer.download.nvidia.com/compute/machine-learning/repos/ubuntu1804/x86_64  libcudnn7-dev 7.6.5.32-1+cuda10.2 [165 MB]\n",
            "Get:35 http://archive.ubuntu.com/ubuntu bionic-updates/universe amd64 gnupg2 all 2.2.4-1ubuntu1.4 [5,292 B]\n",
            "Get:36 https://developer.download.nvidia.com/compute/machine-learning/repos/ubuntu1804/x86_64  libcudnn7 7.6.5.32-1+cuda10.2 [189 MB]\n",
            "Fetched 451 MB in 9s (50.1 MB/s)\n",
            "Extracting templates from packages: 100%\n",
            "Preconfiguring packages ...\n",
            "(Reading database ... 155047 files and directories currently installed.)\n",
            "Preparing to unpack .../base-files_10.1ubuntu2.11_amd64.deb ...\n",
            "Unpacking base-files (10.1ubuntu2.11) over (10.1ubuntu2.10) ...\n",
            "Setting up base-files (10.1ubuntu2.11) ...\n",
            "Installing new version of config file /etc/issue ...\n",
            "Installing new version of config file /etc/issue.net ...\n",
            "Installing new version of config file /etc/lsb-release ...\n",
            "(Reading database ... 155047 files and directories currently installed.)\n",
            "Preparing to unpack .../gzip_1.6-5ubuntu1.1_amd64.deb ...\n",
            "Unpacking gzip (1.6-5ubuntu1.1) over (1.6-5ubuntu1) ...\n",
            "Setting up gzip (1.6-5ubuntu1.1) ...\n",
            "(Reading database ... 155047 files and directories currently installed.)\n",
            "Preparing to unpack .../tar_1.29b-2ubuntu0.2_amd64.deb ...\n",
            "Unpacking tar (1.29b-2ubuntu0.2) over (1.29b-2ubuntu0.1) ...\n",
            "Setting up tar (1.29b-2ubuntu0.2) ...\n",
            "update-alternatives: warning: forcing reinstallation of alternative /usr/sbin/rmt-tar because link group rmt is broken\n",
            "(Reading database ... 155047 files and directories currently installed.)\n",
            "Preparing to unpack .../libc-bin_2.27-3ubuntu1.4_amd64.deb ...\n",
            "Unpacking libc-bin (2.27-3ubuntu1.4) over (2.27-3ubuntu1.3) ...\n",
            "Setting up libc-bin (2.27-3ubuntu1.4) ...\n",
            "/sbin/ldconfig.real: /usr/local/lib/python3.7/dist-packages/ideep4py/lib/libmkldnn.so.0 is not a symbolic link\n",
            "\n",
            "(Reading database ... 155047 files and directories currently installed.)\n",
            "Preparing to unpack .../libaudit-common_1%3a2.8.2-1ubuntu1.1_all.deb ...\n",
            "Unpacking libaudit-common (1:2.8.2-1ubuntu1.1) over (1:2.8.2-1ubuntu1) ...\n",
            "Setting up libaudit-common (1:2.8.2-1ubuntu1.1) ...\n",
            "(Reading database ... 155047 files and directories currently installed.)\n",
            "Preparing to unpack .../libaudit1_1%3a2.8.2-1ubuntu1.1_amd64.deb ...\n",
            "Unpacking libaudit1:amd64 (1:2.8.2-1ubuntu1.1) over (1:2.8.2-1ubuntu1) ...\n",
            "Setting up libaudit1:amd64 (1:2.8.2-1ubuntu1.1) ...\n",
            "(Reading database ... 155047 files and directories currently installed.)\n",
            "Preparing to unpack .../libpam0g_1.1.8-3.6ubuntu2.18.04.3_amd64.deb ...\n",
            "Unpacking libpam0g:amd64 (1.1.8-3.6ubuntu2.18.04.3) over (1.1.8-3.6ubuntu2.18.04.2) ...\n",
            "Setting up libpam0g:amd64 (1.1.8-3.6ubuntu2.18.04.3) ...\n",
            "(Reading database ... 155047 files and directories currently installed.)\n",
            "Preparing to unpack .../libpam-modules-bin_1.1.8-3.6ubuntu2.18.04.3_amd64.deb ...\n",
            "Unpacking libpam-modules-bin (1.1.8-3.6ubuntu2.18.04.3) over (1.1.8-3.6ubuntu2.18.04.2) ...\n",
            "Setting up libpam-modules-bin (1.1.8-3.6ubuntu2.18.04.3) ...\n",
            "(Reading database ... 155049 files and directories currently installed.)\n",
            "Preparing to unpack .../libpam-modules_1.1.8-3.6ubuntu2.18.04.3_amd64.deb ...\n",
            "Unpacking libpam-modules:amd64 (1.1.8-3.6ubuntu2.18.04.3) over (1.1.8-3.6ubuntu2.18.04.2) ...\n",
            "Setting up libpam-modules:amd64 (1.1.8-3.6ubuntu2.18.04.3) ...\n",
            "(Reading database ... 155053 files and directories currently installed.)\n",
            "Preparing to unpack .../liblz4-1_0.0~r131-2ubuntu3.1_amd64.deb ...\n",
            "Unpacking liblz4-1:amd64 (0.0~r131-2ubuntu3.1) over (0.0~r131-2ubuntu3) ...\n",
            "Setting up liblz4-1:amd64 (0.0~r131-2ubuntu3.1) ...\n",
            "(Reading database ... 155053 files and directories currently installed.)\n",
            "Preparing to unpack .../libpam-runtime_1.1.8-3.6ubuntu2.18.04.3_all.deb ...\n",
            "Unpacking libpam-runtime (1.1.8-3.6ubuntu2.18.04.3) over (1.1.8-3.6ubuntu2.18.04.2) ...\n",
            "Setting up libpam-runtime (1.1.8-3.6ubuntu2.18.04.3) ...\n",
            "(Reading database ... 155053 files and directories currently installed.)\n",
            "Preparing to unpack .../libzstd1_1.3.3+dfsg-2ubuntu1.2_amd64.deb ...\n",
            "Unpacking libzstd1:amd64 (1.3.3+dfsg-2ubuntu1.2) over (1.3.3+dfsg-2ubuntu1.1) ...\n",
            "Setting up libzstd1:amd64 (1.3.3+dfsg-2ubuntu1.2) ...\n",
            "(Reading database ... 155053 files and directories currently installed.)\n",
            "Preparing to unpack .../libnettle6_3.4.1-0ubuntu0.18.04.1_amd64.deb ...\n",
            "Unpacking libnettle6:amd64 (3.4.1-0ubuntu0.18.04.1) over (3.4-1) ...\n",
            "Setting up libnettle6:amd64 (3.4.1-0ubuntu0.18.04.1) ...\n",
            "(Reading database ... 155053 files and directories currently installed.)\n",
            "Preparing to unpack .../libhogweed4_3.4.1-0ubuntu0.18.04.1_amd64.deb ...\n",
            "Unpacking libhogweed4:amd64 (3.4.1-0ubuntu0.18.04.1) over (3.4-1) ...\n",
            "Setting up libhogweed4:amd64 (3.4.1-0ubuntu0.18.04.1) ...\n",
            "(Reading database ... 155053 files and directories currently installed.)\n",
            "Preparing to unpack .../libp11-kit0_0.23.9-2ubuntu0.1_amd64.deb ...\n",
            "Unpacking libp11-kit0:amd64 (0.23.9-2ubuntu0.1) over (0.23.9-2) ...\n",
            "Setting up libp11-kit0:amd64 (0.23.9-2ubuntu0.1) ...\n",
            "(Reading database ... 155053 files and directories currently installed.)\n",
            "Preparing to unpack .../libgnutls30_3.5.18-1ubuntu1.5_amd64.deb ...\n",
            "Unpacking libgnutls30:amd64 (3.5.18-1ubuntu1.5) over (3.5.18-1ubuntu1.4) ...\n",
            "Setting up libgnutls30:amd64 (3.5.18-1ubuntu1.5) ...\n",
            "(Reading database ... 155053 files and directories currently installed.)\n",
            "Preparing to unpack .../libseccomp2_2.5.1-1ubuntu1~18.04.1_amd64.deb ...\n",
            "Unpacking libseccomp2:amd64 (2.5.1-1ubuntu1~18.04.1) over (2.4.3-1ubuntu3.18.04.3) ...\n",
            "Setting up libseccomp2:amd64 (2.5.1-1ubuntu1~18.04.1) ...\n",
            "(Reading database ... 155053 files and directories currently installed.)\n",
            "Preparing to unpack .../ubuntu-keyring_2018.09.18.1~18.04.2_all.deb ...\n",
            "Unpacking ubuntu-keyring (2018.09.18.1~18.04.2) over (2018.09.18.1~18.04.0) ...\n",
            "Setting up ubuntu-keyring (2018.09.18.1~18.04.2) ...\n",
            "(Reading database ... 155053 files and directories currently installed.)\n",
            "Preparing to unpack .../00-distro-info-data_0.37ubuntu0.13_all.deb ...\n",
            "Unpacking distro-info-data (0.37ubuntu0.13) over (0.37ubuntu0.12) ...\n",
            "Preparing to unpack .../01-openssl_1.1.1-1ubuntu2.1~18.04.13_amd64.deb ...\n",
            "Unpacking openssl (1.1.1-1ubuntu2.1~18.04.13) over (1.1.1-1ubuntu2.1~18.04.7) ...\n",
            "Preparing to unpack .../02-binutils-x86-64-linux-gnu_2.30-21ubuntu1~18.04.5_amd64.deb ...\n",
            "Unpacking binutils-x86-64-linux-gnu (2.30-21ubuntu1~18.04.5) over (2.30-21ubuntu1~18.04.4) ...\n",
            "Preparing to unpack .../03-binutils-common_2.30-21ubuntu1~18.04.5_amd64.deb ...\n",
            "Unpacking binutils-common:amd64 (2.30-21ubuntu1~18.04.5) over (2.30-21ubuntu1~18.04.4) ...\n",
            "Preparing to unpack .../04-binutils_2.30-21ubuntu1~18.04.5_amd64.deb ...\n",
            "Unpacking binutils (2.30-21ubuntu1~18.04.5) over (2.30-21ubuntu1~18.04.4) ...\n",
            "Preparing to unpack .../05-libbinutils_2.30-21ubuntu1~18.04.5_amd64.deb ...\n",
            "Unpacking libbinutils:amd64 (2.30-21ubuntu1~18.04.5) over (2.30-21ubuntu1~18.04.4) ...\n",
            "Preparing to unpack .../06-libcublas10_10.2.3.254-1_amd64.deb ...\n",
            "Unpacking libcublas10 (10.2.3.254-1) over (10.2.1.243-1) ...\n",
            "Preparing to unpack .../07-libcublas-dev_10.2.3.254-1_amd64.deb ...\n",
            "Unpacking libcublas-dev (10.2.3.254-1) over (10.2.1.243-1) ...\n",
            "Preparing to unpack .../08-libcudnn7-dev_7.6.5.32-1+cuda10.2_amd64.deb ...\n",
            "update-alternatives: removing manually selected alternative - switching libcudnn to auto mode\n",
            "update-alternatives: using /usr/include/x86_64-linux-gnu/cudnn_v8.h to provide /usr/include/cudnn.h (libcudnn) in auto mode\n",
            "Unpacking libcudnn7-dev (7.6.5.32-1+cuda10.2) over (7.6.5.32-1+cuda10.1) ...\n",
            "Preparing to unpack .../09-libcudnn7_7.6.5.32-1+cuda10.2_amd64.deb ...\n",
            "Unpacking libcudnn7 (7.6.5.32-1+cuda10.2) over (7.6.5.32-1+cuda10.1) ...\n",
            "Preparing to unpack .../10-libsasl2-modules-db_2.1.27~101-g0780600+dfsg-3ubuntu2.3_amd64.deb ...\n",
            "Unpacking libsasl2-modules-db:amd64 (2.1.27~101-g0780600+dfsg-3ubuntu2.3) over (2.1.27~101-g0780600+dfsg-3ubuntu2.1) ...\n",
            "Preparing to unpack .../11-libsasl2-2_2.1.27~101-g0780600+dfsg-3ubuntu2.3_amd64.deb ...\n",
            "Unpacking libsasl2-2:amd64 (2.1.27~101-g0780600+dfsg-3ubuntu2.3) over (2.1.27~101-g0780600+dfsg-3ubuntu2.1) ...\n",
            "Preparing to unpack .../12-libldap-common_2.4.45+dfsg-1ubuntu1.10_all.deb ...\n",
            "Unpacking libldap-common (2.4.45+dfsg-1ubuntu1.10) over (2.4.45+dfsg-1ubuntu1.8) ...\n",
            "Preparing to unpack .../13-libldap-2.4-2_2.4.45+dfsg-1ubuntu1.10_amd64.deb ...\n",
            "Unpacking libldap-2.4-2:amd64 (2.4.45+dfsg-1ubuntu1.10) over (2.4.45+dfsg-1ubuntu1.8) ...\n",
            "Preparing to unpack .../14-linux-libc-dev_4.15.0-159.167_amd64.deb ...\n",
            "Unpacking linux-libc-dev:amd64 (4.15.0-159.167) over (4.15.0-128.131) ...\n",
            "Preparing to unpack .../15-r-cran-mgcv_1.8-38-1.1804.0_amd64.deb ...\n",
            "Unpacking r-cran-mgcv (1.8-38-1.1804.0) over (1.8-37-1.1804.0) ...\n",
            "Selecting previously unselected package sqlite3.\n",
            "Preparing to unpack .../16-sqlite3_3.22.0-1ubuntu0.4_amd64.deb ...\n",
            "Unpacking sqlite3 (3.22.0-1ubuntu0.4) ...\n",
            "Preparing to unpack .../17-gnupg2_2.2.4-1ubuntu1.4_all.deb ...\n",
            "Unpacking gnupg2 (2.2.4-1ubuntu1.4) over (2.2.4-1ubuntu1.3) ...\n",
            "Setting up libcudnn7 (7.6.5.32-1+cuda10.2) ...\n",
            "Setting up libldap-common (2.4.45+dfsg-1ubuntu1.10) ...\n",
            "Setting up libsasl2-modules-db:amd64 (2.1.27~101-g0780600+dfsg-3ubuntu2.3) ...\n",
            "Setting up linux-libc-dev:amd64 (4.15.0-159.167) ...\n",
            "Setting up libsasl2-2:amd64 (2.1.27~101-g0780600+dfsg-3ubuntu2.3) ...\n",
            "Setting up libcudnn7-dev (7.6.5.32-1+cuda10.2) ...\n",
            "update-alternatives: using /usr/include/x86_64-linux-gnu/cudnn_v7.h to provide /usr/include/cudnn.h (libcudnn) in manual mode\n",
            "Setting up distro-info-data (0.37ubuntu0.13) ...\n",
            "Setting up sqlite3 (3.22.0-1ubuntu0.4) ...\n",
            "Setting up binutils-common:amd64 (2.30-21ubuntu1~18.04.5) ...\n",
            "Setting up gnupg2 (2.2.4-1ubuntu1.4) ...\n",
            "Setting up libcublas10 (10.2.3.254-1) ...\n",
            "Setting up libcublas-dev (10.2.3.254-1) ...\n",
            "Setting up r-cran-mgcv (1.8-38-1.1804.0) ...\n",
            "Setting up libldap-2.4-2:amd64 (2.4.45+dfsg-1ubuntu1.10) ...\n",
            "Setting up openssl (1.1.1-1ubuntu2.1~18.04.13) ...\n",
            "Setting up libbinutils:amd64 (2.30-21ubuntu1~18.04.5) ...\n",
            "Setting up binutils-x86-64-linux-gnu (2.30-21ubuntu1~18.04.5) ...\n",
            "Setting up binutils (2.30-21ubuntu1~18.04.5) ...\n",
            "Processing triggers for libc-bin (2.27-3ubuntu1.4) ...\n",
            "/sbin/ldconfig.real: /usr/local/lib/python3.7/dist-packages/ideep4py/lib/libmkldnn.so.0 is not a symbolic link\n",
            "\n",
            "Processing triggers for man-db (2.8.3-2ubuntu0.1) ...\n",
            "Processing triggers for mime-support (3.60ubuntu1) ...\n"
          ]
        }
      ]
    },
    {
      "cell_type": "code",
      "metadata": {
        "id": "_l0Sz9vyQjZ5",
        "colab": {
          "base_uri": "https://localhost:8080/"
        },
        "outputId": "2e44b643-0f15-4ede-9a2e-01d4975c7736"
      },
      "source": [
        "!curl https://www.sqlite.org/src/tarball/sqlite.tar.gz?r=release | tar xz\n",
        "%cd sqlite/\n",
        "!./configure\n",
        "!make sqlite3.c\n",
        "%cd /content\n",
        "!npx degit coleifer/pysqlite3 -f\n",
        "!cp sqlite/sqlite3.[ch] .\n",
        "!python setup.py build_static build\n",
        "!cp build/lib.linux-x86_64-3.7/pysqlite3/_sqlite3.cpython-37m-x86_64-linux-gnu.so \\\n",
        "     /usr/lib/python3.7/lib-dynload/\n"
      ],
      "execution_count": 2,
      "outputs": [
        {
          "output_type": "stream",
          "name": "stdout",
          "text": [
            "  % Total    % Received % Xferd  Average Speed   Time    Time     Time  Current\n",
            "                                 Dload  Upload   Total   Spent    Left  Speed\n",
            "100 10.9M  100 10.9M    0     0  9020k      0  0:00:01  0:00:01 --:--:-- 9020k\n",
            "/content/sqlite\n",
            "checking build system type... x86_64-pc-linux-gnu\n",
            "checking host system type... x86_64-pc-linux-gnu\n",
            "checking for gcc... gcc\n",
            "checking whether the C compiler works... yes\n",
            "checking for C compiler default output file name... a.out\n",
            "checking for suffix of executables... \n",
            "checking whether we are cross compiling... no\n",
            "checking for suffix of object files... o\n",
            "checking whether we are using the GNU C compiler... yes\n",
            "checking whether gcc accepts -g... yes\n",
            "checking for gcc option to accept ISO C89... none needed\n",
            "checking for a sed that does not truncate output... /bin/sed\n",
            "checking for grep that handles long lines and -e... /bin/grep\n",
            "checking for egrep... /bin/grep -E\n",
            "checking for fgrep... /bin/grep -F\n",
            "checking for ld used by gcc... /usr/bin/ld\n",
            "checking if the linker (/usr/bin/ld) is GNU ld... yes\n",
            "checking for BSD- or MS-compatible name lister (nm)... /usr/bin/nm -B\n",
            "checking the name lister (/usr/bin/nm -B) interface... BSD nm\n",
            "checking whether ln -s works... yes\n",
            "checking the maximum length of command line arguments... 1572864\n",
            "checking whether the shell understands some XSI constructs... yes\n",
            "checking whether the shell understands \"+=\"... yes\n",
            "checking for /usr/bin/ld option to reload object files... -r\n",
            "checking for objdump... objdump\n",
            "checking how to recognize dependent libraries... pass_all\n",
            "checking for ar... ar\n",
            "checking for strip... strip\n",
            "checking for ranlib... ranlib\n",
            "checking command to parse /usr/bin/nm -B output from gcc object... ok\n",
            "./configure: line 5196: /usr/bin/file: No such file or directory\n",
            "checking how to run the C preprocessor... gcc -E\n",
            "checking for ANSI C header files... yes\n",
            "checking for sys/types.h... yes\n",
            "checking for sys/stat.h... yes\n",
            "checking for stdlib.h... yes\n",
            "checking for string.h... yes\n",
            "checking for memory.h... yes\n",
            "checking for strings.h... yes\n",
            "checking for inttypes.h... yes\n",
            "checking for stdint.h... yes\n",
            "checking for unistd.h... yes\n",
            "checking for dlfcn.h... yes\n",
            "checking for objdir... .libs\n",
            "checking if gcc supports -fno-rtti -fno-exceptions... no\n",
            "checking for gcc option to produce PIC... -fPIC -DPIC\n",
            "checking if gcc PIC flag -fPIC -DPIC works... yes\n",
            "checking if gcc static flag -static works... yes\n",
            "checking if gcc supports -c -o file.o... yes\n",
            "checking if gcc supports -c -o file.o... (cached) yes\n",
            "checking whether the gcc linker (/usr/bin/ld) supports shared libraries... yes\n",
            "checking whether -lc should be explicitly linked in... no\n",
            "checking dynamic linker characteristics... GNU/Linux ld.so\n",
            "checking how to hardcode library paths into programs... immediate\n",
            "checking whether stripping libraries is possible... yes\n",
            "checking if libtool supports shared libraries... yes\n",
            "checking whether to build shared libraries... yes\n",
            "checking whether to build static libraries... yes\n",
            "checking for a BSD-compatible install... /usr/bin/install -c\n",
            "checking for special C compiler options needed for large files... no\n",
            "checking for _FILE_OFFSET_BITS value needed for large files... no\n",
            "checking for int8_t... yes\n",
            "checking for int16_t... yes\n",
            "checking for int32_t... yes\n",
            "checking for int64_t... yes\n",
            "checking for intptr_t... yes\n",
            "checking for uint8_t... yes\n",
            "checking for uint16_t... yes\n",
            "checking for uint32_t... yes\n",
            "checking for uint64_t... yes\n",
            "checking for uintptr_t... yes\n",
            "checking for sys/types.h... (cached) yes\n",
            "checking for stdlib.h... (cached) yes\n",
            "checking for stdint.h... (cached) yes\n",
            "checking for inttypes.h... (cached) yes\n",
            "checking malloc.h usability... yes\n",
            "checking malloc.h presence... yes\n",
            "checking for malloc.h... yes\n",
            "checking for fdatasync... yes\n",
            "checking for gmtime_r... yes\n",
            "checking for isnan... yes\n",
            "checking for localtime_r... yes\n",
            "checking for localtime_s... no\n",
            "checking for malloc_usable_size... yes\n",
            "checking for strchrnul... yes\n",
            "checking for usleep... yes\n",
            "checking for utime... yes\n",
            "checking for pread... yes\n",
            "checking for pread64... yes\n",
            "checking for pwrite... yes\n",
            "checking for pwrite64... yes\n",
            "checking for tclsh8.7... no\n",
            "checking for tclsh8.6... tclsh8.6\n",
            "configure: Version set to 3.36\n",
            "configure: Release set to 3.36.0\n",
            "checking whether to support threadsafe operation... yes\n",
            "checking for library containing pthread_create... -lpthread\n",
            "checking for library containing pthread_mutexattr_init... none required\n",
            "checking whether to support shared library linked as release mode or not... no\n",
            "checking whether to use an in-ram database for temporary tables... no\n",
            "checking if executables have the .exe suffix... unknown\n",
            "checking for Tcl configuration... found /usr/lib/tclConfig.sh\n",
            "checking for existence of /usr/lib/tclConfig.sh... loading\n",
            "checking for library containing readline... no\n",
            "checking for library containing tgetent... -lncurses\n",
            "checking for readline in -lreadline... yes\n",
            "checking readline.h usability... no\n",
            "checking readline.h presence... no\n",
            "checking for readline.h... no\n",
            "checking for /usr/include/readline.h... no\n",
            "checking for /usr/include/readline/readline.h... yes\n",
            "checking for library containing fdatasync... none required\n",
            "checking build type... release\n",
            "checking zlib.h usability... yes\n",
            "checking zlib.h presence... yes\n",
            "checking for zlib.h... yes\n",
            "checking for library containing deflate... -lz\n",
            "checking for library containing dlopen... -ldl\n",
            "checking whether to support math functions... yes\n",
            "checking for library containing ceil... -lm\n",
            "checking whether to support MEMSYS5... no\n",
            "checking whether to support MEMSYS3... no\n",
            "checking whether to support FTS3... no\n",
            "checking whether to support FTS4... no\n",
            "checking whether to support FTS5... no\n",
            "checking whether to support JSON... no\n",
            "checking whether to support LIMIT on UPDATE and DELETE statements... no\n",
            "checking whether to support GEOPOLY... no\n",
            "checking whether to support RTREE... no\n",
            "checking whether to support SESSION... no\n",
            "configure: creating ./config.status\n",
            "config.status: creating Makefile\n",
            "config.status: creating sqlite3.pc\n",
            "config.status: creating config.h\n",
            "config.status: executing libtool commands\n",
            "gcc  -g -O2 -o mkkeywordhash -DSQLITE_ENABLE_MATH_FUNCTIONS  /content/sqlite/tool/mkkeywordhash.c\n",
            "./mkkeywordhash >keywordhash.h\n",
            "gcc  -g -O2 -o lemon /content/sqlite/tool/lemon.c\n",
            "cp /content/sqlite/tool/lempar.c .\n",
            "cp /content/sqlite/src/parse.y .\n",
            "./lemon -DSQLITE_ENABLE_MATH_FUNCTIONS  -S parse.y\n",
            "cat parse.h /content/sqlite/src/vdbe.c | tclsh8.6 /content/sqlite/tool/mkopcodeh.tcl >opcodes.h\n",
            "tclsh8.6 /content/sqlite/tool/mkopcodec.tcl opcodes.h >opcodes.c\n",
            "tclsh8.6 /content/sqlite/tool/mkshellc.tcl >shell.c\n",
            "gcc  -g -O2 -o mksourceid /content/sqlite/tool/mksourceid.c\n",
            "tclsh8.6 /content/sqlite/tool/mksqlite3h.tcl /content/sqlite >sqlite3.h\n",
            "cp /content/sqlite/ext/fts5/fts5parse.y .\n",
            "rm -f fts5parse.h\n",
            "./lemon  -S fts5parse.y\n",
            "tclsh8.6 /content/sqlite/ext/fts5/tool/mkfts5c.tcl\n",
            "cp /content/sqlite/ext/fts5/fts5.h .\n",
            "rm -rf tsrc\n",
            "mkdir tsrc\n",
            "cp -f /content/sqlite/src/alter.c /content/sqlite/src/analyze.c /content/sqlite/src/attach.c /content/sqlite/src/auth.c /content/sqlite/src/backup.c /content/sqlite/src/bitvec.c /content/sqlite/src/btmutex.c /content/sqlite/src/btree.c /content/sqlite/src/btree.h /content/sqlite/src/btreeInt.h /content/sqlite/src/build.c /content/sqlite/src/callback.c /content/sqlite/src/complete.c /content/sqlite/src/ctime.c /content/sqlite/src/date.c /content/sqlite/src/dbpage.c /content/sqlite/src/dbstat.c /content/sqlite/src/delete.c /content/sqlite/src/expr.c /content/sqlite/src/fault.c /content/sqlite/src/fkey.c /content/sqlite/src/func.c /content/sqlite/src/global.c /content/sqlite/src/hash.c /content/sqlite/src/hash.h /content/sqlite/src/hwtime.h /content/sqlite/src/insert.c /content/sqlite/src/legacy.c /content/sqlite/src/loadext.c /content/sqlite/src/main.c /content/sqlite/src/malloc.c /content/sqlite/src/mem0.c /content/sqlite/src/mem1.c /content/sqlite/src/mem2.c /content/sqlite/src/mem3.c /content/sqlite/src/mem5.c /content/sqlite/src/memdb.c /content/sqlite/src/memjournal.c /content/sqlite/src/msvc.h /content/sqlite/src/mutex.c /content/sqlite/src/mutex.h /content/sqlite/src/mutex_noop.c /content/sqlite/src/mutex_unix.c /content/sqlite/src/mutex_w32.c /content/sqlite/src/notify.c /content/sqlite/src/os.c /content/sqlite/src/os.h /content/sqlite/src/os_common.h /content/sqlite/src/os_setup.h /content/sqlite/src/os_unix.c /content/sqlite/src/os_win.c /content/sqlite/src/os_win.h /content/sqlite/src/pager.c /content/sqlite/src/pager.h /content/sqlite/src/parse.y /content/sqlite/src/pcache.c /content/sqlite/src/pcache.h /content/sqlite/src/pcache1.c /content/sqlite/src/pragma.c /content/sqlite/src/pragma.h /content/sqlite/src/prepare.c /content/sqlite/src/printf.c /content/sqlite/src/random.c /content/sqlite/src/resolve.c /content/sqlite/src/rowset.c /content/sqlite/src/select.c /content/sqlite/src/status.c /content/sqlite/src/shell.c.in /content/sqlite/src/sqlite.h.in /content/sqlite/src/sqlite3ext.h /content/sqlite/src/sqliteInt.h /content/sqlite/src/sqliteLimit.h /content/sqlite/src/table.c /content/sqlite/src/tclsqlite.c /content/sqlite/src/threads.c /content/sqlite/src/tokenize.c /content/sqlite/src/treeview.c /content/sqlite/src/trigger.c /content/sqlite/src/utf.c /content/sqlite/src/update.c /content/sqlite/src/upsert.c /content/sqlite/src/util.c /content/sqlite/src/vacuum.c /content/sqlite/src/vdbe.c /content/sqlite/src/vdbe.h /content/sqlite/src/vdbeapi.c /content/sqlite/src/vdbeaux.c /content/sqlite/src/vdbeblob.c /content/sqlite/src/vdbemem.c /content/sqlite/src/vdbesort.c /content/sqlite/src/vdbetrace.c /content/sqlite/src/vdbevtab.c /content/sqlite/src/vdbeInt.h /content/sqlite/src/vtab.c /content/sqlite/src/vxworks.h /content/sqlite/src/wal.c /content/sqlite/src/wal.h /content/sqlite/src/walker.c /content/sqlite/src/where.c /content/sqlite/src/wherecode.c /content/sqlite/src/whereexpr.c /content/sqlite/src/whereInt.h /content/sqlite/src/window.c /content/sqlite/ext/fts1/fts1.c /content/sqlite/ext/fts1/fts1.h /content/sqlite/ext/fts1/fts1_hash.c /content/sqlite/ext/fts1/fts1_hash.h /content/sqlite/ext/fts1/fts1_porter.c /content/sqlite/ext/fts1/fts1_tokenizer.h /content/sqlite/ext/fts1/fts1_tokenizer1.c /content/sqlite/ext/fts2/fts2.c /content/sqlite/ext/fts2/fts2.h /content/sqlite/ext/fts2/fts2_hash.c /content/sqlite/ext/fts2/fts2_hash.h /content/sqlite/ext/fts2/fts2_icu.c /content/sqlite/ext/fts2/fts2_porter.c /content/sqlite/ext/fts2/fts2_tokenizer.h /content/sqlite/ext/fts2/fts2_tokenizer.c /content/sqlite/ext/fts2/fts2_tokenizer1.c /content/sqlite/ext/fts3/fts3.c /content/sqlite/ext/fts3/fts3.h /content/sqlite/ext/fts3/fts3Int.h /content/sqlite/ext/fts3/fts3_aux.c /content/sqlite/ext/fts3/fts3_expr.c /content/sqlite/ext/fts3/fts3_hash.c /content/sqlite/ext/fts3/fts3_hash.h /content/sqlite/ext/fts3/fts3_icu.c /content/sqlite/ext/fts3/fts3_porter.c /content/sqlite/ext/fts3/fts3_snippet.c /content/sqlite/ext/fts3/fts3_tokenizer.h /content/sqlite/ext/fts3/fts3_tokenizer.c /content/sqlite/ext/fts3/fts3_tokenizer1.c /content/sqlite/ext/fts3/fts3_tokenize_vtab.c /content/sqlite/ext/fts3/fts3_unicode.c /content/sqlite/ext/fts3/fts3_unicode2.c /content/sqlite/ext/fts3/fts3_write.c /content/sqlite/ext/icu/sqliteicu.h /content/sqlite/ext/icu/icu.c /content/sqlite/ext/rtree/rtree.h /content/sqlite/ext/rtree/rtree.c /content/sqlite/ext/rtree/geopoly.c /content/sqlite/ext/session/sqlite3session.c /content/sqlite/ext/session/sqlite3session.h /content/sqlite/ext/userauth/userauth.c /content/sqlite/ext/userauth/sqlite3userauth.h /content/sqlite/ext/rbu/sqlite3rbu.h /content/sqlite/ext/rbu/sqlite3rbu.c /content/sqlite/ext/misc/json1.c /content/sqlite/ext/misc/stmt.c keywordhash.h opcodes.c opcodes.h parse.c parse.h config.h shell.c sqlite3.h tsrc\n",
            "rm tsrc/sqlite.h.in tsrc/parse.y\n",
            "tclsh8.6 /content/sqlite/tool/vdbe-compress.tcl  <tsrc/vdbe.c >vdbe.new\n",
            "mv vdbe.new tsrc/vdbe.c\n",
            "cp fts5.c fts5.h tsrc\n",
            "touch .target_source\n",
            "tclsh8.6 /content/sqlite/tool/mksqlite3c.tcl\n",
            "cp tsrc/sqlite3ext.h .\n",
            "cp /content/sqlite/ext/session/sqlite3session.h .\n",
            "/content\n",
            "\u001b[K\u001b[?25hnpx: installed 1 in 1.866s\n",
            "\u001b[36m> destination directory is not empty. Using --force, continuing\u001b[39m\n",
            "\u001b[36m> cloned \u001b[1mcoleifer/pysqlite3\u001b[22m#\u001b[1mHEAD\u001b[22m\u001b[39m\n",
            "running build_static\n",
            "Builds a C extension using a sqlite3 amalgamation\n",
            "building 'pysqlite3._sqlite3' extension\n",
            "creating build\n",
            "creating build/temp.linux-x86_64-3.7\n",
            "creating build/temp.linux-x86_64-3.7/src\n",
            "x86_64-linux-gnu-gcc -pthread -Wno-unused-result -Wsign-compare -DNDEBUG -g -fwrapv -O2 -Wall -g -fdebug-prefix-map=/build/python3.7-Y7dWVB/python3.7-3.7.12=. -fstack-protector-strong -Wformat -Werror=format-security -g -fdebug-prefix-map=/build/python3.7-Y7dWVB/python3.7-3.7.12=. -fstack-protector-strong -Wformat -Werror=format-security -Wdate-time -D_FORTIFY_SOURCE=2 -fPIC -DMODULE_NAME=\"pysqlite3.dbapi2\" -DSQLITE_ALLOW_COVERING_INDEX_SCAN=1 -DSQLITE_ENABLE_FTS3=1 -DSQLITE_ENABLE_FTS3_PARENTHESIS=1 -DSQLITE_ENABLE_FTS4=1 -DSQLITE_ENABLE_FTS5=1 -DSQLITE_ENABLE_JSON1=1 -DSQLITE_ENABLE_LOAD_EXTENSION=1 -DSQLITE_ENABLE_RTREE=1 -DSQLITE_ENABLE_STAT4=1 -DSQLITE_ENABLE_UPDATE_DELETE_LIMIT=1 -DSQLITE_SOUNDEX=1 -DSQLITE_USE_URI=1 -DSQLITE_TEMP_STORE=3 -DSQLITE_MAX_VARIABLE_NUMBER=250000 -DSQLITE_MAX_MMAP_SIZE=1099511627776 -I. -I/usr/include/python3.7m -c src/module.c -o build/temp.linux-x86_64-3.7/src/module.o\n",
            "x86_64-linux-gnu-gcc -pthread -Wno-unused-result -Wsign-compare -DNDEBUG -g -fwrapv -O2 -Wall -g -fdebug-prefix-map=/build/python3.7-Y7dWVB/python3.7-3.7.12=. -fstack-protector-strong -Wformat -Werror=format-security -g -fdebug-prefix-map=/build/python3.7-Y7dWVB/python3.7-3.7.12=. -fstack-protector-strong -Wformat -Werror=format-security -Wdate-time -D_FORTIFY_SOURCE=2 -fPIC -DMODULE_NAME=\"pysqlite3.dbapi2\" -DSQLITE_ALLOW_COVERING_INDEX_SCAN=1 -DSQLITE_ENABLE_FTS3=1 -DSQLITE_ENABLE_FTS3_PARENTHESIS=1 -DSQLITE_ENABLE_FTS4=1 -DSQLITE_ENABLE_FTS5=1 -DSQLITE_ENABLE_JSON1=1 -DSQLITE_ENABLE_LOAD_EXTENSION=1 -DSQLITE_ENABLE_RTREE=1 -DSQLITE_ENABLE_STAT4=1 -DSQLITE_ENABLE_UPDATE_DELETE_LIMIT=1 -DSQLITE_SOUNDEX=1 -DSQLITE_USE_URI=1 -DSQLITE_TEMP_STORE=3 -DSQLITE_MAX_VARIABLE_NUMBER=250000 -DSQLITE_MAX_MMAP_SIZE=1099511627776 -I. -I/usr/include/python3.7m -c src/connection.c -o build/temp.linux-x86_64-3.7/src/connection.o\n",
            "x86_64-linux-gnu-gcc -pthread -Wno-unused-result -Wsign-compare -DNDEBUG -g -fwrapv -O2 -Wall -g -fdebug-prefix-map=/build/python3.7-Y7dWVB/python3.7-3.7.12=. -fstack-protector-strong -Wformat -Werror=format-security -g -fdebug-prefix-map=/build/python3.7-Y7dWVB/python3.7-3.7.12=. -fstack-protector-strong -Wformat -Werror=format-security -Wdate-time -D_FORTIFY_SOURCE=2 -fPIC -DMODULE_NAME=\"pysqlite3.dbapi2\" -DSQLITE_ALLOW_COVERING_INDEX_SCAN=1 -DSQLITE_ENABLE_FTS3=1 -DSQLITE_ENABLE_FTS3_PARENTHESIS=1 -DSQLITE_ENABLE_FTS4=1 -DSQLITE_ENABLE_FTS5=1 -DSQLITE_ENABLE_JSON1=1 -DSQLITE_ENABLE_LOAD_EXTENSION=1 -DSQLITE_ENABLE_RTREE=1 -DSQLITE_ENABLE_STAT4=1 -DSQLITE_ENABLE_UPDATE_DELETE_LIMIT=1 -DSQLITE_SOUNDEX=1 -DSQLITE_USE_URI=1 -DSQLITE_TEMP_STORE=3 -DSQLITE_MAX_VARIABLE_NUMBER=250000 -DSQLITE_MAX_MMAP_SIZE=1099511627776 -I. -I/usr/include/python3.7m -c src/cursor.c -o build/temp.linux-x86_64-3.7/src/cursor.o\n",
            "x86_64-linux-gnu-gcc -pthread -Wno-unused-result -Wsign-compare -DNDEBUG -g -fwrapv -O2 -Wall -g -fdebug-prefix-map=/build/python3.7-Y7dWVB/python3.7-3.7.12=. -fstack-protector-strong -Wformat -Werror=format-security -g -fdebug-prefix-map=/build/python3.7-Y7dWVB/python3.7-3.7.12=. -fstack-protector-strong -Wformat -Werror=format-security -Wdate-time -D_FORTIFY_SOURCE=2 -fPIC -DMODULE_NAME=\"pysqlite3.dbapi2\" -DSQLITE_ALLOW_COVERING_INDEX_SCAN=1 -DSQLITE_ENABLE_FTS3=1 -DSQLITE_ENABLE_FTS3_PARENTHESIS=1 -DSQLITE_ENABLE_FTS4=1 -DSQLITE_ENABLE_FTS5=1 -DSQLITE_ENABLE_JSON1=1 -DSQLITE_ENABLE_LOAD_EXTENSION=1 -DSQLITE_ENABLE_RTREE=1 -DSQLITE_ENABLE_STAT4=1 -DSQLITE_ENABLE_UPDATE_DELETE_LIMIT=1 -DSQLITE_SOUNDEX=1 -DSQLITE_USE_URI=1 -DSQLITE_TEMP_STORE=3 -DSQLITE_MAX_VARIABLE_NUMBER=250000 -DSQLITE_MAX_MMAP_SIZE=1099511627776 -I. -I/usr/include/python3.7m -c src/cache.c -o build/temp.linux-x86_64-3.7/src/cache.o\n",
            "x86_64-linux-gnu-gcc -pthread -Wno-unused-result -Wsign-compare -DNDEBUG -g -fwrapv -O2 -Wall -g -fdebug-prefix-map=/build/python3.7-Y7dWVB/python3.7-3.7.12=. -fstack-protector-strong -Wformat -Werror=format-security -g -fdebug-prefix-map=/build/python3.7-Y7dWVB/python3.7-3.7.12=. -fstack-protector-strong -Wformat -Werror=format-security -Wdate-time -D_FORTIFY_SOURCE=2 -fPIC -DMODULE_NAME=\"pysqlite3.dbapi2\" -DSQLITE_ALLOW_COVERING_INDEX_SCAN=1 -DSQLITE_ENABLE_FTS3=1 -DSQLITE_ENABLE_FTS3_PARENTHESIS=1 -DSQLITE_ENABLE_FTS4=1 -DSQLITE_ENABLE_FTS5=1 -DSQLITE_ENABLE_JSON1=1 -DSQLITE_ENABLE_LOAD_EXTENSION=1 -DSQLITE_ENABLE_RTREE=1 -DSQLITE_ENABLE_STAT4=1 -DSQLITE_ENABLE_UPDATE_DELETE_LIMIT=1 -DSQLITE_SOUNDEX=1 -DSQLITE_USE_URI=1 -DSQLITE_TEMP_STORE=3 -DSQLITE_MAX_VARIABLE_NUMBER=250000 -DSQLITE_MAX_MMAP_SIZE=1099511627776 -I. -I/usr/include/python3.7m -c src/microprotocols.c -o build/temp.linux-x86_64-3.7/src/microprotocols.o\n",
            "x86_64-linux-gnu-gcc -pthread -Wno-unused-result -Wsign-compare -DNDEBUG -g -fwrapv -O2 -Wall -g -fdebug-prefix-map=/build/python3.7-Y7dWVB/python3.7-3.7.12=. -fstack-protector-strong -Wformat -Werror=format-security -g -fdebug-prefix-map=/build/python3.7-Y7dWVB/python3.7-3.7.12=. -fstack-protector-strong -Wformat -Werror=format-security -Wdate-time -D_FORTIFY_SOURCE=2 -fPIC -DMODULE_NAME=\"pysqlite3.dbapi2\" -DSQLITE_ALLOW_COVERING_INDEX_SCAN=1 -DSQLITE_ENABLE_FTS3=1 -DSQLITE_ENABLE_FTS3_PARENTHESIS=1 -DSQLITE_ENABLE_FTS4=1 -DSQLITE_ENABLE_FTS5=1 -DSQLITE_ENABLE_JSON1=1 -DSQLITE_ENABLE_LOAD_EXTENSION=1 -DSQLITE_ENABLE_RTREE=1 -DSQLITE_ENABLE_STAT4=1 -DSQLITE_ENABLE_UPDATE_DELETE_LIMIT=1 -DSQLITE_SOUNDEX=1 -DSQLITE_USE_URI=1 -DSQLITE_TEMP_STORE=3 -DSQLITE_MAX_VARIABLE_NUMBER=250000 -DSQLITE_MAX_MMAP_SIZE=1099511627776 -I. -I/usr/include/python3.7m -c src/prepare_protocol.c -o build/temp.linux-x86_64-3.7/src/prepare_protocol.o\n",
            "x86_64-linux-gnu-gcc -pthread -Wno-unused-result -Wsign-compare -DNDEBUG -g -fwrapv -O2 -Wall -g -fdebug-prefix-map=/build/python3.7-Y7dWVB/python3.7-3.7.12=. -fstack-protector-strong -Wformat -Werror=format-security -g -fdebug-prefix-map=/build/python3.7-Y7dWVB/python3.7-3.7.12=. -fstack-protector-strong -Wformat -Werror=format-security -Wdate-time -D_FORTIFY_SOURCE=2 -fPIC -DMODULE_NAME=\"pysqlite3.dbapi2\" -DSQLITE_ALLOW_COVERING_INDEX_SCAN=1 -DSQLITE_ENABLE_FTS3=1 -DSQLITE_ENABLE_FTS3_PARENTHESIS=1 -DSQLITE_ENABLE_FTS4=1 -DSQLITE_ENABLE_FTS5=1 -DSQLITE_ENABLE_JSON1=1 -DSQLITE_ENABLE_LOAD_EXTENSION=1 -DSQLITE_ENABLE_RTREE=1 -DSQLITE_ENABLE_STAT4=1 -DSQLITE_ENABLE_UPDATE_DELETE_LIMIT=1 -DSQLITE_SOUNDEX=1 -DSQLITE_USE_URI=1 -DSQLITE_TEMP_STORE=3 -DSQLITE_MAX_VARIABLE_NUMBER=250000 -DSQLITE_MAX_MMAP_SIZE=1099511627776 -I. -I/usr/include/python3.7m -c src/statement.c -o build/temp.linux-x86_64-3.7/src/statement.o\n",
            "x86_64-linux-gnu-gcc -pthread -Wno-unused-result -Wsign-compare -DNDEBUG -g -fwrapv -O2 -Wall -g -fdebug-prefix-map=/build/python3.7-Y7dWVB/python3.7-3.7.12=. -fstack-protector-strong -Wformat -Werror=format-security -g -fdebug-prefix-map=/build/python3.7-Y7dWVB/python3.7-3.7.12=. -fstack-protector-strong -Wformat -Werror=format-security -Wdate-time -D_FORTIFY_SOURCE=2 -fPIC -DMODULE_NAME=\"pysqlite3.dbapi2\" -DSQLITE_ALLOW_COVERING_INDEX_SCAN=1 -DSQLITE_ENABLE_FTS3=1 -DSQLITE_ENABLE_FTS3_PARENTHESIS=1 -DSQLITE_ENABLE_FTS4=1 -DSQLITE_ENABLE_FTS5=1 -DSQLITE_ENABLE_JSON1=1 -DSQLITE_ENABLE_LOAD_EXTENSION=1 -DSQLITE_ENABLE_RTREE=1 -DSQLITE_ENABLE_STAT4=1 -DSQLITE_ENABLE_UPDATE_DELETE_LIMIT=1 -DSQLITE_SOUNDEX=1 -DSQLITE_USE_URI=1 -DSQLITE_TEMP_STORE=3 -DSQLITE_MAX_VARIABLE_NUMBER=250000 -DSQLITE_MAX_MMAP_SIZE=1099511627776 -I. -I/usr/include/python3.7m -c src/util.c -o build/temp.linux-x86_64-3.7/src/util.o\n",
            "x86_64-linux-gnu-gcc -pthread -Wno-unused-result -Wsign-compare -DNDEBUG -g -fwrapv -O2 -Wall -g -fdebug-prefix-map=/build/python3.7-Y7dWVB/python3.7-3.7.12=. -fstack-protector-strong -Wformat -Werror=format-security -g -fdebug-prefix-map=/build/python3.7-Y7dWVB/python3.7-3.7.12=. -fstack-protector-strong -Wformat -Werror=format-security -Wdate-time -D_FORTIFY_SOURCE=2 -fPIC -DMODULE_NAME=\"pysqlite3.dbapi2\" -DSQLITE_ALLOW_COVERING_INDEX_SCAN=1 -DSQLITE_ENABLE_FTS3=1 -DSQLITE_ENABLE_FTS3_PARENTHESIS=1 -DSQLITE_ENABLE_FTS4=1 -DSQLITE_ENABLE_FTS5=1 -DSQLITE_ENABLE_JSON1=1 -DSQLITE_ENABLE_LOAD_EXTENSION=1 -DSQLITE_ENABLE_RTREE=1 -DSQLITE_ENABLE_STAT4=1 -DSQLITE_ENABLE_UPDATE_DELETE_LIMIT=1 -DSQLITE_SOUNDEX=1 -DSQLITE_USE_URI=1 -DSQLITE_TEMP_STORE=3 -DSQLITE_MAX_VARIABLE_NUMBER=250000 -DSQLITE_MAX_MMAP_SIZE=1099511627776 -I. -I/usr/include/python3.7m -c src/row.c -o build/temp.linux-x86_64-3.7/src/row.o\n",
            "x86_64-linux-gnu-gcc -pthread -Wno-unused-result -Wsign-compare -DNDEBUG -g -fwrapv -O2 -Wall -g -fdebug-prefix-map=/build/python3.7-Y7dWVB/python3.7-3.7.12=. -fstack-protector-strong -Wformat -Werror=format-security -g -fdebug-prefix-map=/build/python3.7-Y7dWVB/python3.7-3.7.12=. -fstack-protector-strong -Wformat -Werror=format-security -Wdate-time -D_FORTIFY_SOURCE=2 -fPIC -DMODULE_NAME=\"pysqlite3.dbapi2\" -DSQLITE_ALLOW_COVERING_INDEX_SCAN=1 -DSQLITE_ENABLE_FTS3=1 -DSQLITE_ENABLE_FTS3_PARENTHESIS=1 -DSQLITE_ENABLE_FTS4=1 -DSQLITE_ENABLE_FTS5=1 -DSQLITE_ENABLE_JSON1=1 -DSQLITE_ENABLE_LOAD_EXTENSION=1 -DSQLITE_ENABLE_RTREE=1 -DSQLITE_ENABLE_STAT4=1 -DSQLITE_ENABLE_UPDATE_DELETE_LIMIT=1 -DSQLITE_SOUNDEX=1 -DSQLITE_USE_URI=1 -DSQLITE_TEMP_STORE=3 -DSQLITE_MAX_VARIABLE_NUMBER=250000 -DSQLITE_MAX_MMAP_SIZE=1099511627776 -I. -I/usr/include/python3.7m -c src/blob.c -o build/temp.linux-x86_64-3.7/src/blob.o\n",
            "x86_64-linux-gnu-gcc -pthread -Wno-unused-result -Wsign-compare -DNDEBUG -g -fwrapv -O2 -Wall -g -fdebug-prefix-map=/build/python3.7-Y7dWVB/python3.7-3.7.12=. -fstack-protector-strong -Wformat -Werror=format-security -g -fdebug-prefix-map=/build/python3.7-Y7dWVB/python3.7-3.7.12=. -fstack-protector-strong -Wformat -Werror=format-security -Wdate-time -D_FORTIFY_SOURCE=2 -fPIC -DMODULE_NAME=\"pysqlite3.dbapi2\" -DSQLITE_ALLOW_COVERING_INDEX_SCAN=1 -DSQLITE_ENABLE_FTS3=1 -DSQLITE_ENABLE_FTS3_PARENTHESIS=1 -DSQLITE_ENABLE_FTS4=1 -DSQLITE_ENABLE_FTS5=1 -DSQLITE_ENABLE_JSON1=1 -DSQLITE_ENABLE_LOAD_EXTENSION=1 -DSQLITE_ENABLE_RTREE=1 -DSQLITE_ENABLE_STAT4=1 -DSQLITE_ENABLE_UPDATE_DELETE_LIMIT=1 -DSQLITE_SOUNDEX=1 -DSQLITE_USE_URI=1 -DSQLITE_TEMP_STORE=3 -DSQLITE_MAX_VARIABLE_NUMBER=250000 -DSQLITE_MAX_MMAP_SIZE=1099511627776 -I. -I/usr/include/python3.7m -c ./sqlite3.c -o build/temp.linux-x86_64-3.7/./sqlite3.o\n",
            "creating build/lib.linux-x86_64-3.7\n",
            "creating build/lib.linux-x86_64-3.7/pysqlite3\n",
            "x86_64-linux-gnu-gcc -pthread -shared -Wl,-O1 -Wl,-Bsymbolic-functions -Wl,-Bsymbolic-functions -Wl,-z,relro -Wl,-Bsymbolic-functions -Wl,-z,relro -g -fdebug-prefix-map=/build/python3.7-Y7dWVB/python3.7-3.7.12=. -fstack-protector-strong -Wformat -Werror=format-security -Wdate-time -D_FORTIFY_SOURCE=2 build/temp.linux-x86_64-3.7/src/module.o build/temp.linux-x86_64-3.7/src/connection.o build/temp.linux-x86_64-3.7/src/cursor.o build/temp.linux-x86_64-3.7/src/cache.o build/temp.linux-x86_64-3.7/src/microprotocols.o build/temp.linux-x86_64-3.7/src/prepare_protocol.o build/temp.linux-x86_64-3.7/src/statement.o build/temp.linux-x86_64-3.7/src/util.o build/temp.linux-x86_64-3.7/src/row.o build/temp.linux-x86_64-3.7/src/blob.o build/temp.linux-x86_64-3.7/./sqlite3.o -o build/lib.linux-x86_64-3.7/pysqlite3/_sqlite3.cpython-37m-x86_64-linux-gnu.so -lm\n",
            "running build\n",
            "running build_py\n",
            "copying pysqlite3/__init__.py -> build/lib.linux-x86_64-3.7/pysqlite3\n",
            "copying pysqlite3/dbapi2.py -> build/lib.linux-x86_64-3.7/pysqlite3\n",
            "running build_ext\n",
            "Builds a C extension linking against libsqlite3 library\n"
          ]
        }
      ]
    },
    {
      "cell_type": "code",
      "metadata": {
        "id": "hQkqcjL7EXCr",
        "colab": {
          "base_uri": "https://localhost:8080/",
          "height": 35
        },
        "outputId": "95e4af3f-37d6-4841-ef49-1bbd4809df4d"
      },
      "source": [
        "# 메뉴 런타임 > 런타임 다시 시작 후 셀 실행\n",
        "import pandas as pd\n",
        "import sqlite3\n",
        "sqlite3.sqlite_version  # 3.36.0"
      ],
      "execution_count": 1,
      "outputs": [
        {
          "output_type": "execute_result",
          "data": {
            "application/vnd.google.colaboratory.intrinsic+json": {
              "type": "string"
            },
            "text/plain": [
              "'3.36.0'"
            ]
          },
          "metadata": {},
          "execution_count": 1
        }
      ]
    },
    {
      "cell_type": "code",
      "metadata": {
        "colab": {
          "base_uri": "https://localhost:8080/"
        },
        "id": "J9HLGE5ExPtQ",
        "outputId": "8d61e52d-1eb0-4537-cf12-ecb9f578cac7"
      },
      "source": [
        "!python --version"
      ],
      "execution_count": 2,
      "outputs": [
        {
          "output_type": "stream",
          "name": "stdout",
          "text": [
            "Python 3.7.12\n"
          ]
        }
      ]
    },
    {
      "cell_type": "markdown",
      "metadata": {
        "id": "eBD5-kqFxbZC"
      },
      "source": [
        "## 2) Instacart 데이터베이스 다운로드"
      ]
    },
    {
      "cell_type": "code",
      "metadata": {
        "id": "A4DnlgKDf0Ph",
        "colab": {
          "base_uri": "https://localhost:8080/",
          "height": 106
        },
        "outputId": "55ffc8e6-86b8-467d-8399-4da10958e187"
      },
      "source": [
        "import gdown\n",
        "\n",
        "url = 'https://drive.google.com/uc?id=17q9zfOWSRVw_H0tQn03xyLvMcy-ynPE6'\n",
        "output = 'Instacart.db'\n",
        "gdown.download(url, output, quiet=False)"
      ],
      "execution_count": 3,
      "outputs": [
        {
          "output_type": "stream",
          "name": "stderr",
          "text": [
            "Downloading...\n",
            "From: https://drive.google.com/uc?id=17q9zfOWSRVw_H0tQn03xyLvMcy-ynPE6\n",
            "To: /content/Instacart.db\n",
            "100%|██████████| 1.07M/1.07M [00:00<00:00, 101MB/s]\n"
          ]
        },
        {
          "output_type": "execute_result",
          "data": {
            "application/vnd.google.colaboratory.intrinsic+json": {
              "type": "string"
            },
            "text/plain": [
              "'Instacart.db'"
            ]
          },
          "metadata": {},
          "execution_count": 3
        }
      ]
    },
    {
      "cell_type": "markdown",
      "metadata": {
        "id": "PL5PJelMxoh_"
      },
      "source": [
        "## 3) Instacart 데이터베이스 연결"
      ]
    },
    {
      "cell_type": "code",
      "metadata": {
        "id": "dAma45DgCvvT"
      },
      "source": [
        "conn = sqlite3.connect(\"Instacart.db\")\n",
        "cur = conn.cursor()"
      ],
      "execution_count": 4,
      "outputs": []
    },
    {
      "cell_type": "markdown",
      "metadata": {
        "id": "1JuDnthkxx7B"
      },
      "source": [
        "## 4) Instacart 데이터베이스 테이블 조회 테스트"
      ]
    },
    {
      "cell_type": "code",
      "metadata": {
        "id": "XgMq8gRBG2ij"
      },
      "source": [
        "def viewlimit(table, cutlimit):\n",
        "  sql = \"SELECT * FROM \" + table + \" LIMIT \" + cutlimit + \";\"\n",
        "  cur.execute(sql)\n",
        "  rows = cur.fetchall()\n",
        "  print(sql)\n",
        "  for row in rows:\n",
        "    print(row)"
      ],
      "execution_count": 5,
      "outputs": []
    },
    {
      "cell_type": "code",
      "metadata": {
        "id": "W7nPJDRfHXhH",
        "colab": {
          "base_uri": "https://localhost:8080/"
        },
        "outputId": "a04b606f-3f56-4205-9dd4-c359db794d91"
      },
      "source": [
        "viewlimit(\"orders\",\"10\")"
      ],
      "execution_count": 6,
      "outputs": [
        {
          "output_type": "stream",
          "name": "stdout",
          "text": [
            "SELECT * FROM orders LIMIT 10;\n",
            "(2352815, 185282, 'prior', 5, 2, 9, 6)\n",
            "(1414622, 41949, 'prior', 9, 0, 16, 6)\n",
            "(2534064, 24631, 'prior', 66, 1, 13, 4)\n",
            "(338572, 95289, 'prior', 4, 2, 14, 18)\n",
            "(2578618, 170417, 'prior', 5, 1, 13, 14)\n",
            "(1756647, 127210, 'prior', 31, 3, 18, 9)\n",
            "(2636806, 26473, 'prior', 24, 2, 17, 17)\n",
            "(681993, 89155, 'prior', 17, 1, 15, 4)\n",
            "(826339, 67750, 'prior', 7, 3, 14, 17)\n",
            "(57285, 89307, 'prior', 48, 1, 22, 5)\n"
          ]
        }
      ]
    },
    {
      "cell_type": "markdown",
      "metadata": {
        "id": "NyyTaztcH9cG"
      },
      "source": [
        "## 5) Pandas read_sql 함수로 데이터 조회 및 결과 확인"
      ]
    },
    {
      "cell_type": "code",
      "metadata": {
        "id": "Kf2cXIMfie_U",
        "colab": {
          "base_uri": "https://localhost:8080/",
          "height": 357
        },
        "outputId": "02df0e93-3b85-4b8b-83ce-9feef173c64e"
      },
      "source": [
        "window_sql = f\"\"\"\n",
        "select *\n",
        "  from orders\n",
        "\"\"\"\n",
        "df = pd.read_sql(window_sql, conn, index_col=None)\n",
        "df.head(10)"
      ],
      "execution_count": 7,
      "outputs": [
        {
          "output_type": "execute_result",
          "data": {
            "text/html": [
              "<div>\n",
              "<style scoped>\n",
              "    .dataframe tbody tr th:only-of-type {\n",
              "        vertical-align: middle;\n",
              "    }\n",
              "\n",
              "    .dataframe tbody tr th {\n",
              "        vertical-align: top;\n",
              "    }\n",
              "\n",
              "    .dataframe thead th {\n",
              "        text-align: right;\n",
              "    }\n",
              "</style>\n",
              "<table border=\"1\" class=\"dataframe\">\n",
              "  <thead>\n",
              "    <tr style=\"text-align: right;\">\n",
              "      <th></th>\n",
              "      <th>order_id</th>\n",
              "      <th>user_id</th>\n",
              "      <th>eval_set</th>\n",
              "      <th>order_number</th>\n",
              "      <th>order_dow</th>\n",
              "      <th>order_hour_of_day</th>\n",
              "      <th>days_since_prior_order</th>\n",
              "    </tr>\n",
              "  </thead>\n",
              "  <tbody>\n",
              "    <tr>\n",
              "      <th>0</th>\n",
              "      <td>2352815</td>\n",
              "      <td>185282</td>\n",
              "      <td>prior</td>\n",
              "      <td>5</td>\n",
              "      <td>2</td>\n",
              "      <td>9</td>\n",
              "      <td>6</td>\n",
              "    </tr>\n",
              "    <tr>\n",
              "      <th>1</th>\n",
              "      <td>1414622</td>\n",
              "      <td>41949</td>\n",
              "      <td>prior</td>\n",
              "      <td>9</td>\n",
              "      <td>0</td>\n",
              "      <td>16</td>\n",
              "      <td>6</td>\n",
              "    </tr>\n",
              "    <tr>\n",
              "      <th>2</th>\n",
              "      <td>2534064</td>\n",
              "      <td>24631</td>\n",
              "      <td>prior</td>\n",
              "      <td>66</td>\n",
              "      <td>1</td>\n",
              "      <td>13</td>\n",
              "      <td>4</td>\n",
              "    </tr>\n",
              "    <tr>\n",
              "      <th>3</th>\n",
              "      <td>338572</td>\n",
              "      <td>95289</td>\n",
              "      <td>prior</td>\n",
              "      <td>4</td>\n",
              "      <td>2</td>\n",
              "      <td>14</td>\n",
              "      <td>18</td>\n",
              "    </tr>\n",
              "    <tr>\n",
              "      <th>4</th>\n",
              "      <td>2578618</td>\n",
              "      <td>170417</td>\n",
              "      <td>prior</td>\n",
              "      <td>5</td>\n",
              "      <td>1</td>\n",
              "      <td>13</td>\n",
              "      <td>14</td>\n",
              "    </tr>\n",
              "    <tr>\n",
              "      <th>5</th>\n",
              "      <td>1756647</td>\n",
              "      <td>127210</td>\n",
              "      <td>prior</td>\n",
              "      <td>31</td>\n",
              "      <td>3</td>\n",
              "      <td>18</td>\n",
              "      <td>9</td>\n",
              "    </tr>\n",
              "    <tr>\n",
              "      <th>6</th>\n",
              "      <td>2636806</td>\n",
              "      <td>26473</td>\n",
              "      <td>prior</td>\n",
              "      <td>24</td>\n",
              "      <td>2</td>\n",
              "      <td>17</td>\n",
              "      <td>17</td>\n",
              "    </tr>\n",
              "    <tr>\n",
              "      <th>7</th>\n",
              "      <td>681993</td>\n",
              "      <td>89155</td>\n",
              "      <td>prior</td>\n",
              "      <td>17</td>\n",
              "      <td>1</td>\n",
              "      <td>15</td>\n",
              "      <td>4</td>\n",
              "    </tr>\n",
              "    <tr>\n",
              "      <th>8</th>\n",
              "      <td>826339</td>\n",
              "      <td>67750</td>\n",
              "      <td>prior</td>\n",
              "      <td>7</td>\n",
              "      <td>3</td>\n",
              "      <td>14</td>\n",
              "      <td>17</td>\n",
              "    </tr>\n",
              "    <tr>\n",
              "      <th>9</th>\n",
              "      <td>57285</td>\n",
              "      <td>89307</td>\n",
              "      <td>prior</td>\n",
              "      <td>48</td>\n",
              "      <td>1</td>\n",
              "      <td>22</td>\n",
              "      <td>5</td>\n",
              "    </tr>\n",
              "  </tbody>\n",
              "</table>\n",
              "</div>"
            ],
            "text/plain": [
              "   order_id  user_id  ... order_hour_of_day  days_since_prior_order\n",
              "0   2352815   185282  ...                 9                       6\n",
              "1   1414622    41949  ...                16                       6\n",
              "2   2534064    24631  ...                13                       4\n",
              "3    338572    95289  ...                14                      18\n",
              "4   2578618   170417  ...                13                      14\n",
              "5   1756647   127210  ...                18                       9\n",
              "6   2636806    26473  ...                17                      17\n",
              "7    681993    89155  ...                15                       4\n",
              "8    826339    67750  ...                14                      17\n",
              "9     57285    89307  ...                22                       5\n",
              "\n",
              "[10 rows x 7 columns]"
            ]
          },
          "metadata": {},
          "execution_count": 7
        }
      ]
    },
    {
      "cell_type": "code",
      "metadata": {
        "id": "XyjHksrFSq7Q"
      },
      "source": [
        "#db조회 결과 다운로드\n",
        "df.to_csv('/content/tmp.csv')"
      ],
      "execution_count": 8,
      "outputs": []
    },
    {
      "cell_type": "markdown",
      "metadata": {
        "id": "wXnK-AJHVDpv"
      },
      "source": [
        "## 6) 구글 드라이브 마운트 및 파일 저장"
      ]
    },
    {
      "cell_type": "code",
      "metadata": {
        "colab": {
          "base_uri": "https://localhost:8080/"
        },
        "id": "gGz6qF2LZF27",
        "outputId": "a18639aa-0157-4e68-9964-e8ac4ed1d445"
      },
      "source": [
        "from google.colab import drive\n",
        "drive.mount('/content/drive')"
      ],
      "execution_count": 9,
      "outputs": [
        {
          "output_type": "stream",
          "name": "stdout",
          "text": [
            "Mounted at /content/drive\n"
          ]
        }
      ]
    },
    {
      "cell_type": "markdown",
      "metadata": {
        "id": "--NS55hBEThT"
      },
      "source": [
        "아래 코드 실행 전 내 드라이브에 result 폴더를 생성하고 해당 폴더 안에 7w 폴더를 생성함"
      ]
    },
    {
      "cell_type": "code",
      "metadata": {
        "id": "ZQYop_VuWWsc"
      },
      "source": [
        "def sql_result(sql,file):\n",
        "  print(sql)\n",
        "  df = pd.read_sql(sql, conn, index_col=None)\n",
        "  print(df.head(10))\n",
        "  file_name = '/content/drive/MyDrive/result/7w/' + file + '.csv' #csv파일을 MyDrive/result/7w 폴더에 저장\n",
        "  print(file_name)\n",
        "  df.to_csv(file_name, index=False)"
      ],
      "execution_count": 10,
      "outputs": []
    },
    {
      "cell_type": "code",
      "metadata": {
        "id": "NbXxClBFWZxN"
      },
      "source": [
        "sql = f\"\"\"\n",
        "select *\n",
        "  from orders\n",
        " limit 10\n",
        "\"\"\"\n",
        "file = 'result_7w_test'"
      ],
      "execution_count": 11,
      "outputs": []
    },
    {
      "cell_type": "code",
      "metadata": {
        "colab": {
          "base_uri": "https://localhost:8080/"
        },
        "id": "3VDb1CRtWZn2",
        "outputId": "0566c03e-acdc-4cd7-c0d9-53f70eaa14ff"
      },
      "source": [
        "sql_result(sql,file)"
      ],
      "execution_count": 12,
      "outputs": [
        {
          "output_type": "stream",
          "name": "stdout",
          "text": [
            "\n",
            "select *\n",
            "  from orders\n",
            " limit 10\n",
            "\n",
            "   order_id  user_id  ... order_hour_of_day  days_since_prior_order\n",
            "0   2352815   185282  ...                 9                       6\n",
            "1   1414622    41949  ...                16                       6\n",
            "2   2534064    24631  ...                13                       4\n",
            "3    338572    95289  ...                14                      18\n",
            "4   2578618   170417  ...                13                      14\n",
            "5   1756647   127210  ...                18                       9\n",
            "6   2636806    26473  ...                17                      17\n",
            "7    681993    89155  ...                15                       4\n",
            "8    826339    67750  ...                14                      17\n",
            "9     57285    89307  ...                22                       5\n",
            "\n",
            "[10 rows x 7 columns]\n",
            "/content/drive/MyDrive/result/7w/result_7w_test.csv\n"
          ]
        }
      ]
    },
    {
      "cell_type": "markdown",
      "metadata": {
        "id": "jnanxZi3Fqm3"
      },
      "source": [
        "# 1.데이터 생성"
      ]
    },
    {
      "cell_type": "markdown",
      "metadata": {
        "id": "BRLivRO85KuW"
      },
      "source": [
        "데이터 다운로드 URL https://github.com/billyrohh/instacart_dataset"
      ]
    },
    {
      "cell_type": "markdown",
      "metadata": {
        "id": "uLvKw6PkO6LE"
      },
      "source": [
        "데이터베이스 소개 https://www.kaggle.com/c/instacart-market-basket-analysis/data"
      ]
    },
    {
      "cell_type": "markdown",
      "metadata": {
        "id": "M9ZHFjr2O8hv"
      },
      "source": [
        "처음 접하는 데이터가 있다면 항상 각 테이블이 무엇을 의미하는지, 어떤 컬럼이 있는 확인하고 테이블 간의 관계를 파악해야 한다."
      ]
    },
    {
      "cell_type": "markdown",
      "metadata": {
        "id": "5ZpWvSmIO_M8"
      },
      "source": [
        "<center>\n",
        "\n",
        "|테이블명|내용|\n",
        "|-----|-----|\n",
        "|aisles|상품카테고리정보1|\n",
        "|departments|상품카테고리정보2|\n",
        "|order_products__prior|각 주문 번호의 상세 구매 내역|\n",
        "|orders|주문 대표 정보|\n",
        "|products|상품정보|\n",
        "</center>"
      ]
    },
    {
      "cell_type": "markdown",
      "metadata": {
        "id": "BA8KW-N2PE4g"
      },
      "source": [
        "[aisles]\n",
        "*   aisle_id\n",
        "*   aisle\n",
        "\n",
        "[departments]\n",
        "*   department_id\n",
        "*   department\n",
        "\n",
        "[order_products__prior]\n",
        "*   order_id\n",
        "*   product_id\n",
        "*   add_to_cart_order\n",
        "*   reordered\n",
        "\n",
        "[orders]\n",
        "*   order_id\n",
        "*   user_id\n",
        "*   eval_set\n",
        "*   order_number\n",
        "*   order_dow\n",
        "*   order_hour_of_day\n",
        "*   days_since_prior\n",
        "\n",
        "[products]\n",
        "*   product_id\n",
        "*   product_name\n",
        "*   aisle_id\n",
        "*   department_id"
      ]
    },
    {
      "cell_type": "markdown",
      "metadata": {
        "id": "BINSrYgI9MI1"
      },
      "source": [
        "# 4.구매자 분석 (사전녹화)"
      ]
    },
    {
      "cell_type": "markdown",
      "metadata": {
        "id": "Mr4x1ZN_9vY_"
      },
      "source": [
        "### 1) 10분위 분석"
      ]
    },
    {
      "cell_type": "markdown",
      "metadata": {
        "id": "8BRxIodF9vQY"
      },
      "source": [
        "*   10분위 분석을 통해서 서비스 주문 수가 VIP 고객에게 얼마나 집중되어 있는지 확인함"
      ]
    },
    {
      "cell_type": "markdown",
      "metadata": {
        "id": "4KoIaxjv9vIe"
      },
      "source": [
        "*   고객별로 주문 건수를 계산한 뒤, 주문 건수를 기준으로 각 고객이 어떤 그룹에 속하는지 구함"
      ]
    },
    {
      "cell_type": "markdown",
      "metadata": {
        "id": "JfmSRzTI9u97"
      },
      "source": [
        "*   다음으로 각 분위 위수별 주문 건수의 합을 구하면, 전체 주문건이 어떤 그룹에 얼마나 집중되어 있는지 계산할 수 있음"
      ]
    },
    {
      "cell_type": "markdown",
      "metadata": {
        "id": "N0z5WaJemJRZ"
      },
      "source": [
        "<center>\n",
        "\n",
        "|그룹|비중|\n",
        "|---|---|\n",
        "|1|0~10%|\n",
        "|2|10~20%|\n",
        "|3|20~30%|\n",
        "|4|30~40%|\n",
        "|5|40~50%|\n",
        "|6|50~60%|\n",
        "|7|60~70%|\n",
        "|8|70~80%|\n",
        "|9|80~90%|\n",
        "|10|90~100%|\n",
        "\n",
        "</center>"
      ]
    },
    {
      "cell_type": "markdown",
      "metadata": {
        "id": "nGj_9jk39uTw"
      },
      "source": [
        "*10분위 분석이란?"
      ]
    },
    {
      "cell_type": "markdown",
      "metadata": {
        "id": "eY1sC9iR9t-p"
      },
      "source": [
        "*   전체를 10분위로 나누어 각 분위 수에 해당하는 집단의 성질을 나타내는 방법."
      ]
    },
    {
      "cell_type": "markdown",
      "metadata": {
        "id": "Xore7ejV9toU"
      },
      "source": [
        "*   10분위 분석을 진행하려면 먼저 각 구매자의 분위 수를 구해야 함\n",
        "*   고객들의 주문 건수를 기준으로 분위 수를 나눔"
      ]
    },
    {
      "cell_type": "markdown",
      "metadata": {
        "id": "Dt2FeUyQ9tDY"
      },
      "source": [
        "*   STEP1 : 먼저 다음과 같은 방법으로 주문 건수에 따른 Rank를 생성함"
      ]
    },
    {
      "cell_type": "code",
      "metadata": {
        "colab": {
          "base_uri": "https://localhost:8080/"
        },
        "id": "KMezgWXBfE3v",
        "outputId": "24123a67-c258-42b8-b5eb-68130fc2cf9e"
      },
      "source": [
        "# 고객별 주문 건수 기준 랭킹\n",
        "sql = f\"\"\"\n",
        "SELECT *\n",
        "     , ROW_NUMBER() OVER (ORDER BY F DESC) RNK\n",
        "  FROM (\n",
        "SELECT USER_ID\n",
        "     , COUNT(DISTINCT ORDER_ID) F\n",
        "  FROM ORDERS\n",
        " GROUP BY 1\n",
        "     ) A\n",
        "\"\"\"\n",
        "sql_result(sql,'4_1_1구매자분석')"
      ],
      "execution_count": 13,
      "outputs": [
        {
          "output_type": "stream",
          "name": "stdout",
          "text": [
            "\n",
            "SELECT *\n",
            "     , ROW_NUMBER() OVER (ORDER BY F DESC) RNK\n",
            "  FROM (\n",
            "SELECT USER_ID\n",
            "     , COUNT(DISTINCT ORDER_ID) F\n",
            "  FROM ORDERS\n",
            " GROUP BY 1\n",
            "     ) A\n",
            "\n",
            "   USER_ID  F  RNK\n",
            "0    32099  3    1\n",
            "1     2610  2    2\n",
            "2    10132  2    3\n",
            "3    10972  2    4\n",
            "4    12435  2    5\n",
            "5    22379  2    6\n",
            "6    25449  2    7\n",
            "7    33244  2    8\n",
            "8    37499  2    9\n",
            "9    37801  2   10\n",
            "/content/drive/MyDrive/result/7w/4_1_1구매자분석.csv\n"
          ]
        }
      ]
    },
    {
      "cell_type": "markdown",
      "metadata": {
        "id": "gSXK4ngj-BNW"
      },
      "source": [
        "* STEP2 : 고객별로 분위 수를 매기려면 전체 고객이 몇 명인지 알아야 함\n",
        "*   다음과 같은 방법으로 전체 고객 수를 계산함"
      ]
    },
    {
      "cell_type": "code",
      "metadata": {
        "colab": {
          "base_uri": "https://localhost:8080/"
        },
        "id": "i292N_jAfUX-",
        "outputId": "c6c175f2-088e-4c83-a22b-7021b229e88e"
      },
      "source": [
        "# 전체 고객수\n",
        "sql = f\"\"\"\n",
        "SELECT COUNT(DISTINCT USER_ID)\n",
        "  FROM (\n",
        "SELECT USER_ID\n",
        "     , COUNT(DISTINCT ORDER_ID) F\n",
        "  FROM ORDERS\n",
        " GROUP BY 1\n",
        "     ) A\n",
        "\"\"\"\n",
        "sql_result(sql,'4_1_2구매자분석')"
      ],
      "execution_count": 14,
      "outputs": [
        {
          "output_type": "stream",
          "name": "stdout",
          "text": [
            "\n",
            "SELECT COUNT(DISTINCT USER_ID)\n",
            "  FROM (\n",
            "SELECT USER_ID\n",
            "     , COUNT(DISTINCT ORDER_ID) F\n",
            "  FROM ORDERS\n",
            " GROUP BY 1\n",
            "     ) A\n",
            "\n",
            "   COUNT(DISTINCT USER_ID)\n",
            "0                     3159\n",
            "/content/drive/MyDrive/result/7w/4_1_2구매자분석.csv\n"
          ]
        }
      ]
    },
    {
      "cell_type": "markdown",
      "metadata": {
        "id": "X1NQNvzi-Fqt"
      },
      "source": [
        "*   STEP3 : 전체 고객 수는 3,159명으로 등수별 분위 수 는 다음과 같이 계산함"
      ]
    },
    {
      "cell_type": "markdown",
      "metadata": {
        "id": "vk0SQnnF-FoC"
      },
      "source": [
        "*   각 등수에 따른 분위 수는 CASE WHEN 구문을 이용해 다음과 같은 방법으로 설정할 수 있음"
      ]
    },
    {
      "cell_type": "code",
      "metadata": {
        "colab": {
          "base_uri": "https://localhost:8080/"
        },
        "id": "8eaiEnsofayC",
        "outputId": "b5b140f0-6713-495e-bad5-dccea5c04371"
      },
      "source": [
        "#전체 고객수 기준 \n",
        "sql = f\"\"\"\n",
        "-- 고객별 주무 건수 기준 랭킹 분위수 단위 변경\n",
        "SELECT *\n",
        "     , CASE WHEN RNK BETWEEN 1    AND 316  THEN 'Quantile_1' --316명\n",
        "            WHEN RNK BETWEEN 317  AND 632  THEN 'Quantile_2'\n",
        "            WHEN RNK BETWEEN 633  AND 948  THEN 'Quantile_3'\n",
        "            WHEN RNK BETWEEN 949  AND 1264 THEN 'Quantile_4'\n",
        "            WHEN RNK BETWEEN 1265 AND 1580 THEN 'Quantile_5'\n",
        "            WHEN RNK BETWEEN 1581 AND 1896 THEN 'Quantile_6'\n",
        "            WHEN RNK BETWEEN 1897 AND 2212 THEN 'Quantile_7'\n",
        "            WHEN RNK BETWEEN 2213 AND 2528 THEN 'Quantile_8'\n",
        "            WHEN RNK BETWEEN 2529 AND 2844 THEN 'Quantile_9'\n",
        "            WHEN RNK BETWEEN 2845 AND 3159 THEN 'Quantile_10' --315명\n",
        "        END quantile\n",
        "\n",
        "-- 고객별 주문 건수 기준 랭킹\n",
        "  FROM (\n",
        "SELECT *\n",
        "     , ROW_NUMBER() OVER(ORDER BY F DESC) RNK\n",
        "  FROM (\n",
        "SELECT USER_ID\n",
        "     , COUNT(DISTINCT ORDER_ID) F\n",
        "  FROM ORDERS\n",
        " GROUP BY 1\n",
        "     ) A\n",
        "     ) A\n",
        ";\n",
        "\"\"\"\n",
        "sql_result(sql,'4_1_3구매자분석')"
      ],
      "execution_count": 15,
      "outputs": [
        {
          "output_type": "stream",
          "name": "stdout",
          "text": [
            "\n",
            "-- 고객별 주무 건수 기준 랭킹 분위수 단위 변경\n",
            "SELECT *\n",
            "     , CASE WHEN RNK BETWEEN 1    AND 316  THEN 'Quantile_1' --316명\n",
            "            WHEN RNK BETWEEN 317  AND 632  THEN 'Quantile_2'\n",
            "            WHEN RNK BETWEEN 633  AND 948  THEN 'Quantile_3'\n",
            "            WHEN RNK BETWEEN 949  AND 1264 THEN 'Quantile_4'\n",
            "            WHEN RNK BETWEEN 1265 AND 1580 THEN 'Quantile_5'\n",
            "            WHEN RNK BETWEEN 1581 AND 1896 THEN 'Quantile_6'\n",
            "            WHEN RNK BETWEEN 1897 AND 2212 THEN 'Quantile_7'\n",
            "            WHEN RNK BETWEEN 2213 AND 2528 THEN 'Quantile_8'\n",
            "            WHEN RNK BETWEEN 2529 AND 2844 THEN 'Quantile_9'\n",
            "            WHEN RNK BETWEEN 2845 AND 3159 THEN 'Quantile_10' --315명\n",
            "        END quantile\n",
            "\n",
            "-- 고객별 주문 건수 기준 랭킹\n",
            "  FROM (\n",
            "SELECT *\n",
            "     , ROW_NUMBER() OVER(ORDER BY F DESC) RNK\n",
            "  FROM (\n",
            "SELECT USER_ID\n",
            "     , COUNT(DISTINCT ORDER_ID) F\n",
            "  FROM ORDERS\n",
            " GROUP BY 1\n",
            "     ) A\n",
            "     ) A\n",
            ";\n",
            "\n",
            "   USER_ID  F  RNK    quantile\n",
            "0    32099  3    1  Quantile_1\n",
            "1     2610  2    2  Quantile_1\n",
            "2    10132  2    3  Quantile_1\n",
            "3    10972  2    4  Quantile_1\n",
            "4    12435  2    5  Quantile_1\n",
            "5    22379  2    6  Quantile_1\n",
            "6    25449  2    7  Quantile_1\n",
            "7    33244  2    8  Quantile_1\n",
            "8    37499  2    9  Quantile_1\n",
            "9    37801  2   10  Quantile_1\n",
            "/content/drive/MyDrive/result/7w/4_1_3구매자분석.csv\n"
          ]
        }
      ]
    },
    {
      "cell_type": "markdown",
      "metadata": {
        "id": "8m5kpjqg-FkW"
      },
      "source": [
        "*   참고 : CASE WHEN 구문에서는 각 분위 수별로 등수를 지정했는데, 모든 등수를 기재할 필요 없이 다음과 같은 방법으로도 처리 가능함"
      ]
    },
    {
      "cell_type": "code",
      "metadata": {
        "colab": {
          "base_uri": "https://localhost:8080/"
        },
        "id": "ZbFtIJJ3flYc",
        "outputId": "b4aaecaf-ad89-4df8-f0bb-1ce8853a36c6"
      },
      "source": [
        "# 위랑 동일한 결과로 나옴\n",
        "\n",
        "sql = f\"\"\"\n",
        "SELECT *\n",
        "     , CASE WHEN RNK <= 316  THEN 'Quantile_1'\n",
        "            WHEN RNK <= 632  THEN 'Quantile_2'\n",
        "            WHEN RNK <= 948  THEN 'Quantile_3'\n",
        "            WHEN RNK <= 1264 THEN 'Quantile_4'\n",
        "            WHEN RNK <= 1580 THEN 'Quantile_5'\n",
        "            WHEN RNK <= 1896 THEN 'Quantile_6'\n",
        "            WHEN RNK <= 2212 THEN 'Quantile_7'\n",
        "            WHEN RNK <= 2528 THEN 'Quantile_8'\n",
        "            WHEN RNK <= 2844 THEN 'Quantile_9'\n",
        "            WHEN RNK <= 3159 THEN 'Quantile_10'\n",
        "        END quantile\n",
        "  FROM (\n",
        "SELECT *\n",
        "     , ROW_NUMBER() OVER(ORDER BY F DESC) RNK\n",
        "  FROM (\n",
        "SELECT USER_ID\n",
        "     , COUNT(DISTINCT ORDER_ID) F\n",
        "  FROM ORDERS\n",
        " GROUP BY 1\n",
        "     ) A\n",
        "     ) A\n",
        ";\n",
        "\"\"\"\n",
        "sql_result(sql,'4_1_4구매자분석')"
      ],
      "execution_count": 16,
      "outputs": [
        {
          "output_type": "stream",
          "name": "stdout",
          "text": [
            "\n",
            "SELECT *\n",
            "     , CASE WHEN RNK <= 316  THEN 'Quantile_1'\n",
            "            WHEN RNK <= 632  THEN 'Quantile_2'\n",
            "            WHEN RNK <= 948  THEN 'Quantile_3'\n",
            "            WHEN RNK <= 1264 THEN 'Quantile_4'\n",
            "            WHEN RNK <= 1580 THEN 'Quantile_5'\n",
            "            WHEN RNK <= 1896 THEN 'Quantile_6'\n",
            "            WHEN RNK <= 2212 THEN 'Quantile_7'\n",
            "            WHEN RNK <= 2528 THEN 'Quantile_8'\n",
            "            WHEN RNK <= 2844 THEN 'Quantile_9'\n",
            "            WHEN RNK <= 3159 THEN 'Quantile_10'\n",
            "        END quantile\n",
            "  FROM (\n",
            "SELECT *\n",
            "     , ROW_NUMBER() OVER(ORDER BY F DESC) RNK\n",
            "  FROM (\n",
            "SELECT USER_ID\n",
            "     , COUNT(DISTINCT ORDER_ID) F\n",
            "  FROM ORDERS\n",
            " GROUP BY 1\n",
            "     ) A\n",
            "     ) A\n",
            ";\n",
            "\n",
            "   USER_ID  F  RNK    quantile\n",
            "0    32099  3    1  Quantile_1\n",
            "1     2610  2    2  Quantile_1\n",
            "2    10132  2    3  Quantile_1\n",
            "3    10972  2    4  Quantile_1\n",
            "4    12435  2    5  Quantile_1\n",
            "5    22379  2    6  Quantile_1\n",
            "6    25449  2    7  Quantile_1\n",
            "7    33244  2    8  Quantile_1\n",
            "8    37499  2    9  Quantile_1\n",
            "9    37801  2   10  Quantile_1\n",
            "/content/drive/MyDrive/result/7w/4_1_4구매자분석.csv\n"
          ]
        }
      ]
    },
    {
      "cell_type": "markdown",
      "metadata": {
        "id": "KtLTQCVJI6U-"
      },
      "source": [
        "## 2) 분위수 별 특성 파악"
      ]
    },
    {
      "cell_type": "markdown",
      "metadata": {
        "id": "3-5H1cv7-FgE"
      },
      "source": [
        "*   각 분위 수별 특성을 파악해 보고자 함\n",
        "*   각 분위 수별로 평균 주문수를 파악함\n",
        "*   STEP1 : 먼저 위의 조회 결과를 하나의 테이블로 생성해 user_id별 분위 수 정보를 생성함"
      ]
    },
    {
      "cell_type": "code",
      "metadata": {
        "colab": {
          "base_uri": "https://localhost:8080/"
        },
        "id": "yertcPtXf1Ye",
        "outputId": "583f5953-55f6-4995-b4f5-d626ffc2bc83"
      },
      "source": [
        "#만약 USER_QUANTILE 테이블이 존재하는 경우 삭제\n",
        "sql = f\"\"\"\n",
        "DROP TABLE IF EXISTS USER_QUANTILE;\n",
        "\"\"\"\n",
        "conn.execute(sql)"
      ],
      "execution_count": 17,
      "outputs": [
        {
          "output_type": "execute_result",
          "data": {
            "text/plain": [
              "<pysqlite3.dbapi2.Cursor at 0x7f409a6996c0>"
            ]
          },
          "metadata": {},
          "execution_count": 17
        }
      ]
    },
    {
      "cell_type": "code",
      "metadata": {
        "colab": {
          "base_uri": "https://localhost:8080/"
        },
        "id": "M7x8Xz_oftlg",
        "outputId": "994e4d50-5b12-46e6-d2c3-95e2c4bced11"
      },
      "source": [
        "sql = f\"\"\"\n",
        "\n",
        "CREATE TABLE USER_QUANTILE AS\n",
        "SELECT *\n",
        "     , CASE WHEN RNK <= 316  THEN 'Quantile_1'\n",
        "            WHEN RNK <= 632  THEN 'Quantile_2'\n",
        "            WHEN RNK <= 948  THEN 'Quantile_3'\n",
        "            WHEN RNK <= 1264 THEN 'Quantile_4'\n",
        "            WHEN RNK <= 1580 THEN 'Quantile_5'\n",
        "            WHEN RNK <= 1896 THEN 'Quantile_6'\n",
        "            WHEN RNK <= 2212 THEN 'Quantile_7'\n",
        "            WHEN RNK <= 2528 THEN 'Quantile_8'\n",
        "            WHEN RNK <= 2844 THEN 'Quantile_9'\n",
        "            WHEN RNK <= 3159 THEN 'Quantile_10'\n",
        "        END quantile\n",
        "  FROM (\n",
        "SELECT *\n",
        "     , ROW_NUMBER() OVER(ORDER BY F DESC) RNK\n",
        "  FROM (\n",
        "SELECT USER_ID\n",
        "     , COUNT(DISTINCT ORDER_ID) F\n",
        "  FROM ORDERS\n",
        " GROUP BY 1\n",
        "     ) A\n",
        "     ) A\n",
        ";\n",
        "\"\"\"\n",
        "conn.execute(sql)"
      ],
      "execution_count": 18,
      "outputs": [
        {
          "output_type": "execute_result",
          "data": {
            "text/plain": [
              "<pysqlite3.dbapi2.Cursor at 0x7f409a6998f0>"
            ]
          },
          "metadata": {},
          "execution_count": 18
        }
      ]
    },
    {
      "cell_type": "code",
      "metadata": {
        "colab": {
          "base_uri": "https://localhost:8080/",
          "height": 234
        },
        "id": "0ZEjF7WaFl7J",
        "outputId": "cef0b451-0e5d-44eb-8831-76f97f5db32f"
      },
      "source": [
        "#테이블 리스트 확인\n",
        "sql = f\"\"\"\n",
        "SELECT name FROM sqlite_master WHERE type='table';\n",
        "\"\"\"\n",
        "df = pd.read_sql(sql, conn, index_col=None)\n",
        "df"
      ],
      "execution_count": 19,
      "outputs": [
        {
          "output_type": "execute_result",
          "data": {
            "text/html": [
              "<div>\n",
              "<style scoped>\n",
              "    .dataframe tbody tr th:only-of-type {\n",
              "        vertical-align: middle;\n",
              "    }\n",
              "\n",
              "    .dataframe tbody tr th {\n",
              "        vertical-align: top;\n",
              "    }\n",
              "\n",
              "    .dataframe thead th {\n",
              "        text-align: right;\n",
              "    }\n",
              "</style>\n",
              "<table border=\"1\" class=\"dataframe\">\n",
              "  <thead>\n",
              "    <tr style=\"text-align: right;\">\n",
              "      <th></th>\n",
              "      <th>name</th>\n",
              "    </tr>\n",
              "  </thead>\n",
              "  <tbody>\n",
              "    <tr>\n",
              "      <th>0</th>\n",
              "      <td>aisles</td>\n",
              "    </tr>\n",
              "    <tr>\n",
              "      <th>1</th>\n",
              "      <td>departments</td>\n",
              "    </tr>\n",
              "    <tr>\n",
              "      <th>2</th>\n",
              "      <td>order_products__prior</td>\n",
              "    </tr>\n",
              "    <tr>\n",
              "      <th>3</th>\n",
              "      <td>orders</td>\n",
              "    </tr>\n",
              "    <tr>\n",
              "      <th>4</th>\n",
              "      <td>products</td>\n",
              "    </tr>\n",
              "    <tr>\n",
              "      <th>5</th>\n",
              "      <td>USER_QUANTILE</td>\n",
              "    </tr>\n",
              "  </tbody>\n",
              "</table>\n",
              "</div>"
            ],
            "text/plain": [
              "                    name\n",
              "0                 aisles\n",
              "1            departments\n",
              "2  order_products__prior\n",
              "3                 orders\n",
              "4               products\n",
              "5          USER_QUANTILE"
            ]
          },
          "metadata": {},
          "execution_count": 19
        }
      ]
    },
    {
      "cell_type": "markdown",
      "metadata": {
        "id": "Wyd8IM7z-FeB"
      },
      "source": [
        "*   STEP2 : 다음과 같은 방법으로 각 분위 수별 전체 주문 건수의 합을 구할 수 있음"
      ]
    },
    {
      "cell_type": "code",
      "metadata": {
        "colab": {
          "base_uri": "https://localhost:8080/"
        },
        "id": "Vceki5zkgOV3",
        "outputId": "23b79bd3-cc73-4aca-e715-855c1ce8a6cb"
      },
      "source": [
        "# SUM(F)는 구매한 사람들의 수...?\n",
        "# quantile 이름 순으로 정렬함 (order by 1 desc)\n",
        "\n",
        "sql = f\"\"\"\n",
        "SELECT QUANTILE\n",
        "     , SUM(F) F\n",
        "  FROM USER_QUANTILE\n",
        " GROUP BY 1\n",
        " ORDER BY 1 DESC\n",
        ";\n",
        "\"\"\"\n",
        "sql_result(sql,'4_1_5구매자분석')"
      ],
      "execution_count": 23,
      "outputs": [
        {
          "output_type": "stream",
          "name": "stdout",
          "text": [
            "\n",
            "SELECT QUANTILE\n",
            "     , SUM(F) F\n",
            "  FROM USER_QUANTILE\n",
            " GROUP BY 1\n",
            " ORDER BY 1 ASC\n",
            ";\n",
            "\n",
            "      quantile    F\n",
            "0   Quantile_1  377\n",
            "1  Quantile_10  315\n",
            "2   Quantile_2  316\n",
            "3   Quantile_3  316\n",
            "4   Quantile_4  316\n",
            "5   Quantile_5  316\n",
            "6   Quantile_6  316\n",
            "7   Quantile_7  316\n",
            "8   Quantile_8  316\n",
            "9   Quantile_9  316\n",
            "/content/drive/MyDrive/result/7w/4_1_5구매자분석.csv\n"
          ]
        }
      ]
    },
    {
      "cell_type": "markdown",
      "metadata": {
        "id": "-OUmFr3p-FbH"
      },
      "source": [
        "*   STEP3 : 전체 주문 건수를 계산하고, 각 분위 수의 주문 건수를 전체 주문 건수로 나누기 함"
      ]
    },
    {
      "cell_type": "code",
      "metadata": {
        "colab": {
          "base_uri": "https://localhost:8080/"
        },
        "id": "nW2xWwnygaK1",
        "outputId": "a203e056-b0ed-4196-b091-2cd04b1301ae"
      },
      "source": [
        "#전체 주문 건수\n",
        "sql = f\"\"\"\n",
        "SELECT SUM(F)\n",
        "  FROM USER_QUANTILE\n",
        ";\n",
        "\"\"\"\n",
        "sql_result(sql,'4_1_6구매자분석')"
      ],
      "execution_count": 24,
      "outputs": [
        {
          "output_type": "stream",
          "name": "stdout",
          "text": [
            "\n",
            "SELECT SUM(F)\n",
            "  FROM USER_QUANTILE\n",
            ";\n",
            "\n",
            "   SUM(F)\n",
            "0    3220\n",
            "/content/drive/MyDrive/result/7w/4_1_6구매자분석.csv\n"
          ]
        }
      ]
    },
    {
      "cell_type": "code",
      "metadata": {
        "colab": {
          "base_uri": "https://localhost:8080/"
        },
        "id": "08c5NYaWgq2x",
        "outputId": "ec011c08-aea2-4b1e-d0cb-4d82f3199ef2"
      },
      "source": [
        "#분위수별 주문건수 / 전체 주문건수\n",
        "sql = f\"\"\"\n",
        "SELECT QUANTILE\n",
        "     , SUM(F)/(3220 +0.0) F\n",
        "  FROM USER_QUANTILE\n",
        " GROUP BY 1\n",
        ";\n",
        "\"\"\"\n",
        "sql_result(sql,'4_1_7구매자분석')"
      ],
      "execution_count": 25,
      "outputs": [
        {
          "output_type": "stream",
          "name": "stdout",
          "text": [
            "\n",
            "SELECT QUANTILE\n",
            "     , SUM(F)/(3220 +0.0) F\n",
            "  FROM USER_QUANTILE\n",
            " GROUP BY 1\n",
            ";\n",
            "\n",
            "      quantile         F\n",
            "0   Quantile_1  0.117081\n",
            "1  Quantile_10  0.097826\n",
            "2   Quantile_2  0.098137\n",
            "3   Quantile_3  0.098137\n",
            "4   Quantile_4  0.098137\n",
            "5   Quantile_5  0.098137\n",
            "6   Quantile_6  0.098137\n",
            "7   Quantile_7  0.098137\n",
            "8   Quantile_8  0.098137\n",
            "9   Quantile_9  0.098137\n",
            "/content/drive/MyDrive/result/7w/4_1_7구매자분석.csv\n"
          ]
        }
      ]
    },
    {
      "cell_type": "markdown",
      "metadata": {
        "id": "gtJJRoI3-FYd"
      },
      "source": [
        "*   결과 : 각 분위 수별로 주문 건수가 거의 균등하게 분포되어 있음\n",
        "*   해당 서비스는 매출이 VIP에게 집중되지 않고, 전체 고객에게 고르게 분포되어 있음을 알 수 있음"
      ]
    },
    {
      "cell_type": "markdown",
      "metadata": {
        "id": "nKhbF-b29Uds"
      },
      "source": [
        "# 5.상품 분석 (사전녹화)"
      ]
    },
    {
      "cell_type": "markdown",
      "metadata": {
        "id": "INBTo1yG-UNU"
      },
      "source": [
        "*   재구매를 많이 하는 상품을 알아보고 각 상품의 판매 특성에 대해 확인"
      ]
    },
    {
      "cell_type": "markdown",
      "metadata": {
        "id": "f9Ojnm3S-UKv"
      },
      "source": [
        "*   재구매 비중이 높은 상품을 찾아봄\n",
        "*   STEP1 : 상품별 재구매 비중(%)과 주문 건수를 계산함"
      ]
    },
    {
      "cell_type": "code",
      "metadata": {
        "colab": {
          "base_uri": "https://localhost:8080/"
        },
        "id": "ers_b33sg40H",
        "outputId": "b9faecfa-942f-4c16-d4be-96784a2e259b"
      },
      "source": [
        "#상품별 재구매 비중과 주문 건수 계산\n",
        "# order by product_id로 했으므로 \"상품별\"로 됨\n",
        "\n",
        "sql = f\"\"\"\n",
        "SELECT PRODUCT_ID\n",
        "     , SUM(REORDERED+0.0)/COUNT(*) REORDER_RATE\n",
        "     , COUNT(DISTINCT ORDER_ID) F\n",
        "  FROM ORDER_PRODUCTS__PRIOR\n",
        " GROUP BY PRODUCT_ID\n",
        " ORDER BY REORDER_RATE DESC\n",
        ";\n",
        "\"\"\"\n",
        "sql_result(sql,'5_1상품분석')"
      ],
      "execution_count": 26,
      "outputs": [
        {
          "output_type": "stream",
          "name": "stdout",
          "text": [
            "\n",
            "SELECT PRODUCT_ID\n",
            "     , SUM(REORDERED+0.0)/COUNT(*) REORDER_RATE\n",
            "     , COUNT(DISTINCT ORDER_ID) F\n",
            "  FROM ORDER_PRODUCTS__PRIOR\n",
            " GROUP BY PRODUCT_ID\n",
            " ORDER BY REORDER_RATE DESC\n",
            ";\n",
            "\n",
            "   product_id  REORDER_RATE  F\n",
            "0       49682           1.0  1\n",
            "1       49680           1.0  1\n",
            "2       49678           1.0  1\n",
            "3       49677           1.0  1\n",
            "4       49638           1.0  1\n",
            "5       49630           1.0  1\n",
            "6       49615           1.0  2\n",
            "7       49587           1.0  1\n",
            "8       49566           1.0  1\n",
            "9       49560           1.0  1\n",
            "/content/drive/MyDrive/result/7w/5_1상품분석.csv\n"
          ]
        }
      ]
    },
    {
      "cell_type": "markdown",
      "metadata": {
        "id": "GDi0cLIW-UHu"
      },
      "source": [
        "*   STEP2 : 주문 건수가 1건인 경우가 많으므로, 주문 건수가 일정 건수(10건) 이하인 상품은 제외함\n",
        "*   HAVING을 이용하면 일정 건수 이하인 상품을 쉽게 제외할 수 있음"
      ]
    },
    {
      "cell_type": "code",
      "metadata": {
        "colab": {
          "base_uri": "https://localhost:8080/"
        },
        "id": "pbEAxTjWg58t",
        "outputId": "660f3efd-dd64-40a6-bf1d-03d1c5e7678c"
      },
      "source": [
        "# having은 group by로 설정한 거에 조건 두고 싶을 때 사용\n",
        "\n",
        "sql = f\"\"\"\n",
        "SELECT A.PRODUCT_ID\n",
        "     , SUM(REORDERED+0.0)/COUNT(*) REORDER_RATE\n",
        "     , COUNT(DISTINCT ORDER_ID) F\n",
        "  FROM ORDER_PRODUCTS__PRIOR A\n",
        "  LEFT JOIN PRODUCTS B ON A.PRODUCT_ID = B.PRODUCT_ID\n",
        " GROUP BY A.PRODUCT_ID\n",
        "HAVING COUNT(DISTINCT ORDER_ID) > 10\n",
        ";\n",
        "\"\"\"\n",
        "sql_result(sql,'5_2상품분석')"
      ],
      "execution_count": 27,
      "outputs": [
        {
          "output_type": "stream",
          "name": "stdout",
          "text": [
            "\n",
            "SELECT A.PRODUCT_ID\n",
            "     , SUM(REORDERED+0.0)/COUNT(*) REORDER_RATE\n",
            "     , COUNT(DISTINCT ORDER_ID) F\n",
            "  FROM ORDER_PRODUCTS__PRIOR A\n",
            "  LEFT JOIN PRODUCTS B ON A.PRODUCT_ID = B.PRODUCT_ID\n",
            " GROUP BY A.PRODUCT_ID\n",
            "HAVING COUNT(DISTINCT ORDER_ID) > 10\n",
            ";\n",
            "\n",
            "   product_id  REORDER_RATE   F\n",
            "0          45      0.777778  18\n",
            "1         196      0.685714  35\n",
            "2         260      0.724138  29\n",
            "3         432      0.810811  37\n",
            "4         651      0.615385  13\n",
            "5         890      0.500000  24\n",
            "6        1158      0.600000  15\n",
            "7        1215      0.769231  13\n",
            "8        1244      0.454545  11\n",
            "9        1463      0.857143  28\n",
            "/content/drive/MyDrive/result/7w/5_2상품분석.csv\n"
          ]
        }
      ]
    },
    {
      "cell_type": "markdown",
      "metadata": {
        "id": "PhcscChX-UFM"
      },
      "source": [
        "*HAVING vs WHERE"
      ]
    },
    {
      "cell_type": "markdown",
      "metadata": {
        "id": "9TJdxN-T-UCc"
      },
      "source": [
        "*SQL을 처음 배울 때 HAVING과 WHERE의 차이점에 대해 혼란스러워 하는 경향이 있다. 2가지 구문의 차이점을 무엇일까?*"
      ]
    },
    {
      "cell_type": "markdown",
      "metadata": {
        "id": "RV6EarvvXKAf"
      },
      "source": [
        "[WHERE]\n",
        "*   WHERE 절은 FROM에 위치한 테이블에만 조건을 걸 수 있음\n",
        "*   SELECT문에서 새롭게 생성한 칼럼에 조건을 걸어야 하는 경우가 있는데, SELECT에서 새롭게 생성한 칼럼을 WHERE에서 사용하면 명령이 실행되지 않음"
      ]
    },
    {
      "cell_type": "markdown",
      "metadata": {
        "id": "1nF6fUv0-T_l"
      },
      "source": [
        "[HAVING]\n",
        "*   HAVING은 그룹핑(GROUP BY)한 데이터에 조건을 생성하고 싶을 때 사용함"
      ]
    },
    {
      "cell_type": "markdown",
      "metadata": {
        "id": "S8-N1X0--T8b"
      },
      "source": [
        "[HAVING 예시]\n",
        "*   PRODUCT_ID로 데이터를 그룹핑한 뒤, 주문 번호를 카운트함 \n",
        "*   그룹핑한 데이터에 조건을 생성하고 싶은 경우 HAVING을 이용함\n",
        "*   쿼리를 실행하면 주문 건수가 10보다 큰 데이터만 출력됨"
      ]
    },
    {
      "cell_type": "code",
      "metadata": {
        "colab": {
          "base_uri": "https://localhost:8080/"
        },
        "id": "lEyIWtW8g8Jt",
        "outputId": "1a09912a-dd76-4311-d28c-354957382d4c"
      },
      "source": [
        "# 상품별로 주문이 10건 이상인 상품을 추출할 때 HAVING을 사용함\n",
        "# 위에서 count(distinct order_id)를 f로 뒀지만~ 이건 그냥 표현할 때만 이렇게 쓰는 거라\n",
        "# 아래에서 having count(distinct order_id) > 10에서 똑같은 내용을 다시 한 번 쓰나봐...\n",
        "\n",
        "sql = f\"\"\"\n",
        "SELECT A.PRODUCT_ID\n",
        "     , B.PRODUCT_NAME\n",
        "     , COUNT(DISTINCT ORDER_ID) F\n",
        "  FROM ORDER_PRODUCTS__PRIOR A\n",
        "  LEFT JOIN PRODUCTS B\n",
        "    ON A.PRODUCT_ID = B.PRODUCT_ID\n",
        " GROUP BY A.PRODUCT_ID\n",
        "     , B.PRODUCT_NAME\n",
        "HAVING COUNT(DISTINCT ORDER_ID) > 10\n",
        ";\n",
        "\"\"\"\n",
        "sql_result(sql,'5_3HAVING')"
      ],
      "execution_count": 30,
      "outputs": [
        {
          "output_type": "stream",
          "name": "stdout",
          "text": [
            "\n",
            "SELECT A.PRODUCT_ID\n",
            "     , B.PRODUCT_NAME\n",
            "     , COUNT(DISTINCT ORDER_ID) F\n",
            "  FROM ORDER_PRODUCTS__PRIOR A\n",
            "  LEFT JOIN PRODUCTS B\n",
            "    ON A.PRODUCT_ID = B.PRODUCT_ID\n",
            " GROUP BY A.PRODUCT_ID\n",
            "     , B.PRODUCT_NAME\n",
            "HAVING COUNT(DISTINCT ORDER_ID) > 10\n",
            ";\n",
            "\n",
            "   product_id                            product_name   F\n",
            "0          45                       European Cucumber  18\n",
            "1         196                                    Soda  35\n",
            "2         260                              Cantaloupe  29\n",
            "3         432       Vanilla Almond Breeze Almond Milk  37\n",
            "4         651                   Organic Salted Butter  13\n",
            "5         890                  Organic Diced Tomatoes  24\n",
            "6        1158                            Mango Chunks  15\n",
            "7        1215  Kidz All Natural Baked Chicken Nuggets  13\n",
            "8        1244              Organic Orange Bell Pepper  11\n",
            "9        1463                            Organic Milk  28\n",
            "/content/drive/MyDrive/result/7w/5_3HAVING.csv\n"
          ]
        }
      ]
    },
    {
      "cell_type": "markdown",
      "metadata": {
        "id": "Jo19I9-f-TgT"
      },
      "source": [
        "*   STEP3 : 어떤 상품들이 재구매율이 높은지 보기 위해 PRODUCTS 테이블을 Join해 살펴봄"
      ]
    },
    {
      "cell_type": "code",
      "metadata": {
        "colab": {
          "base_uri": "https://localhost:8080/"
        },
        "id": "FSBe3Cwbg94d",
        "outputId": "0739f53f-4802-4691-ea3d-e1702715876e"
      },
      "source": [
        "sql = f\"\"\"\n",
        "SELECT A.PRODUCT_ID\n",
        "     , B.PRODUCT_NAME\n",
        "     , SUM(REORDERED+0.0)/COUNT(*) REORDER_RATE\n",
        "     , COUNT(DISTINCT ORDER_ID) F\n",
        "  FROM ORDER_PRODUCTS__PRIOR A\n",
        "\n",
        "-- 상품 데이터 추가\n",
        "  LEFT JOIN PRODUCTS B\n",
        "    ON A.PRODUCT_ID = B.PRODUCT_ID\n",
        "\n",
        " GROUP BY A.PRODUCT_ID\n",
        "     , B.PRODUCT_NAME\n",
        "HAVING COUNT(DISTINCT ORDER_ID) > 10\n",
        ";\n",
        "\"\"\"\n",
        "sql_result(sql,'5_4상품분석')"
      ],
      "execution_count": 31,
      "outputs": [
        {
          "output_type": "stream",
          "name": "stdout",
          "text": [
            "\n",
            "SELECT A.PRODUCT_ID\n",
            "     , B.PRODUCT_NAME\n",
            "     , SUM(REORDERED+0.0)/COUNT(*) REORDER_RATE\n",
            "     , COUNT(DISTINCT ORDER_ID) F\n",
            "  FROM ORDER_PRODUCTS__PRIOR A\n",
            "\n",
            "-- 상품 데이터 추가\n",
            "  LEFT JOIN PRODUCTS B\n",
            "    ON A.PRODUCT_ID = B.PRODUCT_ID\n",
            "\n",
            " GROUP BY A.PRODUCT_ID\n",
            "     , B.PRODUCT_NAME\n",
            "HAVING COUNT(DISTINCT ORDER_ID) > 10\n",
            ";\n",
            "\n",
            "   product_id                            product_name  REORDER_RATE   F\n",
            "0          45                       European Cucumber      0.777778  18\n",
            "1         196                                    Soda      0.685714  35\n",
            "2         260                              Cantaloupe      0.724138  29\n",
            "3         432       Vanilla Almond Breeze Almond Milk      0.810811  37\n",
            "4         651                   Organic Salted Butter      0.615385  13\n",
            "5         890                  Organic Diced Tomatoes      0.500000  24\n",
            "6        1158                            Mango Chunks      0.600000  15\n",
            "7        1215  Kidz All Natural Baked Chicken Nuggets      0.769231  13\n",
            "8        1244              Organic Orange Bell Pepper      0.454545  11\n",
            "9        1463                            Organic Milk      0.857143  28\n",
            "/content/drive/MyDrive/result/7w/5_4상품분석.csv\n"
          ]
        }
      ]
    }
  ]
}