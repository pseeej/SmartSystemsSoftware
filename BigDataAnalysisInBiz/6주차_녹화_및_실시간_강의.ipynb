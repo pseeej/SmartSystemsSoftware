{
  "nbformat": 4,
  "nbformat_minor": 0,
  "metadata": {
    "colab": {
      "name": "6주차녹화및실시간강의.ipynb",
      "provenance": [],
      "collapsed_sections": [],
      "toc_visible": true,
      "include_colab_link": true
    },
    "kernelspec": {
      "name": "python3",
      "display_name": "Python 3"
    },
    "language_info": {
      "name": "python"
    }
  },
  "cells": [
    {
      "cell_type": "markdown",
      "metadata": {
        "id": "view-in-github",
        "colab_type": "text"
      },
      "source": [
        "<a href=\"https://colab.research.google.com/github/pseeej/SmartSystemsSoftware/blob/master/BigDataAnalysisInBiz/6%EC%A3%BC%EC%B0%A8_%EB%85%B9%ED%99%94_%EB%B0%8F_%EC%8B%A4%EC%8B%9C%EA%B0%84_%EA%B0%95%EC%9D%98.ipynb\" target=\"_parent\"><img src=\"https://colab.research.google.com/assets/colab-badge.svg\" alt=\"Open In Colab\"/></a>"
      ]
    },
    {
      "cell_type": "markdown",
      "metadata": {
        "id": "AGC5j0NaT0i_"
      },
      "source": [
        "교재 : SQL로 맛보는 데이터 전처리 분석, 노수영\n"
      ]
    },
    {
      "cell_type": "markdown",
      "metadata": {
        "id": "jk98ESXE6NvU"
      },
      "source": [
        "**실습 참고자료**\n",
        "\n",
        "https://www.sqlitetutorial.net/\n",
        "<br>https://www.w3schools.com/sql/default.asp"
      ]
    },
    {
      "cell_type": "markdown",
      "metadata": {
        "id": "VQEhLZ_nHjtE"
      },
      "source": [
        "#실습환경 셋업"
      ]
    },
    {
      "cell_type": "markdown",
      "metadata": {
        "id": "LDt13fYuxggr"
      },
      "source": [
        "## 1) sqlite 업그레이드"
      ]
    },
    {
      "cell_type": "code",
      "metadata": {
        "id": "CAVeWH8HNS-h",
        "colab": {
          "base_uri": "https://localhost:8080/"
        },
        "outputId": "386f3a2b-1d04-4425-9747-9a64d8c5e0b3"
      },
      "source": [
        "!apt-get update\n",
        "!apt-get upgrade sqlite3"
      ],
      "execution_count": 1,
      "outputs": [
        {
          "output_type": "stream",
          "name": "stdout",
          "text": [
            "Get:1 http://security.ubuntu.com/ubuntu bionic-security InRelease [88.7 kB]\n",
            "Get:2 https://cloud.r-project.org/bin/linux/ubuntu bionic-cran40/ InRelease [3,626 B]\n",
            "Ign:3 https://developer.download.nvidia.com/compute/cuda/repos/ubuntu1804/x86_64  InRelease\n",
            "Hit:4 http://archive.ubuntu.com/ubuntu bionic InRelease\n",
            "Ign:5 https://developer.download.nvidia.com/compute/machine-learning/repos/ubuntu1804/x86_64  InRelease\n",
            "Hit:6 https://developer.download.nvidia.com/compute/cuda/repos/ubuntu1804/x86_64  Release\n",
            "Hit:7 https://developer.download.nvidia.com/compute/machine-learning/repos/ubuntu1804/x86_64  Release\n",
            "Hit:8 http://ppa.launchpad.net/c2d4u.team/c2d4u4.0+/ubuntu bionic InRelease\n",
            "Get:9 http://archive.ubuntu.com/ubuntu bionic-updates InRelease [88.7 kB]\n",
            "Hit:10 http://ppa.launchpad.net/cran/libgit2/ubuntu bionic InRelease\n",
            "Get:11 http://security.ubuntu.com/ubuntu bionic-security/universe amd64 Packages [1,431 kB]\n",
            "Get:12 http://security.ubuntu.com/ubuntu bionic-security/restricted amd64 Packages [607 kB]\n",
            "Hit:13 http://ppa.launchpad.net/deadsnakes/ppa/ubuntu bionic InRelease\n",
            "Get:14 http://archive.ubuntu.com/ubuntu bionic-backports InRelease [74.6 kB]\n",
            "Get:15 http://security.ubuntu.com/ubuntu bionic-security/main amd64 Packages [2,367 kB]\n",
            "Hit:16 http://ppa.launchpad.net/graphics-drivers/ppa/ubuntu bionic InRelease\n",
            "Get:19 http://archive.ubuntu.com/ubuntu bionic-updates/restricted amd64 Packages [640 kB]\n",
            "Get:20 http://archive.ubuntu.com/ubuntu bionic-updates/universe amd64 Packages [2,210 kB]\n",
            "Get:21 http://archive.ubuntu.com/ubuntu bionic-updates/main amd64 Packages [2,803 kB]\n",
            "Fetched 10.3 MB in 3s (3,174 kB/s)\n",
            "Reading package lists... Done\n",
            "Reading package lists... Done\n",
            "Building dependency tree       \n",
            "Reading state information... Done\n",
            "Calculating upgrade... Done\n",
            "The following NEW packages will be installed:\n",
            "  sqlite3\n",
            "The following packages have been kept back:\n",
            "  libcudnn8 libcudnn8-dev libnccl-dev libnccl2\n",
            "The following packages will be upgraded:\n",
            "  base-files binutils binutils-common binutils-x86-64-linux-gnu\n",
            "  distro-info-data gnupg2 gzip libaudit-common libaudit1 libbinutils libc-bin\n",
            "  libcublas-dev libcublas10 libcudnn7 libcudnn7-dev libgnutls30 libhogweed4\n",
            "  libldap-2.4-2 libldap-common liblz4-1 libnettle6 libp11-kit0 libpam-modules\n",
            "  libpam-modules-bin libpam-runtime libpam0g libsasl2-2 libsasl2-modules-db\n",
            "  libseccomp2 libzstd1 linux-libc-dev openssl tar ubuntu-keyring\n",
            "34 upgraded, 1 newly installed, 0 to remove and 4 not upgraded.\n",
            "Need to get 448 MB of archives.\n",
            "After this operation, 72.1 MB of additional disk space will be used.\n",
            "Get:1 https://developer.download.nvidia.com/compute/cuda/repos/ubuntu1804/x86_64  libcublas10 10.2.3.254-1 [43.1 MB]\n",
            "Get:2 http://archive.ubuntu.com/ubuntu bionic-updates/main amd64 base-files amd64 10.1ubuntu2.11 [60.4 kB]\n",
            "Get:3 http://archive.ubuntu.com/ubuntu bionic-updates/main amd64 gzip amd64 1.6-5ubuntu1.1 [89.8 kB]\n",
            "Get:4 http://archive.ubuntu.com/ubuntu bionic-updates/main amd64 tar amd64 1.29b-2ubuntu0.2 [234 kB]\n",
            "Get:5 http://archive.ubuntu.com/ubuntu bionic-updates/main amd64 libc-bin amd64 2.27-3ubuntu1.4 [643 kB]\n",
            "Get:6 http://archive.ubuntu.com/ubuntu bionic-updates/main amd64 libaudit-common all 1:2.8.2-1ubuntu1.1 [4,068 B]\n",
            "Get:7 http://archive.ubuntu.com/ubuntu bionic-updates/main amd64 libaudit1 amd64 1:2.8.2-1ubuntu1.1 [38.7 kB]\n",
            "Get:8 http://archive.ubuntu.com/ubuntu bionic-updates/main amd64 libpam0g amd64 1.1.8-3.6ubuntu2.18.04.3 [55.0 kB]\n",
            "Get:9 http://archive.ubuntu.com/ubuntu bionic-updates/main amd64 libpam-modules-bin amd64 1.1.8-3.6ubuntu2.18.04.3 [40.3 kB]\n",
            "Get:10 http://archive.ubuntu.com/ubuntu bionic-updates/main amd64 libpam-modules amd64 1.1.8-3.6ubuntu2.18.04.3 [252 kB]\n",
            "Get:11 http://archive.ubuntu.com/ubuntu bionic-updates/main amd64 liblz4-1 amd64 0.0~r131-2ubuntu3.1 [48.5 kB]\n",
            "Get:12 http://archive.ubuntu.com/ubuntu bionic-updates/main amd64 libpam-runtime all 1.1.8-3.6ubuntu2.18.04.3 [37.1 kB]\n",
            "Get:13 http://archive.ubuntu.com/ubuntu bionic-updates/main amd64 libzstd1 amd64 1.3.3+dfsg-2ubuntu1.2 [189 kB]\n",
            "Get:14 http://archive.ubuntu.com/ubuntu bionic-updates/main amd64 libnettle6 amd64 3.4.1-0ubuntu0.18.04.1 [111 kB]\n",
            "Get:15 http://archive.ubuntu.com/ubuntu bionic-updates/main amd64 libhogweed4 amd64 3.4.1-0ubuntu0.18.04.1 [140 kB]\n",
            "Get:16 https://developer.download.nvidia.com/compute/cuda/repos/ubuntu1804/x86_64  libcublas-dev 10.2.3.254-1 [42.4 MB]\n",
            "Get:17 http://archive.ubuntu.com/ubuntu bionic-updates/main amd64 libp11-kit0 amd64 0.23.9-2ubuntu0.1 [187 kB]\n",
            "Get:18 http://archive.ubuntu.com/ubuntu bionic-updates/main amd64 libgnutls30 amd64 3.5.18-1ubuntu1.5 [646 kB]\n",
            "Get:19 http://archive.ubuntu.com/ubuntu bionic-updates/main amd64 libseccomp2 amd64 2.5.1-1ubuntu1~18.04.1 [43.1 kB]\n",
            "Get:20 http://archive.ubuntu.com/ubuntu bionic-updates/main amd64 ubuntu-keyring all 2018.09.18.1~18.04.2 [22.3 kB]\n",
            "Get:21 http://archive.ubuntu.com/ubuntu bionic-updates/main amd64 distro-info-data all 0.37ubuntu0.13 [4,656 B]\n",
            "Get:22 http://archive.ubuntu.com/ubuntu bionic-updates/main amd64 openssl amd64 1.1.1-1ubuntu2.1~18.04.13 [614 kB]\n",
            "Get:23 http://archive.ubuntu.com/ubuntu bionic-updates/main amd64 binutils-x86-64-linux-gnu amd64 2.30-21ubuntu1~18.04.5 [1,839 kB]\n",
            "Get:24 http://archive.ubuntu.com/ubuntu bionic-updates/main amd64 binutils-common amd64 2.30-21ubuntu1~18.04.5 [197 kB]\n",
            "Get:25 http://archive.ubuntu.com/ubuntu bionic-updates/main amd64 binutils amd64 2.30-21ubuntu1~18.04.5 [3,388 B]\n",
            "Get:26 http://archive.ubuntu.com/ubuntu bionic-updates/main amd64 libbinutils amd64 2.30-21ubuntu1~18.04.5 [489 kB]\n",
            "Get:27 http://archive.ubuntu.com/ubuntu bionic-updates/main amd64 libsasl2-modules-db amd64 2.1.27~101-g0780600+dfsg-3ubuntu2.3 [15.0 kB]\n",
            "Get:28 http://archive.ubuntu.com/ubuntu bionic-updates/main amd64 libsasl2-2 amd64 2.1.27~101-g0780600+dfsg-3ubuntu2.3 [49.2 kB]\n",
            "Get:29 http://archive.ubuntu.com/ubuntu bionic-updates/main amd64 libldap-common all 2.4.45+dfsg-1ubuntu1.10 [15.8 kB]\n",
            "Get:30 http://archive.ubuntu.com/ubuntu bionic-updates/main amd64 libldap-2.4-2 amd64 2.4.45+dfsg-1ubuntu1.10 [154 kB]\n",
            "Get:31 http://archive.ubuntu.com/ubuntu bionic-updates/main amd64 linux-libc-dev amd64 4.15.0-159.167 [995 kB]\n",
            "Get:32 http://archive.ubuntu.com/ubuntu bionic-updates/main amd64 sqlite3 amd64 3.22.0-1ubuntu0.4 [752 kB]\n",
            "Get:33 http://archive.ubuntu.com/ubuntu bionic-updates/universe amd64 gnupg2 all 2.2.4-1ubuntu1.4 [5,292 B]\n",
            "Get:34 https://developer.download.nvidia.com/compute/machine-learning/repos/ubuntu1804/x86_64  libcudnn7-dev 7.6.5.32-1+cuda10.2 [165 MB]\n",
            "Get:35 https://developer.download.nvidia.com/compute/machine-learning/repos/ubuntu1804/x86_64  libcudnn7 7.6.5.32-1+cuda10.2 [189 MB]\n",
            "Fetched 448 MB in 9s (49.0 MB/s)\n",
            "Extracting templates from packages: 100%\n",
            "Preconfiguring packages ...\n",
            "(Reading database ... 155047 files and directories currently installed.)\n",
            "Preparing to unpack .../base-files_10.1ubuntu2.11_amd64.deb ...\n",
            "Unpacking base-files (10.1ubuntu2.11) over (10.1ubuntu2.10) ...\n",
            "Setting up base-files (10.1ubuntu2.11) ...\n",
            "Installing new version of config file /etc/issue ...\n",
            "Installing new version of config file /etc/issue.net ...\n",
            "Installing new version of config file /etc/lsb-release ...\n",
            "(Reading database ... 155047 files and directories currently installed.)\n",
            "Preparing to unpack .../gzip_1.6-5ubuntu1.1_amd64.deb ...\n",
            "Unpacking gzip (1.6-5ubuntu1.1) over (1.6-5ubuntu1) ...\n",
            "Setting up gzip (1.6-5ubuntu1.1) ...\n",
            "(Reading database ... 155047 files and directories currently installed.)\n",
            "Preparing to unpack .../tar_1.29b-2ubuntu0.2_amd64.deb ...\n",
            "Unpacking tar (1.29b-2ubuntu0.2) over (1.29b-2ubuntu0.1) ...\n",
            "Setting up tar (1.29b-2ubuntu0.2) ...\n",
            "update-alternatives: warning: forcing reinstallation of alternative /usr/sbin/rmt-tar because link group rmt is broken\n",
            "(Reading database ... 155047 files and directories currently installed.)\n",
            "Preparing to unpack .../libc-bin_2.27-3ubuntu1.4_amd64.deb ...\n",
            "Unpacking libc-bin (2.27-3ubuntu1.4) over (2.27-3ubuntu1.3) ...\n",
            "Setting up libc-bin (2.27-3ubuntu1.4) ...\n",
            "/sbin/ldconfig.real: /usr/local/lib/python3.7/dist-packages/ideep4py/lib/libmkldnn.so.0 is not a symbolic link\n",
            "\n",
            "(Reading database ... 155047 files and directories currently installed.)\n",
            "Preparing to unpack .../libaudit-common_1%3a2.8.2-1ubuntu1.1_all.deb ...\n",
            "Unpacking libaudit-common (1:2.8.2-1ubuntu1.1) over (1:2.8.2-1ubuntu1) ...\n",
            "Setting up libaudit-common (1:2.8.2-1ubuntu1.1) ...\n",
            "(Reading database ... 155047 files and directories currently installed.)\n",
            "Preparing to unpack .../libaudit1_1%3a2.8.2-1ubuntu1.1_amd64.deb ...\n",
            "Unpacking libaudit1:amd64 (1:2.8.2-1ubuntu1.1) over (1:2.8.2-1ubuntu1) ...\n",
            "Setting up libaudit1:amd64 (1:2.8.2-1ubuntu1.1) ...\n",
            "(Reading database ... 155047 files and directories currently installed.)\n",
            "Preparing to unpack .../libpam0g_1.1.8-3.6ubuntu2.18.04.3_amd64.deb ...\n",
            "Unpacking libpam0g:amd64 (1.1.8-3.6ubuntu2.18.04.3) over (1.1.8-3.6ubuntu2.18.04.2) ...\n",
            "Setting up libpam0g:amd64 (1.1.8-3.6ubuntu2.18.04.3) ...\n",
            "(Reading database ... 155047 files and directories currently installed.)\n",
            "Preparing to unpack .../libpam-modules-bin_1.1.8-3.6ubuntu2.18.04.3_amd64.deb ...\n",
            "Unpacking libpam-modules-bin (1.1.8-3.6ubuntu2.18.04.3) over (1.1.8-3.6ubuntu2.18.04.2) ...\n",
            "Setting up libpam-modules-bin (1.1.8-3.6ubuntu2.18.04.3) ...\n",
            "(Reading database ... 155049 files and directories currently installed.)\n",
            "Preparing to unpack .../libpam-modules_1.1.8-3.6ubuntu2.18.04.3_amd64.deb ...\n",
            "Unpacking libpam-modules:amd64 (1.1.8-3.6ubuntu2.18.04.3) over (1.1.8-3.6ubuntu2.18.04.2) ...\n",
            "Setting up libpam-modules:amd64 (1.1.8-3.6ubuntu2.18.04.3) ...\n",
            "(Reading database ... 155053 files and directories currently installed.)\n",
            "Preparing to unpack .../liblz4-1_0.0~r131-2ubuntu3.1_amd64.deb ...\n",
            "Unpacking liblz4-1:amd64 (0.0~r131-2ubuntu3.1) over (0.0~r131-2ubuntu3) ...\n",
            "Setting up liblz4-1:amd64 (0.0~r131-2ubuntu3.1) ...\n",
            "(Reading database ... 155053 files and directories currently installed.)\n",
            "Preparing to unpack .../libpam-runtime_1.1.8-3.6ubuntu2.18.04.3_all.deb ...\n",
            "Unpacking libpam-runtime (1.1.8-3.6ubuntu2.18.04.3) over (1.1.8-3.6ubuntu2.18.04.2) ...\n",
            "Setting up libpam-runtime (1.1.8-3.6ubuntu2.18.04.3) ...\n",
            "(Reading database ... 155053 files and directories currently installed.)\n",
            "Preparing to unpack .../libzstd1_1.3.3+dfsg-2ubuntu1.2_amd64.deb ...\n",
            "Unpacking libzstd1:amd64 (1.3.3+dfsg-2ubuntu1.2) over (1.3.3+dfsg-2ubuntu1.1) ...\n",
            "Setting up libzstd1:amd64 (1.3.3+dfsg-2ubuntu1.2) ...\n",
            "(Reading database ... 155053 files and directories currently installed.)\n",
            "Preparing to unpack .../libnettle6_3.4.1-0ubuntu0.18.04.1_amd64.deb ...\n",
            "Unpacking libnettle6:amd64 (3.4.1-0ubuntu0.18.04.1) over (3.4-1) ...\n",
            "Setting up libnettle6:amd64 (3.4.1-0ubuntu0.18.04.1) ...\n",
            "(Reading database ... 155053 files and directories currently installed.)\n",
            "Preparing to unpack .../libhogweed4_3.4.1-0ubuntu0.18.04.1_amd64.deb ...\n",
            "Unpacking libhogweed4:amd64 (3.4.1-0ubuntu0.18.04.1) over (3.4-1) ...\n",
            "Setting up libhogweed4:amd64 (3.4.1-0ubuntu0.18.04.1) ...\n",
            "(Reading database ... 155053 files and directories currently installed.)\n",
            "Preparing to unpack .../libp11-kit0_0.23.9-2ubuntu0.1_amd64.deb ...\n",
            "Unpacking libp11-kit0:amd64 (0.23.9-2ubuntu0.1) over (0.23.9-2) ...\n",
            "Setting up libp11-kit0:amd64 (0.23.9-2ubuntu0.1) ...\n",
            "(Reading database ... 155053 files and directories currently installed.)\n",
            "Preparing to unpack .../libgnutls30_3.5.18-1ubuntu1.5_amd64.deb ...\n",
            "Unpacking libgnutls30:amd64 (3.5.18-1ubuntu1.5) over (3.5.18-1ubuntu1.4) ...\n",
            "Setting up libgnutls30:amd64 (3.5.18-1ubuntu1.5) ...\n",
            "(Reading database ... 155053 files and directories currently installed.)\n",
            "Preparing to unpack .../libseccomp2_2.5.1-1ubuntu1~18.04.1_amd64.deb ...\n",
            "Unpacking libseccomp2:amd64 (2.5.1-1ubuntu1~18.04.1) over (2.4.3-1ubuntu3.18.04.3) ...\n",
            "Setting up libseccomp2:amd64 (2.5.1-1ubuntu1~18.04.1) ...\n",
            "(Reading database ... 155053 files and directories currently installed.)\n",
            "Preparing to unpack .../ubuntu-keyring_2018.09.18.1~18.04.2_all.deb ...\n",
            "Unpacking ubuntu-keyring (2018.09.18.1~18.04.2) over (2018.09.18.1~18.04.0) ...\n",
            "Setting up ubuntu-keyring (2018.09.18.1~18.04.2) ...\n",
            "(Reading database ... 155053 files and directories currently installed.)\n",
            "Preparing to unpack .../00-distro-info-data_0.37ubuntu0.13_all.deb ...\n",
            "Unpacking distro-info-data (0.37ubuntu0.13) over (0.37ubuntu0.12) ...\n",
            "Preparing to unpack .../01-openssl_1.1.1-1ubuntu2.1~18.04.13_amd64.deb ...\n",
            "Unpacking openssl (1.1.1-1ubuntu2.1~18.04.13) over (1.1.1-1ubuntu2.1~18.04.7) ...\n",
            "Preparing to unpack .../02-binutils-x86-64-linux-gnu_2.30-21ubuntu1~18.04.5_amd64.deb ...\n",
            "Unpacking binutils-x86-64-linux-gnu (2.30-21ubuntu1~18.04.5) over (2.30-21ubuntu1~18.04.4) ...\n",
            "Preparing to unpack .../03-binutils-common_2.30-21ubuntu1~18.04.5_amd64.deb ...\n",
            "Unpacking binutils-common:amd64 (2.30-21ubuntu1~18.04.5) over (2.30-21ubuntu1~18.04.4) ...\n",
            "Preparing to unpack .../04-binutils_2.30-21ubuntu1~18.04.5_amd64.deb ...\n",
            "Unpacking binutils (2.30-21ubuntu1~18.04.5) over (2.30-21ubuntu1~18.04.4) ...\n",
            "Preparing to unpack .../05-libbinutils_2.30-21ubuntu1~18.04.5_amd64.deb ...\n",
            "Unpacking libbinutils:amd64 (2.30-21ubuntu1~18.04.5) over (2.30-21ubuntu1~18.04.4) ...\n",
            "Preparing to unpack .../06-libcublas10_10.2.3.254-1_amd64.deb ...\n",
            "Unpacking libcublas10 (10.2.3.254-1) over (10.2.1.243-1) ...\n",
            "Preparing to unpack .../07-libcublas-dev_10.2.3.254-1_amd64.deb ...\n",
            "Unpacking libcublas-dev (10.2.3.254-1) over (10.2.1.243-1) ...\n",
            "Preparing to unpack .../08-libcudnn7-dev_7.6.5.32-1+cuda10.2_amd64.deb ...\n",
            "update-alternatives: removing manually selected alternative - switching libcudnn to auto mode\n",
            "update-alternatives: using /usr/include/x86_64-linux-gnu/cudnn_v8.h to provide /usr/include/cudnn.h (libcudnn) in auto mode\n",
            "Unpacking libcudnn7-dev (7.6.5.32-1+cuda10.2) over (7.6.5.32-1+cuda10.1) ...\n",
            "Preparing to unpack .../09-libcudnn7_7.6.5.32-1+cuda10.2_amd64.deb ...\n",
            "Unpacking libcudnn7 (7.6.5.32-1+cuda10.2) over (7.6.5.32-1+cuda10.1) ...\n",
            "Preparing to unpack .../10-libsasl2-modules-db_2.1.27~101-g0780600+dfsg-3ubuntu2.3_amd64.deb ...\n",
            "Unpacking libsasl2-modules-db:amd64 (2.1.27~101-g0780600+dfsg-3ubuntu2.3) over (2.1.27~101-g0780600+dfsg-3ubuntu2.1) ...\n",
            "Preparing to unpack .../11-libsasl2-2_2.1.27~101-g0780600+dfsg-3ubuntu2.3_amd64.deb ...\n",
            "Unpacking libsasl2-2:amd64 (2.1.27~101-g0780600+dfsg-3ubuntu2.3) over (2.1.27~101-g0780600+dfsg-3ubuntu2.1) ...\n",
            "Preparing to unpack .../12-libldap-common_2.4.45+dfsg-1ubuntu1.10_all.deb ...\n",
            "Unpacking libldap-common (2.4.45+dfsg-1ubuntu1.10) over (2.4.45+dfsg-1ubuntu1.8) ...\n",
            "Preparing to unpack .../13-libldap-2.4-2_2.4.45+dfsg-1ubuntu1.10_amd64.deb ...\n",
            "Unpacking libldap-2.4-2:amd64 (2.4.45+dfsg-1ubuntu1.10) over (2.4.45+dfsg-1ubuntu1.8) ...\n",
            "Preparing to unpack .../14-linux-libc-dev_4.15.0-159.167_amd64.deb ...\n",
            "Unpacking linux-libc-dev:amd64 (4.15.0-159.167) over (4.15.0-128.131) ...\n",
            "Selecting previously unselected package sqlite3.\n",
            "Preparing to unpack .../15-sqlite3_3.22.0-1ubuntu0.4_amd64.deb ...\n",
            "Unpacking sqlite3 (3.22.0-1ubuntu0.4) ...\n",
            "Preparing to unpack .../16-gnupg2_2.2.4-1ubuntu1.4_all.deb ...\n",
            "Unpacking gnupg2 (2.2.4-1ubuntu1.4) over (2.2.4-1ubuntu1.3) ...\n",
            "Setting up libcudnn7 (7.6.5.32-1+cuda10.2) ...\n",
            "Setting up libldap-common (2.4.45+dfsg-1ubuntu1.10) ...\n",
            "Setting up libsasl2-modules-db:amd64 (2.1.27~101-g0780600+dfsg-3ubuntu2.3) ...\n",
            "Setting up linux-libc-dev:amd64 (4.15.0-159.167) ...\n",
            "Setting up libsasl2-2:amd64 (2.1.27~101-g0780600+dfsg-3ubuntu2.3) ...\n",
            "Setting up libcudnn7-dev (7.6.5.32-1+cuda10.2) ...\n",
            "update-alternatives: using /usr/include/x86_64-linux-gnu/cudnn_v7.h to provide /usr/include/cudnn.h (libcudnn) in manual mode\n",
            "Setting up distro-info-data (0.37ubuntu0.13) ...\n",
            "Setting up sqlite3 (3.22.0-1ubuntu0.4) ...\n",
            "Setting up binutils-common:amd64 (2.30-21ubuntu1~18.04.5) ...\n",
            "Setting up gnupg2 (2.2.4-1ubuntu1.4) ...\n",
            "Setting up libcublas10 (10.2.3.254-1) ...\n",
            "Setting up libcublas-dev (10.2.3.254-1) ...\n",
            "Setting up libldap-2.4-2:amd64 (2.4.45+dfsg-1ubuntu1.10) ...\n",
            "Setting up openssl (1.1.1-1ubuntu2.1~18.04.13) ...\n",
            "Setting up libbinutils:amd64 (2.30-21ubuntu1~18.04.5) ...\n",
            "Setting up binutils-x86-64-linux-gnu (2.30-21ubuntu1~18.04.5) ...\n",
            "Setting up binutils (2.30-21ubuntu1~18.04.5) ...\n",
            "Processing triggers for libc-bin (2.27-3ubuntu1.4) ...\n",
            "/sbin/ldconfig.real: /usr/local/lib/python3.7/dist-packages/ideep4py/lib/libmkldnn.so.0 is not a symbolic link\n",
            "\n",
            "Processing triggers for man-db (2.8.3-2ubuntu0.1) ...\n",
            "Processing triggers for mime-support (3.60ubuntu1) ...\n"
          ]
        }
      ]
    },
    {
      "cell_type": "code",
      "metadata": {
        "id": "_l0Sz9vyQjZ5",
        "colab": {
          "base_uri": "https://localhost:8080/"
        },
        "outputId": "f3fdce7a-ec4b-4f4f-a15b-67a101803fe8"
      },
      "source": [
        "!curl https://www.sqlite.org/src/tarball/sqlite.tar.gz?r=release | tar xz\n",
        "%cd sqlite/\n",
        "!./configure\n",
        "!make sqlite3.c\n",
        "%cd /content\n",
        "!npx degit coleifer/pysqlite3 -f\n",
        "!cp sqlite/sqlite3.[ch] .\n",
        "!python setup.py build_static build\n",
        "!cp build/lib.linux-x86_64-3.7/pysqlite3/_sqlite3.cpython-37m-x86_64-linux-gnu.so \\\n",
        "     /usr/lib/python3.7/lib-dynload/\n"
      ],
      "execution_count": 2,
      "outputs": [
        {
          "output_type": "stream",
          "name": "stdout",
          "text": [
            "  % Total    % Received % Xferd  Average Speed   Time    Time     Time  Current\n",
            "                                 Dload  Upload   Total   Spent    Left  Speed\n",
            "100 10.9M  100 10.9M    0     0  9769k      0  0:00:01  0:00:01 --:--:-- 9769k\n",
            "/content/sqlite\n",
            "checking build system type... x86_64-pc-linux-gnu\n",
            "checking host system type... x86_64-pc-linux-gnu\n",
            "checking for gcc... gcc\n",
            "checking whether the C compiler works... yes\n",
            "checking for C compiler default output file name... a.out\n",
            "checking for suffix of executables... \n",
            "checking whether we are cross compiling... no\n",
            "checking for suffix of object files... o\n",
            "checking whether we are using the GNU C compiler... yes\n",
            "checking whether gcc accepts -g... yes\n",
            "checking for gcc option to accept ISO C89... none needed\n",
            "checking for a sed that does not truncate output... /bin/sed\n",
            "checking for grep that handles long lines and -e... /bin/grep\n",
            "checking for egrep... /bin/grep -E\n",
            "checking for fgrep... /bin/grep -F\n",
            "checking for ld used by gcc... /usr/bin/ld\n",
            "checking if the linker (/usr/bin/ld) is GNU ld... yes\n",
            "checking for BSD- or MS-compatible name lister (nm)... /usr/bin/nm -B\n",
            "checking the name lister (/usr/bin/nm -B) interface... BSD nm\n",
            "checking whether ln -s works... yes\n",
            "checking the maximum length of command line arguments... 1572864\n",
            "checking whether the shell understands some XSI constructs... yes\n",
            "checking whether the shell understands \"+=\"... yes\n",
            "checking for /usr/bin/ld option to reload object files... -r\n",
            "checking for objdump... objdump\n",
            "checking how to recognize dependent libraries... pass_all\n",
            "checking for ar... ar\n",
            "checking for strip... strip\n",
            "checking for ranlib... ranlib\n",
            "checking command to parse /usr/bin/nm -B output from gcc object... ok\n",
            "./configure: line 5196: /usr/bin/file: No such file or directory\n",
            "checking how to run the C preprocessor... gcc -E\n",
            "checking for ANSI C header files... yes\n",
            "checking for sys/types.h... yes\n",
            "checking for sys/stat.h... yes\n",
            "checking for stdlib.h... yes\n",
            "checking for string.h... yes\n",
            "checking for memory.h... yes\n",
            "checking for strings.h... yes\n",
            "checking for inttypes.h... yes\n",
            "checking for stdint.h... yes\n",
            "checking for unistd.h... yes\n",
            "checking for dlfcn.h... yes\n",
            "checking for objdir... .libs\n",
            "checking if gcc supports -fno-rtti -fno-exceptions... no\n",
            "checking for gcc option to produce PIC... -fPIC -DPIC\n",
            "checking if gcc PIC flag -fPIC -DPIC works... yes\n",
            "checking if gcc static flag -static works... yes\n",
            "checking if gcc supports -c -o file.o... yes\n",
            "checking if gcc supports -c -o file.o... (cached) yes\n",
            "checking whether the gcc linker (/usr/bin/ld) supports shared libraries... yes\n",
            "checking whether -lc should be explicitly linked in... no\n",
            "checking dynamic linker characteristics... GNU/Linux ld.so\n",
            "checking how to hardcode library paths into programs... immediate\n",
            "checking whether stripping libraries is possible... yes\n",
            "checking if libtool supports shared libraries... yes\n",
            "checking whether to build shared libraries... yes\n",
            "checking whether to build static libraries... yes\n",
            "checking for a BSD-compatible install... /usr/bin/install -c\n",
            "checking for special C compiler options needed for large files... no\n",
            "checking for _FILE_OFFSET_BITS value needed for large files... no\n",
            "checking for int8_t... yes\n",
            "checking for int16_t... yes\n",
            "checking for int32_t... yes\n",
            "checking for int64_t... yes\n",
            "checking for intptr_t... yes\n",
            "checking for uint8_t... yes\n",
            "checking for uint16_t... yes\n",
            "checking for uint32_t... yes\n",
            "checking for uint64_t... yes\n",
            "checking for uintptr_t... yes\n",
            "checking for sys/types.h... (cached) yes\n",
            "checking for stdlib.h... (cached) yes\n",
            "checking for stdint.h... (cached) yes\n",
            "checking for inttypes.h... (cached) yes\n",
            "checking malloc.h usability... yes\n",
            "checking malloc.h presence... yes\n",
            "checking for malloc.h... yes\n",
            "checking for fdatasync... yes\n",
            "checking for gmtime_r... yes\n",
            "checking for isnan... yes\n",
            "checking for localtime_r... yes\n",
            "checking for localtime_s... no\n",
            "checking for malloc_usable_size... yes\n",
            "checking for strchrnul... yes\n",
            "checking for usleep... yes\n",
            "checking for utime... yes\n",
            "checking for pread... yes\n",
            "checking for pread64... yes\n",
            "checking for pwrite... yes\n",
            "checking for pwrite64... yes\n",
            "checking for tclsh8.7... no\n",
            "checking for tclsh8.6... tclsh8.6\n",
            "configure: Version set to 3.36\n",
            "configure: Release set to 3.36.0\n",
            "checking whether to support threadsafe operation... yes\n",
            "checking for library containing pthread_create... -lpthread\n",
            "checking for library containing pthread_mutexattr_init... none required\n",
            "checking whether to support shared library linked as release mode or not... no\n",
            "checking whether to use an in-ram database for temporary tables... no\n",
            "checking if executables have the .exe suffix... unknown\n",
            "checking for Tcl configuration... found /usr/lib/tclConfig.sh\n",
            "checking for existence of /usr/lib/tclConfig.sh... loading\n",
            "checking for library containing readline... no\n",
            "checking for library containing tgetent... -lncurses\n",
            "checking for readline in -lreadline... yes\n",
            "checking readline.h usability... no\n",
            "checking readline.h presence... no\n",
            "checking for readline.h... no\n",
            "checking for /usr/include/readline.h... no\n",
            "checking for /usr/include/readline/readline.h... yes\n",
            "checking for library containing fdatasync... none required\n",
            "checking build type... release\n",
            "checking zlib.h usability... yes\n",
            "checking zlib.h presence... yes\n",
            "checking for zlib.h... yes\n",
            "checking for library containing deflate... -lz\n",
            "checking for library containing dlopen... -ldl\n",
            "checking whether to support math functions... yes\n",
            "checking for library containing ceil... -lm\n",
            "checking whether to support MEMSYS5... no\n",
            "checking whether to support MEMSYS3... no\n",
            "checking whether to support FTS3... no\n",
            "checking whether to support FTS4... no\n",
            "checking whether to support FTS5... no\n",
            "checking whether to support JSON... no\n",
            "checking whether to support LIMIT on UPDATE and DELETE statements... no\n",
            "checking whether to support GEOPOLY... no\n",
            "checking whether to support RTREE... no\n",
            "checking whether to support SESSION... no\n",
            "configure: creating ./config.status\n",
            "config.status: creating Makefile\n",
            "config.status: creating sqlite3.pc\n",
            "config.status: creating config.h\n",
            "config.status: executing libtool commands\n",
            "gcc  -g -O2 -o mkkeywordhash -DSQLITE_ENABLE_MATH_FUNCTIONS  /content/sqlite/tool/mkkeywordhash.c\n",
            "./mkkeywordhash >keywordhash.h\n",
            "gcc  -g -O2 -o lemon /content/sqlite/tool/lemon.c\n",
            "cp /content/sqlite/tool/lempar.c .\n",
            "cp /content/sqlite/src/parse.y .\n",
            "./lemon -DSQLITE_ENABLE_MATH_FUNCTIONS  -S parse.y\n",
            "cat parse.h /content/sqlite/src/vdbe.c | tclsh8.6 /content/sqlite/tool/mkopcodeh.tcl >opcodes.h\n",
            "tclsh8.6 /content/sqlite/tool/mkopcodec.tcl opcodes.h >opcodes.c\n",
            "tclsh8.6 /content/sqlite/tool/mkshellc.tcl >shell.c\n",
            "gcc  -g -O2 -o mksourceid /content/sqlite/tool/mksourceid.c\n",
            "tclsh8.6 /content/sqlite/tool/mksqlite3h.tcl /content/sqlite >sqlite3.h\n",
            "cp /content/sqlite/ext/fts5/fts5parse.y .\n",
            "rm -f fts5parse.h\n",
            "./lemon  -S fts5parse.y\n",
            "tclsh8.6 /content/sqlite/ext/fts5/tool/mkfts5c.tcl\n",
            "cp /content/sqlite/ext/fts5/fts5.h .\n",
            "rm -rf tsrc\n",
            "mkdir tsrc\n",
            "cp -f /content/sqlite/src/alter.c /content/sqlite/src/analyze.c /content/sqlite/src/attach.c /content/sqlite/src/auth.c /content/sqlite/src/backup.c /content/sqlite/src/bitvec.c /content/sqlite/src/btmutex.c /content/sqlite/src/btree.c /content/sqlite/src/btree.h /content/sqlite/src/btreeInt.h /content/sqlite/src/build.c /content/sqlite/src/callback.c /content/sqlite/src/complete.c /content/sqlite/src/ctime.c /content/sqlite/src/date.c /content/sqlite/src/dbpage.c /content/sqlite/src/dbstat.c /content/sqlite/src/delete.c /content/sqlite/src/expr.c /content/sqlite/src/fault.c /content/sqlite/src/fkey.c /content/sqlite/src/func.c /content/sqlite/src/global.c /content/sqlite/src/hash.c /content/sqlite/src/hash.h /content/sqlite/src/hwtime.h /content/sqlite/src/insert.c /content/sqlite/src/legacy.c /content/sqlite/src/loadext.c /content/sqlite/src/main.c /content/sqlite/src/malloc.c /content/sqlite/src/mem0.c /content/sqlite/src/mem1.c /content/sqlite/src/mem2.c /content/sqlite/src/mem3.c /content/sqlite/src/mem5.c /content/sqlite/src/memdb.c /content/sqlite/src/memjournal.c /content/sqlite/src/msvc.h /content/sqlite/src/mutex.c /content/sqlite/src/mutex.h /content/sqlite/src/mutex_noop.c /content/sqlite/src/mutex_unix.c /content/sqlite/src/mutex_w32.c /content/sqlite/src/notify.c /content/sqlite/src/os.c /content/sqlite/src/os.h /content/sqlite/src/os_common.h /content/sqlite/src/os_setup.h /content/sqlite/src/os_unix.c /content/sqlite/src/os_win.c /content/sqlite/src/os_win.h /content/sqlite/src/pager.c /content/sqlite/src/pager.h /content/sqlite/src/parse.y /content/sqlite/src/pcache.c /content/sqlite/src/pcache.h /content/sqlite/src/pcache1.c /content/sqlite/src/pragma.c /content/sqlite/src/pragma.h /content/sqlite/src/prepare.c /content/sqlite/src/printf.c /content/sqlite/src/random.c /content/sqlite/src/resolve.c /content/sqlite/src/rowset.c /content/sqlite/src/select.c /content/sqlite/src/status.c /content/sqlite/src/shell.c.in /content/sqlite/src/sqlite.h.in /content/sqlite/src/sqlite3ext.h /content/sqlite/src/sqliteInt.h /content/sqlite/src/sqliteLimit.h /content/sqlite/src/table.c /content/sqlite/src/tclsqlite.c /content/sqlite/src/threads.c /content/sqlite/src/tokenize.c /content/sqlite/src/treeview.c /content/sqlite/src/trigger.c /content/sqlite/src/utf.c /content/sqlite/src/update.c /content/sqlite/src/upsert.c /content/sqlite/src/util.c /content/sqlite/src/vacuum.c /content/sqlite/src/vdbe.c /content/sqlite/src/vdbe.h /content/sqlite/src/vdbeapi.c /content/sqlite/src/vdbeaux.c /content/sqlite/src/vdbeblob.c /content/sqlite/src/vdbemem.c /content/sqlite/src/vdbesort.c /content/sqlite/src/vdbetrace.c /content/sqlite/src/vdbevtab.c /content/sqlite/src/vdbeInt.h /content/sqlite/src/vtab.c /content/sqlite/src/vxworks.h /content/sqlite/src/wal.c /content/sqlite/src/wal.h /content/sqlite/src/walker.c /content/sqlite/src/where.c /content/sqlite/src/wherecode.c /content/sqlite/src/whereexpr.c /content/sqlite/src/whereInt.h /content/sqlite/src/window.c /content/sqlite/ext/fts1/fts1.c /content/sqlite/ext/fts1/fts1.h /content/sqlite/ext/fts1/fts1_hash.c /content/sqlite/ext/fts1/fts1_hash.h /content/sqlite/ext/fts1/fts1_porter.c /content/sqlite/ext/fts1/fts1_tokenizer.h /content/sqlite/ext/fts1/fts1_tokenizer1.c /content/sqlite/ext/fts2/fts2.c /content/sqlite/ext/fts2/fts2.h /content/sqlite/ext/fts2/fts2_hash.c /content/sqlite/ext/fts2/fts2_hash.h /content/sqlite/ext/fts2/fts2_icu.c /content/sqlite/ext/fts2/fts2_porter.c /content/sqlite/ext/fts2/fts2_tokenizer.h /content/sqlite/ext/fts2/fts2_tokenizer.c /content/sqlite/ext/fts2/fts2_tokenizer1.c /content/sqlite/ext/fts3/fts3.c /content/sqlite/ext/fts3/fts3.h /content/sqlite/ext/fts3/fts3Int.h /content/sqlite/ext/fts3/fts3_aux.c /content/sqlite/ext/fts3/fts3_expr.c /content/sqlite/ext/fts3/fts3_hash.c /content/sqlite/ext/fts3/fts3_hash.h /content/sqlite/ext/fts3/fts3_icu.c /content/sqlite/ext/fts3/fts3_porter.c /content/sqlite/ext/fts3/fts3_snippet.c /content/sqlite/ext/fts3/fts3_tokenizer.h /content/sqlite/ext/fts3/fts3_tokenizer.c /content/sqlite/ext/fts3/fts3_tokenizer1.c /content/sqlite/ext/fts3/fts3_tokenize_vtab.c /content/sqlite/ext/fts3/fts3_unicode.c /content/sqlite/ext/fts3/fts3_unicode2.c /content/sqlite/ext/fts3/fts3_write.c /content/sqlite/ext/icu/sqliteicu.h /content/sqlite/ext/icu/icu.c /content/sqlite/ext/rtree/rtree.h /content/sqlite/ext/rtree/rtree.c /content/sqlite/ext/rtree/geopoly.c /content/sqlite/ext/session/sqlite3session.c /content/sqlite/ext/session/sqlite3session.h /content/sqlite/ext/userauth/userauth.c /content/sqlite/ext/userauth/sqlite3userauth.h /content/sqlite/ext/rbu/sqlite3rbu.h /content/sqlite/ext/rbu/sqlite3rbu.c /content/sqlite/ext/misc/json1.c /content/sqlite/ext/misc/stmt.c keywordhash.h opcodes.c opcodes.h parse.c parse.h config.h shell.c sqlite3.h tsrc\n",
            "rm tsrc/sqlite.h.in tsrc/parse.y\n",
            "tclsh8.6 /content/sqlite/tool/vdbe-compress.tcl  <tsrc/vdbe.c >vdbe.new\n",
            "mv vdbe.new tsrc/vdbe.c\n",
            "cp fts5.c fts5.h tsrc\n",
            "touch .target_source\n",
            "tclsh8.6 /content/sqlite/tool/mksqlite3c.tcl\n",
            "cp tsrc/sqlite3ext.h .\n",
            "cp /content/sqlite/ext/session/sqlite3session.h .\n",
            "/content\n",
            "\u001b[K\u001b[?25hnpx: installed 1 in 2.333s\n",
            "\u001b[36m> destination directory is not empty. Using --force, continuing\u001b[39m\n",
            "\u001b[36m> cloned \u001b[1mcoleifer/pysqlite3\u001b[22m#\u001b[1mHEAD\u001b[22m\u001b[39m\n",
            "running build_static\n",
            "Builds a C extension using a sqlite3 amalgamation\n",
            "building 'pysqlite3._sqlite3' extension\n",
            "creating build\n",
            "creating build/temp.linux-x86_64-3.7\n",
            "creating build/temp.linux-x86_64-3.7/src\n",
            "x86_64-linux-gnu-gcc -pthread -Wno-unused-result -Wsign-compare -DNDEBUG -g -fwrapv -O2 -Wall -g -fdebug-prefix-map=/build/python3.7-Y7dWVB/python3.7-3.7.12=. -fstack-protector-strong -Wformat -Werror=format-security -g -fdebug-prefix-map=/build/python3.7-Y7dWVB/python3.7-3.7.12=. -fstack-protector-strong -Wformat -Werror=format-security -Wdate-time -D_FORTIFY_SOURCE=2 -fPIC -DMODULE_NAME=\"pysqlite3.dbapi2\" -DSQLITE_ALLOW_COVERING_INDEX_SCAN=1 -DSQLITE_ENABLE_FTS3=1 -DSQLITE_ENABLE_FTS3_PARENTHESIS=1 -DSQLITE_ENABLE_FTS4=1 -DSQLITE_ENABLE_FTS5=1 -DSQLITE_ENABLE_JSON1=1 -DSQLITE_ENABLE_LOAD_EXTENSION=1 -DSQLITE_ENABLE_RTREE=1 -DSQLITE_ENABLE_STAT4=1 -DSQLITE_ENABLE_UPDATE_DELETE_LIMIT=1 -DSQLITE_SOUNDEX=1 -DSQLITE_USE_URI=1 -DSQLITE_TEMP_STORE=3 -DSQLITE_MAX_VARIABLE_NUMBER=250000 -DSQLITE_MAX_MMAP_SIZE=1099511627776 -I. -I/usr/include/python3.7m -c src/module.c -o build/temp.linux-x86_64-3.7/src/module.o\n",
            "x86_64-linux-gnu-gcc -pthread -Wno-unused-result -Wsign-compare -DNDEBUG -g -fwrapv -O2 -Wall -g -fdebug-prefix-map=/build/python3.7-Y7dWVB/python3.7-3.7.12=. -fstack-protector-strong -Wformat -Werror=format-security -g -fdebug-prefix-map=/build/python3.7-Y7dWVB/python3.7-3.7.12=. -fstack-protector-strong -Wformat -Werror=format-security -Wdate-time -D_FORTIFY_SOURCE=2 -fPIC -DMODULE_NAME=\"pysqlite3.dbapi2\" -DSQLITE_ALLOW_COVERING_INDEX_SCAN=1 -DSQLITE_ENABLE_FTS3=1 -DSQLITE_ENABLE_FTS3_PARENTHESIS=1 -DSQLITE_ENABLE_FTS4=1 -DSQLITE_ENABLE_FTS5=1 -DSQLITE_ENABLE_JSON1=1 -DSQLITE_ENABLE_LOAD_EXTENSION=1 -DSQLITE_ENABLE_RTREE=1 -DSQLITE_ENABLE_STAT4=1 -DSQLITE_ENABLE_UPDATE_DELETE_LIMIT=1 -DSQLITE_SOUNDEX=1 -DSQLITE_USE_URI=1 -DSQLITE_TEMP_STORE=3 -DSQLITE_MAX_VARIABLE_NUMBER=250000 -DSQLITE_MAX_MMAP_SIZE=1099511627776 -I. -I/usr/include/python3.7m -c src/connection.c -o build/temp.linux-x86_64-3.7/src/connection.o\n",
            "x86_64-linux-gnu-gcc -pthread -Wno-unused-result -Wsign-compare -DNDEBUG -g -fwrapv -O2 -Wall -g -fdebug-prefix-map=/build/python3.7-Y7dWVB/python3.7-3.7.12=. -fstack-protector-strong -Wformat -Werror=format-security -g -fdebug-prefix-map=/build/python3.7-Y7dWVB/python3.7-3.7.12=. -fstack-protector-strong -Wformat -Werror=format-security -Wdate-time -D_FORTIFY_SOURCE=2 -fPIC -DMODULE_NAME=\"pysqlite3.dbapi2\" -DSQLITE_ALLOW_COVERING_INDEX_SCAN=1 -DSQLITE_ENABLE_FTS3=1 -DSQLITE_ENABLE_FTS3_PARENTHESIS=1 -DSQLITE_ENABLE_FTS4=1 -DSQLITE_ENABLE_FTS5=1 -DSQLITE_ENABLE_JSON1=1 -DSQLITE_ENABLE_LOAD_EXTENSION=1 -DSQLITE_ENABLE_RTREE=1 -DSQLITE_ENABLE_STAT4=1 -DSQLITE_ENABLE_UPDATE_DELETE_LIMIT=1 -DSQLITE_SOUNDEX=1 -DSQLITE_USE_URI=1 -DSQLITE_TEMP_STORE=3 -DSQLITE_MAX_VARIABLE_NUMBER=250000 -DSQLITE_MAX_MMAP_SIZE=1099511627776 -I. -I/usr/include/python3.7m -c src/cursor.c -o build/temp.linux-x86_64-3.7/src/cursor.o\n",
            "x86_64-linux-gnu-gcc -pthread -Wno-unused-result -Wsign-compare -DNDEBUG -g -fwrapv -O2 -Wall -g -fdebug-prefix-map=/build/python3.7-Y7dWVB/python3.7-3.7.12=. -fstack-protector-strong -Wformat -Werror=format-security -g -fdebug-prefix-map=/build/python3.7-Y7dWVB/python3.7-3.7.12=. -fstack-protector-strong -Wformat -Werror=format-security -Wdate-time -D_FORTIFY_SOURCE=2 -fPIC -DMODULE_NAME=\"pysqlite3.dbapi2\" -DSQLITE_ALLOW_COVERING_INDEX_SCAN=1 -DSQLITE_ENABLE_FTS3=1 -DSQLITE_ENABLE_FTS3_PARENTHESIS=1 -DSQLITE_ENABLE_FTS4=1 -DSQLITE_ENABLE_FTS5=1 -DSQLITE_ENABLE_JSON1=1 -DSQLITE_ENABLE_LOAD_EXTENSION=1 -DSQLITE_ENABLE_RTREE=1 -DSQLITE_ENABLE_STAT4=1 -DSQLITE_ENABLE_UPDATE_DELETE_LIMIT=1 -DSQLITE_SOUNDEX=1 -DSQLITE_USE_URI=1 -DSQLITE_TEMP_STORE=3 -DSQLITE_MAX_VARIABLE_NUMBER=250000 -DSQLITE_MAX_MMAP_SIZE=1099511627776 -I. -I/usr/include/python3.7m -c src/cache.c -o build/temp.linux-x86_64-3.7/src/cache.o\n",
            "x86_64-linux-gnu-gcc -pthread -Wno-unused-result -Wsign-compare -DNDEBUG -g -fwrapv -O2 -Wall -g -fdebug-prefix-map=/build/python3.7-Y7dWVB/python3.7-3.7.12=. -fstack-protector-strong -Wformat -Werror=format-security -g -fdebug-prefix-map=/build/python3.7-Y7dWVB/python3.7-3.7.12=. -fstack-protector-strong -Wformat -Werror=format-security -Wdate-time -D_FORTIFY_SOURCE=2 -fPIC -DMODULE_NAME=\"pysqlite3.dbapi2\" -DSQLITE_ALLOW_COVERING_INDEX_SCAN=1 -DSQLITE_ENABLE_FTS3=1 -DSQLITE_ENABLE_FTS3_PARENTHESIS=1 -DSQLITE_ENABLE_FTS4=1 -DSQLITE_ENABLE_FTS5=1 -DSQLITE_ENABLE_JSON1=1 -DSQLITE_ENABLE_LOAD_EXTENSION=1 -DSQLITE_ENABLE_RTREE=1 -DSQLITE_ENABLE_STAT4=1 -DSQLITE_ENABLE_UPDATE_DELETE_LIMIT=1 -DSQLITE_SOUNDEX=1 -DSQLITE_USE_URI=1 -DSQLITE_TEMP_STORE=3 -DSQLITE_MAX_VARIABLE_NUMBER=250000 -DSQLITE_MAX_MMAP_SIZE=1099511627776 -I. -I/usr/include/python3.7m -c src/microprotocols.c -o build/temp.linux-x86_64-3.7/src/microprotocols.o\n",
            "x86_64-linux-gnu-gcc -pthread -Wno-unused-result -Wsign-compare -DNDEBUG -g -fwrapv -O2 -Wall -g -fdebug-prefix-map=/build/python3.7-Y7dWVB/python3.7-3.7.12=. -fstack-protector-strong -Wformat -Werror=format-security -g -fdebug-prefix-map=/build/python3.7-Y7dWVB/python3.7-3.7.12=. -fstack-protector-strong -Wformat -Werror=format-security -Wdate-time -D_FORTIFY_SOURCE=2 -fPIC -DMODULE_NAME=\"pysqlite3.dbapi2\" -DSQLITE_ALLOW_COVERING_INDEX_SCAN=1 -DSQLITE_ENABLE_FTS3=1 -DSQLITE_ENABLE_FTS3_PARENTHESIS=1 -DSQLITE_ENABLE_FTS4=1 -DSQLITE_ENABLE_FTS5=1 -DSQLITE_ENABLE_JSON1=1 -DSQLITE_ENABLE_LOAD_EXTENSION=1 -DSQLITE_ENABLE_RTREE=1 -DSQLITE_ENABLE_STAT4=1 -DSQLITE_ENABLE_UPDATE_DELETE_LIMIT=1 -DSQLITE_SOUNDEX=1 -DSQLITE_USE_URI=1 -DSQLITE_TEMP_STORE=3 -DSQLITE_MAX_VARIABLE_NUMBER=250000 -DSQLITE_MAX_MMAP_SIZE=1099511627776 -I. -I/usr/include/python3.7m -c src/prepare_protocol.c -o build/temp.linux-x86_64-3.7/src/prepare_protocol.o\n",
            "x86_64-linux-gnu-gcc -pthread -Wno-unused-result -Wsign-compare -DNDEBUG -g -fwrapv -O2 -Wall -g -fdebug-prefix-map=/build/python3.7-Y7dWVB/python3.7-3.7.12=. -fstack-protector-strong -Wformat -Werror=format-security -g -fdebug-prefix-map=/build/python3.7-Y7dWVB/python3.7-3.7.12=. -fstack-protector-strong -Wformat -Werror=format-security -Wdate-time -D_FORTIFY_SOURCE=2 -fPIC -DMODULE_NAME=\"pysqlite3.dbapi2\" -DSQLITE_ALLOW_COVERING_INDEX_SCAN=1 -DSQLITE_ENABLE_FTS3=1 -DSQLITE_ENABLE_FTS3_PARENTHESIS=1 -DSQLITE_ENABLE_FTS4=1 -DSQLITE_ENABLE_FTS5=1 -DSQLITE_ENABLE_JSON1=1 -DSQLITE_ENABLE_LOAD_EXTENSION=1 -DSQLITE_ENABLE_RTREE=1 -DSQLITE_ENABLE_STAT4=1 -DSQLITE_ENABLE_UPDATE_DELETE_LIMIT=1 -DSQLITE_SOUNDEX=1 -DSQLITE_USE_URI=1 -DSQLITE_TEMP_STORE=3 -DSQLITE_MAX_VARIABLE_NUMBER=250000 -DSQLITE_MAX_MMAP_SIZE=1099511627776 -I. -I/usr/include/python3.7m -c src/statement.c -o build/temp.linux-x86_64-3.7/src/statement.o\n",
            "x86_64-linux-gnu-gcc -pthread -Wno-unused-result -Wsign-compare -DNDEBUG -g -fwrapv -O2 -Wall -g -fdebug-prefix-map=/build/python3.7-Y7dWVB/python3.7-3.7.12=. -fstack-protector-strong -Wformat -Werror=format-security -g -fdebug-prefix-map=/build/python3.7-Y7dWVB/python3.7-3.7.12=. -fstack-protector-strong -Wformat -Werror=format-security -Wdate-time -D_FORTIFY_SOURCE=2 -fPIC -DMODULE_NAME=\"pysqlite3.dbapi2\" -DSQLITE_ALLOW_COVERING_INDEX_SCAN=1 -DSQLITE_ENABLE_FTS3=1 -DSQLITE_ENABLE_FTS3_PARENTHESIS=1 -DSQLITE_ENABLE_FTS4=1 -DSQLITE_ENABLE_FTS5=1 -DSQLITE_ENABLE_JSON1=1 -DSQLITE_ENABLE_LOAD_EXTENSION=1 -DSQLITE_ENABLE_RTREE=1 -DSQLITE_ENABLE_STAT4=1 -DSQLITE_ENABLE_UPDATE_DELETE_LIMIT=1 -DSQLITE_SOUNDEX=1 -DSQLITE_USE_URI=1 -DSQLITE_TEMP_STORE=3 -DSQLITE_MAX_VARIABLE_NUMBER=250000 -DSQLITE_MAX_MMAP_SIZE=1099511627776 -I. -I/usr/include/python3.7m -c src/util.c -o build/temp.linux-x86_64-3.7/src/util.o\n",
            "x86_64-linux-gnu-gcc -pthread -Wno-unused-result -Wsign-compare -DNDEBUG -g -fwrapv -O2 -Wall -g -fdebug-prefix-map=/build/python3.7-Y7dWVB/python3.7-3.7.12=. -fstack-protector-strong -Wformat -Werror=format-security -g -fdebug-prefix-map=/build/python3.7-Y7dWVB/python3.7-3.7.12=. -fstack-protector-strong -Wformat -Werror=format-security -Wdate-time -D_FORTIFY_SOURCE=2 -fPIC -DMODULE_NAME=\"pysqlite3.dbapi2\" -DSQLITE_ALLOW_COVERING_INDEX_SCAN=1 -DSQLITE_ENABLE_FTS3=1 -DSQLITE_ENABLE_FTS3_PARENTHESIS=1 -DSQLITE_ENABLE_FTS4=1 -DSQLITE_ENABLE_FTS5=1 -DSQLITE_ENABLE_JSON1=1 -DSQLITE_ENABLE_LOAD_EXTENSION=1 -DSQLITE_ENABLE_RTREE=1 -DSQLITE_ENABLE_STAT4=1 -DSQLITE_ENABLE_UPDATE_DELETE_LIMIT=1 -DSQLITE_SOUNDEX=1 -DSQLITE_USE_URI=1 -DSQLITE_TEMP_STORE=3 -DSQLITE_MAX_VARIABLE_NUMBER=250000 -DSQLITE_MAX_MMAP_SIZE=1099511627776 -I. -I/usr/include/python3.7m -c src/row.c -o build/temp.linux-x86_64-3.7/src/row.o\n",
            "x86_64-linux-gnu-gcc -pthread -Wno-unused-result -Wsign-compare -DNDEBUG -g -fwrapv -O2 -Wall -g -fdebug-prefix-map=/build/python3.7-Y7dWVB/python3.7-3.7.12=. -fstack-protector-strong -Wformat -Werror=format-security -g -fdebug-prefix-map=/build/python3.7-Y7dWVB/python3.7-3.7.12=. -fstack-protector-strong -Wformat -Werror=format-security -Wdate-time -D_FORTIFY_SOURCE=2 -fPIC -DMODULE_NAME=\"pysqlite3.dbapi2\" -DSQLITE_ALLOW_COVERING_INDEX_SCAN=1 -DSQLITE_ENABLE_FTS3=1 -DSQLITE_ENABLE_FTS3_PARENTHESIS=1 -DSQLITE_ENABLE_FTS4=1 -DSQLITE_ENABLE_FTS5=1 -DSQLITE_ENABLE_JSON1=1 -DSQLITE_ENABLE_LOAD_EXTENSION=1 -DSQLITE_ENABLE_RTREE=1 -DSQLITE_ENABLE_STAT4=1 -DSQLITE_ENABLE_UPDATE_DELETE_LIMIT=1 -DSQLITE_SOUNDEX=1 -DSQLITE_USE_URI=1 -DSQLITE_TEMP_STORE=3 -DSQLITE_MAX_VARIABLE_NUMBER=250000 -DSQLITE_MAX_MMAP_SIZE=1099511627776 -I. -I/usr/include/python3.7m -c src/blob.c -o build/temp.linux-x86_64-3.7/src/blob.o\n",
            "x86_64-linux-gnu-gcc -pthread -Wno-unused-result -Wsign-compare -DNDEBUG -g -fwrapv -O2 -Wall -g -fdebug-prefix-map=/build/python3.7-Y7dWVB/python3.7-3.7.12=. -fstack-protector-strong -Wformat -Werror=format-security -g -fdebug-prefix-map=/build/python3.7-Y7dWVB/python3.7-3.7.12=. -fstack-protector-strong -Wformat -Werror=format-security -Wdate-time -D_FORTIFY_SOURCE=2 -fPIC -DMODULE_NAME=\"pysqlite3.dbapi2\" -DSQLITE_ALLOW_COVERING_INDEX_SCAN=1 -DSQLITE_ENABLE_FTS3=1 -DSQLITE_ENABLE_FTS3_PARENTHESIS=1 -DSQLITE_ENABLE_FTS4=1 -DSQLITE_ENABLE_FTS5=1 -DSQLITE_ENABLE_JSON1=1 -DSQLITE_ENABLE_LOAD_EXTENSION=1 -DSQLITE_ENABLE_RTREE=1 -DSQLITE_ENABLE_STAT4=1 -DSQLITE_ENABLE_UPDATE_DELETE_LIMIT=1 -DSQLITE_SOUNDEX=1 -DSQLITE_USE_URI=1 -DSQLITE_TEMP_STORE=3 -DSQLITE_MAX_VARIABLE_NUMBER=250000 -DSQLITE_MAX_MMAP_SIZE=1099511627776 -I. -I/usr/include/python3.7m -c ./sqlite3.c -o build/temp.linux-x86_64-3.7/./sqlite3.o\n",
            "creating build/lib.linux-x86_64-3.7\n",
            "creating build/lib.linux-x86_64-3.7/pysqlite3\n",
            "x86_64-linux-gnu-gcc -pthread -shared -Wl,-O1 -Wl,-Bsymbolic-functions -Wl,-Bsymbolic-functions -Wl,-z,relro -Wl,-Bsymbolic-functions -Wl,-z,relro -g -fdebug-prefix-map=/build/python3.7-Y7dWVB/python3.7-3.7.12=. -fstack-protector-strong -Wformat -Werror=format-security -Wdate-time -D_FORTIFY_SOURCE=2 build/temp.linux-x86_64-3.7/src/module.o build/temp.linux-x86_64-3.7/src/connection.o build/temp.linux-x86_64-3.7/src/cursor.o build/temp.linux-x86_64-3.7/src/cache.o build/temp.linux-x86_64-3.7/src/microprotocols.o build/temp.linux-x86_64-3.7/src/prepare_protocol.o build/temp.linux-x86_64-3.7/src/statement.o build/temp.linux-x86_64-3.7/src/util.o build/temp.linux-x86_64-3.7/src/row.o build/temp.linux-x86_64-3.7/src/blob.o build/temp.linux-x86_64-3.7/./sqlite3.o -o build/lib.linux-x86_64-3.7/pysqlite3/_sqlite3.cpython-37m-x86_64-linux-gnu.so -lm\n",
            "running build\n",
            "running build_py\n",
            "copying pysqlite3/__init__.py -> build/lib.linux-x86_64-3.7/pysqlite3\n",
            "copying pysqlite3/dbapi2.py -> build/lib.linux-x86_64-3.7/pysqlite3\n",
            "running build_ext\n",
            "Builds a C extension linking against libsqlite3 library\n"
          ]
        }
      ]
    },
    {
      "cell_type": "code",
      "metadata": {
        "id": "hQkqcjL7EXCr",
        "colab": {
          "base_uri": "https://localhost:8080/",
          "height": 35
        },
        "outputId": "c8245688-c515-4d43-883d-03d0c3495718"
      },
      "source": [
        "# 메뉴 런타임 > 런타임 다시 시작 후 셀 실행\n",
        "import pandas as pd\n",
        "import sqlite3\n",
        "sqlite3.sqlite_version  # 3.36.0"
      ],
      "execution_count": 1,
      "outputs": [
        {
          "output_type": "execute_result",
          "data": {
            "application/vnd.google.colaboratory.intrinsic+json": {
              "type": "string"
            },
            "text/plain": [
              "'3.36.0'"
            ]
          },
          "metadata": {},
          "execution_count": 1
        }
      ]
    },
    {
      "cell_type": "markdown",
      "metadata": {
        "id": "eBD5-kqFxbZC"
      },
      "source": [
        "## 2) Instacart 데이터베이스 다운로드"
      ]
    },
    {
      "cell_type": "code",
      "metadata": {
        "id": "A4DnlgKDf0Ph",
        "colab": {
          "base_uri": "https://localhost:8080/",
          "height": 106
        },
        "outputId": "67794570-3038-42c6-8b71-32ae4b76343d"
      },
      "source": [
        "import gdown\n",
        "\n",
        "url = 'https://drive.google.com/uc?id=17q9zfOWSRVw_H0tQn03xyLvMcy-ynPE6'\n",
        "output = 'Instacart.db'\n",
        "gdown.download(url, output, quiet=False)"
      ],
      "execution_count": 2,
      "outputs": [
        {
          "output_type": "stream",
          "name": "stderr",
          "text": [
            "Downloading...\n",
            "From: https://drive.google.com/uc?id=17q9zfOWSRVw_H0tQn03xyLvMcy-ynPE6\n",
            "To: /content/Instacart.db\n",
            "100%|██████████| 1.07M/1.07M [00:00<00:00, 91.7MB/s]\n"
          ]
        },
        {
          "output_type": "execute_result",
          "data": {
            "application/vnd.google.colaboratory.intrinsic+json": {
              "type": "string"
            },
            "text/plain": [
              "'Instacart.db'"
            ]
          },
          "metadata": {},
          "execution_count": 2
        }
      ]
    },
    {
      "cell_type": "markdown",
      "metadata": {
        "id": "PL5PJelMxoh_"
      },
      "source": [
        "## 3) Instacart 데이터베이스 연결"
      ]
    },
    {
      "cell_type": "code",
      "metadata": {
        "id": "dAma45DgCvvT"
      },
      "source": [
        "conn = sqlite3.connect(\"Instacart.db\")\n",
        "cur = conn.cursor()"
      ],
      "execution_count": 3,
      "outputs": []
    },
    {
      "cell_type": "markdown",
      "metadata": {
        "id": "1JuDnthkxx7B"
      },
      "source": [
        "## 4) Instacart 데이터베이스 테이블 조회 테스트"
      ]
    },
    {
      "cell_type": "code",
      "metadata": {
        "id": "XgMq8gRBG2ij"
      },
      "source": [
        "def viewlimit(table, cutlimit):\n",
        "  sql = \"SELECT * FROM \" + table + \" LIMIT \" + cutlimit + \";\"\n",
        "  cur.execute(sql)\n",
        "  rows = cur.fetchall()\n",
        "  print(sql)\n",
        "  for row in rows:\n",
        "    print(row)"
      ],
      "execution_count": 4,
      "outputs": []
    },
    {
      "cell_type": "code",
      "metadata": {
        "id": "W7nPJDRfHXhH",
        "colab": {
          "base_uri": "https://localhost:8080/"
        },
        "outputId": "89dc3e69-25a9-4705-ebc3-33905f71cb26"
      },
      "source": [
        "viewlimit(\"orders\",\"10\")"
      ],
      "execution_count": 5,
      "outputs": [
        {
          "output_type": "stream",
          "name": "stdout",
          "text": [
            "SELECT * FROM orders LIMIT 10;\n",
            "(2352815, 185282, 'prior', 5, 2, 9, 6)\n",
            "(1414622, 41949, 'prior', 9, 0, 16, 6)\n",
            "(2534064, 24631, 'prior', 66, 1, 13, 4)\n",
            "(338572, 95289, 'prior', 4, 2, 14, 18)\n",
            "(2578618, 170417, 'prior', 5, 1, 13, 14)\n",
            "(1756647, 127210, 'prior', 31, 3, 18, 9)\n",
            "(2636806, 26473, 'prior', 24, 2, 17, 17)\n",
            "(681993, 89155, 'prior', 17, 1, 15, 4)\n",
            "(826339, 67750, 'prior', 7, 3, 14, 17)\n",
            "(57285, 89307, 'prior', 48, 1, 22, 5)\n"
          ]
        }
      ]
    },
    {
      "cell_type": "markdown",
      "metadata": {
        "id": "NyyTaztcH9cG"
      },
      "source": [
        "## 5) Pandas read_sql 함수로 데이터 조회 및 결과 확인"
      ]
    },
    {
      "cell_type": "code",
      "metadata": {
        "id": "Kf2cXIMfie_U",
        "colab": {
          "base_uri": "https://localhost:8080/",
          "height": 357
        },
        "outputId": "4772124e-644b-45ae-a1fa-9cf865b14f39"
      },
      "source": [
        "window_sql = f\"\"\"\n",
        "select *\n",
        "  from orders\n",
        "\"\"\"\n",
        "df = pd.read_sql(window_sql, conn, index_col=None)\n",
        "df.head(10)"
      ],
      "execution_count": 6,
      "outputs": [
        {
          "output_type": "execute_result",
          "data": {
            "text/html": [
              "<div>\n",
              "<style scoped>\n",
              "    .dataframe tbody tr th:only-of-type {\n",
              "        vertical-align: middle;\n",
              "    }\n",
              "\n",
              "    .dataframe tbody tr th {\n",
              "        vertical-align: top;\n",
              "    }\n",
              "\n",
              "    .dataframe thead th {\n",
              "        text-align: right;\n",
              "    }\n",
              "</style>\n",
              "<table border=\"1\" class=\"dataframe\">\n",
              "  <thead>\n",
              "    <tr style=\"text-align: right;\">\n",
              "      <th></th>\n",
              "      <th>order_id</th>\n",
              "      <th>user_id</th>\n",
              "      <th>eval_set</th>\n",
              "      <th>order_number</th>\n",
              "      <th>order_dow</th>\n",
              "      <th>order_hour_of_day</th>\n",
              "      <th>days_since_prior_order</th>\n",
              "    </tr>\n",
              "  </thead>\n",
              "  <tbody>\n",
              "    <tr>\n",
              "      <th>0</th>\n",
              "      <td>2352815</td>\n",
              "      <td>185282</td>\n",
              "      <td>prior</td>\n",
              "      <td>5</td>\n",
              "      <td>2</td>\n",
              "      <td>9</td>\n",
              "      <td>6</td>\n",
              "    </tr>\n",
              "    <tr>\n",
              "      <th>1</th>\n",
              "      <td>1414622</td>\n",
              "      <td>41949</td>\n",
              "      <td>prior</td>\n",
              "      <td>9</td>\n",
              "      <td>0</td>\n",
              "      <td>16</td>\n",
              "      <td>6</td>\n",
              "    </tr>\n",
              "    <tr>\n",
              "      <th>2</th>\n",
              "      <td>2534064</td>\n",
              "      <td>24631</td>\n",
              "      <td>prior</td>\n",
              "      <td>66</td>\n",
              "      <td>1</td>\n",
              "      <td>13</td>\n",
              "      <td>4</td>\n",
              "    </tr>\n",
              "    <tr>\n",
              "      <th>3</th>\n",
              "      <td>338572</td>\n",
              "      <td>95289</td>\n",
              "      <td>prior</td>\n",
              "      <td>4</td>\n",
              "      <td>2</td>\n",
              "      <td>14</td>\n",
              "      <td>18</td>\n",
              "    </tr>\n",
              "    <tr>\n",
              "      <th>4</th>\n",
              "      <td>2578618</td>\n",
              "      <td>170417</td>\n",
              "      <td>prior</td>\n",
              "      <td>5</td>\n",
              "      <td>1</td>\n",
              "      <td>13</td>\n",
              "      <td>14</td>\n",
              "    </tr>\n",
              "    <tr>\n",
              "      <th>5</th>\n",
              "      <td>1756647</td>\n",
              "      <td>127210</td>\n",
              "      <td>prior</td>\n",
              "      <td>31</td>\n",
              "      <td>3</td>\n",
              "      <td>18</td>\n",
              "      <td>9</td>\n",
              "    </tr>\n",
              "    <tr>\n",
              "      <th>6</th>\n",
              "      <td>2636806</td>\n",
              "      <td>26473</td>\n",
              "      <td>prior</td>\n",
              "      <td>24</td>\n",
              "      <td>2</td>\n",
              "      <td>17</td>\n",
              "      <td>17</td>\n",
              "    </tr>\n",
              "    <tr>\n",
              "      <th>7</th>\n",
              "      <td>681993</td>\n",
              "      <td>89155</td>\n",
              "      <td>prior</td>\n",
              "      <td>17</td>\n",
              "      <td>1</td>\n",
              "      <td>15</td>\n",
              "      <td>4</td>\n",
              "    </tr>\n",
              "    <tr>\n",
              "      <th>8</th>\n",
              "      <td>826339</td>\n",
              "      <td>67750</td>\n",
              "      <td>prior</td>\n",
              "      <td>7</td>\n",
              "      <td>3</td>\n",
              "      <td>14</td>\n",
              "      <td>17</td>\n",
              "    </tr>\n",
              "    <tr>\n",
              "      <th>9</th>\n",
              "      <td>57285</td>\n",
              "      <td>89307</td>\n",
              "      <td>prior</td>\n",
              "      <td>48</td>\n",
              "      <td>1</td>\n",
              "      <td>22</td>\n",
              "      <td>5</td>\n",
              "    </tr>\n",
              "  </tbody>\n",
              "</table>\n",
              "</div>"
            ],
            "text/plain": [
              "   order_id  user_id  ... order_hour_of_day  days_since_prior_order\n",
              "0   2352815   185282  ...                 9                       6\n",
              "1   1414622    41949  ...                16                       6\n",
              "2   2534064    24631  ...                13                       4\n",
              "3    338572    95289  ...                14                      18\n",
              "4   2578618   170417  ...                13                      14\n",
              "5   1756647   127210  ...                18                       9\n",
              "6   2636806    26473  ...                17                      17\n",
              "7    681993    89155  ...                15                       4\n",
              "8    826339    67750  ...                14                      17\n",
              "9     57285    89307  ...                22                       5\n",
              "\n",
              "[10 rows x 7 columns]"
            ]
          },
          "metadata": {},
          "execution_count": 6
        }
      ]
    },
    {
      "cell_type": "code",
      "metadata": {
        "id": "XyjHksrFSq7Q"
      },
      "source": [
        "#db조회 결과 다운로드\n",
        "df.to_csv('/content/tmp.csv')"
      ],
      "execution_count": 7,
      "outputs": []
    },
    {
      "cell_type": "markdown",
      "metadata": {
        "id": "wXnK-AJHVDpv"
      },
      "source": [
        "## 6) 구글 드라이브 마운트 및 파일 저장"
      ]
    },
    {
      "cell_type": "code",
      "metadata": {
        "colab": {
          "base_uri": "https://localhost:8080/"
        },
        "id": "gGz6qF2LZF27",
        "outputId": "93866698-cb88-4d21-d4b7-1c563e087023"
      },
      "source": [
        "from google.colab import drive\n",
        "drive.mount('/content/drive')"
      ],
      "execution_count": 8,
      "outputs": [
        {
          "output_type": "stream",
          "name": "stdout",
          "text": [
            "Mounted at /content/drive\n"
          ]
        }
      ]
    },
    {
      "cell_type": "markdown",
      "metadata": {
        "id": "x1A6tGJvDr7x"
      },
      "source": [
        "아래 코드 실행 전 내 드라이브에 result 폴더를 생성하고 해당 폴더 안에 6w 폴더를 생성함"
      ]
    },
    {
      "cell_type": "code",
      "metadata": {
        "id": "ZQYop_VuWWsc"
      },
      "source": [
        "def sql_result(sql,file):\n",
        "  print(sql)\n",
        "  df = pd.read_sql(sql, conn, index_col=None)\n",
        "  print(df.head(10))\n",
        "  file_name = '/content/drive/MyDrive/result/6w/' + file + '.csv' #csv파일을 MyDrive/result/6w 폴더에 저장\n",
        "  print(file_name)\n",
        "  df.to_csv(file_name, index=False)"
      ],
      "execution_count": 9,
      "outputs": []
    },
    {
      "cell_type": "code",
      "metadata": {
        "id": "NbXxClBFWZxN"
      },
      "source": [
        "sql = f\"\"\"\n",
        "select *\n",
        "  from orders\n",
        " limit 10\n",
        "\"\"\"\n",
        "file = 'result_6w_test'"
      ],
      "execution_count": 10,
      "outputs": []
    },
    {
      "cell_type": "code",
      "metadata": {
        "colab": {
          "base_uri": "https://localhost:8080/"
        },
        "id": "3VDb1CRtWZn2",
        "outputId": "db093d56-fc3f-4f15-e459-c14fba00127d"
      },
      "source": [
        "sql_result(sql,file)"
      ],
      "execution_count": 11,
      "outputs": [
        {
          "output_type": "stream",
          "name": "stdout",
          "text": [
            "\n",
            "select *\n",
            "  from orders\n",
            " limit 10\n",
            "\n",
            "   order_id  user_id  ... order_hour_of_day  days_since_prior_order\n",
            "0   2352815   185282  ...                 9                       6\n",
            "1   1414622    41949  ...                16                       6\n",
            "2   2534064    24631  ...                13                       4\n",
            "3    338572    95289  ...                14                      18\n",
            "4   2578618   170417  ...                13                      14\n",
            "5   1756647   127210  ...                18                       9\n",
            "6   2636806    26473  ...                17                      17\n",
            "7    681993    89155  ...                15                       4\n",
            "8    826339    67750  ...                14                      17\n",
            "9     57285    89307  ...                22                       5\n",
            "\n",
            "[10 rows x 7 columns]\n",
            "/content/drive/MyDrive/result/6w/result_6w_test.csv\n"
          ]
        }
      ]
    },
    {
      "cell_type": "markdown",
      "metadata": {
        "id": "jnanxZi3Fqm3"
      },
      "source": [
        "# 1.데이터 생성"
      ]
    },
    {
      "cell_type": "markdown",
      "metadata": {
        "id": "BRLivRO85KuW"
      },
      "source": [
        "데이터 다운로드 URL\n",
        "https://github.com/billyrohh/instacart_dataset"
      ]
    },
    {
      "cell_type": "markdown",
      "metadata": {
        "id": "YHpHmQaDL3mc"
      },
      "source": [
        "데이터베이스 소개\n",
        "https://www.kaggle.com/c/instacart-market-basket-analysis/data"
      ]
    },
    {
      "cell_type": "markdown",
      "metadata": {
        "id": "qOJIcH66MawP"
      },
      "source": [
        "처음 접하는 데이터가 있다면 항상 각 테이블이 무엇을 의미하는지, 어떤 컬럼이 있는 확인하고 테이블 간의 관계를 파악해야 한다."
      ]
    },
    {
      "cell_type": "markdown",
      "metadata": {
        "id": "ec5SCVBzMpv5"
      },
      "source": [
        "\n",
        "<center>\n",
        "\n",
        "|테이블명|내용|\n",
        "|-----|-----|\n",
        "|aisles|상품카테고리정보1|\n",
        "|departments|상품카테고리정보2|\n",
        "|order_products__prior|각 주문 번호의 상세 구매 내역|\n",
        "|orders|주문 대표 정보|\n",
        "|products|상품정보|\n",
        "</center>"
      ]
    },
    {
      "cell_type": "markdown",
      "metadata": {
        "id": "4gWA45iC98TB"
      },
      "source": [
        "[aisles]\n",
        "*   aisle_id\n",
        "*   aisle\n",
        "\n",
        "[departments]\n",
        "*   department_id\n",
        "*   department\n",
        "\n",
        "[order_products__prior]\n",
        "*   order_id\n",
        "*   product_id\n",
        "*   add_to_cart_order\n",
        "*   reordered\n",
        "\n",
        "[orders]\n",
        "*   order_id\n",
        "*   user_id\n",
        "*   eval_set\n",
        "*   order_number\n",
        "*   order_dow\n",
        "*   order_hour_of_day\n",
        "*   days_since_prior\n",
        "\n",
        "[products]\n",
        "*   product_id\n",
        "*   product_name\n",
        "*   aisle_id\n",
        "*   department_id"
      ]
    },
    {
      "cell_type": "code",
      "metadata": {
        "colab": {
          "base_uri": "https://localhost:8080/",
          "height": 203
        },
        "id": "pjfCJK1KLKnW",
        "outputId": "362cc63e-ca80-4f39-ff07-6b0c9cc425ff"
      },
      "source": [
        "#테이블 리스트 확인\n",
        "sql = f\"\"\"\n",
        "SELECT name FROM sqlite_master WHERE type='table';\n",
        "\"\"\"\n",
        "df = pd.read_sql(sql, conn, index_col=None)\n",
        "df"
      ],
      "execution_count": 12,
      "outputs": [
        {
          "output_type": "execute_result",
          "data": {
            "text/html": [
              "<div>\n",
              "<style scoped>\n",
              "    .dataframe tbody tr th:only-of-type {\n",
              "        vertical-align: middle;\n",
              "    }\n",
              "\n",
              "    .dataframe tbody tr th {\n",
              "        vertical-align: top;\n",
              "    }\n",
              "\n",
              "    .dataframe thead th {\n",
              "        text-align: right;\n",
              "    }\n",
              "</style>\n",
              "<table border=\"1\" class=\"dataframe\">\n",
              "  <thead>\n",
              "    <tr style=\"text-align: right;\">\n",
              "      <th></th>\n",
              "      <th>name</th>\n",
              "    </tr>\n",
              "  </thead>\n",
              "  <tbody>\n",
              "    <tr>\n",
              "      <th>0</th>\n",
              "      <td>aisles</td>\n",
              "    </tr>\n",
              "    <tr>\n",
              "      <th>1</th>\n",
              "      <td>departments</td>\n",
              "    </tr>\n",
              "    <tr>\n",
              "      <th>2</th>\n",
              "      <td>order_products__prior</td>\n",
              "    </tr>\n",
              "    <tr>\n",
              "      <th>3</th>\n",
              "      <td>orders</td>\n",
              "    </tr>\n",
              "    <tr>\n",
              "      <th>4</th>\n",
              "      <td>products</td>\n",
              "    </tr>\n",
              "  </tbody>\n",
              "</table>\n",
              "</div>"
            ],
            "text/plain": [
              "                    name\n",
              "0                 aisles\n",
              "1            departments\n",
              "2  order_products__prior\n",
              "3                 orders\n",
              "4               products"
            ]
          },
          "metadata": {},
          "execution_count": 12
        }
      ]
    },
    {
      "cell_type": "markdown",
      "metadata": {
        "id": "HJf5anrwLKfP"
      },
      "source": [
        "## 1) aisles 테이블 조회"
      ]
    },
    {
      "cell_type": "markdown",
      "metadata": {
        "id": "IdVeEmmPklus"
      },
      "source": [
        "*   aisle_id: aisle identifier\n",
        "*   aisle: the name of the aisle"
      ]
    },
    {
      "cell_type": "code",
      "metadata": {
        "colab": {
          "base_uri": "https://localhost:8080/",
          "height": 357
        },
        "id": "k6SqMr0VLKXO",
        "outputId": "d061e0dd-017c-4895-a5f1-74ba38e2c429"
      },
      "source": [
        "#테이블 리스트 확인\n",
        "sql = f\"\"\"\n",
        "SELECT * FROM aisles;\n",
        "\"\"\"\n",
        "df = pd.read_sql(sql, conn, index_col=None)\n",
        "df.head(10)"
      ],
      "execution_count": 13,
      "outputs": [
        {
          "output_type": "execute_result",
          "data": {
            "text/html": [
              "<div>\n",
              "<style scoped>\n",
              "    .dataframe tbody tr th:only-of-type {\n",
              "        vertical-align: middle;\n",
              "    }\n",
              "\n",
              "    .dataframe tbody tr th {\n",
              "        vertical-align: top;\n",
              "    }\n",
              "\n",
              "    .dataframe thead th {\n",
              "        text-align: right;\n",
              "    }\n",
              "</style>\n",
              "<table border=\"1\" class=\"dataframe\">\n",
              "  <thead>\n",
              "    <tr style=\"text-align: right;\">\n",
              "      <th></th>\n",
              "      <th>aisle_id</th>\n",
              "      <th>aisle</th>\n",
              "    </tr>\n",
              "  </thead>\n",
              "  <tbody>\n",
              "    <tr>\n",
              "      <th>0</th>\n",
              "      <td>1</td>\n",
              "      <td>prepared soups salads</td>\n",
              "    </tr>\n",
              "    <tr>\n",
              "      <th>1</th>\n",
              "      <td>2</td>\n",
              "      <td>specialty cheeses</td>\n",
              "    </tr>\n",
              "    <tr>\n",
              "      <th>2</th>\n",
              "      <td>3</td>\n",
              "      <td>energy granola bars</td>\n",
              "    </tr>\n",
              "    <tr>\n",
              "      <th>3</th>\n",
              "      <td>4</td>\n",
              "      <td>instant foods</td>\n",
              "    </tr>\n",
              "    <tr>\n",
              "      <th>4</th>\n",
              "      <td>5</td>\n",
              "      <td>marinades meat preparation</td>\n",
              "    </tr>\n",
              "    <tr>\n",
              "      <th>5</th>\n",
              "      <td>6</td>\n",
              "      <td>other</td>\n",
              "    </tr>\n",
              "    <tr>\n",
              "      <th>6</th>\n",
              "      <td>7</td>\n",
              "      <td>packaged meat</td>\n",
              "    </tr>\n",
              "    <tr>\n",
              "      <th>7</th>\n",
              "      <td>8</td>\n",
              "      <td>bakery desserts</td>\n",
              "    </tr>\n",
              "    <tr>\n",
              "      <th>8</th>\n",
              "      <td>9</td>\n",
              "      <td>pasta sauce</td>\n",
              "    </tr>\n",
              "    <tr>\n",
              "      <th>9</th>\n",
              "      <td>10</td>\n",
              "      <td>kitchen supplies</td>\n",
              "    </tr>\n",
              "  </tbody>\n",
              "</table>\n",
              "</div>"
            ],
            "text/plain": [
              "   aisle_id                       aisle\n",
              "0         1       prepared soups salads\n",
              "1         2           specialty cheeses\n",
              "2         3         energy granola bars\n",
              "3         4               instant foods\n",
              "4         5  marinades meat preparation\n",
              "5         6                       other\n",
              "6         7               packaged meat\n",
              "7         8             bakery desserts\n",
              "8         9                 pasta sauce\n",
              "9        10            kitchen supplies"
            ]
          },
          "metadata": {},
          "execution_count": 13
        }
      ]
    },
    {
      "cell_type": "code",
      "metadata": {
        "colab": {
          "base_uri": "https://localhost:8080/",
          "height": 80
        },
        "id": "GYva-shHS7Cq",
        "outputId": "0ce17fe6-91c5-4792-d804-a88d29193df7"
      },
      "source": [
        "#테이블 리스트 확인\n",
        "# 이걸 통해서 aisle_id는 각각 다 다르다는 것을 알 수 있지!\n",
        "\n",
        "sql = f\"\"\"\n",
        "SELECT count(*), count(distinct aisle_id) FROM aisles;\n",
        "\"\"\"\n",
        "df = pd.read_sql(sql, conn, index_col=None)\n",
        "df.head(10)"
      ],
      "execution_count": 14,
      "outputs": [
        {
          "output_type": "execute_result",
          "data": {
            "text/html": [
              "<div>\n",
              "<style scoped>\n",
              "    .dataframe tbody tr th:only-of-type {\n",
              "        vertical-align: middle;\n",
              "    }\n",
              "\n",
              "    .dataframe tbody tr th {\n",
              "        vertical-align: top;\n",
              "    }\n",
              "\n",
              "    .dataframe thead th {\n",
              "        text-align: right;\n",
              "    }\n",
              "</style>\n",
              "<table border=\"1\" class=\"dataframe\">\n",
              "  <thead>\n",
              "    <tr style=\"text-align: right;\">\n",
              "      <th></th>\n",
              "      <th>count(*)</th>\n",
              "      <th>count(distinct aisle_id)</th>\n",
              "    </tr>\n",
              "  </thead>\n",
              "  <tbody>\n",
              "    <tr>\n",
              "      <th>0</th>\n",
              "      <td>134</td>\n",
              "      <td>134</td>\n",
              "    </tr>\n",
              "  </tbody>\n",
              "</table>\n",
              "</div>"
            ],
            "text/plain": [
              "   count(*)  count(distinct aisle_id)\n",
              "0       134                       134"
            ]
          },
          "metadata": {},
          "execution_count": 14
        }
      ]
    },
    {
      "cell_type": "markdown",
      "metadata": {
        "id": "9e9OBZwYLKOX"
      },
      "source": [
        "## 2) departments 테이블 조회"
      ]
    },
    {
      "cell_type": "markdown",
      "metadata": {
        "id": "NiT25imQkqXQ"
      },
      "source": [
        "*   department_id: department identifier\n",
        "*   department: the name of the department"
      ]
    },
    {
      "cell_type": "code",
      "metadata": {
        "colab": {
          "base_uri": "https://localhost:8080/",
          "height": 357
        },
        "id": "ijXRBkZPLKEh",
        "outputId": "36413d91-2a04-4057-a272-cb2fe2a92216"
      },
      "source": [
        "#departments 테이블 조회\n",
        "sql = f\"\"\"\n",
        "SELECT * FROM departments;\n",
        "\"\"\"\n",
        "df = pd.read_sql(sql, conn, index_col=None)\n",
        "df.head(10)"
      ],
      "execution_count": 17,
      "outputs": [
        {
          "output_type": "execute_result",
          "data": {
            "text/html": [
              "<div>\n",
              "<style scoped>\n",
              "    .dataframe tbody tr th:only-of-type {\n",
              "        vertical-align: middle;\n",
              "    }\n",
              "\n",
              "    .dataframe tbody tr th {\n",
              "        vertical-align: top;\n",
              "    }\n",
              "\n",
              "    .dataframe thead th {\n",
              "        text-align: right;\n",
              "    }\n",
              "</style>\n",
              "<table border=\"1\" class=\"dataframe\">\n",
              "  <thead>\n",
              "    <tr style=\"text-align: right;\">\n",
              "      <th></th>\n",
              "      <th>department_id</th>\n",
              "      <th>department</th>\n",
              "    </tr>\n",
              "  </thead>\n",
              "  <tbody>\n",
              "    <tr>\n",
              "      <th>0</th>\n",
              "      <td>1</td>\n",
              "      <td>frozen</td>\n",
              "    </tr>\n",
              "    <tr>\n",
              "      <th>1</th>\n",
              "      <td>2</td>\n",
              "      <td>other</td>\n",
              "    </tr>\n",
              "    <tr>\n",
              "      <th>2</th>\n",
              "      <td>3</td>\n",
              "      <td>bakery</td>\n",
              "    </tr>\n",
              "    <tr>\n",
              "      <th>3</th>\n",
              "      <td>4</td>\n",
              "      <td>produce</td>\n",
              "    </tr>\n",
              "    <tr>\n",
              "      <th>4</th>\n",
              "      <td>5</td>\n",
              "      <td>alcohol</td>\n",
              "    </tr>\n",
              "    <tr>\n",
              "      <th>5</th>\n",
              "      <td>6</td>\n",
              "      <td>international</td>\n",
              "    </tr>\n",
              "    <tr>\n",
              "      <th>6</th>\n",
              "      <td>7</td>\n",
              "      <td>beverages</td>\n",
              "    </tr>\n",
              "    <tr>\n",
              "      <th>7</th>\n",
              "      <td>8</td>\n",
              "      <td>pets</td>\n",
              "    </tr>\n",
              "    <tr>\n",
              "      <th>8</th>\n",
              "      <td>9</td>\n",
              "      <td>dry goods pasta</td>\n",
              "    </tr>\n",
              "    <tr>\n",
              "      <th>9</th>\n",
              "      <td>10</td>\n",
              "      <td>bulk</td>\n",
              "    </tr>\n",
              "  </tbody>\n",
              "</table>\n",
              "</div>"
            ],
            "text/plain": [
              "   department_id       department\n",
              "0              1           frozen\n",
              "1              2            other\n",
              "2              3           bakery\n",
              "3              4          produce\n",
              "4              5          alcohol\n",
              "5              6    international\n",
              "6              7        beverages\n",
              "7              8             pets\n",
              "8              9  dry goods pasta\n",
              "9             10             bulk"
            ]
          },
          "metadata": {},
          "execution_count": 17
        }
      ]
    },
    {
      "cell_type": "code",
      "metadata": {
        "colab": {
          "base_uri": "https://localhost:8080/",
          "height": 80
        },
        "id": "gV9xFWGuSyzv",
        "outputId": "89b6bb67-dea7-4646-d809-3a7aab7f8572"
      },
      "source": [
        "#departments 테이블 uniq 필드 확인\n",
        "sql = f\"\"\"\n",
        "SELECT count(*), count(distinct department_id) FROM departments;\n",
        "\"\"\"\n",
        "df = pd.read_sql(sql, conn, index_col=None)\n",
        "df.head(10)"
      ],
      "execution_count": 18,
      "outputs": [
        {
          "output_type": "execute_result",
          "data": {
            "text/html": [
              "<div>\n",
              "<style scoped>\n",
              "    .dataframe tbody tr th:only-of-type {\n",
              "        vertical-align: middle;\n",
              "    }\n",
              "\n",
              "    .dataframe tbody tr th {\n",
              "        vertical-align: top;\n",
              "    }\n",
              "\n",
              "    .dataframe thead th {\n",
              "        text-align: right;\n",
              "    }\n",
              "</style>\n",
              "<table border=\"1\" class=\"dataframe\">\n",
              "  <thead>\n",
              "    <tr style=\"text-align: right;\">\n",
              "      <th></th>\n",
              "      <th>count(*)</th>\n",
              "      <th>count(distinct department_id)</th>\n",
              "    </tr>\n",
              "  </thead>\n",
              "  <tbody>\n",
              "    <tr>\n",
              "      <th>0</th>\n",
              "      <td>21</td>\n",
              "      <td>21</td>\n",
              "    </tr>\n",
              "  </tbody>\n",
              "</table>\n",
              "</div>"
            ],
            "text/plain": [
              "   count(*)  count(distinct department_id)\n",
              "0        21                             21"
            ]
          },
          "metadata": {},
          "execution_count": 18
        }
      ]
    },
    {
      "cell_type": "markdown",
      "metadata": {
        "id": "2QkMKD3ILJ76"
      },
      "source": [
        "## 3) order_products__prior 테이블 조회"
      ]
    },
    {
      "cell_type": "markdown",
      "metadata": {
        "id": "w_jPFVkHk28u"
      },
      "source": [
        "*   order_id: foreign key\n",
        "*   product_id: foreign key\n",
        "*   add_to_cart_order: order in which each product was added to cart\n",
        "*   reordered: 1 if this product has been ordered by this user in the past, 0 otherwise"
      ]
    },
    {
      "cell_type": "code",
      "metadata": {
        "colab": {
          "base_uri": "https://localhost:8080/",
          "height": 357
        },
        "id": "5-wHKO0qLJsz",
        "outputId": "80da4bd3-9276-4457-dc3d-677eb0dd3164"
      },
      "source": [
        "# order_products__prior 테이블 조회\n",
        "sql = f\"\"\"\n",
        "SELECT * FROM order_products__prior;\n",
        "\"\"\"\n",
        "df = pd.read_sql(sql, conn, index_col=None)\n",
        "df.head(10)"
      ],
      "execution_count": 19,
      "outputs": [
        {
          "output_type": "execute_result",
          "data": {
            "text/html": [
              "<div>\n",
              "<style scoped>\n",
              "    .dataframe tbody tr th:only-of-type {\n",
              "        vertical-align: middle;\n",
              "    }\n",
              "\n",
              "    .dataframe tbody tr th {\n",
              "        vertical-align: top;\n",
              "    }\n",
              "\n",
              "    .dataframe thead th {\n",
              "        text-align: right;\n",
              "    }\n",
              "</style>\n",
              "<table border=\"1\" class=\"dataframe\">\n",
              "  <thead>\n",
              "    <tr style=\"text-align: right;\">\n",
              "      <th></th>\n",
              "      <th>order_id</th>\n",
              "      <th>product_id</th>\n",
              "      <th>add_to_cart_order</th>\n",
              "      <th>reordered</th>\n",
              "    </tr>\n",
              "  </thead>\n",
              "  <tbody>\n",
              "    <tr>\n",
              "      <th>0</th>\n",
              "      <td>2581</td>\n",
              "      <td>40174</td>\n",
              "      <td>1</td>\n",
              "      <td>0</td>\n",
              "    </tr>\n",
              "    <tr>\n",
              "      <th>1</th>\n",
              "      <td>2581</td>\n",
              "      <td>17461</td>\n",
              "      <td>2</td>\n",
              "      <td>0</td>\n",
              "    </tr>\n",
              "    <tr>\n",
              "      <th>2</th>\n",
              "      <td>2581</td>\n",
              "      <td>19731</td>\n",
              "      <td>3</td>\n",
              "      <td>1</td>\n",
              "    </tr>\n",
              "    <tr>\n",
              "      <th>3</th>\n",
              "      <td>5880</td>\n",
              "      <td>24838</td>\n",
              "      <td>1</td>\n",
              "      <td>1</td>\n",
              "    </tr>\n",
              "    <tr>\n",
              "      <th>4</th>\n",
              "      <td>5880</td>\n",
              "      <td>24852</td>\n",
              "      <td>2</td>\n",
              "      <td>1</td>\n",
              "    </tr>\n",
              "    <tr>\n",
              "      <th>5</th>\n",
              "      <td>5880</td>\n",
              "      <td>16797</td>\n",
              "      <td>3</td>\n",
              "      <td>1</td>\n",
              "    </tr>\n",
              "    <tr>\n",
              "      <th>6</th>\n",
              "      <td>5880</td>\n",
              "      <td>5456</td>\n",
              "      <td>4</td>\n",
              "      <td>0</td>\n",
              "    </tr>\n",
              "    <tr>\n",
              "      <th>7</th>\n",
              "      <td>5880</td>\n",
              "      <td>25199</td>\n",
              "      <td>5</td>\n",
              "      <td>0</td>\n",
              "    </tr>\n",
              "    <tr>\n",
              "      <th>8</th>\n",
              "      <td>6030</td>\n",
              "      <td>280</td>\n",
              "      <td>1</td>\n",
              "      <td>0</td>\n",
              "    </tr>\n",
              "    <tr>\n",
              "      <th>9</th>\n",
              "      <td>7374</td>\n",
              "      <td>25146</td>\n",
              "      <td>1</td>\n",
              "      <td>0</td>\n",
              "    </tr>\n",
              "  </tbody>\n",
              "</table>\n",
              "</div>"
            ],
            "text/plain": [
              "   order_id  product_id  add_to_cart_order  reordered\n",
              "0      2581       40174                  1          0\n",
              "1      2581       17461                  2          0\n",
              "2      2581       19731                  3          1\n",
              "3      5880       24838                  1          1\n",
              "4      5880       24852                  2          1\n",
              "5      5880       16797                  3          1\n",
              "6      5880        5456                  4          0\n",
              "7      5880       25199                  5          0\n",
              "8      6030         280                  1          0\n",
              "9      7374       25146                  1          0"
            ]
          },
          "metadata": {},
          "execution_count": 19
        }
      ]
    },
    {
      "cell_type": "code",
      "metadata": {
        "colab": {
          "base_uri": "https://localhost:8080/",
          "height": 110
        },
        "id": "jJTnjQ8SSoPd",
        "outputId": "aebbdecf-bc55-4a57-a4c9-d2afa8639d78"
      },
      "source": [
        "# order_products__prior 테이블 uniq 필드 확인\n",
        "# union을 하면 행이 하나씩 추가됨\n",
        "\n",
        "sql = f\"\"\"\n",
        "-- uniq order_id,\tproduct_id count\n",
        "SELECT count(*) as cnt\n",
        "  FROM (\n",
        "SELECT distinct order_id,\tproduct_id\n",
        "  FROM order_products__prior\n",
        "     ) A\n",
        "\n",
        "-- uniq order_id count\n",
        "union all\n",
        "SELECT count(distinct order_id) as cnt\n",
        "  FROM order_products__prior\n",
        "\n",
        "-- all count\n",
        "union all\n",
        "SELECT count(*) as cnt\n",
        "  FROM order_products__prior\n",
        ";\n",
        "\"\"\"\n",
        "df = pd.read_sql(sql, conn, index_col=None)\n",
        "df.head(10)"
      ],
      "execution_count": 21,
      "outputs": [
        {
          "output_type": "execute_result",
          "data": {
            "text/html": [
              "<div>\n",
              "<style scoped>\n",
              "    .dataframe tbody tr th:only-of-type {\n",
              "        vertical-align: middle;\n",
              "    }\n",
              "\n",
              "    .dataframe tbody tr th {\n",
              "        vertical-align: top;\n",
              "    }\n",
              "\n",
              "    .dataframe thead th {\n",
              "        text-align: right;\n",
              "    }\n",
              "</style>\n",
              "<table border=\"1\" class=\"dataframe\">\n",
              "  <thead>\n",
              "    <tr style=\"text-align: right;\">\n",
              "      <th></th>\n",
              "      <th>cnt</th>\n",
              "    </tr>\n",
              "  </thead>\n",
              "  <tbody>\n",
              "    <tr>\n",
              "      <th>0</th>\n",
              "      <td>32290</td>\n",
              "    </tr>\n",
              "    <tr>\n",
              "      <th>1</th>\n",
              "      <td>3214</td>\n",
              "    </tr>\n",
              "  </tbody>\n",
              "</table>\n",
              "</div>"
            ],
            "text/plain": [
              "     cnt\n",
              "0  32290\n",
              "1   3214"
            ]
          },
          "metadata": {},
          "execution_count": 21
        }
      ]
    },
    {
      "cell_type": "markdown",
      "metadata": {
        "id": "emNMWX8zLJjO"
      },
      "source": [
        "## 4) orders 테이블 조회"
      ]
    },
    {
      "cell_type": "markdown",
      "metadata": {
        "id": "iE4CJuJWkFcH"
      },
      "source": [
        "*   order_id: order identifier\n",
        "*   user_id: customer identifier\n",
        "*   eval_set: which evaluation set this order belongs in (see SET described below)\n",
        "*   order_number: the order sequence number for this user (1 = first, n = nth)\n",
        "*   order_dow: the day of the week the order was placed on\n",
        "*   order_hour_of_day: the hour of the day the order was placed on\n",
        "*   days_since_prior: days since the last order, capped at 30 (with NAs for *   order_number = 1)"
      ]
    },
    {
      "cell_type": "code",
      "metadata": {
        "colab": {
          "base_uri": "https://localhost:8080/",
          "height": 357
        },
        "id": "yFuu7ldAOm4G",
        "outputId": "140978d4-3cb5-4dc4-e46a-a65326e20662"
      },
      "source": [
        "# orders 테이블 조회\n",
        "sql = f\"\"\"\n",
        "SELECT * FROM orders;\n",
        "\"\"\"\n",
        "df = pd.read_sql(sql, conn, index_col=None)\n",
        "df.head(10)"
      ],
      "execution_count": 22,
      "outputs": [
        {
          "output_type": "execute_result",
          "data": {
            "text/html": [
              "<div>\n",
              "<style scoped>\n",
              "    .dataframe tbody tr th:only-of-type {\n",
              "        vertical-align: middle;\n",
              "    }\n",
              "\n",
              "    .dataframe tbody tr th {\n",
              "        vertical-align: top;\n",
              "    }\n",
              "\n",
              "    .dataframe thead th {\n",
              "        text-align: right;\n",
              "    }\n",
              "</style>\n",
              "<table border=\"1\" class=\"dataframe\">\n",
              "  <thead>\n",
              "    <tr style=\"text-align: right;\">\n",
              "      <th></th>\n",
              "      <th>order_id</th>\n",
              "      <th>user_id</th>\n",
              "      <th>eval_set</th>\n",
              "      <th>order_number</th>\n",
              "      <th>order_dow</th>\n",
              "      <th>order_hour_of_day</th>\n",
              "      <th>days_since_prior_order</th>\n",
              "    </tr>\n",
              "  </thead>\n",
              "  <tbody>\n",
              "    <tr>\n",
              "      <th>0</th>\n",
              "      <td>2352815</td>\n",
              "      <td>185282</td>\n",
              "      <td>prior</td>\n",
              "      <td>5</td>\n",
              "      <td>2</td>\n",
              "      <td>9</td>\n",
              "      <td>6</td>\n",
              "    </tr>\n",
              "    <tr>\n",
              "      <th>1</th>\n",
              "      <td>1414622</td>\n",
              "      <td>41949</td>\n",
              "      <td>prior</td>\n",
              "      <td>9</td>\n",
              "      <td>0</td>\n",
              "      <td>16</td>\n",
              "      <td>6</td>\n",
              "    </tr>\n",
              "    <tr>\n",
              "      <th>2</th>\n",
              "      <td>2534064</td>\n",
              "      <td>24631</td>\n",
              "      <td>prior</td>\n",
              "      <td>66</td>\n",
              "      <td>1</td>\n",
              "      <td>13</td>\n",
              "      <td>4</td>\n",
              "    </tr>\n",
              "    <tr>\n",
              "      <th>3</th>\n",
              "      <td>338572</td>\n",
              "      <td>95289</td>\n",
              "      <td>prior</td>\n",
              "      <td>4</td>\n",
              "      <td>2</td>\n",
              "      <td>14</td>\n",
              "      <td>18</td>\n",
              "    </tr>\n",
              "    <tr>\n",
              "      <th>4</th>\n",
              "      <td>2578618</td>\n",
              "      <td>170417</td>\n",
              "      <td>prior</td>\n",
              "      <td>5</td>\n",
              "      <td>1</td>\n",
              "      <td>13</td>\n",
              "      <td>14</td>\n",
              "    </tr>\n",
              "    <tr>\n",
              "      <th>5</th>\n",
              "      <td>1756647</td>\n",
              "      <td>127210</td>\n",
              "      <td>prior</td>\n",
              "      <td>31</td>\n",
              "      <td>3</td>\n",
              "      <td>18</td>\n",
              "      <td>9</td>\n",
              "    </tr>\n",
              "    <tr>\n",
              "      <th>6</th>\n",
              "      <td>2636806</td>\n",
              "      <td>26473</td>\n",
              "      <td>prior</td>\n",
              "      <td>24</td>\n",
              "      <td>2</td>\n",
              "      <td>17</td>\n",
              "      <td>17</td>\n",
              "    </tr>\n",
              "    <tr>\n",
              "      <th>7</th>\n",
              "      <td>681993</td>\n",
              "      <td>89155</td>\n",
              "      <td>prior</td>\n",
              "      <td>17</td>\n",
              "      <td>1</td>\n",
              "      <td>15</td>\n",
              "      <td>4</td>\n",
              "    </tr>\n",
              "    <tr>\n",
              "      <th>8</th>\n",
              "      <td>826339</td>\n",
              "      <td>67750</td>\n",
              "      <td>prior</td>\n",
              "      <td>7</td>\n",
              "      <td>3</td>\n",
              "      <td>14</td>\n",
              "      <td>17</td>\n",
              "    </tr>\n",
              "    <tr>\n",
              "      <th>9</th>\n",
              "      <td>57285</td>\n",
              "      <td>89307</td>\n",
              "      <td>prior</td>\n",
              "      <td>48</td>\n",
              "      <td>1</td>\n",
              "      <td>22</td>\n",
              "      <td>5</td>\n",
              "    </tr>\n",
              "  </tbody>\n",
              "</table>\n",
              "</div>"
            ],
            "text/plain": [
              "   order_id  user_id  ... order_hour_of_day  days_since_prior_order\n",
              "0   2352815   185282  ...                 9                       6\n",
              "1   1414622    41949  ...                16                       6\n",
              "2   2534064    24631  ...                13                       4\n",
              "3    338572    95289  ...                14                      18\n",
              "4   2578618   170417  ...                13                      14\n",
              "5   1756647   127210  ...                18                       9\n",
              "6   2636806    26473  ...                17                      17\n",
              "7    681993    89155  ...                15                       4\n",
              "8    826339    67750  ...                14                      17\n",
              "9     57285    89307  ...                22                       5\n",
              "\n",
              "[10 rows x 7 columns]"
            ]
          },
          "metadata": {},
          "execution_count": 22
        }
      ]
    },
    {
      "cell_type": "code",
      "metadata": {
        "colab": {
          "base_uri": "https://localhost:8080/",
          "height": 142
        },
        "id": "j0P0JvX2RuTT",
        "outputId": "f3231205-3198-4af9-c7cd-05ec5be20b0a"
      },
      "source": [
        "# orders 테이블 uniq 필드 확인\n",
        "sql = f\"\"\"\n",
        "-- uniq order_id,\tuser_id count\n",
        "SELECT count(*) as cnt\n",
        "  FROM (\n",
        "SELECT distinct order_id,\tuser_id\n",
        "  FROM orders\n",
        "     ) A\n",
        "\n",
        "-- uniq order_id count\n",
        "union all\n",
        "SELECT count(distinct order_id) as cnt\n",
        "  FROM orders\n",
        "\n",
        "-- all count\n",
        "union all\n",
        "SELECT count(*) as cnt\n",
        "  FROM orders\n",
        ";\n",
        "\"\"\"\n",
        "df = pd.read_sql(sql, conn, index_col=None)\n",
        "df.head(10)"
      ],
      "execution_count": 23,
      "outputs": [
        {
          "output_type": "execute_result",
          "data": {
            "text/html": [
              "<div>\n",
              "<style scoped>\n",
              "    .dataframe tbody tr th:only-of-type {\n",
              "        vertical-align: middle;\n",
              "    }\n",
              "\n",
              "    .dataframe tbody tr th {\n",
              "        vertical-align: top;\n",
              "    }\n",
              "\n",
              "    .dataframe thead th {\n",
              "        text-align: right;\n",
              "    }\n",
              "</style>\n",
              "<table border=\"1\" class=\"dataframe\">\n",
              "  <thead>\n",
              "    <tr style=\"text-align: right;\">\n",
              "      <th></th>\n",
              "      <th>cnt</th>\n",
              "    </tr>\n",
              "  </thead>\n",
              "  <tbody>\n",
              "    <tr>\n",
              "      <th>0</th>\n",
              "      <td>3220</td>\n",
              "    </tr>\n",
              "    <tr>\n",
              "      <th>1</th>\n",
              "      <td>3220</td>\n",
              "    </tr>\n",
              "    <tr>\n",
              "      <th>2</th>\n",
              "      <td>3220</td>\n",
              "    </tr>\n",
              "  </tbody>\n",
              "</table>\n",
              "</div>"
            ],
            "text/plain": [
              "    cnt\n",
              "0  3220\n",
              "1  3220\n",
              "2  3220"
            ]
          },
          "metadata": {},
          "execution_count": 23
        }
      ]
    },
    {
      "cell_type": "markdown",
      "metadata": {
        "id": "GgFWT3BbOnb9"
      },
      "source": [
        "## 5) products 테이블 조회"
      ]
    },
    {
      "cell_type": "markdown",
      "metadata": {
        "id": "gmiH3AZjkbML"
      },
      "source": [
        "*   product_id: product identifier\n",
        "*   product_name: name of the product\n",
        "*   aisle_id: foreign key\n",
        "*   department_id: foreign key"
      ]
    },
    {
      "cell_type": "code",
      "metadata": {
        "colab": {
          "base_uri": "https://localhost:8080/",
          "height": 357
        },
        "id": "wBCmF9I8LJag",
        "outputId": "567216d6-78b0-499f-d926-aa83cdc551a4"
      },
      "source": [
        "#products 테이블 조회\n",
        "sql = f\"\"\"\n",
        "SELECT * FROM products;\n",
        "\"\"\"\n",
        "df = pd.read_sql(sql, conn, index_col=None)\n",
        "df.head(10)"
      ],
      "execution_count": 24,
      "outputs": [
        {
          "output_type": "execute_result",
          "data": {
            "text/html": [
              "<div>\n",
              "<style scoped>\n",
              "    .dataframe tbody tr th:only-of-type {\n",
              "        vertical-align: middle;\n",
              "    }\n",
              "\n",
              "    .dataframe tbody tr th {\n",
              "        vertical-align: top;\n",
              "    }\n",
              "\n",
              "    .dataframe thead th {\n",
              "        text-align: right;\n",
              "    }\n",
              "</style>\n",
              "<table border=\"1\" class=\"dataframe\">\n",
              "  <thead>\n",
              "    <tr style=\"text-align: right;\">\n",
              "      <th></th>\n",
              "      <th>product_id</th>\n",
              "      <th>product_name</th>\n",
              "      <th>aisle_id</th>\n",
              "      <th>department_id</th>\n",
              "    </tr>\n",
              "  </thead>\n",
              "  <tbody>\n",
              "    <tr>\n",
              "      <th>0</th>\n",
              "      <td>1</td>\n",
              "      <td>Chocolate Sandwich Cookies</td>\n",
              "      <td>61</td>\n",
              "      <td>19</td>\n",
              "    </tr>\n",
              "    <tr>\n",
              "      <th>1</th>\n",
              "      <td>10</td>\n",
              "      <td>Sparkling Orange Juice &amp; Prickly Pear Beverage</td>\n",
              "      <td>115</td>\n",
              "      <td>7</td>\n",
              "    </tr>\n",
              "    <tr>\n",
              "      <th>2</th>\n",
              "      <td>11</td>\n",
              "      <td>Peach Mango Juice</td>\n",
              "      <td>31</td>\n",
              "      <td>7</td>\n",
              "    </tr>\n",
              "    <tr>\n",
              "      <th>3</th>\n",
              "      <td>23</td>\n",
              "      <td>Organic Turkey Burgers</td>\n",
              "      <td>49</td>\n",
              "      <td>12</td>\n",
              "    </tr>\n",
              "    <tr>\n",
              "      <th>4</th>\n",
              "      <td>25</td>\n",
              "      <td>Salted Caramel Lean Protein &amp; Fiber Bar</td>\n",
              "      <td>3</td>\n",
              "      <td>19</td>\n",
              "    </tr>\n",
              "    <tr>\n",
              "      <th>5</th>\n",
              "      <td>29</td>\n",
              "      <td>Fresh Cut Golden Sweet No Salt Added Whole Ker...</td>\n",
              "      <td>81</td>\n",
              "      <td>15</td>\n",
              "    </tr>\n",
              "    <tr>\n",
              "      <th>6</th>\n",
              "      <td>32</td>\n",
              "      <td>Nacho Cheese White Bean Chips</td>\n",
              "      <td>107</td>\n",
              "      <td>19</td>\n",
              "    </tr>\n",
              "    <tr>\n",
              "      <th>7</th>\n",
              "      <td>34</td>\n",
              "      <td>Peanut Butter Cereal</td>\n",
              "      <td>121</td>\n",
              "      <td>14</td>\n",
              "    </tr>\n",
              "    <tr>\n",
              "      <th>8</th>\n",
              "      <td>35</td>\n",
              "      <td>Italian Herb Porcini Mushrooms Chicken Sausage</td>\n",
              "      <td>106</td>\n",
              "      <td>12</td>\n",
              "    </tr>\n",
              "    <tr>\n",
              "      <th>9</th>\n",
              "      <td>37</td>\n",
              "      <td>Noodle Soup Mix With Chicken Broth</td>\n",
              "      <td>69</td>\n",
              "      <td>15</td>\n",
              "    </tr>\n",
              "  </tbody>\n",
              "</table>\n",
              "</div>"
            ],
            "text/plain": [
              "   product_id  ... department_id\n",
              "0           1  ...            19\n",
              "1          10  ...             7\n",
              "2          11  ...             7\n",
              "3          23  ...            12\n",
              "4          25  ...            19\n",
              "5          29  ...            15\n",
              "6          32  ...            19\n",
              "7          34  ...            14\n",
              "8          35  ...            12\n",
              "9          37  ...            15\n",
              "\n",
              "[10 rows x 4 columns]"
            ]
          },
          "metadata": {},
          "execution_count": 24
        }
      ]
    },
    {
      "cell_type": "code",
      "metadata": {
        "colab": {
          "base_uri": "https://localhost:8080/",
          "height": 80
        },
        "id": "Op94GxLsRksu",
        "outputId": "611d95e1-15fc-4d93-8bbe-6fcdf34bedfa"
      },
      "source": [
        "# products 테이블 uniq 필드 확인\n",
        "sql = f\"\"\"\n",
        "SELECT count(*), count(distinct product_id) FROM products;\n",
        "\"\"\"\n",
        "df = pd.read_sql(sql, conn, index_col=None)\n",
        "df.head(10)"
      ],
      "execution_count": 25,
      "outputs": [
        {
          "output_type": "execute_result",
          "data": {
            "text/html": [
              "<div>\n",
              "<style scoped>\n",
              "    .dataframe tbody tr th:only-of-type {\n",
              "        vertical-align: middle;\n",
              "    }\n",
              "\n",
              "    .dataframe tbody tr th {\n",
              "        vertical-align: top;\n",
              "    }\n",
              "\n",
              "    .dataframe thead th {\n",
              "        text-align: right;\n",
              "    }\n",
              "</style>\n",
              "<table border=\"1\" class=\"dataframe\">\n",
              "  <thead>\n",
              "    <tr style=\"text-align: right;\">\n",
              "      <th></th>\n",
              "      <th>count(*)</th>\n",
              "      <th>count(distinct product_id)</th>\n",
              "    </tr>\n",
              "  </thead>\n",
              "  <tbody>\n",
              "    <tr>\n",
              "      <th>0</th>\n",
              "      <td>9288</td>\n",
              "      <td>9288</td>\n",
              "    </tr>\n",
              "  </tbody>\n",
              "</table>\n",
              "</div>"
            ],
            "text/plain": [
              "   count(*)  count(distinct product_id)\n",
              "0      9288                        9288"
            ]
          },
          "metadata": {},
          "execution_count": 25
        }
      ]
    },
    {
      "cell_type": "markdown",
      "metadata": {
        "id": "7SpLMzQiuexb"
      },
      "source": [
        "#2.구매 지표 추출"
      ]
    },
    {
      "cell_type": "markdown",
      "metadata": {
        "id": "S8SLwihrGR_K"
      },
      "source": [
        "## 1) 전체 주문 건수 (사전녹화)"
      ]
    },
    {
      "cell_type": "markdown",
      "metadata": {
        "id": "BURoV-vZTtOo"
      },
      "source": [
        "*   데이터 중복 확인 : 주문 건수를 계산하기 위하여 데이터의 중복 여부를 확인함\n",
        "\n",
        "\n",
        "\n"
      ]
    },
    {
      "cell_type": "markdown",
      "metadata": {
        "id": "itH7AKeJRuVR"
      },
      "source": [
        "*   만약 ORDERS라는 테이블에 주문 번호(ORDER_ID)가 중복되어 존재한다면 실제 주문 건수보다 더 큰 값이 계산됨\n",
        "*   count(distinct var)로 중복없이 계산함"
      ]
    },
    {
      "cell_type": "code",
      "metadata": {
        "colab": {
          "base_uri": "https://localhost:8080/"
        },
        "id": "i8r0mYxLDeFk",
        "outputId": "52953b32-e238-4c56-ca1a-595444de1ffb"
      },
      "source": [
        "sql = f\"\"\"\n",
        "SELECT COUNT(DISTINCT ORDER_ID) F\n",
        "FROM ORDERS;\n",
        "\"\"\"\n",
        "sql_result(sql,'2_1전체주문건수')"
      ],
      "execution_count": 26,
      "outputs": [
        {
          "output_type": "stream",
          "name": "stdout",
          "text": [
            "\n",
            "SELECT COUNT(DISTINCT ORDER_ID) F\n",
            "FROM ORDERS;\n",
            "\n",
            "      F\n",
            "0  3220\n",
            "/content/drive/MyDrive/result/6w/2_1전체주문건수.csv\n"
          ]
        }
      ]
    },
    {
      "cell_type": "markdown",
      "metadata": {
        "id": "xbV5KqpPOb11"
      },
      "source": [
        "## 2) 구매자 수 (사전녹화)"
      ]
    },
    {
      "cell_type": "markdown",
      "metadata": {
        "id": "BTIVDF6o8t__"
      },
      "source": [
        "*   만약 ORDERS라는 테이블에 고객 번호(USER_ID)가 중복되어 존재한다면 실제 고객 수 보다 더 큰 값이 계산됨\n",
        "*   count(distinct var)로 중복없이 계산함"
      ]
    },
    {
      "cell_type": "code",
      "metadata": {
        "colab": {
          "base_uri": "https://localhost:8080/"
        },
        "id": "pBCAg4R_SL9j",
        "outputId": "c1e14b98-570a-4506-d0a8-9d923e26f1ee"
      },
      "source": [
        "sql = f\"\"\"\n",
        "SELECT COUNT(DISTINCT USER_ID) BU\n",
        "FROM ORDERS;\n",
        "\"\"\"\n",
        "sql_result(sql,'2_1구매자수')"
      ],
      "execution_count": 27,
      "outputs": [
        {
          "output_type": "stream",
          "name": "stdout",
          "text": [
            "\n",
            "SELECT COUNT(DISTINCT USER_ID) BU\n",
            "FROM ORDERS;\n",
            "\n",
            "     BU\n",
            "0  3159\n",
            "/content/drive/MyDrive/result/6w/2_1구매자수.csv\n"
          ]
        }
      ]
    },
    {
      "cell_type": "markdown",
      "metadata": {
        "id": "yqvrkZRA6bA6"
      },
      "source": [
        "## 3) 상품별 주문 건수 (사전녹화)"
      ]
    },
    {
      "cell_type": "markdown",
      "metadata": {
        "id": "QPPeuv8q7h01"
      },
      "source": [
        "*   상품별 주문 건수를 계산하려면, 먼저 상품명으로 데이터를 그룹핑하고 ODER_ID를 카운트해 집계함\t\t"
      ]
    },
    {
      "cell_type": "markdown",
      "metadata": {
        "id": "TitchwJ78-9P"
      },
      "source": [
        "*   주문 번호(ORDER_ID)는 ORDER_PRODUCTS_PRIOR라는 테이블에 존재함\n",
        "*   상품명(PRODUCT_NAME)은 PRODUCTS라는 테이블에 존재함"
      ]
    },
    {
      "cell_type": "markdown",
      "metadata": {
        "id": "qniczFbl7jWV"
      },
      "source": [
        "*   STEP1 : 분산된 정보를 함께 사용하려면 2개의 테이블을 결합(JOIN)해야 함"
      ]
    },
    {
      "cell_type": "code",
      "metadata": {
        "colab": {
          "base_uri": "https://localhost:8080/"
        },
        "id": "_g7iYkBG7hT6",
        "outputId": "210887e7-be96-442b-b089-0181636a3134"
      },
      "source": [
        "#2개의 테이블에 공통으로 존재하는 product_id로 2개의 테이블을 JOIN함\n",
        "# A에 order_products_prior, B에 products를 두고 왼쪽으로 join함\n",
        "# 두 개 테이블이 겹치는 부분인 product_id를 기준으로...!\n",
        "# A B 뒤집으면 안되긴 하네 ㅎㅅㅎ\n",
        "\n",
        "sql = f\"\"\"\n",
        "SELECT *\n",
        "  FROM ORDER_PRODUCTS__PRIOR A --주문번호 데이터\n",
        "  LEFT JOIN PRODUCTS B --상품명 데이터\n",
        "    ON A.PRODUCT_ID = B.PRODUCT_ID --Join Key\n",
        ";\n",
        "\"\"\"\n",
        "sql_result(sql,'2_3_1상품별주문건수')"
      ],
      "execution_count": 32,
      "outputs": [
        {
          "output_type": "stream",
          "name": "stdout",
          "text": [
            "\n",
            "SELECT *\n",
            "  FROM ORDER_PRODUCTS__PRIOR A --주문번호 데이터\n",
            "  LEFT JOIN PRODUCTS B --상품명 데이터\n",
            "    ON A.PRODUCT_ID = B.PRODUCT_ID --Join Key\n",
            ";\n",
            "\n",
            "   order_id  product_id  ...  aisle_id  department_id\n",
            "0      2581       40174  ...        84             16\n",
            "1      2581       17461  ...        35             12\n",
            "2      2581       19731  ...        31              7\n",
            "3      5880       24838  ...        91             16\n",
            "4      5880       24852  ...        24              4\n",
            "5      5880       16797  ...        24              4\n",
            "6      5880        5456  ...        96             20\n",
            "7      5880       25199  ...         1             20\n",
            "8      6030         280  ...        73             11\n",
            "9      7374       25146  ...        31              7\n",
            "\n",
            "[10 rows x 8 columns]\n",
            "/content/drive/MyDrive/result/6w/2_3_1상품별주문건수.csv\n"
          ]
        }
      ]
    },
    {
      "cell_type": "markdown",
      "metadata": {
        "id": "Wq3pYtX-7mA9"
      },
      "source": [
        "*   JOIN  결과 order_products_prior의 product_id에 해당하는 product_name, aisle_id, department_id가 결합됨\n",
        "\t\t"
      ]
    },
    {
      "cell_type": "markdown",
      "metadata": {
        "id": "vSB4wwysSh-K"
      },
      "source": [
        "*   STEP2 : 결합한 결과에서 PRODUCT_NAME으로 데이터를 그룹핑하고, ORDER_ID를 카운트 함"
      ]
    },
    {
      "cell_type": "code",
      "metadata": {
        "colab": {
          "base_uri": "https://localhost:8080/"
        },
        "id": "cpBKtDG-S9bf",
        "outputId": "b3822dbe-76cd-4c36-abd4-6c7872a82ef8"
      },
      "source": [
        "# PRODUCT_NAME으로 그룹핑하고 카운트 할 때 주문번호 중복을 제거해야 함\n",
        "sql = f\"\"\"\n",
        "SELECT B.PRODUCT_NAME\n",
        "     , COUNT(DISTINCT A.ORDER_ID) F -- 주문번호 중복 제거\n",
        "  FROM ORDER_PRODUCTS__PRIOR A\n",
        "  LEFT JOIN PRODUCTS B\n",
        "    ON A.PRODUCT_ID = B.PRODUCT_ID\n",
        " GROUP BY 1\n",
        ";\n",
        "\"\"\"\n",
        "sql_result(sql,'2_3_2상품별주문건수')"
      ],
      "execution_count": 33,
      "outputs": [
        {
          "output_type": "stream",
          "name": "stdout",
          "text": [
            "\n",
            "SELECT B.PRODUCT_NAME\n",
            "     , COUNT(DISTINCT A.ORDER_ID) F -- 주문번호 중복 제거\n",
            "  FROM ORDER_PRODUCTS__PRIOR A\n",
            "  LEFT JOIN PRODUCTS B\n",
            "    ON A.PRODUCT_ID = B.PRODUCT_ID\n",
            " GROUP BY 1\n",
            ";\n",
            "\n",
            "                               product_name  F\n",
            "0                         #2 Coffee Filters  1\n",
            "1        0% Fat Black Cherry Greek Yogurt y  1\n",
            "2             0% Fat Blueberry Greek Yogurt  1\n",
            "3                  0% Fat Free Organic Milk  4\n",
            "4       0% Fat Organic Greek Vanilla Yogurt  1\n",
            "5           0% Fat Superfruits Greek Yogurt  1\n",
            "6                  0% Greek Strained Yogurt  6\n",
            "7  0% Greek, Blueberry on the Bottom Yogurt  2\n",
            "8                           1 % Lowfat Milk  1\n",
            "9               1 Apple + 1 Mango Fruit Bar  1\n",
            "/content/drive/MyDrive/result/6w/2_3_2상품별주문건수.csv\n"
          ]
        }
      ]
    },
    {
      "cell_type": "markdown",
      "metadata": {
        "id": "0DTxon6U6a-o"
      },
      "source": [
        "## 4) 카트에 가장 먼저 넣는 상품 10개 (사전녹화)"
      ]
    },
    {
      "cell_type": "markdown",
      "metadata": {
        "id": "Fk8S8T1J7uIz"
      },
      "source": [
        "*우리는 쇼핑몰에서 물건을 구입할 때, 장바구니 담기라는 기능을 자주 사용한다. 가장 필요한 상품을 먼저 검색하고 장바구니에 담는 경향이 있다. 그렇다면 장바구니에 먼저 담기는 상품들에는 무엇이 있을까?*\n",
        "\t\t"
      ]
    },
    {
      "cell_type": "markdown",
      "metadata": {
        "id": "f4lufIBFTktX"
      },
      "source": [
        "*   ORDER_PRODUCTS_PRIOR테이블을 보면 ADD_TO_CART_ORDER라는 칼럼이 존재함\n",
        "*   ADD_TO_CART_ORDER는 상품이 몇 번째로 장바구니에 담겼는지를 의미함"
      ]
    },
    {
      "cell_type": "markdown",
      "metadata": {
        "id": "ixvD03-87uGL"
      },
      "source": [
        "*예를 들어, 주문 번호(ORDER_ID) 2581에서 40174라는 상품은 첫 번째로 장바구니에 담겼고, 19731이라는 상품은 세 번째로 장바구니에 담겼다.*\n",
        "\t\t"
      ]
    },
    {
      "cell_type": "code",
      "metadata": {
        "colab": {
          "base_uri": "https://localhost:8080/",
          "height": 142
        },
        "id": "672ShkxeESZh",
        "outputId": "201589cd-008a-4c6d-98f5-32b97011438c"
      },
      "source": [
        "# order_products__prior 2581 주문번호 조회\n",
        "sql = f\"\"\"\n",
        "SELECT * FROM order_products__prior WHERE order_id = 2581;\n",
        "\"\"\"\n",
        "df = pd.read_sql(sql, conn, index_col=None)\n",
        "df.head(10)"
      ],
      "execution_count": 34,
      "outputs": [
        {
          "output_type": "execute_result",
          "data": {
            "text/html": [
              "<div>\n",
              "<style scoped>\n",
              "    .dataframe tbody tr th:only-of-type {\n",
              "        vertical-align: middle;\n",
              "    }\n",
              "\n",
              "    .dataframe tbody tr th {\n",
              "        vertical-align: top;\n",
              "    }\n",
              "\n",
              "    .dataframe thead th {\n",
              "        text-align: right;\n",
              "    }\n",
              "</style>\n",
              "<table border=\"1\" class=\"dataframe\">\n",
              "  <thead>\n",
              "    <tr style=\"text-align: right;\">\n",
              "      <th></th>\n",
              "      <th>order_id</th>\n",
              "      <th>product_id</th>\n",
              "      <th>add_to_cart_order</th>\n",
              "      <th>reordered</th>\n",
              "    </tr>\n",
              "  </thead>\n",
              "  <tbody>\n",
              "    <tr>\n",
              "      <th>0</th>\n",
              "      <td>2581</td>\n",
              "      <td>40174</td>\n",
              "      <td>1</td>\n",
              "      <td>0</td>\n",
              "    </tr>\n",
              "    <tr>\n",
              "      <th>1</th>\n",
              "      <td>2581</td>\n",
              "      <td>17461</td>\n",
              "      <td>2</td>\n",
              "      <td>0</td>\n",
              "    </tr>\n",
              "    <tr>\n",
              "      <th>2</th>\n",
              "      <td>2581</td>\n",
              "      <td>19731</td>\n",
              "      <td>3</td>\n",
              "      <td>1</td>\n",
              "    </tr>\n",
              "  </tbody>\n",
              "</table>\n",
              "</div>"
            ],
            "text/plain": [
              "   order_id  product_id  add_to_cart_order  reordered\n",
              "0      2581       40174                  1          0\n",
              "1      2581       17461                  2          0\n",
              "2      2581       19731                  3          1"
            ]
          },
          "metadata": {},
          "execution_count": 34
        }
      ]
    },
    {
      "cell_type": "markdown",
      "metadata": {
        "id": "uBQj7eEeTst-"
      },
      "source": [
        "*   mineral water라는 상품이 A라는 주문 건에서 두 번째로 담기고, B라는 주문 건에서 첫 번째로 담기는 경우에 mineral water가 첫 번째로 카트에 담긴 건수는 1건이 됨"
      ]
    },
    {
      "cell_type": "markdown",
      "metadata": {
        "id": "ANtKnVR3DmlY"
      },
      "source": [
        "<center>\n",
        "\n",
        "|주문번호|상품|장바구니순번|\n",
        "|-----|-----|-----|\n",
        "|A|mineral water|2|\n",
        "|B|mineral water|1|\n",
        "\n",
        "</center>"
      ]
    },
    {
      "cell_type": "markdown",
      "metadata": {
        "id": "SwfSMXl47uD8"
      },
      "source": [
        "*   STEP1 : ORDER_PRODUCTS_PRIOR의 PRODUCT_ID별로 가장 먼저 담긴 경우에는 1을 출력하고 그 외 0을 출력하는 칼럼을 생성함\n",
        "*   CASE WHEN ADD_TO_CART_ORDER=1 THEN 1 ELSE 0 END"
      ]
    },
    {
      "cell_type": "code",
      "metadata": {
        "colab": {
          "base_uri": "https://localhost:8080/"
        },
        "id": "jgs34XbiT049",
        "outputId": "4f13b3dc-4045-4b4b-c832-b70c8ef72b24"
      },
      "source": [
        "sql = f\"\"\"\n",
        "SELECT PRODUCT_ID\n",
        "     , CASE WHEN ADD_TO_CART_ORDER = 1 THEN 1 ELSE 0 END F_1ST\n",
        "  FROM ORDER_PRODUCTS__PRIOR\n",
        ";\n",
        "\"\"\"\n",
        "sql_result(sql,'2_4_1카트에가장먼저넣는상품10개')"
      ],
      "execution_count": 35,
      "outputs": [
        {
          "output_type": "stream",
          "name": "stdout",
          "text": [
            "\n",
            "SELECT PRODUCT_ID\n",
            "     , CASE WHEN ADD_TO_CART_ORDER = 1 THEN 1 ELSE 0 END F_1ST\n",
            "  FROM ORDER_PRODUCTS__PRIOR\n",
            ";\n",
            "\n",
            "   product_id  F_1ST\n",
            "0       40174      1\n",
            "1       17461      0\n",
            "2       19731      0\n",
            "3       24838      1\n",
            "4       24852      0\n",
            "5       16797      0\n",
            "6        5456      0\n",
            "7       25199      0\n",
            "8         280      1\n",
            "9       25146      1\n",
            "/content/drive/MyDrive/result/6w/2_4_1카트에가장먼저넣는상품10개.csv\n"
          ]
        }
      ]
    },
    {
      "cell_type": "markdown",
      "metadata": {
        "id": "ZruNf0Fc7uBY"
      },
      "source": [
        "*   STEP2 : 상품 번호(PRODUCT_ID)로 데이터를 그룹핑하고 F_1ST 칼럼을 합 함"
      ]
    },
    {
      "cell_type": "code",
      "metadata": {
        "colab": {
          "base_uri": "https://localhost:8080/"
        },
        "id": "3PprvXdmUCGM",
        "outputId": "0581b244-48be-4f4b-f256-aefc280ed14b"
      },
      "source": [
        "sql = f\"\"\"\n",
        "SELECT PRODUCT_ID\n",
        "     , SUM(CASE WHEN ADD_TO_CART_ORDER = 1 THEN 1 ELSE 0 END) F_1ST\n",
        "  FROM ORDER_PRODUCTS__PRIOR\n",
        " GROUP BY 1\n",
        ";\n",
        "\"\"\"\n",
        "sql_result(sql,'2_4_2카트에가장먼저넣는상품10개')"
      ],
      "execution_count": 36,
      "outputs": [
        {
          "output_type": "stream",
          "name": "stdout",
          "text": [
            "\n",
            "SELECT PRODUCT_ID\n",
            "     , SUM(CASE WHEN ADD_TO_CART_ORDER = 1 THEN 1 ELSE 0 END) F_1ST\n",
            "  FROM ORDER_PRODUCTS__PRIOR\n",
            " GROUP BY 1\n",
            ";\n",
            "\n",
            "   product_id  F_1ST\n",
            "0           1      0\n",
            "1          10      0\n",
            "2          11      0\n",
            "3          23      0\n",
            "4          25      0\n",
            "5          29      0\n",
            "6          32      0\n",
            "7          34      0\n",
            "8          35      0\n",
            "9          37      0\n",
            "/content/drive/MyDrive/result/6w/2_4_2카트에가장먼저넣는상품10개.csv\n"
          ]
        }
      ]
    },
    {
      "cell_type": "markdown",
      "metadata": {
        "id": "zfDyLNnr7t_I"
      },
      "source": [
        "*   STEP3 : F_1ST(장바구니에 가장 먼저 담긴 건수)로 데이터에 순서를 부여함\n",
        "*   ROW_NUMBER(), RANK()"
      ]
    },
    {
      "cell_type": "code",
      "metadata": {
        "colab": {
          "base_uri": "https://localhost:8080/"
        },
        "id": "eyPRkJAsUJU3",
        "outputId": "7b017311-b627-4fb9-c323-2efc5206cf02"
      },
      "source": [
        "# rank는 똑같은 거 나오면 그냥 똑같은 순위로\n",
        "# row_number는 똑같은 거 나와도 order되는 순서대로 순위 매김\n",
        "\n",
        "sql = f\"\"\"\n",
        "-- 상품별 첫 번째로 장바구니에 담은 횟수 기준 순번\n",
        "SELECT *\n",
        "     , ROW_NUMBER() OVER(ORDER BY F_1ST DESC) RNK\n",
        "\n",
        "-- 상품별 첫 번째로 장바구니에 담은 횟수\n",
        "  FROM (    \n",
        "SELECT PRODUCT_ID\n",
        "     , SUM(CASE WHEN ADD_TO_CART_ORDER = 1 THEN 1 ELSE 0 END) F_1ST\n",
        "  FROM ORDER_PRODUCTS__PRIOR\n",
        " GROUP BY 1\n",
        "     ) A\n",
        ";\n",
        "\"\"\"\n",
        "sql_result(sql,'2_4_3카트에가장먼저넣는상품10개')"
      ],
      "execution_count": 37,
      "outputs": [
        {
          "output_type": "stream",
          "name": "stdout",
          "text": [
            "\n",
            "-- 상품별 첫 번째로 장바구니에 담은 횟수 기준 순번\n",
            "SELECT *\n",
            "     , ROW_NUMBER() OVER(ORDER BY F_1ST DESC) RNK\n",
            "\n",
            "-- 상품별 첫 번째로 장바구니에 담은 횟수\n",
            "  FROM (    \n",
            "SELECT PRODUCT_ID\n",
            "     , SUM(CASE WHEN ADD_TO_CART_ORDER = 1 THEN 1 ELSE 0 END) F_1ST\n",
            "  FROM ORDER_PRODUCTS__PRIOR\n",
            " GROUP BY 1\n",
            "     ) A\n",
            ";\n",
            "\n",
            "   PRODUCT_ID  F_1ST  RNK\n",
            "0       24852    117    1\n",
            "1       13176     62    2\n",
            "2       27845     37    3\n",
            "3       21137     31    4\n",
            "4       21903     27    5\n",
            "5       47209     24    6\n",
            "6       19660     18    7\n",
            "7       16797     17    8\n",
            "8        5785     16    9\n",
            "9       12341     16   10\n",
            "/content/drive/MyDrive/result/6w/2_4_3카트에가장먼저넣는상품10개.csv\n"
          ]
        }
      ]
    },
    {
      "cell_type": "markdown",
      "metadata": {
        "id": "STD2nKBl7t8b"
      },
      "source": [
        "*   STEP4 : 1-10위의 상품 번호만 출력하기 위해서 WHERE 절에 조건을 추가해 RNK가 1-10 사이인 데이터만 출력함\n",
        "*   이때 RNK는 SELECT문에서 새롭게 생성한 칼럼이므로 WHERE 절에서 바로 사용할 수가 없음\n",
        "*   따라서 위의 쿼리를 SUBQUERY로 사용해 조건을 생성해야 함"
      ]
    },
    {
      "cell_type": "code",
      "metadata": {
        "colab": {
          "base_uri": "https://localhost:8080/"
        },
        "id": "OAzbB0EgUdLI",
        "outputId": "796b7fd3-29e9-4635-f638-855e4aa51ac6"
      },
      "source": [
        "sql = f\"\"\"\n",
        "SELECT *\n",
        "\n",
        "-- 상품별 첫 번째로 장바구니에 담은 횟수 기준 순번\n",
        "  FROM (\n",
        "SELECT *\n",
        "     , ROW_NUMBER() OVER(ORDER BY F_1ST DESC) RNK\n",
        "\n",
        "-- 상품별 첫 번째로 장바구니에 담은 횟수\n",
        "  FROM (\n",
        "SELECT PRODUCT_ID\n",
        "     , SUM(CASE WHEN ADD_TO_CART_ORDER = 1 THEN 1 ELSE 0 END) F_1ST\n",
        "  FROM ORDER_PRODUCTS__PRIOR\n",
        " GROUP BY 1\n",
        "     ) A\n",
        "\n",
        "     ) BASE\n",
        "\n",
        "-- 상품별 첫 번째로 장바구니에 담은 횟수 기준 순번 1~10번\n",
        "WHERE RNK BETWEEN 1 AND 10;\n",
        "\n",
        "\"\"\"\n",
        "sql_result(sql,'2_4_4카트에가장먼저넣는상품10개')"
      ],
      "execution_count": 38,
      "outputs": [
        {
          "output_type": "stream",
          "name": "stdout",
          "text": [
            "\n",
            "SELECT *\n",
            "\n",
            "-- 상품별 첫 번째로 장바구니에 담은 횟수 기준 순번\n",
            "  FROM (\n",
            "SELECT *\n",
            "     , ROW_NUMBER() OVER(ORDER BY F_1ST DESC) RNK\n",
            "\n",
            "-- 상품별 첫 번째로 장바구니에 담은 횟수\n",
            "  FROM (\n",
            "SELECT PRODUCT_ID\n",
            "     , SUM(CASE WHEN ADD_TO_CART_ORDER = 1 THEN 1 ELSE 0 END) F_1ST\n",
            "  FROM ORDER_PRODUCTS__PRIOR\n",
            " GROUP BY 1\n",
            "     ) A\n",
            "\n",
            "     ) BASE\n",
            "\n",
            "-- 상품별 첫 번째로 장바구니에 담은 횟수 기준 순번 1~10번\n",
            "WHERE RNK BETWEEN 1 AND 10;\n",
            "\n",
            "\n",
            "   PRODUCT_ID  F_1ST  RNK\n",
            "0       24852    117    1\n",
            "1       13176     62    2\n",
            "2       27845     37    3\n",
            "3       21137     31    4\n",
            "4       21903     27    5\n",
            "5       47209     24    6\n",
            "6       19660     18    7\n",
            "7       16797     17    8\n",
            "8        5785     16    9\n",
            "9       12341     16   10\n",
            "/content/drive/MyDrive/result/6w/2_4_4카트에가장먼저넣는상품10개.csv\n"
          ]
        }
      ]
    },
    {
      "cell_type": "markdown",
      "metadata": {
        "id": "CHrmcbfC7t6F"
      },
      "source": [
        "*   ORDER BY를 이용해 간단히 상위 10개의 데이터 호출하는 법"
      ]
    },
    {
      "cell_type": "code",
      "metadata": {
        "colab": {
          "base_uri": "https://localhost:8080/"
        },
        "id": "YKAc3MSwU0BN",
        "outputId": "951fb51e-7aad-4984-93fa-4dd9c76d2f76"
      },
      "source": [
        "# order by N : N번째 열을 기준으로 정렬하삼\n",
        "\n",
        "sql = f\"\"\"\n",
        "SELECT PRODUCT_ID\n",
        "     , SUM(CASE WHEN ADD_TO_CART_ORDER = 1 THEN 1 ELSE 0 END) F_1ST\n",
        "  FROM ORDER_PRODUCTS__PRIOR\n",
        " GROUP BY 1\n",
        " ORDER BY 2 DESC\n",
        " LIMIT 10\n",
        ";\n",
        "\"\"\"\n",
        "sql_result(sql,'2_4_5카트에가장먼저넣는상품10개')"
      ],
      "execution_count": 39,
      "outputs": [
        {
          "output_type": "stream",
          "name": "stdout",
          "text": [
            "\n",
            "SELECT PRODUCT_ID\n",
            "     , SUM(CASE WHEN ADD_TO_CART_ORDER = 1 THEN 1 ELSE 0 END) F_1ST\n",
            "  FROM ORDER_PRODUCTS__PRIOR\n",
            " GROUP BY 1\n",
            " ORDER BY 2 DESC\n",
            " LIMIT 10\n",
            ";\n",
            "\n",
            "   product_id  F_1ST\n",
            "0       24852    117\n",
            "1       13176     62\n",
            "2       27845     37\n",
            "3       21137     31\n",
            "4       21903     27\n",
            "5       47209     24\n",
            "6       19660     18\n",
            "7       16797     17\n",
            "8       12341     16\n",
            "9        5785     16\n",
            "/content/drive/MyDrive/result/6w/2_4_5카트에가장먼저넣는상품10개.csv\n"
          ]
        }
      ]
    },
    {
      "cell_type": "markdown",
      "metadata": {
        "id": "YW0PqKNF6a8B"
      },
      "source": [
        "## 5) 시간별 주문 건수 (사전녹화)"
      ]
    },
    {
      "cell_type": "markdown",
      "metadata": {
        "id": "GHmKlkAe8Doq"
      },
      "source": [
        "*   ORDERS의 ORDER_HOUR_OF_DAY로 그룹핑한 뒤, ORDER_ID를 카운트 함\n",
        "*   ORDER_ID에 중복이 있을 수 있어 DISTINCT를 추가해 중복을 제거함 (예제에는 중복이 없음)"
      ]
    },
    {
      "cell_type": "code",
      "metadata": {
        "colab": {
          "base_uri": "https://localhost:8080/"
        },
        "id": "DRD_VBFRUs9l",
        "outputId": "81ff410f-251c-4396-a78d-cc7fb6c8e249"
      },
      "source": [
        "sql = f\"\"\"\n",
        "SELECT ORDER_HOUR_OF_DAY\n",
        "     , COUNT(DISTINCT ORDER_ID) F\n",
        "  FROM ORDERS\n",
        " GROUP BY 1\n",
        " ORDER BY 1;\n",
        "\"\"\"\n",
        "sql_result(sql,'2_5_1시간별주문건수')"
      ],
      "execution_count": 40,
      "outputs": [
        {
          "output_type": "stream",
          "name": "stdout",
          "text": [
            "\n",
            "SELECT ORDER_HOUR_OF_DAY\n",
            "     , COUNT(DISTINCT ORDER_ID) F\n",
            "  FROM ORDERS\n",
            " GROUP BY 1\n",
            " ORDER BY 1;\n",
            "\n",
            "   order_hour_of_day    F\n",
            "0                  0   21\n",
            "1                  1   12\n",
            "2                  2    3\n",
            "3                  3    7\n",
            "4                  4    2\n",
            "5                  5    4\n",
            "6                  6   33\n",
            "7                  7   95\n",
            "8                  8  163\n",
            "9                  9  239\n",
            "/content/drive/MyDrive/result/6w/2_5_1시간별주문건수.csv\n"
          ]
        }
      ]
    },
    {
      "cell_type": "markdown",
      "metadata": {
        "id": "D6cosB1G6a5P"
      },
      "source": [
        "## 6) 첫 구매 후 다음 구매까지 걸린 평균 일수"
      ]
    },
    {
      "cell_type": "markdown",
      "metadata": {
        "id": "CgPgNDxV8Hx_"
      },
      "source": [
        "*   ORDERS 테이블에서 DAYS_SINCE_PRIOR_ORDER는 이전 주문이 이루어진 지 며칠 뒤에 구매가 이루어졌는지를 나타내는 값 임\n",
        "*   주문 번호의 ORDERS_NUMBER가 2인(유저의 2번째 주문 건) DAYS_SINCE_PRIOR_ORDERS는 첫 구매 후 다음 구매까지 걸린 기간이 됨\n",
        "*   해당 기간의 평균을 구하면 첫 구매 후 다음 구매까지 걸린 평균 일수를 계산할 수 있음"
      ]
    },
    {
      "cell_type": "code",
      "metadata": {
        "colab": {
          "base_uri": "https://localhost:8080/"
        },
        "id": "_bwzLh7UVKY2",
        "outputId": "2972eab2-d1fa-4fe1-c654-909066f57eee"
      },
      "source": [
        "# order number가 2인 것 빼내기 위함\n",
        "sql = f\"\"\"\n",
        "SELECT AVG(DAYS_SINCE_PRIOR_ORDER) AVG_RECENCY\n",
        "  FROM ORDERS\n",
        " WHERE ORDER_NUMBER = 2 \n",
        ";\n",
        "\"\"\"\n",
        "sql_result(sql,'2_6_1첫구매후다음구매까지걸린평균일수')"
      ],
      "execution_count": 41,
      "outputs": [
        {
          "output_type": "stream",
          "name": "stdout",
          "text": [
            "\n",
            "SELECT AVG(DAYS_SINCE_PRIOR_ORDER) AVG_RECENCY\n",
            "  FROM ORDERS\n",
            " WHERE ORDER_NUMBER = 2 \n",
            ";\n",
            "\n",
            "   AVG_RECENCY\n",
            "0    13.651786\n",
            "/content/drive/MyDrive/result/6w/2_6_1첫구매후다음구매까지걸린평균일수.csv\n"
          ]
        }
      ]
    },
    {
      "cell_type": "markdown",
      "metadata": {
        "id": "ab1rydCh6a2i"
      },
      "source": [
        "## 7) 주문 건당 평균 구매 상품 수(UPT, Unit Per Transaction)"
      ]
    },
    {
      "cell_type": "markdown",
      "metadata": {
        "id": "-npCAruC8K7D"
      },
      "source": [
        "*   PRODUCT_ID를 카운트해 상품 개수를 계산하고, 이를 주문 건수로 나누어 주문 1건에 평균적으로 몇 개의 상품을 구매하는지 파악할 수 있음"
      ]
    },
    {
      "cell_type": "code",
      "metadata": {
        "colab": {
          "base_uri": "https://localhost:8080/"
        },
        "id": "Bsm2CtBpVXfN",
        "outputId": "bccb65cb-d1f5-42ec-d489-28fbdb6edcf7"
      },
      "source": [
        "# 건 상품 수\n",
        "# 주문 건당 평균 구매 상품 수. 주문 한 개에 몇 개의 상품이 달려있는지. basket 안에 몇 개의 상품이 들어있는가.\n",
        "# product id를 count하면 상품 개수 구할 수 있음. 이거를 주문 건수로 나누면 한 건에 평균 몇 개를 구매하는지 파악 가능\n",
        "# 전략이나 서비스 정책 세우기 위해... 몇 개를 담는지 확인해야함!\n",
        "# COUNT는 집계 함수. DISTINCT를 사용함으로써 unique함 살릴 수 있음.\n",
        "# 0.0을 왜 더하는가? : sqlite3는 기업에서 쓰는 용도가 아님... 원래 휴대폰같은 곳에서 데이터 저장하고 관리하는 db...라서 숫자같은 걸 버림함...\n",
        "#                       data type을 변경해주는 방식... 약간 int형에서 float형으로 바꿔주는 거지.\n",
        "\n",
        "sql = f\"\"\"\n",
        "SELECT (COUNT(PRODUCT_ID) + 0.0)/(COUNT(DISTINCT ORDER_ID) + 0.0) UPT\n",
        "  FROM ORDER_PRODUCTS__PRIOR\n",
        ";\n",
        "\"\"\"\n",
        "sql_result(sql,'2_7_1주문건당평균구매상품수')"
      ],
      "execution_count": 42,
      "outputs": [
        {
          "output_type": "stream",
          "name": "stdout",
          "text": [
            "\n",
            "SELECT (COUNT(PRODUCT_ID) + 0.0)/(COUNT(DISTINCT ORDER_ID) + 0.0) UPT\n",
            "  FROM ORDER_PRODUCTS__PRIOR\n",
            ";\n",
            "\n",
            "         UPT\n",
            "0  10.046671\n",
            "/content/drive/MyDrive/result/6w/2_7_1주문건당평균구매상품수.csv\n"
          ]
        }
      ]
    },
    {
      "cell_type": "markdown",
      "metadata": {
        "id": "piaptqmC6azj"
      },
      "source": [
        "## 8) 인당 평균 주문 건수"
      ]
    },
    {
      "cell_type": "markdown",
      "metadata": {
        "id": "5ypcHfel8Mjo"
      },
      "source": [
        "*   거래당 구매 상품 수를 구했듯이, 전체 주문 건수를 구매자 수로 나누어 인당 평균 주문 건수를 계산할 수 있음\n",
        "*   PRODUCT_ID를 카운트해 상품 개수를 계산하고, 이를 주문 건수로 나누어 주문 1건에 평균적으로 몇 개의 상품을 구매하는지 파악할 수 있음"
      ]
    },
    {
      "cell_type": "code",
      "metadata": {
        "colab": {
          "base_uri": "https://localhost:8080/"
        },
        "id": "6b3jsXQhVylO",
        "outputId": "d86a79c4-c5fe-46ee-dc26-a2511c5e5373"
      },
      "source": [
        "# order id와 user id에 distinct 걸었음... 걸어주는 게 좋은 습관이긴 해... 중복 안 된다는 보장이 없음\n",
        "# 근데 distinct 안 걸어도 결과가 동일하게 나오긴 함.\n",
        "\n",
        "sql = f\"\"\"\n",
        "SELECT (COUNT(DISTINCT ORDER_ID)+0.0)/(COUNT(DISTINCT USER_ID)+0.0) AVG_F\n",
        "  FROM ORDERS;\n",
        "\"\"\"\n",
        "sql_result(sql,'2_8_1인당평균주문건수')"
      ],
      "execution_count": 43,
      "outputs": [
        {
          "output_type": "stream",
          "name": "stdout",
          "text": [
            "\n",
            "SELECT (COUNT(DISTINCT ORDER_ID)+0.0)/(COUNT(DISTINCT USER_ID)+0.0) AVG_F\n",
            "  FROM ORDERS;\n",
            "\n",
            "     AVG_F\n",
            "0  1.01931\n",
            "/content/drive/MyDrive/result/6w/2_8_1인당평균주문건수.csv\n"
          ]
        }
      ]
    },
    {
      "cell_type": "markdown",
      "metadata": {
        "id": "-gcm1grH6awv"
      },
      "source": [
        "## 9) 재구매율이 가장 높은 상품 10개"
      ]
    },
    {
      "cell_type": "markdown",
      "metadata": {
        "id": "ISL8m_mm8OO3"
      },
      "source": [
        "*   상품별로 재구매율을 계산한 뒤, 재구매율을 기준으로 순위를 계산함\n",
        "*   순위를 기준으로 원하는 순위값(1~10)으로 조건을 생성함"
      ]
    },
    {
      "cell_type": "markdown",
      "metadata": {
        "id": "rCd7_RN17CMP"
      },
      "source": [
        "### *STEP1 : 상품별 재구매율 계산"
      ]
    },
    {
      "cell_type": "markdown",
      "metadata": {
        "id": "G2nRkgzo8Psk"
      },
      "source": [
        "*   상품 번호로 데이터를 그룹핑하고, 재구매 수(SUM(CASE WHEN REORDERED=1 THEN 1 ELSE 0 END)를 전체 구매 수(COUNT(*))로 나누어 재구매율을 계산함"
      ]
    },
    {
      "cell_type": "code",
      "metadata": {
        "colab": {
          "base_uri": "https://localhost:8080/"
        },
        "id": "ToZiUoHIWBSZ",
        "outputId": "1e5508c4-16ee-4c31-8315-6633556dac79"
      },
      "source": [
        "# 재구매인지 아닌지 알기 위해 reordered 사용함. 재구매의 경우 reordered.\n",
        "# case when이 약간 if같은 그런 느낌인가봐... 재주문이면 1로 바꾸고, 아니면 0으로.\n",
        "# 1로 바꾼 이유 : 더해주기 위해서...\n",
        "# 재구매건수 / 전체 건수 == 재구매율\n",
        "# 주문 전체 건수가 작으면 작을수록 재구매율이 높게 나올 수 있음.\n",
        "\n",
        "sql = f\"\"\"\n",
        "SELECT PRODUCT_ID\n",
        "-- 재구매율 계산\n",
        "     , SUM(CASE WHEN REORDERED =1 THEN 1 ELSE 0 END + 0.0)/COUNT(*) RET_RATIO\n",
        "  FROM ORDER_PRODUCTS__PRIOR\n",
        " GROUP BY 1\n",
        ";\n",
        "\"\"\"\n",
        "sql_result(sql,'2_9_1상품별재구매율계산')"
      ],
      "execution_count": 44,
      "outputs": [
        {
          "output_type": "stream",
          "name": "stdout",
          "text": [
            "\n",
            "SELECT PRODUCT_ID\n",
            "-- 재구매율 계산\n",
            "     , SUM(CASE WHEN REORDERED =1 THEN 1 ELSE 0 END + 0.0)/COUNT(*) RET_RATIO\n",
            "  FROM ORDER_PRODUCTS__PRIOR\n",
            " GROUP BY 1\n",
            ";\n",
            "\n",
            "   product_id  RET_RATIO\n",
            "0           1   0.333333\n",
            "1          10   0.500000\n",
            "2          11   0.000000\n",
            "3          23   1.000000\n",
            "4          25   1.000000\n",
            "5          29   1.000000\n",
            "6          32   1.000000\n",
            "7          34   0.333333\n",
            "8          35   0.000000\n",
            "9          37   1.000000\n",
            "/content/drive/MyDrive/result/6w/2_9_1상품별재구매율계산.csv\n"
          ]
        }
      ]
    },
    {
      "cell_type": "markdown",
      "metadata": {
        "id": "9REKQk3D7E-r"
      },
      "source": [
        "### *STEP2 : 재구매율로 랭크(순위)열 생성하기"
      ]
    },
    {
      "cell_type": "markdown",
      "metadata": {
        "id": "nEu8oFhM8RDO"
      },
      "source": [
        "*   상품별 재구매율로 순위를 생성함\n",
        "*   재구매율(RET_RATIO)로 순위를 매기려면, 앞의 결과를 SUBQUERY로 생성하고, SELECT문에서 ROW_NUMBER/RANK 중 하나를 선택해 순위 열을 생성함"
      ]
    },
    {
      "cell_type": "code",
      "metadata": {
        "colab": {
          "base_uri": "https://localhost:8080/"
        },
        "id": "u9Bi59GUWBsS",
        "outputId": "bb4e6896-0d38-4c31-b88d-f8e24fbad7ed"
      },
      "source": [
        "# rank number는 순위가 같으면 그냥 같은 값으로 넣어주는데\n",
        "# row number는 순위 같던 말던 그냥 index 형태로 숫자 와르륵 넣어줌\n",
        "# 재구매율이 높은 item을 1등으로 하기 위해서 order by(정렬), descending(내림차순) 적용\n",
        "\n",
        "sql = f\"\"\"\n",
        "SELECT *\n",
        "-- 순위 계산\n",
        "     , ROW_NUMBER() OVER(ORDER BY RET_RATIO DESC) RNK   /* subquery로 순위 계산 */\n",
        "  FROM (\n",
        "SELECT PRODUCT_ID\n",
        "     , SUM(CASE WHEN REORDERED =1 THEN 1 ELSE 0 END + 0.0)/COUNT(*) RET_RATIO\n",
        "  FROM ORDER_PRODUCTS__PRIOR\n",
        "GROUP BY 1\n",
        "    ) A\n",
        ";\n",
        "\"\"\"\n",
        "sql_result(sql,'2_9_2재구매율로랭크(순위)열생성하기')"
      ],
      "execution_count": 45,
      "outputs": [
        {
          "output_type": "stream",
          "name": "stdout",
          "text": [
            "\n",
            "SELECT *\n",
            "-- 순위 계산\n",
            "     , ROW_NUMBER() OVER(ORDER BY RET_RATIO DESC) RNK   /* subquery로 순위 계산 */\n",
            "  FROM (\n",
            "SELECT PRODUCT_ID\n",
            "     , SUM(CASE WHEN REORDERED =1 THEN 1 ELSE 0 END + 0.0)/COUNT(*) RET_RATIO\n",
            "  FROM ORDER_PRODUCTS__PRIOR\n",
            "GROUP BY 1\n",
            "    ) A\n",
            ";\n",
            "\n",
            "   PRODUCT_ID  RET_RATIO  RNK\n",
            "0          23        1.0    1\n",
            "1          25        1.0    2\n",
            "2          29        1.0    3\n",
            "3          32        1.0    4\n",
            "4          37        1.0    5\n",
            "5          40        1.0    6\n",
            "6          47        1.0    7\n",
            "7         101        1.0    8\n",
            "8         106        1.0    9\n",
            "9         128        1.0   10\n",
            "/content/drive/MyDrive/result/6w/2_9_2재구매율로랭크(순위)열생성하기.csv\n"
          ]
        }
      ]
    },
    {
      "cell_type": "markdown",
      "metadata": {
        "id": "O76nhD4b7FSi"
      },
      "source": [
        "### *STEP3 : TOP 10(재구매율)상품 추출 "
      ]
    },
    {
      "cell_type": "markdown",
      "metadata": {
        "id": "42UBumFO8SZ4"
      },
      "source": [
        "*   생성한 순위열의 값이 1~10 사이인 데이터를 조회하려면, 앞의 결과를 SUBQUERY로 생성하고, WHERE절에서 RNK BETWEEN 1 AND 10을 선택함"
      ]
    },
    {
      "cell_type": "code",
      "metadata": {
        "colab": {
          "base_uri": "https://localhost:8080/"
        },
        "id": "W07a4jHyWCNW",
        "outputId": "d97fc38a-e25f-4cae-ad17-b385c5f79d8a"
      },
      "source": [
        "# 재구매율이 높은 top 10개 뽑기!\n",
        "# rnk(rank) 만들어둔 거에서 1에서 10까지 선택하기. (한 번 더 subquery 씌워야 함.)\n",
        "# sql 사용하는 이유 : 큰 데이터 다루기 위해...\n",
        "\n",
        "sql = f\"\"\"\n",
        "SELECT *\n",
        "  FROM (\n",
        "SELECT *\n",
        "     , ROW_NUMBER() OVER(ORDER BY RET_RATIO DESC) RNK\n",
        "  FROM (\n",
        "SELECT PRODUCT_ID\n",
        "     , SUM(CASE WHEN REORDERED =1 THEN 1 ELSE 0 END + 0.0)/COUNT(*) RET_RATIO\n",
        "  FROM ORDER_PRODUCTS__PRIOR\n",
        " GROUP BY 1\n",
        "     ) A\n",
        "     ) A -- WHERE절 입력을 위해 서브쿼리 사용\n",
        " WHERE RNK BETWEEN 1 AND 10 -- RNK 1~10 선택\n",
        ";\n",
        "\"\"\"\n",
        "sql_result(sql,'2_9_3TOP10(재구매율)상품추출')"
      ],
      "execution_count": 46,
      "outputs": [
        {
          "output_type": "stream",
          "name": "stdout",
          "text": [
            "\n",
            "SELECT *\n",
            "  FROM (\n",
            "SELECT *\n",
            "     , ROW_NUMBER() OVER(ORDER BY RET_RATIO DESC) RNK\n",
            "  FROM (\n",
            "SELECT PRODUCT_ID\n",
            "     , SUM(CASE WHEN REORDERED =1 THEN 1 ELSE 0 END + 0.0)/COUNT(*) RET_RATIO\n",
            "  FROM ORDER_PRODUCTS__PRIOR\n",
            " GROUP BY 1\n",
            "     ) A\n",
            "     ) A -- WHERE절 입력을 위해 서브쿼리 사용\n",
            " WHERE RNK BETWEEN 1 AND 10 -- RNK 1~10 선택\n",
            ";\n",
            "\n",
            "   PRODUCT_ID  RET_RATIO  RNK\n",
            "0          23        1.0    1\n",
            "1          25        1.0    2\n",
            "2          29        1.0    3\n",
            "3          32        1.0    4\n",
            "4          37        1.0    5\n",
            "5          40        1.0    6\n",
            "6          47        1.0    7\n",
            "7         101        1.0    8\n",
            "8         106        1.0    9\n",
            "9         128        1.0   10\n",
            "/content/drive/MyDrive/result/6w/2_9_3TOP10(재구매율)상품추출.csv\n"
          ]
        }
      ]
    },
    {
      "cell_type": "markdown",
      "metadata": {
        "id": "onzB1NeN6_oO"
      },
      "source": [
        "## 10) Department별 재구매율이 가장 높은 상품 10개"
      ]
    },
    {
      "cell_type": "markdown",
      "metadata": {
        "id": "7UQDKo388Unl"
      },
      "source": [
        "*앞에서 상품별로 재구매율을 구한 뒤 재구매율이 가장 높은 상품 10개를 추출했다. Department별로 재구매율이 높은 상위 10개 상품을 추출하려면 어떻게 해야 할까?*\n",
        "\t\t"
      ]
    },
    {
      "cell_type": "markdown",
      "metadata": {
        "id": "4QgVrNGoWi6z"
      },
      "source": [
        "*   Department별로 재구매율이 높은 상품을 추출하려면, Department별, 상품별 재구매율을 계산함\n",
        "*   Department로 Partition을 생성한 뒤 순위를 계산하면 됨\n",
        "*   최종적으로 원하는 조건(RNK:1~10)을 생성하면, Department별 재구매율 상위 10개의 데이터를 추출할 수 있음\n",
        "\t\t"
      ]
    },
    {
      "cell_type": "markdown",
      "metadata": {
        "id": "InxWfkB0WiuJ"
      },
      "source": [
        "*위의 예제에서 추가된 내용은 ORDERS_PRODUCT_PRIOR에 PRODUCTS 테이블을 조인해 DEPARTMENT를 가져와야 한다는 점과 DEPARTMENT로 PARTITION을 생성해 순위를 매겨야 한다는 점이다.*"
      ]
    },
    {
      "cell_type": "code",
      "metadata": {
        "colab": {
          "base_uri": "https://localhost:8080/"
        },
        "id": "mkOw1eexWmXP",
        "outputId": "8255857f-02b9-4ed9-a057-c63c039695cb"
      },
      "source": [
        "# 앞이랑 똑같은데 다른 점이 있다면 department별로 group by 시켜주는 거!\n",
        "# department 바로 연결 안 돼서 product table이랑 연결함... 그 안에서의 departments까지도 접근 시도\n",
        "# 와 뭔소린지 전혀 모르겠음... 큰일났네...^^\n",
        "# groupby를 department별로 한 번, product별로 한 번 하면 department별 재구매율의 rank 나옴\n",
        "# product id는 department의 id에 대해 N:1의 관계. (정장이 가전이랑 의류 양쪽에 들어갈 순 없잖아.)\n",
        "# 두 번에 걸쳐서 group by해줘도 되긴 한데 한 번에 하는 게 낫지 않겠어?.? (예제에서도 붙여주고 있음)\n",
        "# sqlite는 굉장히 high level language,,, 한 눈에 알아볼 수 있잖아... 함수가 그 의미를 다 바로 담고 있잖아\n",
        "# partition by department : department별로 나눈다!\n",
        "# descend 걸면 큰 값에서 점점 내려가는 걸로...\n",
        "# rank를 subquery로 감싸줘서 뽑음\n",
        "\n",
        "sql = f\"\"\"\n",
        "SELECT *\n",
        "  FROM (\n",
        "SELECT *\n",
        "\n",
        "-- PARTITION BY DEPARTMENT 부서별 순위 계산\n",
        "     , ROW_NUMBER() OVER (PARTITION BY DEPARTMENT ORDER BY RET_RATIO DESC) RNK\n",
        "\n",
        "  FROM (\n",
        "SELECT C.DEPARTMENT --Department 추가\n",
        "     , A.PRODUCT_ID\n",
        "     , SUM(CASE WHEN REORDERED =1 THEN 1 ELSE 0 END + 0.0)/COUNT(*) RET_RATIO\n",
        "  FROM ORDER_PRODUCTS__PRIOR A\n",
        "\n",
        "--departments를 추가하기 위해서 products 테이블 추가\n",
        "  LEFT JOIN PRODUCTS B ON A.PRODUCT_ID = B.PRODUCT_ID\n",
        "\n",
        "--departments 테이블 추가\n",
        "  LEFT JOIN DEPARTMENTS C ON B.DEPARTMENT_ID = C.DEPARTMENT_ID\n",
        "\n",
        " GROUP BY 1,2\n",
        "     ) A\n",
        "\n",
        "     ) A -- WHERE절 입력을 위해 서브쿼리 사용\n",
        " WHERE RNK BETWEEN 1 AND 10\n",
        ";\n",
        "\"\"\"\n",
        "sql_result(sql,'2_10_1Department별상품10개')"
      ],
      "execution_count": 47,
      "outputs": [
        {
          "output_type": "stream",
          "name": "stdout",
          "text": [
            "\n",
            "SELECT *\n",
            "  FROM (\n",
            "SELECT *\n",
            "\n",
            "-- PARTITION BY DEPARTMENT 부서별 순위 계산\n",
            "     , ROW_NUMBER() OVER (PARTITION BY DEPARTMENT ORDER BY RET_RATIO DESC) RNK\n",
            "\n",
            "  FROM (\n",
            "SELECT C.DEPARTMENT --Department 추가\n",
            "     , A.PRODUCT_ID\n",
            "     , SUM(CASE WHEN REORDERED =1 THEN 1 ELSE 0 END + 0.0)/COUNT(*) RET_RATIO\n",
            "  FROM ORDER_PRODUCTS__PRIOR A\n",
            "\n",
            "--departments를 추가하기 위해서 products 테이블 추가\n",
            "  LEFT JOIN PRODUCTS B ON A.PRODUCT_ID = B.PRODUCT_ID\n",
            "\n",
            "--departments 테이블 추가\n",
            "  LEFT JOIN DEPARTMENTS C ON B.DEPARTMENT_ID = C.DEPARTMENT_ID\n",
            "\n",
            " GROUP BY 1,2\n",
            "     ) A\n",
            "\n",
            "     ) A -- WHERE절 입력을 위해 서브쿼리 사용\n",
            " WHERE RNK BETWEEN 1 AND 10\n",
            ";\n",
            "\n",
            "  DEPARTMENT  PRODUCT_ID  RET_RATIO  RNK\n",
            "0    alcohol        1168        1.0    1\n",
            "1    alcohol        2054        1.0    2\n",
            "2    alcohol        3828        1.0    3\n",
            "3    alcohol        5146        1.0    4\n",
            "4    alcohol        5470        1.0    5\n",
            "5    alcohol        6263        1.0    6\n",
            "6    alcohol       11541        1.0    7\n",
            "7    alcohol       13303        1.0    8\n",
            "8    alcohol       14974        1.0    9\n",
            "9    alcohol       15248        1.0   10\n",
            "/content/drive/MyDrive/result/6w/2_10_1Department별상품10개.csv\n"
          ]
        }
      ]
    }
  ]
}